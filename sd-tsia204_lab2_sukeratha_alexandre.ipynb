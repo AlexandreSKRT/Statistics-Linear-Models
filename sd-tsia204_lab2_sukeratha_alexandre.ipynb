{
 "cells": [
  {
   "attachments": {},
   "cell_type": "markdown",
   "metadata": {},
   "source": [
    "# sd-tsia204_lab2_sukeratha_alexandre\n",
    "Author : SUKERATHA Alexandre"
   ]
  },
  {
   "cell_type": "code",
   "execution_count": 79,
   "metadata": {},
   "outputs": [
    {
     "name": "stdout",
     "output_type": "stream",
     "text": [
      "filename : sd-tsia204_lab2_sukeratha_alexandre.ipynb\n"
     ]
    }
   ],
   "source": [
    "# Change here using YOUR own first and last names\n",
    "fn1 = \"alexandre\"\n",
    "ln1 = \"sukeratha\"\n",
    "filename = \"_\".join(map(lambda s: s.strip().lower(),\n",
    "[\"SD-TSIA204_lab2\", ln1, fn1])) + \".ipynb\"\n",
    "\n",
    "# Printing filename \n",
    "print(f'filename : {filename}')"
   ]
  },
  {
   "attachments": {},
   "cell_type": "markdown",
   "metadata": {},
   "source": [
    "## Importing libraries"
   ]
  },
  {
   "cell_type": "code",
   "execution_count": 80,
   "metadata": {},
   "outputs": [],
   "source": [
    "# Data basics\n",
    "import math\n",
    "import numpy as np\n",
    "import pandas as pd\n",
    "\n",
    "# ML - Sklearn essentials\n",
    "from sklearn import linear_model\n",
    "from sklearn.metrics import r2_score\n",
    "from sklearn.metrics import mean_squared_error\n",
    "from sklearn.model_selection import train_test_split\n",
    "\n",
    "# ML - Sklearn models\n",
    "from sklearn.linear_model import ElasticNet\n",
    "from sklearn.preprocessing import StandardScaler\n",
    "from sklearn.linear_model import LinearRegression\n",
    "from sklearn.feature_selection import SequentialFeatureSelector\n",
    "\n",
    "# Plot \n",
    "import plotly.express as px\n",
    "from tabulate import tabulate\n",
    "import matplotlib.pyplot as plt\n",
    "\n",
    "# StatsModel\n",
    "from scipy import stats\n",
    "from scipy.stats import t\n",
    "from scipy.stats import f\n",
    "import statsmodels.api as sm\n",
    "\n",
    "# Warnings\n",
    "import warnings\n",
    "warnings.filterwarnings(\"ignore\")"
   ]
  },
  {
   "attachments": {},
   "cell_type": "markdown",
   "metadata": {},
   "source": [
    "***\n",
    "## Table of contents\n",
    "* **[Part 1. Preprocess the Data](#chapter1)**\n",
    "    * [1.a Random seed](#section_1_a)\n",
    "    * [1.b Load the Data](#section_1_b)\n",
    "    * [1.c Standardizing the Data](#section_1_c)\n",
    "    * [1.d Regular OLS regression](#section_1_d)\n",
    "    * [1.e Store the R2 coefficient in df_coef](#section_1_e)\n",
    "* **[Part 2. Variable Selection](#chapter2)**\n",
    "    * [2. Forward Variable Selection method](#section_2)\n",
    "    * [3.a OLS regression on the variables with a p-value smaller than 0.05](#section_3_a)\n",
    "    * [3.b Store the R2 coefficient in df_coef](#section_3_b)\n",
    "    * [4.a Use SequentialFeatureSelector on a linear regression estimator select](#section_3_b)\n",
    "* **[Part 3. Ridge](#chapter3)**\n",
    "    * [5. Ridge estimator](#section_5)\n",
    "    * [5.a Plot how the values of the coefficients change with $\\alpha$](#section_5_a)\n",
    "    * [5.b Plot how MSE of both the train and test sets change with $\\alpha$](#section_5_b)\n",
    "    * [5.c Store the R2 coefficient in df_coef](#section_5_c)\n",
    "* **[Part 4. Crossvalidation, Lasso and elastic net](#chapter4)**\n",
    "    * [6.a sklearn version of the Lasso](#section_6_a)\n",
    "    * [6.b Plot the number of coefficients that are different from $0$ for each value of $\\alpha$](#section_6_b)\n",
    "    * [6.c Plot how MSE of both the train and test sets change with $\\alpha$](#section_6_c)\n",
    "    * [7. CrossValidation](#section_7)\n",
    "* **[Part 5. Bootstrap](#chapter5)**\n",
    "    * [8. Regression lines](#section_8)\n",
    "* **[Part 6. PCA](#chapter6)**\n",
    "    * [9. Covariance matrix and SVD](#section_9)\n",
    "    * [9.a heatmap of the covariance matrix](#section_9_a)\n",
    "    * [9.b PCA Data transformation](#section_9_b)\n",
    "    * [9.c Plot the amount of variance explained by the first $k$ components](#section_9_c)\n",
    "    * [9.d First 2 PC approximation](#section_9_d)\n",
    "    * [9.e Run OLS on the projected Data](#section_9_e)\n",
    "* **[Part 7. Comparison of the models](#chapter7)**"
   ]
  },
  {
   "attachments": {},
   "cell_type": "markdown",
   "metadata": {},
   "source": [
    "***\n",
    "## Part 1. Preprocess the Data <a class=\"anchor\" id=\"chapter1\"></a>"
   ]
  },
  {
   "attachments": {},
   "cell_type": "markdown",
   "metadata": {},
   "source": [
    "### 1.a Random seed <a class=\"anchor\" id=\"section_1_a\"></a>"
   ]
  },
  {
   "cell_type": "code",
   "execution_count": 81,
   "metadata": {},
   "outputs": [],
   "source": [
    "np.random.seed(0)"
   ]
  },
  {
   "attachments": {},
   "cell_type": "markdown",
   "metadata": {},
   "source": [
    "### 1.b Load the Data <a class=\"anchor\" id=\"section_1_b\"></a>"
   ]
  },
  {
   "cell_type": "code",
   "execution_count": 82,
   "metadata": {},
   "outputs": [
    {
     "data": {
      "text/html": [
       "<div>\n",
       "<style scoped>\n",
       "    .dataframe tbody tr th:only-of-type {\n",
       "        vertical-align: middle;\n",
       "    }\n",
       "\n",
       "    .dataframe tbody tr th {\n",
       "        vertical-align: top;\n",
       "    }\n",
       "\n",
       "    .dataframe thead th {\n",
       "        text-align: right;\n",
       "    }\n",
       "</style>\n",
       "<table border=\"1\" class=\"dataframe\">\n",
       "  <thead>\n",
       "    <tr style=\"text-align: right;\">\n",
       "      <th></th>\n",
       "      <th>V1</th>\n",
       "      <th>V2</th>\n",
       "      <th>V3</th>\n",
       "      <th>V4</th>\n",
       "      <th>V5</th>\n",
       "      <th>V6</th>\n",
       "      <th>V7</th>\n",
       "      <th>V8</th>\n",
       "      <th>V9</th>\n",
       "      <th>V10</th>\n",
       "      <th>...</th>\n",
       "      <th>V92</th>\n",
       "      <th>V93</th>\n",
       "      <th>V94</th>\n",
       "      <th>V95</th>\n",
       "      <th>V96</th>\n",
       "      <th>V97</th>\n",
       "      <th>V98</th>\n",
       "      <th>V99</th>\n",
       "      <th>V100</th>\n",
       "      <th>fat</th>\n",
       "    </tr>\n",
       "  </thead>\n",
       "  <tbody>\n",
       "    <tr>\n",
       "      <th>0</th>\n",
       "      <td>2.61776</td>\n",
       "      <td>2.61814</td>\n",
       "      <td>2.61859</td>\n",
       "      <td>2.61912</td>\n",
       "      <td>2.61981</td>\n",
       "      <td>2.62071</td>\n",
       "      <td>2.62186</td>\n",
       "      <td>2.62334</td>\n",
       "      <td>2.62511</td>\n",
       "      <td>2.62722</td>\n",
       "      <td>...</td>\n",
       "      <td>2.98145</td>\n",
       "      <td>2.96072</td>\n",
       "      <td>2.94013</td>\n",
       "      <td>2.91978</td>\n",
       "      <td>2.89966</td>\n",
       "      <td>2.87964</td>\n",
       "      <td>2.85960</td>\n",
       "      <td>2.83940</td>\n",
       "      <td>2.81920</td>\n",
       "      <td>22.5</td>\n",
       "    </tr>\n",
       "    <tr>\n",
       "      <th>1</th>\n",
       "      <td>2.83454</td>\n",
       "      <td>2.83871</td>\n",
       "      <td>2.84283</td>\n",
       "      <td>2.84705</td>\n",
       "      <td>2.85138</td>\n",
       "      <td>2.85587</td>\n",
       "      <td>2.86060</td>\n",
       "      <td>2.86566</td>\n",
       "      <td>2.87093</td>\n",
       "      <td>2.87661</td>\n",
       "      <td>...</td>\n",
       "      <td>3.29186</td>\n",
       "      <td>3.27921</td>\n",
       "      <td>3.26655</td>\n",
       "      <td>3.25369</td>\n",
       "      <td>3.24045</td>\n",
       "      <td>3.22659</td>\n",
       "      <td>3.21181</td>\n",
       "      <td>3.19600</td>\n",
       "      <td>3.17942</td>\n",
       "      <td>40.1</td>\n",
       "    </tr>\n",
       "    <tr>\n",
       "      <th>2</th>\n",
       "      <td>2.58284</td>\n",
       "      <td>2.58458</td>\n",
       "      <td>2.58629</td>\n",
       "      <td>2.58808</td>\n",
       "      <td>2.58996</td>\n",
       "      <td>2.59192</td>\n",
       "      <td>2.59401</td>\n",
       "      <td>2.59627</td>\n",
       "      <td>2.59873</td>\n",
       "      <td>2.60131</td>\n",
       "      <td>...</td>\n",
       "      <td>2.68951</td>\n",
       "      <td>2.67009</td>\n",
       "      <td>2.65112</td>\n",
       "      <td>2.63262</td>\n",
       "      <td>2.61461</td>\n",
       "      <td>2.59718</td>\n",
       "      <td>2.58034</td>\n",
       "      <td>2.56404</td>\n",
       "      <td>2.54816</td>\n",
       "      <td>8.4</td>\n",
       "    </tr>\n",
       "  </tbody>\n",
       "</table>\n",
       "<p>3 rows × 101 columns</p>\n",
       "</div>"
      ],
      "text/plain": [
       "        V1       V2       V3       V4       V5       V6       V7       V8  \\\n",
       "0  2.61776  2.61814  2.61859  2.61912  2.61981  2.62071  2.62186  2.62334   \n",
       "1  2.83454  2.83871  2.84283  2.84705  2.85138  2.85587  2.86060  2.86566   \n",
       "2  2.58284  2.58458  2.58629  2.58808  2.58996  2.59192  2.59401  2.59627   \n",
       "\n",
       "        V9      V10  ...      V92      V93      V94      V95      V96  \\\n",
       "0  2.62511  2.62722  ...  2.98145  2.96072  2.94013  2.91978  2.89966   \n",
       "1  2.87093  2.87661  ...  3.29186  3.27921  3.26655  3.25369  3.24045   \n",
       "2  2.59873  2.60131  ...  2.68951  2.67009  2.65112  2.63262  2.61461   \n",
       "\n",
       "       V97      V98      V99     V100   fat  \n",
       "0  2.87964  2.85960  2.83940  2.81920  22.5  \n",
       "1  3.22659  3.21181  3.19600  3.17942  40.1  \n",
       "2  2.59718  2.58034  2.56404  2.54816   8.4  \n",
       "\n",
       "[3 rows x 101 columns]"
      ]
     },
     "execution_count": 82,
     "metadata": {},
     "output_type": "execute_result"
    }
   ],
   "source": [
    "df = pd.read_csv('meatspec.csv')\n",
    "df.head(3)"
   ]
  },
  {
   "attachments": {},
   "cell_type": "markdown",
   "metadata": {},
   "source": [
    "We then compute the mean, and standard deviation of every covariate."
   ]
  },
  {
   "cell_type": "code",
   "execution_count": 83,
   "metadata": {},
   "outputs": [
    {
     "name": "stdout",
     "output_type": "stream",
     "text": [
      "Variable       Mean    Standard Deviation\n",
      "----------  -------  --------------------\n",
      "V1          2.80856              0.410793\n",
      "V2          2.81114              0.413352\n",
      "V3          2.81373              0.415906\n",
      "V4          2.81636              0.418465\n",
      "V5          2.8191               0.42104\n",
      "V6          2.82198              0.423635\n",
      "V7          2.82506              0.426245\n",
      "V8          2.82838              0.428866\n",
      "V9          2.83194              0.43151\n",
      "V10         2.83581              0.434195\n",
      "V11         2.83996              0.436906\n",
      "V12         2.84439              0.439653\n",
      "V13         2.84915              0.442446\n",
      "V14         2.85429              0.445303\n",
      "V15         2.85984              0.448239\n",
      "V16         2.86584              0.451257\n",
      "V17         2.87229              0.454356\n",
      "V18         2.87924              0.457546\n",
      "V19         2.88673              0.460843\n",
      "V20         2.89469              0.464272\n",
      "V21         2.90299              0.467797\n",
      "V22         2.91136              0.471355\n",
      "V23         2.91956              0.474864\n",
      "V24         2.92745              0.47826\n",
      "V25         2.93506              0.481541\n",
      "V26         2.94256              0.484774\n",
      "V27         2.95028              0.488073\n",
      "V28         2.95858              0.491629\n",
      "V29         2.96776              0.495564\n",
      "V30         2.97788              0.499945\n",
      "V31         2.98877              0.504694\n",
      "V32         3.00007              0.509635\n",
      "V33         3.01146              0.51455\n",
      "V34         3.02292              0.519277\n",
      "V35         3.03483              0.523824\n",
      "V36         3.04781              0.528329\n",
      "V37         3.06252              0.532875\n",
      "V38         3.07883              0.537384\n",
      "V39         3.09621              0.541553\n",
      "V40         3.11388              0.544953\n",
      "V41         3.13089              0.547071\n",
      "V42         3.14641              0.547488\n",
      "V43         3.16001              0.546067\n",
      "V44         3.17195              0.543051\n",
      "V45         3.18319              0.539009\n",
      "V46         3.19527              0.534691\n",
      "V47         3.20997              0.530815\n",
      "V48         3.22932              0.527899\n",
      "V49         3.25436              0.526103\n",
      "V50         3.28581              0.525422\n",
      "V51         3.32382              0.525806\n",
      "V52         3.36758              0.527147\n",
      "V53         3.41495              0.529258\n",
      "V54         3.46249              0.531843\n",
      "V55         3.50621              0.534567\n",
      "V56         3.54278              0.537113\n",
      "V57         3.57063              0.539249\n",
      "V58         3.59026              0.540874\n",
      "V59         3.60349              0.542105\n",
      "V60         3.61222              0.542989\n",
      "V61         3.61799              0.543699\n",
      "V62         3.62169              0.544263\n",
      "V63         3.62365              0.544765\n",
      "V64         3.62384              0.545177\n",
      "V65         3.62214              0.545499\n",
      "V66         3.61844              0.545687\n",
      "V67         3.61276              0.545771\n",
      "V68         3.6052               0.545746\n",
      "V69         3.59598              0.54569\n",
      "V70         3.58525              0.5456\n",
      "V71         3.57318              0.545468\n",
      "V72         3.5599               0.545309\n",
      "V73         3.54554              0.545167\n",
      "V74         3.53021              0.545045\n",
      "V75         3.51399              0.544887\n",
      "V76         3.49698              0.544649\n",
      "V77         3.47936              0.544448\n",
      "V78         3.46138              0.54429\n",
      "V79         3.44322              0.544269\n",
      "V80         3.42491              0.544326\n",
      "V81         3.40641              0.544481\n",
      "V82         3.38761              0.544677\n",
      "V83         3.3684               0.544868\n",
      "V84         3.34862              0.544988\n",
      "V85         3.32812              0.544925\n",
      "V86         3.30686              0.54464\n",
      "V87         3.28498              0.544125\n",
      "V88         3.26285              0.543489\n",
      "V89         3.24092              0.542884\n",
      "V90         3.21948              0.542428\n",
      "V91         3.19863              0.542146\n",
      "V92         3.17826              0.541957\n",
      "V93         3.15825              0.541776\n",
      "V94         3.13853              0.541519\n",
      "V95         3.1191               0.541135\n",
      "V96         3.09997              0.540563\n",
      "V97         3.08107              0.53973\n",
      "V98         3.06229              0.538586\n",
      "V99         3.04355              0.537108\n",
      "V100        3.02489              0.535354\n"
     ]
    }
   ],
   "source": [
    "headers = [\"Variable\", \"Mean\", \"Standard Deviation\"]\n",
    "table = []\n",
    "\n",
    "for var in df.columns.values.tolist()[:-1]:\n",
    "    mean = df[var].mean()\n",
    "    std_dev = df[var].std()\n",
    "    table.append([var, mean, std_dev])\n",
    "\n",
    "print(tabulate(table, headers))"
   ]
  },
  {
   "cell_type": "code",
   "execution_count": 84,
   "metadata": {},
   "outputs": [
    {
     "data": {
      "text/html": [
       "<div>\n",
       "<style scoped>\n",
       "    .dataframe tbody tr th:only-of-type {\n",
       "        vertical-align: middle;\n",
       "    }\n",
       "\n",
       "    .dataframe tbody tr th {\n",
       "        vertical-align: top;\n",
       "    }\n",
       "\n",
       "    .dataframe thead th {\n",
       "        text-align: right;\n",
       "    }\n",
       "</style>\n",
       "<table border=\"1\" class=\"dataframe\">\n",
       "  <thead>\n",
       "    <tr style=\"text-align: right;\">\n",
       "      <th></th>\n",
       "      <th>V1</th>\n",
       "      <th>V2</th>\n",
       "      <th>V3</th>\n",
       "      <th>V4</th>\n",
       "      <th>V5</th>\n",
       "      <th>V6</th>\n",
       "      <th>V7</th>\n",
       "      <th>V8</th>\n",
       "      <th>V9</th>\n",
       "      <th>V10</th>\n",
       "      <th>...</th>\n",
       "      <th>V92</th>\n",
       "      <th>V93</th>\n",
       "      <th>V94</th>\n",
       "      <th>V95</th>\n",
       "      <th>V96</th>\n",
       "      <th>V97</th>\n",
       "      <th>V98</th>\n",
       "      <th>V99</th>\n",
       "      <th>V100</th>\n",
       "      <th>fat</th>\n",
       "    </tr>\n",
       "  </thead>\n",
       "  <tbody>\n",
       "    <tr>\n",
       "      <th>count</th>\n",
       "      <td>215.000000</td>\n",
       "      <td>215.000000</td>\n",
       "      <td>215.000000</td>\n",
       "      <td>215.000000</td>\n",
       "      <td>215.000000</td>\n",
       "      <td>215.000000</td>\n",
       "      <td>215.000000</td>\n",
       "      <td>215.000000</td>\n",
       "      <td>215.000000</td>\n",
       "      <td>215.000000</td>\n",
       "      <td>...</td>\n",
       "      <td>215.000000</td>\n",
       "      <td>215.000000</td>\n",
       "      <td>215.000000</td>\n",
       "      <td>215.000000</td>\n",
       "      <td>215.000000</td>\n",
       "      <td>215.00000</td>\n",
       "      <td>215.00000</td>\n",
       "      <td>215.000000</td>\n",
       "      <td>215.000000</td>\n",
       "      <td>215.000000</td>\n",
       "    </tr>\n",
       "    <tr>\n",
       "      <th>mean</th>\n",
       "      <td>2.808561</td>\n",
       "      <td>2.811137</td>\n",
       "      <td>2.813727</td>\n",
       "      <td>2.816363</td>\n",
       "      <td>2.819098</td>\n",
       "      <td>2.821983</td>\n",
       "      <td>2.825064</td>\n",
       "      <td>2.828375</td>\n",
       "      <td>2.831943</td>\n",
       "      <td>2.835813</td>\n",
       "      <td>...</td>\n",
       "      <td>3.178262</td>\n",
       "      <td>3.158254</td>\n",
       "      <td>3.138534</td>\n",
       "      <td>3.119104</td>\n",
       "      <td>3.099971</td>\n",
       "      <td>3.08107</td>\n",
       "      <td>3.06229</td>\n",
       "      <td>3.043548</td>\n",
       "      <td>3.024895</td>\n",
       "      <td>18.142326</td>\n",
       "    </tr>\n",
       "  </tbody>\n",
       "</table>\n",
       "<p>2 rows × 101 columns</p>\n",
       "</div>"
      ],
      "text/plain": [
       "               V1          V2          V3          V4          V5          V6  \\\n",
       "count  215.000000  215.000000  215.000000  215.000000  215.000000  215.000000   \n",
       "mean     2.808561    2.811137    2.813727    2.816363    2.819098    2.821983   \n",
       "\n",
       "               V7          V8          V9         V10  ...         V92  \\\n",
       "count  215.000000  215.000000  215.000000  215.000000  ...  215.000000   \n",
       "mean     2.825064    2.828375    2.831943    2.835813  ...    3.178262   \n",
       "\n",
       "              V93         V94         V95         V96        V97        V98  \\\n",
       "count  215.000000  215.000000  215.000000  215.000000  215.00000  215.00000   \n",
       "mean     3.158254    3.138534    3.119104    3.099971    3.08107    3.06229   \n",
       "\n",
       "              V99        V100         fat  \n",
       "count  215.000000  215.000000  215.000000  \n",
       "mean     3.043548    3.024895   18.142326  \n",
       "\n",
       "[2 rows x 101 columns]"
      ]
     },
     "execution_count": 84,
     "metadata": {},
     "output_type": "execute_result"
    }
   ],
   "source": [
    "# Describing the DataSet\n",
    "df.describe().iloc[:2]"
   ]
  },
  {
   "attachments": {},
   "cell_type": "markdown",
   "metadata": {},
   "source": [
    "The Data is not centered therefore not normalized. Values are not comprised between $0$ and $1$, the Data isn't standardized."
   ]
  },
  {
   "attachments": {},
   "cell_type": "markdown",
   "metadata": {},
   "source": [
    "### 1.c Standardizing the Data <a class=\"anchor\" id=\"section_1_c\"></a>"
   ]
  },
  {
   "cell_type": "code",
   "execution_count": 85,
   "metadata": {},
   "outputs": [],
   "source": [
    "# Dependant and explicative variables\n",
    "x = df.drop([\"fat\"], axis=1)\n",
    "y = df[\"fat\"]\n",
    "\n",
    "# Splitting the data in train and test sets\n",
    "x_training_data, x_test_data, y_training_data, y_test_data = train_test_split(\n",
    "    x, y, test_size=0.25, random_state=0\n",
    ")\n",
    "\n",
    "# Standardizing the data\n",
    "scaler = StandardScaler()\n",
    "\n",
    "x_training_data_std = scaler.fit_transform(x_training_data)\n",
    "x_test_data_std = scaler.fit_transform(x_test_data)\n",
    "\n",
    "y_test_data = stats.zscore(y_test_data)\n",
    "y_training_data = stats.zscore(y_training_data)"
   ]
  },
  {
   "attachments": {},
   "cell_type": "markdown",
   "metadata": {},
   "source": [
    "### 1.d Regular OLS regression <a class=\"anchor\" id=\"section_1_d\"></a>"
   ]
  },
  {
   "cell_type": "code",
   "execution_count": 86,
   "metadata": {},
   "outputs": [
    {
     "name": "stdout",
     "output_type": "stream",
     "text": [
      "Variable               Value\n",
      "---------------  -----------\n",
      "Model intercept  6.19087e-12\n"
     ]
    }
   ],
   "source": [
    "# Fit linear regression model using sklearn\n",
    "model = LinearRegression(fit_intercept=True).fit(x_training_data_std, y_training_data)\n",
    "\n",
    "# Printing calculated intercept\n",
    "headers = ['Variable', 'Value']\n",
    "table = [['Model intercept', model.intercept_]]\n",
    "print(tabulate(table, headers))"
   ]
  },
  {
   "attachments": {},
   "cell_type": "markdown",
   "metadata": {},
   "source": [
    "As the calculated value indicates, there is no need to calculate the intercept when we run our OLS model."
   ]
  },
  {
   "attachments": {},
   "cell_type": "markdown",
   "metadata": {},
   "source": [
    "### 1.e Store the R2 coefficient in `df_coef` <a class=\"anchor\" id=\"section_1_e\"></a>"
   ]
  },
  {
   "cell_type": "code",
   "execution_count": 87,
   "metadata": {},
   "outputs": [
    {
     "data": {
      "text/html": [
       "<div>\n",
       "<style scoped>\n",
       "    .dataframe tbody tr th:only-of-type {\n",
       "        vertical-align: middle;\n",
       "    }\n",
       "\n",
       "    .dataframe tbody tr th {\n",
       "        vertical-align: top;\n",
       "    }\n",
       "\n",
       "    .dataframe thead th {\n",
       "        text-align: right;\n",
       "    }\n",
       "</style>\n",
       "<table border=\"1\" class=\"dataframe\">\n",
       "  <thead>\n",
       "    <tr style=\"text-align: right;\">\n",
       "      <th></th>\n",
       "      <th>model</th>\n",
       "      <th>subset</th>\n",
       "      <th>r2 value</th>\n",
       "    </tr>\n",
       "  </thead>\n",
       "  <tbody>\n",
       "    <tr>\n",
       "      <th>0</th>\n",
       "      <td>Baseline OLS regression</td>\n",
       "      <td>train</td>\n",
       "      <td>0.995789</td>\n",
       "    </tr>\n",
       "    <tr>\n",
       "      <th>1</th>\n",
       "      <td>Baseline OLS regression</td>\n",
       "      <td>test</td>\n",
       "      <td>0.86658</td>\n",
       "    </tr>\n",
       "  </tbody>\n",
       "</table>\n",
       "</div>"
      ],
      "text/plain": [
       "                     model subset  r2 value\n",
       "0  Baseline OLS regression  train  0.995789\n",
       "1  Baseline OLS regression   test   0.86658"
      ]
     },
     "execution_count": 87,
     "metadata": {},
     "output_type": "execute_result"
    }
   ],
   "source": [
    "# OLS model\n",
    "model = LinearRegression(fit_intercept=True).fit(x_training_data_std, y_training_data)\n",
    "\n",
    "# Computing R2 scores\n",
    "r2_train = r2_score(y_training_data, model.predict(x_training_data_std))\n",
    "r2_test = r2_score(y_test_data, model.predict(x_test_data_std))\n",
    "\n",
    "# Storing the scores in a DataFrame\n",
    "df_coef = pd.DataFrame(columns=['model', 'subset', 'r2 value'])\n",
    "\n",
    "df_coef = df_coef.append(\n",
    "    {\"r2 value\": r2_train, \"model\": \"Baseline OLS regression\", \"subset\":\"train\",},\n",
    "    ignore_index=True,\n",
    ")\n",
    "df_coef = df_coef.append(\n",
    "    {\"r2 value\": r2_test, \"model\": \"Baseline OLS regression\", \"subset\":\"test\",},\n",
    "    ignore_index=True,\n",
    ").drop_duplicates()\n",
    "\n",
    "# Printing DataFrame\n",
    "df_coef"
   ]
  },
  {
   "attachments": {},
   "cell_type": "markdown",
   "metadata": {},
   "source": [
    "***\n",
    "## Part 2. Variable selection <a class=\"anchor\" id=\"chapter2\"></a>"
   ]
  },
  {
   "attachments": {},
   "cell_type": "markdown",
   "metadata": {},
   "source": [
    "### 2. Forward Variable Selection method <a class=\"anchor\" id=\"section_2\"></a>"
   ]
  },
  {
   "cell_type": "markdown",
   "metadata": {},
   "source": [
    "* **Definition :** `ForwardVariableSelection` is a stepwise regression that starts with an empty model and adds variables one by one. At each step, we add the variable that brings the best improvement to your model. \n",
    "\n",
    "* **Implementation :** For our implementation, we will use the student test as the improvement criterion. At each iteration, the feature with the highest absolute value of the student test will be added to the model."
   ]
  },
  {
   "cell_type": "code",
   "execution_count": 88,
   "metadata": {},
   "outputs": [],
   "source": [
    "class ForwardVariableSelection:\n",
    "    def __init__(self, nb_features=-1):\n",
    "        # Default : all features considered\n",
    "        self.nb_features = nb_features\n",
    "\n",
    "    def fit(self, X, y):\n",
    "        features = np.arange(0, X.shape[1]).tolist()\n",
    "        arrival_list, p_values = [], []\n",
    "        # Initiating the number of features asked\n",
    "        if self.nb_features == -1:\n",
    "            stop = 0\n",
    "        else:\n",
    "            stop = X.shape[1] - self.nb_features\n",
    "        while len(features) > stop:\n",
    "            t_max = -math.inf\n",
    "            for feature in features:\n",
    "                x_fvs = X[:, arrival_list + [feature]]\n",
    "                # OLS regression\n",
    "                model_fvs = sm.OLS(y, sm.add_constant(x_fvs)).fit()\n",
    "                # Retrieving t-test and p-value\n",
    "                p_val = model_fvs.pvalues[-1]\n",
    "                t_val = model_fvs.tvalues[-1]\n",
    "                # Searching for the max\n",
    "                if abs(t_val) >= t_max:\n",
    "                    max_feature = [feature, p_val]\n",
    "                    t_max = abs(t_val)\n",
    "            # Adding the feature to our list of arrivals\n",
    "            arrival_list.append(max_feature[0])\n",
    "            # Removing the feature from the list of remaining features\n",
    "            features.remove(max_feature[0])\n",
    "            # Adding the p-value to our results list\n",
    "            p_values.append(max_feature)\n",
    "        self.arrival_list = arrival_list\n",
    "        self.p_values = p_values\n",
    "        return self"
   ]
  },
  {
   "attachments": {},
   "cell_type": "markdown",
   "metadata": {},
   "source": [
    "We apply the Forward Variable Selection method to out standardized DataSet. We store the order of the variable selection and\n",
    "the associated p-value for each of them in a list `select_order`."
   ]
  },
  {
   "cell_type": "code",
   "execution_count": 89,
   "metadata": {},
   "outputs": [
    {
     "data": {
      "text/html": [
       "<div>\n",
       "<style scoped>\n",
       "    .dataframe tbody tr th:only-of-type {\n",
       "        vertical-align: middle;\n",
       "    }\n",
       "\n",
       "    .dataframe tbody tr th {\n",
       "        vertical-align: top;\n",
       "    }\n",
       "\n",
       "    .dataframe thead th {\n",
       "        text-align: right;\n",
       "    }\n",
       "</style>\n",
       "<table border=\"1\" class=\"dataframe\">\n",
       "  <thead>\n",
       "    <tr style=\"text-align: right;\">\n",
       "      <th></th>\n",
       "      <th>Variable</th>\n",
       "      <th>p-value</th>\n",
       "    </tr>\n",
       "  </thead>\n",
       "  <tbody>\n",
       "    <tr>\n",
       "      <th>0</th>\n",
       "      <td>40</td>\n",
       "      <td>9.966887e-15</td>\n",
       "    </tr>\n",
       "    <tr>\n",
       "      <th>1</th>\n",
       "      <td>19</td>\n",
       "      <td>2.149156e-60</td>\n",
       "    </tr>\n",
       "    <tr>\n",
       "      <th>2</th>\n",
       "      <td>47</td>\n",
       "      <td>2.431086e-26</td>\n",
       "    </tr>\n",
       "    <tr>\n",
       "      <th>3</th>\n",
       "      <td>21</td>\n",
       "      <td>3.235209e-08</td>\n",
       "    </tr>\n",
       "    <tr>\n",
       "      <th>4</th>\n",
       "      <td>0</td>\n",
       "      <td>2.474025e-03</td>\n",
       "    </tr>\n",
       "  </tbody>\n",
       "</table>\n",
       "</div>"
      ],
      "text/plain": [
       "   Variable       p-value\n",
       "0        40  9.966887e-15\n",
       "1        19  2.149156e-60\n",
       "2        47  2.431086e-26\n",
       "3        21  3.235209e-08\n",
       "4         0  2.474025e-03"
      ]
     },
     "execution_count": 89,
     "metadata": {},
     "output_type": "execute_result"
    }
   ],
   "source": [
    "select_order = (\n",
    "    ForwardVariableSelection().fit(x_training_data_std, y_training_data).p_values\n",
    ")\n",
    "df_select_order = pd.DataFrame(select_order, columns=[\"Variable\", \"p-value\"])\n",
    "\n",
    "# Print DataFrame\n",
    "df_select_order.head(5)"
   ]
  },
  {
   "attachments": {},
   "cell_type": "markdown",
   "metadata": {},
   "source": [
    "### 3.a OLS regression on the variables with a p-value smaller than 0.05 <a class=\"anchor\" id=\"section_3_a\"></a>"
   ]
  },
  {
   "attachments": {},
   "cell_type": "markdown",
   "metadata": {},
   "source": [
    "We store the significant variables (p-value less than 0.05) in a list `significant_variables`."
   ]
  },
  {
   "cell_type": "code",
   "execution_count": 90,
   "metadata": {},
   "outputs": [
    {
     "name": "stdout",
     "output_type": "stream",
     "text": [
      "Variable                           Value\n",
      "-------------------------------  -------\n",
      "Number of significant variables       34\n"
     ]
    }
   ],
   "source": [
    "significant_variables = []\n",
    "for pval in select_order:\n",
    "    if pval[1] < 0.05:\n",
    "        significant_variables.append(pval[0])\n",
    "\n",
    "# Length -> Significant variables\n",
    "headers = [\"Variable\", \"Value\"]\n",
    "table = [[\"Number of significant variables\", len(significant_variables)]]\n",
    "print(tabulate(table, headers))"
   ]
  },
  {
   "attachments": {},
   "cell_type": "markdown",
   "metadata": {},
   "source": [
    "We then run an OLS regression on these variables. "
   ]
  },
  {
   "cell_type": "code",
   "execution_count": 91,
   "metadata": {},
   "outputs": [],
   "source": [
    "x_training_fvs, x_test_fvs = (\n",
    "    x_training_data_std[:, significant_variables],\n",
    "    x_test_data_std[:, significant_variables],\n",
    ")\n",
    "model = LinearRegression(fit_intercept=True).fit(x_training_fvs, y_training_data)"
   ]
  },
  {
   "attachments": {},
   "cell_type": "markdown",
   "metadata": {},
   "source": [
    "### 3.b Store the R2 coefficient in `df_coef` <a class=\"anchor\" id=\"section_3_b\"></a>"
   ]
  },
  {
   "attachments": {},
   "cell_type": "markdown",
   "metadata": {},
   "source": [
    "We store the R2 coefficient of our new model in the dataFrame `df_coef`."
   ]
  },
  {
   "cell_type": "code",
   "execution_count": 92,
   "metadata": {},
   "outputs": [
    {
     "data": {
      "text/html": [
       "<div>\n",
       "<style scoped>\n",
       "    .dataframe tbody tr th:only-of-type {\n",
       "        vertical-align: middle;\n",
       "    }\n",
       "\n",
       "    .dataframe tbody tr th {\n",
       "        vertical-align: top;\n",
       "    }\n",
       "\n",
       "    .dataframe thead th {\n",
       "        text-align: right;\n",
       "    }\n",
       "</style>\n",
       "<table border=\"1\" class=\"dataframe\">\n",
       "  <thead>\n",
       "    <tr style=\"text-align: right;\">\n",
       "      <th></th>\n",
       "      <th>model</th>\n",
       "      <th>subset</th>\n",
       "      <th>r2 value</th>\n",
       "    </tr>\n",
       "  </thead>\n",
       "  <tbody>\n",
       "    <tr>\n",
       "      <th>0</th>\n",
       "      <td>Baseline OLS regression</td>\n",
       "      <td>train</td>\n",
       "      <td>0.995789</td>\n",
       "    </tr>\n",
       "    <tr>\n",
       "      <th>1</th>\n",
       "      <td>Baseline OLS regression</td>\n",
       "      <td>test</td>\n",
       "      <td>0.86658</td>\n",
       "    </tr>\n",
       "    <tr>\n",
       "      <th>2</th>\n",
       "      <td>OLS - Forward Variable Selection</td>\n",
       "      <td>train</td>\n",
       "      <td>0.986968</td>\n",
       "    </tr>\n",
       "    <tr>\n",
       "      <th>3</th>\n",
       "      <td>OLS - Forward Variable Selection</td>\n",
       "      <td>test</td>\n",
       "      <td>0.844328</td>\n",
       "    </tr>\n",
       "  </tbody>\n",
       "</table>\n",
       "</div>"
      ],
      "text/plain": [
       "                              model subset  r2 value\n",
       "0           Baseline OLS regression  train  0.995789\n",
       "1           Baseline OLS regression   test   0.86658\n",
       "2  OLS - Forward Variable Selection  train  0.986968\n",
       "3  OLS - Forward Variable Selection   test  0.844328"
      ]
     },
     "execution_count": 92,
     "metadata": {},
     "output_type": "execute_result"
    }
   ],
   "source": [
    "# OLS model\n",
    "x_training_fvs, x_test_fvs = x_training_data_std[:, significant_variables], x_test_data_std[:, significant_variables]\n",
    "model = LinearRegression(fit_intercept=True).fit(x_training_fvs, y_training_data)\n",
    "\n",
    "# Computing R2 scores\n",
    "r2_train = r2_score(y_training_data, model.predict(x_training_fvs))\n",
    "r2_test = r2_score(y_test_data, model.predict(x_test_fvs))\n",
    "\n",
    "# Storing the scores in a DataFrame\n",
    "df_coef = df_coef.append(\n",
    "    {\"r2 value\": r2_train, \"model\": \"OLS - Forward Variable Selection\", \"subset\":\"train\",},\n",
    "    ignore_index=True,\n",
    ")\n",
    "df_coef = df_coef.append(\n",
    "    {\"r2 value\": r2_test, \"model\": \"OLS - Forward Variable Selection\", \"subset\":\"test\",},\n",
    "    ignore_index=True,\n",
    ").drop_duplicates()\n",
    "\n",
    "# Printing DataFrame\n",
    "df_coef"
   ]
  },
  {
   "attachments": {},
   "cell_type": "markdown",
   "metadata": {},
   "source": [
    "### 4.a Use SequentialFeatureSelector on a linear regression estimator select <a class=\"anchor\" id=\"section_4_a\"></a>"
   ]
  },
  {
   "cell_type": "code",
   "execution_count": 93,
   "metadata": {},
   "outputs": [
    {
     "data": {
      "text/plain": [
       "SequentialFeatureSelector(estimator=LinearRegression(), n_features_to_select=34)"
      ]
     },
     "execution_count": 93,
     "metadata": {},
     "output_type": "execute_result"
    }
   ],
   "source": [
    "# Sequential Feature Selector\n",
    "sfs = SequentialFeatureSelector(\n",
    "    estimator=LinearRegression(fit_intercept=True),\n",
    "    n_features_to_select=len(significant_variables),\n",
    "    direction=\"forward\",\n",
    ")\n",
    "\n",
    "sfs.fit(x_training_data_std, y_training_data)"
   ]
  },
  {
   "attachments": {},
   "cell_type": "markdown",
   "metadata": {},
   "source": [
    "We retrieve the list of indices using built-in functions. We then store the R2 coefficient of our new model in the dataFrame `df_coef`."
   ]
  },
  {
   "cell_type": "code",
   "execution_count": 94,
   "metadata": {},
   "outputs": [
    {
     "data": {
      "text/html": [
       "<div>\n",
       "<style scoped>\n",
       "    .dataframe tbody tr th:only-of-type {\n",
       "        vertical-align: middle;\n",
       "    }\n",
       "\n",
       "    .dataframe tbody tr th {\n",
       "        vertical-align: top;\n",
       "    }\n",
       "\n",
       "    .dataframe thead th {\n",
       "        text-align: right;\n",
       "    }\n",
       "</style>\n",
       "<table border=\"1\" class=\"dataframe\">\n",
       "  <thead>\n",
       "    <tr style=\"text-align: right;\">\n",
       "      <th></th>\n",
       "      <th>model</th>\n",
       "      <th>subset</th>\n",
       "      <th>r2 value</th>\n",
       "    </tr>\n",
       "  </thead>\n",
       "  <tbody>\n",
       "    <tr>\n",
       "      <th>0</th>\n",
       "      <td>Baseline OLS regression</td>\n",
       "      <td>train</td>\n",
       "      <td>0.995789</td>\n",
       "    </tr>\n",
       "    <tr>\n",
       "      <th>1</th>\n",
       "      <td>Baseline OLS regression</td>\n",
       "      <td>test</td>\n",
       "      <td>0.86658</td>\n",
       "    </tr>\n",
       "    <tr>\n",
       "      <th>2</th>\n",
       "      <td>OLS - Forward Variable Selection</td>\n",
       "      <td>train</td>\n",
       "      <td>0.986968</td>\n",
       "    </tr>\n",
       "    <tr>\n",
       "      <th>3</th>\n",
       "      <td>OLS - Forward Variable Selection</td>\n",
       "      <td>test</td>\n",
       "      <td>0.844328</td>\n",
       "    </tr>\n",
       "    <tr>\n",
       "      <th>4</th>\n",
       "      <td>OLS - Sequential Feature Selector</td>\n",
       "      <td>train</td>\n",
       "      <td>0.98803</td>\n",
       "    </tr>\n",
       "    <tr>\n",
       "      <th>5</th>\n",
       "      <td>OLS - Sequential Feature Selector</td>\n",
       "      <td>test</td>\n",
       "      <td>0.86311</td>\n",
       "    </tr>\n",
       "  </tbody>\n",
       "</table>\n",
       "</div>"
      ],
      "text/plain": [
       "                               model subset  r2 value\n",
       "0            Baseline OLS regression  train  0.995789\n",
       "1            Baseline OLS regression   test   0.86658\n",
       "2   OLS - Forward Variable Selection  train  0.986968\n",
       "3   OLS - Forward Variable Selection   test  0.844328\n",
       "4  OLS - Sequential Feature Selector  train   0.98803\n",
       "5  OLS - Sequential Feature Selector   test   0.86311"
      ]
     },
     "execution_count": 94,
     "metadata": {},
     "output_type": "execute_result"
    }
   ],
   "source": [
    "# Conversion list_var to index_list\n",
    "index_list = sfs.get_support(indices=True)\n",
    "\n",
    "# OLS regression\n",
    "x_training_sfs, x_test_sfs = (\n",
    "    x_training_data_std[:, index_list],\n",
    "    x_test_data_std[:, index_list],\n",
    ")\n",
    "model = LinearRegression(fit_intercept=True).fit(x_training_sfs, y_training_data)\n",
    "\n",
    "# Computing R2 scores\n",
    "r2_train = r2_score(y_training_data, model.predict(x_training_sfs))\n",
    "r2_test = r2_score(y_test_data, model.predict(x_test_sfs))\n",
    "\n",
    "# Storing the scores in a DataFrame\n",
    "df_coef = df_coef.append(\n",
    "    {\n",
    "        \"r2 value\": r2_train,\n",
    "        \"model\": \"OLS - Sequential Feature Selector\",\n",
    "        \"subset\": \"train\",\n",
    "    },\n",
    "    ignore_index=True,\n",
    ")\n",
    "df_coef = df_coef.append(\n",
    "    {\n",
    "        \"r2 value\": r2_test,\n",
    "        \"model\": \"OLS - Sequential Feature Selector\",\n",
    "        \"subset\": \"test\",\n",
    "    },\n",
    "    ignore_index=True,\n",
    ").drop_duplicates()\n",
    "\n",
    "# Printing DataFrame\n",
    "df_coef\n"
   ]
  },
  {
   "attachments": {},
   "cell_type": "markdown",
   "metadata": {},
   "source": [
    "According to sklearn's library on [SequentialFeatureSelector](https://scikit-learn.org/stable/modules/generated/sklearn.feature_selection.SequentialFeatureSelector.html#:~:text=This%20Sequential%20Feature%20Selector%20adds,validation%20score%20of%20an%20estimator.), the sklearn implementation uses the estimator score method as an improvement criterion. In the case of OLS regression, this is r2. In this way, the sklearn implementation differs from our home-made Forward Variable Selector."
   ]
  },
  {
   "attachments": {},
   "cell_type": "markdown",
   "metadata": {},
   "source": [
    "***\n",
    "## Part 3. Ridge <a class=\"anchor\" id=\"chapter3\"></a>"
   ]
  },
  {
   "attachments": {},
   "cell_type": "markdown",
   "metadata": {},
   "source": [
    "We consider the following minimization problem, \n",
    "$$\n",
    "||Y-X\\theta||^2+n\\lambda||\\theta||^2\n",
    "$$"
   ]
  },
  {
   "attachments": {},
   "cell_type": "markdown",
   "metadata": {},
   "source": [
    "### 5. Ridge estimator <a class=\"anchor\" id=\"section_5\"></a>"
   ]
  },
  {
   "attachments": {},
   "cell_type": "markdown",
   "metadata": {},
   "source": [
    "The minimizer of the previous optimization problem exists and is unique. It is given by, \n",
    "$$\n",
    "\\hat{\\theta}^{\\text{(rdg)}}=(X^TX+n\\lambda I_p)^{-1}X^TY\n",
    "$$\n",
    "We now implement the estimator in the class `RidgeRegression`. "
   ]
  },
  {
   "cell_type": "code",
   "execution_count": 95,
   "metadata": {},
   "outputs": [],
   "source": [
    "class RidgeRegression:\n",
    "    def __init__(self, alpha):\n",
    "        self.alpha = alpha\n",
    "\n",
    "    def fit(self, X, y):\n",
    "        X_intercept = sm.add_constant(X)\n",
    "        A = self.alpha * np.identity(X_intercept.shape[1])\n",
    "        A[0, 0] = 0\n",
    "        coef_ = (\n",
    "            np.linalg.inv(X_intercept.T.dot(X_intercept) + A).dot(X_intercept.T).dot(y)\n",
    "        )\n",
    "        self.coef_ = coef_\n",
    "        self.intercept_ = self.coef_[0]\n",
    "        return self\n",
    "\n",
    "    def predict(self, X):\n",
    "        X_predict = sm.add_constant(X)\n",
    "        self.predictions = X_predict.dot(self.coef_).tolist()\n",
    "        return self.predictions\n",
    "\n",
    "    def compute_MSE(self, X, y):\n",
    "        X_predict = sm.add_constant(X)\n",
    "        y_check = y.tolist()\n",
    "        self.predictions = X_predict.dot(self.coef_).tolist()\n",
    "        self.MSE = 0\n",
    "        for i in range(0, len(self.predictions)):\n",
    "            self.MSE += (self.predictions[i] - y_check[i]) ** 2\n",
    "        return self.MSE"
   ]
  },
  {
   "attachments": {},
   "cell_type": "markdown",
   "metadata": {},
   "source": [
    "### 5.a Plot how the values of the coefficients change with $\\alpha$ <a class=\"anchor\" id=\"section_5_a\"></a>"
   ]
  },
  {
   "cell_type": "code",
   "execution_count": 96,
   "metadata": {},
   "outputs": [
    {
     "data": {
      "application/vnd.plotly.v1+json": {
       "config": {
        "plotlyServerURL": "https://plot.ly"
       },
       "data": [
        {
         "hovertemplate": "variable=V0<br>alpha=%{x}<br>coef_value=%{y}<extra></extra>",
         "legendgroup": "V0",
         "line": {
          "color": "#636efa",
          "dash": "solid"
         },
         "marker": {
          "symbol": "circle"
         },
         "mode": "lines",
         "name": "V0",
         "orientation": "v",
         "showlegend": true,
         "type": "scatter",
         "x": [
          1e-9,
          1e-8,
          1e-7,
          0.000001,
          0.00001,
          0.0001,
          0.001,
          0.01
         ],
         "xaxis": "x",
         "y": [
          5.615355402888156e-12,
          2.9681292146310767e-12,
          1.4373918721943824e-12,
          8.055361933045901e-13,
          3.000863446622759e-13,
          7.81388842518993e-14,
          1.84297022087776e-14,
          5.752343046339092e-15
         ],
         "yaxis": "y"
        },
        {
         "hovertemplate": "variable=V1<br>alpha=%{x}<br>coef_value=%{y}<extra></extra>",
         "legendgroup": "V1",
         "line": {
          "color": "#EF553B",
          "dash": "solid"
         },
         "marker": {
          "symbol": "circle"
         },
         "mode": "lines",
         "name": "V1",
         "orientation": "v",
         "showlegend": true,
         "type": "scatter",
         "x": [
          1e-9,
          1e-8,
          1e-7,
          0.000001,
          0.00001,
          0.0001,
          0.001,
          0.01
         ],
         "xaxis": "x",
         "y": [
          317.59674661031625,
          292.51303169001,
          266.38276846751603,
          144.61584884470741,
          27.550980099924026,
          3.0870972593621397,
          -2.049737009836978,
          -0.5638685712913003
         ],
         "yaxis": "y"
        },
        {
         "hovertemplate": "variable=V2<br>alpha=%{x}<br>coef_value=%{y}<extra></extra>",
         "legendgroup": "V2",
         "line": {
          "color": "#00cc96",
          "dash": "solid"
         },
         "marker": {
          "symbol": "circle"
         },
         "mode": "lines",
         "name": "V2",
         "orientation": "v",
         "showlegend": true,
         "type": "scatter",
         "x": [
          1e-9,
          1e-8,
          1e-7,
          0.000001,
          0.00001,
          0.0001,
          0.001,
          0.01
         ],
         "xaxis": "x",
         "y": [
          -298.89531973841235,
          -344.24295690864005,
          -292.0171109048789,
          -103.76339690225383,
          -15.801318295773317,
          -1.830547534840196,
          -1.8856925230286492,
          -0.39154257497280265
         ],
         "yaxis": "y"
        },
        {
         "hovertemplate": "variable=V3<br>alpha=%{x}<br>coef_value=%{y}<extra></extra>",
         "legendgroup": "V3",
         "line": {
          "color": "#ab63fa",
          "dash": "solid"
         },
         "marker": {
          "symbol": "circle"
         },
         "mode": "lines",
         "name": "V3",
         "orientation": "v",
         "showlegend": true,
         "type": "scatter",
         "x": [
          1e-9,
          1e-8,
          1e-7,
          0.000001,
          0.00001,
          0.0001,
          0.001,
          0.01
         ],
         "xaxis": "x",
         "y": [
          -476.18966629479155,
          -88.17247750613069,
          56.699187109365994,
          -19.762443711528334,
          -8.688498710250023,
          -1.8059985930254774,
          -1.3990099819470263,
          -0.2174053179325064
         ],
         "yaxis": "y"
        },
        {
         "hovertemplate": "variable=V4<br>alpha=%{x}<br>coef_value=%{y}<extra></extra>",
         "legendgroup": "V4",
         "line": {
          "color": "#FFA15A",
          "dash": "solid"
         },
         "marker": {
          "symbol": "circle"
         },
         "mode": "lines",
         "name": "V4",
         "orientation": "v",
         "showlegend": true,
         "type": "scatter",
         "x": [
          1e-9,
          1e-8,
          1e-7,
          0.000001,
          0.00001,
          0.0001,
          0.001,
          0.01
         ],
         "xaxis": "x",
         "y": [
          1277.2737071629708,
          566.1131358554362,
          91.13969488300552,
          -20.711705552275518,
          -9.962485212165621,
          -2.4684203626926093,
          -1.019727440563286,
          -0.0805198681448207
         ],
         "yaxis": "y"
        },
        {
         "hovertemplate": "variable=V5<br>alpha=%{x}<br>coef_value=%{y}<extra></extra>",
         "legendgroup": "V5",
         "line": {
          "color": "#19d3f3",
          "dash": "solid"
         },
         "marker": {
          "symbol": "circle"
         },
         "mode": "lines",
         "name": "V5",
         "orientation": "v",
         "showlegend": true,
         "type": "scatter",
         "x": [
          1e-9,
          1e-8,
          1e-7,
          0.000001,
          0.00001,
          0.0001,
          0.001,
          0.01
         ],
         "xaxis": "x",
         "y": [
          -1557.2557519545649,
          -796.7591536772329,
          -288.2095677842533,
          -98.44987180070446,
          -20.045502857426833,
          -4.200489307397013,
          -0.8336276294394169,
          0.017843827438653925
         ],
         "yaxis": "y"
        },
        {
         "hovertemplate": "variable=V6<br>alpha=%{x}<br>coef_value=%{y}<extra></extra>",
         "legendgroup": "V6",
         "line": {
          "color": "#FF6692",
          "dash": "solid"
         },
         "marker": {
          "symbol": "circle"
         },
         "mode": "lines",
         "name": "V6",
         "orientation": "v",
         "showlegend": true,
         "type": "scatter",
         "x": [
          1e-9,
          1e-8,
          1e-7,
          0.000001,
          0.00001,
          0.0001,
          0.001,
          0.01
         ],
         "xaxis": "x",
         "y": [
          937.023870483119,
          332.83145202386254,
          -53.62302503206564,
          -53.646672767730294,
          -12.434921843495918,
          -3.571307499964841,
          -0.4396224767850837,
          0.12087744420445075
         ],
         "yaxis": "y"
        },
        {
         "hovertemplate": "variable=V7<br>alpha=%{x}<br>coef_value=%{y}<extra></extra>",
         "legendgroup": "V7",
         "line": {
          "color": "#B6E880",
          "dash": "solid"
         },
         "marker": {
          "symbol": "circle"
         },
         "mode": "lines",
         "name": "V7",
         "orientation": "v",
         "showlegend": true,
         "type": "scatter",
         "x": [
          1e-9,
          1e-8,
          1e-7,
          0.000001,
          0.00001,
          0.0001,
          0.001,
          0.01
         ],
         "xaxis": "x",
         "y": [
          -614.1612993696772,
          -318.0104869664026,
          -74.20225871173193,
          -5.388549514383861,
          -0.5828329013164435,
          -1.6316186192763862,
          0.14431509565449474,
          0.2331236914006254
         ],
         "yaxis": "y"
        },
        {
         "hovertemplate": "variable=V8<br>alpha=%{x}<br>coef_value=%{y}<extra></extra>",
         "legendgroup": "V8",
         "line": {
          "color": "#FF97FF",
          "dash": "solid"
         },
         "marker": {
          "symbol": "circle"
         },
         "mode": "lines",
         "name": "V8",
         "orientation": "v",
         "showlegend": true,
         "type": "scatter",
         "x": [
          1e-9,
          1e-8,
          1e-7,
          0.000001,
          0.00001,
          0.0001,
          0.001,
          0.01
         ],
         "xaxis": "x",
         "y": [
          343.09951069953286,
          274.52414809070024,
          210.8751529623554,
          78.22551700625763,
          16.01911079297691,
          1.8394911201715187,
          1.0625498214188387,
          0.3861309495780411
         ],
         "yaxis": "y"
        },
        {
         "hovertemplate": "variable=V9<br>alpha=%{x}<br>coef_value=%{y}<extra></extra>",
         "legendgroup": "V9",
         "line": {
          "color": "#FECB52",
          "dash": "solid"
         },
         "marker": {
          "symbol": "circle"
         },
         "mode": "lines",
         "name": "V9",
         "orientation": "v",
         "showlegend": true,
         "type": "scatter",
         "x": [
          1e-9,
          1e-8,
          1e-7,
          0.000001,
          0.00001,
          0.0001,
          0.001,
          0.01
         ],
         "xaxis": "x",
         "y": [
          86.28553096848282,
          40.78351738944224,
          6.691143194945994,
          16.17664529079734,
          2.095578380125648,
          -0.1984386930615596,
          1.2556690606976144,
          0.45984932542022267
         ],
         "yaxis": "y"
        },
        {
         "hovertemplate": "variable=V10<br>alpha=%{x}<br>coef_value=%{y}<extra></extra>",
         "legendgroup": "V10",
         "line": {
          "color": "#636efa",
          "dash": "solid"
         },
         "marker": {
          "symbol": "circle"
         },
         "mode": "lines",
         "name": "V10",
         "orientation": "v",
         "showlegend": true,
         "type": "scatter",
         "x": [
          1e-9,
          1e-8,
          1e-7,
          0.000001,
          0.00001,
          0.0001,
          0.001,
          0.01
         ],
         "xaxis": "x",
         "y": [
          -213.782118837619,
          -88.75104552700725,
          53.36603411090783,
          53.99088736688614,
          6.623773786949691,
          -0.0948130823533817,
          1.537136225473717,
          0.5218754260519434
         ],
         "yaxis": "y"
        },
        {
         "hovertemplate": "variable=V11<br>alpha=%{x}<br>coef_value=%{y}<extra></extra>",
         "legendgroup": "V11",
         "line": {
          "color": "#EF553B",
          "dash": "solid"
         },
         "marker": {
          "symbol": "circle"
         },
         "mode": "lines",
         "name": "V11",
         "orientation": "v",
         "showlegend": true,
         "type": "scatter",
         "x": [
          1e-9,
          1e-8,
          1e-7,
          0.000001,
          0.00001,
          0.0001,
          0.001,
          0.01
         ],
         "xaxis": "x",
         "y": [
          -69.71363353848278,
          79.4468693656637,
          84.77056338277882,
          61.17387986768685,
          15.915810077176697,
          2.610326676865008,
          2.068999582227325,
          0.5726293361875167
         ],
         "yaxis": "y"
        },
        {
         "hovertemplate": "variable=V12<br>alpha=%{x}<br>coef_value=%{y}<extra></extra>",
         "legendgroup": "V12",
         "line": {
          "color": "#00cc96",
          "dash": "solid"
         },
         "marker": {
          "symbol": "circle"
         },
         "mode": "lines",
         "name": "V12",
         "orientation": "v",
         "showlegend": true,
         "type": "scatter",
         "x": [
          1e-9,
          1e-8,
          1e-7,
          0.000001,
          0.00001,
          0.0001,
          0.001,
          0.01
         ],
         "xaxis": "x",
         "y": [
          1220.16014569997,
          521.7015545475849,
          168.5426999015369,
          61.60331400089821,
          21.384828322459697,
          4.9625771297367205,
          2.5076629710096916,
          0.6010207314479771
         ],
         "yaxis": "y"
        },
        {
         "hovertemplate": "variable=V13<br>alpha=%{x}<br>coef_value=%{y}<extra></extra>",
         "legendgroup": "V13",
         "line": {
          "color": "#ab63fa",
          "dash": "solid"
         },
         "marker": {
          "symbol": "circle"
         },
         "mode": "lines",
         "name": "V13",
         "orientation": "v",
         "showlegend": true,
         "type": "scatter",
         "x": [
          1e-9,
          1e-8,
          1e-7,
          0.000001,
          0.00001,
          0.0001,
          0.001,
          0.01
         ],
         "xaxis": "x",
         "y": [
          -1357.58309065665,
          -457.0477613331546,
          -62.76415931203974,
          13.739797942570291,
          15.567710115771913,
          5.043995195054699,
          2.584711559501276,
          0.5849277227924753
         ],
         "yaxis": "y"
        },
        {
         "hovertemplate": "variable=V14<br>alpha=%{x}<br>coef_value=%{y}<extra></extra>",
         "legendgroup": "V14",
         "line": {
          "color": "#FFA15A",
          "dash": "solid"
         },
         "marker": {
          "symbol": "circle"
         },
         "mode": "lines",
         "name": "V14",
         "orientation": "v",
         "showlegend": true,
         "type": "scatter",
         "x": [
          1e-9,
          1e-8,
          1e-7,
          0.000001,
          0.00001,
          0.0001,
          0.001,
          0.01
         ],
         "xaxis": "x",
         "y": [
          853.3186805071102,
          157.2684800210459,
          -69.00965798021207,
          -30.5768709644599,
          0.5052910641799997,
          3.499149314128424,
          2.4137010931894243,
          0.5339887686265018
         ],
         "yaxis": "y"
        },
        {
         "hovertemplate": "variable=V15<br>alpha=%{x}<br>coef_value=%{y}<extra></extra>",
         "legendgroup": "V15",
         "line": {
          "color": "#19d3f3",
          "dash": "solid"
         },
         "marker": {
          "symbol": "circle"
         },
         "mode": "lines",
         "name": "V15",
         "orientation": "v",
         "showlegend": true,
         "type": "scatter",
         "x": [
          1e-9,
          1e-8,
          1e-7,
          0.000001,
          0.00001,
          0.0001,
          0.001,
          0.01
         ],
         "xaxis": "x",
         "y": [
          -421.63516852481575,
          -173.84740915435145,
          -136.5502792340798,
          -79.86825309930566,
          -17.781097815687367,
          1.5009583040284458,
          2.1081661898457753,
          0.45512872840133634
         ],
         "yaxis": "y"
        },
        {
         "hovertemplate": "variable=V16<br>alpha=%{x}<br>coef_value=%{y}<extra></extra>",
         "legendgroup": "V16",
         "line": {
          "color": "#FF6692",
          "dash": "solid"
         },
         "marker": {
          "symbol": "circle"
         },
         "mode": "lines",
         "name": "V16",
         "orientation": "v",
         "showlegend": true,
         "type": "scatter",
         "x": [
          1e-9,
          1e-8,
          1e-7,
          0.000001,
          0.00001,
          0.0001,
          0.001,
          0.01
         ],
         "xaxis": "x",
         "y": [
          -335.7439621173158,
          -281.35652027962567,
          -131.514823677364,
          -60.7237825817046,
          -16.306811960150313,
          1.9827740822668218,
          1.9566606038753531,
          0.3848108521866205
         ],
         "yaxis": "y"
        },
        {
         "hovertemplate": "variable=V17<br>alpha=%{x}<br>coef_value=%{y}<extra></extra>",
         "legendgroup": "V17",
         "line": {
          "color": "#B6E880",
          "dash": "solid"
         },
         "marker": {
          "symbol": "circle"
         },
         "mode": "lines",
         "name": "V17",
         "orientation": "v",
         "showlegend": true,
         "type": "scatter",
         "x": [
          1e-9,
          1e-8,
          1e-7,
          0.000001,
          0.00001,
          0.0001,
          0.001,
          0.01
         ],
         "xaxis": "x",
         "y": [
          75.06459209866415,
          183.9965201523531,
          141.33349495985553,
          24.7358342577315,
          -2.872740781669563,
          3.10685727340711,
          1.6883373150402599,
          0.2805910646267583
         ],
         "yaxis": "y"
        },
        {
         "hovertemplate": "variable=V18<br>alpha=%{x}<br>coef_value=%{y}<extra></extra>",
         "legendgroup": "V18",
         "line": {
          "color": "#FF97FF",
          "dash": "solid"
         },
         "marker": {
          "symbol": "circle"
         },
         "mode": "lines",
         "name": "V18",
         "orientation": "v",
         "showlegend": true,
         "type": "scatter",
         "x": [
          1e-9,
          1e-8,
          1e-7,
          0.000001,
          0.00001,
          0.0001,
          0.001,
          0.01
         ],
         "xaxis": "x",
         "y": [
          263.7599920151314,
          172.66099169585766,
          139.521056875037,
          56.32859471855404,
          4.964846456053536,
          2.557186466188851,
          0.8639455475136166,
          0.09119852086989766
         ],
         "yaxis": "y"
        },
        {
         "hovertemplate": "variable=V19<br>alpha=%{x}<br>coef_value=%{y}<extra></extra>",
         "legendgroup": "V19",
         "line": {
          "color": "#FECB52",
          "dash": "solid"
         },
         "marker": {
          "symbol": "circle"
         },
         "mode": "lines",
         "name": "V19",
         "orientation": "v",
         "showlegend": true,
         "type": "scatter",
         "x": [
          1e-9,
          1e-8,
          1e-7,
          0.000001,
          0.00001,
          0.0001,
          0.001,
          0.01
         ],
         "xaxis": "x",
         "y": [
          523.5596283339785,
          302.98153408613496,
          13.855946200364883,
          -37.38901542467772,
          -5.059859250334545,
          1.6531335525184607,
          0.09958972427444324,
          -0.09826769437241639
         ],
         "yaxis": "y"
        },
        {
         "hovertemplate": "variable=V20<br>alpha=%{x}<br>coef_value=%{y}<extra></extra>",
         "legendgroup": "V20",
         "line": {
          "color": "#636efa",
          "dash": "solid"
         },
         "marker": {
          "symbol": "circle"
         },
         "mode": "lines",
         "name": "V20",
         "orientation": "v",
         "showlegend": true,
         "type": "scatter",
         "x": [
          1e-9,
          1e-8,
          1e-7,
          0.000001,
          0.00001,
          0.0001,
          0.001,
          0.01
         ],
         "xaxis": "x",
         "y": [
          -645.277478406515,
          -473.57563779588736,
          -240.4940533115381,
          -75.20857654769196,
          -8.9152603417411,
          0.17033544039188087,
          -0.8832289044788477,
          -0.32445104294677407
         ],
         "yaxis": "y"
        },
        {
         "hovertemplate": "variable=V21<br>alpha=%{x}<br>coef_value=%{y}<extra></extra>",
         "legendgroup": "V21",
         "line": {
          "color": "#EF553B",
          "dash": "solid"
         },
         "marker": {
          "symbol": "circle"
         },
         "mode": "lines",
         "name": "V21",
         "orientation": "v",
         "showlegend": true,
         "type": "scatter",
         "x": [
          1e-9,
          1e-8,
          1e-7,
          0.000001,
          0.00001,
          0.0001,
          0.001,
          0.01
         ],
         "xaxis": "x",
         "y": [
          -826.6655510401333,
          -437.866625439004,
          -69.2959486908469,
          27.289376854754607,
          10.353645949030007,
          -0.5171784555261425,
          -1.8682664104831703,
          -0.534495911234651
         ],
         "yaxis": "y"
        },
        {
         "hovertemplate": "variable=V22<br>alpha=%{x}<br>coef_value=%{y}<extra></extra>",
         "legendgroup": "V22",
         "line": {
          "color": "#00cc96",
          "dash": "solid"
         },
         "marker": {
          "symbol": "circle"
         },
         "mode": "lines",
         "name": "V22",
         "orientation": "v",
         "showlegend": true,
         "type": "scatter",
         "x": [
          1e-9,
          1e-8,
          1e-7,
          0.000001,
          0.00001,
          0.0001,
          0.001,
          0.01
         ],
         "xaxis": "x",
         "y": [
          1733.0953104806795,
          881.2395330589305,
          286.5244336474668,
          93.52965244689142,
          13.784578752683963,
          -4.559686007598565,
          -3.113540265648579,
          -0.7507992413583204
         ],
         "yaxis": "y"
        },
        {
         "hovertemplate": "variable=V23<br>alpha=%{x}<br>coef_value=%{y}<extra></extra>",
         "legendgroup": "V23",
         "line": {
          "color": "#ab63fa",
          "dash": "solid"
         },
         "marker": {
          "symbol": "circle"
         },
         "mode": "lines",
         "name": "V23",
         "orientation": "v",
         "showlegend": true,
         "type": "scatter",
         "x": [
          1e-9,
          1e-8,
          1e-7,
          0.000001,
          0.00001,
          0.0001,
          0.001,
          0.01
         ],
         "xaxis": "x",
         "y": [
          -524.2147154076647,
          -37.17560772489401,
          57.4986064938619,
          19.781401843288407,
          -6.033783004428393,
          -10.568944551652024,
          -4.228693458297658,
          -0.9345297738437623
         ],
         "yaxis": "y"
        },
        {
         "hovertemplate": "variable=V24<br>alpha=%{x}<br>coef_value=%{y}<extra></extra>",
         "legendgroup": "V24",
         "line": {
          "color": "#FFA15A",
          "dash": "solid"
         },
         "marker": {
          "symbol": "circle"
         },
         "mode": "lines",
         "name": "V24",
         "orientation": "v",
         "showlegend": true,
         "type": "scatter",
         "x": [
          1e-9,
          1e-8,
          1e-7,
          0.000001,
          0.00001,
          0.0001,
          0.001,
          0.01
         ],
         "xaxis": "x",
         "y": [
          -975.9623887899274,
          -729.3948539698176,
          -250.3451810547008,
          -69.93334505584271,
          -21.94111612371731,
          -12.226945820496516,
          -4.204774493091538,
          -0.9756743534542137
         ],
         "yaxis": "y"
        },
        {
         "hovertemplate": "variable=V25<br>alpha=%{x}<br>coef_value=%{y}<extra></extra>",
         "legendgroup": "V25",
         "line": {
          "color": "#19d3f3",
          "dash": "solid"
         },
         "marker": {
          "symbol": "circle"
         },
         "mode": "lines",
         "name": "V25",
         "orientation": "v",
         "showlegend": true,
         "type": "scatter",
         "x": [
          1e-9,
          1e-8,
          1e-7,
          0.000001,
          0.00001,
          0.0001,
          0.001,
          0.01
         ],
         "xaxis": "x",
         "y": [
          924.5568090356304,
          602.2566334937466,
          129.77333307842343,
          -16.914688738624946,
          -13.459555034195542,
          -6.770323441498844,
          -2.689220171035677,
          -0.8411664609831433
         ],
         "yaxis": "y"
        },
        {
         "hovertemplate": "variable=V26<br>alpha=%{x}<br>coef_value=%{y}<extra></extra>",
         "legendgroup": "V26",
         "line": {
          "color": "#FF6692",
          "dash": "solid"
         },
         "marker": {
          "symbol": "circle"
         },
         "mode": "lines",
         "name": "V26",
         "orientation": "v",
         "showlegend": true,
         "type": "scatter",
         "x": [
          1e-9,
          1e-8,
          1e-7,
          0.000001,
          0.00001,
          0.0001,
          0.001,
          0.01
         ],
         "xaxis": "x",
         "y": [
          -216.02057559797845,
          -203.1988828048012,
          -97.83342636292923,
          -24.751725877848372,
          -0.8644762919206102,
          1.1358073288179042,
          -0.6508721185449216,
          -0.6422981880973306
         ],
         "yaxis": "y"
        },
        {
         "hovertemplate": "variable=V27<br>alpha=%{x}<br>coef_value=%{y}<extra></extra>",
         "legendgroup": "V27",
         "line": {
          "color": "#B6E880",
          "dash": "solid"
         },
         "marker": {
          "symbol": "circle"
         },
         "mode": "lines",
         "name": "V27",
         "orientation": "v",
         "showlegend": true,
         "type": "scatter",
         "x": [
          1e-9,
          1e-8,
          1e-7,
          0.000001,
          0.00001,
          0.0001,
          0.001,
          0.01
         ],
         "xaxis": "x",
         "y": [
          -45.48379308719893,
          -24.948535624365036,
          87.0803559621738,
          79.60370129682444,
          26.51365274028961,
          9.26723350375217,
          1.258282856695124,
          -0.45602529118917834
         ],
         "yaxis": "y"
        },
        {
         "hovertemplate": "variable=V28<br>alpha=%{x}<br>coef_value=%{y}<extra></extra>",
         "legendgroup": "V28",
         "line": {
          "color": "#FF97FF",
          "dash": "solid"
         },
         "marker": {
          "symbol": "circle"
         },
         "mode": "lines",
         "name": "V28",
         "orientation": "v",
         "showlegend": true,
         "type": "scatter",
         "x": [
          1e-9,
          1e-8,
          1e-7,
          0.000001,
          0.00001,
          0.0001,
          0.001,
          0.01
         ],
         "xaxis": "x",
         "y": [
          725.3759246214458,
          594.1008197597041,
          252.49402923288676,
          50.97108732385115,
          19.07174701269824,
          11.639861179719361,
          2.3234250481438457,
          -0.34404763246636494
         ],
         "yaxis": "y"
        },
        {
         "hovertemplate": "variable=V29<br>alpha=%{x}<br>coef_value=%{y}<extra></extra>",
         "legendgroup": "V29",
         "line": {
          "color": "#FECB52",
          "dash": "solid"
         },
         "marker": {
          "symbol": "circle"
         },
         "mode": "lines",
         "name": "V29",
         "orientation": "v",
         "showlegend": true,
         "type": "scatter",
         "x": [
          1e-9,
          1e-8,
          1e-7,
          0.000001,
          0.00001,
          0.0001,
          0.001,
          0.01
         ],
         "xaxis": "x",
         "y": [
          -1454.198560151119,
          -929.2848617413333,
          -384.0502727965621,
          -92.17842696817257,
          8.570592180890337,
          13.47301786463473,
          3.118311959735082,
          -0.23104986806367722
         ],
         "yaxis": "y"
        },
        {
         "hovertemplate": "variable=V30<br>alpha=%{x}<br>coef_value=%{y}<extra></extra>",
         "legendgroup": "V30",
         "line": {
          "color": "#636efa",
          "dash": "solid"
         },
         "marker": {
          "symbol": "circle"
         },
         "mode": "lines",
         "name": "V30",
         "orientation": "v",
         "showlegend": true,
         "type": "scatter",
         "x": [
          1e-9,
          1e-8,
          1e-7,
          0.000001,
          0.00001,
          0.0001,
          0.001,
          0.01
         ],
         "xaxis": "x",
         "y": [
          1034.0621213483337,
          374.3757106226735,
          -5.576365064693221,
          -3.3212425831214887,
          21.406905986862846,
          12.65916591646042,
          2.8762684780030794,
          -0.19837463916508802
         ],
         "yaxis": "y"
        },
        {
         "hovertemplate": "variable=V31<br>alpha=%{x}<br>coef_value=%{y}<extra></extra>",
         "legendgroup": "V31",
         "line": {
          "color": "#EF553B",
          "dash": "solid"
         },
         "marker": {
          "symbol": "circle"
         },
         "mode": "lines",
         "name": "V31",
         "orientation": "v",
         "showlegend": true,
         "type": "scatter",
         "x": [
          1e-9,
          1e-8,
          1e-7,
          0.000001,
          0.00001,
          0.0001,
          0.001,
          0.01
         ],
         "xaxis": "x",
         "y": [
          -469.09846643414176,
          -83.14772117335974,
          91.11311387967446,
          65.14724120973597,
          19.62574780706156,
          3.574259682000604,
          0.8644471819285888,
          -0.33906907247729023
         ],
         "yaxis": "y"
        },
        {
         "hovertemplate": "variable=V32<br>alpha=%{x}<br>coef_value=%{y}<extra></extra>",
         "legendgroup": "V32",
         "line": {
          "color": "#00cc96",
          "dash": "solid"
         },
         "marker": {
          "symbol": "circle"
         },
         "mode": "lines",
         "name": "V32",
         "orientation": "v",
         "showlegend": true,
         "type": "scatter",
         "x": [
          1e-9,
          1e-8,
          1e-7,
          0.000001,
          0.00001,
          0.0001,
          0.001,
          0.01
         ],
         "xaxis": "x",
         "y": [
          449.71447911723044,
          289.27840397376804,
          159.96208069479758,
          56.305335089743025,
          -9.694898798739128,
          -11.587569708508056,
          -2.3062517706295997,
          -0.6217103269745505
         ],
         "yaxis": "y"
        },
        {
         "hovertemplate": "variable=V33<br>alpha=%{x}<br>coef_value=%{y}<extra></extra>",
         "legendgroup": "V33",
         "line": {
          "color": "#ab63fa",
          "dash": "solid"
         },
         "marker": {
          "symbol": "circle"
         },
         "mode": "lines",
         "name": "V33",
         "orientation": "v",
         "showlegend": true,
         "type": "scatter",
         "x": [
          1e-9,
          1e-8,
          1e-7,
          0.000001,
          0.00001,
          0.0001,
          0.001,
          0.01
         ],
         "xaxis": "x",
         "y": [
          -115.6353727663909,
          14.28254527067952,
          31.60376086675069,
          -48.912270081946616,
          -59.52671484867129,
          -25.671266965036487,
          -5.181893257068463,
          -0.905026426041333
         ],
         "yaxis": "y"
        },
        {
         "hovertemplate": "variable=V34<br>alpha=%{x}<br>coef_value=%{y}<extra></extra>",
         "legendgroup": "V34",
         "line": {
          "color": "#FFA15A",
          "dash": "solid"
         },
         "marker": {
          "symbol": "circle"
         },
         "mode": "lines",
         "name": "V34",
         "orientation": "v",
         "showlegend": true,
         "type": "scatter",
         "x": [
          1e-9,
          1e-8,
          1e-7,
          0.000001,
          0.00001,
          0.0001,
          0.001,
          0.01
         ],
         "xaxis": "x",
         "y": [
          -165.84748788264505,
          -323.26336384126694,
          -268.72351353906674,
          -174.6911909243467,
          -86.14809494759656,
          -27.498471171673586,
          -5.888175738676155,
          -0.9473309204085087
         ],
         "yaxis": "y"
        },
        {
         "hovertemplate": "variable=V35<br>alpha=%{x}<br>coef_value=%{y}<extra></extra>",
         "legendgroup": "V35",
         "line": {
          "color": "#19d3f3",
          "dash": "solid"
         },
         "marker": {
          "symbol": "circle"
         },
         "mode": "lines",
         "name": "V35",
         "orientation": "v",
         "showlegend": true,
         "type": "scatter",
         "x": [
          1e-9,
          1e-8,
          1e-7,
          0.000001,
          0.00001,
          0.0001,
          0.001,
          0.01
         ],
         "xaxis": "x",
         "y": [
          -399.4696547933696,
          -250.07160303048147,
          -255.23633987653517,
          -137.99528231885267,
          -52.35410507573714,
          -15.28698625010513,
          -4.332547270259414,
          -0.6871369729965937
         ],
         "yaxis": "y"
        },
        {
         "hovertemplate": "variable=V36<br>alpha=%{x}<br>coef_value=%{y}<extra></extra>",
         "legendgroup": "V36",
         "line": {
          "color": "#FF6692",
          "dash": "solid"
         },
         "marker": {
          "symbol": "circle"
         },
         "mode": "lines",
         "name": "V36",
         "orientation": "v",
         "showlegend": true,
         "type": "scatter",
         "x": [
          1e-9,
          1e-8,
          1e-7,
          0.000001,
          0.00001,
          0.0001,
          0.001,
          0.01
         ],
         "xaxis": "x",
         "y": [
          395.93119107071243,
          327.3117836067838,
          257.451891657686,
          114.16300465404612,
          40.033863625813396,
          7.069888272659618,
          -1.0845294852793752,
          -0.13575436152805292
         ],
         "yaxis": "y"
        },
        {
         "hovertemplate": "variable=V37<br>alpha=%{x}<br>coef_value=%{y}<extra></extra>",
         "legendgroup": "V37",
         "line": {
          "color": "#B6E880",
          "dash": "solid"
         },
         "marker": {
          "symbol": "circle"
         },
         "mode": "lines",
         "name": "V37",
         "orientation": "v",
         "showlegend": true,
         "type": "scatter",
         "x": [
          1e-9,
          1e-8,
          1e-7,
          0.000001,
          0.00001,
          0.0001,
          0.001,
          0.01
         ],
         "xaxis": "x",
         "y": [
          -113.2870582184404,
          -65.91403450373366,
          115.1045892392876,
          164.3149389205862,
          87.18747604547882,
          20.114283744862107,
          1.783626908596927,
          0.5626907034216941
         ],
         "yaxis": "y"
        },
        {
         "hovertemplate": "variable=V38<br>alpha=%{x}<br>coef_value=%{y}<extra></extra>",
         "legendgroup": "V38",
         "line": {
          "color": "#FF97FF",
          "dash": "solid"
         },
         "marker": {
          "symbol": "circle"
         },
         "mode": "lines",
         "name": "V38",
         "orientation": "v",
         "showlegend": true,
         "type": "scatter",
         "x": [
          1e-9,
          1e-8,
          1e-7,
          0.000001,
          0.00001,
          0.0001,
          0.001,
          0.01
         ],
         "xaxis": "x",
         "y": [
          -103.11859137643603,
          -19.467782724551853,
          -14.881220971409675,
          60.00054207042467,
          58.21547997905358,
          22.23069632774063,
          4.271361134091346,
          1.3054155065482047
         ],
         "yaxis": "y"
        },
        {
         "hovertemplate": "variable=V39<br>alpha=%{x}<br>coef_value=%{y}<extra></extra>",
         "legendgroup": "V39",
         "line": {
          "color": "#FECB52",
          "dash": "solid"
         },
         "marker": {
          "symbol": "circle"
         },
         "mode": "lines",
         "name": "V39",
         "orientation": "v",
         "showlegend": true,
         "type": "scatter",
         "x": [
          1e-9,
          1e-8,
          1e-7,
          0.000001,
          0.00001,
          0.0001,
          0.001,
          0.01
         ],
         "xaxis": "x",
         "y": [
          895.3582802050022,
          397.37429438169505,
          80.61896042312253,
          2.877837933786367,
          18.402513389550137,
          15.297399760681339,
          4.925688877213817,
          1.824282113797533
         ],
         "yaxis": "y"
        },
        {
         "hovertemplate": "variable=V40<br>alpha=%{x}<br>coef_value=%{y}<extra></extra>",
         "legendgroup": "V40",
         "line": {
          "color": "#636efa",
          "dash": "solid"
         },
         "marker": {
          "symbol": "circle"
         },
         "mode": "lines",
         "name": "V40",
         "orientation": "v",
         "showlegend": true,
         "type": "scatter",
         "x": [
          1e-9,
          1e-8,
          1e-7,
          0.000001,
          0.00001,
          0.0001,
          0.001,
          0.01
         ],
         "xaxis": "x",
         "y": [
          -1128.4453842268783,
          -249.79941920782085,
          59.18854514093766,
          -19.9233715607386,
          -18.62670079717708,
          2.448720520637716,
          3.875316535695049,
          2.04961901773222
         ],
         "yaxis": "y"
        },
        {
         "hovertemplate": "variable=V41<br>alpha=%{x}<br>coef_value=%{y}<extra></extra>",
         "legendgroup": "V41",
         "line": {
          "color": "#EF553B",
          "dash": "solid"
         },
         "marker": {
          "symbol": "circle"
         },
         "mode": "lines",
         "name": "V41",
         "orientation": "v",
         "showlegend": true,
         "type": "scatter",
         "x": [
          1e-9,
          1e-8,
          1e-7,
          0.000001,
          0.00001,
          0.0001,
          0.001,
          0.01
         ],
         "xaxis": "x",
         "y": [
          1178.679262234206,
          274.08658358774164,
          -15.844834654113413,
          -56.199654812657684,
          -37.885028206607174,
          -8.170817353135146,
          2.340732478980185,
          2.054623925336288
         ],
         "yaxis": "y"
        },
        {
         "hovertemplate": "variable=V42<br>alpha=%{x}<br>coef_value=%{y}<extra></extra>",
         "legendgroup": "V42",
         "line": {
          "color": "#00cc96",
          "dash": "solid"
         },
         "marker": {
          "symbol": "circle"
         },
         "mode": "lines",
         "name": "V42",
         "orientation": "v",
         "showlegend": true,
         "type": "scatter",
         "x": [
          1e-9,
          1e-8,
          1e-7,
          0.000001,
          0.00001,
          0.0001,
          0.001,
          0.01
         ],
         "xaxis": "x",
         "y": [
          -1203.4686733453273,
          -567.8649290862336,
          -296.4809425594839,
          -105.44393279125526,
          -34.026071720400196,
          -9.937774121520903,
          1.7832774302997056,
          1.9645662714770864
         ],
         "yaxis": "y"
        },
        {
         "hovertemplate": "variable=V43<br>alpha=%{x}<br>coef_value=%{y}<extra></extra>",
         "legendgroup": "V43",
         "line": {
          "color": "#ab63fa",
          "dash": "solid"
         },
         "marker": {
          "symbol": "circle"
         },
         "mode": "lines",
         "name": "V43",
         "orientation": "v",
         "showlegend": true,
         "type": "scatter",
         "x": [
          1e-9,
          1e-8,
          1e-7,
          0.000001,
          0.00001,
          0.0001,
          0.001,
          0.01
         ],
         "xaxis": "x",
         "y": [
          573.8179021736448,
          110.5866531167427,
          -45.174920848903355,
          -3.700491422035597,
          -1.5556570071525968,
          -2.874584707356159,
          2.3207217060472747,
          1.760186783138884
         ],
         "yaxis": "y"
        },
        {
         "hovertemplate": "variable=V44<br>alpha=%{x}<br>coef_value=%{y}<extra></extra>",
         "legendgroup": "V44",
         "line": {
          "color": "#FFA15A",
          "dash": "solid"
         },
         "marker": {
          "symbol": "circle"
         },
         "mode": "lines",
         "name": "V44",
         "orientation": "v",
         "showlegend": true,
         "type": "scatter",
         "x": [
          1e-9,
          1e-8,
          1e-7,
          0.000001,
          0.00001,
          0.0001,
          0.001,
          0.01
         ],
         "xaxis": "x",
         "y": [
          -411.433122278007,
          13.488584956755858,
          175.56394345174854,
          93.51752922937277,
          23.64515521279642,
          5.332032805663037,
          2.6275670297096525,
          1.27485752876619
         ],
         "yaxis": "y"
        },
        {
         "hovertemplate": "variable=V45<br>alpha=%{x}<br>coef_value=%{y}<extra></extra>",
         "legendgroup": "V45",
         "line": {
          "color": "#19d3f3",
          "dash": "solid"
         },
         "marker": {
          "symbol": "circle"
         },
         "mode": "lines",
         "name": "V45",
         "orientation": "v",
         "showlegend": true,
         "type": "scatter",
         "x": [
          1e-9,
          1e-8,
          1e-7,
          0.000001,
          0.00001,
          0.0001,
          0.001,
          0.01
         ],
         "xaxis": "x",
         "y": [
          611.7280096739732,
          374.38727658926075,
          236.91850084963835,
          119.93385158036725,
          39.75786293181403,
          11.264102087857472,
          1.9922182907188333,
          0.49599766117606525
         ],
         "yaxis": "y"
        },
        {
         "hovertemplate": "variable=V46<br>alpha=%{x}<br>coef_value=%{y}<extra></extra>",
         "legendgroup": "V46",
         "line": {
          "color": "#FF6692",
          "dash": "solid"
         },
         "marker": {
          "symbol": "circle"
         },
         "mode": "lines",
         "name": "V46",
         "orientation": "v",
         "showlegend": true,
         "type": "scatter",
         "x": [
          1e-9,
          1e-8,
          1e-7,
          0.000001,
          0.00001,
          0.0001,
          0.001,
          0.01
         ],
         "xaxis": "x",
         "y": [
          -78.18567518194823,
          -65.96716233645873,
          -61.45935855802918,
          -39.487645894609585,
          5.124913765676901,
          7.8644599206480414,
          0.2540595343839256,
          -0.444993497403233
         ],
         "yaxis": "y"
        },
        {
         "hovertemplate": "variable=V47<br>alpha=%{x}<br>coef_value=%{y}<extra></extra>",
         "legendgroup": "V47",
         "line": {
          "color": "#B6E880",
          "dash": "solid"
         },
         "marker": {
          "symbol": "circle"
         },
         "mode": "lines",
         "name": "V47",
         "orientation": "v",
         "showlegend": true,
         "type": "scatter",
         "x": [
          1e-9,
          1e-8,
          1e-7,
          0.000001,
          0.00001,
          0.0001,
          0.001,
          0.01
         ],
         "xaxis": "x",
         "y": [
          -276.9630803696088,
          -225.6020065421688,
          -157.83040645880513,
          -43.77506467134691,
          10.822703511425381,
          4.9297571218122025,
          -1.9241333181850457,
          -1.3819561803808655
         ],
         "yaxis": "y"
        },
        {
         "hovertemplate": "variable=V48<br>alpha=%{x}<br>coef_value=%{y}<extra></extra>",
         "legendgroup": "V48",
         "line": {
          "color": "#FF97FF",
          "dash": "solid"
         },
         "marker": {
          "symbol": "circle"
         },
         "mode": "lines",
         "name": "V48",
         "orientation": "v",
         "showlegend": true,
         "type": "scatter",
         "x": [
          1e-9,
          1e-8,
          1e-7,
          0.000001,
          0.00001,
          0.0001,
          0.001,
          0.01
         ],
         "xaxis": "x",
         "y": [
          150.76385135174814,
          191.57643364685237,
          117.579800358093,
          20.881563579055083,
          -19.206062914171305,
          -13.796734580512016,
          -5.661276557855082,
          -2.1796125182089208
         ],
         "yaxis": "y"
        },
        {
         "hovertemplate": "variable=V49<br>alpha=%{x}<br>coef_value=%{y}<extra></extra>",
         "legendgroup": "V49",
         "line": {
          "color": "#FECB52",
          "dash": "solid"
         },
         "marker": {
          "symbol": "circle"
         },
         "mode": "lines",
         "name": "V49",
         "orientation": "v",
         "showlegend": true,
         "type": "scatter",
         "x": [
          1e-9,
          1e-8,
          1e-7,
          0.000001,
          0.00001,
          0.0001,
          0.001,
          0.01
         ],
         "xaxis": "x",
         "y": [
          190.37546677218535,
          -79.55313373593344,
          -149.7791916434507,
          -80.17943022211662,
          -40.90482465188796,
          -18.06678177621706,
          -6.079249285136696,
          -2.369521585154644
         ],
         "yaxis": "y"
        },
        {
         "hovertemplate": "variable=V50<br>alpha=%{x}<br>coef_value=%{y}<extra></extra>",
         "legendgroup": "V50",
         "line": {
          "color": "#636efa",
          "dash": "solid"
         },
         "marker": {
          "symbol": "circle"
         },
         "mode": "lines",
         "name": "V50",
         "orientation": "v",
         "showlegend": true,
         "type": "scatter",
         "x": [
          1e-9,
          1e-8,
          1e-7,
          0.000001,
          0.00001,
          0.0001,
          0.001,
          0.01
         ],
         "xaxis": "x",
         "y": [
          -1107.035853396892,
          -582.3236225599192,
          -129.37268933956867,
          -42.887402489955086,
          -22.644268008444215,
          -10.62123831051246,
          -4.14548932415555,
          -2.040920755308541
         ],
         "yaxis": "y"
        },
        {
         "hovertemplate": "variable=V51<br>alpha=%{x}<br>coef_value=%{y}<extra></extra>",
         "legendgroup": "V51",
         "line": {
          "color": "#EF553B",
          "dash": "solid"
         },
         "marker": {
          "symbol": "circle"
         },
         "mode": "lines",
         "name": "V51",
         "orientation": "v",
         "showlegend": true,
         "type": "scatter",
         "x": [
          1e-9,
          1e-8,
          1e-7,
          0.000001,
          0.00001,
          0.0001,
          0.001,
          0.01
         ],
         "xaxis": "x",
         "y": [
          1620.7827036183626,
          1051.3224856964662,
          321.5886398484604,
          63.47576309446288,
          8.291975446343912,
          -1.3788680456991447,
          -1.8806065814426864,
          -1.4680168522156523
         ],
         "yaxis": "y"
        },
        {
         "hovertemplate": "variable=V52<br>alpha=%{x}<br>coef_value=%{y}<extra></extra>",
         "legendgroup": "V52",
         "line": {
          "color": "#00cc96",
          "dash": "solid"
         },
         "marker": {
          "symbol": "circle"
         },
         "mode": "lines",
         "name": "V52",
         "orientation": "v",
         "showlegend": true,
         "type": "scatter",
         "x": [
          1e-9,
          1e-8,
          1e-7,
          0.000001,
          0.00001,
          0.0001,
          0.001,
          0.01
         ],
         "xaxis": "x",
         "y": [
          -943.7307783163551,
          -671.8464689403261,
          -212.74327532146611,
          -18.79025706352195,
          8.822384534460362,
          3.488754086574148,
          0.0002555480783770214,
          -0.7647417081490143
         ],
         "yaxis": "y"
        },
        {
         "hovertemplate": "variable=V53<br>alpha=%{x}<br>coef_value=%{y}<extra></extra>",
         "legendgroup": "V53",
         "line": {
          "color": "#ab63fa",
          "dash": "solid"
         },
         "marker": {
          "symbol": "circle"
         },
         "mode": "lines",
         "name": "V53",
         "orientation": "v",
         "showlegend": true,
         "type": "scatter",
         "x": [
          1e-9,
          1e-8,
          1e-7,
          0.000001,
          0.00001,
          0.0001,
          0.001,
          0.01
         ],
         "xaxis": "x",
         "y": [
          -481.6765791274265,
          -282.06856074600097,
          -44.32418218341837,
          3.060030549151506,
          6.588251985898209,
          4.91365004273807,
          1.416597727463743,
          -0.010948405021383611
         ],
         "yaxis": "y"
        },
        {
         "hovertemplate": "variable=V54<br>alpha=%{x}<br>coef_value=%{y}<extra></extra>",
         "legendgroup": "V54",
         "line": {
          "color": "#FFA15A",
          "dash": "solid"
         },
         "marker": {
          "symbol": "circle"
         },
         "mode": "lines",
         "name": "V54",
         "orientation": "v",
         "showlegend": true,
         "type": "scatter",
         "x": [
          1e-9,
          1e-8,
          1e-7,
          0.000001,
          0.00001,
          0.0001,
          0.001,
          0.01
         ],
         "xaxis": "x",
         "y": [
          1509.8582998328661,
          1058.2186793594692,
          312.4913856671337,
          60.39028800109324,
          8.467969906529717,
          4.506787910475163,
          2.2060408030829093,
          0.6317716679768454
         ],
         "yaxis": "y"
        },
        {
         "hovertemplate": "variable=V55<br>alpha=%{x}<br>coef_value=%{y}<extra></extra>",
         "legendgroup": "V55",
         "line": {
          "color": "#19d3f3",
          "dash": "solid"
         },
         "marker": {
          "symbol": "circle"
         },
         "mode": "lines",
         "name": "V55",
         "orientation": "v",
         "showlegend": true,
         "type": "scatter",
         "x": [
          1e-9,
          1e-8,
          1e-7,
          0.000001,
          0.00001,
          0.0001,
          0.001,
          0.01
         ],
         "xaxis": "x",
         "y": [
          -1134.4936156092735,
          -859.5604552809452,
          -273.7616475241955,
          -60.75809881122612,
          -11.004563482317536,
          0.611484356157165,
          1.831626821842323,
          0.9412644635033282
         ],
         "yaxis": "y"
        },
        {
         "hovertemplate": "variable=V56<br>alpha=%{x}<br>coef_value=%{y}<extra></extra>",
         "legendgroup": "V56",
         "line": {
          "color": "#FF6692",
          "dash": "solid"
         },
         "marker": {
          "symbol": "circle"
         },
         "mode": "lines",
         "name": "V56",
         "orientation": "v",
         "showlegend": true,
         "type": "scatter",
         "x": [
          1e-9,
          1e-8,
          1e-7,
          0.000001,
          0.00001,
          0.0001,
          0.001,
          0.01
         ],
         "xaxis": "x",
         "y": [
          173.21678300304188,
          142.23399464427985,
          41.247293359121045,
          -2.6283198417498994,
          2.6307834720963417,
          1.2190912649122936,
          1.2624378976817932,
          0.9535997288404213
         ],
         "yaxis": "y"
        },
        {
         "hovertemplate": "variable=V57<br>alpha=%{x}<br>coef_value=%{y}<extra></extra>",
         "legendgroup": "V57",
         "line": {
          "color": "#B6E880",
          "dash": "solid"
         },
         "marker": {
          "symbol": "circle"
         },
         "mode": "lines",
         "name": "V57",
         "orientation": "v",
         "showlegend": true,
         "type": "scatter",
         "x": [
          1e-9,
          1e-8,
          1e-7,
          0.000001,
          0.00001,
          0.0001,
          0.001,
          0.01
         ],
         "xaxis": "x",
         "y": [
          -12.574376965131478,
          68.213873908175,
          13.096585325465327,
          18.927622815367712,
          10.438300944700131,
          -0.13243566611264246,
          0.2591608244203667,
          0.7549998399196552
         ],
         "yaxis": "y"
        },
        {
         "hovertemplate": "variable=V58<br>alpha=%{x}<br>coef_value=%{y}<extra></extra>",
         "legendgroup": "V58",
         "line": {
          "color": "#FF97FF",
          "dash": "solid"
         },
         "marker": {
          "symbol": "circle"
         },
         "mode": "lines",
         "name": "V58",
         "orientation": "v",
         "showlegend": true,
         "type": "scatter",
         "x": [
          1e-9,
          1e-8,
          1e-7,
          0.000001,
          0.00001,
          0.0001,
          0.001,
          0.01
         ],
         "xaxis": "x",
         "y": [
          222.75054363676213,
          70.1705287874538,
          28.02644342310424,
          9.573864275839227,
          -3.2092599628127942,
          -4.536969792347808,
          -0.9095015661400416,
          0.4827498019249663
         ],
         "yaxis": "y"
        },
        {
         "hovertemplate": "variable=V59<br>alpha=%{x}<br>coef_value=%{y}<extra></extra>",
         "legendgroup": "V59",
         "line": {
          "color": "#FECB52",
          "dash": "solid"
         },
         "marker": {
          "symbol": "circle"
         },
         "mode": "lines",
         "name": "V59",
         "orientation": "v",
         "showlegend": true,
         "type": "scatter",
         "x": [
          1e-9,
          1e-8,
          1e-7,
          0.000001,
          0.00001,
          0.0001,
          0.001,
          0.01
         ],
         "xaxis": "x",
         "y": [
          -359.74279538368774,
          -242.66339195723936,
          -83.86473638833627,
          -38.769986097871424,
          -20.156751983007823,
          -7.803419542471037,
          -1.853756746479906,
          0.20738678609900063
         ],
         "yaxis": "y"
        },
        {
         "hovertemplate": "variable=V60<br>alpha=%{x}<br>coef_value=%{y}<extra></extra>",
         "legendgroup": "V60",
         "line": {
          "color": "#636efa",
          "dash": "solid"
         },
         "marker": {
          "symbol": "circle"
         },
         "mode": "lines",
         "name": "V60",
         "orientation": "v",
         "showlegend": true,
         "type": "scatter",
         "x": [
          1e-9,
          1e-8,
          1e-7,
          0.000001,
          0.00001,
          0.0001,
          0.001,
          0.01
         ],
         "xaxis": "x",
         "y": [
          562.4048571488157,
          355.3509921625449,
          15.923877243528864,
          -46.6789518381963,
          -0.9015680674187294,
          2.687649123594026,
          0.2655178189892281,
          0.377022623563817
         ],
         "yaxis": "y"
        },
        {
         "hovertemplate": "variable=V61<br>alpha=%{x}<br>coef_value=%{y}<extra></extra>",
         "legendgroup": "V61",
         "line": {
          "color": "#EF553B",
          "dash": "solid"
         },
         "marker": {
          "symbol": "circle"
         },
         "mode": "lines",
         "name": "V61",
         "orientation": "v",
         "showlegend": true,
         "type": "scatter",
         "x": [
          1e-9,
          1e-8,
          1e-7,
          0.000001,
          0.00001,
          0.0001,
          0.001,
          0.01
         ],
         "xaxis": "x",
         "y": [
          -317.62566275022334,
          -131.0037398782615,
          133.56362308484296,
          102.6119817487594,
          17.061037825086718,
          7.054882647014973,
          1.7912139649687333,
          0.5397213321817742
         ],
         "yaxis": "y"
        },
        {
         "hovertemplate": "variable=V62<br>alpha=%{x}<br>coef_value=%{y}<extra></extra>",
         "legendgroup": "V62",
         "line": {
          "color": "#00cc96",
          "dash": "solid"
         },
         "marker": {
          "symbol": "circle"
         },
         "mode": "lines",
         "name": "V62",
         "orientation": "v",
         "showlegend": true,
         "type": "scatter",
         "x": [
          1e-9,
          1e-8,
          1e-7,
          0.000001,
          0.00001,
          0.0001,
          0.001,
          0.01
         ],
         "xaxis": "x",
         "y": [
          -9.070878544921243,
          14.484674170548615,
          78.23587163579904,
          71.11569030184026,
          13.249564735044117,
          7.757043557439669,
          2.8737009686410544,
          0.7351190638998752
         ],
         "yaxis": "y"
        },
        {
         "hovertemplate": "variable=V63<br>alpha=%{x}<br>coef_value=%{y}<extra></extra>",
         "legendgroup": "V63",
         "line": {
          "color": "#ab63fa",
          "dash": "solid"
         },
         "marker": {
          "symbol": "circle"
         },
         "mode": "lines",
         "name": "V63",
         "orientation": "v",
         "showlegend": true,
         "type": "scatter",
         "x": [
          1e-9,
          1e-8,
          1e-7,
          0.000001,
          0.00001,
          0.0001,
          0.001,
          0.01
         ],
         "xaxis": "x",
         "y": [
          421.7352093475949,
          295.7350525582158,
          18.61570854835152,
          -34.329772179279495,
          -9.68790299112452,
          3.502264699993222,
          2.3530135908409435,
          0.6784549602739973
         ],
         "yaxis": "y"
        },
        {
         "hovertemplate": "variable=V64<br>alpha=%{x}<br>coef_value=%{y}<extra></extra>",
         "legendgroup": "V64",
         "line": {
          "color": "#FFA15A",
          "dash": "solid"
         },
         "marker": {
          "symbol": "circle"
         },
         "mode": "lines",
         "name": "V64",
         "orientation": "v",
         "showlegend": true,
         "type": "scatter",
         "x": [
          1e-9,
          1e-8,
          1e-7,
          0.000001,
          0.00001,
          0.0001,
          0.001,
          0.01
         ],
         "xaxis": "x",
         "y": [
          -626.3126510372495,
          -509.3367731147805,
          -245.1253574601306,
          -65.35535174438633,
          3.9485129385853437,
          4.976863115131576,
          1.8059532572999961,
          0.5190056292893795
         ],
         "yaxis": "y"
        },
        {
         "hovertemplate": "variable=V65<br>alpha=%{x}<br>coef_value=%{y}<extra></extra>",
         "legendgroup": "V65",
         "line": {
          "color": "#19d3f3",
          "dash": "solid"
         },
         "marker": {
          "symbol": "circle"
         },
         "mode": "lines",
         "name": "V65",
         "orientation": "v",
         "showlegend": true,
         "type": "scatter",
         "x": [
          1e-9,
          1e-8,
          1e-7,
          0.000001,
          0.00001,
          0.0001,
          0.001,
          0.01
         ],
         "xaxis": "x",
         "y": [
          -55.943208208990654,
          -28.71042641899328,
          18.828325294071448,
          2.1608229231353704,
          17.15538703816854,
          3.3158377232209197,
          0.5444730055746545,
          0.24510170638186934
         ],
         "yaxis": "y"
        },
        {
         "hovertemplate": "variable=V66<br>alpha=%{x}<br>coef_value=%{y}<extra></extra>",
         "legendgroup": "V66",
         "line": {
          "color": "#FF6692",
          "dash": "solid"
         },
         "marker": {
          "symbol": "circle"
         },
         "mode": "lines",
         "name": "V66",
         "orientation": "v",
         "showlegend": true,
         "type": "scatter",
         "x": [
          1e-9,
          1e-8,
          1e-7,
          0.000001,
          0.00001,
          0.0001,
          0.001,
          0.01
         ],
         "xaxis": "x",
         "y": [
          610.865039114743,
          373.39140589510043,
          74.4859386171753,
          14.316241711534303,
          7.402269550263288,
          -2.369373462090696,
          -0.8872518386739485,
          -0.022612993017925853
         ],
         "yaxis": "y"
        },
        {
         "hovertemplate": "variable=V67<br>alpha=%{x}<br>coef_value=%{y}<extra></extra>",
         "legendgroup": "V67",
         "line": {
          "color": "#B6E880",
          "dash": "solid"
         },
         "marker": {
          "symbol": "circle"
         },
         "mode": "lines",
         "name": "V67",
         "orientation": "v",
         "showlegend": true,
         "type": "scatter",
         "x": [
          1e-9,
          1e-8,
          1e-7,
          0.000001,
          0.00001,
          0.0001,
          0.001,
          0.01
         ],
         "xaxis": "x",
         "y": [
          -492.6002044148845,
          -224.42603208911214,
          -52.78553554371726,
          3.849571026982403,
          -0.5817275579886001,
          -1.830203694086892,
          -0.5259096689840368,
          -0.03133550529836859
         ],
         "yaxis": "y"
        },
        {
         "hovertemplate": "variable=V68<br>alpha=%{x}<br>coef_value=%{y}<extra></extra>",
         "legendgroup": "V68",
         "line": {
          "color": "#FF97FF",
          "dash": "solid"
         },
         "marker": {
          "symbol": "circle"
         },
         "mode": "lines",
         "name": "V68",
         "orientation": "v",
         "showlegend": true,
         "type": "scatter",
         "x": [
          1e-9,
          1e-8,
          1e-7,
          0.000001,
          0.00001,
          0.0001,
          0.001,
          0.01
         ],
         "xaxis": "x",
         "y": [
          23.96445948262226,
          -162.61797233545622,
          -50.90838469741976,
          -10.417378600926156,
          -4.492391075984266,
          1.2943367074173144,
          0.6484239927015143,
          0.08300003407052753
         ],
         "yaxis": "y"
        },
        {
         "hovertemplate": "variable=V69<br>alpha=%{x}<br>coef_value=%{y}<extra></extra>",
         "legendgroup": "V69",
         "line": {
          "color": "#FECB52",
          "dash": "solid"
         },
         "marker": {
          "symbol": "circle"
         },
         "mode": "lines",
         "name": "V69",
         "orientation": "v",
         "showlegend": true,
         "type": "scatter",
         "x": [
          1e-9,
          1e-8,
          1e-7,
          0.000001,
          0.00001,
          0.0001,
          0.001,
          0.01
         ],
         "xaxis": "x",
         "y": [
          371.9620078726839,
          332.82062939382786,
          94.81934256473585,
          6.039537066646858,
          -1.8479309178854706,
          1.887446908925459,
          0.764182234591859,
          0.017360124393720755
         ],
         "yaxis": "y"
        },
        {
         "hovertemplate": "variable=V70<br>alpha=%{x}<br>coef_value=%{y}<extra></extra>",
         "legendgroup": "V70",
         "line": {
          "color": "#636efa",
          "dash": "solid"
         },
         "marker": {
          "symbol": "circle"
         },
         "mode": "lines",
         "name": "V70",
         "orientation": "v",
         "showlegend": true,
         "type": "scatter",
         "x": [
          1e-9,
          1e-8,
          1e-7,
          0.000001,
          0.00001,
          0.0001,
          0.001,
          0.01
         ],
         "xaxis": "x",
         "y": [
          -198.64562003785545,
          47.10752596210318,
          160.50743922475715,
          44.96614000621918,
          7.454459005812296,
          -0.7821815617123171,
          -0.4235295297620545,
          -0.24381112650508996
         ],
         "yaxis": "y"
        },
        {
         "hovertemplate": "variable=V71<br>alpha=%{x}<br>coef_value=%{y}<extra></extra>",
         "legendgroup": "V71",
         "line": {
          "color": "#EF553B",
          "dash": "solid"
         },
         "marker": {
          "symbol": "circle"
         },
         "mode": "lines",
         "name": "V71",
         "orientation": "v",
         "showlegend": true,
         "type": "scatter",
         "x": [
          1e-9,
          1e-8,
          1e-7,
          0.000001,
          0.00001,
          0.0001,
          0.001,
          0.01
         ],
         "xaxis": "x",
         "y": [
          -250.55825880560315,
          -374.14759878286674,
          -256.49989420104123,
          -70.12558013465463,
          -16.476961214970082,
          -6.371164857336051,
          -1.3732329224031234,
          -0.42595926120704625
         ],
         "yaxis": "y"
        },
        {
         "hovertemplate": "variable=V72<br>alpha=%{x}<br>coef_value=%{y}<extra></extra>",
         "legendgroup": "V72",
         "line": {
          "color": "#00cc96",
          "dash": "solid"
         },
         "marker": {
          "symbol": "circle"
         },
         "mode": "lines",
         "name": "V72",
         "orientation": "v",
         "showlegend": true,
         "type": "scatter",
         "x": [
          1e-9,
          1e-8,
          1e-7,
          0.000001,
          0.00001,
          0.0001,
          0.001,
          0.01
         ],
         "xaxis": "x",
         "y": [
          -90.82078167707448,
          -23.113349576438225,
          -40.69406868116204,
          -4.878990120241255,
          -4.876595714793048,
          -4.174580286218157,
          -0.8496060108955448,
          -0.39356815787072447
         ],
         "yaxis": "y"
        },
        {
         "hovertemplate": "variable=V73<br>alpha=%{x}<br>coef_value=%{y}<extra></extra>",
         "legendgroup": "V73",
         "line": {
          "color": "#ab63fa",
          "dash": "solid"
         },
         "marker": {
          "symbol": "circle"
         },
         "mode": "lines",
         "name": "V73",
         "orientation": "v",
         "showlegend": true,
         "type": "scatter",
         "x": [
          1e-9,
          1e-8,
          1e-7,
          0.000001,
          0.00001,
          0.0001,
          0.001,
          0.01
         ],
         "xaxis": "x",
         "y": [
          466.7838842889074,
          491.5525174836823,
          329.0199653952289,
          69.39721590383269,
          0.7205013453764906,
          -4.705620637923122,
          -1.2079623548250429,
          -0.49253966046985975
         ],
         "yaxis": "y"
        },
        {
         "hovertemplate": "variable=V74<br>alpha=%{x}<br>coef_value=%{y}<extra></extra>",
         "legendgroup": "V74",
         "line": {
          "color": "#FFA15A",
          "dash": "solid"
         },
         "marker": {
          "symbol": "circle"
         },
         "mode": "lines",
         "name": "V74",
         "orientation": "v",
         "showlegend": true,
         "type": "scatter",
         "x": [
          1e-9,
          1e-8,
          1e-7,
          0.000001,
          0.00001,
          0.0001,
          0.001,
          0.01
         ],
         "xaxis": "x",
         "y": [
          -224.03575503207162,
          -344.996193584622,
          -252.67428657592131,
          -72.96455553742337,
          -33.26033099681389,
          -12.461971416723395,
          -2.8315557619747946,
          -0.7650318634894537
         ],
         "yaxis": "y"
        },
        {
         "hovertemplate": "variable=V75<br>alpha=%{x}<br>coef_value=%{y}<extra></extra>",
         "legendgroup": "V75",
         "line": {
          "color": "#19d3f3",
          "dash": "solid"
         },
         "marker": {
          "symbol": "circle"
         },
         "mode": "lines",
         "name": "V75",
         "orientation": "v",
         "showlegend": true,
         "type": "scatter",
         "x": [
          1e-9,
          1e-8,
          1e-7,
          0.000001,
          0.00001,
          0.0001,
          0.001,
          0.01
         ],
         "xaxis": "x",
         "y": [
          159.71135408431314,
          266.7446819115764,
          179.94196003630555,
          18.283212420378085,
          -18.25263262783305,
          -10.225360218834265,
          -3.105387981871045,
          -0.886407929175874
         ],
         "yaxis": "y"
        },
        {
         "hovertemplate": "variable=V76<br>alpha=%{x}<br>coef_value=%{y}<extra></extra>",
         "legendgroup": "V76",
         "line": {
          "color": "#FF6692",
          "dash": "solid"
         },
         "marker": {
          "symbol": "circle"
         },
         "mode": "lines",
         "name": "V76",
         "orientation": "v",
         "showlegend": true,
         "type": "scatter",
         "x": [
          1e-9,
          1e-8,
          1e-7,
          0.000001,
          0.00001,
          0.0001,
          0.001,
          0.01
         ],
         "xaxis": "x",
         "y": [
          49.98817718404064,
          -144.31238602886924,
          -211.72688296907836,
          -80.44233505504468,
          -16.326259869588366,
          -2.3999349451789715,
          -1.25735411026601,
          -0.6652410656586056
         ],
         "yaxis": "y"
        },
        {
         "hovertemplate": "variable=V77<br>alpha=%{x}<br>coef_value=%{y}<extra></extra>",
         "legendgroup": "V77",
         "line": {
          "color": "#B6E880",
          "dash": "solid"
         },
         "marker": {
          "symbol": "circle"
         },
         "mode": "lines",
         "name": "V77",
         "orientation": "v",
         "showlegend": true,
         "type": "scatter",
         "x": [
          1e-9,
          1e-8,
          1e-7,
          0.000001,
          0.00001,
          0.0001,
          0.001,
          0.01
         ],
         "xaxis": "x",
         "y": [
          135.81858388810178,
          115.04865184408288,
          84.37696218993861,
          36.54827939982127,
          5.899872256515025,
          3.3537087586481875,
          -0.06739141061755094,
          -0.5043532163511709
         ],
         "yaxis": "y"
        },
        {
         "hovertemplate": "variable=V78<br>alpha=%{x}<br>coef_value=%{y}<extra></extra>",
         "legendgroup": "V78",
         "line": {
          "color": "#FF97FF",
          "dash": "solid"
         },
         "marker": {
          "symbol": "circle"
         },
         "mode": "lines",
         "name": "V78",
         "orientation": "v",
         "showlegend": true,
         "type": "scatter",
         "x": [
          1e-9,
          1e-8,
          1e-7,
          0.000001,
          0.00001,
          0.0001,
          0.001,
          0.01
         ],
         "xaxis": "x",
         "y": [
          -594.8960844539242,
          -445.8483726725955,
          -160.25876536594177,
          -23.393876453249575,
          2.9414429301206226,
          5.725584847331028,
          0.6594646103546454,
          -0.3729802782381804
         ],
         "yaxis": "y"
        },
        {
         "hovertemplate": "variable=V79<br>alpha=%{x}<br>coef_value=%{y}<extra></extra>",
         "legendgroup": "V79",
         "line": {
          "color": "#FECB52",
          "dash": "solid"
         },
         "marker": {
          "symbol": "circle"
         },
         "mode": "lines",
         "name": "V79",
         "orientation": "v",
         "showlegend": true,
         "type": "scatter",
         "x": [
          1e-9,
          1e-8,
          1e-7,
          0.000001,
          0.00001,
          0.0001,
          0.001,
          0.01
         ],
         "xaxis": "x",
         "y": [
          683.3894160622024,
          566.4184255348673,
          264.88785675116264,
          68.12324886570642,
          27.2710443088165,
          7.747732597586549,
          0.8662181264872572,
          -0.2876512423319831
         ],
         "yaxis": "y"
        },
        {
         "hovertemplate": "variable=V80<br>alpha=%{x}<br>coef_value=%{y}<extra></extra>",
         "legendgroup": "V80",
         "line": {
          "color": "#636efa",
          "dash": "solid"
         },
         "marker": {
          "symbol": "circle"
         },
         "mode": "lines",
         "name": "V80",
         "orientation": "v",
         "showlegend": true,
         "type": "scatter",
         "x": [
          1e-9,
          1e-8,
          1e-7,
          0.000001,
          0.00001,
          0.0001,
          0.001,
          0.01
         ],
         "xaxis": "x",
         "y": [
          -788.7919765844028,
          -607.6944032899128,
          -294.64329372994104,
          -47.77277892032808,
          19.75356910359338,
          6.435973111559691,
          0.9767275283455072,
          -0.16945758737341843
         ],
         "yaxis": "y"
        },
        {
         "hovertemplate": "variable=V81<br>alpha=%{x}<br>coef_value=%{y}<extra></extra>",
         "legendgroup": "V81",
         "line": {
          "color": "#EF553B",
          "dash": "solid"
         },
         "marker": {
          "symbol": "circle"
         },
         "mode": "lines",
         "name": "V81",
         "orientation": "v",
         "showlegend": true,
         "type": "scatter",
         "x": [
          1e-9,
          1e-8,
          1e-7,
          0.000001,
          0.00001,
          0.0001,
          0.001,
          0.01
         ],
         "xaxis": "x",
         "y": [
          208.80724630604982,
          108.35193020061388,
          19.12976472822038,
          9.057484644254203,
          15.77016441933445,
          6.141107712981211,
          1.1682845228997045,
          -0.07950661252305671
         ],
         "yaxis": "y"
        },
        {
         "hovertemplate": "variable=V82<br>alpha=%{x}<br>coef_value=%{y}<extra></extra>",
         "legendgroup": "V82",
         "line": {
          "color": "#00cc96",
          "dash": "solid"
         },
         "marker": {
          "symbol": "circle"
         },
         "mode": "lines",
         "name": "V82",
         "orientation": "v",
         "showlegend": true,
         "type": "scatter",
         "x": [
          1e-9,
          1e-8,
          1e-7,
          0.000001,
          0.00001,
          0.0001,
          0.001,
          0.01
         ],
         "xaxis": "x",
         "y": [
          219.29761637131014,
          284.4901126396412,
          229.0129892169884,
          64.96039695179714,
          4.724802923378668,
          3.1507387440693257,
          1.0314020563790194,
          -0.011465056486319986
         ],
         "yaxis": "y"
        },
        {
         "hovertemplate": "variable=V83<br>alpha=%{x}<br>coef_value=%{y}<extra></extra>",
         "legendgroup": "V83",
         "line": {
          "color": "#ab63fa",
          "dash": "solid"
         },
         "marker": {
          "symbol": "circle"
         },
         "mode": "lines",
         "name": "V83",
         "orientation": "v",
         "showlegend": true,
         "type": "scatter",
         "x": [
          1e-9,
          1e-8,
          1e-7,
          0.000001,
          0.00001,
          0.0001,
          0.001,
          0.01
         ],
         "xaxis": "x",
         "y": [
          195.16173038142006,
          118.48494580047281,
          60.264063255008296,
          25.88665151023787,
          -5.290051147557193,
          0.02910582366335257,
          0.49001781630469443,
          -0.008510474125474066
         ],
         "yaxis": "y"
        },
        {
         "hovertemplate": "variable=V84<br>alpha=%{x}<br>coef_value=%{y}<extra></extra>",
         "legendgroup": "V84",
         "line": {
          "color": "#FFA15A",
          "dash": "solid"
         },
         "marker": {
          "symbol": "circle"
         },
         "mode": "lines",
         "name": "V84",
         "orientation": "v",
         "showlegend": true,
         "type": "scatter",
         "x": [
          1e-9,
          1e-8,
          1e-7,
          0.000001,
          0.00001,
          0.0001,
          0.001,
          0.01
         ],
         "xaxis": "x",
         "y": [
          -694.4582882529012,
          -461.4919801033293,
          -146.17382267749122,
          -11.281461783483309,
          4.067419529716837,
          -1.2489963901434482,
          -0.310469399927644,
          -0.06433211794621452
         ],
         "yaxis": "y"
        },
        {
         "hovertemplate": "variable=V85<br>alpha=%{x}<br>coef_value=%{y}<extra></extra>",
         "legendgroup": "V85",
         "line": {
          "color": "#19d3f3",
          "dash": "solid"
         },
         "marker": {
          "symbol": "circle"
         },
         "mode": "lines",
         "name": "V85",
         "orientation": "v",
         "showlegend": true,
         "type": "scatter",
         "x": [
          1e-9,
          1e-8,
          1e-7,
          0.000001,
          0.00001,
          0.0001,
          0.001,
          0.01
         ],
         "xaxis": "x",
         "y": [
          729.268499325367,
          392.9587383936175,
          66.62389837922092,
          24.77753311082128,
          17.869933345159268,
          1.2230499595158388,
          -0.35870698587567185,
          -0.07425630702490477
         ],
         "yaxis": "y"
        },
        {
         "hovertemplate": "variable=V86<br>alpha=%{x}<br>coef_value=%{y}<extra></extra>",
         "legendgroup": "V86",
         "line": {
          "color": "#FF6692",
          "dash": "solid"
         },
         "marker": {
          "symbol": "circle"
         },
         "mode": "lines",
         "name": "V86",
         "orientation": "v",
         "showlegend": true,
         "type": "scatter",
         "x": [
          1e-9,
          1e-8,
          1e-7,
          0.000001,
          0.00001,
          0.0001,
          0.001,
          0.01
         ],
         "xaxis": "x",
         "y": [
          382.7951896855593,
          324.7242955434979,
          175.82832328305733,
          34.28637778485831,
          6.859519946605431,
          2.2537979517636195,
          -0.16242086633442165,
          -0.08774932429746227
         ],
         "yaxis": "y"
        },
        {
         "hovertemplate": "variable=V87<br>alpha=%{x}<br>coef_value=%{y}<extra></extra>",
         "legendgroup": "V87",
         "line": {
          "color": "#B6E880",
          "dash": "solid"
         },
         "marker": {
          "symbol": "circle"
         },
         "mode": "lines",
         "name": "V87",
         "orientation": "v",
         "showlegend": true,
         "type": "scatter",
         "x": [
          1e-9,
          1e-8,
          1e-7,
          0.000001,
          0.00001,
          0.0001,
          0.001,
          0.01
         ],
         "xaxis": "x",
         "y": [
          -1365.7891978595753,
          -742.695798234252,
          -222.56167916993195,
          -81.7409529337264,
          -28.13635833906431,
          -0.28592660644767776,
          -0.02269851296940839,
          -0.074552080512575
         ],
         "yaxis": "y"
        },
        {
         "hovertemplate": "variable=V88<br>alpha=%{x}<br>coef_value=%{y}<extra></extra>",
         "legendgroup": "V88",
         "line": {
          "color": "#FF97FF",
          "dash": "solid"
         },
         "marker": {
          "symbol": "circle"
         },
         "mode": "lines",
         "name": "V88",
         "orientation": "v",
         "showlegend": true,
         "type": "scatter",
         "x": [
          1e-9,
          1e-8,
          1e-7,
          0.000001,
          0.00001,
          0.0001,
          0.001,
          0.01
         ],
         "xaxis": "x",
         "y": [
          927.8657872187632,
          234.99897925426103,
          -147.09816882943267,
          -98.87389238970775,
          -34.24976424305911,
          -0.9357111188853828,
          0.06171940141554444,
          -0.05297587229131617
         ],
         "yaxis": "y"
        },
        {
         "hovertemplate": "variable=V89<br>alpha=%{x}<br>coef_value=%{y}<extra></extra>",
         "legendgroup": "V89",
         "line": {
          "color": "#FECB52",
          "dash": "solid"
         },
         "marker": {
          "symbol": "circle"
         },
         "mode": "lines",
         "name": "V89",
         "orientation": "v",
         "showlegend": true,
         "type": "scatter",
         "x": [
          1e-9,
          1e-8,
          1e-7,
          0.000001,
          0.00001,
          0.0001,
          0.001,
          0.01
         ],
         "xaxis": "x",
         "y": [
          -241.02730918240286,
          10.65167193765501,
          19.943279597518085,
          -14.72132747263975,
          1.0382795065495145,
          3.862807291575976,
          0.43861073650265947,
          0.004932360023409577
         ],
         "yaxis": "y"
        },
        {
         "hovertemplate": "variable=V90<br>alpha=%{x}<br>coef_value=%{y}<extra></extra>",
         "legendgroup": "V90",
         "line": {
          "color": "#636efa",
          "dash": "solid"
         },
         "marker": {
          "symbol": "circle"
         },
         "mode": "lines",
         "name": "V90",
         "orientation": "v",
         "showlegend": true,
         "type": "scatter",
         "x": [
          1e-9,
          1e-8,
          1e-7,
          0.000001,
          0.00001,
          0.0001,
          0.001,
          0.01
         ],
         "xaxis": "x",
         "y": [
          82.49965869937932,
          6.34566838012006,
          78.96281572674013,
          51.78114686340297,
          28.776846299624424,
          5.12265104466309,
          0.29713470943187326,
          0.0337049300084612
         ],
         "yaxis": "y"
        },
        {
         "hovertemplate": "variable=V91<br>alpha=%{x}<br>coef_value=%{y}<extra></extra>",
         "legendgroup": "V91",
         "line": {
          "color": "#EF553B",
          "dash": "solid"
         },
         "marker": {
          "symbol": "circle"
         },
         "mode": "lines",
         "name": "V91",
         "orientation": "v",
         "showlegend": true,
         "type": "scatter",
         "x": [
          1e-9,
          1e-8,
          1e-7,
          0.000001,
          0.00001,
          0.0001,
          0.001,
          0.01
         ],
         "xaxis": "x",
         "y": [
          -82.31364269948972,
          127.84299370618487,
          174.78795267394378,
          100.95704027278398,
          36.86812818724317,
          2.6861406505636127,
          -0.26745466154209285,
          0.030999227896024495
         ],
         "yaxis": "y"
        },
        {
         "hovertemplate": "variable=V92<br>alpha=%{x}<br>coef_value=%{y}<extra></extra>",
         "legendgroup": "V92",
         "line": {
          "color": "#00cc96",
          "dash": "solid"
         },
         "marker": {
          "symbol": "circle"
         },
         "mode": "lines",
         "name": "V92",
         "orientation": "v",
         "showlegend": true,
         "type": "scatter",
         "x": [
          1e-9,
          1e-8,
          1e-7,
          0.000001,
          0.00001,
          0.0001,
          0.001,
          0.01
         ],
         "xaxis": "x",
         "y": [
          200.81509015361735,
          101.35702105772441,
          44.56722965391947,
          68.63797302871649,
          21.26621277965716,
          -2.3484868405217405,
          -0.8254427545719203,
          0.06248843960443162
         ],
         "yaxis": "y"
        },
        {
         "hovertemplate": "variable=V93<br>alpha=%{x}<br>coef_value=%{y}<extra></extra>",
         "legendgroup": "V93",
         "line": {
          "color": "#ab63fa",
          "dash": "solid"
         },
         "marker": {
          "symbol": "circle"
         },
         "mode": "lines",
         "name": "V93",
         "orientation": "v",
         "showlegend": true,
         "type": "scatter",
         "x": [
          1e-9,
          1e-8,
          1e-7,
          0.000001,
          0.00001,
          0.0001,
          0.001,
          0.01
         ],
         "xaxis": "x",
         "y": [
          250.05206955331641,
          89.81274200520147,
          25.910893619091667,
          18.121754929285828,
          -5.955179107654573,
          -7.958974177882766,
          -1.36312571192905,
          0.08603920960955375
         ],
         "yaxis": "y"
        },
        {
         "hovertemplate": "variable=V94<br>alpha=%{x}<br>coef_value=%{y}<extra></extra>",
         "legendgroup": "V94",
         "line": {
          "color": "#FFA15A",
          "dash": "solid"
         },
         "marker": {
          "symbol": "circle"
         },
         "mode": "lines",
         "name": "V94",
         "orientation": "v",
         "showlegend": true,
         "type": "scatter",
         "x": [
          1e-9,
          1e-8,
          1e-7,
          0.000001,
          0.00001,
          0.0001,
          0.001,
          0.01
         ],
         "xaxis": "x",
         "y": [
          -385.9460176271491,
          -168.7137402914493,
          -111.51737554916198,
          -62.40563859406947,
          -29.46140133593832,
          -11.132228937959795,
          -1.5976857421145931,
          0.12974112318916503
         ],
         "yaxis": "y"
        },
        {
         "hovertemplate": "variable=V95<br>alpha=%{x}<br>coef_value=%{y}<extra></extra>",
         "legendgroup": "V95",
         "line": {
          "color": "#19d3f3",
          "dash": "solid"
         },
         "marker": {
          "symbol": "circle"
         },
         "mode": "lines",
         "name": "V95",
         "orientation": "v",
         "showlegend": true,
         "type": "scatter",
         "x": [
          1e-9,
          1e-8,
          1e-7,
          0.000001,
          0.00001,
          0.0001,
          0.001,
          0.01
         ],
         "xaxis": "x",
         "y": [
          33.52138870132717,
          -68.14195285654523,
          -39.75558287323736,
          -33.445536284802216,
          -28.743019906733352,
          -10.20060927536153,
          -1.306490407546388,
          0.2133278135186914
         ],
         "yaxis": "y"
        },
        {
         "hovertemplate": "variable=V96<br>alpha=%{x}<br>coef_value=%{y}<extra></extra>",
         "legendgroup": "V96",
         "line": {
          "color": "#FF6692",
          "dash": "solid"
         },
         "marker": {
          "symbol": "circle"
         },
         "mode": "lines",
         "name": "V96",
         "orientation": "v",
         "showlegend": true,
         "type": "scatter",
         "x": [
          1e-9,
          1e-8,
          1e-7,
          0.000001,
          0.00001,
          0.0001,
          0.001,
          0.01
         ],
         "xaxis": "x",
         "y": [
          131.73217539317807,
          120.47184868646912,
          53.3369965348906,
          -2.835527199773825,
          -20.88233578276179,
          -7.608404335601975,
          -0.8171153913180951,
          0.29653070322122066
         ],
         "yaxis": "y"
        },
        {
         "hovertemplate": "variable=V97<br>alpha=%{x}<br>coef_value=%{y}<extra></extra>",
         "legendgroup": "V97",
         "line": {
          "color": "#B6E880",
          "dash": "solid"
         },
         "marker": {
          "symbol": "circle"
         },
         "mode": "lines",
         "name": "V97",
         "orientation": "v",
         "showlegend": true,
         "type": "scatter",
         "x": [
          1e-9,
          1e-8,
          1e-7,
          0.000001,
          0.00001,
          0.0001,
          0.001,
          0.01
         ],
         "xaxis": "x",
         "y": [
          -301.7237259557976,
          -276.2411801597443,
          -191.81188584907943,
          -92.12657758694223,
          -30.000163707858974,
          -5.40970867398479,
          -0.06939935911586104,
          0.39444545548848936
         ],
         "yaxis": "y"
        },
        {
         "hovertemplate": "variable=V98<br>alpha=%{x}<br>coef_value=%{y}<extra></extra>",
         "legendgroup": "V98",
         "line": {
          "color": "#FF97FF",
          "dash": "solid"
         },
         "marker": {
          "symbol": "circle"
         },
         "mode": "lines",
         "name": "V98",
         "orientation": "v",
         "showlegend": true,
         "type": "scatter",
         "x": [
          1e-9,
          1e-8,
          1e-7,
          0.000001,
          0.00001,
          0.0001,
          0.001,
          0.01
         ],
         "xaxis": "x",
         "y": [
          -512.1934307572197,
          -270.49639682890415,
          -74.30687011845919,
          -79.82790737566106,
          -21.407217828819626,
          -0.6732758769268905,
          0.8161421280351782,
          0.4370625492866827
         ],
         "yaxis": "y"
        },
        {
         "hovertemplate": "variable=V99<br>alpha=%{x}<br>coef_value=%{y}<extra></extra>",
         "legendgroup": "V99",
         "line": {
          "color": "#FECB52",
          "dash": "solid"
         },
         "marker": {
          "symbol": "circle"
         },
         "mode": "lines",
         "name": "V99",
         "orientation": "v",
         "showlegend": true,
         "type": "scatter",
         "x": [
          1e-9,
          1e-8,
          1e-7,
          0.000001,
          0.00001,
          0.0001,
          0.001,
          0.01
         ],
         "xaxis": "x",
         "y": [
          767.9584118286289,
          362.82140499561706,
          -15.73691204135946,
          -40.05978590863752,
          2.857572247414197,
          7.318439585650761,
          1.9817283884472552,
          0.4287580263376231
         ],
         "yaxis": "y"
        },
        {
         "hovertemplate": "variable=V100<br>alpha=%{x}<br>coef_value=%{y}<extra></extra>",
         "legendgroup": "V100",
         "line": {
          "color": "#636efa",
          "dash": "solid"
         },
         "marker": {
          "symbol": "circle"
         },
         "mode": "lines",
         "name": "V100",
         "orientation": "v",
         "showlegend": true,
         "type": "scatter",
         "x": [
          1e-9,
          1e-8,
          1e-7,
          0.000001,
          0.00001,
          0.0001,
          0.001,
          0.01
         ],
         "xaxis": "x",
         "y": [
          -133.35845508113846,
          35.94449521499223,
          190.07964137744028,
          170.76094403115906,
          67.79249652214185,
          18.97048777929191,
          3.0266044355415884,
          0.32839515787282725
         ],
         "yaxis": "y"
        }
       ],
       "layout": {
        "legend": {
         "title": {
          "text": "variable"
         },
         "tracegroupgap": 0
        },
        "template": {
         "data": {
          "bar": [
           {
            "error_x": {
             "color": "#2a3f5f"
            },
            "error_y": {
             "color": "#2a3f5f"
            },
            "marker": {
             "line": {
              "color": "#E5ECF6",
              "width": 0.5
             },
             "pattern": {
              "fillmode": "overlay",
              "size": 10,
              "solidity": 0.2
             }
            },
            "type": "bar"
           }
          ],
          "barpolar": [
           {
            "marker": {
             "line": {
              "color": "#E5ECF6",
              "width": 0.5
             },
             "pattern": {
              "fillmode": "overlay",
              "size": 10,
              "solidity": 0.2
             }
            },
            "type": "barpolar"
           }
          ],
          "carpet": [
           {
            "aaxis": {
             "endlinecolor": "#2a3f5f",
             "gridcolor": "white",
             "linecolor": "white",
             "minorgridcolor": "white",
             "startlinecolor": "#2a3f5f"
            },
            "baxis": {
             "endlinecolor": "#2a3f5f",
             "gridcolor": "white",
             "linecolor": "white",
             "minorgridcolor": "white",
             "startlinecolor": "#2a3f5f"
            },
            "type": "carpet"
           }
          ],
          "choropleth": [
           {
            "colorbar": {
             "outlinewidth": 0,
             "ticks": ""
            },
            "type": "choropleth"
           }
          ],
          "contour": [
           {
            "colorbar": {
             "outlinewidth": 0,
             "ticks": ""
            },
            "colorscale": [
             [
              0,
              "#0d0887"
             ],
             [
              0.1111111111111111,
              "#46039f"
             ],
             [
              0.2222222222222222,
              "#7201a8"
             ],
             [
              0.3333333333333333,
              "#9c179e"
             ],
             [
              0.4444444444444444,
              "#bd3786"
             ],
             [
              0.5555555555555556,
              "#d8576b"
             ],
             [
              0.6666666666666666,
              "#ed7953"
             ],
             [
              0.7777777777777778,
              "#fb9f3a"
             ],
             [
              0.8888888888888888,
              "#fdca26"
             ],
             [
              1,
              "#f0f921"
             ]
            ],
            "type": "contour"
           }
          ],
          "contourcarpet": [
           {
            "colorbar": {
             "outlinewidth": 0,
             "ticks": ""
            },
            "type": "contourcarpet"
           }
          ],
          "heatmap": [
           {
            "colorbar": {
             "outlinewidth": 0,
             "ticks": ""
            },
            "colorscale": [
             [
              0,
              "#0d0887"
             ],
             [
              0.1111111111111111,
              "#46039f"
             ],
             [
              0.2222222222222222,
              "#7201a8"
             ],
             [
              0.3333333333333333,
              "#9c179e"
             ],
             [
              0.4444444444444444,
              "#bd3786"
             ],
             [
              0.5555555555555556,
              "#d8576b"
             ],
             [
              0.6666666666666666,
              "#ed7953"
             ],
             [
              0.7777777777777778,
              "#fb9f3a"
             ],
             [
              0.8888888888888888,
              "#fdca26"
             ],
             [
              1,
              "#f0f921"
             ]
            ],
            "type": "heatmap"
           }
          ],
          "heatmapgl": [
           {
            "colorbar": {
             "outlinewidth": 0,
             "ticks": ""
            },
            "colorscale": [
             [
              0,
              "#0d0887"
             ],
             [
              0.1111111111111111,
              "#46039f"
             ],
             [
              0.2222222222222222,
              "#7201a8"
             ],
             [
              0.3333333333333333,
              "#9c179e"
             ],
             [
              0.4444444444444444,
              "#bd3786"
             ],
             [
              0.5555555555555556,
              "#d8576b"
             ],
             [
              0.6666666666666666,
              "#ed7953"
             ],
             [
              0.7777777777777778,
              "#fb9f3a"
             ],
             [
              0.8888888888888888,
              "#fdca26"
             ],
             [
              1,
              "#f0f921"
             ]
            ],
            "type": "heatmapgl"
           }
          ],
          "histogram": [
           {
            "marker": {
             "pattern": {
              "fillmode": "overlay",
              "size": 10,
              "solidity": 0.2
             }
            },
            "type": "histogram"
           }
          ],
          "histogram2d": [
           {
            "colorbar": {
             "outlinewidth": 0,
             "ticks": ""
            },
            "colorscale": [
             [
              0,
              "#0d0887"
             ],
             [
              0.1111111111111111,
              "#46039f"
             ],
             [
              0.2222222222222222,
              "#7201a8"
             ],
             [
              0.3333333333333333,
              "#9c179e"
             ],
             [
              0.4444444444444444,
              "#bd3786"
             ],
             [
              0.5555555555555556,
              "#d8576b"
             ],
             [
              0.6666666666666666,
              "#ed7953"
             ],
             [
              0.7777777777777778,
              "#fb9f3a"
             ],
             [
              0.8888888888888888,
              "#fdca26"
             ],
             [
              1,
              "#f0f921"
             ]
            ],
            "type": "histogram2d"
           }
          ],
          "histogram2dcontour": [
           {
            "colorbar": {
             "outlinewidth": 0,
             "ticks": ""
            },
            "colorscale": [
             [
              0,
              "#0d0887"
             ],
             [
              0.1111111111111111,
              "#46039f"
             ],
             [
              0.2222222222222222,
              "#7201a8"
             ],
             [
              0.3333333333333333,
              "#9c179e"
             ],
             [
              0.4444444444444444,
              "#bd3786"
             ],
             [
              0.5555555555555556,
              "#d8576b"
             ],
             [
              0.6666666666666666,
              "#ed7953"
             ],
             [
              0.7777777777777778,
              "#fb9f3a"
             ],
             [
              0.8888888888888888,
              "#fdca26"
             ],
             [
              1,
              "#f0f921"
             ]
            ],
            "type": "histogram2dcontour"
           }
          ],
          "mesh3d": [
           {
            "colorbar": {
             "outlinewidth": 0,
             "ticks": ""
            },
            "type": "mesh3d"
           }
          ],
          "parcoords": [
           {
            "line": {
             "colorbar": {
              "outlinewidth": 0,
              "ticks": ""
             }
            },
            "type": "parcoords"
           }
          ],
          "pie": [
           {
            "automargin": true,
            "type": "pie"
           }
          ],
          "scatter": [
           {
            "marker": {
             "colorbar": {
              "outlinewidth": 0,
              "ticks": ""
             }
            },
            "type": "scatter"
           }
          ],
          "scatter3d": [
           {
            "line": {
             "colorbar": {
              "outlinewidth": 0,
              "ticks": ""
             }
            },
            "marker": {
             "colorbar": {
              "outlinewidth": 0,
              "ticks": ""
             }
            },
            "type": "scatter3d"
           }
          ],
          "scattercarpet": [
           {
            "marker": {
             "colorbar": {
              "outlinewidth": 0,
              "ticks": ""
             }
            },
            "type": "scattercarpet"
           }
          ],
          "scattergeo": [
           {
            "marker": {
             "colorbar": {
              "outlinewidth": 0,
              "ticks": ""
             }
            },
            "type": "scattergeo"
           }
          ],
          "scattergl": [
           {
            "marker": {
             "colorbar": {
              "outlinewidth": 0,
              "ticks": ""
             }
            },
            "type": "scattergl"
           }
          ],
          "scattermapbox": [
           {
            "marker": {
             "colorbar": {
              "outlinewidth": 0,
              "ticks": ""
             }
            },
            "type": "scattermapbox"
           }
          ],
          "scatterpolar": [
           {
            "marker": {
             "colorbar": {
              "outlinewidth": 0,
              "ticks": ""
             }
            },
            "type": "scatterpolar"
           }
          ],
          "scatterpolargl": [
           {
            "marker": {
             "colorbar": {
              "outlinewidth": 0,
              "ticks": ""
             }
            },
            "type": "scatterpolargl"
           }
          ],
          "scatterternary": [
           {
            "marker": {
             "colorbar": {
              "outlinewidth": 0,
              "ticks": ""
             }
            },
            "type": "scatterternary"
           }
          ],
          "surface": [
           {
            "colorbar": {
             "outlinewidth": 0,
             "ticks": ""
            },
            "colorscale": [
             [
              0,
              "#0d0887"
             ],
             [
              0.1111111111111111,
              "#46039f"
             ],
             [
              0.2222222222222222,
              "#7201a8"
             ],
             [
              0.3333333333333333,
              "#9c179e"
             ],
             [
              0.4444444444444444,
              "#bd3786"
             ],
             [
              0.5555555555555556,
              "#d8576b"
             ],
             [
              0.6666666666666666,
              "#ed7953"
             ],
             [
              0.7777777777777778,
              "#fb9f3a"
             ],
             [
              0.8888888888888888,
              "#fdca26"
             ],
             [
              1,
              "#f0f921"
             ]
            ],
            "type": "surface"
           }
          ],
          "table": [
           {
            "cells": {
             "fill": {
              "color": "#EBF0F8"
             },
             "line": {
              "color": "white"
             }
            },
            "header": {
             "fill": {
              "color": "#C8D4E3"
             },
             "line": {
              "color": "white"
             }
            },
            "type": "table"
           }
          ]
         },
         "layout": {
          "annotationdefaults": {
           "arrowcolor": "#2a3f5f",
           "arrowhead": 0,
           "arrowwidth": 1
          },
          "autotypenumbers": "strict",
          "coloraxis": {
           "colorbar": {
            "outlinewidth": 0,
            "ticks": ""
           }
          },
          "colorscale": {
           "diverging": [
            [
             0,
             "#8e0152"
            ],
            [
             0.1,
             "#c51b7d"
            ],
            [
             0.2,
             "#de77ae"
            ],
            [
             0.3,
             "#f1b6da"
            ],
            [
             0.4,
             "#fde0ef"
            ],
            [
             0.5,
             "#f7f7f7"
            ],
            [
             0.6,
             "#e6f5d0"
            ],
            [
             0.7,
             "#b8e186"
            ],
            [
             0.8,
             "#7fbc41"
            ],
            [
             0.9,
             "#4d9221"
            ],
            [
             1,
             "#276419"
            ]
           ],
           "sequential": [
            [
             0,
             "#0d0887"
            ],
            [
             0.1111111111111111,
             "#46039f"
            ],
            [
             0.2222222222222222,
             "#7201a8"
            ],
            [
             0.3333333333333333,
             "#9c179e"
            ],
            [
             0.4444444444444444,
             "#bd3786"
            ],
            [
             0.5555555555555556,
             "#d8576b"
            ],
            [
             0.6666666666666666,
             "#ed7953"
            ],
            [
             0.7777777777777778,
             "#fb9f3a"
            ],
            [
             0.8888888888888888,
             "#fdca26"
            ],
            [
             1,
             "#f0f921"
            ]
           ],
           "sequentialminus": [
            [
             0,
             "#0d0887"
            ],
            [
             0.1111111111111111,
             "#46039f"
            ],
            [
             0.2222222222222222,
             "#7201a8"
            ],
            [
             0.3333333333333333,
             "#9c179e"
            ],
            [
             0.4444444444444444,
             "#bd3786"
            ],
            [
             0.5555555555555556,
             "#d8576b"
            ],
            [
             0.6666666666666666,
             "#ed7953"
            ],
            [
             0.7777777777777778,
             "#fb9f3a"
            ],
            [
             0.8888888888888888,
             "#fdca26"
            ],
            [
             1,
             "#f0f921"
            ]
           ]
          },
          "colorway": [
           "#636efa",
           "#EF553B",
           "#00cc96",
           "#ab63fa",
           "#FFA15A",
           "#19d3f3",
           "#FF6692",
           "#B6E880",
           "#FF97FF",
           "#FECB52"
          ],
          "font": {
           "color": "#2a3f5f"
          },
          "geo": {
           "bgcolor": "white",
           "lakecolor": "white",
           "landcolor": "#E5ECF6",
           "showlakes": true,
           "showland": true,
           "subunitcolor": "white"
          },
          "hoverlabel": {
           "align": "left"
          },
          "hovermode": "closest",
          "mapbox": {
           "style": "light"
          },
          "paper_bgcolor": "white",
          "plot_bgcolor": "#E5ECF6",
          "polar": {
           "angularaxis": {
            "gridcolor": "white",
            "linecolor": "white",
            "ticks": ""
           },
           "bgcolor": "#E5ECF6",
           "radialaxis": {
            "gridcolor": "white",
            "linecolor": "white",
            "ticks": ""
           }
          },
          "scene": {
           "xaxis": {
            "backgroundcolor": "#E5ECF6",
            "gridcolor": "white",
            "gridwidth": 2,
            "linecolor": "white",
            "showbackground": true,
            "ticks": "",
            "zerolinecolor": "white"
           },
           "yaxis": {
            "backgroundcolor": "#E5ECF6",
            "gridcolor": "white",
            "gridwidth": 2,
            "linecolor": "white",
            "showbackground": true,
            "ticks": "",
            "zerolinecolor": "white"
           },
           "zaxis": {
            "backgroundcolor": "#E5ECF6",
            "gridcolor": "white",
            "gridwidth": 2,
            "linecolor": "white",
            "showbackground": true,
            "ticks": "",
            "zerolinecolor": "white"
           }
          },
          "shapedefaults": {
           "line": {
            "color": "#2a3f5f"
           }
          },
          "ternary": {
           "aaxis": {
            "gridcolor": "white",
            "linecolor": "white",
            "ticks": ""
           },
           "baxis": {
            "gridcolor": "white",
            "linecolor": "white",
            "ticks": ""
           },
           "bgcolor": "#E5ECF6",
           "caxis": {
            "gridcolor": "white",
            "linecolor": "white",
            "ticks": ""
           }
          },
          "title": {
           "x": 0.05
          },
          "xaxis": {
           "automargin": true,
           "gridcolor": "white",
           "linecolor": "white",
           "ticks": "",
           "title": {
            "standoff": 15
           },
           "zerolinecolor": "white",
           "zerolinewidth": 2
          },
          "yaxis": {
           "automargin": true,
           "gridcolor": "white",
           "linecolor": "white",
           "ticks": "",
           "title": {
            "standoff": 15
           },
           "zerolinecolor": "white",
           "zerolinewidth": 2
          }
         }
        },
        "title": {
         "text": "figure 1 : <b>Ridge Estimator - evolution of coefficients with alpha</b><br><i>(V0 corresponds to the constant)</i>"
        },
        "xaxis": {
         "anchor": "y",
         "domain": [
          0,
          1
         ],
         "title": {
          "text": "alpha"
         },
         "type": "log"
        },
        "yaxis": {
         "anchor": "x",
         "domain": [
          0,
          1
         ],
         "title": {
          "text": "coef_value"
         }
        }
       }
      }
     },
     "metadata": {},
     "output_type": "display_data"
    }
   ],
   "source": [
    "# alpha scale\n",
    "A, alphas = [], [10 ** (-i) for i in range(9, 1, -1)]\n",
    "\n",
    "# For alpha in alphas : compute the values of the coefficients\n",
    "for alpha in alphas:\n",
    "    coef = RidgeRegression(alpha).fit(x_training_data_std, y_training_data).coef_\n",
    "    A.append(coef)\n",
    "A = np.array(A)\n",
    "\n",
    "# Store all values in a DataFrame for plotting\n",
    "df_plot_1 = pd.DataFrame({\"coef_value\": [], \"alpha\": [], \"variable\": []})\n",
    "df_alphas = pd.DataFrame(alphas, columns=[\"alpha\"])\n",
    "for i in range(0, A.shape[1]):\n",
    "    df_coef_values = pd.DataFrame(A[:, i], columns=[\"coef_value\"])\n",
    "    df_concat = pd.concat((df_coef_values, df_alphas), axis=1)\n",
    "    df_concat[\"variable\"] = \"V\" + str(i)\n",
    "    df_plot_1 = pd.concat((df_plot_1, df_concat), axis=0)\n",
    "\n",
    "# Displaying values\n",
    "px.line(\n",
    "    df_plot_1,\n",
    "    x=\"alpha\",\n",
    "    y=\"coef_value\",\n",
    "    log_x=True,\n",
    "    color=\"variable\",\n",
    "    title=\"figure 1 : <b>Ridge Estimator - evolution of coefficients with alpha</b><br><i>(V0 corresponds to the constant)</i>\",\n",
    ")"
   ]
  },
  {
   "attachments": {},
   "cell_type": "markdown",
   "metadata": {},
   "source": [
    "### 5.b Plot how MSE of both the train and test sets change with $\\alpha$ <a class=\"anchor\" id=\"section_5_b\"></a>"
   ]
  },
  {
   "cell_type": "code",
   "execution_count": 97,
   "metadata": {},
   "outputs": [
    {
     "data": {
      "application/vnd.plotly.v1+json": {
       "config": {
        "plotlyServerURL": "https://plot.ly"
       },
       "data": [
        {
         "hovertemplate": "Data Set=test set<br>alpha=%{x}<br>MSE_value=%{y}<extra></extra>",
         "legendgroup": "test set",
         "line": {
          "color": "#636efa",
          "dash": "solid"
         },
         "marker": {
          "symbol": "circle"
         },
         "mode": "markers+lines",
         "name": "test set",
         "orientation": "v",
         "showlegend": true,
         "type": "scatter",
         "x": [
          1e-9,
          1e-8,
          1e-7,
          0.000001,
          0.00001,
          0.0001,
          0.001,
          0.01
         ],
         "xaxis": "x",
         "y": [
          6.676159972628596,
          6.201777850390993,
          5.833487851572153,
          4.844470857226414,
          4.566804620047735,
          4.933828944821795,
          5.906629101975678,
          7.1406614802336295
         ],
         "yaxis": "y"
        },
        {
         "hovertemplate": "Data Set=train set<br>alpha=%{x}<br>MSE_value=%{y}<extra></extra>",
         "legendgroup": "train set",
         "line": {
          "color": "#EF553B",
          "dash": "solid"
         },
         "marker": {
          "symbol": "circle"
         },
         "mode": "markers+lines",
         "name": "train set",
         "orientation": "v",
         "showlegend": true,
         "type": "scatter",
         "x": [
          1e-9,
          1e-8,
          1e-7,
          0.000001,
          0.00001,
          0.0001,
          0.001,
          0.01
         ],
         "xaxis": "x",
         "y": [
          0.6857097229598965,
          0.7989535980603644,
          1.1470192898948746,
          1.796737838786661,
          2.800019372155001,
          4.249566872050273,
          5.757387274326992,
          6.8681449487521595
         ],
         "yaxis": "y"
        }
       ],
       "layout": {
        "legend": {
         "title": {
          "text": "Data Set"
         },
         "tracegroupgap": 0
        },
        "shapes": [
         {
          "line": {
           "color": "gray",
           "dash": "dash",
           "width": 2
          },
          "type": "line",
          "x0": 0.00001,
          "x1": 0.00001,
          "xref": "x",
          "y0": 0,
          "y1": 1,
          "yref": "y domain"
         },
         {
          "line": {
           "color": "gray",
           "dash": "dash",
           "width": 2
          },
          "type": "line",
          "x0": 0,
          "x1": 1,
          "xref": "x domain",
          "y0": 4.560085,
          "y1": 4.560085,
          "yref": "y"
         }
        ],
        "template": {
         "data": {
          "bar": [
           {
            "error_x": {
             "color": "#2a3f5f"
            },
            "error_y": {
             "color": "#2a3f5f"
            },
            "marker": {
             "line": {
              "color": "#E5ECF6",
              "width": 0.5
             },
             "pattern": {
              "fillmode": "overlay",
              "size": 10,
              "solidity": 0.2
             }
            },
            "type": "bar"
           }
          ],
          "barpolar": [
           {
            "marker": {
             "line": {
              "color": "#E5ECF6",
              "width": 0.5
             },
             "pattern": {
              "fillmode": "overlay",
              "size": 10,
              "solidity": 0.2
             }
            },
            "type": "barpolar"
           }
          ],
          "carpet": [
           {
            "aaxis": {
             "endlinecolor": "#2a3f5f",
             "gridcolor": "white",
             "linecolor": "white",
             "minorgridcolor": "white",
             "startlinecolor": "#2a3f5f"
            },
            "baxis": {
             "endlinecolor": "#2a3f5f",
             "gridcolor": "white",
             "linecolor": "white",
             "minorgridcolor": "white",
             "startlinecolor": "#2a3f5f"
            },
            "type": "carpet"
           }
          ],
          "choropleth": [
           {
            "colorbar": {
             "outlinewidth": 0,
             "ticks": ""
            },
            "type": "choropleth"
           }
          ],
          "contour": [
           {
            "colorbar": {
             "outlinewidth": 0,
             "ticks": ""
            },
            "colorscale": [
             [
              0,
              "#0d0887"
             ],
             [
              0.1111111111111111,
              "#46039f"
             ],
             [
              0.2222222222222222,
              "#7201a8"
             ],
             [
              0.3333333333333333,
              "#9c179e"
             ],
             [
              0.4444444444444444,
              "#bd3786"
             ],
             [
              0.5555555555555556,
              "#d8576b"
             ],
             [
              0.6666666666666666,
              "#ed7953"
             ],
             [
              0.7777777777777778,
              "#fb9f3a"
             ],
             [
              0.8888888888888888,
              "#fdca26"
             ],
             [
              1,
              "#f0f921"
             ]
            ],
            "type": "contour"
           }
          ],
          "contourcarpet": [
           {
            "colorbar": {
             "outlinewidth": 0,
             "ticks": ""
            },
            "type": "contourcarpet"
           }
          ],
          "heatmap": [
           {
            "colorbar": {
             "outlinewidth": 0,
             "ticks": ""
            },
            "colorscale": [
             [
              0,
              "#0d0887"
             ],
             [
              0.1111111111111111,
              "#46039f"
             ],
             [
              0.2222222222222222,
              "#7201a8"
             ],
             [
              0.3333333333333333,
              "#9c179e"
             ],
             [
              0.4444444444444444,
              "#bd3786"
             ],
             [
              0.5555555555555556,
              "#d8576b"
             ],
             [
              0.6666666666666666,
              "#ed7953"
             ],
             [
              0.7777777777777778,
              "#fb9f3a"
             ],
             [
              0.8888888888888888,
              "#fdca26"
             ],
             [
              1,
              "#f0f921"
             ]
            ],
            "type": "heatmap"
           }
          ],
          "heatmapgl": [
           {
            "colorbar": {
             "outlinewidth": 0,
             "ticks": ""
            },
            "colorscale": [
             [
              0,
              "#0d0887"
             ],
             [
              0.1111111111111111,
              "#46039f"
             ],
             [
              0.2222222222222222,
              "#7201a8"
             ],
             [
              0.3333333333333333,
              "#9c179e"
             ],
             [
              0.4444444444444444,
              "#bd3786"
             ],
             [
              0.5555555555555556,
              "#d8576b"
             ],
             [
              0.6666666666666666,
              "#ed7953"
             ],
             [
              0.7777777777777778,
              "#fb9f3a"
             ],
             [
              0.8888888888888888,
              "#fdca26"
             ],
             [
              1,
              "#f0f921"
             ]
            ],
            "type": "heatmapgl"
           }
          ],
          "histogram": [
           {
            "marker": {
             "pattern": {
              "fillmode": "overlay",
              "size": 10,
              "solidity": 0.2
             }
            },
            "type": "histogram"
           }
          ],
          "histogram2d": [
           {
            "colorbar": {
             "outlinewidth": 0,
             "ticks": ""
            },
            "colorscale": [
             [
              0,
              "#0d0887"
             ],
             [
              0.1111111111111111,
              "#46039f"
             ],
             [
              0.2222222222222222,
              "#7201a8"
             ],
             [
              0.3333333333333333,
              "#9c179e"
             ],
             [
              0.4444444444444444,
              "#bd3786"
             ],
             [
              0.5555555555555556,
              "#d8576b"
             ],
             [
              0.6666666666666666,
              "#ed7953"
             ],
             [
              0.7777777777777778,
              "#fb9f3a"
             ],
             [
              0.8888888888888888,
              "#fdca26"
             ],
             [
              1,
              "#f0f921"
             ]
            ],
            "type": "histogram2d"
           }
          ],
          "histogram2dcontour": [
           {
            "colorbar": {
             "outlinewidth": 0,
             "ticks": ""
            },
            "colorscale": [
             [
              0,
              "#0d0887"
             ],
             [
              0.1111111111111111,
              "#46039f"
             ],
             [
              0.2222222222222222,
              "#7201a8"
             ],
             [
              0.3333333333333333,
              "#9c179e"
             ],
             [
              0.4444444444444444,
              "#bd3786"
             ],
             [
              0.5555555555555556,
              "#d8576b"
             ],
             [
              0.6666666666666666,
              "#ed7953"
             ],
             [
              0.7777777777777778,
              "#fb9f3a"
             ],
             [
              0.8888888888888888,
              "#fdca26"
             ],
             [
              1,
              "#f0f921"
             ]
            ],
            "type": "histogram2dcontour"
           }
          ],
          "mesh3d": [
           {
            "colorbar": {
             "outlinewidth": 0,
             "ticks": ""
            },
            "type": "mesh3d"
           }
          ],
          "parcoords": [
           {
            "line": {
             "colorbar": {
              "outlinewidth": 0,
              "ticks": ""
             }
            },
            "type": "parcoords"
           }
          ],
          "pie": [
           {
            "automargin": true,
            "type": "pie"
           }
          ],
          "scatter": [
           {
            "marker": {
             "colorbar": {
              "outlinewidth": 0,
              "ticks": ""
             }
            },
            "type": "scatter"
           }
          ],
          "scatter3d": [
           {
            "line": {
             "colorbar": {
              "outlinewidth": 0,
              "ticks": ""
             }
            },
            "marker": {
             "colorbar": {
              "outlinewidth": 0,
              "ticks": ""
             }
            },
            "type": "scatter3d"
           }
          ],
          "scattercarpet": [
           {
            "marker": {
             "colorbar": {
              "outlinewidth": 0,
              "ticks": ""
             }
            },
            "type": "scattercarpet"
           }
          ],
          "scattergeo": [
           {
            "marker": {
             "colorbar": {
              "outlinewidth": 0,
              "ticks": ""
             }
            },
            "type": "scattergeo"
           }
          ],
          "scattergl": [
           {
            "marker": {
             "colorbar": {
              "outlinewidth": 0,
              "ticks": ""
             }
            },
            "type": "scattergl"
           }
          ],
          "scattermapbox": [
           {
            "marker": {
             "colorbar": {
              "outlinewidth": 0,
              "ticks": ""
             }
            },
            "type": "scattermapbox"
           }
          ],
          "scatterpolar": [
           {
            "marker": {
             "colorbar": {
              "outlinewidth": 0,
              "ticks": ""
             }
            },
            "type": "scatterpolar"
           }
          ],
          "scatterpolargl": [
           {
            "marker": {
             "colorbar": {
              "outlinewidth": 0,
              "ticks": ""
             }
            },
            "type": "scatterpolargl"
           }
          ],
          "scatterternary": [
           {
            "marker": {
             "colorbar": {
              "outlinewidth": 0,
              "ticks": ""
             }
            },
            "type": "scatterternary"
           }
          ],
          "surface": [
           {
            "colorbar": {
             "outlinewidth": 0,
             "ticks": ""
            },
            "colorscale": [
             [
              0,
              "#0d0887"
             ],
             [
              0.1111111111111111,
              "#46039f"
             ],
             [
              0.2222222222222222,
              "#7201a8"
             ],
             [
              0.3333333333333333,
              "#9c179e"
             ],
             [
              0.4444444444444444,
              "#bd3786"
             ],
             [
              0.5555555555555556,
              "#d8576b"
             ],
             [
              0.6666666666666666,
              "#ed7953"
             ],
             [
              0.7777777777777778,
              "#fb9f3a"
             ],
             [
              0.8888888888888888,
              "#fdca26"
             ],
             [
              1,
              "#f0f921"
             ]
            ],
            "type": "surface"
           }
          ],
          "table": [
           {
            "cells": {
             "fill": {
              "color": "#EBF0F8"
             },
             "line": {
              "color": "white"
             }
            },
            "header": {
             "fill": {
              "color": "#C8D4E3"
             },
             "line": {
              "color": "white"
             }
            },
            "type": "table"
           }
          ]
         },
         "layout": {
          "annotationdefaults": {
           "arrowcolor": "#2a3f5f",
           "arrowhead": 0,
           "arrowwidth": 1
          },
          "autotypenumbers": "strict",
          "coloraxis": {
           "colorbar": {
            "outlinewidth": 0,
            "ticks": ""
           }
          },
          "colorscale": {
           "diverging": [
            [
             0,
             "#8e0152"
            ],
            [
             0.1,
             "#c51b7d"
            ],
            [
             0.2,
             "#de77ae"
            ],
            [
             0.3,
             "#f1b6da"
            ],
            [
             0.4,
             "#fde0ef"
            ],
            [
             0.5,
             "#f7f7f7"
            ],
            [
             0.6,
             "#e6f5d0"
            ],
            [
             0.7,
             "#b8e186"
            ],
            [
             0.8,
             "#7fbc41"
            ],
            [
             0.9,
             "#4d9221"
            ],
            [
             1,
             "#276419"
            ]
           ],
           "sequential": [
            [
             0,
             "#0d0887"
            ],
            [
             0.1111111111111111,
             "#46039f"
            ],
            [
             0.2222222222222222,
             "#7201a8"
            ],
            [
             0.3333333333333333,
             "#9c179e"
            ],
            [
             0.4444444444444444,
             "#bd3786"
            ],
            [
             0.5555555555555556,
             "#d8576b"
            ],
            [
             0.6666666666666666,
             "#ed7953"
            ],
            [
             0.7777777777777778,
             "#fb9f3a"
            ],
            [
             0.8888888888888888,
             "#fdca26"
            ],
            [
             1,
             "#f0f921"
            ]
           ],
           "sequentialminus": [
            [
             0,
             "#0d0887"
            ],
            [
             0.1111111111111111,
             "#46039f"
            ],
            [
             0.2222222222222222,
             "#7201a8"
            ],
            [
             0.3333333333333333,
             "#9c179e"
            ],
            [
             0.4444444444444444,
             "#bd3786"
            ],
            [
             0.5555555555555556,
             "#d8576b"
            ],
            [
             0.6666666666666666,
             "#ed7953"
            ],
            [
             0.7777777777777778,
             "#fb9f3a"
            ],
            [
             0.8888888888888888,
             "#fdca26"
            ],
            [
             1,
             "#f0f921"
            ]
           ]
          },
          "colorway": [
           "#636efa",
           "#EF553B",
           "#00cc96",
           "#ab63fa",
           "#FFA15A",
           "#19d3f3",
           "#FF6692",
           "#B6E880",
           "#FF97FF",
           "#FECB52"
          ],
          "font": {
           "color": "#2a3f5f"
          },
          "geo": {
           "bgcolor": "white",
           "lakecolor": "white",
           "landcolor": "#E5ECF6",
           "showlakes": true,
           "showland": true,
           "subunitcolor": "white"
          },
          "hoverlabel": {
           "align": "left"
          },
          "hovermode": "closest",
          "mapbox": {
           "style": "light"
          },
          "paper_bgcolor": "white",
          "plot_bgcolor": "#E5ECF6",
          "polar": {
           "angularaxis": {
            "gridcolor": "white",
            "linecolor": "white",
            "ticks": ""
           },
           "bgcolor": "#E5ECF6",
           "radialaxis": {
            "gridcolor": "white",
            "linecolor": "white",
            "ticks": ""
           }
          },
          "scene": {
           "xaxis": {
            "backgroundcolor": "#E5ECF6",
            "gridcolor": "white",
            "gridwidth": 2,
            "linecolor": "white",
            "showbackground": true,
            "ticks": "",
            "zerolinecolor": "white"
           },
           "yaxis": {
            "backgroundcolor": "#E5ECF6",
            "gridcolor": "white",
            "gridwidth": 2,
            "linecolor": "white",
            "showbackground": true,
            "ticks": "",
            "zerolinecolor": "white"
           },
           "zaxis": {
            "backgroundcolor": "#E5ECF6",
            "gridcolor": "white",
            "gridwidth": 2,
            "linecolor": "white",
            "showbackground": true,
            "ticks": "",
            "zerolinecolor": "white"
           }
          },
          "shapedefaults": {
           "line": {
            "color": "#2a3f5f"
           }
          },
          "ternary": {
           "aaxis": {
            "gridcolor": "white",
            "linecolor": "white",
            "ticks": ""
           },
           "baxis": {
            "gridcolor": "white",
            "linecolor": "white",
            "ticks": ""
           },
           "bgcolor": "#E5ECF6",
           "caxis": {
            "gridcolor": "white",
            "linecolor": "white",
            "ticks": ""
           }
          },
          "title": {
           "x": 0.05
          },
          "xaxis": {
           "automargin": true,
           "gridcolor": "white",
           "linecolor": "white",
           "ticks": "",
           "title": {
            "standoff": 15
           },
           "zerolinecolor": "white",
           "zerolinewidth": 2
          },
          "yaxis": {
           "automargin": true,
           "gridcolor": "white",
           "linecolor": "white",
           "ticks": "",
           "title": {
            "standoff": 15
           },
           "zerolinecolor": "white",
           "zerolinewidth": 2
          }
         }
        },
        "title": {
         "text": "figure 2 : <b>Ridge Estimator - MSE as a function of alpha</b><br><i>(We considered both training and testing data when calculating the MSE)</i>"
        },
        "xaxis": {
         "anchor": "y",
         "domain": [
          0,
          1
         ],
         "title": {
          "text": "alpha"
         },
         "type": "log"
        },
        "yaxis": {
         "anchor": "x",
         "domain": [
          0,
          1
         ],
         "title": {
          "text": "MSE_value"
         }
        }
       }
      }
     },
     "metadata": {},
     "output_type": "display_data"
    }
   ],
   "source": [
    "# RidgeRegression model\n",
    "model_RidgeReg = (\n",
    "    RidgeRegression(alpha)\n",
    "    .fit(x_training_data_std, y_training_data)\n",
    "    .predict(x_test_data)\n",
    ")\n",
    "\n",
    "# Computing MSE values\n",
    "MSE_train_values, MSE_test_values = [], []\n",
    "for alpha in alphas:\n",
    "    MSE_test = (\n",
    "        RidgeRegression(alpha)\n",
    "        .fit(x_training_data_std, y_training_data)\n",
    "        .compute_MSE(x_test_data_std, y_test_data)\n",
    "    )\n",
    "    MSE_train = (\n",
    "        RidgeRegression(alpha)\n",
    "        .fit(x_training_data_std, y_training_data)\n",
    "        .compute_MSE(x_training_data_std, y_training_data)\n",
    "    )\n",
    "    MSE_test_values.append(MSE_test)\n",
    "    MSE_train_values.append(MSE_train)\n",
    "\n",
    "# Store all values in a DataFrame for plotting\n",
    "df_MSE_test_values = pd.DataFrame(MSE_test_values, columns=[\"MSE_value\"])\n",
    "df_concat_test = pd.concat((df_MSE_test_values, df_alphas), axis=1)\n",
    "df_concat_test[\"Data Set\"] = \"test set\"\n",
    "df_MSE_train_values = pd.DataFrame(MSE_train_values, columns=[\"MSE_value\"])\n",
    "df_concat_train = pd.concat((df_MSE_train_values, df_alphas), axis=1)\n",
    "df_concat_train[\"Data Set\"] = \"train set\"\n",
    "df_plot_2 = pd.concat((df_concat_test, df_concat_train), axis=0)\n",
    "\n",
    "# Displaying values\n",
    "fig_2 = px.line(\n",
    "    df_plot_2,\n",
    "    x=\"alpha\",\n",
    "    y=\"MSE_value\",\n",
    "    log_x=True,\n",
    "    markers=True,\n",
    "    color=\"Data Set\",\n",
    "    title=\"figure 2 : <b>Ridge Estimator - MSE as a function of alpha</b><br><i>(We considered both training and testing data when calculating the MSE)</i>\",\n",
    ")\n",
    "\n",
    "# Signaling the minimum\n",
    "fig_2.add_vline(x=10 ** (-5), line_width=2, line_dash=\"dash\", line_color=\"gray\")\n",
    "fig_2.add_hline(y=4.560085, line_width=2, line_dash=\"dash\", line_color=\"gray\")\n",
    "\n",
    "fig_2.show()"
   ]
  },
  {
   "attachments": {},
   "cell_type": "markdown",
   "metadata": {},
   "source": [
    "### 5.c Store the R2 coefficient in `df_coef` <a class=\"anchor\" id=\"section_5_c\"></a>"
   ]
  },
  {
   "cell_type": "code",
   "execution_count": 98,
   "metadata": {},
   "outputs": [
    {
     "data": {
      "text/html": [
       "<div>\n",
       "<style scoped>\n",
       "    .dataframe tbody tr th:only-of-type {\n",
       "        vertical-align: middle;\n",
       "    }\n",
       "\n",
       "    .dataframe tbody tr th {\n",
       "        vertical-align: top;\n",
       "    }\n",
       "\n",
       "    .dataframe thead th {\n",
       "        text-align: right;\n",
       "    }\n",
       "</style>\n",
       "<table border=\"1\" class=\"dataframe\">\n",
       "  <thead>\n",
       "    <tr style=\"text-align: right;\">\n",
       "      <th></th>\n",
       "      <th>model</th>\n",
       "      <th>subset</th>\n",
       "      <th>r2 value</th>\n",
       "    </tr>\n",
       "  </thead>\n",
       "  <tbody>\n",
       "    <tr>\n",
       "      <th>0</th>\n",
       "      <td>Baseline OLS regression</td>\n",
       "      <td>train</td>\n",
       "      <td>0.995789</td>\n",
       "    </tr>\n",
       "    <tr>\n",
       "      <th>1</th>\n",
       "      <td>Baseline OLS regression</td>\n",
       "      <td>test</td>\n",
       "      <td>0.86658</td>\n",
       "    </tr>\n",
       "    <tr>\n",
       "      <th>2</th>\n",
       "      <td>OLS - Forward Variable Selection</td>\n",
       "      <td>train</td>\n",
       "      <td>0.986968</td>\n",
       "    </tr>\n",
       "    <tr>\n",
       "      <th>3</th>\n",
       "      <td>OLS - Forward Variable Selection</td>\n",
       "      <td>test</td>\n",
       "      <td>0.844328</td>\n",
       "    </tr>\n",
       "    <tr>\n",
       "      <th>4</th>\n",
       "      <td>OLS - Sequential Feature Selector</td>\n",
       "      <td>train</td>\n",
       "      <td>0.98803</td>\n",
       "    </tr>\n",
       "    <tr>\n",
       "      <th>5</th>\n",
       "      <td>OLS - Sequential Feature Selector</td>\n",
       "      <td>test</td>\n",
       "      <td>0.86311</td>\n",
       "    </tr>\n",
       "    <tr>\n",
       "      <th>6</th>\n",
       "      <td>Ridge regression</td>\n",
       "      <td>train</td>\n",
       "      <td>0.995741</td>\n",
       "    </tr>\n",
       "    <tr>\n",
       "      <th>7</th>\n",
       "      <td>Ridge regression</td>\n",
       "      <td>test</td>\n",
       "      <td>0.876367</td>\n",
       "    </tr>\n",
       "  </tbody>\n",
       "</table>\n",
       "</div>"
      ],
      "text/plain": [
       "                               model subset  r2 value\n",
       "0            Baseline OLS regression  train  0.995789\n",
       "1            Baseline OLS regression   test   0.86658\n",
       "2   OLS - Forward Variable Selection  train  0.986968\n",
       "3   OLS - Forward Variable Selection   test  0.844328\n",
       "4  OLS - Sequential Feature Selector  train   0.98803\n",
       "5  OLS - Sequential Feature Selector   test   0.86311\n",
       "6                   Ridge regression  train  0.995741\n",
       "7                   Ridge regression   test  0.876367"
      ]
     },
     "execution_count": 98,
     "metadata": {},
     "output_type": "execute_result"
    }
   ],
   "source": [
    "# OLS regression\n",
    "model = RidgeRegression(alpha=10 ** (-9)).fit(x_training_data_std, y_training_data)\n",
    "\n",
    "# Computing R2 scores\n",
    "r2_train = r2_score(y_training_data, model.predict(x_training_data_std))\n",
    "r2_test = r2_score(y_test_data, model.predict(x_test_data_std))\n",
    "\n",
    "# Storing the scores in a DataFrame\n",
    "df_coef = df_coef.append(\n",
    "    {\n",
    "        \"r2 value\": r2_train,\n",
    "        \"model\": \"Ridge regression\",\n",
    "        \"subset\": \"train\",\n",
    "    },\n",
    "    ignore_index=True,\n",
    ")\n",
    "df_coef = df_coef.append(\n",
    "    {\n",
    "        \"r2 value\": r2_test,\n",
    "        \"model\": \"Ridge regression\",\n",
    "        \"subset\": \"test\",\n",
    "    },\n",
    "    ignore_index=True,\n",
    ").drop_duplicates()\n",
    "\n",
    "# Printing DataFrame\n",
    "df_coef\n"
   ]
  },
  {
   "attachments": {},
   "cell_type": "markdown",
   "metadata": {},
   "source": [
    "***\n",
    "## Part 4. Crossvalidation, Lasso and elastic net <a class=\"anchor\" id=\"chapter4\"></a>"
   ]
  },
  {
   "attachments": {},
   "cell_type": "markdown",
   "metadata": {},
   "source": [
    "### 6.a sklearn version of the Lasso <a class=\"anchor\" id=\"section_6_a\"></a>"
   ]
  },
  {
   "attachments": {},
   "cell_type": "markdown",
   "metadata": {},
   "source": [
    "When setting `tol` and `max_iter`, we have to take the following points into account:\n",
    "* `tol` controls how close you want to be to your optimum. Therefore, reducing the `tol` increases both the accuracy of the solution and the computation time.\n",
    "* `max_iter` refers to the maximum number of iterations the algorithm will perform to reach a solution. Therefore, increasing `max_iter` increases both the accuracy of the solution and the computation time."
   ]
  },
  {
   "attachments": {},
   "cell_type": "markdown",
   "metadata": {},
   "source": [
    "### 6.b Plot the number of coefficients that are different from $0$ for each value of $\\alpha$ <a class=\"anchor\" id=\"section_6_b\"></a>"
   ]
  },
  {
   "cell_type": "code",
   "execution_count": 99,
   "metadata": {},
   "outputs": [
    {
     "data": {
      "application/vnd.plotly.v1+json": {
       "config": {
        "plotlyServerURL": "https://plot.ly"
       },
       "data": [
        {
         "hovertemplate": "alpha=%{x}<br>nb. not null coeff=%{y}<extra></extra>",
         "legendgroup": "",
         "line": {
          "color": "#636efa",
          "dash": "solid"
         },
         "marker": {
          "symbol": "circle"
         },
         "mode": "markers+lines",
         "name": "",
         "orientation": "v",
         "showlegend": false,
         "type": "scatter",
         "x": [
          0.00001,
          0.000011513953993264481,
          0.000013257113655901082,
          0.000015264179671752335,
          0.00001757510624854793,
          0.000020235896477251556,
          0.000023299518105153718,
          0.000026826957952797274,
          0.000030888435964774785,
          0.000035564803062231284,
          0.00004094915062380427,
          0.0000471486636345739,
          0.000054286754393238594,
          0.00006250551925273976,
          0.00007196856730011514,
          0.00008286427728546843,
          0.00009540954763499944,
          0.00010985411419875583,
          0.00012648552168552957,
          0.00014563484775012445,
          0.00016768329368110083,
          0.00019306977288832496,
          0.00022229964825261955,
          0.0002559547922699536,
          0.00029470517025518097,
          0.000339322177189533,
          0.0003906939937054617,
          0.0004498432668969444,
          0.0005179474679231213,
          0.0005963623316594642,
          0.0006866488450042998,
          0.0007906043210907702,
          0.0009102981779915217,
          0.0010481131341546852,
          0.0012067926406393288,
          0.0013894954943731374,
          0.0015998587196060573,
          0.0018420699693267163,
          0.0021209508879201904,
          0.0024420530945486497,
          0.002811768697974231,
          0.0032374575428176433,
          0.003727593720314938,
          0.004291934260128779,
          0.004941713361323833,
          0.005689866029018293,
          0.006551285568595509,
          0.007543120063354615,
          0.00868511373751352,
          0.01
         ],
         "xaxis": "x",
         "y": [
          100,
          100,
          100,
          100,
          100,
          100,
          100,
          100,
          100,
          100,
          100,
          100,
          100,
          99,
          99,
          98,
          98,
          98,
          97,
          96,
          95,
          94,
          94,
          94,
          92,
          92,
          91,
          91,
          93,
          94,
          93,
          91,
          88,
          82,
          75,
          72,
          77,
          68,
          66,
          66,
          62,
          58,
          48,
          73,
          76,
          67,
          65,
          61,
          61,
          61
         ],
         "yaxis": "y"
        }
       ],
       "layout": {
        "legend": {
         "tracegroupgap": 0
        },
        "template": {
         "data": {
          "bar": [
           {
            "error_x": {
             "color": "#2a3f5f"
            },
            "error_y": {
             "color": "#2a3f5f"
            },
            "marker": {
             "line": {
              "color": "#E5ECF6",
              "width": 0.5
             },
             "pattern": {
              "fillmode": "overlay",
              "size": 10,
              "solidity": 0.2
             }
            },
            "type": "bar"
           }
          ],
          "barpolar": [
           {
            "marker": {
             "line": {
              "color": "#E5ECF6",
              "width": 0.5
             },
             "pattern": {
              "fillmode": "overlay",
              "size": 10,
              "solidity": 0.2
             }
            },
            "type": "barpolar"
           }
          ],
          "carpet": [
           {
            "aaxis": {
             "endlinecolor": "#2a3f5f",
             "gridcolor": "white",
             "linecolor": "white",
             "minorgridcolor": "white",
             "startlinecolor": "#2a3f5f"
            },
            "baxis": {
             "endlinecolor": "#2a3f5f",
             "gridcolor": "white",
             "linecolor": "white",
             "minorgridcolor": "white",
             "startlinecolor": "#2a3f5f"
            },
            "type": "carpet"
           }
          ],
          "choropleth": [
           {
            "colorbar": {
             "outlinewidth": 0,
             "ticks": ""
            },
            "type": "choropleth"
           }
          ],
          "contour": [
           {
            "colorbar": {
             "outlinewidth": 0,
             "ticks": ""
            },
            "colorscale": [
             [
              0,
              "#0d0887"
             ],
             [
              0.1111111111111111,
              "#46039f"
             ],
             [
              0.2222222222222222,
              "#7201a8"
             ],
             [
              0.3333333333333333,
              "#9c179e"
             ],
             [
              0.4444444444444444,
              "#bd3786"
             ],
             [
              0.5555555555555556,
              "#d8576b"
             ],
             [
              0.6666666666666666,
              "#ed7953"
             ],
             [
              0.7777777777777778,
              "#fb9f3a"
             ],
             [
              0.8888888888888888,
              "#fdca26"
             ],
             [
              1,
              "#f0f921"
             ]
            ],
            "type": "contour"
           }
          ],
          "contourcarpet": [
           {
            "colorbar": {
             "outlinewidth": 0,
             "ticks": ""
            },
            "type": "contourcarpet"
           }
          ],
          "heatmap": [
           {
            "colorbar": {
             "outlinewidth": 0,
             "ticks": ""
            },
            "colorscale": [
             [
              0,
              "#0d0887"
             ],
             [
              0.1111111111111111,
              "#46039f"
             ],
             [
              0.2222222222222222,
              "#7201a8"
             ],
             [
              0.3333333333333333,
              "#9c179e"
             ],
             [
              0.4444444444444444,
              "#bd3786"
             ],
             [
              0.5555555555555556,
              "#d8576b"
             ],
             [
              0.6666666666666666,
              "#ed7953"
             ],
             [
              0.7777777777777778,
              "#fb9f3a"
             ],
             [
              0.8888888888888888,
              "#fdca26"
             ],
             [
              1,
              "#f0f921"
             ]
            ],
            "type": "heatmap"
           }
          ],
          "heatmapgl": [
           {
            "colorbar": {
             "outlinewidth": 0,
             "ticks": ""
            },
            "colorscale": [
             [
              0,
              "#0d0887"
             ],
             [
              0.1111111111111111,
              "#46039f"
             ],
             [
              0.2222222222222222,
              "#7201a8"
             ],
             [
              0.3333333333333333,
              "#9c179e"
             ],
             [
              0.4444444444444444,
              "#bd3786"
             ],
             [
              0.5555555555555556,
              "#d8576b"
             ],
             [
              0.6666666666666666,
              "#ed7953"
             ],
             [
              0.7777777777777778,
              "#fb9f3a"
             ],
             [
              0.8888888888888888,
              "#fdca26"
             ],
             [
              1,
              "#f0f921"
             ]
            ],
            "type": "heatmapgl"
           }
          ],
          "histogram": [
           {
            "marker": {
             "pattern": {
              "fillmode": "overlay",
              "size": 10,
              "solidity": 0.2
             }
            },
            "type": "histogram"
           }
          ],
          "histogram2d": [
           {
            "colorbar": {
             "outlinewidth": 0,
             "ticks": ""
            },
            "colorscale": [
             [
              0,
              "#0d0887"
             ],
             [
              0.1111111111111111,
              "#46039f"
             ],
             [
              0.2222222222222222,
              "#7201a8"
             ],
             [
              0.3333333333333333,
              "#9c179e"
             ],
             [
              0.4444444444444444,
              "#bd3786"
             ],
             [
              0.5555555555555556,
              "#d8576b"
             ],
             [
              0.6666666666666666,
              "#ed7953"
             ],
             [
              0.7777777777777778,
              "#fb9f3a"
             ],
             [
              0.8888888888888888,
              "#fdca26"
             ],
             [
              1,
              "#f0f921"
             ]
            ],
            "type": "histogram2d"
           }
          ],
          "histogram2dcontour": [
           {
            "colorbar": {
             "outlinewidth": 0,
             "ticks": ""
            },
            "colorscale": [
             [
              0,
              "#0d0887"
             ],
             [
              0.1111111111111111,
              "#46039f"
             ],
             [
              0.2222222222222222,
              "#7201a8"
             ],
             [
              0.3333333333333333,
              "#9c179e"
             ],
             [
              0.4444444444444444,
              "#bd3786"
             ],
             [
              0.5555555555555556,
              "#d8576b"
             ],
             [
              0.6666666666666666,
              "#ed7953"
             ],
             [
              0.7777777777777778,
              "#fb9f3a"
             ],
             [
              0.8888888888888888,
              "#fdca26"
             ],
             [
              1,
              "#f0f921"
             ]
            ],
            "type": "histogram2dcontour"
           }
          ],
          "mesh3d": [
           {
            "colorbar": {
             "outlinewidth": 0,
             "ticks": ""
            },
            "type": "mesh3d"
           }
          ],
          "parcoords": [
           {
            "line": {
             "colorbar": {
              "outlinewidth": 0,
              "ticks": ""
             }
            },
            "type": "parcoords"
           }
          ],
          "pie": [
           {
            "automargin": true,
            "type": "pie"
           }
          ],
          "scatter": [
           {
            "marker": {
             "colorbar": {
              "outlinewidth": 0,
              "ticks": ""
             }
            },
            "type": "scatter"
           }
          ],
          "scatter3d": [
           {
            "line": {
             "colorbar": {
              "outlinewidth": 0,
              "ticks": ""
             }
            },
            "marker": {
             "colorbar": {
              "outlinewidth": 0,
              "ticks": ""
             }
            },
            "type": "scatter3d"
           }
          ],
          "scattercarpet": [
           {
            "marker": {
             "colorbar": {
              "outlinewidth": 0,
              "ticks": ""
             }
            },
            "type": "scattercarpet"
           }
          ],
          "scattergeo": [
           {
            "marker": {
             "colorbar": {
              "outlinewidth": 0,
              "ticks": ""
             }
            },
            "type": "scattergeo"
           }
          ],
          "scattergl": [
           {
            "marker": {
             "colorbar": {
              "outlinewidth": 0,
              "ticks": ""
             }
            },
            "type": "scattergl"
           }
          ],
          "scattermapbox": [
           {
            "marker": {
             "colorbar": {
              "outlinewidth": 0,
              "ticks": ""
             }
            },
            "type": "scattermapbox"
           }
          ],
          "scatterpolar": [
           {
            "marker": {
             "colorbar": {
              "outlinewidth": 0,
              "ticks": ""
             }
            },
            "type": "scatterpolar"
           }
          ],
          "scatterpolargl": [
           {
            "marker": {
             "colorbar": {
              "outlinewidth": 0,
              "ticks": ""
             }
            },
            "type": "scatterpolargl"
           }
          ],
          "scatterternary": [
           {
            "marker": {
             "colorbar": {
              "outlinewidth": 0,
              "ticks": ""
             }
            },
            "type": "scatterternary"
           }
          ],
          "surface": [
           {
            "colorbar": {
             "outlinewidth": 0,
             "ticks": ""
            },
            "colorscale": [
             [
              0,
              "#0d0887"
             ],
             [
              0.1111111111111111,
              "#46039f"
             ],
             [
              0.2222222222222222,
              "#7201a8"
             ],
             [
              0.3333333333333333,
              "#9c179e"
             ],
             [
              0.4444444444444444,
              "#bd3786"
             ],
             [
              0.5555555555555556,
              "#d8576b"
             ],
             [
              0.6666666666666666,
              "#ed7953"
             ],
             [
              0.7777777777777778,
              "#fb9f3a"
             ],
             [
              0.8888888888888888,
              "#fdca26"
             ],
             [
              1,
              "#f0f921"
             ]
            ],
            "type": "surface"
           }
          ],
          "table": [
           {
            "cells": {
             "fill": {
              "color": "#EBF0F8"
             },
             "line": {
              "color": "white"
             }
            },
            "header": {
             "fill": {
              "color": "#C8D4E3"
             },
             "line": {
              "color": "white"
             }
            },
            "type": "table"
           }
          ]
         },
         "layout": {
          "annotationdefaults": {
           "arrowcolor": "#2a3f5f",
           "arrowhead": 0,
           "arrowwidth": 1
          },
          "autotypenumbers": "strict",
          "coloraxis": {
           "colorbar": {
            "outlinewidth": 0,
            "ticks": ""
           }
          },
          "colorscale": {
           "diverging": [
            [
             0,
             "#8e0152"
            ],
            [
             0.1,
             "#c51b7d"
            ],
            [
             0.2,
             "#de77ae"
            ],
            [
             0.3,
             "#f1b6da"
            ],
            [
             0.4,
             "#fde0ef"
            ],
            [
             0.5,
             "#f7f7f7"
            ],
            [
             0.6,
             "#e6f5d0"
            ],
            [
             0.7,
             "#b8e186"
            ],
            [
             0.8,
             "#7fbc41"
            ],
            [
             0.9,
             "#4d9221"
            ],
            [
             1,
             "#276419"
            ]
           ],
           "sequential": [
            [
             0,
             "#0d0887"
            ],
            [
             0.1111111111111111,
             "#46039f"
            ],
            [
             0.2222222222222222,
             "#7201a8"
            ],
            [
             0.3333333333333333,
             "#9c179e"
            ],
            [
             0.4444444444444444,
             "#bd3786"
            ],
            [
             0.5555555555555556,
             "#d8576b"
            ],
            [
             0.6666666666666666,
             "#ed7953"
            ],
            [
             0.7777777777777778,
             "#fb9f3a"
            ],
            [
             0.8888888888888888,
             "#fdca26"
            ],
            [
             1,
             "#f0f921"
            ]
           ],
           "sequentialminus": [
            [
             0,
             "#0d0887"
            ],
            [
             0.1111111111111111,
             "#46039f"
            ],
            [
             0.2222222222222222,
             "#7201a8"
            ],
            [
             0.3333333333333333,
             "#9c179e"
            ],
            [
             0.4444444444444444,
             "#bd3786"
            ],
            [
             0.5555555555555556,
             "#d8576b"
            ],
            [
             0.6666666666666666,
             "#ed7953"
            ],
            [
             0.7777777777777778,
             "#fb9f3a"
            ],
            [
             0.8888888888888888,
             "#fdca26"
            ],
            [
             1,
             "#f0f921"
            ]
           ]
          },
          "colorway": [
           "#636efa",
           "#EF553B",
           "#00cc96",
           "#ab63fa",
           "#FFA15A",
           "#19d3f3",
           "#FF6692",
           "#B6E880",
           "#FF97FF",
           "#FECB52"
          ],
          "font": {
           "color": "#2a3f5f"
          },
          "geo": {
           "bgcolor": "white",
           "lakecolor": "white",
           "landcolor": "#E5ECF6",
           "showlakes": true,
           "showland": true,
           "subunitcolor": "white"
          },
          "hoverlabel": {
           "align": "left"
          },
          "hovermode": "closest",
          "mapbox": {
           "style": "light"
          },
          "paper_bgcolor": "white",
          "plot_bgcolor": "#E5ECF6",
          "polar": {
           "angularaxis": {
            "gridcolor": "white",
            "linecolor": "white",
            "ticks": ""
           },
           "bgcolor": "#E5ECF6",
           "radialaxis": {
            "gridcolor": "white",
            "linecolor": "white",
            "ticks": ""
           }
          },
          "scene": {
           "xaxis": {
            "backgroundcolor": "#E5ECF6",
            "gridcolor": "white",
            "gridwidth": 2,
            "linecolor": "white",
            "showbackground": true,
            "ticks": "",
            "zerolinecolor": "white"
           },
           "yaxis": {
            "backgroundcolor": "#E5ECF6",
            "gridcolor": "white",
            "gridwidth": 2,
            "linecolor": "white",
            "showbackground": true,
            "ticks": "",
            "zerolinecolor": "white"
           },
           "zaxis": {
            "backgroundcolor": "#E5ECF6",
            "gridcolor": "white",
            "gridwidth": 2,
            "linecolor": "white",
            "showbackground": true,
            "ticks": "",
            "zerolinecolor": "white"
           }
          },
          "shapedefaults": {
           "line": {
            "color": "#2a3f5f"
           }
          },
          "ternary": {
           "aaxis": {
            "gridcolor": "white",
            "linecolor": "white",
            "ticks": ""
           },
           "baxis": {
            "gridcolor": "white",
            "linecolor": "white",
            "ticks": ""
           },
           "bgcolor": "#E5ECF6",
           "caxis": {
            "gridcolor": "white",
            "linecolor": "white",
            "ticks": ""
           }
          },
          "title": {
           "x": 0.05
          },
          "xaxis": {
           "automargin": true,
           "gridcolor": "white",
           "linecolor": "white",
           "ticks": "",
           "title": {
            "standoff": 15
           },
           "zerolinecolor": "white",
           "zerolinewidth": 2
          },
          "yaxis": {
           "automargin": true,
           "gridcolor": "white",
           "linecolor": "white",
           "ticks": "",
           "title": {
            "standoff": 15
           },
           "zerolinecolor": "white",
           "zerolinewidth": 2
          }
         }
        },
        "title": {
         "text": "figure 3 : <b>Lasso Estimator - Evolution of the number of not null coeff. as a function of <i>alpha</i>"
        },
        "xaxis": {
         "anchor": "y",
         "domain": [
          0,
          1
         ],
         "title": {
          "text": "alpha"
         },
         "type": "log"
        },
        "yaxis": {
         "anchor": "x",
         "domain": [
          0,
          1
         ],
         "title": {
          "text": "nb. not null coeff"
         }
        }
       }
      }
     },
     "metadata": {},
     "output_type": "display_data"
    }
   ],
   "source": [
    "# LassoRegression : number of coefficients different from 0 for each alpha\n",
    "non_zero_coef, alphas_2 = [], np.logspace(-5, -2, 50)\n",
    "for alpha in alphas_2:\n",
    "    LassoRegression = linear_model.Lasso(\n",
    "        alpha=alpha, fit_intercept=True, max_iter=10**6, tol=1e-1\n",
    "    )\n",
    "    LassoRegression.fit(x_training_data_std, y_training_data)\n",
    "    non_zero_coef.append(np.count_nonzero(LassoRegression.coef_))\n",
    "\n",
    "# Conversion to DataFrame for plotting\n",
    "df_alphas_2 = pd.DataFrame(alphas_2, columns=[\"alpha\"])\n",
    "df_not_null = pd.DataFrame(non_zero_coef, columns=[\"nb. not null coeff\"])\n",
    "df_plot_3 = pd.concat((df_not_null, df_alphas_2), axis=1)\n",
    "\n",
    "# Display values\n",
    "fig_3 = px.line(\n",
    "    df_plot_3,\n",
    "    x=\"alpha\",\n",
    "    y=\"nb. not null coeff\",\n",
    "    log_x=True,\n",
    "    markers=True,\n",
    "    title=\"figure 3 : <b>Lasso Estimator - Evolution of the number of not null coeff. as a function of <i>alpha</i>\",\n",
    ")\n",
    "fig_3.show()\n"
   ]
  },
  {
   "attachments": {},
   "cell_type": "markdown",
   "metadata": {},
   "source": [
    "### 6.c Plot how MSE of both the train and test sets change with $\\alpha$ <a class=\"anchor\" id=\"section_6_c\"></a>"
   ]
  },
  {
   "cell_type": "code",
   "execution_count": 100,
   "metadata": {},
   "outputs": [
    {
     "data": {
      "application/vnd.plotly.v1+json": {
       "config": {
        "plotlyServerURL": "https://plot.ly"
       },
       "data": [
        {
         "hovertemplate": "Data Set=test set<br>alpha=%{x}<br>MSE_value=%{y}<extra></extra>",
         "legendgroup": "test set",
         "line": {
          "color": "#636efa",
          "dash": "solid"
         },
         "marker": {
          "symbol": "circle"
         },
         "mode": "markers+lines",
         "name": "test set",
         "orientation": "v",
         "showlegend": true,
         "type": "scatter",
         "x": [
          1e-9,
          1e-8,
          1e-7,
          0.000001,
          0.00001,
          0.0001,
          0.001,
          0.01
         ],
         "xaxis": "x",
         "y": [
          0.23003132614096894,
          0.23003095968844708,
          0.230027295820898,
          0.2299906717109763,
          0.22962601063540347,
          0.22542883209911752,
          0.1928112900832442,
          0.19437680287592876
         ],
         "yaxis": "y"
        },
        {
         "hovertemplate": "Data Set=train set<br>alpha=%{x}<br>MSE_value=%{y}<extra></extra>",
         "legendgroup": "train set",
         "line": {
          "color": "#EF553B",
          "dash": "solid"
         },
         "marker": {
          "symbol": "circle"
         },
         "mode": "markers+lines",
         "name": "train set",
         "orientation": "v",
         "showlegend": true,
         "type": "scatter",
         "x": [
          1e-9,
          1e-8,
          1e-7,
          0.000001,
          0.00001,
          0.0001,
          0.001,
          0.01
         ],
         "xaxis": "x",
         "y": [
          0.19985469995386945,
          0.19985392908623364,
          0.1998462206468574,
          0.19976915675360465,
          0.19900007145511392,
          0.1907565532044086,
          0.12774757903866027,
          0.13405157931901204
         ],
         "yaxis": "y"
        }
       ],
       "layout": {
        "legend": {
         "title": {
          "text": "Data Set"
         },
         "tracegroupgap": 0
        },
        "template": {
         "data": {
          "bar": [
           {
            "error_x": {
             "color": "#2a3f5f"
            },
            "error_y": {
             "color": "#2a3f5f"
            },
            "marker": {
             "line": {
              "color": "#E5ECF6",
              "width": 0.5
             },
             "pattern": {
              "fillmode": "overlay",
              "size": 10,
              "solidity": 0.2
             }
            },
            "type": "bar"
           }
          ],
          "barpolar": [
           {
            "marker": {
             "line": {
              "color": "#E5ECF6",
              "width": 0.5
             },
             "pattern": {
              "fillmode": "overlay",
              "size": 10,
              "solidity": 0.2
             }
            },
            "type": "barpolar"
           }
          ],
          "carpet": [
           {
            "aaxis": {
             "endlinecolor": "#2a3f5f",
             "gridcolor": "white",
             "linecolor": "white",
             "minorgridcolor": "white",
             "startlinecolor": "#2a3f5f"
            },
            "baxis": {
             "endlinecolor": "#2a3f5f",
             "gridcolor": "white",
             "linecolor": "white",
             "minorgridcolor": "white",
             "startlinecolor": "#2a3f5f"
            },
            "type": "carpet"
           }
          ],
          "choropleth": [
           {
            "colorbar": {
             "outlinewidth": 0,
             "ticks": ""
            },
            "type": "choropleth"
           }
          ],
          "contour": [
           {
            "colorbar": {
             "outlinewidth": 0,
             "ticks": ""
            },
            "colorscale": [
             [
              0,
              "#0d0887"
             ],
             [
              0.1111111111111111,
              "#46039f"
             ],
             [
              0.2222222222222222,
              "#7201a8"
             ],
             [
              0.3333333333333333,
              "#9c179e"
             ],
             [
              0.4444444444444444,
              "#bd3786"
             ],
             [
              0.5555555555555556,
              "#d8576b"
             ],
             [
              0.6666666666666666,
              "#ed7953"
             ],
             [
              0.7777777777777778,
              "#fb9f3a"
             ],
             [
              0.8888888888888888,
              "#fdca26"
             ],
             [
              1,
              "#f0f921"
             ]
            ],
            "type": "contour"
           }
          ],
          "contourcarpet": [
           {
            "colorbar": {
             "outlinewidth": 0,
             "ticks": ""
            },
            "type": "contourcarpet"
           }
          ],
          "heatmap": [
           {
            "colorbar": {
             "outlinewidth": 0,
             "ticks": ""
            },
            "colorscale": [
             [
              0,
              "#0d0887"
             ],
             [
              0.1111111111111111,
              "#46039f"
             ],
             [
              0.2222222222222222,
              "#7201a8"
             ],
             [
              0.3333333333333333,
              "#9c179e"
             ],
             [
              0.4444444444444444,
              "#bd3786"
             ],
             [
              0.5555555555555556,
              "#d8576b"
             ],
             [
              0.6666666666666666,
              "#ed7953"
             ],
             [
              0.7777777777777778,
              "#fb9f3a"
             ],
             [
              0.8888888888888888,
              "#fdca26"
             ],
             [
              1,
              "#f0f921"
             ]
            ],
            "type": "heatmap"
           }
          ],
          "heatmapgl": [
           {
            "colorbar": {
             "outlinewidth": 0,
             "ticks": ""
            },
            "colorscale": [
             [
              0,
              "#0d0887"
             ],
             [
              0.1111111111111111,
              "#46039f"
             ],
             [
              0.2222222222222222,
              "#7201a8"
             ],
             [
              0.3333333333333333,
              "#9c179e"
             ],
             [
              0.4444444444444444,
              "#bd3786"
             ],
             [
              0.5555555555555556,
              "#d8576b"
             ],
             [
              0.6666666666666666,
              "#ed7953"
             ],
             [
              0.7777777777777778,
              "#fb9f3a"
             ],
             [
              0.8888888888888888,
              "#fdca26"
             ],
             [
              1,
              "#f0f921"
             ]
            ],
            "type": "heatmapgl"
           }
          ],
          "histogram": [
           {
            "marker": {
             "pattern": {
              "fillmode": "overlay",
              "size": 10,
              "solidity": 0.2
             }
            },
            "type": "histogram"
           }
          ],
          "histogram2d": [
           {
            "colorbar": {
             "outlinewidth": 0,
             "ticks": ""
            },
            "colorscale": [
             [
              0,
              "#0d0887"
             ],
             [
              0.1111111111111111,
              "#46039f"
             ],
             [
              0.2222222222222222,
              "#7201a8"
             ],
             [
              0.3333333333333333,
              "#9c179e"
             ],
             [
              0.4444444444444444,
              "#bd3786"
             ],
             [
              0.5555555555555556,
              "#d8576b"
             ],
             [
              0.6666666666666666,
              "#ed7953"
             ],
             [
              0.7777777777777778,
              "#fb9f3a"
             ],
             [
              0.8888888888888888,
              "#fdca26"
             ],
             [
              1,
              "#f0f921"
             ]
            ],
            "type": "histogram2d"
           }
          ],
          "histogram2dcontour": [
           {
            "colorbar": {
             "outlinewidth": 0,
             "ticks": ""
            },
            "colorscale": [
             [
              0,
              "#0d0887"
             ],
             [
              0.1111111111111111,
              "#46039f"
             ],
             [
              0.2222222222222222,
              "#7201a8"
             ],
             [
              0.3333333333333333,
              "#9c179e"
             ],
             [
              0.4444444444444444,
              "#bd3786"
             ],
             [
              0.5555555555555556,
              "#d8576b"
             ],
             [
              0.6666666666666666,
              "#ed7953"
             ],
             [
              0.7777777777777778,
              "#fb9f3a"
             ],
             [
              0.8888888888888888,
              "#fdca26"
             ],
             [
              1,
              "#f0f921"
             ]
            ],
            "type": "histogram2dcontour"
           }
          ],
          "mesh3d": [
           {
            "colorbar": {
             "outlinewidth": 0,
             "ticks": ""
            },
            "type": "mesh3d"
           }
          ],
          "parcoords": [
           {
            "line": {
             "colorbar": {
              "outlinewidth": 0,
              "ticks": ""
             }
            },
            "type": "parcoords"
           }
          ],
          "pie": [
           {
            "automargin": true,
            "type": "pie"
           }
          ],
          "scatter": [
           {
            "marker": {
             "colorbar": {
              "outlinewidth": 0,
              "ticks": ""
             }
            },
            "type": "scatter"
           }
          ],
          "scatter3d": [
           {
            "line": {
             "colorbar": {
              "outlinewidth": 0,
              "ticks": ""
             }
            },
            "marker": {
             "colorbar": {
              "outlinewidth": 0,
              "ticks": ""
             }
            },
            "type": "scatter3d"
           }
          ],
          "scattercarpet": [
           {
            "marker": {
             "colorbar": {
              "outlinewidth": 0,
              "ticks": ""
             }
            },
            "type": "scattercarpet"
           }
          ],
          "scattergeo": [
           {
            "marker": {
             "colorbar": {
              "outlinewidth": 0,
              "ticks": ""
             }
            },
            "type": "scattergeo"
           }
          ],
          "scattergl": [
           {
            "marker": {
             "colorbar": {
              "outlinewidth": 0,
              "ticks": ""
             }
            },
            "type": "scattergl"
           }
          ],
          "scattermapbox": [
           {
            "marker": {
             "colorbar": {
              "outlinewidth": 0,
              "ticks": ""
             }
            },
            "type": "scattermapbox"
           }
          ],
          "scatterpolar": [
           {
            "marker": {
             "colorbar": {
              "outlinewidth": 0,
              "ticks": ""
             }
            },
            "type": "scatterpolar"
           }
          ],
          "scatterpolargl": [
           {
            "marker": {
             "colorbar": {
              "outlinewidth": 0,
              "ticks": ""
             }
            },
            "type": "scatterpolargl"
           }
          ],
          "scatterternary": [
           {
            "marker": {
             "colorbar": {
              "outlinewidth": 0,
              "ticks": ""
             }
            },
            "type": "scatterternary"
           }
          ],
          "surface": [
           {
            "colorbar": {
             "outlinewidth": 0,
             "ticks": ""
            },
            "colorscale": [
             [
              0,
              "#0d0887"
             ],
             [
              0.1111111111111111,
              "#46039f"
             ],
             [
              0.2222222222222222,
              "#7201a8"
             ],
             [
              0.3333333333333333,
              "#9c179e"
             ],
             [
              0.4444444444444444,
              "#bd3786"
             ],
             [
              0.5555555555555556,
              "#d8576b"
             ],
             [
              0.6666666666666666,
              "#ed7953"
             ],
             [
              0.7777777777777778,
              "#fb9f3a"
             ],
             [
              0.8888888888888888,
              "#fdca26"
             ],
             [
              1,
              "#f0f921"
             ]
            ],
            "type": "surface"
           }
          ],
          "table": [
           {
            "cells": {
             "fill": {
              "color": "#EBF0F8"
             },
             "line": {
              "color": "white"
             }
            },
            "header": {
             "fill": {
              "color": "#C8D4E3"
             },
             "line": {
              "color": "white"
             }
            },
            "type": "table"
           }
          ]
         },
         "layout": {
          "annotationdefaults": {
           "arrowcolor": "#2a3f5f",
           "arrowhead": 0,
           "arrowwidth": 1
          },
          "autotypenumbers": "strict",
          "coloraxis": {
           "colorbar": {
            "outlinewidth": 0,
            "ticks": ""
           }
          },
          "colorscale": {
           "diverging": [
            [
             0,
             "#8e0152"
            ],
            [
             0.1,
             "#c51b7d"
            ],
            [
             0.2,
             "#de77ae"
            ],
            [
             0.3,
             "#f1b6da"
            ],
            [
             0.4,
             "#fde0ef"
            ],
            [
             0.5,
             "#f7f7f7"
            ],
            [
             0.6,
             "#e6f5d0"
            ],
            [
             0.7,
             "#b8e186"
            ],
            [
             0.8,
             "#7fbc41"
            ],
            [
             0.9,
             "#4d9221"
            ],
            [
             1,
             "#276419"
            ]
           ],
           "sequential": [
            [
             0,
             "#0d0887"
            ],
            [
             0.1111111111111111,
             "#46039f"
            ],
            [
             0.2222222222222222,
             "#7201a8"
            ],
            [
             0.3333333333333333,
             "#9c179e"
            ],
            [
             0.4444444444444444,
             "#bd3786"
            ],
            [
             0.5555555555555556,
             "#d8576b"
            ],
            [
             0.6666666666666666,
             "#ed7953"
            ],
            [
             0.7777777777777778,
             "#fb9f3a"
            ],
            [
             0.8888888888888888,
             "#fdca26"
            ],
            [
             1,
             "#f0f921"
            ]
           ],
           "sequentialminus": [
            [
             0,
             "#0d0887"
            ],
            [
             0.1111111111111111,
             "#46039f"
            ],
            [
             0.2222222222222222,
             "#7201a8"
            ],
            [
             0.3333333333333333,
             "#9c179e"
            ],
            [
             0.4444444444444444,
             "#bd3786"
            ],
            [
             0.5555555555555556,
             "#d8576b"
            ],
            [
             0.6666666666666666,
             "#ed7953"
            ],
            [
             0.7777777777777778,
             "#fb9f3a"
            ],
            [
             0.8888888888888888,
             "#fdca26"
            ],
            [
             1,
             "#f0f921"
            ]
           ]
          },
          "colorway": [
           "#636efa",
           "#EF553B",
           "#00cc96",
           "#ab63fa",
           "#FFA15A",
           "#19d3f3",
           "#FF6692",
           "#B6E880",
           "#FF97FF",
           "#FECB52"
          ],
          "font": {
           "color": "#2a3f5f"
          },
          "geo": {
           "bgcolor": "white",
           "lakecolor": "white",
           "landcolor": "#E5ECF6",
           "showlakes": true,
           "showland": true,
           "subunitcolor": "white"
          },
          "hoverlabel": {
           "align": "left"
          },
          "hovermode": "closest",
          "mapbox": {
           "style": "light"
          },
          "paper_bgcolor": "white",
          "plot_bgcolor": "#E5ECF6",
          "polar": {
           "angularaxis": {
            "gridcolor": "white",
            "linecolor": "white",
            "ticks": ""
           },
           "bgcolor": "#E5ECF6",
           "radialaxis": {
            "gridcolor": "white",
            "linecolor": "white",
            "ticks": ""
           }
          },
          "scene": {
           "xaxis": {
            "backgroundcolor": "#E5ECF6",
            "gridcolor": "white",
            "gridwidth": 2,
            "linecolor": "white",
            "showbackground": true,
            "ticks": "",
            "zerolinecolor": "white"
           },
           "yaxis": {
            "backgroundcolor": "#E5ECF6",
            "gridcolor": "white",
            "gridwidth": 2,
            "linecolor": "white",
            "showbackground": true,
            "ticks": "",
            "zerolinecolor": "white"
           },
           "zaxis": {
            "backgroundcolor": "#E5ECF6",
            "gridcolor": "white",
            "gridwidth": 2,
            "linecolor": "white",
            "showbackground": true,
            "ticks": "",
            "zerolinecolor": "white"
           }
          },
          "shapedefaults": {
           "line": {
            "color": "#2a3f5f"
           }
          },
          "ternary": {
           "aaxis": {
            "gridcolor": "white",
            "linecolor": "white",
            "ticks": ""
           },
           "baxis": {
            "gridcolor": "white",
            "linecolor": "white",
            "ticks": ""
           },
           "bgcolor": "#E5ECF6",
           "caxis": {
            "gridcolor": "white",
            "linecolor": "white",
            "ticks": ""
           }
          },
          "title": {
           "x": 0.05
          },
          "xaxis": {
           "automargin": true,
           "gridcolor": "white",
           "linecolor": "white",
           "ticks": "",
           "title": {
            "standoff": 15
           },
           "zerolinecolor": "white",
           "zerolinewidth": 2
          },
          "yaxis": {
           "automargin": true,
           "gridcolor": "white",
           "linecolor": "white",
           "ticks": "",
           "title": {
            "standoff": 15
           },
           "zerolinecolor": "white",
           "zerolinewidth": 2
          }
         }
        },
        "title": {
         "text": "figure 4 : <b>Lasso Estimator - MSE as a function of alpha</b><br><i>(We considered both training and testing data for prediction)</i>"
        },
        "xaxis": {
         "anchor": "y",
         "domain": [
          0,
          1
         ],
         "title": {
          "text": "alpha"
         },
         "type": "log"
        },
        "yaxis": {
         "anchor": "x",
         "domain": [
          0,
          1
         ],
         "title": {
          "text": "MSE_value"
         }
        }
       }
      }
     },
     "metadata": {},
     "output_type": "display_data"
    }
   ],
   "source": [
    "# MSE of both the train and test sets change with alpha\n",
    "MSE_train_values, MSE_test_values = [], []\n",
    "for alpha in alphas:\n",
    "    # Lasso Regression with alpha\n",
    "    LassoRegression = linear_model.Lasso(\n",
    "        alpha=alpha, fit_intercept=True, tol=1e-1, max_iter=10**6\n",
    "    )\n",
    "    LassoRegression.fit(x_training_data_std, y_training_data)\n",
    "    # MSE values\n",
    "    MSE_test_values.append(\n",
    "        mean_squared_error(y_test_data, LassoRegression.predict(x_test_data_std))\n",
    "    )\n",
    "    MSE_train_values.append(\n",
    "        mean_squared_error(\n",
    "            y_training_data, LassoRegression.predict(x_training_data_std)\n",
    "        )\n",
    "    )\n",
    "\n",
    "# Converting to DataFrame for plotting\n",
    "df_MSE_test_values = pd.DataFrame(MSE_test_values, columns=[\"MSE_value\"])\n",
    "df_concat_test = pd.concat((df_MSE_test_values, df_alphas), axis=1)\n",
    "df_concat_test[\"Data Set\"] = \"test set\"\n",
    "\n",
    "df_MSE_train_values = pd.DataFrame(MSE_train_values, columns=[\"MSE_value\"])\n",
    "df_concat_train = pd.concat((df_MSE_train_values, df_alphas), axis=1)\n",
    "df_concat_train[\"Data Set\"] = \"train set\"\n",
    "\n",
    "df_plot_4 = pd.concat((df_concat_test, df_concat_train), axis=0)\n",
    "\n",
    "# Displaying figure\n",
    "fig_4 = px.line(\n",
    "    df_plot_4,\n",
    "    x=\"alpha\",\n",
    "    y=\"MSE_value\",\n",
    "    log_x=True,\n",
    "    markers=True,\n",
    "    color=\"Data Set\",\n",
    "    title=\"figure 4 : <b>Lasso Estimator - MSE as a function of alpha</b><br><i>(We considered both training and testing data for prediction)</i>\",\n",
    ")\n",
    "\n",
    "fig_4.show()"
   ]
  },
  {
   "attachments": {},
   "cell_type": "markdown",
   "metadata": {},
   "source": [
    "We then store the R2 coefficient in `df_coef`."
   ]
  },
  {
   "cell_type": "code",
   "execution_count": 101,
   "metadata": {},
   "outputs": [
    {
     "data": {
      "text/html": [
       "<div>\n",
       "<style scoped>\n",
       "    .dataframe tbody tr th:only-of-type {\n",
       "        vertical-align: middle;\n",
       "    }\n",
       "\n",
       "    .dataframe tbody tr th {\n",
       "        vertical-align: top;\n",
       "    }\n",
       "\n",
       "    .dataframe thead th {\n",
       "        text-align: right;\n",
       "    }\n",
       "</style>\n",
       "<table border=\"1\" class=\"dataframe\">\n",
       "  <thead>\n",
       "    <tr style=\"text-align: right;\">\n",
       "      <th></th>\n",
       "      <th>model</th>\n",
       "      <th>subset</th>\n",
       "      <th>r2 value</th>\n",
       "    </tr>\n",
       "  </thead>\n",
       "  <tbody>\n",
       "    <tr>\n",
       "      <th>0</th>\n",
       "      <td>Baseline OLS regression</td>\n",
       "      <td>train</td>\n",
       "      <td>0.995789</td>\n",
       "    </tr>\n",
       "    <tr>\n",
       "      <th>1</th>\n",
       "      <td>Baseline OLS regression</td>\n",
       "      <td>test</td>\n",
       "      <td>0.86658</td>\n",
       "    </tr>\n",
       "    <tr>\n",
       "      <th>2</th>\n",
       "      <td>OLS - Forward Variable Selection</td>\n",
       "      <td>train</td>\n",
       "      <td>0.986968</td>\n",
       "    </tr>\n",
       "    <tr>\n",
       "      <th>3</th>\n",
       "      <td>OLS - Forward Variable Selection</td>\n",
       "      <td>test</td>\n",
       "      <td>0.844328</td>\n",
       "    </tr>\n",
       "    <tr>\n",
       "      <th>4</th>\n",
       "      <td>OLS - Sequential Feature Selector</td>\n",
       "      <td>train</td>\n",
       "      <td>0.98803</td>\n",
       "    </tr>\n",
       "    <tr>\n",
       "      <th>5</th>\n",
       "      <td>OLS - Sequential Feature Selector</td>\n",
       "      <td>test</td>\n",
       "      <td>0.86311</td>\n",
       "    </tr>\n",
       "    <tr>\n",
       "      <th>6</th>\n",
       "      <td>Ridge regression</td>\n",
       "      <td>train</td>\n",
       "      <td>0.995741</td>\n",
       "    </tr>\n",
       "    <tr>\n",
       "      <th>7</th>\n",
       "      <td>Ridge regression</td>\n",
       "      <td>test</td>\n",
       "      <td>0.876367</td>\n",
       "    </tr>\n",
       "    <tr>\n",
       "      <th>8</th>\n",
       "      <td>Lasso regression</td>\n",
       "      <td>train</td>\n",
       "      <td>0.882924</td>\n",
       "    </tr>\n",
       "    <tr>\n",
       "      <th>9</th>\n",
       "      <td>Lasso regression</td>\n",
       "      <td>test</td>\n",
       "      <td>0.849252</td>\n",
       "    </tr>\n",
       "  </tbody>\n",
       "</table>\n",
       "</div>"
      ],
      "text/plain": [
       "                               model subset  r2 value\n",
       "0            Baseline OLS regression  train  0.995789\n",
       "1            Baseline OLS regression   test   0.86658\n",
       "2   OLS - Forward Variable Selection  train  0.986968\n",
       "3   OLS - Forward Variable Selection   test  0.844328\n",
       "4  OLS - Sequential Feature Selector  train   0.98803\n",
       "5  OLS - Sequential Feature Selector   test   0.86311\n",
       "6                   Ridge regression  train  0.995741\n",
       "7                   Ridge regression   test  0.876367\n",
       "8                   Lasso regression  train  0.882924\n",
       "9                   Lasso regression   test  0.849252"
      ]
     },
     "execution_count": 101,
     "metadata": {},
     "output_type": "execute_result"
    }
   ],
   "source": [
    "# OLS regression\n",
    "model = linear_model.Lasso(alpha=0.01, fit_intercept=True, max_iter=10**3).fit(\n",
    "    x_training_data_std, y_training_data\n",
    ")\n",
    "\n",
    "# Computing R2 scores\n",
    "r2_train = r2_score(y_training_data, model.predict(x_training_data_std))\n",
    "r2_test = r2_score(y_test_data, model.predict(x_test_data_std))\n",
    "\n",
    "# Storing the scores in a DataFrame\n",
    "df_coef = df_coef.append(\n",
    "    {\n",
    "        \"r2 value\": r2_train,\n",
    "        \"model\": \"Lasso regression\",\n",
    "        \"subset\": \"train\",\n",
    "    },\n",
    "    ignore_index=True,\n",
    ")\n",
    "df_coef = df_coef.append(\n",
    "    {\n",
    "        \"r2 value\": r2_test,\n",
    "        \"model\": \"Lasso regression\",\n",
    "        \"subset\": \"test\",\n",
    "    },\n",
    "    ignore_index=True,\n",
    ").drop_duplicates()\n",
    "\n",
    "# Printing DataFrame\n",
    "df_coef"
   ]
  },
  {
   "attachments": {},
   "cell_type": "markdown",
   "metadata": {},
   "source": [
    "### 7. CrossValidation <a class=\"anchor\" id=\"section_7\"></a>"
   ]
  },
  {
   "attachments": {},
   "cell_type": "markdown",
   "metadata": {},
   "source": [
    "We first implement `CrossValidation` in a manner similar to that done in the sklearn library. This will help usensure that every observation from the original DataSet appears in both training and test subset."
   ]
  },
  {
   "cell_type": "code",
   "execution_count": 102,
   "metadata": {},
   "outputs": [],
   "source": [
    "# Auxiliary function\n",
    "def join_list(list):\n",
    "    result = []\n",
    "    for elt in list:\n",
    "        result = result + elt\n",
    "    return result\n",
    "\n",
    "\n",
    "# Cross Validation\n",
    "class CrossValidation:\n",
    "    def __init__(self, estimator, X, y, cv=5):\n",
    "        self.estimator = estimator\n",
    "        self.X = X\n",
    "        self.y = y\n",
    "        self.cv = cv\n",
    "        self.nb_rows = self.X.shape[0]\n",
    "        if self.cv > self.nb_rows:\n",
    "            raise ValueError(\n",
    "                \"The number of folds can not be higher than the number of data rows\"\n",
    "            )\n",
    "\n",
    "    def compute_scores(self):\n",
    "        # Creating cv-folds\n",
    "        self.create_folds_x()\n",
    "        self.MSE_values = []\n",
    "        self.r2_values = []\n",
    "        # Computing MSE for each test fold\n",
    "        for i in range(0, len(self.folds_x)):\n",
    "            x_folds, y_folds = self.folds_x.copy(), self.folds_y.copy()\n",
    "            x_test, y_test = x_folds[i], y_folds[i]\n",
    "            x_folds.pop(i), y_folds.pop(i)\n",
    "            x_train, y_train = join_list(x_folds), join_list(y_folds)\n",
    "            # Model\n",
    "            model = self.estimator.fit(x_train, y_train)\n",
    "            # Storing scores\n",
    "            self.MSE_values.append(mean_squared_error(y_test, model.predict(x_test)))\n",
    "            self.r2_values.append(r2_score(y_test, model.predict(x_test)))\n",
    "        # Calculating the average score\n",
    "        sum_scores_MSE, sum_scores_r2 = 0, 0\n",
    "        for i in range(0, len(self.MSE_values)):\n",
    "            sum_scores_MSE += self.MSE_values[i]\n",
    "            sum_scores_r2 += self.r2_values[i]\n",
    "        self.avg_score_MSE = sum_scores_MSE / len(self.MSE_values)\n",
    "        self.avg_score_r2 = sum_scores_r2 / len(self.r2_values)\n",
    "        return self\n",
    "\n",
    "    def create_folds_x(self):\n",
    "        self.folds_x, self.folds_y = [], []\n",
    "        rest, i = self.nb_rows % self.cv, 0\n",
    "        self.folds_size = self.nb_rows // self.cv\n",
    "        while i <= self.cv - 1:\n",
    "            self.folds_x.append(\n",
    "                self.X[[i for i in range(i, i + self.folds_size + 1)], :].tolist()\n",
    "            )\n",
    "            self.folds_y.append(self.y[i : i + self.folds_size + 1].tolist())\n",
    "            i += 1\n",
    "        if rest != 0:\n",
    "            remaining_rows_x = self.X[-rest:].tolist()\n",
    "            remaining_rows_y = self.y[-rest:].tolist()\n",
    "            j = 0\n",
    "            for row in remaining_rows_x:\n",
    "                self.folds_x[j].append(row)\n",
    "                j += 1\n",
    "            j = 0\n",
    "            for row in remaining_rows_y:\n",
    "                self.folds_y[j].append(row)\n",
    "                j += 1\n",
    "        return"
   ]
  },
  {
   "attachments": {},
   "cell_type": "markdown",
   "metadata": {},
   "source": [
    "We use the sklearn version of the Elastic net. We test it for a penalty parameter $\\alpha$-ridge\n",
    "spaced evenly on a log scale $10e^{-10}$ to $10e^3$ and $\\alpha$-lasso in $[0, 0.1, 0.5, 0.7, 0.9, 0.95, 0.99]$. We then plot a 3D scatter plot of the r2 score of the elastic net model as a function of $\\alpha$-ridge and $\\alpha$-lasso."
   ]
  },
  {
   "cell_type": "code",
   "execution_count": 103,
   "metadata": {},
   "outputs": [
    {
     "data": {
      "application/vnd.plotly.v1+json": {
       "config": {
        "plotlyServerURL": "https://plot.ly"
       },
       "data": [
        {
         "hovertemplate": "alpha Lasso=%{x}<br>alpha Ridge=%{y}<br>MSE score=%{marker.color}<extra></extra>",
         "legendgroup": "",
         "marker": {
          "color": [
           17.74984667149173,
           17.749827658675642,
           17.749637532051704,
           17.74773641908342,
           17.728740609087716,
           17.5403079034673,
           15.802107236419662,
           8.03173454023037,
           10.060528952320514,
           44.779359980896004,
           108.6617198990767,
           136.50308449950694,
           147.4156396559327,
           158.26464043148366,
           17.749846871241562,
           17.74982965617598,
           17.749657506778124,
           17.74793613822323,
           17.730734993828193,
           17.55997260242578,
           15.972494771624037,
           8.317415106793558,
           10.159736393334377,
           42.53501560719947,
           111.49295585747367,
           139.02070883567535,
           160.69717537274417,
           160.69717537274417,
           17.74984767024369,
           17.749837646180843,
           17.749737405987645,
           17.748735045992326,
           17.738715658514128,
           17.63894070628428,
           16.682152177650643,
           10.405369167515156,
           8.499384627186659,
           32.13481811950083,
           123.97182559067203,
           160.69717537274417,
           160.69717537274417,
           160.69717537274417,
           17.749848069744477,
           17.749841641186304,
           17.749777355782314,
           17.74913451864843,
           17.742707864173205,
           17.67861082405431,
           17.05435504589847,
           12.270302154853518,
           7.703526964519104,
           27.72686343685313,
           130.69605279279335,
           160.69717537274417,
           160.69717537274417,
           160.69717537274417,
           17.749848469245894,
           17.749845636193122,
           17.749817305700073,
           17.749534003698788,
           17.746701314129,
           17.718405246461497,
           17.438507384521444,
           14.930949535624512,
           7.122849533739715,
           18.644592703197294,
           130.45083429948153,
           160.69717537274417,
           160.69717537274417,
           160.69717537274417,
           17.749848569120143,
           17.749846634944394,
           17.74982729319752,
           17.74963387690925,
           17.747699864016834,
           17.72837336259899,
           17.536449301115,
           15.74898761715109,
           7.587820983071451,
           16.038047060521436,
           130.30628340269067,
           160.69717537274417,
           160.69717537274417,
           160.69717537274417,
           17.749848649020485,
           17.749847433946602,
           17.74983528320437,
           17.749713776055614,
           17.748498767430576,
           17.736353563048244,
           17.615363887445156,
           16.4536299540869,
           9.188930773991697,
           14.15416969132419,
           130.08619736889105,
           160.69717537274417,
           160.69717537274417,
           160.69717537274417
          ],
          "coloraxis": "coloraxis",
          "symbol": "circle"
         },
         "mode": "markers",
         "name": "",
         "scene": "scene",
         "showlegend": false,
         "type": "scatter3d",
         "x": [
          0,
          0,
          0,
          0,
          0,
          0,
          0,
          0,
          0,
          0,
          0,
          0,
          0,
          0,
          0.1,
          0.1,
          0.1,
          0.1,
          0.1,
          0.1,
          0.1,
          0.1,
          0.1,
          0.1,
          0.1,
          0.1,
          0.1,
          0.1,
          0.5,
          0.5,
          0.5,
          0.5,
          0.5,
          0.5,
          0.5,
          0.5,
          0.5,
          0.5,
          0.5,
          0.5,
          0.5,
          0.5,
          0.7,
          0.7,
          0.7,
          0.7,
          0.7,
          0.7,
          0.7,
          0.7,
          0.7,
          0.7,
          0.7,
          0.7,
          0.7,
          0.7,
          0.9,
          0.9,
          0.9,
          0.9,
          0.9,
          0.9,
          0.9,
          0.9,
          0.9,
          0.9,
          0.9,
          0.9,
          0.9,
          0.9,
          0.95,
          0.95,
          0.95,
          0.95,
          0.95,
          0.95,
          0.95,
          0.95,
          0.95,
          0.95,
          0.95,
          0.95,
          0.95,
          0.95,
          0.99,
          0.99,
          0.99,
          0.99,
          0.99,
          0.99,
          0.99,
          0.99,
          0.99,
          0.99,
          0.99,
          0.99,
          0.99,
          0.99
         ],
         "y": [
          1e-10,
          1e-9,
          1e-8,
          1e-7,
          0.000001,
          0.00001,
          0.0001,
          0.001,
          0.01,
          0.1,
          1,
          10,
          100,
          1000,
          1e-10,
          1e-9,
          1e-8,
          1e-7,
          0.000001,
          0.00001,
          0.0001,
          0.001,
          0.01,
          0.1,
          1,
          10,
          100,
          1000,
          1e-10,
          1e-9,
          1e-8,
          1e-7,
          0.000001,
          0.00001,
          0.0001,
          0.001,
          0.01,
          0.1,
          1,
          10,
          100,
          1000,
          1e-10,
          1e-9,
          1e-8,
          1e-7,
          0.000001,
          0.00001,
          0.0001,
          0.001,
          0.01,
          0.1,
          1,
          10,
          100,
          1000,
          1e-10,
          1e-9,
          1e-8,
          1e-7,
          0.000001,
          0.00001,
          0.0001,
          0.001,
          0.01,
          0.1,
          1,
          10,
          100,
          1000,
          1e-10,
          1e-9,
          1e-8,
          1e-7,
          0.000001,
          0.00001,
          0.0001,
          0.001,
          0.01,
          0.1,
          1,
          10,
          100,
          1000,
          1e-10,
          1e-9,
          1e-8,
          1e-7,
          0.000001,
          0.00001,
          0.0001,
          0.001,
          0.01,
          0.1,
          1,
          10,
          100,
          1000
         ],
         "z": [
          17.74984667149173,
          17.749827658675642,
          17.749637532051704,
          17.74773641908342,
          17.728740609087716,
          17.5403079034673,
          15.802107236419662,
          8.03173454023037,
          10.060528952320514,
          44.779359980896004,
          108.6617198990767,
          136.50308449950694,
          147.4156396559327,
          158.26464043148366,
          17.749846871241562,
          17.74982965617598,
          17.749657506778124,
          17.74793613822323,
          17.730734993828193,
          17.55997260242578,
          15.972494771624037,
          8.317415106793558,
          10.159736393334377,
          42.53501560719947,
          111.49295585747367,
          139.02070883567535,
          160.69717537274417,
          160.69717537274417,
          17.74984767024369,
          17.749837646180843,
          17.749737405987645,
          17.748735045992326,
          17.738715658514128,
          17.63894070628428,
          16.682152177650643,
          10.405369167515156,
          8.499384627186659,
          32.13481811950083,
          123.97182559067203,
          160.69717537274417,
          160.69717537274417,
          160.69717537274417,
          17.749848069744477,
          17.749841641186304,
          17.749777355782314,
          17.74913451864843,
          17.742707864173205,
          17.67861082405431,
          17.05435504589847,
          12.270302154853518,
          7.703526964519104,
          27.72686343685313,
          130.69605279279335,
          160.69717537274417,
          160.69717537274417,
          160.69717537274417,
          17.749848469245894,
          17.749845636193122,
          17.749817305700073,
          17.749534003698788,
          17.746701314129,
          17.718405246461497,
          17.438507384521444,
          14.930949535624512,
          7.122849533739715,
          18.644592703197294,
          130.45083429948153,
          160.69717537274417,
          160.69717537274417,
          160.69717537274417,
          17.749848569120143,
          17.749846634944394,
          17.74982729319752,
          17.74963387690925,
          17.747699864016834,
          17.72837336259899,
          17.536449301115,
          15.74898761715109,
          7.587820983071451,
          16.038047060521436,
          130.30628340269067,
          160.69717537274417,
          160.69717537274417,
          160.69717537274417,
          17.749848649020485,
          17.749847433946602,
          17.74983528320437,
          17.749713776055614,
          17.748498767430576,
          17.736353563048244,
          17.615363887445156,
          16.4536299540869,
          9.188930773991697,
          14.15416969132419,
          130.08619736889105,
          160.69717537274417,
          160.69717537274417,
          160.69717537274417
         ]
        }
       ],
       "layout": {
        "coloraxis": {
         "colorbar": {
          "title": {
           "text": "MSE score"
          }
         },
         "colorscale": [
          [
           0,
           "#0d0887"
          ],
          [
           0.1111111111111111,
           "#46039f"
          ],
          [
           0.2222222222222222,
           "#7201a8"
          ],
          [
           0.3333333333333333,
           "#9c179e"
          ],
          [
           0.4444444444444444,
           "#bd3786"
          ],
          [
           0.5555555555555556,
           "#d8576b"
          ],
          [
           0.6666666666666666,
           "#ed7953"
          ],
          [
           0.7777777777777778,
           "#fb9f3a"
          ],
          [
           0.8888888888888888,
           "#fdca26"
          ],
          [
           1,
           "#f0f921"
          ]
         ]
        },
        "height": 700,
        "legend": {
         "tracegroupgap": 0
        },
        "margin": {
         "t": 60
        },
        "scene": {
         "camera": {
          "eye": {
           "x": -1,
           "y": -1.85,
           "z": 0.2
          }
         },
         "domain": {
          "x": [
           0,
           1
          ],
          "y": [
           0,
           1
          ]
         },
         "xaxis": {
          "title": {
           "text": "alpha Lasso"
          }
         },
         "yaxis": {
          "title": {
           "text": "alpha Ridge"
          },
          "type": "log"
         },
         "zaxis": {
          "title": {
           "text": "MSE score"
          }
         }
        },
        "template": {
         "data": {
          "bar": [
           {
            "error_x": {
             "color": "#2a3f5f"
            },
            "error_y": {
             "color": "#2a3f5f"
            },
            "marker": {
             "line": {
              "color": "#E5ECF6",
              "width": 0.5
             },
             "pattern": {
              "fillmode": "overlay",
              "size": 10,
              "solidity": 0.2
             }
            },
            "type": "bar"
           }
          ],
          "barpolar": [
           {
            "marker": {
             "line": {
              "color": "#E5ECF6",
              "width": 0.5
             },
             "pattern": {
              "fillmode": "overlay",
              "size": 10,
              "solidity": 0.2
             }
            },
            "type": "barpolar"
           }
          ],
          "carpet": [
           {
            "aaxis": {
             "endlinecolor": "#2a3f5f",
             "gridcolor": "white",
             "linecolor": "white",
             "minorgridcolor": "white",
             "startlinecolor": "#2a3f5f"
            },
            "baxis": {
             "endlinecolor": "#2a3f5f",
             "gridcolor": "white",
             "linecolor": "white",
             "minorgridcolor": "white",
             "startlinecolor": "#2a3f5f"
            },
            "type": "carpet"
           }
          ],
          "choropleth": [
           {
            "colorbar": {
             "outlinewidth": 0,
             "ticks": ""
            },
            "type": "choropleth"
           }
          ],
          "contour": [
           {
            "colorbar": {
             "outlinewidth": 0,
             "ticks": ""
            },
            "colorscale": [
             [
              0,
              "#0d0887"
             ],
             [
              0.1111111111111111,
              "#46039f"
             ],
             [
              0.2222222222222222,
              "#7201a8"
             ],
             [
              0.3333333333333333,
              "#9c179e"
             ],
             [
              0.4444444444444444,
              "#bd3786"
             ],
             [
              0.5555555555555556,
              "#d8576b"
             ],
             [
              0.6666666666666666,
              "#ed7953"
             ],
             [
              0.7777777777777778,
              "#fb9f3a"
             ],
             [
              0.8888888888888888,
              "#fdca26"
             ],
             [
              1,
              "#f0f921"
             ]
            ],
            "type": "contour"
           }
          ],
          "contourcarpet": [
           {
            "colorbar": {
             "outlinewidth": 0,
             "ticks": ""
            },
            "type": "contourcarpet"
           }
          ],
          "heatmap": [
           {
            "colorbar": {
             "outlinewidth": 0,
             "ticks": ""
            },
            "colorscale": [
             [
              0,
              "#0d0887"
             ],
             [
              0.1111111111111111,
              "#46039f"
             ],
             [
              0.2222222222222222,
              "#7201a8"
             ],
             [
              0.3333333333333333,
              "#9c179e"
             ],
             [
              0.4444444444444444,
              "#bd3786"
             ],
             [
              0.5555555555555556,
              "#d8576b"
             ],
             [
              0.6666666666666666,
              "#ed7953"
             ],
             [
              0.7777777777777778,
              "#fb9f3a"
             ],
             [
              0.8888888888888888,
              "#fdca26"
             ],
             [
              1,
              "#f0f921"
             ]
            ],
            "type": "heatmap"
           }
          ],
          "heatmapgl": [
           {
            "colorbar": {
             "outlinewidth": 0,
             "ticks": ""
            },
            "colorscale": [
             [
              0,
              "#0d0887"
             ],
             [
              0.1111111111111111,
              "#46039f"
             ],
             [
              0.2222222222222222,
              "#7201a8"
             ],
             [
              0.3333333333333333,
              "#9c179e"
             ],
             [
              0.4444444444444444,
              "#bd3786"
             ],
             [
              0.5555555555555556,
              "#d8576b"
             ],
             [
              0.6666666666666666,
              "#ed7953"
             ],
             [
              0.7777777777777778,
              "#fb9f3a"
             ],
             [
              0.8888888888888888,
              "#fdca26"
             ],
             [
              1,
              "#f0f921"
             ]
            ],
            "type": "heatmapgl"
           }
          ],
          "histogram": [
           {
            "marker": {
             "pattern": {
              "fillmode": "overlay",
              "size": 10,
              "solidity": 0.2
             }
            },
            "type": "histogram"
           }
          ],
          "histogram2d": [
           {
            "colorbar": {
             "outlinewidth": 0,
             "ticks": ""
            },
            "colorscale": [
             [
              0,
              "#0d0887"
             ],
             [
              0.1111111111111111,
              "#46039f"
             ],
             [
              0.2222222222222222,
              "#7201a8"
             ],
             [
              0.3333333333333333,
              "#9c179e"
             ],
             [
              0.4444444444444444,
              "#bd3786"
             ],
             [
              0.5555555555555556,
              "#d8576b"
             ],
             [
              0.6666666666666666,
              "#ed7953"
             ],
             [
              0.7777777777777778,
              "#fb9f3a"
             ],
             [
              0.8888888888888888,
              "#fdca26"
             ],
             [
              1,
              "#f0f921"
             ]
            ],
            "type": "histogram2d"
           }
          ],
          "histogram2dcontour": [
           {
            "colorbar": {
             "outlinewidth": 0,
             "ticks": ""
            },
            "colorscale": [
             [
              0,
              "#0d0887"
             ],
             [
              0.1111111111111111,
              "#46039f"
             ],
             [
              0.2222222222222222,
              "#7201a8"
             ],
             [
              0.3333333333333333,
              "#9c179e"
             ],
             [
              0.4444444444444444,
              "#bd3786"
             ],
             [
              0.5555555555555556,
              "#d8576b"
             ],
             [
              0.6666666666666666,
              "#ed7953"
             ],
             [
              0.7777777777777778,
              "#fb9f3a"
             ],
             [
              0.8888888888888888,
              "#fdca26"
             ],
             [
              1,
              "#f0f921"
             ]
            ],
            "type": "histogram2dcontour"
           }
          ],
          "mesh3d": [
           {
            "colorbar": {
             "outlinewidth": 0,
             "ticks": ""
            },
            "type": "mesh3d"
           }
          ],
          "parcoords": [
           {
            "line": {
             "colorbar": {
              "outlinewidth": 0,
              "ticks": ""
             }
            },
            "type": "parcoords"
           }
          ],
          "pie": [
           {
            "automargin": true,
            "type": "pie"
           }
          ],
          "scatter": [
           {
            "marker": {
             "colorbar": {
              "outlinewidth": 0,
              "ticks": ""
             }
            },
            "type": "scatter"
           }
          ],
          "scatter3d": [
           {
            "line": {
             "colorbar": {
              "outlinewidth": 0,
              "ticks": ""
             }
            },
            "marker": {
             "colorbar": {
              "outlinewidth": 0,
              "ticks": ""
             }
            },
            "type": "scatter3d"
           }
          ],
          "scattercarpet": [
           {
            "marker": {
             "colorbar": {
              "outlinewidth": 0,
              "ticks": ""
             }
            },
            "type": "scattercarpet"
           }
          ],
          "scattergeo": [
           {
            "marker": {
             "colorbar": {
              "outlinewidth": 0,
              "ticks": ""
             }
            },
            "type": "scattergeo"
           }
          ],
          "scattergl": [
           {
            "marker": {
             "colorbar": {
              "outlinewidth": 0,
              "ticks": ""
             }
            },
            "type": "scattergl"
           }
          ],
          "scattermapbox": [
           {
            "marker": {
             "colorbar": {
              "outlinewidth": 0,
              "ticks": ""
             }
            },
            "type": "scattermapbox"
           }
          ],
          "scatterpolar": [
           {
            "marker": {
             "colorbar": {
              "outlinewidth": 0,
              "ticks": ""
             }
            },
            "type": "scatterpolar"
           }
          ],
          "scatterpolargl": [
           {
            "marker": {
             "colorbar": {
              "outlinewidth": 0,
              "ticks": ""
             }
            },
            "type": "scatterpolargl"
           }
          ],
          "scatterternary": [
           {
            "marker": {
             "colorbar": {
              "outlinewidth": 0,
              "ticks": ""
             }
            },
            "type": "scatterternary"
           }
          ],
          "surface": [
           {
            "colorbar": {
             "outlinewidth": 0,
             "ticks": ""
            },
            "colorscale": [
             [
              0,
              "#0d0887"
             ],
             [
              0.1111111111111111,
              "#46039f"
             ],
             [
              0.2222222222222222,
              "#7201a8"
             ],
             [
              0.3333333333333333,
              "#9c179e"
             ],
             [
              0.4444444444444444,
              "#bd3786"
             ],
             [
              0.5555555555555556,
              "#d8576b"
             ],
             [
              0.6666666666666666,
              "#ed7953"
             ],
             [
              0.7777777777777778,
              "#fb9f3a"
             ],
             [
              0.8888888888888888,
              "#fdca26"
             ],
             [
              1,
              "#f0f921"
             ]
            ],
            "type": "surface"
           }
          ],
          "table": [
           {
            "cells": {
             "fill": {
              "color": "#EBF0F8"
             },
             "line": {
              "color": "white"
             }
            },
            "header": {
             "fill": {
              "color": "#C8D4E3"
             },
             "line": {
              "color": "white"
             }
            },
            "type": "table"
           }
          ]
         },
         "layout": {
          "annotationdefaults": {
           "arrowcolor": "#2a3f5f",
           "arrowhead": 0,
           "arrowwidth": 1
          },
          "autotypenumbers": "strict",
          "coloraxis": {
           "colorbar": {
            "outlinewidth": 0,
            "ticks": ""
           }
          },
          "colorscale": {
           "diverging": [
            [
             0,
             "#8e0152"
            ],
            [
             0.1,
             "#c51b7d"
            ],
            [
             0.2,
             "#de77ae"
            ],
            [
             0.3,
             "#f1b6da"
            ],
            [
             0.4,
             "#fde0ef"
            ],
            [
             0.5,
             "#f7f7f7"
            ],
            [
             0.6,
             "#e6f5d0"
            ],
            [
             0.7,
             "#b8e186"
            ],
            [
             0.8,
             "#7fbc41"
            ],
            [
             0.9,
             "#4d9221"
            ],
            [
             1,
             "#276419"
            ]
           ],
           "sequential": [
            [
             0,
             "#0d0887"
            ],
            [
             0.1111111111111111,
             "#46039f"
            ],
            [
             0.2222222222222222,
             "#7201a8"
            ],
            [
             0.3333333333333333,
             "#9c179e"
            ],
            [
             0.4444444444444444,
             "#bd3786"
            ],
            [
             0.5555555555555556,
             "#d8576b"
            ],
            [
             0.6666666666666666,
             "#ed7953"
            ],
            [
             0.7777777777777778,
             "#fb9f3a"
            ],
            [
             0.8888888888888888,
             "#fdca26"
            ],
            [
             1,
             "#f0f921"
            ]
           ],
           "sequentialminus": [
            [
             0,
             "#0d0887"
            ],
            [
             0.1111111111111111,
             "#46039f"
            ],
            [
             0.2222222222222222,
             "#7201a8"
            ],
            [
             0.3333333333333333,
             "#9c179e"
            ],
            [
             0.4444444444444444,
             "#bd3786"
            ],
            [
             0.5555555555555556,
             "#d8576b"
            ],
            [
             0.6666666666666666,
             "#ed7953"
            ],
            [
             0.7777777777777778,
             "#fb9f3a"
            ],
            [
             0.8888888888888888,
             "#fdca26"
            ],
            [
             1,
             "#f0f921"
            ]
           ]
          },
          "colorway": [
           "#636efa",
           "#EF553B",
           "#00cc96",
           "#ab63fa",
           "#FFA15A",
           "#19d3f3",
           "#FF6692",
           "#B6E880",
           "#FF97FF",
           "#FECB52"
          ],
          "font": {
           "color": "#2a3f5f"
          },
          "geo": {
           "bgcolor": "white",
           "lakecolor": "white",
           "landcolor": "#E5ECF6",
           "showlakes": true,
           "showland": true,
           "subunitcolor": "white"
          },
          "hoverlabel": {
           "align": "left"
          },
          "hovermode": "closest",
          "mapbox": {
           "style": "light"
          },
          "paper_bgcolor": "white",
          "plot_bgcolor": "#E5ECF6",
          "polar": {
           "angularaxis": {
            "gridcolor": "white",
            "linecolor": "white",
            "ticks": ""
           },
           "bgcolor": "#E5ECF6",
           "radialaxis": {
            "gridcolor": "white",
            "linecolor": "white",
            "ticks": ""
           }
          },
          "scene": {
           "xaxis": {
            "backgroundcolor": "#E5ECF6",
            "gridcolor": "white",
            "gridwidth": 2,
            "linecolor": "white",
            "showbackground": true,
            "ticks": "",
            "zerolinecolor": "white"
           },
           "yaxis": {
            "backgroundcolor": "#E5ECF6",
            "gridcolor": "white",
            "gridwidth": 2,
            "linecolor": "white",
            "showbackground": true,
            "ticks": "",
            "zerolinecolor": "white"
           },
           "zaxis": {
            "backgroundcolor": "#E5ECF6",
            "gridcolor": "white",
            "gridwidth": 2,
            "linecolor": "white",
            "showbackground": true,
            "ticks": "",
            "zerolinecolor": "white"
           }
          },
          "shapedefaults": {
           "line": {
            "color": "#2a3f5f"
           }
          },
          "ternary": {
           "aaxis": {
            "gridcolor": "white",
            "linecolor": "white",
            "ticks": ""
           },
           "baxis": {
            "gridcolor": "white",
            "linecolor": "white",
            "ticks": ""
           },
           "bgcolor": "#E5ECF6",
           "caxis": {
            "gridcolor": "white",
            "linecolor": "white",
            "ticks": ""
           }
          },
          "title": {
           "x": 0.05
          },
          "xaxis": {
           "automargin": true,
           "gridcolor": "white",
           "linecolor": "white",
           "ticks": "",
           "title": {
            "standoff": 15
           },
           "zerolinecolor": "white",
           "zerolinewidth": 2
          },
          "yaxis": {
           "automargin": true,
           "gridcolor": "white",
           "linecolor": "white",
           "ticks": "",
           "title": {
            "standoff": 15
           },
           "zerolinecolor": "white",
           "zerolinewidth": 2
          }
         }
        },
        "title": {
         "text": "figure 5 : <b>CrossValidation - Average MSE score as a function of alpha Lasso and alpha Ridge</b><br><i>(Model : ElasticNet; hover over Data points for additional information)</i>"
        }
       }
      }
     },
     "metadata": {},
     "output_type": "display_data"
    }
   ],
   "source": [
    "# X standardized\n",
    "X_std = StandardScaler().fit_transform(df.drop([\"fat\"], axis=1))\n",
    "y = df[\"fat\"]\n",
    "\n",
    "# Alphas\n",
    "alphas_lasso = [0, 0.1, 0.5, 0.7, 0.9, 0.95, 0.99]\n",
    "alphas_ridge = [10 ** (-i) for i in range(10, -4, -1)]\n",
    "\n",
    "# CrossValidation\n",
    "MSE_cross_val = []\n",
    "for alpha_l in alphas_lasso:\n",
    "    for alpha_r in alphas_ridge:\n",
    "        avg_score = (\n",
    "            CrossValidation(\n",
    "                ElasticNet(alpha=alpha_r, l1_ratio=alpha_l), X_std, y, cv=10\n",
    "            )\n",
    "            .compute_scores()\n",
    "            .avg_score_MSE\n",
    "        )\n",
    "        MSE_cross_val.append([alpha_l, alpha_r, avg_score])\n",
    "\n",
    "# Converting to DataFrame for plotting\n",
    "df_5 = pd.DataFrame(MSE_cross_val, columns=[\"alpha Lasso\", \"alpha Ridge\", \"MSE score\"])\n",
    "\n",
    "# Displaying Data -> 3D scatter plot\n",
    "camera = dict(eye=dict(x=-1, y=-1.85, z=0.2))\n",
    "fig_5 = px.scatter_3d(\n",
    "    df_5, x=\"alpha Lasso\", y=\"alpha Ridge\", z=\"MSE score\", color=\"MSE score\", log_y=True\n",
    ")\n",
    "fig_5.update_layout(\n",
    "    height=700,\n",
    "    title=\"figure 5 : <b>CrossValidation - Average MSE score as a function of alpha Lasso and alpha Ridge</b><br><i>(Model : ElasticNet; hover over Data points for additional information)</i>\",\n",
    "    scene_camera=camera,\n",
    ")\n",
    "\n",
    "fig_5.show()"
   ]
  },
  {
   "attachments": {},
   "cell_type": "markdown",
   "metadata": {},
   "source": [
    "**Comments :** alpha Lasso appears to have little or no impact on the MSE score. In contrast, Ridge alpha seems to have a considerable impact on the MSE score. For an alpha Ridge strictly below $0.01$, the MSE score is quite low, with an average of $17$. When we increase alpha Ridge above $0.01$, the MSE soars to $160$. In this case, Alpha Ridge penalizes the model too much, by regularization, which makes the model inaccurate."
   ]
  },
  {
   "attachments": {},
   "cell_type": "markdown",
   "metadata": {},
   "source": [
    "***\n",
    "## Part 5. Bootsrap <a class=\"anchor\" id=\"chapter5\"></a>"
   ]
  },
  {
   "attachments": {},
   "cell_type": "markdown",
   "metadata": {},
   "source": [
    "### 8. Regression lines <a class=\"anchor\" id=\"section_8\"></a>"
   ]
  },
  {
   "attachments": {},
   "cell_type": "markdown",
   "metadata": {},
   "source": [
    "We first plot the dataset and the regression line fitted with the whole sample."
   ]
  },
  {
   "cell_type": "code",
   "execution_count": 104,
   "metadata": {},
   "outputs": [
    {
     "data": {
      "application/vnd.plotly.v1+json": {
       "config": {
        "plotlyServerURL": "https://plot.ly"
       },
       "data": [
        {
         "hovertemplate": "V40=%{x}<br>fat=%{y}<extra></extra>",
         "legendgroup": "",
         "marker": {
          "color": "#636efa",
          "symbol": "circle"
         },
         "mode": "markers",
         "name": "",
         "orientation": "v",
         "showlegend": false,
         "type": "scatter",
         "x": [
          2.87857,
          3.27835,
          2.76642,
          3.00284,
          3.14371,
          3.51002,
          3.50519,
          2.72432,
          3.68994,
          3.8577,
          3.55286,
          2.24446,
          3.18116,
          3.31014,
          3.48094,
          2.65624,
          2.79331,
          3.07224,
          3.06597,
          2.98798,
          3.00645,
          2.90705,
          2.32108,
          3.71898,
          3.04555,
          2.55253,
          2.69671,
          2.37369,
          2.37369,
          3.02501,
          2.8564,
          2.90034,
          4.07309,
          3.53179,
          4.1284,
          3.0161,
          3.09379,
          3.94548,
          3.84067,
          3.58251,
          4.0604,
          3.39535,
          4.76194,
          5.15256,
          3.42106,
          3.10992,
          3.26277,
          2.24446,
          2.37632,
          2.78095,
          3.48094,
          2.60269,
          2.49187,
          2.65624,
          2.72708,
          2.62087,
          2.75556,
          2.36604,
          2.42779,
          3.17624,
          2.84415,
          2.84415,
          3.04925,
          2.74206,
          2.4989,
          3.02177,
          2.35135,
          2.79681,
          2.84727,
          2.40217,
          2.41456,
          3.17035,
          2.47019,
          2.51888,
          3.10446,
          2.96731,
          3.61808,
          2.83348,
          3.84111,
          3.48656,
          3.53807,
          2.98908,
          3.07342,
          3.48411,
          2.71371,
          2.5451,
          3.72874,
          2.47021,
          2.49226,
          2.80872,
          2.95571,
          3.38955,
          2.96468,
          2.62159,
          2.99942,
          3.04786,
          2.88966,
          2.97829,
          4.63278,
          2.94801,
          3.24301,
          3.42185,
          2.62234,
          2.95221,
          3.20521,
          2.73804,
          3.54847,
          3.09045,
          2.72724,
          3.0161,
          2.78689,
          2.94362,
          3.12825,
          2.74589,
          2.74815,
          3.09379,
          3.94548,
          3.94496,
          4.14779,
          3.30932,
          3.41044,
          4.03525,
          3.58251,
          3.04314,
          4.27201,
          3.14615,
          3.49277,
          3.2876,
          3.32938,
          3.34338,
          2.99246,
          3.56187,
          2.15138,
          2.764,
          2.36604,
          3.10446,
          2.42973,
          2.55253,
          4.30451,
          4.30027,
          3.81015,
          3.84067,
          3.12235,
          3.60549,
          2.29884,
          2.88087,
          2.62958,
          2.97124,
          2.96927,
          2.74206,
          2.78845,
          2.68876,
          3.28418,
          2.63122,
          4.01028,
          3.60287,
          2.37662,
          2.48354,
          3.34209,
          3.54497,
          2.89698,
          2.72578,
          3.29819,
          3.01651,
          3.47681,
          3.7901,
          2.70322,
          3.65631,
          3.42597,
          3.21746,
          3.83084,
          3.5466,
          3.32916,
          3.1719,
          2.7653,
          2.29884,
          2.83072,
          2.69238,
          3.04338,
          2.5451,
          2.49226,
          2.3816,
          3.31266,
          3.54434,
          4.95934,
          3.51876,
          4.10781,
          3.18116,
          2.42413,
          2.79331,
          2.81573,
          2.42779,
          2.68428,
          2.30851,
          2.67575,
          2.57189,
          3.32625,
          3.76068,
          2.60204,
          3.87794,
          2.81769,
          2.97042,
          3.7358,
          4.30451,
          2.6912,
          3.1999,
          3.73111,
          3.02172,
          3.00628,
          2.79484,
          3.58079,
          2.93442,
          2.94262,
          3.09723,
          3.51876
         ],
         "xaxis": "x",
         "y": [
          22.5,
          40.1,
          8.4,
          5.9,
          25.5,
          42.7,
          42.7,
          10.6,
          19.9,
          19.9,
          46,
          0.9,
          2.9,
          3.5,
          4,
          5.2,
          5.6,
          6.3,
          7.2,
          7.8,
          7.9,
          9.2,
          9.3,
          10.2,
          12.5,
          13.5,
          13.5,
          14.6,
          14.6,
          16.3,
          18.6,
          20.9,
          21.2,
          25.1,
          26.5,
          27.8,
          29.7,
          30.4,
          31.5,
          35.2,
          35.8,
          43.8,
          48.2,
          48.5,
          49.1,
          8.2,
          11,
          0.9,
          3.6,
          3.9,
          4,
          5.1,
          5.2,
          5.2,
          5.6,
          5.6,
          6,
          6.4,
          6.4,
          6.4,
          6.6,
          6.6,
          6.7,
          6.8,
          6.9,
          7,
          7.2,
          7.2,
          7.2,
          7.7,
          7.7,
          7.7,
          8.1,
          8.4,
          8.5,
          9.6,
          9.7,
          9.7,
          10.1,
          10.1,
          10.1,
          10.9,
          10.9,
          11,
          11.2,
          11.2,
          11.7,
          12.7,
          13.8,
          14,
          15.4,
          15.5,
          15.7,
          16.4,
          16.4,
          16.4,
          17.2,
          17.4,
          17.6,
          18.2,
          18.3,
          18.8,
          20.6,
          21.5,
          23,
          24.9,
          26,
          26.1,
          27.3,
          27.8,
          28.1,
          28.7,
          28.8,
          28.9,
          29.2,
          29.7,
          30.4,
          31.5,
          32,
          32.2,
          34.2,
          35.1,
          35.2,
          36.2,
          36.5,
          37.8,
          44.7,
          45,
          45.7,
          29.8,
          5.9,
          46,
          1.4,
          4.6,
          6.4,
          8.5,
          11,
          13.5,
          17,
          22.4,
          27.9,
          31.5,
          46.5,
          6.1,
          2,
          4.7,
          5.3,
          6,
          6.4,
          6.8,
          7.1,
          7.3,
          7.8,
          9,
          10,
          10.5,
          11,
          12.2,
          14,
          15.9,
          16.5,
          17.7,
          18.8,
          23.4,
          26.7,
          28.3,
          28.9,
          31.1,
          33.7,
          35.2,
          38.5,
          46.3,
          47.7,
          25.5,
          10.6,
          2,
          4.7,
          6.8,
          8.6,
          11.2,
          13.8,
          17.7,
          23.3,
          29,
          34.8,
          47.8,
          11.1,
          2.9,
          4.8,
          5.6,
          6.2,
          6.4,
          6.8,
          7.1,
          7.3,
          7.9,
          9.2,
          10.1,
          10.7,
          11.2,
          12.5,
          14.3,
          16,
          17,
          18.1,
          19.4,
          24.8,
          27.2,
          28.4,
          29.2,
          31.3,
          33.8,
          35.5,
          42.5,
          47.8
         ],
         "yaxis": "y"
        },
        {
         "hovertemplate": "<b>OLS trendline</b><br>fat = 12.0839 * V40 + -19.4855<br>R<sup>2</sup>=0.267162<br><br>V40=%{x}<br>fat=%{y} <b>(trend)</b><extra></extra>",
         "legendgroup": "",
         "marker": {
          "color": "#636efa",
          "symbol": "circle"
         },
         "mode": "lines",
         "name": "",
         "showlegend": false,
         "type": "scatter",
         "x": [
          2.15138,
          2.24446,
          2.24446,
          2.29884,
          2.29884,
          2.30851,
          2.32108,
          2.35135,
          2.36604,
          2.36604,
          2.37369,
          2.37369,
          2.37632,
          2.37662,
          2.3816,
          2.40217,
          2.41456,
          2.42413,
          2.42779,
          2.42779,
          2.42973,
          2.47019,
          2.47021,
          2.48354,
          2.49187,
          2.49226,
          2.49226,
          2.4989,
          2.51888,
          2.5451,
          2.5451,
          2.55253,
          2.55253,
          2.57189,
          2.60204,
          2.60269,
          2.62087,
          2.62159,
          2.62234,
          2.62958,
          2.63122,
          2.65624,
          2.65624,
          2.67575,
          2.68428,
          2.68876,
          2.6912,
          2.69238,
          2.69671,
          2.70322,
          2.71371,
          2.72432,
          2.72578,
          2.72708,
          2.72724,
          2.73804,
          2.74206,
          2.74206,
          2.74589,
          2.74815,
          2.75556,
          2.764,
          2.7653,
          2.76642,
          2.78095,
          2.78689,
          2.78845,
          2.79331,
          2.79331,
          2.79484,
          2.79681,
          2.80872,
          2.81573,
          2.81769,
          2.83072,
          2.83348,
          2.84415,
          2.84415,
          2.84727,
          2.8564,
          2.87857,
          2.88087,
          2.88966,
          2.89698,
          2.90034,
          2.90705,
          2.93442,
          2.94262,
          2.94362,
          2.94801,
          2.95221,
          2.95571,
          2.96468,
          2.96731,
          2.96927,
          2.97042,
          2.97124,
          2.97829,
          2.98798,
          2.98908,
          2.99246,
          2.99942,
          3.00284,
          3.00628,
          3.00645,
          3.0161,
          3.0161,
          3.01651,
          3.02172,
          3.02177,
          3.02501,
          3.04314,
          3.04338,
          3.04555,
          3.04786,
          3.04925,
          3.06597,
          3.07224,
          3.07342,
          3.09045,
          3.09379,
          3.09379,
          3.09723,
          3.10446,
          3.10446,
          3.10992,
          3.12235,
          3.12825,
          3.14371,
          3.14615,
          3.17035,
          3.1719,
          3.17624,
          3.18116,
          3.18116,
          3.1999,
          3.20521,
          3.21746,
          3.24301,
          3.26277,
          3.27835,
          3.28418,
          3.2876,
          3.29819,
          3.30932,
          3.31014,
          3.31266,
          3.32625,
          3.32916,
          3.32938,
          3.34209,
          3.34338,
          3.38955,
          3.39535,
          3.41044,
          3.42106,
          3.42185,
          3.42597,
          3.47681,
          3.48094,
          3.48094,
          3.48411,
          3.48656,
          3.49277,
          3.50519,
          3.51002,
          3.51876,
          3.51876,
          3.53179,
          3.53807,
          3.54434,
          3.54497,
          3.5466,
          3.54847,
          3.55286,
          3.56187,
          3.58079,
          3.58251,
          3.58251,
          3.60287,
          3.60549,
          3.61808,
          3.65631,
          3.68994,
          3.71898,
          3.72874,
          3.73111,
          3.7358,
          3.76068,
          3.7901,
          3.81015,
          3.83084,
          3.84067,
          3.84067,
          3.84111,
          3.8577,
          3.87794,
          3.94496,
          3.94548,
          3.94548,
          4.01028,
          4.03525,
          4.0604,
          4.07309,
          4.10781,
          4.1284,
          4.14779,
          4.27201,
          4.30027,
          4.30451,
          4.30451,
          4.63278,
          4.76194,
          4.95934,
          5.15256
         ],
         "xaxis": "x",
         "y": [
          6.511562012534675,
          7.636333135026781,
          7.636333135026781,
          8.293456616345225,
          8.293456616345225,
          8.410308107046756,
          8.56220296104037,
          8.927983170299463,
          9.105495931251426,
          9.105495931251426,
          9.197937906832266,
          9.197937906832266,
          9.229718612162678,
          9.233343787675647,
          9.293521701191022,
          9.542087902197277,
          9.69180765088311,
          9.807450749746984,
          9.85167789100527,
          9.85167789100527,
          9.875120692655837,
          10.364036030172283,
          10.36427770853981,
          10.52535634049963,
          10.626015380576543,
          10.630728108743408,
          10.630728108743408,
          10.710965326763905,
          10.95240201592798,
          11.269242355761921,
          11.269242355761921,
          11.359025869299913,
          11.359025869299913,
          11.592970529070506,
          11.957300668124411,
          11.965155215069188,
          12.184840851155421,
          12.193541272386557,
          12.202604211168993,
          12.290091780215434,
          12.309909406353025,
          12.612249044135066,
          12.612249044135066,
          12.848006291662148,
          12.95108211541439,
          13.005218069741463,
          13.034702830580319,
          13.048961854264686,
          13.101285220835276,
          13.179951529466816,
          13.306711833237141,
          13.434922207212669,
          13.452564728042471,
          13.468273821932026,
          13.470207248872281,
          13.600713567339344,
          13.649290919213204,
          13.649290919213204,
          13.695572326595506,
          13.722881982126577,
          13.812423817297041,
          13.914412088395377,
          13.930121182284932,
          13.943655170866702,
          14.11923450487841,
          14.191012980035307,
          14.209863892702767,
          14.268591736012947,
          14.268591736012947,
          14.28708013112912,
          14.310885450330975,
          14.454804918196057,
          14.539513186015878,
          14.563197666033975,
          14.72065112248082,
          14.754002737200185,
          14.882938146278295,
          14.882938146278295,
          14.92063997161323,
          15.030966146391403,
          15.298866616800193,
          15.32665962906633,
          15.432877271596478,
          15.521331554113043,
          15.561933519858353,
          15.643016612165209,
          15.973753458132212,
          16.07284158882017,
          16.084925507196754,
          16.13797390886994,
          16.18872636605158,
          16.231020080369607,
          16.33941282820754,
          16.371193533537944,
          16.394878013556042,
          16.408774519689107,
          16.418683332757904,
          16.5038749573128,
          16.620968126381857,
          16.634260436596097,
          16.675104080708937,
          16.759208152609947,
          16.800535153457847,
          16.842103832673285,
          16.844158098797305,
          16.960767911131303,
          16.960767911131303,
          16.965722317665698,
          17.02867953240769,
          17.029283728326515,
          17.068435623866637,
          17.287517064034038,
          17.29041720444442,
          17.316639307321598,
          17.3445531587715,
          17.36134980531494,
          17.56339292057137,
          17.63915908879253,
          17.653418112476896,
          17.859207242430063,
          17.899567529807836,
          17.899567529807836,
          17.941136209023274,
          18.028502938885953,
          18.028502938885953,
          18.09448113322208,
          18.24468423864297,
          18.3159793570648,
          18.50279673516673,
          18.53228149600559,
          18.824712320718834,
          18.843442394202537,
          18.895886599956892,
          18.95533947836967,
          18.95533947836967,
          19.181792108746787,
          19.24595771532643,
          19.393985715439538,
          19.702729829961168,
          19.941508057082398,
          20.12977550538952,
          20.20022474952499,
          20.24155175037289,
          20.36952044598088,
          20.504014457512216,
          20.513923270581014,
          20.544374744889996,
          20.708595195627726,
          20.743759398103574,
          20.74641786014642,
          20.900004462712754,
          20.915592717418544,
          21.473507228865262,
          21.543593955449435,
          21.725940283752028,
          21.85427149691132,
          21.863817792428815,
          21.913603536140325,
          22.527949946405673,
          22.57785652930095,
          22.57785652930095,
          22.61616255055471,
          22.64576815057733,
          22.720809283695896,
          22.870891549933024,
          22.92925687569191,
          23.034870322303224,
          23.034870322303224,
          23.19232377875007,
          23.26821078615499,
          23.34397695437615,
          23.351589822953397,
          23.371286609907227,
          23.393883537271424,
          23.446931938944612,
          23.555808043517604,
          23.784435779202507,
          23.80522011881023,
          23.80522011881023,
          24.051248696957398,
          24.082908563104045,
          24.235045095465193,
          24.697013295001863,
          25.10339547000626,
          25.45431245966216,
          25.572251503017586,
          25.60089038957008,
          25.65756396675624,
          25.958211855965562,
          26.313720734604555,
          26.556003298055,
          26.806019569266443,
          26.924804486908226,
          26.924804486908226,
          26.930121410993923,
          27.130593616861393,
          27.37517212480338,
          28.185036334401804,
          28.191319971957622,
          28.191319971957622,
          28.974357882760035,
          29.276093324623243,
          29.580003871794244,
          29.73334879599305,
          30.152902442027926,
          30.40171032140172,
          30.636017498723607,
          32.137081839462425,
          32.478573372784595,
          32.529809186701286,
          32.529809186701286,
          36.49659707218136,
          38.05735596970048,
          40.44272145723747,
          42.77757616596034
         ],
         "yaxis": "y"
        }
       ],
       "layout": {
        "legend": {
         "tracegroupgap": 0
        },
        "template": {
         "data": {
          "bar": [
           {
            "error_x": {
             "color": "#2a3f5f"
            },
            "error_y": {
             "color": "#2a3f5f"
            },
            "marker": {
             "line": {
              "color": "#E5ECF6",
              "width": 0.5
             },
             "pattern": {
              "fillmode": "overlay",
              "size": 10,
              "solidity": 0.2
             }
            },
            "type": "bar"
           }
          ],
          "barpolar": [
           {
            "marker": {
             "line": {
              "color": "#E5ECF6",
              "width": 0.5
             },
             "pattern": {
              "fillmode": "overlay",
              "size": 10,
              "solidity": 0.2
             }
            },
            "type": "barpolar"
           }
          ],
          "carpet": [
           {
            "aaxis": {
             "endlinecolor": "#2a3f5f",
             "gridcolor": "white",
             "linecolor": "white",
             "minorgridcolor": "white",
             "startlinecolor": "#2a3f5f"
            },
            "baxis": {
             "endlinecolor": "#2a3f5f",
             "gridcolor": "white",
             "linecolor": "white",
             "minorgridcolor": "white",
             "startlinecolor": "#2a3f5f"
            },
            "type": "carpet"
           }
          ],
          "choropleth": [
           {
            "colorbar": {
             "outlinewidth": 0,
             "ticks": ""
            },
            "type": "choropleth"
           }
          ],
          "contour": [
           {
            "colorbar": {
             "outlinewidth": 0,
             "ticks": ""
            },
            "colorscale": [
             [
              0,
              "#0d0887"
             ],
             [
              0.1111111111111111,
              "#46039f"
             ],
             [
              0.2222222222222222,
              "#7201a8"
             ],
             [
              0.3333333333333333,
              "#9c179e"
             ],
             [
              0.4444444444444444,
              "#bd3786"
             ],
             [
              0.5555555555555556,
              "#d8576b"
             ],
             [
              0.6666666666666666,
              "#ed7953"
             ],
             [
              0.7777777777777778,
              "#fb9f3a"
             ],
             [
              0.8888888888888888,
              "#fdca26"
             ],
             [
              1,
              "#f0f921"
             ]
            ],
            "type": "contour"
           }
          ],
          "contourcarpet": [
           {
            "colorbar": {
             "outlinewidth": 0,
             "ticks": ""
            },
            "type": "contourcarpet"
           }
          ],
          "heatmap": [
           {
            "colorbar": {
             "outlinewidth": 0,
             "ticks": ""
            },
            "colorscale": [
             [
              0,
              "#0d0887"
             ],
             [
              0.1111111111111111,
              "#46039f"
             ],
             [
              0.2222222222222222,
              "#7201a8"
             ],
             [
              0.3333333333333333,
              "#9c179e"
             ],
             [
              0.4444444444444444,
              "#bd3786"
             ],
             [
              0.5555555555555556,
              "#d8576b"
             ],
             [
              0.6666666666666666,
              "#ed7953"
             ],
             [
              0.7777777777777778,
              "#fb9f3a"
             ],
             [
              0.8888888888888888,
              "#fdca26"
             ],
             [
              1,
              "#f0f921"
             ]
            ],
            "type": "heatmap"
           }
          ],
          "heatmapgl": [
           {
            "colorbar": {
             "outlinewidth": 0,
             "ticks": ""
            },
            "colorscale": [
             [
              0,
              "#0d0887"
             ],
             [
              0.1111111111111111,
              "#46039f"
             ],
             [
              0.2222222222222222,
              "#7201a8"
             ],
             [
              0.3333333333333333,
              "#9c179e"
             ],
             [
              0.4444444444444444,
              "#bd3786"
             ],
             [
              0.5555555555555556,
              "#d8576b"
             ],
             [
              0.6666666666666666,
              "#ed7953"
             ],
             [
              0.7777777777777778,
              "#fb9f3a"
             ],
             [
              0.8888888888888888,
              "#fdca26"
             ],
             [
              1,
              "#f0f921"
             ]
            ],
            "type": "heatmapgl"
           }
          ],
          "histogram": [
           {
            "marker": {
             "pattern": {
              "fillmode": "overlay",
              "size": 10,
              "solidity": 0.2
             }
            },
            "type": "histogram"
           }
          ],
          "histogram2d": [
           {
            "colorbar": {
             "outlinewidth": 0,
             "ticks": ""
            },
            "colorscale": [
             [
              0,
              "#0d0887"
             ],
             [
              0.1111111111111111,
              "#46039f"
             ],
             [
              0.2222222222222222,
              "#7201a8"
             ],
             [
              0.3333333333333333,
              "#9c179e"
             ],
             [
              0.4444444444444444,
              "#bd3786"
             ],
             [
              0.5555555555555556,
              "#d8576b"
             ],
             [
              0.6666666666666666,
              "#ed7953"
             ],
             [
              0.7777777777777778,
              "#fb9f3a"
             ],
             [
              0.8888888888888888,
              "#fdca26"
             ],
             [
              1,
              "#f0f921"
             ]
            ],
            "type": "histogram2d"
           }
          ],
          "histogram2dcontour": [
           {
            "colorbar": {
             "outlinewidth": 0,
             "ticks": ""
            },
            "colorscale": [
             [
              0,
              "#0d0887"
             ],
             [
              0.1111111111111111,
              "#46039f"
             ],
             [
              0.2222222222222222,
              "#7201a8"
             ],
             [
              0.3333333333333333,
              "#9c179e"
             ],
             [
              0.4444444444444444,
              "#bd3786"
             ],
             [
              0.5555555555555556,
              "#d8576b"
             ],
             [
              0.6666666666666666,
              "#ed7953"
             ],
             [
              0.7777777777777778,
              "#fb9f3a"
             ],
             [
              0.8888888888888888,
              "#fdca26"
             ],
             [
              1,
              "#f0f921"
             ]
            ],
            "type": "histogram2dcontour"
           }
          ],
          "mesh3d": [
           {
            "colorbar": {
             "outlinewidth": 0,
             "ticks": ""
            },
            "type": "mesh3d"
           }
          ],
          "parcoords": [
           {
            "line": {
             "colorbar": {
              "outlinewidth": 0,
              "ticks": ""
             }
            },
            "type": "parcoords"
           }
          ],
          "pie": [
           {
            "automargin": true,
            "type": "pie"
           }
          ],
          "scatter": [
           {
            "marker": {
             "colorbar": {
              "outlinewidth": 0,
              "ticks": ""
             }
            },
            "type": "scatter"
           }
          ],
          "scatter3d": [
           {
            "line": {
             "colorbar": {
              "outlinewidth": 0,
              "ticks": ""
             }
            },
            "marker": {
             "colorbar": {
              "outlinewidth": 0,
              "ticks": ""
             }
            },
            "type": "scatter3d"
           }
          ],
          "scattercarpet": [
           {
            "marker": {
             "colorbar": {
              "outlinewidth": 0,
              "ticks": ""
             }
            },
            "type": "scattercarpet"
           }
          ],
          "scattergeo": [
           {
            "marker": {
             "colorbar": {
              "outlinewidth": 0,
              "ticks": ""
             }
            },
            "type": "scattergeo"
           }
          ],
          "scattergl": [
           {
            "marker": {
             "colorbar": {
              "outlinewidth": 0,
              "ticks": ""
             }
            },
            "type": "scattergl"
           }
          ],
          "scattermapbox": [
           {
            "marker": {
             "colorbar": {
              "outlinewidth": 0,
              "ticks": ""
             }
            },
            "type": "scattermapbox"
           }
          ],
          "scatterpolar": [
           {
            "marker": {
             "colorbar": {
              "outlinewidth": 0,
              "ticks": ""
             }
            },
            "type": "scatterpolar"
           }
          ],
          "scatterpolargl": [
           {
            "marker": {
             "colorbar": {
              "outlinewidth": 0,
              "ticks": ""
             }
            },
            "type": "scatterpolargl"
           }
          ],
          "scatterternary": [
           {
            "marker": {
             "colorbar": {
              "outlinewidth": 0,
              "ticks": ""
             }
            },
            "type": "scatterternary"
           }
          ],
          "surface": [
           {
            "colorbar": {
             "outlinewidth": 0,
             "ticks": ""
            },
            "colorscale": [
             [
              0,
              "#0d0887"
             ],
             [
              0.1111111111111111,
              "#46039f"
             ],
             [
              0.2222222222222222,
              "#7201a8"
             ],
             [
              0.3333333333333333,
              "#9c179e"
             ],
             [
              0.4444444444444444,
              "#bd3786"
             ],
             [
              0.5555555555555556,
              "#d8576b"
             ],
             [
              0.6666666666666666,
              "#ed7953"
             ],
             [
              0.7777777777777778,
              "#fb9f3a"
             ],
             [
              0.8888888888888888,
              "#fdca26"
             ],
             [
              1,
              "#f0f921"
             ]
            ],
            "type": "surface"
           }
          ],
          "table": [
           {
            "cells": {
             "fill": {
              "color": "#EBF0F8"
             },
             "line": {
              "color": "white"
             }
            },
            "header": {
             "fill": {
              "color": "#C8D4E3"
             },
             "line": {
              "color": "white"
             }
            },
            "type": "table"
           }
          ]
         },
         "layout": {
          "annotationdefaults": {
           "arrowcolor": "#2a3f5f",
           "arrowhead": 0,
           "arrowwidth": 1
          },
          "autotypenumbers": "strict",
          "coloraxis": {
           "colorbar": {
            "outlinewidth": 0,
            "ticks": ""
           }
          },
          "colorscale": {
           "diverging": [
            [
             0,
             "#8e0152"
            ],
            [
             0.1,
             "#c51b7d"
            ],
            [
             0.2,
             "#de77ae"
            ],
            [
             0.3,
             "#f1b6da"
            ],
            [
             0.4,
             "#fde0ef"
            ],
            [
             0.5,
             "#f7f7f7"
            ],
            [
             0.6,
             "#e6f5d0"
            ],
            [
             0.7,
             "#b8e186"
            ],
            [
             0.8,
             "#7fbc41"
            ],
            [
             0.9,
             "#4d9221"
            ],
            [
             1,
             "#276419"
            ]
           ],
           "sequential": [
            [
             0,
             "#0d0887"
            ],
            [
             0.1111111111111111,
             "#46039f"
            ],
            [
             0.2222222222222222,
             "#7201a8"
            ],
            [
             0.3333333333333333,
             "#9c179e"
            ],
            [
             0.4444444444444444,
             "#bd3786"
            ],
            [
             0.5555555555555556,
             "#d8576b"
            ],
            [
             0.6666666666666666,
             "#ed7953"
            ],
            [
             0.7777777777777778,
             "#fb9f3a"
            ],
            [
             0.8888888888888888,
             "#fdca26"
            ],
            [
             1,
             "#f0f921"
            ]
           ],
           "sequentialminus": [
            [
             0,
             "#0d0887"
            ],
            [
             0.1111111111111111,
             "#46039f"
            ],
            [
             0.2222222222222222,
             "#7201a8"
            ],
            [
             0.3333333333333333,
             "#9c179e"
            ],
            [
             0.4444444444444444,
             "#bd3786"
            ],
            [
             0.5555555555555556,
             "#d8576b"
            ],
            [
             0.6666666666666666,
             "#ed7953"
            ],
            [
             0.7777777777777778,
             "#fb9f3a"
            ],
            [
             0.8888888888888888,
             "#fdca26"
            ],
            [
             1,
             "#f0f921"
            ]
           ]
          },
          "colorway": [
           "#636efa",
           "#EF553B",
           "#00cc96",
           "#ab63fa",
           "#FFA15A",
           "#19d3f3",
           "#FF6692",
           "#B6E880",
           "#FF97FF",
           "#FECB52"
          ],
          "font": {
           "color": "#2a3f5f"
          },
          "geo": {
           "bgcolor": "white",
           "lakecolor": "white",
           "landcolor": "#E5ECF6",
           "showlakes": true,
           "showland": true,
           "subunitcolor": "white"
          },
          "hoverlabel": {
           "align": "left"
          },
          "hovermode": "closest",
          "mapbox": {
           "style": "light"
          },
          "paper_bgcolor": "white",
          "plot_bgcolor": "#E5ECF6",
          "polar": {
           "angularaxis": {
            "gridcolor": "white",
            "linecolor": "white",
            "ticks": ""
           },
           "bgcolor": "#E5ECF6",
           "radialaxis": {
            "gridcolor": "white",
            "linecolor": "white",
            "ticks": ""
           }
          },
          "scene": {
           "xaxis": {
            "backgroundcolor": "#E5ECF6",
            "gridcolor": "white",
            "gridwidth": 2,
            "linecolor": "white",
            "showbackground": true,
            "ticks": "",
            "zerolinecolor": "white"
           },
           "yaxis": {
            "backgroundcolor": "#E5ECF6",
            "gridcolor": "white",
            "gridwidth": 2,
            "linecolor": "white",
            "showbackground": true,
            "ticks": "",
            "zerolinecolor": "white"
           },
           "zaxis": {
            "backgroundcolor": "#E5ECF6",
            "gridcolor": "white",
            "gridwidth": 2,
            "linecolor": "white",
            "showbackground": true,
            "ticks": "",
            "zerolinecolor": "white"
           }
          },
          "shapedefaults": {
           "line": {
            "color": "#2a3f5f"
           }
          },
          "ternary": {
           "aaxis": {
            "gridcolor": "white",
            "linecolor": "white",
            "ticks": ""
           },
           "baxis": {
            "gridcolor": "white",
            "linecolor": "white",
            "ticks": ""
           },
           "bgcolor": "#E5ECF6",
           "caxis": {
            "gridcolor": "white",
            "linecolor": "white",
            "ticks": ""
           }
          },
          "title": {
           "x": 0.05
          },
          "xaxis": {
           "automargin": true,
           "gridcolor": "white",
           "linecolor": "white",
           "ticks": "",
           "title": {
            "standoff": 15
           },
           "zerolinecolor": "white",
           "zerolinewidth": 2
          },
          "yaxis": {
           "automargin": true,
           "gridcolor": "white",
           "linecolor": "white",
           "ticks": "",
           "title": {
            "standoff": 15
           },
           "zerolinecolor": "white",
           "zerolinewidth": 2
          }
         }
        },
        "title": {
         "text": "figure 6 : <b>Bootstrap - OLS Dependent variable (<i>fat</i>); Explicative variable (<i>V40</i>)</b><br><i>(Hover on the figure for additional informations)</i>"
        },
        "xaxis": {
         "anchor": "y",
         "domain": [
          0,
          1
         ],
         "title": {
          "text": "V40"
         }
        },
        "yaxis": {
         "anchor": "x",
         "domain": [
          0,
          1
         ],
         "title": {
          "text": "fat"
         }
        }
       }
      }
     },
     "metadata": {},
     "output_type": "display_data"
    }
   ],
   "source": [
    "# DataFrame of interest\n",
    "df_bootstrap = df[['V40', 'fat']]\n",
    "\n",
    "# Displaying figure\n",
    "fig_6 = px.scatter(\n",
    "    df_bootstrap,\n",
    "    x=\"V40\",\n",
    "    y=\"fat\",\n",
    "    trendline=\"ols\",\n",
    "    title=\"figure 6 : <b>Bootstrap - OLS Dependent variable (<i>fat</i>); Explicative variable (<i>V40</i>)</b><br><i>(Hover on the figure for additional informations)</i>\",\n",
    ")\n",
    "fig_6.show()\n"
   ]
  },
  {
   "attachments": {},
   "cell_type": "markdown",
   "metadata": {},
   "source": [
    "We then generate $50$ bootstrap samples, for each of the samples we fit a regression model and plot the $50$ estimated regression lines in the same\n",
    "plot."
   ]
  },
  {
   "cell_type": "code",
   "execution_count": 105,
   "metadata": {},
   "outputs": [
    {
     "data": {
      "application/vnd.plotly.v1+json": {
       "config": {
        "plotlyServerURL": "https://plot.ly"
       },
       "data": [
        {
         "hovertemplate": "sample=S1<br>V40=%{x}<br>fat=%{y}<extra></extra>",
         "legendgroup": "S1",
         "marker": {
          "color": "#636efa",
          "symbol": "circle"
         },
         "mode": "markers",
         "name": "S1",
         "showlegend": true,
         "type": "scattergl",
         "x": [
          2.764,
          3.84067,
          3.27835,
          3.55286,
          3.50519,
          3.14615,
          3.50519,
          2.62234,
          2.70322,
          2.96731,
          2.74815,
          2.5451,
          3.49277,
          2.74815,
          3.04338,
          2.60269,
          2.76642,
          3.61808,
          2.48354,
          3.8577,
          3.09379,
          2.81769,
          2.764,
          3.94548,
          2.3816,
          2.30851,
          5.15256,
          3.48656,
          3.04925,
          3.61808,
          2.24446,
          3.61808
         ],
         "xaxis": "x",
         "y": [
          4.6,
          31.5,
          40.1,
          46,
          42.7,
          37.8,
          42.7,
          20.6,
          28.9,
          9.6,
          29.2,
          11.2,
          44.7,
          29.2,
          8.6,
          5.1,
          8.4,
          9.7,
          12.2,
          19.9,
          29.7,
          12.5,
          4.6,
          30.4,
          17.7,
          7.1,
          48.5,
          10.1,
          6.7,
          9.7,
          0.9,
          9.7
         ],
         "yaxis": "y"
        },
        {
         "hovertemplate": "<b>OLS trendline</b><br>fat = 13.232 * V40 + -20.5155<br>R<sup>2</sup>=0.298114<br><br>sample=S1<br>V40=%{x}<br>fat=%{y} <b>(trend)</b><extra></extra>",
         "legendgroup": "S1",
         "marker": {
          "color": "#636efa",
          "symbol": "circle"
         },
         "mode": "lines",
         "name": "S1",
         "showlegend": false,
         "type": "scattergl",
         "x": [
          2.24446,
          2.30851,
          2.3816,
          2.48354,
          2.5451,
          2.60269,
          2.62234,
          2.70322,
          2.74815,
          2.74815,
          2.764,
          2.764,
          2.76642,
          2.81769,
          2.96731,
          3.04338,
          3.04925,
          3.09379,
          3.14615,
          3.27835,
          3.48656,
          3.49277,
          3.50519,
          3.50519,
          3.55286,
          3.61808,
          3.61808,
          3.61808,
          3.84067,
          3.8577,
          3.94548,
          5.15256
         ],
         "xaxis": "x",
         "y": [
          9.183334884626163,
          10.03084765574566,
          10.997978154436126,
          12.346853281491889,
          13.161418249331334,
          13.92345198061583,
          14.183461753488551,
          15.253669917862403,
          15.848185902349506,
          15.848185902349506,
          16.057913887084,
          16.057913887084,
          16.08993544689835,
          16.768342625279253,
          18.748121872974792,
          19.754683879205245,
          19.83235600982931,
          20.421711495007493,
          21.11454160735436,
          22.86381855258462,
          25.618863581074713,
          25.701034608532204,
          25.86537666344718,
          25.86537666344718,
          26.496148463591858,
          27.359142732638126,
          27.359142732638126,
          27.359142732638126,
          30.304464633082922,
          30.52980643623929,
          31.691315742232568,
          47.66345806483875
         ],
         "yaxis": "y"
        },
        {
         "hovertemplate": "sample=S2<br>V40=%{x}<br>fat=%{y}<extra></extra>",
         "legendgroup": "S2",
         "marker": {
          "color": "#EF553B",
          "symbol": "circle"
         },
         "mode": "markers",
         "name": "S2",
         "showlegend": true,
         "type": "scattergl",
         "x": [
          2.74206,
          3.41044,
          3.06597,
          2.80872,
          3.31014,
          2.96468,
          2.73804,
          3.09723,
          3.50519,
          3.24301,
          2.37632,
          4.0604,
          4.01028,
          3.34209,
          2.764,
          3.60549,
          2.42779,
          3.94548,
          3.17624,
          2.74589,
          3.04786,
          2.88966,
          3.00628,
          4.07309,
          3.04925,
          4.30451,
          3.81015,
          2.62159,
          2.4989,
          2.48354,
          2.95571,
          2.78845
         ],
         "xaxis": "x",
         "y": [
          6.8,
          34.2,
          7.2,
          14,
          3.5,
          15.7,
          24.9,
          42.5,
          42.7,
          18.3,
          3.6,
          35.8,
          10,
          14,
          4.6,
          6.1,
          6.4,
          30.4,
          6.4,
          28.9,
          16.4,
          17.2,
          28.4,
          21.2,
          6.7,
          17,
          27.9,
          16.4,
          6.9,
          12.2,
          15.4,
          7.1
         ],
         "yaxis": "y"
        },
        {
         "hovertemplate": "<b>OLS trendline</b><br>fat = 8.27809 * V40 + -8.94369<br>R<sup>2</sup>=0.145589<br><br>sample=S2<br>V40=%{x}<br>fat=%{y} <b>(trend)</b><extra></extra>",
         "legendgroup": "S2",
         "marker": {
          "color": "#EF553B",
          "symbol": "circle"
         },
         "mode": "lines",
         "name": "S2",
         "showlegend": false,
         "type": "scattergl",
         "x": [
          2.37632,
          2.42779,
          2.48354,
          2.4989,
          2.62159,
          2.73804,
          2.74206,
          2.74589,
          2.764,
          2.78845,
          2.80872,
          2.88966,
          2.95571,
          2.96468,
          3.00628,
          3.04786,
          3.04925,
          3.06597,
          3.09723,
          3.17624,
          3.24301,
          3.31014,
          3.34209,
          3.41044,
          3.50519,
          3.60549,
          3.81015,
          3.94548,
          4.01028,
          4.0604,
          4.07309,
          4.30451
         ],
         "xaxis": "x",
         "y": [
          10.72769934047642,
          11.153772674999153,
          11.615276238232934,
          11.742427713233305,
          12.75806667598043,
          13.722050352008651,
          13.755328277106408,
          13.7870333649483,
          13.936949589704597,
          14.139348910261834,
          14.307145811190061,
          14.977174482188126,
          15.523942380871368,
          15.598196855529793,
          15.942565433655801,
          16.286768449965408,
          16.298274996205674,
          16.43668467472171,
          16.69545779376544,
          17.34950974948025,
          17.90223787355414,
          18.457946110323352,
          18.72243111203311,
          19.288238619603135,
          20.072587724830047,
          20.902880234109833,
          22.597074301399967,
          23.717348332116146,
          24.253768617273977,
          24.668666529189252,
          24.77371550169933,
          26.689431279341676
         ],
         "yaxis": "y"
        },
        {
         "hovertemplate": "sample=S3<br>V40=%{x}<br>fat=%{y}<extra></extra>",
         "legendgroup": "S3",
         "marker": {
          "color": "#00cc96",
          "symbol": "circle"
         },
         "mode": "markers",
         "name": "S3",
         "showlegend": true,
         "type": "scattergl",
         "x": [
          2.97124,
          2.764,
          3.09379,
          3.48411,
          3.2876,
          3.51002,
          2.96468,
          2.6912,
          4.01028,
          3.48411,
          3.81015,
          3.10446,
          2.49226,
          3.53807,
          2.48354,
          2.87857,
          3.02172,
          3.10446,
          3.56187,
          2.84415,
          2.79681,
          2.29884,
          3.12825,
          2.97042,
          2.71371,
          3.94548,
          2.75556,
          3.04925,
          4.95934,
          2.37632,
          2.88087,
          3.94496
         ],
         "xaxis": "x",
         "y": [
          6,
          4.6,
          29.7,
          11,
          45,
          42.7,
          15.7,
          18.1,
          10,
          11,
          27.9,
          8.5,
          13.8,
          10.1,
          12.2,
          22.5,
          27.2,
          8.5,
          46,
          6.6,
          7.2,
          2,
          28.8,
          14.3,
          11.2,
          30.4,
          6,
          6.7,
          34.8,
          3.6,
          4.7,
          31.5
         ],
         "yaxis": "y"
        },
        {
         "hovertemplate": "<b>OLS trendline</b><br>fat = 12.6573 * V40 + -22.4711<br>R<sup>2</sup>=0.302686<br><br>sample=S3<br>V40=%{x}<br>fat=%{y} <b>(trend)</b><extra></extra>",
         "legendgroup": "S3",
         "marker": {
          "color": "#00cc96",
          "symbol": "circle"
         },
         "mode": "lines",
         "name": "S3",
         "showlegend": false,
         "type": "scattergl",
         "x": [
          2.29884,
          2.37632,
          2.48354,
          2.49226,
          2.6912,
          2.71371,
          2.75556,
          2.764,
          2.79681,
          2.84415,
          2.87857,
          2.88087,
          2.96468,
          2.97042,
          2.97124,
          3.02172,
          3.04925,
          3.09379,
          3.10446,
          3.10446,
          3.12825,
          3.2876,
          3.48411,
          3.48411,
          3.51002,
          3.53807,
          3.56187,
          3.81015,
          3.94496,
          3.94548,
          4.01028,
          4.95934
         ],
         "xaxis": "x",
         "y": [
          6.626005151359525,
          7.60669111560534,
          8.96380455244628,
          9.074176023899863,
          11.59221507561724,
          11.87713042222505,
          12.406837541529228,
          12.513664974908608,
          12.928950293531543,
          13.528145873647667,
          13.96380941119724,
          13.992921152521,
          15.053727691801356,
          15.126380472322403,
          15.13675944096827,
          15.775698876630749,
          16.124153762997388,
          16.68790896237153,
          16.82296212755613,
          16.82296212755613,
          17.12407879107456,
          19.141016173658073,
          21.62829803780295,
          21.62829803780295,
          21.95624813245459,
          22.31128480381617,
          22.61252804012296,
          25.7550772296293,
          27.46140498956707,
          27.467986774562007,
          28.288178443162018,
          40.3006954956547
         ],
         "yaxis": "y"
        },
        {
         "hovertemplate": "sample=S4<br>V40=%{x}<br>fat=%{y}<extra></extra>",
         "legendgroup": "S4",
         "marker": {
          "color": "#ab63fa",
          "symbol": "circle"
         },
         "mode": "markers",
         "name": "S4",
         "showlegend": true,
         "type": "scattergl",
         "x": [
          3.51876,
          3.8577,
          2.81573,
          3.48656,
          3.73111,
          2.72578,
          2.15138,
          2.29884,
          3.17035,
          3.04925,
          3.71898,
          3.38955,
          2.78689,
          2.72432,
          2.32108,
          4.63278,
          3.34209,
          3.53807,
          3.60287,
          2.24446,
          2.74815,
          2.24446,
          3.84111,
          2.8564,
          2.95571,
          4.1284,
          2.72708,
          2.98908,
          3.01651,
          3.17035,
          3.0161,
          3.17624
         ],
         "xaxis": "x",
         "y": [
          47.8,
          19.9,
          6.2,
          10.1,
          24.8,
          17.7,
          1.4,
          2,
          7.7,
          6.7,
          10.2,
          15.5,
          28.1,
          10.6,
          9.3,
          17.6,
          14,
          10.1,
          10.5,
          0.9,
          29.2,
          0.9,
          10.1,
          18.6,
          15.4,
          26.5,
          5.6,
          10.9,
          23.4,
          7.7,
          27.8,
          6.4
         ],
         "yaxis": "y"
        },
        {
         "hovertemplate": "<b>OLS trendline</b><br>fat = 6.84471 * V40 + -7.20963<br>R<sup>2</sup>=0.151723<br><br>sample=S4<br>V40=%{x}<br>fat=%{y} <b>(trend)</b><extra></extra>",
         "legendgroup": "S4",
         "marker": {
          "color": "#ab63fa",
          "symbol": "circle"
         },
         "mode": "lines",
         "name": "S4",
         "showlegend": false,
         "type": "scattergl",
         "x": [
          2.15138,
          2.24446,
          2.24446,
          2.29884,
          2.32108,
          2.72432,
          2.72578,
          2.72708,
          2.74815,
          2.78689,
          2.81573,
          2.8564,
          2.95571,
          2.98908,
          3.0161,
          3.01651,
          3.04925,
          3.17035,
          3.17035,
          3.17624,
          3.34209,
          3.38955,
          3.48656,
          3.51876,
          3.53807,
          3.60287,
          3.71898,
          3.73111,
          3.84111,
          3.8577,
          4.1284,
          4.63278
         ],
         "xaxis": "x",
         "y": [
          7.515952683323224,
          8.153058706633042,
          8.153058706633042,
          8.525274279769999,
          8.677500729688457,
          11.43756339448703,
          11.447556677620165,
          11.45645480643734,
          11.600672940420344,
          11.865837179172198,
          12.06323874462401,
          12.341613282312133,
          13.02136187679965,
          13.24976999882209,
          13.434714183929858,
          13.437520516864508,
          13.661616468767852,
          14.490511391660194,
          14.490511391660194,
          14.530826759916478,
          15.666022655553919,
          15.9908728045256,
          16.65487855572119,
          16.87527836180817,
          17.007449798315612,
          17.45098729627947,
          18.245727093942804,
          18.328753480521534,
          19.08167207274414,
          19.195225885880255,
          21.048090094195338,
          24.50042718097022
         ],
         "yaxis": "y"
        },
        {
         "hovertemplate": "sample=S5<br>V40=%{x}<br>fat=%{y}<extra></extra>",
         "legendgroup": "S5",
         "marker": {
          "color": "#FFA15A",
          "symbol": "circle"
         },
         "mode": "markers",
         "name": "S5",
         "showlegend": true,
         "type": "scattergl",
         "x": [
          3.12825,
          3.7901,
          2.84727,
          2.3816,
          3.31014,
          3.42185,
          2.98798,
          3.09045,
          3.68994,
          2.88966,
          2.79484,
          3.76068,
          4.27201,
          3.24301,
          3.34338,
          2.48354,
          2.764,
          3.00628,
          3.42597,
          2.78845,
          2.8564,
          2.98798,
          3.14371,
          2.96927,
          3.54847,
          3.10446,
          3.04314,
          2.57189,
          3.51876,
          2.84415,
          2.62159,
          3.21746
         ],
         "xaxis": "x",
         "y": [
          28.8,
          28.3,
          7.2,
          17.7,
          3.5,
          18.8,
          7.8,
          26.1,
          19.9,
          17.2,
          29.2,
          10.1,
          36.5,
          18.3,
          29.8,
          12.2,
          4.6,
          28.4,
          33.7,
          7.1,
          18.6,
          7.8,
          25.5,
          6.4,
          26,
          8.5,
          36.2,
          7.9,
          47.8,
          6.6,
          16.4,
          35.2
         ],
         "yaxis": "y"
        },
        {
         "hovertemplate": "<b>OLS trendline</b><br>fat = 12.9747 * V40 + -20.8557<br>R<sup>2</sup>=0.214399<br><br>sample=S5<br>V40=%{x}<br>fat=%{y} <b>(trend)</b><extra></extra>",
         "legendgroup": "S5",
         "marker": {
          "color": "#FFA15A",
          "symbol": "circle"
         },
         "mode": "lines",
         "name": "S5",
         "showlegend": false,
         "type": "scattergl",
         "x": [
          2.3816,
          2.48354,
          2.57189,
          2.62159,
          2.764,
          2.78845,
          2.79484,
          2.84415,
          2.84727,
          2.8564,
          2.88966,
          2.96927,
          2.98798,
          2.98798,
          3.00628,
          3.04314,
          3.09045,
          3.10446,
          3.12825,
          3.14371,
          3.21746,
          3.24301,
          3.31014,
          3.34338,
          3.42185,
          3.42597,
          3.51876,
          3.54847,
          3.68994,
          3.76068,
          3.7901,
          4.27201
         ],
         "xaxis": "x",
         "y": [
          10.04488960545558,
          11.367531689129596,
          12.513847444403272,
          13.15869060271795,
          15.006419258162484,
          15.323650952745869,
          15.4065593588149,
          16.046342379669962,
          16.086823479346858,
          16.205282594747526,
          16.6368214970724,
          17.669738274405024,
          17.912495125352063,
          17.912495125352063,
          18.149932344610786,
          18.628180208101316,
          19.24201380608658,
          19.423789513289567,
          19.732457898325908,
          19.933046937109506,
          20.889931905433603,
          21.221435782595375,
          22.092428161220415,
          22.52370756931659,
          23.54183317561343,
          23.595288986725226,
          24.799212460769876,
          25.184691137500845,
          27.020223564196574,
          27.938054651101613,
          28.319770661516454,
          34.57241384911056
         ],
         "yaxis": "y"
        },
        {
         "hovertemplate": "sample=S6<br>V40=%{x}<br>fat=%{y}<extra></extra>",
         "legendgroup": "S6",
         "marker": {
          "color": "#19d3f3",
          "symbol": "circle"
         },
         "mode": "markers",
         "name": "S6",
         "showlegend": true,
         "type": "scattergl",
         "x": [
          4.0604,
          2.42413,
          2.79484,
          2.5451,
          4.0604,
          3.17624,
          3.02501,
          2.99942,
          3.7901,
          3.49277,
          2.79331,
          2.94801,
          3.65631,
          2.48354,
          3.02177,
          3.71898,
          2.81769,
          3.32938,
          2.47021,
          3.94548,
          2.94362,
          2.42779,
          4.01028,
          2.80872,
          2.36604,
          3.02172,
          3.42185,
          3.39535,
          2.88087,
          3.00628,
          3.12825,
          5.15256
         ],
         "xaxis": "x",
         "y": [
          35.8,
          4.8,
          29.2,
          11.2,
          35.8,
          6.4,
          16.3,
          16.4,
          28.3,
          44.7,
          5.6,
          18.2,
          31.1,
          12.2,
          7,
          10.2,
          12.5,
          45.7,
          12.7,
          30.4,
          28.7,
          6.4,
          10,
          14,
          6.4,
          27.2,
          18.8,
          43.8,
          4.7,
          28.4,
          28.8,
          48.5
         ],
         "yaxis": "y"
        },
        {
         "hovertemplate": "<b>OLS trendline</b><br>fat = 13.7441 * V40 + -22.6032<br>R<sup>2</sup>=0.397555<br><br>sample=S6<br>V40=%{x}<br>fat=%{y} <b>(trend)</b><extra></extra>",
         "legendgroup": "S6",
         "marker": {
          "color": "#19d3f3",
          "symbol": "circle"
         },
         "mode": "lines",
         "name": "S6",
         "showlegend": false,
         "type": "scattergl",
         "x": [
          2.36604,
          2.42413,
          2.42779,
          2.47021,
          2.48354,
          2.5451,
          2.79331,
          2.79484,
          2.80872,
          2.81769,
          2.88087,
          2.94362,
          2.94801,
          2.99942,
          3.00628,
          3.02172,
          3.02177,
          3.02501,
          3.12825,
          3.17624,
          3.32938,
          3.39535,
          3.42185,
          3.49277,
          3.65631,
          3.71898,
          3.7901,
          3.94548,
          4.01028,
          4.0604,
          4.0604,
          5.15256
         ],
         "xaxis": "x",
         "y": [
          9.915998305722265,
          10.714394521833643,
          10.76469801900988,
          11.347723797757421,
          11.530932982828258,
          12.377021312382684,
          15.788450556676114,
          15.809479067790772,
          16.00024752156295,
          16.123532322019468,
          16.99188613393059,
          17.854329972129744,
          17.91466668049141,
          18.6212521421937,
          18.715536839086862,
          18.927746127721047,
          18.928433333966627,
          18.972964298680015,
          20.391907754547443,
          21.051488309052264,
          23.156263598005555,
          24.062963518419874,
          24.427182828575692,
          25.401916167302137,
          27.649630355335443,
          28.510974663541685,
          29.488456827250427,
          31.624018956005568,
          32.51463825027338,
          33.20349379083979,
          33.20349379083979,
          48.21427725422771
         ],
         "yaxis": "y"
        },
        {
         "hovertemplate": "sample=S7<br>V40=%{x}<br>fat=%{y}<extra></extra>",
         "legendgroup": "S7",
         "marker": {
          "color": "#FF6692",
          "symbol": "circle"
         },
         "mode": "markers",
         "name": "S7",
         "showlegend": true,
         "type": "scattergl",
         "x": [
          2.78689,
          3.76068,
          4.14779,
          2.97124,
          2.32108,
          3.0161,
          4.30027,
          2.24446,
          2.72578,
          3.10446,
          3.30932,
          2.69671,
          2.37632,
          3.87794,
          3.31266,
          2.88966,
          3.24301,
          3.07342,
          2.47021,
          2.74206,
          2.76642,
          3.68994,
          3.55286,
          3.51002,
          3.84067,
          2.70322,
          3.24301,
          2.30851,
          3.94496,
          3.17624,
          3.47681,
          2.764
         ],
         "xaxis": "x",
         "y": [
          28.1,
          10.1,
          32,
          6,
          9.3,
          27.8,
          22.4,
          0.9,
          17.7,
          8.5,
          32.2,
          13.5,
          3.6,
          11.2,
          23.3,
          17.2,
          18.3,
          10.9,
          12.7,
          6.8,
          8.4,
          19.9,
          46,
          42.7,
          31.5,
          28.9,
          18.3,
          7.1,
          31.5,
          6.4,
          26.7,
          4.6
         ],
         "yaxis": "y"
        },
        {
         "hovertemplate": "<b>OLS trendline</b><br>fat = 11.5915 * V40 + -18.0834<br>R<sup>2</sup>=0.304405<br><br>sample=S7<br>V40=%{x}<br>fat=%{y} <b>(trend)</b><extra></extra>",
         "legendgroup": "S7",
         "marker": {
          "color": "#FF6692",
          "symbol": "circle"
         },
         "mode": "lines",
         "name": "S7",
         "showlegend": false,
         "type": "scattergl",
         "x": [
          2.24446,
          2.30851,
          2.32108,
          2.37632,
          2.47021,
          2.69671,
          2.70322,
          2.72578,
          2.74206,
          2.764,
          2.76642,
          2.78689,
          2.88966,
          2.97124,
          3.0161,
          3.07342,
          3.10446,
          3.17624,
          3.24301,
          3.24301,
          3.30932,
          3.31266,
          3.47681,
          3.51002,
          3.55286,
          3.68994,
          3.76068,
          3.84067,
          3.87794,
          3.94496,
          4.14779,
          4.30027
         ],
         "xaxis": "x",
         "y": [
          7.933259356494666,
          8.675694380436909,
          8.821399427290206,
          9.46171341202978,
          10.55003853924191,
          13.175511340536492,
          13.25097194952734,
          13.512475995431117,
          13.701185475365229,
          13.955502796603213,
          13.98355420578261,
          14.220832034667815,
          15.412089605480375,
          16.357723473602277,
          16.877717777646758,
          17.542142064490932,
          17.901941957436556,
          18.73397920987331,
          19.50794309041388,
          19.50794309041388,
          20.276574884912087,
          20.315290466176215,
          22.2180337789025,
          22.602987208178405,
          23.09956669960207,
          24.688528340226625,
          25.508510441611072,
          26.43571383841264,
          26.86772872275811,
          27.64459047614779,
          29.99569267608853,
          31.76316328421833
         ],
         "yaxis": "y"
        },
        {
         "hovertemplate": "sample=S8<br>V40=%{x}<br>fat=%{y}<extra></extra>",
         "legendgroup": "S8",
         "marker": {
          "color": "#B6E880",
          "symbol": "circle"
         },
         "mode": "markers",
         "name": "S8",
         "showlegend": true,
         "type": "scattergl",
         "x": [
          3.51002,
          3.84067,
          3.01651,
          2.49226,
          2.69238,
          3.02172,
          2.71371,
          2.74815,
          3.8577,
          2.15138,
          2.69238,
          3.04555,
          2.99942,
          2.99246,
          3.48411,
          3.56187,
          2.83348,
          2.24446,
          3.84067,
          2.98908,
          4.01028,
          2.60204,
          2.29884,
          4.63278,
          2.90705,
          2.96927,
          3.83084,
          3.58251,
          3.51876,
          2.88087,
          3.42185,
          3.09723
         ],
         "xaxis": "x",
         "y": [
          42.7,
          31.5,
          23.4,
          13.8,
          6.8,
          27.2,
          11.2,
          29.2,
          19.9,
          1.4,
          6.8,
          12.5,
          16.4,
          5.9,
          11,
          46,
          9.7,
          0.9,
          31.5,
          10.9,
          10,
          10.7,
          2,
          17.6,
          9.2,
          6.4,
          38.5,
          35.2,
          47.8,
          4.7,
          18.8,
          42.5
         ],
         "yaxis": "y"
        },
        {
         "hovertemplate": "<b>OLS trendline</b><br>fat = 13.4491 * V40 + -23.4147<br>R<sup>2</sup>=0.295505<br><br>sample=S8<br>V40=%{x}<br>fat=%{y} <b>(trend)</b><extra></extra>",
         "legendgroup": "S8",
         "marker": {
          "color": "#B6E880",
          "symbol": "circle"
         },
         "mode": "lines",
         "name": "S8",
         "showlegend": false,
         "type": "scattergl",
         "x": [
          2.15138,
          2.24446,
          2.29884,
          2.49226,
          2.60204,
          2.69238,
          2.69238,
          2.71371,
          2.74815,
          2.83348,
          2.88087,
          2.90705,
          2.96927,
          2.98908,
          2.99246,
          2.99942,
          3.01651,
          3.02172,
          3.04555,
          3.09723,
          3.42185,
          3.48411,
          3.51002,
          3.51876,
          3.56187,
          3.58251,
          3.83084,
          3.84067,
          3.84067,
          3.8577,
          4.01028,
          4.63278
         ],
         "xaxis": "x",
         "y": [
          5.519431521569228,
          6.771275458507006,
          7.502638514917368,
          10.10396698808566,
          11.58041120163346,
          12.795404554265161,
          12.795404554265161,
          13.082274248881433,
          13.54546188519575,
          14.69307515484445,
          15.330428873919232,
          15.682526792580937,
          16.519330936932768,
          16.78575797164202,
          16.83121599169842,
          16.924821855483202,
          17.15466728825357,
          17.224737194908556,
          17.54522968542453,
          18.240280122263215,
          22.606132924247973,
          23.443475033334195,
          23.791941690038726,
          23.909486984504092,
          24.489278476998585,
          24.766868279946543,
          28.10668784225593,
          28.238892675733567,
          28.238892675733567,
          28.467931161402355,
          30.519997640753083,
          38.89207381977937
         ],
         "yaxis": "y"
        },
        {
         "hovertemplate": "sample=S9<br>V40=%{x}<br>fat=%{y}<extra></extra>",
         "legendgroup": "S9",
         "marker": {
          "color": "#FF97FF",
          "symbol": "circle"
         },
         "mode": "markers",
         "name": "S9",
         "showlegend": true,
         "type": "scattergl",
         "x": [
          3.54434,
          3.24301,
          3.32625,
          2.94362,
          2.24446,
          2.97829,
          2.97124,
          3.12825,
          2.24446,
          2.55253,
          2.97829,
          3.04786,
          3.10992,
          3.50519,
          2.80872,
          2.49226,
          3.84067,
          2.60269,
          2.79331,
          2.68876,
          3.00284,
          2.95571,
          2.7653,
          3.58251,
          2.48354,
          2.76642,
          2.764,
          4.03525,
          3.87794,
          2.65624,
          3.84111,
          3.01651
         ],
         "xaxis": "x",
         "y": [
          29,
          18.3,
          9.2,
          28.7,
          0.9,
          17.4,
          6,
          28.8,
          0.9,
          13.5,
          17.4,
          16.4,
          8.2,
          42.7,
          14,
          13.8,
          31.5,
          5.1,
          5.6,
          7.3,
          5.9,
          15.4,
          10.6,
          35.2,
          12.2,
          8.4,
          4.6,
          35.1,
          11.2,
          5.2,
          10.1,
          23.4
         ],
         "yaxis": "y"
        },
        {
         "hovertemplate": "<b>OLS trendline</b><br>fat = 14.7719 * V40 + -29.306<br>R<sup>2</sup>=0.399635<br><br>sample=S9<br>V40=%{x}<br>fat=%{y} <b>(trend)</b><extra></extra>",
         "legendgroup": "S9",
         "marker": {
          "color": "#FF97FF",
          "symbol": "circle"
         },
         "mode": "lines",
         "name": "S9",
         "showlegend": false,
         "type": "scattergl",
         "x": [
          2.24446,
          2.24446,
          2.48354,
          2.49226,
          2.55253,
          2.60269,
          2.65624,
          2.68876,
          2.764,
          2.7653,
          2.76642,
          2.79331,
          2.80872,
          2.94362,
          2.95571,
          2.97124,
          2.97829,
          2.97829,
          3.00284,
          3.01651,
          3.04786,
          3.10992,
          3.12825,
          3.24301,
          3.32625,
          3.50519,
          3.54434,
          3.58251,
          3.84067,
          3.84111,
          3.87794,
          4.03525
         ],
         "xaxis": "x",
         "y": [
          3.848887718191616,
          3.848887718191616,
          7.380548011378341,
          7.509358776630922,
          8.399659788302177,
          9.140617126039533,
          9.931651125956503,
          10.412032557838852,
          11.52346856444488,
          11.542672004218769,
          11.559216506177822,
          11.95643227196246,
          12.18406689266686,
          14.176793066127164,
          14.355385056024378,
          14.584792301938673,
          14.688934033020178,
          14.688934033020178,
          15.051583607211807,
          15.253515162372683,
          15.716613498458532,
          16.633356169510765,
          16.904124670322677,
          18.599345246055105,
          19.828956266654334,
          22.472235892147186,
          23.050554866876407,
          23.61439740239145,
          27.427905103951954,
          27.43440472972158,
          27.978452950392768,
          30.30221688180151
         ],
         "yaxis": "y"
        },
        {
         "hovertemplate": "sample=S10<br>V40=%{x}<br>fat=%{y}<extra></extra>",
         "legendgroup": "S10",
         "marker": {
          "color": "#FECB52",
          "symbol": "circle"
         },
         "mode": "markers",
         "name": "S10",
         "showlegend": true,
         "type": "scattergl",
         "x": [
          2.49226,
          2.95221,
          4.14779,
          2.72432,
          2.5451,
          2.62234,
          2.5451,
          2.48354,
          3.54434,
          2.74589,
          4.30027,
          2.57189,
          3.1999,
          3.58251,
          2.62087,
          2.49226,
          2.84727,
          3.94496,
          3.09379,
          3.51876,
          3.51876,
          2.62159,
          2.62234,
          4.30027,
          3.73111,
          3.07342,
          3.00284,
          3.7901,
          3.10446,
          3.02501,
          3.84111,
          2.24446
         ],
         "xaxis": "x",
         "y": [
          13.8,
          21.5,
          32,
          10.6,
          11.2,
          20.6,
          11.2,
          12.2,
          29,
          28.9,
          22.4,
          7.9,
          19.4,
          35.2,
          5.6,
          13.8,
          7.2,
          31.5,
          29.7,
          47.8,
          47.8,
          16.4,
          20.6,
          22.4,
          24.8,
          10.9,
          5.9,
          28.3,
          8.5,
          16.3,
          10.1,
          0.9
         ],
         "yaxis": "y"
        },
        {
         "hovertemplate": "<b>OLS trendline</b><br>fat = 11.2065 * V40 + -15.4555<br>R<sup>2</sup>=0.325958<br><br>sample=S10<br>V40=%{x}<br>fat=%{y} <b>(trend)</b><extra></extra>",
         "legendgroup": "S10",
         "marker": {
          "color": "#FECB52",
          "symbol": "circle"
         },
         "mode": "lines",
         "name": "S10",
         "showlegend": false,
         "type": "scattergl",
         "x": [
          2.24446,
          2.48354,
          2.49226,
          2.49226,
          2.5451,
          2.5451,
          2.57189,
          2.62087,
          2.62159,
          2.62234,
          2.62234,
          2.72432,
          2.74589,
          2.84727,
          2.95221,
          3.00284,
          3.02501,
          3.07342,
          3.09379,
          3.10446,
          3.1999,
          3.51876,
          3.51876,
          3.54434,
          3.58251,
          3.73111,
          3.7901,
          3.84111,
          3.94496,
          4.14779,
          4.30027,
          4.30027
         ],
         "xaxis": "x",
         "y": [
          9.69698896675893,
          12.376232386955248,
          12.473952826239636,
          12.473952826239636,
          13.066102827591376,
          13.066102827591376,
          13.36632422305339,
          13.915217240960434,
          13.923285901084832,
          13.93169075538108,
          13.93169075538108,
          15.074526810223063,
          15.316250419783188,
          16.452362591188166,
          17.62836980431934,
          18.195753501678134,
          18.444200994675256,
          18.98670632331715,
          19.214982166003274,
          19.33455522645791,
          20.404100951836597,
          23.977396739705917,
          23.977396739705917,
          24.26405830356999,
          24.6918093548871,
          26.357091152783923,
          27.0181609593649,
          27.58980311623379,
          28.753595274454412,
          31.02660407033202,
          32.735366981121444,
          32.735366981121444
         ],
         "yaxis": "y"
        },
        {
         "hovertemplate": "sample=S11<br>V40=%{x}<br>fat=%{y}<extra></extra>",
         "legendgroup": "S11",
         "marker": {
          "color": "#636efa",
          "symbol": "circle"
         },
         "mode": "markers",
         "name": "S11",
         "showlegend": true,
         "type": "scattergl",
         "x": [
          2.97042,
          2.24446,
          2.79331,
          2.84415,
          3.04314,
          2.95221,
          2.42779,
          3.18116,
          3.34338,
          2.62958,
          2.3816,
          2.37369,
          2.68428,
          2.5451,
          2.51888,
          2.42973,
          3.58079,
          4.30027,
          3.94496,
          2.5451,
          2.98908,
          3.54434,
          2.65624,
          3.56187,
          3.54847,
          3.09723,
          2.37369,
          2.42779,
          3.09723,
          3.84111,
          2.94362,
          3.02177
         ],
         "xaxis": "x",
         "y": [
          14.3,
          0.9,
          5.6,
          6.6,
          36.2,
          21.5,
          6.4,
          2.9,
          29.8,
          5.3,
          17.7,
          14.6,
          6.8,
          11.2,
          8.4,
          11,
          31.3,
          22.4,
          31.5,
          11.2,
          10.9,
          29,
          5.2,
          46,
          26,
          42.5,
          14.6,
          6.4,
          42.5,
          10.1,
          28.7,
          7
         ],
         "yaxis": "y"
        },
        {
         "hovertemplate": "<b>OLS trendline</b><br>fat = 13.4364 * V40 + -22.18<br>R<sup>2</sup>=0.295557<br><br>sample=S11<br>V40=%{x}<br>fat=%{y} <b>(trend)</b><extra></extra>",
         "legendgroup": "S11",
         "marker": {
          "color": "#636efa",
          "symbol": "circle"
         },
         "mode": "lines",
         "name": "S11",
         "showlegend": false,
         "type": "scattergl",
         "x": [
          2.24446,
          2.37369,
          2.37369,
          2.3816,
          2.42779,
          2.42779,
          2.42973,
          2.51888,
          2.5451,
          2.5451,
          2.62958,
          2.65624,
          2.68428,
          2.79331,
          2.84415,
          2.94362,
          2.95221,
          2.97042,
          2.98908,
          3.02177,
          3.04314,
          3.09723,
          3.09723,
          3.18116,
          3.34338,
          3.54434,
          3.54847,
          3.56187,
          3.58079,
          3.84111,
          3.94496,
          4.30027
         ],
         "xaxis": "x",
         "y": [
          7.977462774926462,
          9.713846746708512,
          9.713846746708512,
          9.820128548277783,
          10.440755149350384,
          10.440755149350384,
          10.466821735323126,
          11.664675415462181,
          12.016977417629835,
          12.016977417629835,
          13.152083182050998,
          13.510297193408345,
          13.887053415406097,
          15.35202241984312,
          16.035128208943174,
          17.37164537734959,
          17.487063920393833,
          17.731740482540015,
          17.982463417721117,
          18.421698827746308,
          18.708834364982106,
          19.43560840377876,
          19.43560840377876,
          20.563324156712813,
          22.742974453876666,
          25.443150287424,
          25.498642555499988,
          25.6786901080952,
          25.932906503252024,
          29.43066612202711,
          30.826034654640022,
          35.60011643916283
         ],
         "yaxis": "y"
        },
        {
         "hovertemplate": "sample=S12<br>V40=%{x}<br>fat=%{y}<extra></extra>",
         "legendgroup": "S12",
         "marker": {
          "color": "#EF553B",
          "symbol": "circle"
         },
         "mode": "markers",
         "name": "S12",
         "showlegend": true,
         "type": "scattergl",
         "x": [
          3.61808,
          2.24446,
          2.55253,
          2.95221,
          2.24446,
          2.95571,
          3.29819,
          3.34338,
          2.29884,
          3.27835,
          2.79331,
          3.53179,
          3.53179,
          3.32916,
          4.0604,
          2.47019,
          3.1999,
          3.54847,
          3.48411,
          2.89698,
          2.68876,
          2.84727,
          3.54497,
          2.78845,
          2.4989,
          2.90034,
          3.48656,
          3.48411,
          2.65624,
          2.60269,
          3.81015,
          3.1719
         ],
         "xaxis": "x",
         "y": [
          9.7,
          0.9,
          13.5,
          21.5,
          0.9,
          15.4,
          18.8,
          29.8,
          2,
          40.1,
          5.6,
          25.1,
          25.1,
          47.7,
          35.8,
          8.1,
          19.4,
          26,
          11,
          16.5,
          7.3,
          7.2,
          15.9,
          7.1,
          6.9,
          20.9,
          10.1,
          11,
          5.2,
          5.1,
          27.9,
          25.5
         ],
         "yaxis": "y"
        },
        {
         "hovertemplate": "<b>OLS trendline</b><br>fat = 16.0886 * V40 + -32.9842<br>R<sup>2</sup>=0.441255<br><br>sample=S12<br>V40=%{x}<br>fat=%{y} <b>(trend)</b><extra></extra>",
         "legendgroup": "S12",
         "marker": {
          "color": "#EF553B",
          "symbol": "circle"
         },
         "mode": "lines",
         "name": "S12",
         "showlegend": false,
         "type": "scattergl",
         "x": [
          2.24446,
          2.24446,
          2.29884,
          2.47019,
          2.4989,
          2.55253,
          2.60269,
          2.65624,
          2.68876,
          2.78845,
          2.79331,
          2.84727,
          2.89698,
          2.90034,
          2.95221,
          2.95571,
          3.1719,
          3.1999,
          3.27835,
          3.29819,
          3.32916,
          3.34338,
          3.48411,
          3.48411,
          3.48656,
          3.53179,
          3.53179,
          3.54497,
          3.54847,
          3.61808,
          3.81015,
          4.0604
         ],
         "xaxis": "x",
         "y": [
          3.126004838216943,
          3.126004838216943,
          4.000902238884365,
          6.757681746136335,
          7.219585099817124,
          8.082416059688292,
          8.889419620142093,
          9.750963492994984,
          10.274164365920768,
          11.87803567655952,
          11.956226212919276,
          12.824366406740793,
          13.62413010271684,
          13.678187757484082,
          14.512702802953356,
          14.569012860002559,
          18.04720464099354,
          18.497685097387212,
          19.759834804675904,
          20.079032385206276,
          20.577295947153125,
          20.806075664650194,
          23.070222615660235,
          23.070222615660235,
          23.109639655594684,
          23.837326478547745,
          23.837326478547745,
          24.04937406480734,
          24.105684121856548,
          25.225610713626665,
          28.315745758609957,
          32.341914837628366
         ],
         "yaxis": "y"
        },
        {
         "hovertemplate": "sample=S13<br>V40=%{x}<br>fat=%{y}<extra></extra>",
         "legendgroup": "S13",
         "marker": {
          "color": "#00cc96",
          "symbol": "circle"
         },
         "mode": "markers",
         "name": "S13",
         "showlegend": true,
         "type": "scattergl",
         "x": [
          3.55286,
          2.73804,
          3.53807,
          2.41456,
          2.90705,
          2.57189,
          3.53807,
          2.4989,
          3.34338,
          3.48094,
          2.88966,
          3.09045,
          3.58079,
          3.07342,
          3.51876,
          2.78845,
          2.65624,
          3.60549,
          2.37369,
          3.17035,
          2.37369,
          2.36604,
          2.42779,
          2.6912,
          3.31014,
          2.62958,
          3.84111,
          3.73111,
          3.00645,
          3.17035,
          3.54434,
          3.42106
         ],
         "xaxis": "x",
         "y": [
          46,
          24.9,
          10.1,
          7.7,
          9.2,
          7.9,
          10.1,
          6.9,
          29.8,
          4,
          17.2,
          26.1,
          31.3,
          10.9,
          47.8,
          7.1,
          5.2,
          6.1,
          14.6,
          7.7,
          14.6,
          6.4,
          6.4,
          18.1,
          3.5,
          5.3,
          10.1,
          24.8,
          7.9,
          7.7,
          29,
          49.1
         ],
         "yaxis": "y"
        },
        {
         "hovertemplate": "<b>OLS trendline</b><br>fat = 11.5489 * V40 + -19.2654<br>R<sup>2</sup>=0.168246<br><br>sample=S13<br>V40=%{x}<br>fat=%{y} <b>(trend)</b><extra></extra>",
         "legendgroup": "S13",
         "marker": {
          "color": "#00cc96",
          "symbol": "circle"
         },
         "mode": "lines",
         "name": "S13",
         "showlegend": false,
         "type": "scattergl",
         "x": [
          2.36604,
          2.37369,
          2.37369,
          2.41456,
          2.42779,
          2.4989,
          2.57189,
          2.62958,
          2.65624,
          2.6912,
          2.73804,
          2.78845,
          2.88966,
          2.90705,
          3.00645,
          3.07342,
          3.09045,
          3.17035,
          3.17035,
          3.31014,
          3.34338,
          3.42106,
          3.48094,
          3.51876,
          3.53807,
          3.53807,
          3.54434,
          3.55286,
          3.58079,
          3.60549,
          3.73111,
          3.84111
         ],
         "xaxis": "x",
         "y": [
          8.059831242976912,
          8.148180622467034,
          8.148180622467034,
          8.620185738775692,
          8.772978195070372,
          9.594223211481154,
          10.437180232263366,
          11.103438494065337,
          11.411333194353784,
          11.815084084154389,
          12.356036363280825,
          12.938218352835989,
          14.107086417959536,
          14.307922458395247,
          15.45588694484205,
          16.229319355881707,
          16.425997778459063,
          17.34875796424477,
          17.34875796424477,
          18.963184076522417,
          19.347070792110856,
          20.24419233443669,
          20.935742771543673,
          21.37252362544124,
          21.595533627788193,
          21.595533627788193,
          21.667945472154614,
          21.766342428135765,
          22.08890428031342,
          22.374163061150803,
          23.824940714948056,
          25.09532394944653
         ],
         "yaxis": "y"
        },
        {
         "hovertemplate": "sample=S14<br>V40=%{x}<br>fat=%{y}<extra></extra>",
         "legendgroup": "S14",
         "marker": {
          "color": "#ab63fa",
          "symbol": "circle"
         },
         "mode": "markers",
         "name": "S14",
         "showlegend": true,
         "type": "scattergl",
         "x": [
          3.38955,
          3.42106,
          2.65624,
          2.47021,
          4.30451,
          2.83348,
          2.48354,
          3.04786,
          2.78689,
          3.58079,
          2.15138,
          2.37369,
          2.30851,
          2.78095,
          2.69238,
          2.47021,
          2.36604,
          3.00628,
          3.39535,
          2.67575,
          2.29884,
          3.07224,
          3.00645,
          2.70322,
          2.4989,
          2.36604,
          2.78845,
          3.48656,
          3.10446,
          3.29819,
          3.42597,
          2.70322
         ],
         "xaxis": "x",
         "y": [
          15.5,
          49.1,
          5.2,
          12.7,
          17,
          9.7,
          12.2,
          16.4,
          28.1,
          31.3,
          1.4,
          14.6,
          7.1,
          3.9,
          6.8,
          12.7,
          6.4,
          28.4,
          43.8,
          7.3,
          2,
          6.3,
          7.9,
          28.9,
          6.9,
          6.4,
          7.1,
          10.1,
          8.5,
          18.8,
          33.7,
          28.9
         ],
         "yaxis": "y"
        },
        {
         "hovertemplate": "<b>OLS trendline</b><br>fat = 12.9835 * V40 + -21.8343<br>R<sup>2</sup>=0.260424<br><br>sample=S14<br>V40=%{x}<br>fat=%{y} <b>(trend)</b><extra></extra>",
         "legendgroup": "S14",
         "marker": {
          "color": "#ab63fa",
          "symbol": "circle"
         },
         "mode": "lines",
         "name": "S14",
         "showlegend": false,
         "type": "scattergl",
         "x": [
          2.15138,
          2.29884,
          2.30851,
          2.36604,
          2.36604,
          2.37369,
          2.47021,
          2.47021,
          2.48354,
          2.4989,
          2.65624,
          2.67575,
          2.69238,
          2.70322,
          2.70322,
          2.78095,
          2.78689,
          2.78845,
          2.83348,
          3.00628,
          3.00645,
          3.04786,
          3.07224,
          3.10446,
          3.29819,
          3.38955,
          3.39535,
          3.42106,
          3.42597,
          3.48656,
          3.58079,
          4.30451
         ],
         "xaxis": "x",
         "y": [
          6.098174543169417,
          8.012721229414552,
          8.138271659741353,
          8.885212327445693,
          8.885212327445693,
          8.984536090837633,
          10.237703364378795,
          10.237703364378795,
          10.410773399151942,
          10.610199935844776,
          12.653023587098055,
          12.906331642493704,
          13.122247222259453,
          13.262988345810903,
          13.262988345810903,
          14.272195682863895,
          14.349317663850577,
          14.369571921483441,
          14.954218858155208,
          17.197767395949583,
          17.199974590691625,
          17.737621262856358,
          18.0541589558623,
          18.472487276971876,
          20.9877804380072,
          22.17395285937811,
          22.249257150577236,
          22.583062896565046,
          22.64681187411464,
          23.433482047175758,
          24.656917109191753,
          34.05333463102362
         ],
         "yaxis": "y"
        },
        {
         "hovertemplate": "sample=S15<br>V40=%{x}<br>fat=%{y}<extra></extra>",
         "legendgroup": "S15",
         "marker": {
          "color": "#FFA15A",
          "symbol": "circle"
         },
         "mode": "markers",
         "name": "S15",
         "showlegend": true,
         "type": "scattergl",
         "x": [
          2.74206,
          4.1284,
          3.94496,
          2.89698,
          3.83084,
          3.2876,
          3.42106,
          2.94801,
          3.39535,
          2.95221,
          3.60287,
          2.37632,
          3.2876,
          4.30451,
          2.84727,
          3.07224,
          3.00284,
          3.42185,
          2.99942,
          3.02501,
          2.62234,
          3.04314,
          3.34209,
          4.30451,
          2.67575,
          2.84415,
          3.10446,
          2.5451,
          2.51888,
          2.68428,
          2.88087,
          3.42597
         ],
         "xaxis": "x",
         "y": [
          6.8,
          26.5,
          31.5,
          16.5,
          38.5,
          45,
          49.1,
          18.2,
          43.8,
          21.5,
          10.5,
          3.6,
          45,
          17,
          7.2,
          6.3,
          5.9,
          18.8,
          16.4,
          16.3,
          20.6,
          36.2,
          14,
          17,
          7.3,
          6.6,
          8.5,
          11.2,
          8.4,
          6.8,
          4.7,
          33.7
         ],
         "yaxis": "y"
        },
        {
         "hovertemplate": "<b>OLS trendline</b><br>fat = 12.3485 * V40 + -19.8035<br>R<sup>2</sup>=0.206915<br><br>sample=S15<br>V40=%{x}<br>fat=%{y} <b>(trend)</b><extra></extra>",
         "legendgroup": "S15",
         "marker": {
          "color": "#FFA15A",
          "symbol": "circle"
         },
         "mode": "lines",
         "name": "S15",
         "showlegend": false,
         "type": "scattergl",
         "x": [
          2.37632,
          2.51888,
          2.5451,
          2.62234,
          2.67575,
          2.68428,
          2.74206,
          2.84415,
          2.84727,
          2.88087,
          2.89698,
          2.94801,
          2.95221,
          2.99942,
          3.00284,
          3.02501,
          3.04314,
          3.07224,
          3.10446,
          3.2876,
          3.2876,
          3.34209,
          3.39535,
          3.42106,
          3.42185,
          3.42597,
          3.60287,
          3.83084,
          3.94496,
          4.1284,
          4.30451,
          4.30451
         ],
         "xaxis": "x",
         "y": [
          9.540476404876173,
          11.300876687895084,
          11.624654012675926,
          12.57845113571451,
          13.237983817504919,
          13.343316410196778,
          14.056811979450657,
          15.317469000307845,
          15.355996279229139,
          15.770905436843023,
          15.96983955973468,
          16.59998284286077,
          16.65184648756251,
          17.23481855098369,
          17.2770503759551,
          17.55081632905926,
          17.77469439535509,
          18.134035362217112,
          18.531903608000427,
          20.79340548673278,
          20.79340548673278,
          21.466274534303636,
          22.12395494306898,
          22.44143453956461,
          22.451189844163267,
          22.502065609918304,
          24.686512930808078,
          27.50159747429729,
          28.910806791764458,
          31.176013216546934,
          33.350705232838045,
          33.350705232838045
         ],
         "yaxis": "y"
        },
        {
         "hovertemplate": "sample=S16<br>V40=%{x}<br>fat=%{y}<extra></extra>",
         "legendgroup": "S16",
         "marker": {
          "color": "#19d3f3",
          "symbol": "circle"
         },
         "mode": "markers",
         "name": "S16",
         "showlegend": true,
         "type": "scattergl",
         "x": [
          2.90705,
          2.99942,
          4.01028,
          3.60549,
          3.07224,
          3.55286,
          2.88087,
          3.56187,
          2.51888,
          3.02501,
          2.57189,
          3.87794,
          3.00628,
          2.15138,
          2.79331,
          2.95571,
          3.24301,
          2.36604,
          4.07309,
          2.98908,
          3.30932,
          4.14779,
          3.94548,
          3.30932,
          2.37369,
          2.60269,
          3.84111,
          3.18116,
          3.72874,
          3.04786,
          3.68994,
          2.75556
         ],
         "xaxis": "x",
         "y": [
          9.2,
          16.4,
          10,
          6.1,
          6.3,
          46,
          4.7,
          46,
          8.4,
          16.3,
          7.9,
          11.2,
          28.4,
          1.4,
          5.6,
          15.4,
          18.3,
          6.4,
          21.2,
          10.9,
          32.2,
          32,
          30.4,
          32.2,
          14.6,
          5.1,
          10.1,
          2.9,
          11.7,
          16.4,
          19.9,
          6
         ],
         "yaxis": "y"
        },
        {
         "hovertemplate": "<b>OLS trendline</b><br>fat = 10.3084 * V40 + -16.9633<br>R<sup>2</sup>=0.221038<br><br>sample=S16<br>V40=%{x}<br>fat=%{y} <b>(trend)</b><extra></extra>",
         "legendgroup": "S16",
         "marker": {
          "color": "#19d3f3",
          "symbol": "circle"
         },
         "mode": "lines",
         "name": "S16",
         "showlegend": false,
         "type": "scattergl",
         "x": [
          2.15138,
          2.36604,
          2.37369,
          2.51888,
          2.57189,
          2.60269,
          2.75556,
          2.79331,
          2.88087,
          2.90705,
          2.95571,
          2.98908,
          2.99942,
          3.00628,
          3.02501,
          3.04786,
          3.07224,
          3.18116,
          3.24301,
          3.30932,
          3.30932,
          3.55286,
          3.56187,
          3.60549,
          3.68994,
          3.72874,
          3.84111,
          3.87794,
          3.94548,
          4.01028,
          4.07309,
          4.14779
         ],
         "xaxis": "x",
         "y": [
          5.2139135444593805,
          7.426704390634232,
          7.505563283642886,
          9.002232914482942,
          9.548678655448793,
          9.866175897888862,
          11.442013672298394,
          11.831153961328027,
          12.733753264836224,
          13.003625920910284,
          13.505230330557485,
          13.849220037707653,
          13.955808397669681,
          14.026523692576784,
          14.219599126047644,
          14.45514496987088,
          14.706462592295843,
          15.829248295106638,
          16.4668198679936,
          17.150366690922205,
          17.150366690922205,
          19.660862743644756,
          19.753740995410503,
          20.203391310840246,
          21.073931639543616,
          21.473895698201886,
          22.632245215506778,
          23.01190182067132,
          23.70812791659347,
          24.376109127960895,
          25.023576718794033,
          25.793610615231472
         ],
         "yaxis": "y"
        },
        {
         "hovertemplate": "sample=S17<br>V40=%{x}<br>fat=%{y}<extra></extra>",
         "legendgroup": "S17",
         "marker": {
          "color": "#FF6692",
          "symbol": "circle"
         },
         "mode": "markers",
         "name": "S17",
         "showlegend": true,
         "type": "scattergl",
         "x": [
          3.02501,
          2.37662,
          3.29819,
          4.10781,
          3.2876,
          3.49277,
          2.79484,
          2.94362,
          2.29884,
          2.81769,
          3.17624,
          2.72432,
          3.81015,
          4.07309,
          2.94262,
          2.96731,
          4.0604,
          2.87857,
          2.94262,
          3.0161,
          2.96468,
          3.1999,
          3.7901,
          2.29884,
          2.84415,
          2.95221,
          3.04338,
          2.84727,
          2.6912,
          3.51876,
          3.30932,
          2.15138
         ],
         "xaxis": "x",
         "y": [
          16.3,
          11,
          18.8,
          11.1,
          45,
          44.7,
          29.2,
          28.7,
          2,
          12.5,
          6.4,
          10.6,
          27.9,
          21.2,
          35.5,
          9.6,
          35.8,
          22.5,
          35.5,
          27.8,
          15.7,
          19.4,
          28.3,
          2,
          6.6,
          21.5,
          8.6,
          7.2,
          18.1,
          47.8,
          32.2,
          1.4
         ],
         "yaxis": "y"
        },
        {
         "hovertemplate": "<b>OLS trendline</b><br>fat = 13.3807 * V40 + -20.5952<br>R<sup>2</sup>=0.262721<br><br>sample=S17<br>V40=%{x}<br>fat=%{y} <b>(trend)</b><extra></extra>",
         "legendgroup": "S17",
         "marker": {
          "color": "#FF6692",
          "symbol": "circle"
         },
         "mode": "lines",
         "name": "S17",
         "showlegend": false,
         "type": "scattergl",
         "x": [
          2.15138,
          2.29884,
          2.29884,
          2.37662,
          2.6912,
          2.72432,
          2.79484,
          2.81769,
          2.84415,
          2.84727,
          2.87857,
          2.94262,
          2.94262,
          2.94362,
          2.95221,
          2.96468,
          2.96731,
          3.0161,
          3.02501,
          3.04338,
          3.17624,
          3.1999,
          3.2876,
          3.29819,
          3.30932,
          3.49277,
          3.51876,
          3.7901,
          3.81015,
          4.0604,
          4.07309,
          4.10781
         ],
         "xaxis": "x",
         "y": [
          8.191741146320549,
          10.164859935816438,
          10.164859935816438,
          11.205611186643708,
          15.41491342996132,
          15.858082386343423,
          16.801689717384047,
          17.107438831313107,
          17.461492291031416,
          17.50324009127031,
          17.92205616417972,
          18.779090332545454,
          18.779090332545454,
          18.79247103775023,
          18.90741129545923,
          19.074268689362757,
          19.109459944051306,
          19.7623045509922,
          19.881526634366733,
          20.127330188978423,
          21.905090682484616,
          22.221678167629552,
          23.39516601408818,
          23.53686768220673,
          23.685794931135863,
          26.140485300951543,
          26.4882498292236,
          30.118970379486814,
          30.387253518842524,
          33.73577499633706,
          33.90557614538564,
          34.370154230095366
         ],
         "yaxis": "y"
        },
        {
         "hovertemplate": "sample=S18<br>V40=%{x}<br>fat=%{y}<extra></extra>",
         "legendgroup": "S18",
         "marker": {
          "color": "#B6E880",
          "symbol": "circle"
         },
         "mode": "markers",
         "name": "S18",
         "showlegend": true,
         "type": "scattergl",
         "x": [
          2.73804,
          3.09379,
          3.53807,
          3.58079,
          3.7901,
          3.94496,
          3.0161,
          2.83072,
          3.32938,
          2.78095,
          3.51876,
          3.8577,
          3.48094,
          2.83072,
          3.18116,
          2.60204,
          4.27201,
          3.47681,
          2.94801,
          2.62234,
          3.09379,
          2.8564,
          2.74815,
          2.97124,
          2.70322,
          3.32916,
          3.0161,
          3.48094,
          3.02501,
          2.5451,
          2.84415,
          2.98908
         ],
         "xaxis": "x",
         "y": [
          24.9,
          29.7,
          10.1,
          31.3,
          28.3,
          31.5,
          27.8,
          4.7,
          45.7,
          3.9,
          47.8,
          19.9,
          4,
          4.7,
          2.9,
          10.7,
          36.5,
          26.7,
          18.2,
          20.6,
          29.7,
          18.6,
          29.2,
          6,
          28.9,
          47.7,
          27.8,
          4,
          16.3,
          11.2,
          6.6,
          10.9
         ],
         "yaxis": "y"
        },
        {
         "hovertemplate": "<b>OLS trendline</b><br>fat = 11.499 * V40 + -15.4691<br>R<sup>2</sup>=0.137461<br><br>sample=S18<br>V40=%{x}<br>fat=%{y} <b>(trend)</b><extra></extra>",
         "legendgroup": "S18",
         "marker": {
          "color": "#B6E880",
          "symbol": "circle"
         },
         "mode": "lines",
         "name": "S18",
         "showlegend": false,
         "type": "scattergl",
         "x": [
          2.5451,
          2.60204,
          2.62234,
          2.70322,
          2.73804,
          2.74815,
          2.78095,
          2.83072,
          2.83072,
          2.84415,
          2.8564,
          2.94801,
          2.97124,
          2.98908,
          3.0161,
          3.0161,
          3.02501,
          3.09379,
          3.09379,
          3.18116,
          3.32916,
          3.32938,
          3.47681,
          3.48094,
          3.48094,
          3.51876,
          3.53807,
          3.58079,
          3.7901,
          3.8577,
          3.94496,
          4.27201
         ],
         "xaxis": "x",
         "y": [
          13.797048228441987,
          14.451801155395291,
          14.685230807962064,
          15.615269738976874,
          16.015664837616036,
          16.13191970399289,
          16.50908682735201,
          17.081391941058826,
          17.081391941058826,
          17.235823479678125,
          17.376686201054625,
          18.430109376997592,
          18.69723109271809,
          18.90237321103293,
          19.213076127897665,
          19.213076127897665,
          19.315532197078454,
          20.106433256366273,
          20.106433256366273,
          21.111100682216474,
          22.812952336397878,
          22.815482115883825,
          24.510779341397097,
          24.558270201746886,
          24.558270201746886,
          24.993162293376216,
          25.215207938256235,
          25.706445118436164,
          28.11330031935988,
          28.8906325614049,
          29.894035097512123,
          33.65478228332313
         ],
         "yaxis": "y"
        },
        {
         "hovertemplate": "sample=S19<br>V40=%{x}<br>fat=%{y}<extra></extra>",
         "legendgroup": "S19",
         "marker": {
          "color": "#FF97FF",
          "symbol": "circle"
         },
         "mode": "markers",
         "name": "S19",
         "showlegend": true,
         "type": "scattergl",
         "x": [
          2.79681,
          3.02501,
          3.60287,
          3.56187,
          3.53179,
          2.5451,
          4.14779,
          3.60287,
          2.75556,
          2.90705,
          3.65631,
          3.10446,
          3.02501,
          2.48354,
          2.79331,
          2.42779,
          3.04555,
          2.74815,
          2.79331,
          2.68428,
          3.24301,
          3.04314,
          3.31014,
          3.27835,
          2.76642,
          2.35135,
          2.97124,
          2.6912,
          3.34209,
          3.58251,
          3.09723,
          2.83348
         ],
         "xaxis": "x",
         "y": [
          7.2,
          16.3,
          10.5,
          46,
          25.1,
          11.2,
          32,
          10.5,
          6,
          9.2,
          31.1,
          8.5,
          16.3,
          12.2,
          5.6,
          6.4,
          12.5,
          29.2,
          5.6,
          6.8,
          18.3,
          36.2,
          3.5,
          40.1,
          8.4,
          7.2,
          6,
          18.1,
          14,
          35.2,
          42.5,
          9.7
         ],
         "yaxis": "y"
        },
        {
         "hovertemplate": "<b>OLS trendline</b><br>fat = 15.4773 * V40 + -30.1715<br>R<sup>2</sup>=0.267042<br><br>sample=S19<br>V40=%{x}<br>fat=%{y} <b>(trend)</b><extra></extra>",
         "legendgroup": "S19",
         "marker": {
          "color": "#FF97FF",
          "symbol": "circle"
         },
         "mode": "lines",
         "name": "S19",
         "showlegend": false,
         "type": "scattergl",
         "x": [
          2.35135,
          2.42779,
          2.48354,
          2.5451,
          2.68428,
          2.6912,
          2.74815,
          2.75556,
          2.76642,
          2.79331,
          2.79331,
          2.79681,
          2.83348,
          2.90705,
          2.97124,
          3.02501,
          3.02501,
          3.04314,
          3.04555,
          3.09723,
          3.10446,
          3.24301,
          3.27835,
          3.31014,
          3.34209,
          3.53179,
          3.56187,
          3.58251,
          3.60287,
          3.60287,
          3.65631,
          4.14779
         ],
         "xaxis": "x",
         "y": [
          6.221133667901967,
          7.404222046180159,
          8.26708412217453,
          9.219869582232171,
          11.374006689620437,
          11.481109928470318,
          12.36254482045021,
          12.477231959160854,
          12.645315943829893,
          13.061501795372287,
          13.061501795372287,
          13.115672508663408,
          13.683226810487874,
          14.821895203867342,
          15.815386085626592,
          16.64760301524484,
          16.64760301524484,
          16.92820731009288,
          16.965507715530478,
          17.765376990640597,
          17.877278206953406,
          20.021664585949267,
          20.568634016723102,
          21.06065886687307,
          21.555160092487775,
          24.491212752866815,
          24.95677134023741,
          25.276223775188512,
          25.591342553076316,
          25.591342553076316,
          26.41845195829854,
          34.02525829210502
         ],
         "yaxis": "y"
        },
        {
         "hovertemplate": "sample=S20<br>V40=%{x}<br>fat=%{y}<extra></extra>",
         "legendgroup": "S20",
         "marker": {
          "color": "#FECB52",
          "symbol": "circle"
         },
         "mode": "markers",
         "name": "S20",
         "showlegend": true,
         "type": "scattergl",
         "x": [
          2.69238,
          2.69671,
          3.09379,
          3.81015,
          2.68428,
          3.27835,
          3.47681,
          3.55286,
          3.54847,
          4.07309,
          2.37369,
          4.10781,
          2.67575,
          3.02177,
          3.1999,
          3.48411,
          2.24446,
          2.98908,
          3.47681,
          3.87794,
          2.65624,
          2.60204,
          2.55253,
          2.65624,
          3.06597,
          2.48354,
          2.3816,
          2.42413,
          4.76194,
          3.58079,
          2.99246,
          3.02501
         ],
         "xaxis": "x",
         "y": [
          6.8,
          13.5,
          29.7,
          27.9,
          6.8,
          40.1,
          26.7,
          46,
          26,
          21.2,
          14.6,
          11.1,
          7.3,
          7,
          19.4,
          11,
          0.9,
          10.9,
          26.7,
          11.2,
          5.2,
          10.7,
          13.5,
          5.2,
          7.2,
          12.2,
          17.7,
          4.8,
          48.2,
          31.3,
          5.9,
          16.3
         ],
         "yaxis": "y"
        },
        {
         "hovertemplate": "<b>OLS trendline</b><br>fat = 12.9551 * V40 + -23.3299<br>R<sup>2</sup>=0.403105<br><br>sample=S20<br>V40=%{x}<br>fat=%{y} <b>(trend)</b><extra></extra>",
         "legendgroup": "S20",
         "marker": {
          "color": "#FECB52",
          "symbol": "circle"
         },
         "mode": "lines",
         "name": "S20",
         "showlegend": false,
         "type": "scattergl",
         "x": [
          2.24446,
          2.37369,
          2.3816,
          2.42413,
          2.48354,
          2.55253,
          2.60204,
          2.65624,
          2.65624,
          2.67575,
          2.68428,
          2.69238,
          2.69671,
          2.98908,
          2.99246,
          3.02177,
          3.02501,
          3.06597,
          3.09379,
          3.1999,
          3.27835,
          3.47681,
          3.47681,
          3.48411,
          3.54847,
          3.55286,
          3.58079,
          3.81015,
          3.87794,
          4.07309,
          4.10781,
          4.76194
         ],
         "xaxis": "x",
         "y": [
          5.7472434643023895,
          7.421426405031202,
          7.523900962495919,
          8.074879841000879,
          8.844540202439397,
          9.738310078481184,
          10.37971530478687,
          11.081879781978714,
          11.081879781978714,
          11.334633083639467,
          11.445139780880176,
          11.550075800534309,
          11.606171228324726,
          15.393843335272678,
          15.437631452116001,
          15.817344382494106,
          15.859318790355758,
          16.389958218137636,
          16.75036810292503,
          18.12502996039415,
          19.14135474334065,
          21.712416775508416,
          21.712416775508416,
          21.80698874383868,
          22.640776672843607,
          22.697649404483315,
          23.05948434632775,
          26.0308578608798,
          26.909081659935794,
          29.437262429751065,
          29.8870622572068,
          38.36135837280643
         ],
         "yaxis": "y"
        },
        {
         "hovertemplate": "sample=S21<br>V40=%{x}<br>fat=%{y}<extra></extra>",
         "legendgroup": "S21",
         "marker": {
          "color": "#636efa",
          "symbol": "circle"
         },
         "mode": "markers",
         "name": "S21",
         "showlegend": true,
         "type": "scattergl",
         "x": [
          2.88087,
          3.0161,
          3.41044,
          2.98798,
          2.29884,
          3.71898,
          3.81015,
          2.94801,
          3.0161,
          4.95934,
          2.67575,
          3.00645,
          3.56187,
          2.98908,
          3.32916,
          3.84067,
          4.76194,
          3.7358,
          3.94548,
          3.54847,
          4.0604,
          2.94362,
          2.37369,
          2.15138,
          2.5451,
          2.78845,
          3.7901,
          3.0161,
          2.8564,
          2.72432,
          2.49226,
          3.60549
         ],
         "xaxis": "x",
         "y": [
          4.7,
          27.8,
          34.2,
          7.8,
          2,
          10.2,
          27.9,
          18.2,
          27.8,
          34.8,
          7.3,
          7.9,
          46,
          10.9,
          47.7,
          31.5,
          48.2,
          16,
          30.4,
          26,
          35.8,
          28.7,
          14.6,
          1.4,
          11.2,
          7.1,
          28.3,
          27.8,
          18.6,
          10.6,
          13.8,
          6.1
         ],
         "yaxis": "y"
        },
        {
         "hovertemplate": "<b>OLS trendline</b><br>fat = 13.5152 * V40 + -22.8571<br>R<sup>2</sup>=0.439455<br><br>sample=S21<br>V40=%{x}<br>fat=%{y} <b>(trend)</b><extra></extra>",
         "legendgroup": "S21",
         "marker": {
          "color": "#636efa",
          "symbol": "circle"
         },
         "mode": "lines",
         "name": "S21",
         "showlegend": false,
         "type": "scattergl",
         "x": [
          2.15138,
          2.29884,
          2.37369,
          2.49226,
          2.5451,
          2.67575,
          2.72432,
          2.78845,
          2.8564,
          2.88087,
          2.94362,
          2.94801,
          2.98798,
          2.98908,
          3.00645,
          3.0161,
          3.0161,
          3.0161,
          3.32916,
          3.41044,
          3.54847,
          3.56187,
          3.60549,
          3.71898,
          3.7358,
          3.7901,
          3.81015,
          3.84067,
          3.94548,
          4.0604,
          4.76194,
          4.95934
         ],
         "xaxis": "x",
         "y": [
          6.219246447206974,
          8.212199739447744,
          9.223813424000983,
          10.826312215951258,
          11.540456064873016,
          13.306218628492001,
          13.962652518388484,
          14.829383120798628,
          15.747741836435136,
          16.078459095767375,
          16.92653870439418,
          16.98587048896584,
          17.526073548038557,
          17.540940282213693,
          17.7756995300519,
          17.906121334406453,
          17.906121334406453,
          17.906121334406453,
          22.13719388064879,
          23.23571038406212,
          25.101215218783356,
          25.282319071462222,
          25.87185265757061,
          27.405694168057554,
          27.633020048808195,
          28.366896108544214,
          28.637876126918204,
          29.050360424213654,
          30.46688988684593,
          32.02005815176054,
          41.50152060014375,
          44.16942362393547
         ],
         "yaxis": "y"
        },
        {
         "hovertemplate": "sample=S22<br>V40=%{x}<br>fat=%{y}<extra></extra>",
         "legendgroup": "S22",
         "marker": {
          "color": "#EF553B",
          "symbol": "circle"
         },
         "mode": "markers",
         "name": "S22",
         "showlegend": true,
         "type": "scattergl",
         "x": [
          4.30451,
          2.97124,
          2.83348,
          2.75556,
          2.62958,
          3.87794,
          2.84415,
          3.04555,
          2.89698,
          2.72724,
          3.58251,
          3.94548,
          3.20521,
          3.49277,
          2.94362,
          3.94548,
          2.79331,
          2.49226,
          3.00628,
          3.26277,
          2.99942,
          2.71371,
          3.71898,
          3.60549,
          3.32916,
          3.48411,
          3.30932,
          2.62087,
          4.63278,
          3.60287,
          3.10992,
          2.98908
         ],
         "xaxis": "x",
         "y": [
          17,
          6,
          9.7,
          6,
          5.3,
          11.2,
          6.6,
          12.5,
          16.5,
          27.3,
          35.2,
          30.4,
          23,
          44.7,
          28.7,
          30.4,
          5.6,
          13.8,
          28.4,
          11,
          16.4,
          11.2,
          10.2,
          6.1,
          47.7,
          11,
          32.2,
          5.6,
          17.6,
          10.5,
          8.2,
          10.9
         ],
         "yaxis": "y"
        },
        {
         "hovertemplate": "<b>OLS trendline</b><br>fat = 6.49806 * V40 + -3.64889<br>R<sup>2</sup>=0.081412<br><br>sample=S22<br>V40=%{x}<br>fat=%{y} <b>(trend)</b><extra></extra>",
         "legendgroup": "S22",
         "marker": {
          "color": "#EF553B",
          "symbol": "circle"
         },
         "mode": "lines",
         "name": "S22",
         "showlegend": false,
         "type": "scattergl",
         "x": [
          2.49226,
          2.62087,
          2.62958,
          2.71371,
          2.72724,
          2.75556,
          2.79331,
          2.83348,
          2.84415,
          2.89698,
          2.94362,
          2.97124,
          2.98908,
          2.99942,
          3.00628,
          3.04555,
          3.10992,
          3.20521,
          3.26277,
          3.30932,
          3.32916,
          3.48411,
          3.49277,
          3.58251,
          3.60287,
          3.60549,
          3.71898,
          3.87794,
          3.94548,
          3.94548,
          4.30451,
          4.63278
         ],
         "xaxis": "x",
         "y": [
          12.545964489870368,
          13.381680119737982,
          13.438278231363412,
          13.984960106340182,
          14.072878872160171,
          14.256903960705781,
          14.502205764822897,
          14.763232876647653,
          14.832567187904065,
          15.175859752447305,
          15.478929319176373,
          15.65840576499663,
          15.774331173882707,
          15.841521124997172,
          15.886097823705605,
          16.141276680597766,
          16.559556869498927,
          17.178757105639857,
          17.55278549888439,
          17.8552702401202,
          17.984191771078702,
          18.991066328640215,
          19.04733953721384,
          19.630475534603775,
          19.76277605730111,
          19.779800977215995,
          20.517265924216037,
          21.550197706532774,
          21.989076748918734,
          21.989076748918734,
          24.322075602751003,
          26.455194099109306
         ],
         "yaxis": "y"
        },
        {
         "hovertemplate": "sample=S23<br>V40=%{x}<br>fat=%{y}<extra></extra>",
         "legendgroup": "S23",
         "marker": {
          "color": "#00cc96",
          "symbol": "circle"
         },
         "mode": "markers",
         "name": "S23",
         "showlegend": true,
         "type": "scattergl",
         "x": [
          3.60287,
          2.83348,
          2.83072,
          2.99942,
          2.764,
          4.03525,
          2.74589,
          2.37369,
          3.02177,
          2.84727,
          3.09723,
          2.81769,
          2.74815,
          2.72578,
          4.14779,
          2.37632,
          2.94801,
          2.40217,
          2.30851,
          2.94801,
          3.17035,
          3.27835,
          3.34338,
          3.87794,
          2.63122,
          3.24301,
          2.83348,
          2.72724,
          3.04338,
          3.60287,
          2.88966,
          5.15256
         ],
         "xaxis": "x",
         "y": [
          10.5,
          9.7,
          4.7,
          16.4,
          4.6,
          35.1,
          28.9,
          14.6,
          7,
          7.2,
          42.5,
          12.5,
          29.2,
          17.7,
          32,
          3.6,
          18.2,
          7.7,
          7.1,
          18.2,
          7.7,
          40.1,
          29.8,
          11.2,
          9,
          18.3,
          9.7,
          27.3,
          8.6,
          10.5,
          17.2,
          48.5
         ],
         "yaxis": "y"
        },
        {
         "hovertemplate": "<b>OLS trendline</b><br>fat = 11.616 * V40 + -18.0418<br>R<sup>2</sup>=0.318087<br><br>sample=S23<br>V40=%{x}<br>fat=%{y} <b>(trend)</b><extra></extra>",
         "legendgroup": "S23",
         "marker": {
          "color": "#00cc96",
          "symbol": "circle"
         },
         "mode": "lines",
         "name": "S23",
         "showlegend": false,
         "type": "scattergl",
         "x": [
          2.30851,
          2.37369,
          2.37632,
          2.40217,
          2.63122,
          2.72578,
          2.72724,
          2.74589,
          2.74815,
          2.764,
          2.81769,
          2.83072,
          2.83348,
          2.83348,
          2.84727,
          2.88966,
          2.94801,
          2.94801,
          2.99942,
          3.02177,
          3.04338,
          3.09723,
          3.17035,
          3.24301,
          3.27835,
          3.34338,
          3.60287,
          3.60287,
          3.87794,
          4.03525,
          4.14779,
          5.15256
         ],
         "xaxis": "x",
         "y": [
          8.773888122483918,
          9.53101909253136,
          9.56156917616476,
          9.861842811877036,
          12.522487928314085,
          13.620897018950572,
          13.637856380967595,
          13.854494806732934,
          13.880746969855164,
          14.064860591752247,
          14.688523705926034,
          14.839880203927233,
          14.871940367740226,
          14.871940367740226,
          15.03212502679138,
          15.524527325353997,
          16.20232100596566,
          16.20232100596566,
          16.799499636989584,
          17.059117267866544,
          17.310139057721177,
          17.93566073211601,
          18.78502275313271,
          19.62904141351392,
          20.039550902336824,
          20.794939472177038,
          23.80917567066754,
          23.80917567066754,
          27.004389170682128,
          28.831702348008957,
          30.138967143485164,
          41.810376851594555
         ],
         "yaxis": "y"
        },
        {
         "hovertemplate": "sample=S24<br>V40=%{x}<br>fat=%{y}<extra></extra>",
         "legendgroup": "S24",
         "marker": {
          "color": "#ab63fa",
          "symbol": "circle"
         },
         "mode": "markers",
         "name": "S24",
         "showlegend": true,
         "type": "scattergl",
         "x": [
          2.98798,
          4.63278,
          3.10992,
          3.24301,
          3.53807,
          3.12825,
          4.03525,
          3.5466,
          2.57189,
          3.68994,
          2.93442,
          2.7653,
          2.4989,
          3.94548,
          2.96927,
          2.88966,
          3.09045,
          2.764,
          2.5451,
          3.04555,
          2.76642,
          3.87794,
          2.72724,
          4.30451,
          2.37369,
          4.14779,
          3.04786,
          3.02177,
          3.00628,
          2.74815,
          3.58079,
          3.12235
         ],
         "xaxis": "x",
         "y": [
          7.8,
          17.6,
          8.2,
          18.3,
          10.1,
          28.8,
          35.1,
          46.3,
          7.9,
          19.9,
          33.8,
          10.6,
          6.9,
          30.4,
          6.4,
          17.2,
          26.1,
          4.6,
          11.2,
          12.5,
          8.4,
          11.2,
          27.3,
          17,
          14.6,
          32,
          16.4,
          7,
          28.4,
          29.2,
          31.3,
          46.5
         ],
         "yaxis": "y"
        },
        {
         "hovertemplate": "<b>OLS trendline</b><br>fat = 6.79421 * V40 + -2.13969<br>R<sup>2</sup>=0.106159<br><br>sample=S24<br>V40=%{x}<br>fat=%{y} <b>(trend)</b><extra></extra>",
         "legendgroup": "S24",
         "marker": {
          "color": "#ab63fa",
          "symbol": "circle"
         },
         "mode": "lines",
         "name": "S24",
         "showlegend": false,
         "type": "scattergl",
         "x": [
          2.37369,
          2.4989,
          2.5451,
          2.57189,
          2.72724,
          2.74815,
          2.764,
          2.7653,
          2.76642,
          2.88966,
          2.93442,
          2.96927,
          2.98798,
          3.00628,
          3.02177,
          3.04555,
          3.04786,
          3.09045,
          3.10992,
          3.12235,
          3.12825,
          3.24301,
          3.53807,
          3.5466,
          3.58079,
          3.68994,
          3.87794,
          3.94548,
          4.03525,
          4.14779,
          4.30451,
          4.63278
         ],
         "xaxis": "x",
         "y": [
          13.987646610204374,
          14.838349123562297,
          15.152241433418828,
          15.334258207900566,
          16.389738085307755,
          16.531804929444114,
          16.639493092024765,
          16.64832555961813,
          16.655935070160112,
          17.493252998011165,
          17.797361651456576,
          18.034139725017184,
          18.161259316303237,
          18.28559328319446,
          18.390835531672337,
          18.552401746572514,
          18.56809636206534,
          18.857461588835676,
          18.989744776560926,
          19.074196755165183,
          19.114282569627385,
          19.89398563194633,
          21.898684007406665,
          21.956638583230827,
          22.188932480936344,
          22.930520048486997,
          24.20783074660448,
          24.66671140910902,
          25.276627267460114,
          26.04124719281193,
          27.10603513222135,
          29.33636908366298
         ],
         "yaxis": "y"
        },
        {
         "hovertemplate": "sample=S25<br>V40=%{x}<br>fat=%{y}<extra></extra>",
         "legendgroup": "S25",
         "marker": {
          "color": "#FFA15A",
          "symbol": "circle"
         },
         "mode": "markers",
         "name": "S25",
         "showlegend": true,
         "type": "scattergl",
         "x": [
          2.90705,
          2.94362,
          2.94362,
          3.76068,
          3.53179,
          3.54847,
          2.99246,
          2.37369,
          3.30932,
          2.97124,
          3.60549,
          3.17035,
          3.02501,
          3.01651,
          2.37632,
          2.69238,
          3.53807,
          4.95934,
          2.74206,
          4.10781,
          2.764,
          2.60269,
          2.84415,
          3.54847,
          2.93442,
          3.07224,
          3.10992,
          3.04925,
          2.32108,
          2.62234,
          2.55253,
          3.51002
         ],
         "xaxis": "x",
         "y": [
          9.2,
          28.7,
          28.7,
          10.1,
          25.1,
          26,
          5.9,
          14.6,
          32.2,
          6,
          6.1,
          7.7,
          16.3,
          23.4,
          3.6,
          6.8,
          10.1,
          34.8,
          6.8,
          11.1,
          4.6,
          5.1,
          6.6,
          26,
          33.8,
          6.3,
          8.2,
          6.7,
          9.3,
          20.6,
          13.5,
          42.7
         ],
         "yaxis": "y"
        },
        {
         "hovertemplate": "<b>OLS trendline</b><br>fat = 8.14966 * V40 + -9.80796<br>R<sup>2</sup>=0.161939<br><br>sample=S25<br>V40=%{x}<br>fat=%{y} <b>(trend)</b><extra></extra>",
         "legendgroup": "S25",
         "marker": {
          "color": "#FFA15A",
          "symbol": "circle"
         },
         "mode": "lines",
         "name": "S25",
         "showlegend": false,
         "type": "scattergl",
         "x": [
          2.32108,
          2.37369,
          2.37632,
          2.55253,
          2.60269,
          2.62234,
          2.69238,
          2.74206,
          2.764,
          2.84415,
          2.90705,
          2.93442,
          2.94362,
          2.94362,
          2.97124,
          2.99246,
          3.01651,
          3.02501,
          3.04925,
          3.07224,
          3.10992,
          3.17035,
          3.30932,
          3.51002,
          3.53179,
          3.53807,
          3.54847,
          3.54847,
          3.60549,
          3.76068,
          4.10781,
          4.95934
         ],
         "xaxis": "x",
         "y": [
          9.10806338194697,
          9.536817236363778,
          9.558250854252321,
          10.994303252784647,
          11.403090428940267,
          11.563231338259602,
          12.13403384659173,
          12.538909183741072,
          12.717712824986172,
          13.370908442387943,
          13.88352234550175,
          14.106578665505321,
          14.181555579792239,
          14.181555579792239,
          14.406649315944911,
          14.579585198680604,
          14.775584632224113,
          14.84485678129355,
          15.042404651110378,
          15.229765440181705,
          15.536844802174201,
          16.02932903373489,
          17.161887922697137,
          18.797525607195393,
          18.974943805459105,
          19.02612369912452,
          19.11088021092712,
          19.11088021092712,
          19.575574086214072,
          20.840320534929987,
          23.66931360627966,
          30.60899750005545
         ],
         "yaxis": "y"
        },
        {
         "hovertemplate": "sample=S26<br>V40=%{x}<br>fat=%{y}<extra></extra>",
         "legendgroup": "S26",
         "marker": {
          "color": "#19d3f3",
          "symbol": "circle"
         },
         "mode": "markers",
         "name": "S26",
         "showlegend": true,
         "type": "scattergl",
         "x": [
          3.61808,
          2.84415,
          3.83084,
          2.29884,
          3.17624,
          3.07224,
          3.32625,
          2.84415,
          2.63122,
          3.12235,
          3.0161,
          2.84415,
          2.3816,
          2.98908,
          3.02501,
          2.60204,
          2.37369,
          3.7358,
          2.764,
          2.71371,
          3.54434,
          3.04338,
          3.72874,
          2.3816,
          3.55286,
          5.15256,
          3.18116,
          3.34209,
          3.17624,
          3.12235,
          2.83072,
          3.41044
         ],
         "xaxis": "x",
         "y": [
          9.7,
          6.6,
          38.5,
          2,
          6.4,
          6.3,
          9.2,
          6.6,
          9,
          46.5,
          27.8,
          6.6,
          17.7,
          10.9,
          16.3,
          10.7,
          14.6,
          16,
          4.6,
          11.2,
          29,
          8.6,
          11.7,
          17.7,
          46,
          48.5,
          2.9,
          14,
          6.4,
          46.5,
          4.7,
          34.2
         ],
         "yaxis": "y"
        },
        {
         "hovertemplate": "<b>OLS trendline</b><br>fat = 13.4896 * V40 + -24.9121<br>R<sup>2</sup>=0.275269<br><br>sample=S26<br>V40=%{x}<br>fat=%{y} <b>(trend)</b><extra></extra>",
         "legendgroup": "S26",
         "marker": {
          "color": "#19d3f3",
          "symbol": "circle"
         },
         "mode": "lines",
         "name": "S26",
         "showlegend": false,
         "type": "scattergl",
         "x": [
          2.29884,
          2.37369,
          2.3816,
          2.3816,
          2.60204,
          2.63122,
          2.71371,
          2.764,
          2.83072,
          2.84415,
          2.84415,
          2.84415,
          2.98908,
          3.0161,
          3.02501,
          3.04338,
          3.07224,
          3.12235,
          3.12235,
          3.17624,
          3.17624,
          3.18116,
          3.32625,
          3.34209,
          3.41044,
          3.54434,
          3.55286,
          3.61808,
          3.72874,
          3.7358,
          3.83084,
          5.15256
         ],
         "xaxis": "x",
         "y": [
          6.09827259477013,
          7.107967617314582,
          7.214670190839325,
          7.214670190839325,
          10.188313086894102,
          10.581939015522654,
          11.69469442513778,
          12.373085376156627,
          13.273110117695257,
          13.454275169836496,
          13.454275169836496,
          13.454275169836496,
          15.409319920903545,
          15.77380835789955,
          15.894000510883803,
          16.141804085555034,
          16.531113348756545,
          17.207076175472675,
          17.207076175472675,
          17.934029612545768,
          17.934029612545768,
          18.00039834348657,
          19.957601427267132,
          20.171276365905793,
          21.093289121963426,
          22.899543811592057,
          23.014475028587096,
          23.894265400936458,
          25.38702226392603,
          25.482258694910183,
          26.764308326742185,
          44.5937552899681
         ],
         "yaxis": "y"
        },
        {
         "hovertemplate": "sample=S27<br>V40=%{x}<br>fat=%{y}<extra></extra>",
         "legendgroup": "S27",
         "marker": {
          "color": "#FF6692",
          "symbol": "circle"
         },
         "mode": "markers",
         "name": "S27",
         "showlegend": true,
         "type": "scattergl",
         "x": [
          3.14615,
          2.75556,
          2.30851,
          3.20521,
          3.10446,
          3.76068,
          3.60549,
          3.30932,
          2.49187,
          4.07309,
          2.47021,
          3.73111,
          3.29819,
          3.02501,
          2.60269,
          2.3816,
          3.14371,
          2.68428,
          3.04314,
          4.01028,
          2.94262,
          2.764,
          3.58251,
          2.49226,
          3.07224,
          3.32625,
          2.75556,
          2.89698,
          2.98908,
          2.47019,
          2.51888,
          3.54497
         ],
         "xaxis": "x",
         "y": [
          37.8,
          6,
          7.1,
          23,
          8.5,
          10.1,
          6.1,
          32.2,
          5.2,
          21.2,
          12.7,
          24.8,
          18.8,
          16.3,
          5.1,
          17.7,
          25.5,
          6.8,
          36.2,
          10,
          35.5,
          4.6,
          35.2,
          13.8,
          6.3,
          9.2,
          6,
          16.5,
          10.9,
          8.1,
          8.4,
          15.9
         ],
         "yaxis": "y"
        },
        {
         "hovertemplate": "<b>OLS trendline</b><br>fat = 7.07058 * V40 + -5.87265<br>R<sup>2</sup>=0.106190<br><br>sample=S27<br>V40=%{x}<br>fat=%{y} <b>(trend)</b><extra></extra>",
         "legendgroup": "S27",
         "marker": {
          "color": "#FF6692",
          "symbol": "circle"
         },
         "mode": "lines",
         "name": "S27",
         "showlegend": false,
         "type": "scattergl",
         "x": [
          2.30851,
          2.3816,
          2.47019,
          2.47021,
          2.49187,
          2.49226,
          2.51888,
          2.60269,
          2.68428,
          2.75556,
          2.75556,
          2.764,
          2.89698,
          2.94262,
          2.98908,
          3.02501,
          3.04314,
          3.07224,
          3.10446,
          3.14371,
          3.14615,
          3.20521,
          3.29819,
          3.30932,
          3.32625,
          3.54497,
          3.58251,
          3.60549,
          3.73111,
          3.76068,
          4.01028,
          4.07309
         ],
         "xaxis": "x",
         "y": [
          10.449856625276052,
          10.966645490039724,
          11.593028381398508,
          11.593169793045725,
          11.746318606984449,
          11.749076134105227,
          11.937295036554385,
          12.529880544227709,
          13.106769359059669,
          13.610760469749973,
          13.610760469749973,
          13.670436184876603,
          14.610682227239074,
          14.933383606193974,
          15.261882862684882,
          15.515928886914715,
          15.644118545119195,
          15.849872491823568,
          16.077686655494187,
          16.355207013162463,
          16.37245923412324,
          16.790047828362432,
          17.447470576285895,
          17.526166157963548,
          17.645871117334856,
          19.192348891327335,
          19.457778553158338,
          19.620260535813546,
          20.50846709199924,
          20.717544212413273,
          22.48236156971266,
          22.926464847805505
         ],
         "yaxis": "y"
        },
        {
         "hovertemplate": "sample=S28<br>V40=%{x}<br>fat=%{y}<extra></extra>",
         "legendgroup": "S28",
         "marker": {
          "color": "#B6E880",
          "symbol": "circle"
         },
         "mode": "markers",
         "name": "S28",
         "showlegend": true,
         "type": "scattergl",
         "x": [
          2.99942,
          2.51888,
          2.72724,
          2.83072,
          2.89698,
          3.48094,
          2.84415,
          2.47021,
          2.89698,
          2.75556,
          2.37662,
          3.5466,
          2.97829,
          3.04338,
          3.26277,
          2.72724,
          2.47019,
          3.7901,
          3.41044,
          2.76642,
          3.07224,
          3.60549,
          2.57189,
          2.5451,
          2.62159,
          3.42185,
          3.41044,
          2.78845,
          3.58079,
          2.72432,
          2.62087,
          2.69238
         ],
         "xaxis": "x",
         "y": [
          16.4,
          8.4,
          27.3,
          4.7,
          16.5,
          4,
          6.6,
          12.7,
          16.5,
          6,
          11,
          46.3,
          17.4,
          8.6,
          11,
          27.3,
          8.1,
          28.3,
          34.2,
          8.4,
          6.3,
          6.1,
          7.9,
          11.2,
          16.4,
          18.8,
          34.2,
          7.1,
          31.3,
          10.6,
          5.6,
          6.8
         ],
         "yaxis": "y"
        },
        {
         "hovertemplate": "<b>OLS trendline</b><br>fat = 13.6618 * V40 + -25.2606<br>R<sup>2</sup>=0.252374<br><br>sample=S28<br>V40=%{x}<br>fat=%{y} <b>(trend)</b><extra></extra>",
         "legendgroup": "S28",
         "marker": {
          "color": "#B6E880",
          "symbol": "circle"
         },
         "mode": "lines",
         "name": "S28",
         "showlegend": false,
         "type": "scattergl",
         "x": [
          2.37662,
          2.47019,
          2.47021,
          2.51888,
          2.5451,
          2.57189,
          2.62087,
          2.62159,
          2.69238,
          2.72432,
          2.72724,
          2.72724,
          2.75556,
          2.76642,
          2.78845,
          2.83072,
          2.84415,
          2.89698,
          2.89698,
          2.97829,
          2.99942,
          3.04338,
          3.07224,
          3.26277,
          3.41044,
          3.41044,
          3.42185,
          3.48094,
          3.5466,
          3.58079,
          3.60549,
          3.7901
         ],
         "xaxis": "x",
         "y": [
          7.2083700750956865,
          8.486705319261517,
          8.486978555393641,
          9.151898682929719,
          9.510111252150928,
          9.876111051137805,
          10.545266338721888,
          10.555102839478536,
          11.522222129149363,
          11.958580232159477,
          11.998472707450325,
          11.998472707450325,
          12.385375070545074,
          12.533742290291158,
          12.834711889831325,
          13.412196455086097,
          13.595674517810764,
          14.317427760829695,
          14.317427760829695,
          15.428269256000405,
          15.716943229594762,
          16.317516248014442,
          16.711795986676684,
          19.314779999404223,
          21.332218980979164,
          21.332218980979164,
          21.4881001943588,
          22.295376346734123,
          23.192410568513843,
          23.659507736388477,
          23.996954359567873,
          26.5190604771852
         ],
         "yaxis": "y"
        },
        {
         "hovertemplate": "sample=S29<br>V40=%{x}<br>fat=%{y}<extra></extra>",
         "legendgroup": "S29",
         "marker": {
          "color": "#FF97FF",
          "symbol": "circle"
         },
         "mode": "markers",
         "name": "S29",
         "showlegend": true,
         "type": "scattergl",
         "x": [
          2.69671,
          2.15138,
          3.0161,
          2.80872,
          2.69671,
          2.42413,
          2.94362,
          3.48411,
          3.84111,
          2.62958,
          4.03525,
          2.88966,
          3.38955,
          3.09379,
          2.62234,
          2.96927,
          3.2876,
          3.56187,
          2.62958,
          3.1999,
          2.60269,
          2.78095,
          2.90034,
          2.62958,
          3.18116,
          2.94362,
          4.63278,
          3.17035,
          2.99942,
          3.10992,
          3.00628,
          3.02177
         ],
         "xaxis": "x",
         "y": [
          13.5,
          1.4,
          27.8,
          14,
          13.5,
          4.8,
          28.7,
          11,
          10.1,
          5.3,
          35.1,
          17.2,
          15.5,
          29.7,
          20.6,
          6.4,
          45,
          46,
          5.3,
          19.4,
          5.1,
          3.9,
          20.9,
          5.3,
          2.9,
          28.7,
          17.6,
          7.7,
          16.4,
          8.2,
          28.4,
          7
         ],
         "yaxis": "y"
        },
        {
         "hovertemplate": "<b>OLS trendline</b><br>fat = 9.93097 * V40 + -13.8868<br>R<sup>2</sup>=0.162529<br><br>sample=S29<br>V40=%{x}<br>fat=%{y} <b>(trend)</b><extra></extra>",
         "legendgroup": "S29",
         "marker": {
          "color": "#FF97FF",
          "symbol": "circle"
         },
         "mode": "lines",
         "name": "S29",
         "showlegend": false,
         "type": "scattergl",
         "x": [
          2.15138,
          2.42413,
          2.60269,
          2.62234,
          2.62958,
          2.62958,
          2.62958,
          2.69671,
          2.69671,
          2.78095,
          2.80872,
          2.88966,
          2.90034,
          2.94362,
          2.94362,
          2.96927,
          2.99942,
          3.00628,
          3.0161,
          3.02177,
          3.09379,
          3.10992,
          3.17035,
          3.18116,
          3.1999,
          3.2876,
          3.38955,
          3.48411,
          3.56187,
          3.84111,
          4.03525,
          4.63278
         ],
         "xaxis": "x",
         "y": [
          7.478463699403784,
          10.187136807065263,
          11.96041149122304,
          12.15555512666043,
          12.227455377070948,
          12.227455377070948,
          12.227455377070948,
          12.894121649178429,
          12.894121649178429,
          13.730706883236737,
          14.006490026040622,
          14.810303046514024,
          14.91636584684335,
          15.34617839349629,
          15.34617839349629,
          15.600907871815325,
          15.900326732295598,
          15.968453212656941,
          16.065975375506568,
          16.122283997029726,
          16.837512731085745,
          16.997699338699235,
          17.597828086255547,
          17.705181913180645,
          17.891288362447654,
          18.76223476590104,
          19.77469754619834,
          20.713770430013078,
          21.486002953759204,
          24.259128081471005,
          26.18712733764478,
          32.121182120489756
         ],
         "yaxis": "y"
        },
        {
         "hovertemplate": "sample=S30<br>V40=%{x}<br>fat=%{y}<extra></extra>",
         "legendgroup": "S30",
         "marker": {
          "color": "#FECB52",
          "symbol": "circle"
         },
         "mode": "markers",
         "name": "S30",
         "showlegend": true,
         "type": "scattergl",
         "x": [
          2.49226,
          2.79331,
          3.10992,
          3.2876,
          3.7901,
          3.04338,
          3.28418,
          2.83072,
          2.6912,
          3.14371,
          2.5451,
          2.7653,
          4.0604,
          3.12235,
          4.30451,
          3.60287,
          3.84111,
          2.62234,
          3.84067,
          3.14371,
          3.51876,
          2.65624,
          3.02501,
          3.73111,
          3.83084,
          2.63122,
          4.30451,
          2.32108,
          2.78689,
          5.15256,
          2.94262,
          3.54434
         ],
         "xaxis": "x",
         "y": [
          13.8,
          5.6,
          8.2,
          45,
          28.3,
          8.6,
          7.8,
          4.7,
          18.1,
          25.5,
          11.2,
          10.6,
          35.8,
          46.5,
          17,
          10.5,
          10.1,
          20.6,
          31.5,
          25.5,
          47.8,
          5.2,
          16.3,
          24.8,
          38.5,
          9,
          17,
          9.3,
          28.1,
          48.5,
          35.5,
          29
         ],
         "yaxis": "y"
        },
        {
         "hovertemplate": "<b>OLS trendline</b><br>fat = 10.2974 * V40 + -12.0267<br>R<sup>2</sup>=0.232610<br><br>sample=S30<br>V40=%{x}<br>fat=%{y} <b>(trend)</b><extra></extra>",
         "legendgroup": "S30",
         "marker": {
          "color": "#FECB52",
          "symbol": "circle"
         },
         "mode": "lines",
         "name": "S30",
         "showlegend": false,
         "type": "scattergl",
         "x": [
          2.32108,
          2.49226,
          2.5451,
          2.62234,
          2.63122,
          2.65624,
          2.6912,
          2.7653,
          2.78689,
          2.79331,
          2.83072,
          2.94262,
          3.02501,
          3.04338,
          3.10992,
          3.12235,
          3.14371,
          3.14371,
          3.28418,
          3.2876,
          3.51876,
          3.54434,
          3.60287,
          3.73111,
          3.7901,
          3.83084,
          3.84067,
          3.84111,
          4.0604,
          4.30451,
          4.30451,
          5.15256
         ],
         "xaxis": "x",
         "y": [
          11.874377137150093,
          13.637085987995375,
          14.181200578944464,
          14.976571718325756,
          15.068012626115836,
          15.325653562254105,
          15.68565064967992,
          16.448687954549854,
          16.671008810314255,
          16.737118115270597,
          17.12234383153489,
          18.27462283848422,
          19.123025585423953,
          19.312188814714922,
          19.99737777916897,
          20.125374455276038,
          20.345326909149478,
          20.345326909149478,
          21.79180262055406,
          21.82701972693267,
          24.207366601342038,
          24.470774081214813,
          25.07348087546633,
          26.394019390669037,
          27.001462988702464,
          27.420979045388044,
          27.522202482727735,
          27.526733338519136,
          29.784850080555948,
          32.29854827882585,
          32.29854827882585,
          41.03125794677387
         ],
         "yaxis": "y"
        },
        {
         "hovertemplate": "sample=S31<br>V40=%{x}<br>fat=%{y}<extra></extra>",
         "legendgroup": "S31",
         "marker": {
          "color": "#636efa",
          "symbol": "circle"
         },
         "mode": "markers",
         "name": "S31",
         "showlegend": true,
         "type": "scattergl",
         "x": [
          2.99246,
          2.63122,
          3.14615,
          3.41044,
          3.32938,
          3.04786,
          4.95934,
          2.78689,
          2.60204,
          3.58079,
          3.72874,
          2.81573,
          3.26277,
          2.80872,
          3.1999,
          3.81015,
          3.04925,
          3.94548,
          2.93442,
          3.54497,
          3.30932,
          2.37662,
          3.17624,
          3.48411,
          4.0604,
          3.20521,
          4.03525,
          2.80872,
          3.02501,
          2.37369,
          2.49187,
          4.76194
         ],
         "xaxis": "x",
         "y": [
          5.9,
          9,
          37.8,
          34.2,
          45.7,
          16.4,
          34.8,
          28.1,
          10.7,
          31.3,
          11.7,
          6.2,
          11,
          14,
          19.4,
          27.9,
          6.7,
          30.4,
          33.8,
          15.9,
          32.2,
          11,
          6.4,
          11,
          35.8,
          23,
          35.1,
          14,
          16.3,
          14.6,
          5.2,
          48.2
         ],
         "yaxis": "y"
        },
        {
         "hovertemplate": "<b>OLS trendline</b><br>fat = 12.8334 * V40 + -20.6218<br>R<sup>2</sup>=0.391950<br><br>sample=S31<br>V40=%{x}<br>fat=%{y} <b>(trend)</b><extra></extra>",
         "legendgroup": "S31",
         "marker": {
          "color": "#636efa",
          "symbol": "circle"
         },
         "mode": "lines",
         "name": "S31",
         "showlegend": false,
         "type": "scattergl",
         "x": [
          2.37369,
          2.37662,
          2.49187,
          2.60204,
          2.63122,
          2.78689,
          2.80872,
          2.80872,
          2.81573,
          2.93442,
          2.99246,
          3.02501,
          3.04786,
          3.04925,
          3.14615,
          3.17624,
          3.1999,
          3.20521,
          3.26277,
          3.30932,
          3.32938,
          3.41044,
          3.48411,
          3.54497,
          3.58079,
          3.72874,
          3.81015,
          3.94548,
          4.03525,
          4.0604,
          4.76194,
          4.95934
         ],
         "xaxis": "x",
         "y": [
          9.840800779328923,
          9.878402739134405,
          11.357455936261278,
          12.77131529181414,
          13.145794877863267,
          15.143575452238458,
          15.423729302939364,
          15.423729302939364,
          15.513691670938144,
          17.036891878894657,
          17.781744352311087,
          18.199472608853213,
          18.49271656160245,
          18.510555034001634,
          19.75411472859247,
          20.140272739018044,
          20.443911772805656,
          20.51205730405723,
          21.250749729450916,
          21.848146053322985,
          22.105584726940037,
          23.145862836780417,
          24.091301873937354,
          24.872344629487387,
          25.332038213184433,
          27.230744681860536,
          28.275514493384172,
          30.0122630327957,
          31.164320347382073,
          31.487081196906935,
          40.49024805081051,
          43.02356780016274
         ],
         "yaxis": "y"
        },
        {
         "hovertemplate": "sample=S32<br>V40=%{x}<br>fat=%{y}<extra></extra>",
         "legendgroup": "S32",
         "marker": {
          "color": "#EF553B",
          "symbol": "circle"
         },
         "mode": "markers",
         "name": "S32",
         "showlegend": true,
         "type": "scattergl",
         "x": [
          4.30451,
          2.94262,
          3.07224,
          3.32938,
          3.65631,
          3.84067,
          2.30851,
          2.37632,
          3.51876,
          3.10992,
          3.58251,
          2.69238,
          2.32108,
          2.96468,
          3.02177,
          2.5451,
          2.35135,
          4.07309,
          3.04338,
          2.41456,
          2.62234,
          3.01651,
          2.68876,
          3.58251,
          3.07342,
          2.62234,
          2.80872,
          3.48656,
          2.74589,
          3.60287,
          2.5451,
          3.27835
         ],
         "xaxis": "x",
         "y": [
          17,
          35.5,
          6.3,
          45.7,
          31.1,
          31.5,
          7.1,
          3.6,
          47.8,
          8.2,
          35.2,
          6.8,
          9.3,
          15.7,
          7,
          11.2,
          7.2,
          21.2,
          8.6,
          7.7,
          20.6,
          23.4,
          7.3,
          35.2,
          10.9,
          20.6,
          14,
          10.1,
          28.9,
          10.5,
          11.2,
          40.1
         ],
         "yaxis": "y"
        },
        {
         "hovertemplate": "<b>OLS trendline</b><br>fat = 11.8702 * V40 + -17.5422<br>R<sup>2</sup>=0.240010<br><br>sample=S32<br>V40=%{x}<br>fat=%{y} <b>(trend)</b><extra></extra>",
         "legendgroup": "S32",
         "marker": {
          "color": "#EF553B",
          "symbol": "circle"
         },
         "mode": "lines",
         "name": "S32",
         "showlegend": false,
         "type": "scattergl",
         "x": [
          2.30851,
          2.32108,
          2.35135,
          2.37632,
          2.41456,
          2.5451,
          2.5451,
          2.62234,
          2.62234,
          2.68876,
          2.69238,
          2.74589,
          2.80872,
          2.94262,
          2.96468,
          3.01651,
          3.02177,
          3.04338,
          3.07224,
          3.07342,
          3.10992,
          3.27835,
          3.32938,
          3.48656,
          3.51876,
          3.58251,
          3.58251,
          3.60287,
          3.65631,
          3.84067,
          4.07309,
          4.30451
         ],
         "xaxis": "x",
         "y": [
          9.860294225365958,
          10.009503008683232,
          10.368814852041549,
          10.66521447968136,
          11.119132051205039,
          12.66867179458113,
          12.66867179458113,
          13.58552831195794,
          13.58552831195794,
          14.37394894743396,
          14.416919177792636,
          15.052095151961893,
          15.797901663960666,
          17.387325378056403,
          17.649182638197942,
          18.264416627007364,
          18.32685403355064,
          18.583369690470796,
          18.92594451040211,
          18.93995138107151,
          19.373214753472517,
          21.372517488088988,
          21.978255293393737,
          23.844017947475656,
          24.226239333539006,
          24.982966456568157,
          24.982966456568157,
          25.224644326762252,
          25.858989384874846,
          28.04738487352825,
          30.806263586225278,
          33.55327206954146
         ],
         "yaxis": "y"
        },
        {
         "hovertemplate": "sample=S33<br>V40=%{x}<br>fat=%{y}<extra></extra>",
         "legendgroup": "S33",
         "marker": {
          "color": "#00cc96",
          "symbol": "circle"
         },
         "mode": "markers",
         "name": "S33",
         "showlegend": true,
         "type": "scattergl",
         "x": [
          3.8577,
          3.09379,
          2.98908,
          4.30027,
          2.4989,
          2.79681,
          2.79331,
          2.72708,
          3.09379,
          2.94262,
          3.49277,
          2.98798,
          3.76068,
          2.94262,
          3.14615,
          2.81573,
          3.32625,
          3.21746,
          3.00628,
          2.29884,
          3.51876,
          2.764,
          2.88966,
          2.32108,
          3.56187,
          2.42973,
          3.04925,
          2.96468,
          3.21746,
          3.10446,
          2.62234,
          2.96468
         ],
         "xaxis": "x",
         "y": [
          19.9,
          29.7,
          10.9,
          22.4,
          6.9,
          7.2,
          5.6,
          5.6,
          29.7,
          35.5,
          44.7,
          7.8,
          10.1,
          35.5,
          37.8,
          6.2,
          9.2,
          35.2,
          28.4,
          2,
          47.8,
          4.6,
          17.2,
          9.3,
          46,
          11,
          6.7,
          15.7,
          35.2,
          8.5,
          20.6,
          15.7
         ],
         "yaxis": "y"
        },
        {
         "hovertemplate": "<b>OLS trendline</b><br>fat = 14.9506 * V40 + -25.9071<br>R<sup>2</sup>=0.219125<br><br>sample=S33<br>V40=%{x}<br>fat=%{y} <b>(trend)</b><extra></extra>",
         "legendgroup": "S33",
         "marker": {
          "color": "#00cc96",
          "symbol": "circle"
         },
         "mode": "lines",
         "name": "S33",
         "showlegend": false,
         "type": "scattergl",
         "x": [
          2.29884,
          2.32108,
          2.42973,
          2.4989,
          2.62234,
          2.72708,
          2.764,
          2.79331,
          2.79681,
          2.81573,
          2.88966,
          2.94262,
          2.94262,
          2.96468,
          2.96468,
          2.98798,
          2.98908,
          3.00628,
          3.04925,
          3.09379,
          3.09379,
          3.10446,
          3.14615,
          3.21746,
          3.21746,
          3.32625,
          3.49277,
          3.51876,
          3.56187,
          3.76068,
          3.8577,
          4.30027
         ],
         "xaxis": "x",
         "y": [
          8.461994193188637,
          8.794495988710814,
          10.41888088455098,
          11.453015290858055,
          13.29851986096859,
          14.86444783142693,
          15.416424732986236,
          15.854627414045375,
          15.906954585103271,
          16.18982032122196,
          17.29511968016778,
          18.086904531375275,
          18.086904531375275,
          18.41671521524306,
          18.41671521524306,
          18.765064668285632,
          18.781510350618113,
          19.03866101981692,
          19.681089174204885,
          20.346989802467384,
          20.346989802467384,
          20.506512921092465,
          21.129804281493534,
          22.19593301524744,
          22.19593301524744,
          23.822410997929914,
          26.31198829066166,
          26.7005549123173,
          27.345076153547573,
          30.31740897583918,
          31.767918157564097,
          38.384614184733735
         ],
         "yaxis": "y"
        },
        {
         "hovertemplate": "sample=S34<br>V40=%{x}<br>fat=%{y}<extra></extra>",
         "legendgroup": "S34",
         "marker": {
          "color": "#ab63fa",
          "symbol": "circle"
         },
         "mode": "markers",
         "name": "S34",
         "showlegend": true,
         "type": "scattergl",
         "x": [
          3.04786,
          2.72724,
          4.30027,
          3.29819,
          3.38955,
          2.78095,
          3.17035,
          3.65631,
          2.62234,
          3.30932,
          2.42779,
          3.51002,
          2.51888,
          2.49226,
          3.81015,
          3.17624,
          3.73111,
          2.65624,
          3.14371,
          2.78845,
          2.49226,
          2.35135,
          3.17035,
          3.0161,
          2.47019,
          3.51002,
          3.58251,
          3.48656,
          3.48656,
          3.39535,
          2.78845,
          2.97124
         ],
         "xaxis": "x",
         "y": [
          16.4,
          27.3,
          22.4,
          18.8,
          15.5,
          3.9,
          7.7,
          31.1,
          20.6,
          32.2,
          6.4,
          42.7,
          8.4,
          13.8,
          27.9,
          6.4,
          24.8,
          5.2,
          25.5,
          7.1,
          13.8,
          7.2,
          7.7,
          27.8,
          8.1,
          42.7,
          35.2,
          10.1,
          10.1,
          43.8,
          7.1,
          6
         ],
         "yaxis": "y"
        },
        {
         "hovertemplate": "<b>OLS trendline</b><br>fat = 13.9881 * V40 + -25.1568<br>R<sup>2</sup>=0.300538<br><br>sample=S34<br>V40=%{x}<br>fat=%{y} <b>(trend)</b><extra></extra>",
         "legendgroup": "S34",
         "marker": {
          "color": "#ab63fa",
          "symbol": "circle"
         },
         "mode": "lines",
         "name": "S34",
         "showlegend": false,
         "type": "scattergl",
         "x": [
          2.35135,
          2.42779,
          2.47019,
          2.49226,
          2.49226,
          2.51888,
          2.62234,
          2.65624,
          2.72724,
          2.78095,
          2.78845,
          2.78845,
          2.97124,
          3.0161,
          3.04786,
          3.14371,
          3.17035,
          3.17035,
          3.17624,
          3.29819,
          3.30932,
          3.38955,
          3.39535,
          3.48656,
          3.48656,
          3.51002,
          3.51002,
          3.58251,
          3.65631,
          3.73111,
          3.81015,
          4.30027
         ],
         "xaxis": "x",
         "y": [
          7.73423440945103,
          8.803487747222203,
          9.39658483672375,
          9.705303062320422,
          9.705303062320422,
          10.077667319927283,
          11.524880170866656,
          11.999078079689827,
          12.992235941826845,
          13.743538882325137,
          13.848449924100176,
          13.848449924100176,
          16.405341834241373,
          17.032849745445123,
          17.477113037015148,
          18.817876150900116,
          19.190520171285048,
          19.190520171285048,
          19.272910309425708,
          20.97876384868781,
          21.134451834681965,
          22.256720218896792,
          22.33785142453615,
          23.613709573909635,
          23.613709573909635,
          23.94187131258195,
          23.94187131258195,
          24.955871501684943,
          25.988196152751296,
          27.034508942721,
          28.140131441640857,
          34.995998080945
         ],
         "yaxis": "y"
        },
        {
         "hovertemplate": "sample=S35<br>V40=%{x}<br>fat=%{y}<extra></extra>",
         "legendgroup": "S35",
         "marker": {
          "color": "#FFA15A",
          "symbol": "circle"
         },
         "mode": "markers",
         "name": "S35",
         "showlegend": true,
         "type": "scattergl",
         "x": [
          3.04925,
          3.02501,
          3.8577,
          4.30027,
          3.14615,
          2.94801,
          2.69671,
          2.95221,
          3.58079,
          2.47019,
          3.34338,
          2.94801,
          2.74815,
          2.7653,
          2.62087,
          3.55286,
          3.7358,
          3.04555,
          3.04786,
          5.15256,
          3.84067,
          3.73111,
          2.62087,
          3.51002,
          2.68876,
          4.76194,
          2.95221,
          2.78095,
          3.42185,
          2.62234,
          2.96731,
          3.94496
         ],
         "xaxis": "x",
         "y": [
          6.7,
          16.3,
          19.9,
          22.4,
          37.8,
          18.2,
          13.5,
          21.5,
          31.3,
          8.1,
          29.8,
          18.2,
          29.2,
          10.6,
          5.6,
          46,
          16,
          12.5,
          16.4,
          48.5,
          31.5,
          24.8,
          5.6,
          42.7,
          7.3,
          48.2,
          21.5,
          3.9,
          18.8,
          20.6,
          9.6,
          31.5
         ],
         "yaxis": "y"
        },
        {
         "hovertemplate": "<b>OLS trendline</b><br>fat = 14.4444 * V40 + -25.6157<br>R<sup>2</sup>=0.517001<br><br>sample=S35<br>V40=%{x}<br>fat=%{y} <b>(trend)</b><extra></extra>",
         "legendgroup": "S35",
         "marker": {
          "color": "#FFA15A",
          "symbol": "circle"
         },
         "mode": "lines",
         "name": "S35",
         "showlegend": false,
         "type": "scattergl",
         "x": [
          2.47019,
          2.62087,
          2.62087,
          2.62234,
          2.68876,
          2.69671,
          2.74815,
          2.7653,
          2.78095,
          2.94801,
          2.94801,
          2.95221,
          2.95221,
          2.96731,
          3.02501,
          3.04555,
          3.04786,
          3.04925,
          3.14615,
          3.34338,
          3.42185,
          3.51002,
          3.55286,
          3.58079,
          3.73111,
          3.7358,
          3.84067,
          3.8577,
          3.94496,
          4.30027,
          4.76194,
          5.15256
         ],
         "xaxis": "x",
         "y": [
          10.064749023063438,
          12.241232770080085,
          12.241232770080085,
          12.262466053250474,
          13.221863786704457,
          13.336696848748407,
          14.079717315608878,
          14.327438952596776,
          14.553493974104672,
          16.966577162162825,
          16.966577162162825,
          17.0272436855068,
          17.0272436855068,
          17.245354281338702,
          18.078796756802337,
          18.375484944775007,
          18.408851532614197,
          18.428929262958984,
          19.828592622966372,
          22.677463670378724,
          23.81091654818864,
          25.08448020610248,
          25.70327874421101,
          26.106711124448434,
          28.277994883749887,
          28.345739168150654,
          29.86052447840839,
          30.10651278615789,
          31.36693203068054,
          36.499175461477506,
          43.16772637390899,
          48.81000193310493
         ],
         "yaxis": "y"
        },
        {
         "hovertemplate": "sample=S36<br>V40=%{x}<br>fat=%{y}<extra></extra>",
         "legendgroup": "S36",
         "marker": {
          "color": "#19d3f3",
          "symbol": "circle"
         },
         "mode": "markers",
         "name": "S36",
         "showlegend": true,
         "type": "scattergl",
         "x": [
          4.95934,
          3.5466,
          3.28418,
          2.98908,
          2.90705,
          2.62958,
          2.74206,
          2.80872,
          3.02501,
          3.94548,
          2.69238,
          3.42597,
          3.54847,
          2.95221,
          2.24446,
          2.75556,
          2.42779,
          3.12235,
          4.07309,
          2.30851,
          4.03525,
          3.94496,
          3.02177,
          3.09379,
          2.55253,
          2.6912,
          2.47019,
          3.48094,
          3.18116,
          3.28418,
          2.97124,
          2.57189
         ],
         "xaxis": "x",
         "y": [
          34.8,
          46.3,
          7.8,
          10.9,
          9.2,
          5.3,
          6.8,
          14,
          16.3,
          30.4,
          6.8,
          33.7,
          26,
          21.5,
          0.9,
          6,
          6.4,
          46.5,
          21.2,
          7.1,
          35.1,
          31.5,
          7,
          29.7,
          13.5,
          18.1,
          8.1,
          4,
          2.9,
          7.8,
          6,
          7.9
         ],
         "yaxis": "y"
        },
        {
         "hovertemplate": "<b>OLS trendline</b><br>fat = 13.7456 * V40 + -26.2736<br>R<sup>2</sup>=0.399809<br><br>sample=S36<br>V40=%{x}<br>fat=%{y} <b>(trend)</b><extra></extra>",
         "legendgroup": "S36",
         "marker": {
          "color": "#19d3f3",
          "symbol": "circle"
         },
         "mode": "lines",
         "name": "S36",
         "showlegend": false,
         "type": "scattergl",
         "x": [
          2.24446,
          2.30851,
          2.42779,
          2.47019,
          2.55253,
          2.57189,
          2.62958,
          2.6912,
          2.69238,
          2.74206,
          2.75556,
          2.80872,
          2.90705,
          2.95221,
          2.97124,
          2.98908,
          3.02177,
          3.02501,
          3.09379,
          3.12235,
          3.18116,
          3.28418,
          3.28418,
          3.42597,
          3.48094,
          3.5466,
          3.54847,
          3.94496,
          3.94548,
          4.03525,
          4.07309,
          4.95934
         ],
         "xaxis": "x",
         "y": [
          4.577786544728177,
          5.458191583077472,
          7.097765556134519,
          7.680578571372777,
          8.812390450493481,
          9.07850507254566,
          9.871488158609218,
          10.718491413302175,
          10.734711209480977,
          11.417592119788438,
          11.603157584545905,
          12.333873147990843,
          13.685477010924274,
          14.30622785451294,
          14.567806431871055,
          14.81302775715055,
          15.262371093663248,
          15.306906805205038,
          16.252328484169354,
          16.644902534056257,
          17.453280680899695,
          18.869351360848867,
          18.869351360848867,
          20.818338564401508,
          21.57393364571393,
          22.476469083934305,
          22.50217333720071,
          27.95216230917748,
          27.959310015968136,
          29.193251628655354,
          29.713384753575532,
          41.89541387515342
         ],
         "yaxis": "y"
        },
        {
         "hovertemplate": "sample=S37<br>V40=%{x}<br>fat=%{y}<extra></extra>",
         "legendgroup": "S37",
         "marker": {
          "color": "#FF6692",
          "symbol": "circle"
         },
         "mode": "markers",
         "name": "S37",
         "showlegend": true,
         "type": "scattergl",
         "x": [
          4.30451,
          2.72432,
          2.49226,
          2.96468,
          3.48094,
          2.81769,
          3.26277,
          3.0161,
          2.79484,
          2.68876,
          2.84415,
          3.94496,
          2.3816,
          3.18116,
          3.1719,
          2.72432,
          2.29884,
          2.78689,
          3.65631,
          2.99942,
          2.97124,
          3.0161,
          3.04338,
          3.02177,
          3.5466,
          3.07342,
          3.73111,
          2.80872,
          3.42185,
          3.41044,
          4.95934,
          2.47019
         ],
         "xaxis": "x",
         "y": [
          17,
          10.6,
          13.8,
          15.7,
          4,
          12.5,
          11,
          27.8,
          29.2,
          7.3,
          6.6,
          31.5,
          17.7,
          2.9,
          25.5,
          10.6,
          2,
          28.1,
          31.1,
          16.4,
          6,
          27.8,
          8.6,
          7,
          46.3,
          10.9,
          24.8,
          14,
          18.8,
          34.2,
          34.8,
          8.1
         ],
         "yaxis": "y"
        },
        {
         "hovertemplate": "<b>OLS trendline</b><br>fat = 9.93228 * V40 + -13.4604<br>R<sup>2</sup>=0.248470<br><br>sample=S37<br>V40=%{x}<br>fat=%{y} <b>(trend)</b><extra></extra>",
         "legendgroup": "S37",
         "marker": {
          "color": "#FF6692",
          "symbol": "circle"
         },
         "mode": "lines",
         "name": "S37",
         "showlegend": false,
         "type": "scattergl",
         "x": [
          2.29884,
          2.3816,
          2.47019,
          2.49226,
          2.68876,
          2.72432,
          2.72432,
          2.78689,
          2.79484,
          2.80872,
          2.81769,
          2.84415,
          2.96468,
          2.97124,
          2.99942,
          3.0161,
          3.0161,
          3.02177,
          3.04338,
          3.07342,
          3.1719,
          3.18116,
          3.26277,
          3.41044,
          3.42185,
          3.48094,
          3.5466,
          3.65631,
          3.73111,
          3.94496,
          4.30451,
          4.95934
         ],
         "xaxis": "x",
         "y": [
          9.372317184511616,
          10.194312327904584,
          11.07421263908369,
          11.293417965505665,
          13.245110155896167,
          13.598301882564297,
          13.598301882564297,
          14.219764377998057,
          14.298725970433704,
          14.436585958233294,
          14.525678471962571,
          14.788486489050271,
          15.985623688580894,
          16.05077941768502,
          16.330670949111003,
          16.496341309089186,
          16.496341309089186,
          16.55265731275084,
          16.767293792314902,
          17.065659356688087,
          18.043789875312292,
          18.13576274901721,
          18.9463357752654,
          20.413034939412807,
          20.52636220604057,
          21.113260381766654,
          21.76541360935465,
          22.85508358496656,
          23.598017813166106,
          25.722034988306103,
          29.293184744310704,
          35.79713689206345
         ],
         "yaxis": "y"
        },
        {
         "hovertemplate": "sample=S38<br>V40=%{x}<br>fat=%{y}<extra></extra>",
         "legendgroup": "S38",
         "marker": {
          "color": "#B6E880",
          "symbol": "circle"
         },
         "mode": "markers",
         "name": "S38",
         "showlegend": true,
         "type": "scattergl",
         "x": [
          3.04338,
          4.1284,
          2.24446,
          2.72724,
          4.30027,
          3.20521,
          3.47681,
          3.49277,
          2.69238,
          2.6912,
          2.79484,
          3.7358,
          2.37632,
          3.10446,
          4.30027,
          2.62159,
          4.1284,
          3.7358,
          2.6912,
          3.58251,
          3.12825,
          3.55286,
          2.76642,
          4.03525,
          2.96731,
          2.7653,
          2.60269,
          3.21746,
          3.38955,
          3.56187,
          2.79331,
          2.74206
         ],
         "xaxis": "x",
         "y": [
          8.6,
          26.5,
          0.9,
          27.3,
          22.4,
          23,
          26.7,
          44.7,
          6.8,
          18.1,
          29.2,
          16,
          3.6,
          8.5,
          22.4,
          16.4,
          26.5,
          16,
          18.1,
          35.2,
          28.8,
          46,
          8.4,
          35.1,
          9.6,
          10.6,
          5.1,
          35.2,
          15.5,
          46,
          5.6,
          6.8
         ],
         "yaxis": "y"
        },
        {
         "hovertemplate": "<b>OLS trendline</b><br>fat = 12.4591 * V40 + -19.6452<br>R<sup>2</sup>=0.314211<br><br>sample=S38<br>V40=%{x}<br>fat=%{y} <b>(trend)</b><extra></extra>",
         "legendgroup": "S38",
         "marker": {
          "color": "#B6E880",
          "symbol": "circle"
         },
         "mode": "lines",
         "name": "S38",
         "showlegend": false,
         "type": "scattergl",
         "x": [
          2.24446,
          2.37632,
          2.60269,
          2.62159,
          2.6912,
          2.6912,
          2.69238,
          2.72724,
          2.74206,
          2.7653,
          2.76642,
          2.79331,
          2.79484,
          2.96731,
          3.04338,
          3.10446,
          3.12825,
          3.20521,
          3.21746,
          3.38955,
          3.47681,
          3.49277,
          3.55286,
          3.56187,
          3.58251,
          3.7358,
          3.7358,
          4.03525,
          4.1284,
          4.1284,
          4.30027,
          4.30027
         ],
         "xaxis": "x",
         "y": [
          8.318685588564296,
          9.961538973467032,
          12.781899361305893,
          13.01737584374683,
          13.88465192537188,
          13.88465192537188,
          13.89935363168301,
          14.333676921518514,
          14.518320385527755,
          14.807869245418086,
          14.821823407340514,
          15.156847884210183,
          15.17591026612207,
          17.324726611444188,
          18.27248830558609,
          19.0334884932841,
          19.3298898434042,
          20.288740112645176,
          20.441363758671702,
          22.58544565619871,
          23.672624378833422,
          23.871471186227996,
          24.620136891512427,
          24.732393140549082,
          24.989548410262362,
          26.89939973266294,
          26.89939973266294,
          30.630269185940083,
          31.79083184939898,
          31.79083184939898,
          33.9321727508341,
          33.9321727508341
         ],
         "yaxis": "y"
        },
        {
         "hovertemplate": "sample=S39<br>V40=%{x}<br>fat=%{y}<extra></extra>",
         "legendgroup": "S39",
         "marker": {
          "color": "#FF97FF",
          "symbol": "circle"
         },
         "mode": "markers",
         "name": "S39",
         "showlegend": true,
         "type": "scattergl",
         "x": [
          2.4989,
          3.31014,
          3.84067,
          3.14371,
          3.00284,
          2.97124,
          2.98908,
          2.29884,
          3.49277,
          3.17035,
          3.28418,
          2.24446,
          2.78845,
          2.84415,
          2.99246,
          2.42973,
          2.47019,
          3.84067,
          2.49187,
          2.49226,
          2.74206,
          2.74206,
          3.14371,
          3.54497,
          4.30451,
          3.7901,
          2.72432,
          2.78845,
          4.27201,
          4.76194,
          3.18116,
          2.72708
         ],
         "xaxis": "x",
         "y": [
          6.9,
          3.5,
          31.5,
          25.5,
          5.9,
          6,
          10.9,
          2,
          44.7,
          7.7,
          7.8,
          0.9,
          7.1,
          6.6,
          5.9,
          11,
          8.1,
          31.5,
          5.2,
          13.8,
          6.8,
          6.8,
          25.5,
          15.9,
          17,
          28.3,
          10.6,
          7.1,
          36.5,
          48.2,
          2.9,
          5.6
         ],
         "yaxis": "y"
        },
        {
         "hovertemplate": "<b>OLS trendline</b><br>fat = 15.8765 * V40 + -35.0981<br>R<sup>2</sup>=0.587432<br><br>sample=S39<br>V40=%{x}<br>fat=%{y} <b>(trend)</b><extra></extra>",
         "legendgroup": "S39",
         "marker": {
          "color": "#FF97FF",
          "symbol": "circle"
         },
         "mode": "lines",
         "name": "S39",
         "showlegend": false,
         "type": "scattergl",
         "x": [
          2.24446,
          2.29884,
          2.42973,
          2.47019,
          2.49187,
          2.49226,
          2.4989,
          2.72432,
          2.72708,
          2.74206,
          2.74206,
          2.78845,
          2.78845,
          2.84415,
          2.97124,
          2.98908,
          2.99246,
          3.00284,
          3.14371,
          3.14371,
          3.17035,
          3.18116,
          3.28418,
          3.31014,
          3.49277,
          3.54497,
          3.7901,
          3.84067,
          3.84067,
          4.27201,
          4.30451,
          4.76194
         ],
         "xaxis": "x",
         "y": [
          0.5359630508758784,
          1.3993256449333984,
          3.47739717741203,
          4.119759269276081,
          4.463961200853262,
          4.470153025268161,
          4.5755728050501006,
          8.1544473168641,
          8.198266381954184,
          8.436095945377893,
          8.436095945377893,
          9.172605521294194,
          9.172605521294194,
          10.056925059525227,
          12.074665995140698,
          12.357902270940372,
          12.411564749202867,
          12.576362537476442,
          14.81288126908516,
          14.81288126908516,
          15.235830506041623,
          15.40745517764445,
          17.043049411550392,
          17.455202646962917,
          20.354722885152036,
          21.18347476837753,
          25.075274560237006,
          25.878147792702777,
          25.878147792702777,
          32.726305595585615,
          33.2422909634942,
          40.504665943261216
         ],
         "yaxis": "y"
        },
        {
         "hovertemplate": "sample=S40<br>V40=%{x}<br>fat=%{y}<extra></extra>",
         "legendgroup": "S40",
         "marker": {
          "color": "#FECB52",
          "symbol": "circle"
         },
         "mode": "markers",
         "name": "S40",
         "showlegend": true,
         "type": "scattergl",
         "x": [
          2.97042,
          3.09379,
          2.5451,
          3.07342,
          3.71898,
          3.48411,
          2.55253,
          2.36604,
          3.76068,
          2.80872,
          3.10992,
          2.94362,
          2.49226,
          2.5451,
          3.17624,
          3.32916,
          4.01028,
          3.41044,
          3.94496,
          3.5466,
          4.03525,
          2.89698,
          2.8564,
          3.12235,
          3.17035,
          2.88966,
          2.79331,
          3.27835,
          2.29884,
          4.27201,
          3.0161,
          4.14779
         ],
         "xaxis": "x",
         "y": [
          14.3,
          29.7,
          11.2,
          10.9,
          10.2,
          11,
          13.5,
          6.4,
          10.1,
          14,
          8.2,
          28.7,
          13.8,
          11.2,
          6.4,
          47.7,
          10,
          34.2,
          31.5,
          46.3,
          35.1,
          16.5,
          18.6,
          46.5,
          7.7,
          17.2,
          5.6,
          40.1,
          2,
          36.5,
          27.8,
          32
         ],
         "yaxis": "y"
        },
        {
         "hovertemplate": "<b>OLS trendline</b><br>fat = 11.4993 * V40 + -16.0662<br>R<sup>2</sup>=0.204850<br><br>sample=S40<br>V40=%{x}<br>fat=%{y} <b>(trend)</b><extra></extra>",
         "legendgroup": "S40",
         "marker": {
          "color": "#FECB52",
          "symbol": "circle"
         },
         "mode": "lines",
         "name": "S40",
         "showlegend": false,
         "type": "scattergl",
         "x": [
          2.29884,
          2.36604,
          2.49226,
          2.5451,
          2.5451,
          2.55253,
          2.79331,
          2.80872,
          2.8564,
          2.88966,
          2.89698,
          2.94362,
          2.97042,
          3.0161,
          3.07342,
          3.09379,
          3.10992,
          3.12235,
          3.17035,
          3.17624,
          3.27835,
          3.32916,
          3.41044,
          3.48411,
          3.5466,
          3.71898,
          3.76068,
          3.94496,
          4.01028,
          4.03525,
          4.14779,
          4.27201
         ],
         "xaxis": "x",
         "y": [
          10.368907480069325,
          11.141661656150756,
          12.593105586284665,
          13.20072955450108,
          13.20072955450108,
          13.286169487957704,
          16.054975299220917,
          16.23217979108721,
          16.78046727792594,
          17.16293459781387,
          17.24710960627988,
          17.783437802298305,
          18.09161952728316,
          18.61690837792899,
          19.2760492912175,
          19.510290400842184,
          19.695774401737925,
          19.838710925676796,
          20.390678194306393,
          20.458409177894485,
          21.632604548722984,
          22.216884901203603,
          23.15154947608305,
          23.998704240248518,
          24.717296628095678,
          26.699549081561717,
          27.17907064618367,
          29.298164984997467,
          30.04930044305757,
          30.336438415925922,
          31.6305716745004,
          33.05901696844141
         ],
         "yaxis": "y"
        },
        {
         "hovertemplate": "sample=S41<br>V40=%{x}<br>fat=%{y}<extra></extra>",
         "legendgroup": "S41",
         "marker": {
          "color": "#636efa",
          "symbol": "circle"
         },
         "mode": "markers",
         "name": "S41",
         "showlegend": true,
         "type": "scattergl",
         "x": [
          3.5466,
          2.65624,
          2.84727,
          3.7358,
          2.5451,
          3.65631,
          3.54847,
          2.99942,
          3.51876,
          2.87857,
          2.98908,
          4.10781,
          3.18116,
          5.15256,
          3.31266,
          3.14615,
          2.29884,
          2.32108,
          2.90034,
          3.94548,
          4.1284,
          4.76194,
          2.84727,
          3.58251,
          3.04925,
          3.09379,
          3.48411,
          3.32916,
          2.79484,
          2.94362,
          2.60204,
          3.50519
         ],
         "xaxis": "x",
         "y": [
          46.3,
          5.2,
          7.2,
          16,
          11.2,
          31.1,
          26,
          16.4,
          47.8,
          22.5,
          10.9,
          11.1,
          2.9,
          48.5,
          23.3,
          37.8,
          2,
          9.3,
          20.9,
          30.4,
          26.5,
          48.2,
          7.2,
          35.2,
          6.7,
          29.7,
          11,
          47.7,
          29.2,
          28.7,
          10.7,
          42.7
         ],
         "yaxis": "y"
        },
        {
         "hovertemplate": "<b>OLS trendline</b><br>fat = 14.163 * V40 + -23.207<br>R<sup>2</sup>=0.368778<br><br>sample=S41<br>V40=%{x}<br>fat=%{y} <b>(trend)</b><extra></extra>",
         "legendgroup": "S41",
         "marker": {
          "color": "#636efa",
          "symbol": "circle"
         },
         "mode": "lines",
         "name": "S41",
         "showlegend": false,
         "type": "scattergl",
         "x": [
          2.29884,
          2.32108,
          2.5451,
          2.60204,
          2.65624,
          2.79484,
          2.84727,
          2.84727,
          2.87857,
          2.90034,
          2.94362,
          2.98908,
          2.99942,
          3.04925,
          3.09379,
          3.14615,
          3.18116,
          3.31266,
          3.32916,
          3.48411,
          3.50519,
          3.51876,
          3.5466,
          3.54847,
          3.58251,
          3.65631,
          3.7358,
          3.94548,
          4.10781,
          4.1284,
          4.76194,
          5.15256
         ],
         "xaxis": "x",
         "y": [
          9.351572030561464,
          9.666558186760135,
          12.839363884225449,
          13.64580775715499,
          14.413444882423356,
          16.376443140028442,
          17.119011672829558,
          17.119011672829558,
          17.562315031148742,
          17.87064455544934,
          18.483621211936708,
          19.127473309993896,
          19.27391921175174,
          19.97966382341452,
          20.61048591860738,
          21.35206303814708,
          21.84791129932136,
          23.710351926125604,
          23.944042194888112,
          26.13860626426696,
          26.437163286419306,
          26.62935582866823,
          27.02365504578026,
          27.050139942906675,
          27.53225004888703,
          28.577482887352076,
          29.703303460923706,
          32.67301107026451,
          34.972098423489854,
          35.26371555281229,
          44.2365720904972,
          49.76894135013428
         ],
         "yaxis": "y"
        },
        {
         "hovertemplate": "sample=S42<br>V40=%{x}<br>fat=%{y}<extra></extra>",
         "legendgroup": "S42",
         "marker": {
          "color": "#EF553B",
          "symbol": "circle"
         },
         "mode": "markers",
         "name": "S42",
         "showlegend": true,
         "type": "scattergl",
         "x": [
          2.83072,
          2.55253,
          2.37369,
          2.83348,
          4.95934,
          2.55253,
          3.09723,
          2.35135,
          3.8577,
          2.78689,
          3.47681,
          2.37369,
          2.4989,
          3.7358,
          4.27201,
          3.84067,
          2.76642,
          3.7901,
          3.87794,
          2.47021,
          2.79484,
          3.00284,
          2.94362,
          3.53807,
          3.07342,
          3.48094,
          2.79331,
          3.58079,
          2.37369,
          3.0161,
          2.65624,
          2.69671
         ],
         "xaxis": "x",
         "y": [
          4.7,
          13.5,
          14.6,
          9.7,
          34.8,
          13.5,
          42.5,
          7.2,
          19.9,
          28.1,
          26.7,
          14.6,
          6.9,
          16,
          36.5,
          31.5,
          8.4,
          28.3,
          11.2,
          12.7,
          29.2,
          5.9,
          28.7,
          10.1,
          10.9,
          4,
          5.6,
          31.3,
          14.6,
          27.8,
          5.2,
          13.5
         ],
         "yaxis": "y"
        },
        {
         "hovertemplate": "<b>OLS trendline</b><br>fat = 8.63644 * V40 + -9.03294<br>R<sup>2</sup>=0.251800<br><br>sample=S42<br>V40=%{x}<br>fat=%{y} <b>(trend)</b><extra></extra>",
         "legendgroup": "S42",
         "marker": {
          "color": "#EF553B",
          "symbol": "circle"
         },
         "mode": "lines",
         "name": "S42",
         "showlegend": false,
         "type": "scattergl",
         "x": [
          2.35135,
          2.37369,
          2.37369,
          2.37369,
          2.47021,
          2.4989,
          2.55253,
          2.55253,
          2.65624,
          2.69671,
          2.76642,
          2.78689,
          2.79331,
          2.79484,
          2.83072,
          2.83348,
          2.94362,
          3.00284,
          3.0161,
          3.07342,
          3.09723,
          3.47681,
          3.48094,
          3.53807,
          3.58079,
          3.7358,
          3.7901,
          3.84067,
          3.8577,
          3.87794,
          4.27201,
          4.95934
         ],
         "xaxis": "x",
         "y": [
          11.274345777720809,
          11.46728376455638,
          11.46728376455638,
          11.46728376455638,
          12.300872595772566,
          12.54865195308289,
          13.011824031596403,
          13.011824031596403,
          13.907508839775334,
          14.257025416643538,
          14.859071390784445,
          15.03585924174793,
          15.091305162763343,
          15.104518910295058,
          15.414394244568124,
          15.438230808742977,
          16.389447902300276,
          16.900897659704157,
          17.01541680497899,
          17.51045733342192,
          17.716090881611493,
          20.994309370557204,
          21.029977852456526,
          21.52337745800336,
          21.892326016535847,
          23.231060006660393,
          23.700018497491712,
          24.136763080941797,
          24.283841591049672,
          24.45864306166525,
          27.86200351252893,
          33.79808527133354
         ],
         "yaxis": "y"
        },
        {
         "hovertemplate": "sample=S43<br>V40=%{x}<br>fat=%{y}<extra></extra>",
         "legendgroup": "S43",
         "marker": {
          "color": "#00cc96",
          "symbol": "circle"
         },
         "mode": "markers",
         "name": "S43",
         "showlegend": true,
         "type": "scattergl",
         "x": [
          2.74589,
          2.95221,
          4.76194,
          3.26277,
          3.76068,
          2.37369,
          3.2876,
          3.5466,
          3.48411,
          3.04925,
          3.10446,
          3.7358,
          2.55253,
          2.96731,
          2.88966,
          2.70322,
          2.90034,
          2.78845,
          3.49277,
          3.38955,
          2.36604,
          2.90705,
          2.84415,
          3.39535,
          3.09379,
          3.09045,
          2.94801,
          3.21746,
          2.68876,
          2.49187,
          3.71898,
          3.58251
         ],
         "xaxis": "x",
         "y": [
          28.9,
          21.5,
          48.2,
          11,
          10.1,
          14.6,
          45,
          46.3,
          11,
          6.7,
          8.5,
          16,
          13.5,
          9.6,
          17.2,
          28.9,
          20.9,
          7.1,
          44.7,
          15.5,
          6.4,
          9.2,
          6.6,
          43.8,
          29.7,
          26.1,
          18.2,
          35.2,
          7.3,
          5.2,
          10.2,
          35.2
         ],
         "yaxis": "y"
        },
        {
         "hovertemplate": "<b>OLS trendline</b><br>fat = 13.9263 * V40 + -22.9883<br>R<sup>2</sup>=0.243645<br><br>sample=S43<br>V40=%{x}<br>fat=%{y} <b>(trend)</b><extra></extra>",
         "legendgroup": "S43",
         "marker": {
          "color": "#00cc96",
          "symbol": "circle"
         },
         "mode": "lines",
         "name": "S43",
         "showlegend": false,
         "type": "scattergl",
         "x": [
          2.36604,
          2.37369,
          2.49187,
          2.55253,
          2.68876,
          2.70322,
          2.74589,
          2.78845,
          2.84415,
          2.88966,
          2.90034,
          2.90705,
          2.94801,
          2.95221,
          2.96731,
          3.04925,
          3.09045,
          3.09379,
          3.10446,
          3.21746,
          3.26277,
          3.2876,
          3.38955,
          3.39535,
          3.48411,
          3.49277,
          3.5466,
          3.58251,
          3.71898,
          3.7358,
          3.76068,
          4.76194
         ],
         "xaxis": "x",
         "y": [
          9.96181437339673,
          10.068350306024723,
          11.714156386805922,
          12.558923664350242,
          14.456098841070688,
          14.657472643136149,
          15.2517064006834,
          15.844408269003313,
          16.620101268660722,
          17.253885620804507,
          17.402618138512604,
          17.496063381379773,
          18.066483224574885,
          18.124973540527503,
          18.335260152642885,
          19.47637836434716,
          20.050140511310996,
          20.096654238759033,
          20.2452474938101,
          21.818915518249728,
          22.44991461725291,
          22.79570379465854,
          24.215486583079954,
          24.29625892415739,
          25.532354267956162,
          25.652955728944196,
          26.40260661173698,
          26.90269881313191,
          28.80321629362108,
          29.03745608274563,
          29.383941573436413,
          43.32775437122777
         ],
         "yaxis": "y"
        },
        {
         "hovertemplate": "sample=S44<br>V40=%{x}<br>fat=%{y}<extra></extra>",
         "legendgroup": "S44",
         "marker": {
          "color": "#ab63fa",
          "symbol": "circle"
         },
         "mode": "markers",
         "name": "S44",
         "showlegend": true,
         "type": "scattergl",
         "x": [
          2.47019,
          3.39535,
          2.84415,
          2.24446,
          3.60549,
          3.09379,
          2.30851,
          2.99942,
          4.76194,
          2.87857,
          2.93442,
          2.36604,
          2.79681,
          2.90034,
          3.02501,
          2.79331,
          2.57189,
          2.69671,
          3.50519,
          2.24446,
          2.98908,
          2.62087,
          3.14615,
          5.15256,
          2.79681,
          3.00645,
          3.30932,
          3.48094,
          3.48094,
          3.53807,
          2.42779,
          3.94496
         ],
         "xaxis": "x",
         "y": [
          8.1,
          43.8,
          6.6,
          0.9,
          6.1,
          29.7,
          7.1,
          16.4,
          48.2,
          22.5,
          33.8,
          6.4,
          7.2,
          20.9,
          16.3,
          5.6,
          7.9,
          13.5,
          42.7,
          0.9,
          10.9,
          5.6,
          37.8,
          48.5,
          7.2,
          7.9,
          32.2,
          4,
          4,
          10.1,
          6.4,
          31.5
         ],
         "yaxis": "y"
        },
        {
         "hovertemplate": "<b>OLS trendline</b><br>fat = 15.6931 * V40 + -31.0126<br>R<sup>2</sup>=0.475857<br><br>sample=S44<br>V40=%{x}<br>fat=%{y} <b>(trend)</b><extra></extra>",
         "legendgroup": "S44",
         "marker": {
          "color": "#ab63fa",
          "symbol": "circle"
         },
         "mode": "lines",
         "name": "S44",
         "showlegend": false,
         "type": "scattergl",
         "x": [
          2.24446,
          2.24446,
          2.30851,
          2.36604,
          2.42779,
          2.47019,
          2.57189,
          2.62087,
          2.69671,
          2.79331,
          2.79681,
          2.79681,
          2.84415,
          2.87857,
          2.90034,
          2.93442,
          2.98908,
          2.99942,
          3.00645,
          3.02501,
          3.09379,
          3.14615,
          3.30932,
          3.39535,
          3.48094,
          3.48094,
          3.50519,
          3.53807,
          3.60549,
          3.94496,
          4.76194,
          5.15256
         ],
         "xaxis": "x",
         "y": [
          4.209967366656805,
          4.209967366656805,
          5.215109951513725,
          6.117933572229077,
          7.086982043968568,
          7.752369172741929,
          9.34835669623839,
          10.117004374712891,
          11.307168522028249,
          12.823121272959995,
          12.87804709726911,
          12.87804709726911,
          13.620958103781632,
          14.161114353130188,
          14.502752980332922,
          15.03757357817716,
          15.895358022959037,
          16.057624601060844,
          16.167947042458877,
          16.45921084222382,
          17.53858175536135,
          18.3602720870258,
          20.920914016317035,
          22.27099077783523,
          23.61416257858314,
          23.61416257858314,
          23.994720075582052,
          24.510708962234595,
          25.56873726935487,
          30.89607143455983,
          43.717014275721496,
          49.847050130472624
         ],
         "yaxis": "y"
        },
        {
         "hovertemplate": "sample=S45<br>V40=%{x}<br>fat=%{y}<extra></extra>",
         "legendgroup": "S45",
         "marker": {
          "color": "#FFA15A",
          "symbol": "circle"
         },
         "mode": "markers",
         "name": "S45",
         "showlegend": true,
         "type": "scattergl",
         "x": [
          5.15256,
          3.60287,
          2.62234,
          2.96927,
          3.71898,
          4.1284,
          4.07309,
          3.02177,
          2.32108,
          2.90705,
          3.51876,
          2.84727,
          3.10992,
          3.65631,
          3.04555,
          3.72874,
          3.07224,
          2.49226,
          2.42973,
          3.51002,
          3.72874,
          3.07342,
          3.55286,
          3.04925,
          3.02501,
          4.30027,
          3.34209,
          3.17035,
          2.42779,
          4.76194,
          3.09723,
          3.17035
         ],
         "xaxis": "x",
         "y": [
          48.5,
          10.5,
          20.6,
          6.4,
          10.2,
          26.5,
          21.2,
          7,
          9.3,
          9.2,
          47.8,
          7.2,
          8.2,
          31.1,
          12.5,
          11.7,
          6.3,
          13.8,
          11,
          42.7,
          11.7,
          10.9,
          46,
          6.7,
          16.3,
          22.4,
          14,
          7.7,
          6.4,
          48.2,
          42.5,
          7.7
         ],
         "yaxis": "y"
        },
        {
         "hovertemplate": "<b>OLS trendline</b><br>fat = 13.2573 * V40 + -25.3561<br>R<sup>2</sup>=0.355100<br><br>sample=S45<br>V40=%{x}<br>fat=%{y} <b>(trend)</b><extra></extra>",
         "legendgroup": "S45",
         "marker": {
          "color": "#FFA15A",
          "symbol": "circle"
         },
         "mode": "lines",
         "name": "S45",
         "showlegend": false,
         "type": "scattergl",
         "x": [
          2.32108,
          2.42779,
          2.42973,
          2.49226,
          2.62234,
          2.84727,
          2.90705,
          2.96927,
          3.02177,
          3.02501,
          3.04555,
          3.04925,
          3.07224,
          3.07342,
          3.09723,
          3.10992,
          3.17035,
          3.17035,
          3.34209,
          3.51002,
          3.51876,
          3.55286,
          3.60287,
          3.65631,
          3.71898,
          3.72874,
          3.72874,
          4.07309,
          4.1284,
          4.30027,
          4.76194,
          5.15256
         ],
         "xaxis": "x",
         "y": [
          5.415192871309387,
          6.829882863983386,
          6.85560208978967,
          7.684583115390879,
          9.409096977700258,
          12.391068864610233,
          13.183592224764404,
          14.00846347716977,
          14.704473453885967,
          14.747427212449026,
          15.019732830006177,
          15.068784961698555,
          15.3735710448358,
          15.389214697645805,
          15.704871793752716,
          15.873107348124677,
          16.67424797465725,
          16.67424797465725,
          18.95106232515704,
          21.177366237346575,
          21.29323532680371,
          21.745310378346993,
          22.4083095961675,
          23.116781465800138,
          23.94761851800593,
          24.0770100870107,
          24.0770100870107,
          28.642172667624436,
          29.37543574976106,
          31.653973553536538,
          37.7744864287854,
          42.95306580221169
         ],
         "yaxis": "y"
        },
        {
         "hovertemplate": "sample=S46<br>V40=%{x}<br>fat=%{y}<extra></extra>",
         "legendgroup": "S46",
         "marker": {
          "color": "#19d3f3",
          "symbol": "circle"
         },
         "mode": "markers",
         "name": "S46",
         "showlegend": true,
         "type": "scattergl",
         "x": [
          2.63122,
          2.72708,
          4.14779,
          3.48411,
          2.55253,
          3.1719,
          4.03525,
          3.56187,
          3.94548,
          2.94262,
          3.48411,
          3.94548,
          2.72578,
          2.42413,
          2.72724,
          2.72432,
          2.42413,
          3.7901,
          2.71371,
          4.63278,
          2.79331,
          3.1719,
          3.65631,
          3.53179,
          2.97829,
          3.02177,
          2.97042,
          2.47021,
          2.84727,
          3.04555,
          3.50519,
          2.97829
         ],
         "xaxis": "x",
         "y": [
          9,
          5.6,
          32,
          11,
          13.5,
          25.5,
          35.1,
          46,
          30.4,
          35.5,
          11,
          30.4,
          17.7,
          4.8,
          27.3,
          10.6,
          4.8,
          28.3,
          11.2,
          17.6,
          5.6,
          25.5,
          31.1,
          25.1,
          17.4,
          7,
          14.3,
          12.7,
          7.2,
          12.5,
          42.7,
          17.4
         ],
         "yaxis": "y"
        },
        {
         "hovertemplate": "<b>OLS trendline</b><br>fat = 12.3509 * V40 + -19.7203<br>R<sup>2</sup>=0.361302<br><br>sample=S46<br>V40=%{x}<br>fat=%{y} <b>(trend)</b><extra></extra>",
         "legendgroup": "S46",
         "marker": {
          "color": "#19d3f3",
          "symbol": "circle"
         },
         "mode": "lines",
         "name": "S46",
         "showlegend": false,
         "type": "scattergl",
         "x": [
          2.42413,
          2.42413,
          2.47021,
          2.55253,
          2.63122,
          2.71371,
          2.72432,
          2.72578,
          2.72708,
          2.72724,
          2.79331,
          2.84727,
          2.94262,
          2.97042,
          2.97829,
          2.97829,
          3.02177,
          3.04555,
          3.1719,
          3.1719,
          3.48411,
          3.48411,
          3.50519,
          3.53179,
          3.56187,
          3.65631,
          3.7901,
          3.94548,
          3.94548,
          4.03525,
          4.14779,
          4.63278
         ],
         "xaxis": "x",
         "y": [
          10.219848763803551,
          10.219848763803551,
          10.78897711049084,
          11.805701188166577,
          12.777591587489987,
          13.796415314014176,
          13.927458103908975,
          13.945490382254533,
          13.961546520507433,
          13.963522660600098,
          14.779545010114624,
          15.445998256365627,
          16.623654242837702,
          16.967008583938103,
          17.064209974746028,
          17.064209974746028,
          17.60122604492753,
          17.894929866199746,
          19.45546299562551,
          19.45546299562551,
          23.31152986019233,
          23.31152986019233,
          23.57188631740084,
          23.900419607806263,
          24.271933945227133,
          25.43835063492218,
          27.09077427865683,
          29.009853326145354,
          29.009853326145354,
          30.118591426885764,
          31.50855896456345,
          37.49861011169604
         ],
         "yaxis": "y"
        },
        {
         "hovertemplate": "sample=S47<br>V40=%{x}<br>fat=%{y}<extra></extra>",
         "legendgroup": "S47",
         "marker": {
          "color": "#FF6692",
          "symbol": "circle"
         },
         "mode": "markers",
         "name": "S47",
         "showlegend": true,
         "type": "scattergl",
         "x": [
          2.74815,
          2.84415,
          2.84415,
          3.18116,
          4.03525,
          3.7358,
          3.02501,
          2.37369,
          3.28418,
          3.56187,
          3.58079,
          2.74206,
          3.50519,
          2.71371,
          2.90705,
          3.30932,
          2.37369,
          4.01028,
          2.68428,
          2.78689,
          3.56187,
          2.65624,
          3.94548,
          2.72432,
          3.41044,
          3.53807,
          4.30451,
          4.30027,
          2.99246,
          2.72708,
          3.51002,
          3.07224
         ],
         "xaxis": "x",
         "y": [
          29.2,
          6.6,
          6.6,
          2.9,
          35.1,
          16,
          16.3,
          14.6,
          7.8,
          46,
          31.3,
          6.8,
          42.7,
          11.2,
          9.2,
          32.2,
          14.6,
          10,
          6.8,
          28.1,
          46,
          5.2,
          30.4,
          10.6,
          34.2,
          10.1,
          17,
          22.4,
          5.9,
          5.6,
          42.7,
          6.3
         ],
         "yaxis": "y"
        },
        {
         "hovertemplate": "<b>OLS trendline</b><br>fat = 11.4497 * V40 + -17.7749<br>R<sup>2</sup>=0.201581<br><br>sample=S47<br>V40=%{x}<br>fat=%{y} <b>(trend)</b><extra></extra>",
         "legendgroup": "S47",
         "marker": {
          "color": "#FF6692",
          "symbol": "circle"
         },
         "mode": "lines",
         "name": "S47",
         "showlegend": false,
         "type": "scattergl",
         "x": [
          2.37369,
          2.37369,
          2.65624,
          2.68428,
          2.71371,
          2.72432,
          2.72708,
          2.74206,
          2.74815,
          2.78689,
          2.84415,
          2.84415,
          2.90705,
          2.99246,
          3.02501,
          3.07224,
          3.18116,
          3.28418,
          3.30932,
          3.41044,
          3.50519,
          3.51002,
          3.53807,
          3.56187,
          3.56187,
          3.58079,
          3.7358,
          3.94548,
          4.01028,
          4.03525,
          4.30027,
          4.30451
         ],
         "xaxis": "x",
         "y": [
          9.403034191370768,
          9.403034191370768,
          12.638139712551798,
          12.959188584659096,
          13.296152504278126,
          13.417633550392907,
          13.449234651927004,
          13.620750775470771,
          13.690479292986229,
          14.134039681910505,
          14.789648041998365,
          14.789648041998365,
          15.50983256609069,
          16.487749262477426,
          16.860436166439353,
          17.401204291604383,
          18.648302834754407,
          19.827848298538054,
          20.11569311468561,
          21.27348419697839,
          22.358340852904423,
          22.413642780589097,
          22.73480614944108,
          23.00730840180034,
          23.00730840180034,
          23.22393624275148,
          24.998750282172015,
          27.399518024806024,
          28.141456930389214,
          28.427355301877054,
          31.461748029618686,
          31.510294649366717
         ],
         "yaxis": "y"
        },
        {
         "hovertemplate": "sample=S48<br>V40=%{x}<br>fat=%{y}<extra></extra>",
         "legendgroup": "S48",
         "marker": {
          "color": "#B6E880",
          "symbol": "circle"
         },
         "mode": "markers",
         "name": "S48",
         "showlegend": true,
         "type": "scattergl",
         "x": [
          3.14615,
          3.84111,
          2.764,
          3.84111,
          2.98908,
          2.78689,
          2.72724,
          2.8564,
          4.63278,
          3.00284,
          3.32938,
          2.62159,
          3.42106,
          3.32916,
          3.2876,
          3.09379,
          2.79331,
          2.87857,
          3.07224,
          2.48354,
          3.38955,
          3.29819,
          3.18116,
          2.90705,
          2.74206,
          3.42185,
          2.88087,
          3.84067,
          3.02172,
          3.34338,
          3.60549,
          3.51876
         ],
         "xaxis": "x",
         "y": [
          37.8,
          10.1,
          4.6,
          10.1,
          10.9,
          28.1,
          27.3,
          18.6,
          17.6,
          5.9,
          45.7,
          16.4,
          49.1,
          47.7,
          45,
          29.7,
          5.6,
          22.5,
          6.3,
          12.2,
          15.5,
          18.8,
          2.9,
          9.2,
          6.8,
          18.8,
          4.7,
          31.5,
          27.2,
          29.8,
          6.1,
          47.8
         ],
         "yaxis": "y"
        },
        {
         "hovertemplate": "<b>OLS trendline</b><br>fat = 6.73725 * V40 + -0.538325<br>R<sup>2</sup>=0.041521<br><br>sample=S48<br>V40=%{x}<br>fat=%{y} <b>(trend)</b><extra></extra>",
         "legendgroup": "S48",
         "marker": {
          "color": "#B6E880",
          "symbol": "circle"
         },
         "mode": "lines",
         "name": "S48",
         "showlegend": false,
         "type": "scattergl",
         "x": [
          2.48354,
          2.62159,
          2.72724,
          2.74206,
          2.764,
          2.78689,
          2.79331,
          2.8564,
          2.87857,
          2.88087,
          2.90705,
          2.98908,
          3.00284,
          3.02172,
          3.07224,
          3.09379,
          3.14615,
          3.18116,
          3.2876,
          3.29819,
          3.32916,
          3.32938,
          3.34338,
          3.38955,
          3.42106,
          3.42185,
          3.51876,
          3.60549,
          3.84067,
          3.84111,
          3.84111,
          4.63278
         ],
         "xaxis": "x",
         "y": [
          16.193893704553062,
          17.123970419812625,
          17.835760386977952,
          17.93560636249513,
          18.083421524630552,
          18.237637069811946,
          18.2808901847121,
          18.705942991417828,
          18.855307719974906,
          18.870803384191472,
          19.04718446644787,
          19.599840699354367,
          19.692545194841305,
          19.819744386323382,
          20.16011001946292,
          20.305297655926832,
          20.658059820439625,
          20.893930778797014,
          21.611043169758464,
          21.682390597607785,
          21.891043084906507,
          21.89252527887505,
          21.986846713236755,
          22.29790532927105,
          22.510195929038012,
          22.515518352834135,
          23.168424795976506,
          23.752746081847295,
          25.33721143421777,
          25.340175822154855,
          25.340175822154855,
          30.673850817950147
         ],
         "yaxis": "y"
        },
        {
         "hovertemplate": "sample=S49<br>V40=%{x}<br>fat=%{y}<extra></extra>",
         "legendgroup": "S49",
         "marker": {
          "color": "#FF97FF",
          "symbol": "circle"
         },
         "mode": "markers",
         "name": "S49",
         "showlegend": true,
         "type": "scattergl",
         "x": [
          3.07224,
          2.3816,
          2.78845,
          3.1999,
          2.74815,
          2.29884,
          2.67575,
          2.24446,
          2.55253,
          4.0604,
          3.31266,
          2.5451,
          2.24446,
          3.14371,
          4.30451,
          2.36604,
          4.14779,
          3.32916,
          2.47019,
          2.42973,
          2.81769,
          3.06597,
          2.76642,
          3.76068,
          3.24301,
          3.54847,
          2.48354,
          3.60287,
          2.88087,
          4.10781,
          4.30027,
          2.78095
         ],
         "xaxis": "x",
         "y": [
          6.3,
          17.7,
          7.1,
          19.4,
          29.2,
          2,
          7.3,
          0.9,
          13.5,
          35.8,
          23.3,
          11.2,
          0.9,
          25.5,
          17,
          6.4,
          32,
          47.7,
          8.1,
          11,
          12.5,
          7.2,
          8.4,
          10.1,
          18.3,
          26,
          12.2,
          10.5,
          4.7,
          11.1,
          22.4,
          3.9
         ],
         "yaxis": "y"
        },
        {
         "hovertemplate": "<b>OLS trendline</b><br>fat = 9.13795 * V40 + -13.2169<br>R<sup>2</sup>=0.283794<br><br>sample=S49<br>V40=%{x}<br>fat=%{y} <b>(trend)</b><extra></extra>",
         "legendgroup": "S49",
         "marker": {
          "color": "#FF97FF",
          "symbol": "circle"
         },
         "mode": "lines",
         "name": "S49",
         "showlegend": false,
         "type": "scattergl",
         "x": [
          2.24446,
          2.24446,
          2.29884,
          2.36604,
          2.3816,
          2.42973,
          2.47019,
          2.48354,
          2.5451,
          2.55253,
          2.67575,
          2.74815,
          2.76642,
          2.78095,
          2.78845,
          2.81769,
          2.88087,
          3.06597,
          3.07224,
          3.14371,
          3.1999,
          3.24301,
          3.31266,
          3.32916,
          3.54847,
          3.60287,
          3.76068,
          4.0604,
          4.10781,
          4.14779,
          4.30027,
          4.30451
         ],
         "xaxis": "x",
         "y": [
          7.292824756876621,
          7.292824756876621,
          7.789746253543106,
          8.403816216323309,
          8.546002654133728,
          8.985811989083304,
          9.355533279173885,
          9.477524856601201,
          10.040056804648072,
          10.10795174249713,
          11.233929433178337,
          11.895516714507012,
          12.062466985637881,
          12.19524133919735,
          12.263775933257643,
          12.530969470634028,
          13.10830489099792,
          14.799738672405903,
          14.857033593040304,
          15.510122584705504,
          16.023583763405206,
          16.417520610063754,
          17.05397854023699,
          17.20475464716963,
          19.208797556951282,
          19.70590181253526,
          21.147961051022527,
          23.88678618858924,
          24.32001620250903,
          24.685351278579752,
          26.078705265554845,
          26.11745015606359
         ],
         "yaxis": "y"
        },
        {
         "hovertemplate": "sample=S50<br>V40=%{x}<br>fat=%{y}<extra></extra>",
         "legendgroup": "S50",
         "marker": {
          "color": "#FECB52",
          "symbol": "circle"
         },
         "mode": "markers",
         "name": "S50",
         "showlegend": true,
         "type": "scattergl",
         "x": [
          2.47019,
          2.49226,
          3.00284,
          3.12825,
          2.24446,
          2.36604,
          3.04338,
          3.60549,
          3.51876,
          3.56187,
          4.14779,
          2.42413,
          3.65631,
          3.09723,
          2.48354,
          2.3816,
          2.79681,
          2.75556,
          4.30451,
          3.30932,
          3.48656,
          3.10992,
          2.95571,
          3.48656,
          2.24446,
          2.764,
          3.34209,
          4.10781,
          2.84727,
          3.17624,
          4.07309,
          3.94548
         ],
         "xaxis": "x",
         "y": [
          8.1,
          13.8,
          5.9,
          28.8,
          0.9,
          6.4,
          8.6,
          6.1,
          47.8,
          46,
          32,
          4.8,
          31.1,
          42.5,
          12.2,
          17.7,
          7.2,
          6,
          17,
          32.2,
          10.1,
          8.2,
          15.4,
          10.1,
          0.9,
          4.6,
          14,
          11.1,
          7.2,
          6.4,
          21.2,
          30.4
         ],
         "yaxis": "y"
        },
        {
         "hovertemplate": "<b>OLS trendline</b><br>fat = 10.8297 * V40 + -17.8699<br>R<sup>2</sup>=0.240523<br><br>sample=S50<br>V40=%{x}<br>fat=%{y} <b>(trend)</b><extra></extra>",
         "legendgroup": "S50",
         "marker": {
          "color": "#FECB52",
          "symbol": "circle"
         },
         "mode": "lines",
         "name": "S50",
         "showlegend": false,
         "type": "scattergl",
         "x": [
          2.24446,
          2.24446,
          2.36604,
          2.3816,
          2.42413,
          2.47019,
          2.48354,
          2.49226,
          2.75556,
          2.764,
          2.79681,
          2.84727,
          2.95571,
          3.00284,
          3.04338,
          3.09723,
          3.10992,
          3.12825,
          3.17624,
          3.30932,
          3.34209,
          3.48656,
          3.48656,
          3.51876,
          3.56187,
          3.60549,
          3.65631,
          3.94548,
          4.07309,
          4.10781,
          4.14779,
          4.30451
         ],
         "xaxis": "x",
         "y": [
          6.436878264204218,
          6.436878264204218,
          7.7535518906260315,
          7.922061856303969,
          8.38264854269745,
          8.881464032358487,
          9.02604038465929,
          9.12047527545052,
          11.971932471016107,
          12.06333504880028,
          12.418657155091609,
          12.9651232777207,
          14.139494786597009,
          14.64989804382073,
          15.088933648485483,
          15.672112417878598,
          15.809541175234184,
          16.00804938030338,
          16.52776617033449,
          17.9689812238319,
          18.323870142550792,
          19.888435357299596,
          19.888435357299596,
          20.237151353111262,
          20.70401925930508,
          21.176410307047473,
          21.726775117828492,
          24.85839637586761,
          26.24037302883428,
          26.61637984170947,
          27.0493508203601,
          28.746579729167696
         ],
         "yaxis": "y"
        }
       ],
       "layout": {
        "legend": {
         "title": {
          "text": "sample"
         },
         "tracegroupgap": 0
        },
        "template": {
         "data": {
          "bar": [
           {
            "error_x": {
             "color": "#2a3f5f"
            },
            "error_y": {
             "color": "#2a3f5f"
            },
            "marker": {
             "line": {
              "color": "#E5ECF6",
              "width": 0.5
             },
             "pattern": {
              "fillmode": "overlay",
              "size": 10,
              "solidity": 0.2
             }
            },
            "type": "bar"
           }
          ],
          "barpolar": [
           {
            "marker": {
             "line": {
              "color": "#E5ECF6",
              "width": 0.5
             },
             "pattern": {
              "fillmode": "overlay",
              "size": 10,
              "solidity": 0.2
             }
            },
            "type": "barpolar"
           }
          ],
          "carpet": [
           {
            "aaxis": {
             "endlinecolor": "#2a3f5f",
             "gridcolor": "white",
             "linecolor": "white",
             "minorgridcolor": "white",
             "startlinecolor": "#2a3f5f"
            },
            "baxis": {
             "endlinecolor": "#2a3f5f",
             "gridcolor": "white",
             "linecolor": "white",
             "minorgridcolor": "white",
             "startlinecolor": "#2a3f5f"
            },
            "type": "carpet"
           }
          ],
          "choropleth": [
           {
            "colorbar": {
             "outlinewidth": 0,
             "ticks": ""
            },
            "type": "choropleth"
           }
          ],
          "contour": [
           {
            "colorbar": {
             "outlinewidth": 0,
             "ticks": ""
            },
            "colorscale": [
             [
              0,
              "#0d0887"
             ],
             [
              0.1111111111111111,
              "#46039f"
             ],
             [
              0.2222222222222222,
              "#7201a8"
             ],
             [
              0.3333333333333333,
              "#9c179e"
             ],
             [
              0.4444444444444444,
              "#bd3786"
             ],
             [
              0.5555555555555556,
              "#d8576b"
             ],
             [
              0.6666666666666666,
              "#ed7953"
             ],
             [
              0.7777777777777778,
              "#fb9f3a"
             ],
             [
              0.8888888888888888,
              "#fdca26"
             ],
             [
              1,
              "#f0f921"
             ]
            ],
            "type": "contour"
           }
          ],
          "contourcarpet": [
           {
            "colorbar": {
             "outlinewidth": 0,
             "ticks": ""
            },
            "type": "contourcarpet"
           }
          ],
          "heatmap": [
           {
            "colorbar": {
             "outlinewidth": 0,
             "ticks": ""
            },
            "colorscale": [
             [
              0,
              "#0d0887"
             ],
             [
              0.1111111111111111,
              "#46039f"
             ],
             [
              0.2222222222222222,
              "#7201a8"
             ],
             [
              0.3333333333333333,
              "#9c179e"
             ],
             [
              0.4444444444444444,
              "#bd3786"
             ],
             [
              0.5555555555555556,
              "#d8576b"
             ],
             [
              0.6666666666666666,
              "#ed7953"
             ],
             [
              0.7777777777777778,
              "#fb9f3a"
             ],
             [
              0.8888888888888888,
              "#fdca26"
             ],
             [
              1,
              "#f0f921"
             ]
            ],
            "type": "heatmap"
           }
          ],
          "heatmapgl": [
           {
            "colorbar": {
             "outlinewidth": 0,
             "ticks": ""
            },
            "colorscale": [
             [
              0,
              "#0d0887"
             ],
             [
              0.1111111111111111,
              "#46039f"
             ],
             [
              0.2222222222222222,
              "#7201a8"
             ],
             [
              0.3333333333333333,
              "#9c179e"
             ],
             [
              0.4444444444444444,
              "#bd3786"
             ],
             [
              0.5555555555555556,
              "#d8576b"
             ],
             [
              0.6666666666666666,
              "#ed7953"
             ],
             [
              0.7777777777777778,
              "#fb9f3a"
             ],
             [
              0.8888888888888888,
              "#fdca26"
             ],
             [
              1,
              "#f0f921"
             ]
            ],
            "type": "heatmapgl"
           }
          ],
          "histogram": [
           {
            "marker": {
             "pattern": {
              "fillmode": "overlay",
              "size": 10,
              "solidity": 0.2
             }
            },
            "type": "histogram"
           }
          ],
          "histogram2d": [
           {
            "colorbar": {
             "outlinewidth": 0,
             "ticks": ""
            },
            "colorscale": [
             [
              0,
              "#0d0887"
             ],
             [
              0.1111111111111111,
              "#46039f"
             ],
             [
              0.2222222222222222,
              "#7201a8"
             ],
             [
              0.3333333333333333,
              "#9c179e"
             ],
             [
              0.4444444444444444,
              "#bd3786"
             ],
             [
              0.5555555555555556,
              "#d8576b"
             ],
             [
              0.6666666666666666,
              "#ed7953"
             ],
             [
              0.7777777777777778,
              "#fb9f3a"
             ],
             [
              0.8888888888888888,
              "#fdca26"
             ],
             [
              1,
              "#f0f921"
             ]
            ],
            "type": "histogram2d"
           }
          ],
          "histogram2dcontour": [
           {
            "colorbar": {
             "outlinewidth": 0,
             "ticks": ""
            },
            "colorscale": [
             [
              0,
              "#0d0887"
             ],
             [
              0.1111111111111111,
              "#46039f"
             ],
             [
              0.2222222222222222,
              "#7201a8"
             ],
             [
              0.3333333333333333,
              "#9c179e"
             ],
             [
              0.4444444444444444,
              "#bd3786"
             ],
             [
              0.5555555555555556,
              "#d8576b"
             ],
             [
              0.6666666666666666,
              "#ed7953"
             ],
             [
              0.7777777777777778,
              "#fb9f3a"
             ],
             [
              0.8888888888888888,
              "#fdca26"
             ],
             [
              1,
              "#f0f921"
             ]
            ],
            "type": "histogram2dcontour"
           }
          ],
          "mesh3d": [
           {
            "colorbar": {
             "outlinewidth": 0,
             "ticks": ""
            },
            "type": "mesh3d"
           }
          ],
          "parcoords": [
           {
            "line": {
             "colorbar": {
              "outlinewidth": 0,
              "ticks": ""
             }
            },
            "type": "parcoords"
           }
          ],
          "pie": [
           {
            "automargin": true,
            "type": "pie"
           }
          ],
          "scatter": [
           {
            "marker": {
             "colorbar": {
              "outlinewidth": 0,
              "ticks": ""
             }
            },
            "type": "scatter"
           }
          ],
          "scatter3d": [
           {
            "line": {
             "colorbar": {
              "outlinewidth": 0,
              "ticks": ""
             }
            },
            "marker": {
             "colorbar": {
              "outlinewidth": 0,
              "ticks": ""
             }
            },
            "type": "scatter3d"
           }
          ],
          "scattercarpet": [
           {
            "marker": {
             "colorbar": {
              "outlinewidth": 0,
              "ticks": ""
             }
            },
            "type": "scattercarpet"
           }
          ],
          "scattergeo": [
           {
            "marker": {
             "colorbar": {
              "outlinewidth": 0,
              "ticks": ""
             }
            },
            "type": "scattergeo"
           }
          ],
          "scattergl": [
           {
            "marker": {
             "colorbar": {
              "outlinewidth": 0,
              "ticks": ""
             }
            },
            "type": "scattergl"
           }
          ],
          "scattermapbox": [
           {
            "marker": {
             "colorbar": {
              "outlinewidth": 0,
              "ticks": ""
             }
            },
            "type": "scattermapbox"
           }
          ],
          "scatterpolar": [
           {
            "marker": {
             "colorbar": {
              "outlinewidth": 0,
              "ticks": ""
             }
            },
            "type": "scatterpolar"
           }
          ],
          "scatterpolargl": [
           {
            "marker": {
             "colorbar": {
              "outlinewidth": 0,
              "ticks": ""
             }
            },
            "type": "scatterpolargl"
           }
          ],
          "scatterternary": [
           {
            "marker": {
             "colorbar": {
              "outlinewidth": 0,
              "ticks": ""
             }
            },
            "type": "scatterternary"
           }
          ],
          "surface": [
           {
            "colorbar": {
             "outlinewidth": 0,
             "ticks": ""
            },
            "colorscale": [
             [
              0,
              "#0d0887"
             ],
             [
              0.1111111111111111,
              "#46039f"
             ],
             [
              0.2222222222222222,
              "#7201a8"
             ],
             [
              0.3333333333333333,
              "#9c179e"
             ],
             [
              0.4444444444444444,
              "#bd3786"
             ],
             [
              0.5555555555555556,
              "#d8576b"
             ],
             [
              0.6666666666666666,
              "#ed7953"
             ],
             [
              0.7777777777777778,
              "#fb9f3a"
             ],
             [
              0.8888888888888888,
              "#fdca26"
             ],
             [
              1,
              "#f0f921"
             ]
            ],
            "type": "surface"
           }
          ],
          "table": [
           {
            "cells": {
             "fill": {
              "color": "#EBF0F8"
             },
             "line": {
              "color": "white"
             }
            },
            "header": {
             "fill": {
              "color": "#C8D4E3"
             },
             "line": {
              "color": "white"
             }
            },
            "type": "table"
           }
          ]
         },
         "layout": {
          "annotationdefaults": {
           "arrowcolor": "#2a3f5f",
           "arrowhead": 0,
           "arrowwidth": 1
          },
          "autotypenumbers": "strict",
          "coloraxis": {
           "colorbar": {
            "outlinewidth": 0,
            "ticks": ""
           }
          },
          "colorscale": {
           "diverging": [
            [
             0,
             "#8e0152"
            ],
            [
             0.1,
             "#c51b7d"
            ],
            [
             0.2,
             "#de77ae"
            ],
            [
             0.3,
             "#f1b6da"
            ],
            [
             0.4,
             "#fde0ef"
            ],
            [
             0.5,
             "#f7f7f7"
            ],
            [
             0.6,
             "#e6f5d0"
            ],
            [
             0.7,
             "#b8e186"
            ],
            [
             0.8,
             "#7fbc41"
            ],
            [
             0.9,
             "#4d9221"
            ],
            [
             1,
             "#276419"
            ]
           ],
           "sequential": [
            [
             0,
             "#0d0887"
            ],
            [
             0.1111111111111111,
             "#46039f"
            ],
            [
             0.2222222222222222,
             "#7201a8"
            ],
            [
             0.3333333333333333,
             "#9c179e"
            ],
            [
             0.4444444444444444,
             "#bd3786"
            ],
            [
             0.5555555555555556,
             "#d8576b"
            ],
            [
             0.6666666666666666,
             "#ed7953"
            ],
            [
             0.7777777777777778,
             "#fb9f3a"
            ],
            [
             0.8888888888888888,
             "#fdca26"
            ],
            [
             1,
             "#f0f921"
            ]
           ],
           "sequentialminus": [
            [
             0,
             "#0d0887"
            ],
            [
             0.1111111111111111,
             "#46039f"
            ],
            [
             0.2222222222222222,
             "#7201a8"
            ],
            [
             0.3333333333333333,
             "#9c179e"
            ],
            [
             0.4444444444444444,
             "#bd3786"
            ],
            [
             0.5555555555555556,
             "#d8576b"
            ],
            [
             0.6666666666666666,
             "#ed7953"
            ],
            [
             0.7777777777777778,
             "#fb9f3a"
            ],
            [
             0.8888888888888888,
             "#fdca26"
            ],
            [
             1,
             "#f0f921"
            ]
           ]
          },
          "colorway": [
           "#636efa",
           "#EF553B",
           "#00cc96",
           "#ab63fa",
           "#FFA15A",
           "#19d3f3",
           "#FF6692",
           "#B6E880",
           "#FF97FF",
           "#FECB52"
          ],
          "font": {
           "color": "#2a3f5f"
          },
          "geo": {
           "bgcolor": "white",
           "lakecolor": "white",
           "landcolor": "#E5ECF6",
           "showlakes": true,
           "showland": true,
           "subunitcolor": "white"
          },
          "hoverlabel": {
           "align": "left"
          },
          "hovermode": "closest",
          "mapbox": {
           "style": "light"
          },
          "paper_bgcolor": "white",
          "plot_bgcolor": "#E5ECF6",
          "polar": {
           "angularaxis": {
            "gridcolor": "white",
            "linecolor": "white",
            "ticks": ""
           },
           "bgcolor": "#E5ECF6",
           "radialaxis": {
            "gridcolor": "white",
            "linecolor": "white",
            "ticks": ""
           }
          },
          "scene": {
           "xaxis": {
            "backgroundcolor": "#E5ECF6",
            "gridcolor": "white",
            "gridwidth": 2,
            "linecolor": "white",
            "showbackground": true,
            "ticks": "",
            "zerolinecolor": "white"
           },
           "yaxis": {
            "backgroundcolor": "#E5ECF6",
            "gridcolor": "white",
            "gridwidth": 2,
            "linecolor": "white",
            "showbackground": true,
            "ticks": "",
            "zerolinecolor": "white"
           },
           "zaxis": {
            "backgroundcolor": "#E5ECF6",
            "gridcolor": "white",
            "gridwidth": 2,
            "linecolor": "white",
            "showbackground": true,
            "ticks": "",
            "zerolinecolor": "white"
           }
          },
          "shapedefaults": {
           "line": {
            "color": "#2a3f5f"
           }
          },
          "ternary": {
           "aaxis": {
            "gridcolor": "white",
            "linecolor": "white",
            "ticks": ""
           },
           "baxis": {
            "gridcolor": "white",
            "linecolor": "white",
            "ticks": ""
           },
           "bgcolor": "#E5ECF6",
           "caxis": {
            "gridcolor": "white",
            "linecolor": "white",
            "ticks": ""
           }
          },
          "title": {
           "x": 0.05
          },
          "xaxis": {
           "automargin": true,
           "gridcolor": "white",
           "linecolor": "white",
           "ticks": "",
           "title": {
            "standoff": 15
           },
           "zerolinecolor": "white",
           "zerolinewidth": 2
          },
          "yaxis": {
           "automargin": true,
           "gridcolor": "white",
           "linecolor": "white",
           "ticks": "",
           "title": {
            "standoff": 15
           },
           "zerolinecolor": "white",
           "zerolinewidth": 2
          }
         }
        },
        "title": {
         "text": "figure 7 : <b>Bootstrap - OLS Dependent variable (<i>fat</i>); Explicative variable (<i>V40</i>)</b><br><i>(Sample size : 15% of the original DataSet)</i>"
        },
        "xaxis": {
         "anchor": "y",
         "domain": [
          0,
          1
         ],
         "title": {
          "text": "V40"
         }
        },
        "yaxis": {
         "anchor": "x",
         "domain": [
          0,
          1
         ],
         "title": {
          "text": "fat"
         }
        }
       }
      }
     },
     "metadata": {},
     "output_type": "display_data"
    }
   ],
   "source": [
    "# Generating bootstrap samples\n",
    "size_bootstrap = math.floor(0.15 * df_bootstrap.shape[0])\n",
    "arr_plot = []\n",
    "for i in range(1, 51):\n",
    "    df_loop = df_bootstrap.sample(n=size_bootstrap, replace=True)\n",
    "    df_loop[\"sample\"] = \"S\" + str(i)\n",
    "    arr_loop = df_loop.to_numpy().tolist()\n",
    "    arr_plot = arr_plot + arr_loop\n",
    "arr_plot\n",
    "df_7 = pd.DataFrame(arr_plot, columns=[\"V40\", \"fat\", \"sample\"])\n",
    "\n",
    "# Displaying figure\n",
    "fig_7 = px.scatter(\n",
    "    df_7,\n",
    "    x=\"V40\",\n",
    "    y=\"fat\",\n",
    "    trendline=\"ols\",\n",
    "    color=\"sample\",\n",
    "    title=\"figure 7 : <b>Bootstrap - OLS Dependent variable (<i>fat</i>); Explicative variable (<i>V40</i>)</b><br><i>(Sample size : 15% of the original DataSet)</i>\",\n",
    ")\n",
    "fig_7.show()"
   ]
  },
  {
   "attachments": {},
   "cell_type": "markdown",
   "metadata": {},
   "source": [
    "***\n",
    "## Part 6. PCA <a class=\"anchor\" id=\"chapter6\"></a>"
   ]
  },
  {
   "attachments": {},
   "cell_type": "markdown",
   "metadata": {},
   "source": [
    "### 9. Covariance matrix and SVD <a class=\"anchor\" id=\"section_9\"></a>"
   ]
  },
  {
   "attachments": {},
   "cell_type": "markdown",
   "metadata": {},
   "source": [
    "We consider the Singular Value Decomposition of the covariance matrix, we denote:\n",
    "$$\n",
    "\\text{cov}(X) = U.s.V^T\n",
    "$$"
   ]
  },
  {
   "cell_type": "code",
   "execution_count": 106,
   "metadata": {},
   "outputs": [],
   "source": [
    "# Covariance matrix\n",
    "cov_matrix = np.cov(x_training_data_std, rowvar=False)\n",
    "\n",
    "# Singular Value Decomposition SVD\n",
    "U, s, V = np.linalg.svd(cov_matrix, full_matrices=False)"
   ]
  },
  {
   "attachments": {},
   "cell_type": "markdown",
   "metadata": {},
   "source": [
    "### 9.a heatmap of the covariance matrix <a class=\"anchor\" id=\"section_9_a\"></a>"
   ]
  },
  {
   "cell_type": "code",
   "execution_count": 107,
   "metadata": {},
   "outputs": [
    {
     "data": {
      "application/vnd.plotly.v1+json": {
       "config": {
        "plotlyServerURL": "https://plot.ly"
       },
       "data": [
        {
         "coloraxis": "coloraxis",
         "hovertemplate": "x: %{x}<br>y: %{y}<br>color: %{z}<extra></extra>",
         "name": "0",
         "type": "heatmap",
         "xaxis": "x",
         "yaxis": "y",
         "z": [
          [
           1.0062499999999994,
           1.0062414432022662,
           1.006217174216703,
           1.006179144353586,
           1.0061293249855534,
           1.0060697783344705,
           1.0060025880543366,
           1.0059295909293857,
           1.0058518176911897,
           1.0057715479551834,
           1.005689214159726,
           1.0056048824131805,
           1.005518324615522,
           1.0054284902352506,
           1.0053331855764,
           1.005228062961283,
           1.0051087306272182,
           1.0049704016497951,
           1.0048054280909602,
           1.0046076202377714,
           1.0043778893552393,
           1.0041265369836303,
           1.0038701218589718,
           1.0036224793195272,
           1.0033852722487138,
           1.0031427161918687,
           1.002862335865931,
           1.002498985076701,
           1.0020116398746213,
           1.0013652088170664,
           1.0005528636643042,
           0.9996087097532341,
           0.9985965280235226,
           0.9975721944499143,
           0.9965452518712763,
           0.995476945386306,
           0.9943333886379675,
           0.9931637574782871,
           0.992094435183457,
           0.9913104959084953,
           0.991017755409059,
           0.9913726543031919,
           0.9923885006245708,
           0.9938975386068395,
           0.9955937099764292,
           0.9971433713246963,
           0.9983004972982711,
           0.9989465648461963,
           0.999099315239554,
           0.9988061926044841,
           0.9980996000258395,
           0.9970159071092124,
           0.9956112630021807,
           0.9940011891108012,
           0.9923545983453382,
           0.9908384752896258,
           0.989552618543823,
           0.9885176835466858,
           0.9876674920145766,
           0.9869411031651052,
           0.9862865858768726,
           0.9856677656625741,
           0.9851018773502167,
           0.9845816180366574,
           0.9841135966117092,
           0.9837009317353541,
           0.9833362775344799,
           0.9830073755655191,
           0.9827143478370548,
           0.9824518329659178,
           0.9822137301749505,
           0.9819966631327794,
           0.9817929598357458,
           0.9815910985871066,
           0.9813964918826935,
           0.9812034611668463,
           0.9810072252121818,
           0.9807894237238465,
           0.9805325416219999,
           0.9802342515549439,
           0.9799082957185867,
           0.979548050234357,
           0.979164425445325,
           0.9787748477446541,
           0.9784165352837436,
           0.9781075297517638,
           0.9778360140772762,
           0.9775647509867306,
           0.977254947064155,
           0.9768702376390493,
           0.97641276035561,
           0.9758958424945403,
           0.9753478283389484,
           0.974793315524358,
           0.9742529525080988,
           0.9737485326949212,
           0.9733061547429124,
           0.9729532566505136,
           0.9726932946220872,
           0.972496203837923
          ],
          [
           1.0062414432022662,
           1.0062499999999996,
           1.0062421302471956,
           1.006219807539397,
           1.0061849624033117,
           1.0061395895774974,
           1.0060856972312322,
           1.0060250820151495,
           1.0059588157790553,
           1.0058889920851002,
           1.0058161089686992,
           1.005740229261388,
           1.005661044422827,
           1.0055773946403748,
           1.0054870007808379,
           1.0053856091946662,
           1.0052688445531293,
           1.0051317996965625,
           1.0049669501012093,
           1.0047683218824195,
           1.0045371877952443,
           1.004284405161957,
           1.0040270632660457,
           1.0037792364961093,
           1.0035423549151605,
           1.0033000893725497,
           1.0030189405953978,
           1.0026527637633549,
           1.0021599393056266,
           1.0015052571014782,
           1.0006824736869238,
           0.9997267615776869,
           0.9987029569527528,
           0.9976674789390976,
           0.9966295517912892,
           0.9955495300461822,
           0.9943929344111431,
           0.9932094084913272,
           0.9921265026278365,
           0.9913308972377355,
           0.9910301194574794,
           0.9913820806864424,
           0.992400731732868,
           0.9939177166190793,
           0.9956251084504605,
           0.9971864177293315,
           0.9983526262750422,
           0.9990022050809029,
           0.9991518930254801,
           0.9988486895310307,
           0.9981252132620683,
           0.9970190222310674,
           0.9955883942756514,
           0.9939518877261323,
           0.9922816191223366,
           0.9907469831887866,
           0.9894485527003232,
           0.9884062591411032,
           0.9875525832178588,
           0.9868253600118939,
           0.9861713318145438,
           0.98555396338237,
           0.984990210796158,
           0.9844729989787111,
           0.9840089582743042,
           0.9836012669382725,
           0.9832426799453743,
           0.9829207364609976,
           0.9826352780906428,
           0.9823808329603724,
           0.982151312320532,
           0.9819434003261936,
           0.981749129533244,
           0.9815570004781755,
           0.9813724667681397,
           0.9811899377722068,
           0.9810044316336661,
           0.9807973651388796,
           0.9805510096309844,
           0.9802629721244085,
           0.9799470620500904,
           0.9795968961146365,
           0.9792235537395299,
           0.9788446866964409,
           0.9784978533670933,
           0.9782012527061152,
           0.9779430190192202,
           0.977685387695307,
           0.9773889099215236,
           0.9770166928106889,
           0.976570742972702,
           0.9760645743430303,
           0.9755268494516631,
           0.9749824755494771,
           0.9744522645352837,
           0.973958194940701,
           0.9735266642970339,
           0.9731853840686968,
           0.9729379324905691,
           0.972753894348199
          ],
          [
           1.006217174216703,
           1.0062421302471956,
           1.006250000000001,
           1.0062427615522134,
           1.006222310683709,
           1.0061905808138765,
           1.006149511051088,
           1.0061008610532822,
           1.0060457433171255,
           1.0059860719962705,
           1.0059224068006125,
           1.0058548132476537,
           1.0057829124791764,
           1.005705443958293,
           1.0056200493592538,
           1.0055225659090943,
           1.005408633130394,
           1.0052732316976882,
           1.005108952348422,
           1.004910023777668,
           1.004678044160422,
           1.004424372629145,
           1.0041665801892952,
           1.003918959351993,
           1.003682727672829,
           1.0034410708596493,
           1.0031595604219414,
           1.0027911456617147,
           1.0022936602699144,
           1.0016317840794846,
           1.000799799844433,
           0.9998338443986179,
           0.9987997055886982,
           0.9977542880105981,
           0.9967065129251482,
           0.9956159093945385,
           0.994447441785156,
           0.9932511668869051,
           0.9921556926629,
           0.9913491524271049,
           0.991040622456524,
           0.9913893518620004,
           0.9924098890343714,
           0.9939333495139817,
           0.9956501208353224,
           0.9972211263775046,
           0.9983946350207518,
           0.99904635267142,
           0.9991920913985759,
           0.9988784224912636,
           0.998138146812099,
           0.9970099143665906,
           0.9955539947661354,
           0.9938918234221674,
           0.9921985703527906,
           0.9906459346000377,
           0.9893352259384154,
           0.9882856761985105,
           0.987428481364788,
           0.986700295318204,
           0.9860465975371904,
           0.9854304929117466,
           0.9848686856581154,
           0.9843543123389321,
           0.9838940192406893,
           0.9834910365190468,
           0.9831382118100432,
           0.9828229037836089,
           0.982544698232481,
           0.9822980193789473,
           0.9820767824440573,
           0.981877726775879,
           0.981692610107293,
           0.9815099541999613,
           0.9813352337826953,
           0.9811629306061111,
           0.9809878995083441,
           0.9807913410635862,
           0.9805553250171659,
           0.980277396569206,
           0.9799714286993171,
           0.9796312530000301,
           0.9792680938664531,
           0.9788998032961453,
           0.9785642467771762,
           0.9782797603849954,
           0.9780344385104391,
           0.9777900361072707,
           0.9775065029352424,
           0.9771464587191142,
           0.9767117918402205,
           0.9762161796062915,
           0.9756885680042867,
           0.9751541386371096,
           0.9746338461185987,
           0.974149836014486,
           0.9737287763062255,
           0.9733986281939884,
           0.9731630844853578,
           0.9729914128796087
          ],
          [
           1.006179144353586,
           1.006219807539397,
           1.0062427615522134,
           1.0062499999999996,
           1.0062433801066568,
           1.0062247767218584,
           1.0061960665344538,
           1.006158973783157,
           1.0061146532787162,
           1.0060648508032095,
           1.0060101821662604,
           1.0059507187835461,
           1.0058860185737728,
           1.0058147306582272,
           1.0057344255653682,
           1.0056410273304095,
           1.0055301898012605,
           1.0053967854966201,
           1.0052335147482183,
           1.005034796575608,
           1.0048025225946071,
           1.004548502027569,
           1.0042907392077458,
           1.0040437222117624,
           1.0038084731605554,
           1.0035677480529615,
           1.0032862777944629,
           1.0029161962928785,
           1.002414839887394,
           1.001746784255342,
           1.000906785578671,
           0.9999318500014548,
           0.9988886180366537,
           0.9978344226393567,
           0.9967778945755417,
           0.9956778023716331,
           0.9944985963291009,
           0.9932907009315001,
           0.9921836756428934,
           0.9913669649457145,
           0.9910510409419673,
           0.9913963638640513,
           0.9924180284864532,
           0.9939466814295271,
           0.9956711934783788,
           0.997250146563062,
           0.9984293565685594,
           0.9990819992959576,
           0.9992230540329488,
           0.9988986836635325,
           0.9981418426145817,
           0.996992190753057,
           0.9955118653538273,
           0.9938250183493095,
           0.9921097064010186,
           0.9905397992824286,
           0.9892172788573851,
           0.9881606911773378,
           0.9873000094966442,
           0.9865707601488142,
           0.98591723867209,
           0.985302205348628,
           0.9847421328193715,
           0.9842303596431585,
           0.9837735476124032,
           0.9833749726969301,
           0.9830275709424514,
           0.9827185295941767,
           0.9824471999106902,
           0.982207917651061,
           0.9819945967730743,
           0.9818040251697049,
           0.9816277021470283,
           0.9814541632908276,
           0.9812889091306055,
           0.9811264726824698,
           0.9809615628003585,
           0.9807751811415545,
           0.9805492185236535,
           0.9802811554874952,
           0.9799849177822786,
           0.9796545372356882,
           0.9793013599091869,
           0.9789434128166971,
           0.9786188334170174,
           0.9783460757994598,
           0.9781132022004716,
           0.9778815284807761,
           0.9776104582681807,
           0.9772621658902727,
           0.9768384317946803,
           0.9763530778023105,
           0.97583529919738,
           0.9753105239402118,
           0.974799829336284,
           0.9743255081989055,
           0.9739144698363568,
           0.9735949022348646,
           0.9733706081649086,
           0.9732105657264492
          ],
          [
           1.0061293249855534,
           1.0061849624033117,
           1.006222310683709,
           1.0062433801066568,
           1.0062499999999996,
           1.0062439903305966,
           1.006227168823538,
           1.0062012277442418,
           1.0061673666059976,
           1.0061271736191153,
           1.0060813168782377,
           1.006029878290763,
           1.0059723628700679,
           1.0059073432197763,
           1.005832327823755,
           1.0057433235990494,
           1.0056359970664894,
           1.0055051212165016,
           1.005343498278832,
           1.0051457195778997,
           1.0049139249479253,
           1.004660306695495,
           1.0044032404136245,
           1.0041573822497767,
           1.0039235851201733,
           1.003684249389996,
           1.0034033812704553,
           1.0030324198239482,
           1.002528264590479,
           1.0018553940762482,
           1.0010089643699995,
           1.0000267244414585,
           0.9989760396345919,
           0.9979146014493419,
           0.9968507719382367,
           0.9957426428749727,
           0.9945542006237835,
           0.9933361699318516,
           0.9922189218849452,
           0.9913930246285997,
           0.9910701472977061,
           0.9914117977486884,
           0.9924335584841271,
           0.9939656934850503,
           0.9956957819006972,
           0.9972803882118072,
           0.9984632148566093,
           0.9991152176007625,
           0.9992506390642357,
           0.9989152527394145,
           0.998142125557402,
           0.9969718122668194,
           0.9954681496068454,
           0.9937577997774025,
           0.9920215056209417,
           0.9904351596066342,
           0.9891013600084588,
           0.9880379979495427,
           0.9871739016706726,
           0.9864435324947437,
           0.9857900814448218,
           0.9851759806489592,
           0.9846174921958669,
           0.9841081421218482,
           0.9836546017392559,
           0.9832601849889552,
           0.9829179098622733,
           0.9826148142101183,
           0.9823500431148284,
           0.9821178518813591,
           0.9819121444626312,
           0.9817297540349856,
           0.9815619455773986,
           0.9813972649694771,
           0.9812412223749112,
           0.9810883845687418,
           0.9809333439806412,
           0.9807569193169514,
           0.9805408435062953,
           0.980282536383215,
           0.9799959651041066,
           0.9796753326732692,
           0.9793320778962882,
           0.9789843718324107,
           0.9786705824963747,
           0.9784092575122442,
           0.9781884354155583,
           0.977969049954592,
           0.9777100268956995,
           0.9773731472194218,
           0.9769600941211719,
           0.97648480628571,
           0.97597668789454,
           0.975461373142969,
           0.9749600363039876,
           0.9744950927649987,
           0.9740936597477865,
           0.9737841229891174,
           0.9735703884586618,
           0.9734211826072438
          ],
          [
           1.0060697783344705,
           1.0061395895774974,
           1.0061905808138765,
           1.0062247767218584,
           1.0062439903305966,
           1.00625,
           1.0062445707465508,
           1.0062293619523899,
           1.0062056215819672,
           1.0061747912137766,
           1.0061375886547004,
           1.0060941139475954,
           1.0060438338423052,
           1.0059852615324842,
           1.005915854216471,
           1.0058316969641214,
           1.005728466839149,
           1.0056008476743532,
           1.005441736587072,
           1.0052458717501465,
           1.0050155821419358,
           1.0047633574040036,
           1.0045078657443725,
           1.0042638980728396,
           1.004032173540407,
           1.0037948292167516,
           1.0035152970753554,
           1.0031444742266078,
           1.0026389044641186,
           1.0019629783412902,
           1.0011121568074086,
           1.0001247652766838,
           0.9990687301964378,
           0.9980020150110285,
           0.9969327449747258,
           0.9958184412366674,
           0.9946226879131779,
           0.9933964256945187,
           0.9922706590185234,
           0.9914368410072245,
           0.9911075863321372,
           0.9914452417033295,
           0.9924658008831493,
           0.9939992528868244,
           0.9957321725112808,
           0.9973195209282331,
           0.9985033197826203,
           0.9991526895689282,
           0.9992812672568274,
           0.9989344561733777,
           0.9981453827124842,
           0.9969553500631714,
           0.9954296873805148,
           0.9936973093652809,
           0.9919413945585067,
           0.9903396836398768,
           0.9889953341717516,
           0.9879256237838079,
           0.987058327893342,
           0.9863269126722383,
           0.9856735541851747,
           0.9850603735245658,
           0.9845034387029896,
           0.9839964500993785,
           0.9835460811482739,
           0.9831556761359418,
           0.9828183284971979,
           0.9825209549247937,
           0.9822625237664655,
           0.9820372174460785,
           0.9818389215892636,
           0.9816645124648945,
           0.9815050467019539,
           0.9813490771445226,
           0.9812020990531855,
           0.9810587009316749,
           0.980913390103201,
           0.9807468204024952,
           0.9805405925860007,
           0.9802920709051817,
           0.9800152455091352,
           0.9797044601975696,
           0.9793712124129144,
           0.9790337776479646,
           0.9787306986139472,
           0.9784805850603201,
           0.9782714657884033,
           0.9780639645089387,
           0.9778166135604982,
           0.9774908658807706,
           0.9770883172624614,
           0.9766229900405776,
           0.9761244465306609,
           0.9756184790008521,
           0.9751263260976922,
           0.9746704946213509,
           0.9742782680423652,
           0.9739781924817983,
           0.9737742677449597,
           0.9736350166905731
          ],
          [
           1.0060025880543366,
           1.0060856972312322,
           1.006149511051088,
           1.0061960665344538,
           1.006227168823538,
           1.0062445707465508,
           1.0062499999999992,
           1.0062450832888625,
           1.0062311155757917,
           1.00620940309947,
           1.006180711335463,
           1.0061451700323125,
           1.0061022265453452,
           1.0060503543155634,
           1.0059869713564167,
           1.005908235128197,
           1.0058098311060935,
           1.0056863643533245,
           1.0055308204720035,
           1.0053380554725866,
           1.0051105177827593,
           1.0048608911444423,
           1.0046080415494376,
           1.0043668557360925,
           1.0041379623021283,
           1.0039033443951133,
           1.0036260385950138,
           1.003256580354249,
           1.0027512575805717,
           1.0020743860403152,
           1.001221619476581,
           1.0002316590736446,
           0.9991727950792207,
           0.9981031592817473,
           0.9970306780695687,
           0.9959124290680933,
           0.9947116720154467,
           0.9934794629407588,
           0.992347225130091,
           0.9915070138977857,
           0.9911720909560761,
           0.9915053927300943,
           0.9925232292842816,
           0.9940554355424664,
           0.9957879217818217,
           0.9973745389990422,
           0.9985561420630635,
           0.9992004730387665,
           0.9993207265707016,
           0.9989619599467434,
           0.9981572952209382,
           0.996948616682174,
           0.9954025120869346,
           0.9936498523514756,
           0.9918759575682542,
           0.9902602074837031,
           0.9889062467644121,
           0.9878307792240513,
           0.9869606293185254,
           0.9862283509476447,
           0.9855752076355524,
           0.984963029713113,
           0.9844077014726187,
           0.9839030854229345,
           0.9834558538140638,
           0.9830693763888516,
           0.9827368179172673,
           0.9824450015052015,
           0.9821927452608983,
           0.9819741718182355,
           0.9817831450379153,
           0.9816165797167227,
           0.9814653471294712,
           0.9813180035172092,
           0.9811800078476316,
           0.9810459593014749,
           0.9809103063380076,
           0.9807535629566714,
           0.9805572303554586,
           0.9803186211704147,
           0.9800517212610743,
           0.9797509869040101,
           0.9794279338306229,
           0.9791008953276829,
           0.978808520179107,
           0.9785694432697357,
           0.9783717036544289,
           0.9781756958198624,
           0.9779396561944765,
           0.9776247892409065,
           0.9772326142400347,
           0.9767772028520284,
           0.9762882118459153,
           0.9757915355366426,
           0.9753084383888929,
           0.9748614818487943,
           0.9744780665767001,
           0.9741868516542612,
           0.9739919205656848,
           0.9738616472856748
          ],
          [
           1.0059295909293857,
           1.0060250820151495,
           1.0061008610532822,
           1.006158973783157,
           1.0062012277442418,
           1.0062293619523899,
           1.0062450832888625,
           1.0062499999999996,
           1.0062454460720716,
           1.0062325987310627,
           1.0062122712893267,
           1.0061846353082984,
           1.006149141017193,
           1.0061042440331325,
           1.006047336862697,
           1.0059746420321654,
           1.005881848584249,
           1.0057634943741764,
           1.0056126507249568,
           1.0054242596051937,
           1.0052008136112194,
           1.0049550783358576,
           1.0047060153586749,
           1.0044685654641436,
           1.004243314223689,
           1.0040122086375272,
           1.003738080201954,
           1.0033712958785903,
           1.0028679948980848,
           1.0021924346652742,
           1.0013403434212638,
           1.0003505845239904,
           0.9992915993043502,
           0.9982215763324889,
           0.9971482828002506,
           0.9960284903350799,
           0.9948252247978646,
           0.9935895556042456,
           0.9924530892090332,
           0.9916081796309556,
           0.9912684168295762,
           0.9915970617031281,
           0.9926106364683707,
           0.9941389432400198,
           0.9958675860335436,
           0.9974498366208417,
           0.9986259320403404,
           0.9992627335146456,
           0.9993731699415975,
           0.9990019825604297,
           0.9981822239229962,
           0.9969561887191649,
           0.9953914761942981,
           0.9936205922617157,
           0.9918306714408838,
           0.9902024910259778,
           0.9888400918148474,
           0.9877596439698579,
           0.9868871270985858,
           0.9861542898836165,
           0.9855015831828662,
           0.9848905758484288,
           0.9843369807345393,
           0.9838348097705792,
           0.9833907329843274,
           0.9830081443117576,
           0.9826802769126554,
           0.9823938891482746,
           0.982147669492276,
           0.9819356931707266,
           0.9817518094085452,
           0.9815929653695292,
           0.9814498645733858,
           0.9813110692626847,
           0.9811819779616203,
           0.9810571969740677,
           0.98093113468564,
           0.9807841919534583,
           0.9805978045373703,
           0.9803692451062148,
           0.9801124629970694,
           0.9798219963637484,
           0.9795093332552836,
           0.9791928172369858,
           0.9789111345772465,
           0.9786829051019457,
           0.9784962007738021,
           0.9783112674173412,
           0.9780861456054035,
           0.9777818807078842,
           0.9773999289126962,
           0.9769543777175743,
           0.9764749090245552,
           0.9759874580982656,
           0.9755132747364819,
           0.9750749365517918,
           0.9746999140032271,
           0.9744169236206975,
           0.974230120848686,
           0.9741077859129741
          ],
          [
           1.0058518176911897,
           1.0059588157790553,
           1.0060457433171255,
           1.0061146532787162,
           1.0061673666059976,
           1.0062056215819672,
           1.0062311155757917,
           1.0062454460720716,
           1.0062500000000003,
           1.0062458182848513,
           1.0062337630518938,
           1.0062140606908077,
           1.006186186777698,
           1.0061486039112093,
           1.0060986944775572,
           1.0060327383899295,
           1.0059464222545167,
           1.0058342307157246,
           1.0056893157432059,
           1.0055066726554844,
           1.0052887621472575,
           1.0050483148803957,
           1.004804280531313,
           1.004571605916046,
           1.0043508777798704,
           1.0041241333572337,
           1.0038542012531553,
           1.0034914825428831,
           1.0029920777528918,
           1.0023202032418788,
           1.0014715416174267,
           1.0004848965951423,
           0.999428633743098,
           0.9983608747193193,
           0.9972892645833096,
           0.9961704095339977,
           0.9949672001907282,
           0.9937306119098637,
           0.9925922008381488,
           0.9917443020570516,
           0.9914004968803014,
           0.9917240889409715,
           0.9927317014340444,
           0.994253232234184,
           0.9959743509938763,
           0.9975482978964485,
           0.9987152678000539,
           0.999341761482067,
           0.9994406206342655,
           0.9990563044240443,
           0.9982217335759844,
           0.9969794426081174,
           0.9953977957457325,
           0.9936106186390048,
           0.9918065374428888,
           0.9901674802756179,
           0.9887977782015329,
           0.98771309664372,
           0.9868386638412918,
           0.9861055195418486,
           0.985453417458886,
           0.9848436983069707,
           0.9842919278281358,
           0.9837922483014376,
           0.9833513271856348,
           0.9829725764490226,
           0.98264928868765,
           0.9823681886536125,
           0.9821278641869482,
           0.9819223593197868,
           0.9817455091278631,
           0.9815942858164233,
           0.981459250145229,
           0.9813289670469839,
           0.9812087449934808,
           0.9810931885568165,
           0.9809767013398262,
           0.980839592752427,
           0.9806632682139595,
           0.9804449695001454,
           0.9801985784611165,
           0.9799186851408441,
           0.9796167019376816,
           0.9793109305501324,
           0.9790400165525354,
           0.9788225192246801,
           0.9786465693608414,
           0.9784723509388121,
           0.9782578151100302,
           0.9779639377707053,
           0.9775921286011999,
           0.9771564519414566,
           0.976686542284639,
           0.9762083134800884,
           0.9757429555011838,
           0.9753130223107283,
           0.9749460020657312,
           0.9746706140868513,
           0.9744910726895055,
           0.9743756231372354
          ],
          [
           1.0057715479551834,
           1.0058889920851002,
           1.0059860719962705,
           1.0060648508032095,
           1.0061271736191153,
           1.0061747912137766,
           1.00620940309947,
           1.0062325987310627,
           1.0062458182848513,
           1.0062500000000012,
           1.0062460311612804,
           1.0062342085324287,
           1.0062140529525336,
           1.0061840591885005,
           1.0061416165246129,
           1.006083055654387,
           1.006004057449007,
           1.005899068129438,
           1.0057613078586956,
           1.0055857955659782,
           1.0053748810364629,
           1.0051411409969575,
           1.004903400424437,
           1.004676561147428,
           1.004461256200545,
           1.004239740610473,
           1.003975049920333,
           1.0036178333283092,
           1.0031242663634385,
           1.0024585427059403,
           1.0016161725150075,
           1.000635671688336,
           0.9995850981316103,
           0.998522375553037,
           0.9974550602713665,
           0.9963397448591214,
           0.9951392841750606,
           0.9939044530223022,
           0.9927665129076584,
           0.9919174553293356,
           0.9915705034177096,
           0.9918887083717509,
           0.9928886739653816,
           0.9944005245852774,
           0.9961103774995301,
           0.9976720053384304,
           0.9988261640457359,
           0.9994395459881231,
           0.9995250980798117,
           0.9991270357670174,
           0.9982780902111668,
           0.9970208615927872,
           0.995424222174881,
           0.9936229830320298,
           0.9918069109135694,
           0.9901587967601272,
           0.988783118646558,
           0.9876950469736029,
           0.9868191819490124,
           0.9860859570933602,
           0.9854345771158896,
           0.9848261970947955,
           0.9842762716704704,
           0.9837790606927451,
           0.983341216902808,
           0.982966156745969,
           0.9826472238679259,
           0.982371141945964,
           0.9821364419222628,
           0.9819371536272975,
           0.9817670856173258,
           0.9816232295365133,
           0.9814960395357222,
           0.9813740789110112,
           0.9812625426377398,
           0.9811560040943648,
           0.9810489018332277,
           0.9809214866159555,
           0.9807551738112272,
           0.9805471816947229,
           0.9803113008938008,
           0.980042131430066,
           0.9797509615528108,
           0.9794559953401625,
           0.9791957614649853,
           0.9789887109066466,
           0.9788230459246997,
           0.9786589854144948,
           0.9784545126202833,
           0.9781706277846798,
           0.9778087131346336,
           0.9773827648997817,
           0.9769222988283203,
           0.976453138839199,
           0.9759963698858556,
           0.9755744786194998,
           0.9752149141093732,
           0.9749463488817048,
           0.9747730411316509,
           0.974663263595611
          ],
          [
           1.005689214159726,
           1.0058161089686992,
           1.0059224068006125,
           1.0060101821662604,
           1.0060813168782377,
           1.0061375886547004,
           1.006180711335463,
           1.0062122712893267,
           1.0062337630518938,
           1.0062460311612804,
           1.00625,
           1.0062460350200781,
           1.0062337227451665,
           1.0062116165516704,
           1.00617712995406,
           1.0061266383006238,
           1.0060558127867014,
           1.0059590708063644,
           1.0058296932106723,
           1.0056626877044421,
           1.0054602092422251,
           1.0052345620968512,
           1.0050043380152516,
           1.0047843492863855,
           1.004575326089592,
           1.0043598693820845,
           1.0041014282487957,
           1.0037511074671601,
           1.003265269776058,
           1.0026080984141996,
           1.0017748061082508,
           1.000803396657882,
           0.9997613954186924,
           0.9987064069074848,
           0.9976459359057736,
           0.9965367035894435,
           0.9953416135128883,
           0.9941111440731941,
           0.9929760229740341,
           0.9921275861743223,
           0.9917783652526602,
           0.9920908764470018,
           0.9930815919559891,
           0.994580993957343,
           0.9962760224387065,
           0.997821534218934,
           0.9989594228883398,
           0.9995570810581742,
           0.9996277594894212,
           0.999215463756242,
           0.9983526754688565,
           0.9970818807443458,
           0.9954721996647538,
           0.9936590925887983,
           0.9918331243084121,
           0.9901776874139845,
           0.9887972937670061,
           0.9877066497681226,
           0.9868298479821983,
           0.9860968220120763,
           0.9854463391872633,
           0.9848394093281714,
           0.9842913989642361,
           0.983796679957076,
           0.9833618761883604,
           0.9829904006862155,
           0.9826756437040471,
           0.9824043612843909,
           0.9821750628447241,
           0.9819817729148727,
           0.9818182672447695,
           0.9816815577082562,
           0.9815620203712566,
           0.981448217816748,
           0.9813451997312868,
           0.9812474993509158,
           0.9811496169596329,
           0.981031769297485,
           0.9808754218185302,
           0.9806777806192969,
           0.9804525218684272,
           0.9801942122669601,
           0.9799139731761018,
           0.9796298610415791,
           0.9793802142440605,
           0.9791833307810056,
           0.9790274957443531,
           0.9788730550822887,
           0.978678138040136,
           0.9784038622448747,
           0.9780515980369024,
           0.9776352330703919,
           0.9771840958260578,
           0.9767238556799864,
           0.976275448961652,
           0.9758612550251269,
           0.9755086303896592,
           0.9752461465518554,
           0.9750780935195341,
           0.9749728324922187
          ],
          [
           1.0056048824131805,
           1.005740229261388,
           1.0058548132476537,
           1.0059507187835461,
           1.006029878290763,
           1.0060941139475954,
           1.0061451700323125,
           1.0061846353082984,
           1.0062140606908077,
           1.0062342085324287,
           1.0062460350200781,
           1.0062500000000003,
           1.0062457743105824,
           1.0062319962306658,
           1.0062061214837976,
           1.0061645630960165,
           1.0061029817594367,
           1.0060157787905712,
           1.0058962862104173,
           1.005739458412158,
           1.0055471595801884,
           1.0053312827990044,
           1.0051100598188751,
           1.0048981620170716,
           1.004696476778872,
           1.0044881036435689,
           1.0042371486793924,
           1.0038954156792117,
           1.003419582442591,
           1.0027738384165612,
           1.00195294648445,
           1.0009941299526117,
           0.9999641164251794,
           0.9989200524634287,
           0.9978694408856379,
           0.9967692990487228,
           0.9955826829689421,
           0.9943596376380768,
           0.9932300706205095,
           0.9923842889890852,
           0.9920337361613328,
           0.992340066840834,
           0.9933195035160276,
           0.9948030549664074,
           0.9964789404628442,
           0.9980037529764001,
           0.9991212029506139,
           0.9996999877415282,
           0.9997538669395187,
           0.9993266673821056,
           0.9984505350224797,
           0.9971676274376083,
           0.9955470096566318,
           0.9937244125186198,
           0.9918908195642081,
           0.9902299437280352,
           0.9888462203035667,
           0.9877539332524958,
           0.9868767870636778,
           0.9861443233257727,
           0.9854950070519403,
           0.9848897414660791,
           0.9843438244641975,
           0.9838517206668863,
           0.9834200239917728,
           0.983052138160325,
           0.9827414919910477,
           0.9824749047183238,
           0.9822509015677146,
           0.9820635269822255,
           0.9819065188064416,
           0.981776902624035,
           0.9816650026070897,
           0.9815593758226211,
           0.9814649037076875,
           0.9813760568154593,
           0.9812874365110377,
           0.9811792579753356,
           0.981033084512572,
           0.9808461081112831,
           0.9806318535844055,
           0.9803848196606829,
           0.9801159070469435,
           0.9798429624278828,
           0.9796040408268092,
           0.9794172395988266,
           0.9792709579869779,
           0.9791257750008477,
           0.9789400919686456,
           0.9786752453713524,
           0.9783326079139236,
           0.9779259115361493,
           0.9774842126656076,
           0.9770329543138572,
           0.9765928700756368,
           0.9761861853073776,
           0.9758400985073363,
           0.975583019396685,
           0.9754192595523539,
           0.9753173420543766
          ],
          [
           1.005518324615522,
           1.005661044422827,
           1.0057829124791764,
           1.0058860185737728,
           1.0059723628700679,
           1.0060438338423052,
           1.0061022265453452,
           1.006149141017193,
           1.006186186777698,
           1.0062140529525336,
           1.0062337227451665,
           1.0062457743105824,
           1.0062499999999994,
           1.0062451530656638,
           1.006228749756998,
           1.0061972330938778,
           1.0061462483397061,
           1.0060701991363916,
           1.0059624599330792,
           1.0058178822229962,
           1.0056379269719415,
           1.005433904478983,
           1.005223531635209,
           1.005021273753602,
           1.004828246023575,
           1.0046282321899735,
           1.0043862903369127,
           1.0040552209349218,
           1.0035921768250755,
           1.0029613757319644,
           1.0021569493378137,
           1.001215011272103,
           1.00020116423682,
           0.9991719221997797,
           0.9981348429234376,
           0.9970474424701271,
           0.9958730578968205,
           0.9946611371493668,
           0.9935404211089438,
           0.9926997241989364,
           0.9923489161131149,
           0.9926483851026069,
           0.9936139490849378,
           0.9950773387724854,
           0.9967286023760892,
           0.9982268692782461,
           0.9993185061705573,
           0.9998742570630675,
           0.9999086414591007,
           0.9994653408850035,
           0.9985760627118982,
           0.9972823802630644,
           0.9956529495790378,
           0.9938233358724263,
           0.9919845135181771,
           0.9903202035662787,
           0.9889346451133973,
           0.9878417390073507,
           0.986964924741145,
           0.9862334717860304,
           0.9855856842446693,
           0.9849823907472373,
           0.984438846939029,
           0.9839495866868463,
           0.9835211707365454,
           0.9831569860391925,
           0.9828504880426469,
           0.9825886086176505,
           0.9823699305635911,
           0.9821885360687657,
           0.9820381203140605,
           0.9819157169148607,
           0.9818116315815294,
           0.9817144149006598,
           0.9816287296424188,
           0.9815489669320178,
           0.9814698852038823,
           0.9813717269374003,
           0.9812362019498573,
           0.9810605016197388,
           0.9808579513452333,
           0.9806229368694789,
           0.9803660701795656,
           0.98010491434401,
           0.9798771282071643,
           0.9797005421240774,
           0.9795637089625995,
           0.9794275685967473,
           0.9792509450869451,
           0.9789955208962505,
           0.9786626917788572,
           0.978265977526211,
           0.9778340573009777,
           0.9773920546297648,
           0.9769604344787741,
           0.9765612112540647,
           0.976221348535262,
           0.9759690173120914,
           0.975808531873727,
           0.9757086657816734
          ],
          [
           1.0054284902352506,
           1.0055773946403748,
           1.005705443958293,
           1.0058147306582272,
           1.0059073432197763,
           1.0059852615324842,
           1.0060503543155634,
           1.0061042440331325,
           1.0061486039112093,
           1.0061840591885005,
           1.0062116165516704,
           1.0062319962306658,
           1.0062451530656638,
           1.0062499999999994,
           1.0062441374549658,
           1.0062240239739049,
           1.006185282315638,
           1.0061223394212282,
           1.0060286065921393,
           1.0058987755685378,
           1.005733766023062,
           1.0055441031704078,
           1.0053468036841604,
           1.0051560509059576,
           1.0049732741328208,
           1.004783160026158,
           1.0045520685033942,
           1.0042341501867007,
           1.0037872239333059,
           1.0031755628840306,
           1.0023924502314312,
           1.0014724991808925,
           1.000479798240965,
           0.9994700205278886,
           0.9984508433624243,
           0.9973805208674085,
           0.99622281909713,
           0.9950264038458368,
           0.9939184330853208,
           0.9930856821255228,
           0.9927358682948864,
           0.993027629174671,
           0.993976193272273,
           0.9954142443578189,
           0.9970343107208155,
           0.9984990085358776,
           0.9995583509633102,
           1.0000860018290585,
           1.0000975498664506,
           0.9996365716788246,
           0.998734218600127,
           0.997431186017731,
           0.9957953174407662,
           0.9939615097057241,
           0.992120230384691,
           0.9904548419044543,
           0.9890692342605839,
           0.987976966202049,
           0.9871013519682021,
           0.9863715156886113,
           0.9857257592695311,
           0.985124879606547,
           0.9845841212799553,
           0.9840980669382691,
           0.9836732344323513,
           0.9833129844721835,
           0.9830107889055406,
           0.982753745515538,
           0.9825405452241379,
           0.9823653283323927,
           0.9822217415196857,
           0.9821068202090519,
           0.9820108899995939,
           0.9819224948109865,
           0.9818460216200022,
           0.9817757616948412,
           0.9817066846200124,
           0.9816191006563049,
           0.9814949271805681,
           0.981331369659949,
           0.9811415014741643,
           0.9809195358318242,
           0.9806757179554402,
           0.9804272378268296,
           0.9802112263512417,
           0.9800451690190691,
           0.979917809197967,
           0.9797906007763912,
           0.9796229737011992,
           0.9793771067010022,
           0.979054441180079,
           0.9786682158098237,
           0.97824661029972,
           0.9778143187921575,
           0.9773914595602531,
           0.9769997657052631,
           0.9766658748009859,
           0.9764176281840297,
           0.9762593241271624,
           0.976160091314016
          ],
          [
           1.0053331855764,
           1.0054870007808379,
           1.0056200493592538,
           1.0057344255653682,
           1.005832327823755,
           1.005915854216471,
           1.0059869713564167,
           1.006047336862697,
           1.0060986944775572,
           1.0061416165246129,
           1.00617712995406,
           1.0062061214837976,
           1.006228749756998,
           1.0062441374549658,
           1.0062500000000003,
           1.0062427955608344,
           1.0062181147891154,
           1.0061704291370874,
           1.006093180970786,
           1.005980840497978,
           1.0058336350929304,
           1.005661082244518,
           1.0054792953817608,
           1.0053020926382608,
           1.0051313111132758,
           1.0049527803574538,
           1.004734545211409,
           1.0044324932048212,
           1.0040053177277657,
           1.0034173771692863,
           1.0026608711182063,
           1.001768486164068,
           1.000802370793233,
           0.9998171287666635,
           0.9988206257072921,
           0.9977721163263307,
           0.9966359594678599,
           0.9954598424082699,
           0.9943688889984472,
           0.9935472428146147,
           0.9931998391220795,
           0.993483035168627,
           0.9944112634364489,
           0.9958184073163434,
           0.9974001817611946,
           0.9988237244550474,
           0.9998437739961548,
           1.0003378646926202,
           1.000322999045436,
           0.9998426969183735,
           0.998927433617161,
           0.9976167113059162,
           0.9959771236452835,
           0.9941423461969763,
           0.9923017849717676,
           0.9906380297478912,
           0.9892544434355701,
           0.988164281981679,
           0.9872908929906645,
           0.9865633990517204,
           0.9859202721067318,
           0.9853223323927649,
           0.9847848450021321,
           0.9843024250350647,
           0.9838815339611195,
           0.9835254948942096,
           0.9832277878900062,
           0.9829757340275809,
           0.982768185421177,
           0.9825993626316687,
           0.9824628585932248,
           0.9823557043235551,
           0.9822682860859365,
           0.982189142334239,
           0.982122324409435,
           0.9820620043572981,
           0.9820034132727058,
           0.9819269763907115,
           0.9818148885023412,
           0.9816643846429198,
           0.9814882290219806,
           0.9812803988123564,
           0.9810506880495723,
           0.9808158165165608,
           0.980612242869009,
           0.9804570217331028,
           0.9803391248310718,
           0.9802206866140661,
           0.9800619446581911,
           0.9798257398027165,
           0.9795135823451405,
           0.9791383561147966,
           0.9787276089086184,
           0.9783054870964426,
           0.9778916783223757,
           0.9775075568514323,
           0.9771793359633011,
           0.9769344268071617,
           0.9767770910917613,
           0.9766769241832034
          ],
          [
           1.005228062961283,
           1.0053856091946662,
           1.0055225659090943,
           1.0056410273304095,
           1.0057433235990494,
           1.0058316969641214,
           1.005908235128197,
           1.0059746420321654,
           1.0060327383899295,
           1.006083055654387,
           1.0061266383006238,
           1.0061645630960165,
           1.0061972330938778,
           1.0062240239739049,
           1.0062427955608344,
           1.0062500000000003,
           1.0062411849027206,
           1.006210886013551,
           1.0061525647648988,
           1.006060412460258,
           1.0059338204832038,
           1.0057810817121982,
           1.0056172091767068,
           1.005455572616546,
           1.005298505309702,
           1.00513321558905,
           1.0049298072389856,
           1.0046462796560134,
           1.0042424010294606,
           1.003682642716995,
           1.0029578942769934,
           1.0020985032495011,
           1.0011642635608,
           1.0002084855166806,
           0.9992392892399311,
           0.998217182904744,
           0.9971072815445331,
           0.9959560946132987,
           0.9948862791783942,
           0.9940787696037678,
           0.9937351079415617,
           0.9940088579349201,
           0.9949134537451659,
           0.9962842167052397,
           0.9978207345436548,
           0.9991956714181985,
           1.0001695461318032,
           1.0006246941603198,
           1.0005798531297931,
           1.0000785346406043,
           0.9991504208915549,
           0.9978335141407542,
           0.9961927342940542,
           0.9943600066246691,
           0.992523144193142,
           0.9908635654898563,
           0.9894839330542258,
           0.9883972278702347,
           0.9875269822814,
           0.9868024625325357,
           0.9861624793600164,
           0.9855679265752907,
           0.9850341199661256,
           0.9845556896467607,
           0.9841390291815713,
           0.9837874136404839,
           0.9834943224366847,
           0.9832473571920199,
           0.9830455811344797,
           0.9828833177341152,
           0.9827541016208768,
           0.9826549541230829,
           0.9825763600721947,
           0.9825068515235579,
           0.9824500860135438,
           0.982400099401509,
           0.9823524389141096,
           0.9822876844986985,
           0.9821883740104916,
           0.9820517904623227,
           0.981890331872762,
           0.9816976798101582,
           0.9814830909546027,
           0.9812627206477054,
           0.9810722153315367,
           0.9809281114457417,
           0.9808196504082964,
           0.9807098076411851,
           0.9805598240011723,
           0.9803333635184576,
           0.9800320307786898,
           0.9796682828678428,
           0.9792689039126196,
           0.9788573764286328,
           0.9784528748815708,
           0.9780763412812029,
           0.9777534695925856,
           0.9775111417977853,
           0.9773535604216147,
           0.9772508955109643
          ],
          [
           1.0051087306272182,
           1.0052688445531293,
           1.005408633130394,
           1.0055301898012605,
           1.0056359970664894,
           1.005728466839149,
           1.0058098311060935,
           1.005881848584249,
           1.0059464222545167,
           1.006004057449007,
           1.0060558127867014,
           1.0061029817594367,
           1.0061462483397061,
           1.006185282315638,
           1.0062181147891154,
           1.0062411849027206,
           1.0062499999999996,
           1.0062391690501562,
           1.0062021606372404,
           1.006132828254829,
           1.0060295858276178,
           1.005899290984138,
           1.0057556646154413,
           1.0056115484441563,
           1.0054698607667676,
           1.005319420104521,
           1.0051327590327632,
           1.004870353836931,
           1.0044932372460529,
           1.0039660187273725,
           1.0032780546105513,
           1.002456953985285,
           1.0015597546242483,
           1.0006382543600632,
           0.999700888665052,
           0.9987096633528101,
           0.9976306084370915,
           0.9965088532735609,
           0.9954641641962578,
           0.9946737055626985,
           0.9943350308560945,
           0.9945984173345069,
           0.9954761146734914,
           0.9968051251140135,
           0.9982895833604055,
           0.9996086589636115,
           1.0005296714750258,
           1.0009406669790823,
           1.0008624108747746,
           1.0003384493374525,
           0.999397547675917,
           0.9980759069700511,
           0.9964363601269007,
           0.9946085760659069,
           0.9927782684306014,
           0.9911252997260895,
           0.9897514601928432,
           0.988669484824073,
           0.9878032350702481,
           0.9870822623413507,
           0.9864458846677211,
           0.9858551175805126,
           0.985325353997347,
           0.984851221439307,
           0.9844390394400595,
           0.9840920265150399,
           0.9838036504213927,
           0.9835618425344713,
           0.9833659273840438,
           0.9832103606968228,
           0.9830886158153543,
           0.9829976987806062,
           0.9829282251421484,
           0.9828687165701766,
           0.9828223888104107,
           0.9827831210887544,
           0.9827468312968203,
           0.9826942909809748,
           0.9826084463697384,
           0.9824866430316898,
           0.9823408583583119,
           0.982164418172048,
           0.9819659580736007,
           0.9817609777471923,
           0.9815841782326459,
           0.9814514958600224,
           0.9813524820689121,
           0.9812511056379392,
           0.981109798668255,
           0.9808932033905924,
           0.9806030479179836,
           0.9802512911730776,
           0.9798638236410926,
           0.9794633480236965,
           0.9790684443361437,
           0.978699553835869,
           0.9783817564790152,
           0.9781413111665105,
           0.9779823418876484,
           0.9778757004284686
          ],
          [
           1.0049704016497951,
           1.0051317996965625,
           1.0052732316976882,
           1.0053967854966201,
           1.0055051212165016,
           1.0056008476743532,
           1.0056863643533245,
           1.0057634943741764,
           1.0058342307157246,
           1.005899068129438,
           1.0059590708063644,
           1.0060157787905712,
           1.0060701991363916,
           1.0061223394212282,
           1.0061704291370874,
           1.006210886013551,
           1.0062391690501562,
           1.0062499999999996,
           1.006236826571352,
           1.0061931047970363,
           1.0061161204964009,
           1.0060110750392643,
           1.0058901916868634,
           1.0057656944507378,
           1.0056411743755067,
           1.0055073044201541,
           1.0053394391164594,
           1.0051009236498487,
           1.0047542616246368,
           1.004264231602626,
           1.003618422561036,
           1.0028412824759418,
           1.0019866597252631,
           1.0011045947383632,
           1.0002038976055212,
           0.9992483329978548,
           0.9982050244864823,
           0.9971175091661371,
           0.9961022161176682,
           0.9953319410590643,
           0.9949996095255893,
           0.9952516783718833,
           0.9960990043981127,
           0.9973805258252102,
           0.9988056366905659,
           1.0000610496111242,
           1.0009219833563208,
           1.0012831859502578,
           1.0011677730394142,
           1.0006193764908258,
           0.9996657204592305,
           0.9983408898658521,
           0.9967051980778081,
           0.994885525130192,
           0.9930649446424513,
           0.9914213304768641,
           0.9900553835276592,
           0.9889796018133963,
           0.988118329664718,
           0.9874015380987438,
           0.986769258458319,
           0.9861826950008621,
           0.9856573727031259,
           0.9851878871745763,
           0.9847804709346888,
           0.9844382682984092,
           0.9841547191099471,
           0.9839181369373734,
           0.9837281791468526,
           0.9835794684835846,
           0.9834653970975492,
           0.9833829484907732,
           0.9833229188122847,
           0.9832738148390954,
           0.9832383534019551,
           0.9832102159772886,
           0.9831857697193762,
           0.9831460168225654,
           0.9830743809067786,
           0.9829682855245043,
           0.9828392418828685,
           0.9826801462085655,
           0.9824989233893238,
           0.9823103149769973,
           0.982147932687894,
           0.9820270255802868,
           0.9819374901377507,
           0.9818444550723003,
           0.9817117508013885,
           0.9815051604490524,
           0.9812265713605852,
           0.9808873640807049,
           0.9805124005054,
           0.9801234786756379,
           0.9797384928367885,
           0.9793773094745769,
           0.97906429340913,
           0.9788249880361445,
           0.9786634130754188,
           0.9785512146644134
          ],
          [
           1.0048054280909602,
           1.0049669501012093,
           1.005108952348422,
           1.0052335147482183,
           1.005343498278832,
           1.005441736587072,
           1.0055308204720035,
           1.0056126507249568,
           1.0056893157432059,
           1.0057613078586956,
           1.0058296932106723,
           1.0058962862104173,
           1.0059624599330792,
           1.0060286065921393,
           1.006093180970786,
           1.0061525647648988,
           1.0062021606372404,
           1.006236826571352,
           1.00625,
           1.0062346665246191,
           1.0061868400527683,
           1.0061098490745493,
           1.0060142190541608,
           1.005911468815539,
           1.0058059462445628,
           1.0056904085721392,
           1.0055434088037556,
           1.0053315528858928,
           1.0050190257576914,
           1.0045708082572633,
           1.0039724909245318,
           1.003244937126071,
           1.0024383767070182,
           1.0016008572689934,
           1.0007416272755592,
           0.9998264687004209,
           0.9988237672975476,
           0.9977752752452771,
           0.9967936275979888,
           0.9960466545529063,
           0.9957220176681626,
           0.9959618209827337,
           0.9967753165456801,
           0.9980036213092159,
           0.9993620920697724,
           1.0005460182441412,
           1.0013396055956236,
           1.0016452529038202,
           1.001488800199565,
           1.0009140052203134,
           0.9999474310441642,
           0.998620742576104,
           0.9969913128655286,
           0.995182707174624,
           0.9933748315535988,
           0.991743168161089,
           0.9903871384404237,
           0.989319020654069,
           0.9884637713738567,
           0.98775190735851,
           0.9871243476550593,
           0.9865425408399168,
           0.9860221882543887,
           0.9855578355302183,
           0.9851556153833303,
           0.9848185897266387,
           0.9845401559954805,
           0.984309061849391,
           0.9841253540360037,
           0.9839838497525749,
           0.9838778536744842,
           0.983804320807172,
           0.9837542644443801,
           0.9837161734038656,
           0.983692210381152,
           0.9836758346296082,
           0.9836639183960272,
           0.9836377372036799,
           0.98358126259307,
           0.9834920154755,
           0.9833809786508362,
           0.9832405595148281,
           0.9830778853912993,
           0.9829068374933003,
           0.9827597898411874,
           0.982651215789001,
           0.9825713987783753,
           0.9824867898646015,
           0.982362818800516,
           0.9821665737336854,
           0.9819001274447035,
           0.9815742080687073,
           0.9812125153926523,
           0.980835823942962,
           0.9804612538567472,
           0.9801080204935394,
           0.9797996747165746,
           0.9795609470039051,
           0.9793957273055011,
           0.9792765649491941
          ],
          [
           1.0046076202377714,
           1.0047683218824195,
           1.004910023777668,
           1.005034796575608,
           1.0051457195778997,
           1.0052458717501465,
           1.0053380554725866,
           1.0054242596051937,
           1.0055066726554844,
           1.0055857955659782,
           1.0056626877044421,
           1.005739458412158,
           1.0058178822229962,
           1.0058987755685378,
           1.005980840497978,
           1.006060412460258,
           1.006132828254829,
           1.0061931047970363,
           1.0062346665246191,
           1.0062500000000003,
           1.0062337290545462,
           1.006187132156002,
           1.0061188665828082,
           1.006039666722609,
           1.0059547001679925,
           1.0058589920124232,
           1.0057345942002527,
           1.0055516911633813,
           1.0052763279178887,
           1.0048737262694438,
           1.0043272893301642,
           1.0036539490017733,
           1.0028999620835373,
           1.0021111857959948,
           1.0012973560734124,
           1.00042648668311,
           0.9994683615887958,
           0.9984628031972135,
           0.9975182818214439,
           0.9967971718735531,
           0.9964813369422997,
           0.996708078722167,
           0.9974848682853663,
           0.9986551971627051,
           0.999940957424821,
           1.0010468661595384,
           1.0017670137312926,
           1.0020122295761322,
           1.0018113830666031,
           1.0012084039125753,
           1.000228609618617,
           0.9989010021463959,
           0.9972796787590064,
           0.995484457261222,
           0.9936916344186401,
           0.9920739686285658,
           0.9907294365153018,
           0.9896701044938304,
           0.9888216643074795,
           0.9881152746960962,
           0.9874928974111117,
           0.9869162541281125,
           0.9864012672871546,
           0.9859424192956081,
           0.9855457308042331,
           0.985214163633054,
           0.9849410621081944,
           0.984715654543344,
           0.9845384282757911,
           0.9844044157478505,
           0.9843068217623387,
           0.9842425629188933,
           0.9842029111638463,
           0.9841763361341971,
           0.9841643921071054,
           0.9841602874480556,
           0.9841614569807003,
           0.9841494858236332,
           0.9841089468649129,
           0.9840374745656407,
           0.9839454841176813,
           0.9838248359588615,
           0.9836817817921235,
           0.9835292563303848,
           0.9833982829058778,
           0.9833024877849446,
           0.9832325638540915,
           0.9831564200664586,
           0.9830412536154359,
           0.9828555958139316,
           0.9826017308017172,
           0.9822896694821,
           0.9819418389296417,
           0.9815778878835861,
           0.9812140936284662,
           0.9808689567510325,
           0.9805651316937092,
           0.9803264562803946,
           0.9801566724910897,
           0.9800293236650447
          ],
          [
           1.0043778893552393,
           1.0045371877952443,
           1.004678044160422,
           1.0048025225946071,
           1.0049139249479253,
           1.0050155821419358,
           1.0051105177827593,
           1.0052008136112194,
           1.0052887621472575,
           1.0053748810364629,
           1.0054602092422251,
           1.0055471595801884,
           1.0056379269719415,
           1.005733766023062,
           1.0058336350929304,
           1.0059338204832038,
           1.0060295858276178,
           1.0061161204964009,
           1.0061868400527683,
           1.0062337290545462,
           1.00625,
           1.0062348076625003,
           1.0061948597603496,
           1.0061400529528017,
           1.0060763778449329,
           1.0060011884026954,
           1.005900155732669,
           1.0057471818843307,
           1.0055102687402548,
           1.0051549160381696,
           1.0046622733551576,
           1.0040451893120586,
           1.0033457787204643,
           1.0026076016820427,
           1.0018408917919226,
           1.0010160038175495,
           1.0001042036749785,
           0.9991433356183954,
           0.9982375534505767,
           0.9975435501364832,
           0.997237135720858,
           0.9974505737806147,
           0.9981894258865683,
           0.99929960010455,
           1.0005097475976819,
           1.0015343960023746,
           1.0021779659433814,
           1.0023601116586376,
           1.0021129005095986,
           1.0014804790560772,
           1.0004869115133086,
           0.9991584640099032,
           0.9975458447520458,
           0.9957649574412939,
           0.9939882816925887,
           0.9923856511195638,
           0.9910534507980693,
           0.9900034831144349,
           0.9891622172002235,
           0.9884615106225367,
           0.9878444773159143,
           0.9872731224686101,
           0.9867636291941806,
           0.9863104095465236,
           0.985919371881624,
           0.9855933588624295,
           0.9853256495281688,
           0.9851059810910029,
           0.9849353056899224,
           0.984808876610884,
           0.9847197910880207,
           0.9846649206773626,
           0.9846358315197584,
           0.9846209621255148,
           0.9846212247348767,
           0.9846295563797999,
           0.9846440052106735,
           0.9846464732839224,
           0.9846221558950081,
           0.9845688177701986,
           0.9844962927323367,
           0.9843958710993681,
           0.98427288905655,
           0.9841392953910382,
           0.9840247047442099,
           0.9839418488577213,
           0.9838818302720229,
           0.9838140786705818,
           0.9837076443691155,
           0.9835325739347692,
           0.9832913906871185,
           0.9829933588641216,
           0.9826595763111525,
           0.9823085139897842,
           0.9819555780807936,
           0.9816185277236187,
           0.9813190784546446,
           0.9810801342985201,
           0.9809052705392125,
           0.9807690642102248
          ],
          [
           1.0041265369836303,
           1.004284405161957,
           1.004424372629145,
           1.004548502027569,
           1.004660306695495,
           1.0047633574040036,
           1.0048608911444423,
           1.0049550783358576,
           1.0050483148803957,
           1.0051411409969575,
           1.0052345620968512,
           1.0053312827990044,
           1.005433904478983,
           1.0055441031704078,
           1.005661082244518,
           1.0057810817121982,
           1.005899290984138,
           1.0060110750392643,
           1.0061098490745493,
           1.006187132156002,
           1.0062348076625003,
           1.0062500000000003,
           1.0062375279585623,
           1.0062064518631082,
           1.0061635190419647,
           1.0061082973873552,
           1.0060299299905742,
           1.0059059089643918,
           1.0057061469840585,
           1.0053964396908652,
           1.0049557826819853,
           1.004393092207114,
           1.0037464688246491,
           1.0030572222446232,
           1.0023360397525038,
           1.0015555464105539,
           1.0006884710423918,
           0.9997707805204977,
           0.998902466512538,
           0.998234731569964,
           0.9979375112426606,
           0.9981381604346359,
           0.9988403376234912,
           0.999892226450157,
           1.0010289571476125,
           1.0019745253126042,
           1.00254337642442,
           1.002663745330559,
           1.0023708554831212,
           1.0017090882325212,
           1.0007013343340445,
           0.9993712790719714,
           0.9977664325409109,
           0.9959989910740039,
           0.9942377657698277,
           0.9926497001182146,
           0.9913295182265132,
           0.9902886609495101,
           0.9894543106757206,
           0.9887589943120276,
           0.9881470036304496,
           0.9875806197465924,
           0.9870763178691324,
           0.9866284436972365,
           0.9862428032975752,
           0.9859221085077495,
           0.9856595656637102,
           0.9854453996580187,
           0.9852810218598036,
           0.9851619035688748,
           0.9850810320289629,
           0.9850352298697533,
           0.9850163679374208,
           0.9850128374209359,
           0.9850249276165306,
           0.9850452937934938,
           0.9850726045415874,
           0.9850890611392705,
           0.9850804607631892,
           0.9850447022741737,
           0.9849910706217684,
           0.9849103022939731,
           0.9848068413369524,
           0.9846916753258834,
           0.9845930544212866,
           0.9845228300405838,
           0.9844724774663602,
           0.9844128938111958,
           0.9843149368073512,
           0.9841501284165437,
           0.9839212477397811,
           0.983636832584365,
           0.9833166888509789,
           0.9829781403224289,
           0.9826357499391604,
           0.9823065617915477,
           0.9820113776790343,
           0.9817721975272966,
           0.9815924246579201,
           0.9814476303384243
          ],
          [
           1.0038701218589718,
           1.0040270632660457,
           1.0041665801892952,
           1.0042907392077458,
           1.0044032404136245,
           1.0045078657443725,
           1.0046080415494376,
           1.0047060153586749,
           1.004804280531313,
           1.004903400424437,
           1.0050043380152516,
           1.0051100598188751,
           1.005223531635209,
           1.0053468036841604,
           1.0054792953817608,
           1.0056172091767068,
           1.0057556646154413,
           1.0058901916868634,
           1.0060142190541608,
           1.0061188665828082,
           1.0061948597603496,
           1.0062375279585623,
           1.00625,
           1.0062405621105786,
           1.006216595978757,
           1.0061796167194499,
           1.0061218469787634,
           1.0060239948075531,
           1.0058576994787896,
           1.005589041249684,
           1.0051951084503234,
           1.0046813125301826,
           1.0040821503405668,
           1.003436885294006,
           1.0027565781530638,
           1.002015885151712,
           1.0011888722059838,
           1.0003098512263167,
           0.9994750890760131,
           0.9988308710750847,
           0.998541851351885,
           0.998730960055117,
           0.999400102425134,
           1.0003994466184813,
           1.0014698731162286,
           1.0023438350848757,
           1.0028447943549605,
           1.0029087059323627,
           1.0025736960360936,
           1.0018843611224082,
           1.0008625614923756,
           0.9995297331639321,
           0.9979306194763065,
           0.9961742235631024,
           0.9944261557747677,
           0.992850756444328,
           0.9915411501232015,
           0.99050832281181,
           0.9896800316362498,
           0.9889893671827766,
           0.9883817236207346,
           0.9878196227327861,
           0.9873198415830441,
           0.9868766732760964,
           0.9864958372405361,
           0.9861799150733361,
           0.9859220419657403,
           0.9857128695946451,
           0.9855542291298836,
           0.9854417953033853,
           0.9853684499466944,
           0.9853309666795094,
           0.9853215022770494,
           0.9853283855755814,
           0.9853513535811426,
           0.9853827828988149,
           0.9854219243267036,
           0.9854512386798894,
           0.9854570630279389,
           0.9854374209656467,
           0.9854011156175182,
           0.985338389105084,
           0.9852528752239347,
           0.9851546883787599,
           0.9850708513366713,
           0.9850124116066298,
           0.9849711599389913,
           0.9849193016733043,
           0.9848293269113088,
           0.9846740846408558,
           0.9844566047226042,
           0.9841847692118164,
           0.9838772190080157,
           0.9835502426301089,
           0.9832176429646786,
           0.9828958226353633,
           0.9826047587590561,
           0.982365642976419,
           0.9821817161428088,
           0.9820294325505081
          ],
          [
           1.0036224793195272,
           1.0037792364961093,
           1.003918959351993,
           1.0040437222117624,
           1.0041573822497767,
           1.0042638980728396,
           1.0043668557360925,
           1.0044685654641436,
           1.004571605916046,
           1.004676561147428,
           1.0047843492863855,
           1.0048981620170716,
           1.005021273753602,
           1.0051560509059576,
           1.0053020926382608,
           1.005455572616546,
           1.0056115484441563,
           1.0057656944507378,
           1.005911468815539,
           1.006039666722609,
           1.0061400529528017,
           1.0062064518631082,
           1.0062405621105786,
           1.0062500000000005,
           1.0062426512502738,
           1.006221653549787,
           1.00618181646846,
           1.0061065779667622,
           1.0059690567072415,
           1.005735580833031,
           1.0053816284395733,
           1.0049096478172934,
           1.0043510739612298,
           1.0037434159515881,
           1.0030980283260165,
           1.002391284538798,
           1.0015983955359482,
           1.0007522794521158,
           0.9999460228390027,
           0.9993217321831009,
           0.9990395595777978,
           0.9992186646152567,
           0.9998594406335564,
           1.0008137123057288,
           1.0018272134616426,
           1.002639565947207,
           1.0030819127367254,
           1.0030967744363892,
           1.0027248211246957,
           1.0020108133648584,
           1.0009757284652536,
           0.9996391310412778,
           0.9980434993636035,
           0.9962952578710541,
           0.9945574129394477,
           0.992992129564677,
           0.9916911064258381,
           0.9906648298583733,
           0.9898414822339746,
           0.9891545789434825,
           0.9885504688895956,
           0.9879918645368311,
           0.9874958187024447,
           0.9870565935911504,
           0.9866798381297794,
           0.9863680185682825,
           0.9861142151419907,
           0.985909426197376,
           0.985755839718737,
           0.9856493110727783,
           0.9855826316046713,
           0.9855525300285767,
           0.9855514058473928,
           0.9855675166577236,
           0.9856001483157156,
           0.9856414167481988,
           0.9856910775158929,
           0.9857318098506154,
           0.985750411466157,
           0.9857450078592491,
           0.9857239979847092,
           0.9856772096089194,
           0.9856075743233634,
           0.985524450319481,
           0.9854538147539813,
           0.98540602584665,
           0.9853731308144383,
           0.9853284404521276,
           0.9852458406704901,
           0.9850993066441858,
           0.9848920905428988,
           0.9846315124271471,
           0.984335216904542,
           0.9840186103515696,
           0.9836948446442746,
           0.9833797710493516,
           0.9830926604132624,
           0.9828540195926918,
           0.9826669528536152,
           0.9825086589963828
          ],
          [
           1.0033852722487138,
           1.0035423549151605,
           1.003682727672829,
           1.0038084731605554,
           1.0039235851201733,
           1.004032173540407,
           1.0041379623021283,
           1.004243314223689,
           1.0043508777798704,
           1.004461256200545,
           1.004575326089592,
           1.004696476778872,
           1.004828246023575,
           1.0049732741328208,
           1.0051313111132758,
           1.005298505309702,
           1.0054698607667676,
           1.0056411743755067,
           1.0058059462445628,
           1.0059547001679925,
           1.0060763778449329,
           1.0061635190419647,
           1.006216595978757,
           1.0062426512502738,
           1.00625,
           1.0062431588881116,
           1.0062191454943634,
           1.0061637407176625,
           1.0060513427863418,
           1.005848484463528,
           1.005529248222208,
           1.0050935360452151,
           1.0045701566376253,
           1.0039951176148338,
           1.003380026781455,
           1.0027027286948156,
           1.001939405687082,
           1.001121768603933,
           1.0003401275976995,
           0.9997329857831494,
           0.9994566104307441,
           0.9996269232413848,
           1.000243035153113,
           1.0011582129423375,
           1.002122379010824,
           1.0028813318970073,
           1.003272825355524,
           1.0032450152823242,
           1.0028408030086602,
           1.002105054562588,
           1.0010579496114898,
           0.999717436592788,
           0.9981240680847949,
           0.9963821153042535,
           0.994652424227292,
           0.9930953499198196,
           0.9918013775284793,
           0.9907805241653114,
           0.9899613044381269,
           0.9892775630990693,
           0.9886764572733591,
           0.988120848093299,
           0.9876280136168529,
           0.9871922030896079,
           0.9868190087979661,
           0.9865108005650843,
           0.9862606256803483,
           0.9860597685099034,
           0.9859107165186002,
           0.9858094825734963,
           0.9857487866190898,
           0.9857253171093139,
           0.9857316741677415,
           0.9857560452490027,
           0.9857973457506228,
           0.9858474601263787,
           0.985906567873054,
           0.9859575424809557,
           0.9859875803775622,
           0.9859948816602894,
           0.9859874998511258,
           0.9859549064515442,
           0.985899419865123,
           0.985829737744449,
           0.9857709416099129,
           0.9857328055484532,
           0.9857075928931393,
           0.9856695658782274,
           0.9855938139802289,
           0.9854552754361429,
           0.9852573859213056,
           0.9850069756090521,
           0.9847208297004424,
           0.9844135980434618,
           0.9840978692213973,
           0.9837890123259294,
           0.9835056880813732,
           0.9832678135371353,
           0.9830783885349812,
           0.9829152549872081
          ],
          [
           1.0031427161918687,
           1.0033000893725497,
           1.0034410708596493,
           1.0035677480529615,
           1.003684249389996,
           1.0037948292167516,
           1.0039033443951133,
           1.0040122086375272,
           1.0041241333572337,
           1.004239740610473,
           1.0043598693820845,
           1.0044881036435689,
           1.0046282321899735,
           1.004783160026158,
           1.0049527803574538,
           1.00513321558905,
           1.005319420104521,
           1.0055073044201541,
           1.0056904085721392,
           1.0058589920124232,
           1.0060011884026954,
           1.0061082973873552,
           1.0061796167194499,
           1.006221653549787,
           1.0062431588881116,
           1.0062499999999994,
           1.0062413160831052,
           1.0062051387677202,
           1.0061170807096325,
           1.0059438471573265,
           1.005658151487508,
           1.0052574406510517,
           1.004768013123844,
           1.0042244635782538,
           1.0036386686273724,
           1.0029898830559365,
           1.0022551894365084,
           1.001465085320937,
           1.000707177247944,
           1.0001164841014196,
           0.9998455358384879,
           1.0000071697629607,
           1.0005993288704804,
           1.0014767421934396,
           1.0023934269664523,
           1.0031011477257818,
           1.0034440046720003,
           1.0033755417601928,
           1.0029407518998634,
           1.0021845644337621,
           1.0011263334874052,
           0.9997823870171874,
           0.9981913565998893,
           0.9964554082935694,
           0.9947333310558852,
           0.9931838176026431,
           0.9918962879376487,
           0.990880371030618,
           0.9900649121071949,
           0.989384066046312,
           0.9887857353789924,
           0.9882329120240771,
           0.9877430647130958,
           0.9873104224414837,
           0.986940527534285,
           0.9866356640934534,
           0.9863888554364227,
           0.9861916662698431,
           0.986046870769441,
           0.9859506337858024,
           0.9858956088197339,
           0.9858784438521481,
           0.9858919280719918,
           0.9859241842354198,
           0.9859737763732671,
           0.9860323707415093,
           0.9861005522376936,
           0.986161386875485,
           0.9862024475290231,
           0.9862219938565748,
           0.9862277432301542,
           0.986208817566581,
           0.9861669437014,
           0.9861101824706172,
           0.9860627612935184,
           0.9860339124559978,
           0.9860161248568402,
           0.985984586492927,
           0.9859155341412102,
           0.9857848160092039,
           0.9855960247459893,
           0.9853555123375122,
           0.9850792396624183,
           0.9847811328008241,
           0.9844732354844865,
           0.9841704484123334,
           0.983890845938975,
           0.9836537808969523,
           0.9834621686047105,
           0.9832944825272988
          ],
          [
           1.002862335865931,
           1.0030189405953978,
           1.0031595604219414,
           1.0032862777944629,
           1.0034033812704553,
           1.0035152970753554,
           1.0036260385950138,
           1.003738080201954,
           1.0038542012531553,
           1.003975049920333,
           1.0041014282487957,
           1.0042371486793924,
           1.0043862903369127,
           1.0045520685033942,
           1.004734545211409,
           1.0049298072389856,
           1.0051327590327632,
           1.0053394391164594,
           1.0055434088037556,
           1.0057345942002527,
           1.005900155732669,
           1.0060299299905742,
           1.0061218469787634,
           1.00618181646846,
           1.0062191454943634,
           1.0062413160831052,
           1.0062499999999994,
           1.0062358441672674,
           1.0061758532000036,
           1.0060369001781875,
           1.005790070793108,
           1.0054299344377664,
           1.0049798756897204,
           1.0044728741290958,
           1.0039211596991267,
           1.0033056363247015,
           1.0026044113998003,
           1.0018464950943002,
           1.0011163243755046,
           1.000544831438795,
           1.0002801910877794,
           1.0004316752252693,
           1.0009959385209095,
           1.0018295129221693,
           1.0026912835221564,
           1.0033400239199746,
           1.0036272218214923,
           1.0035127072568284,
           1.00304378171471,
           1.0022654355441676,
           1.0011960135922002,
           0.9998498571467886,
           0.9982632096698206,
           0.9965356233037387,
           0.9948233853538275,
           0.9932832524879139,
           0.9920035202140804,
           0.9909935151980079,
           0.990182528856593,
           0.9895051163386439,
           0.9889100383805195,
           0.9883604568303515,
           0.9878740332921107,
           0.9874449501113882,
           0.9870786959868059,
           0.9867774711395433,
           0.9865342607370817,
           0.9863409697454142,
           0.9862007157916328,
           0.9861098388237066,
           0.9860609189725866,
           0.9860505644409758,
           0.9860717806172679,
           0.9861126261835681,
           0.986171247073534,
           0.9862390881075411,
           0.9863171992566215,
           0.9863888705307604,
           0.9864421051534951,
           0.986475235152952,
           0.9864955827576916,
           0.9864918466598516,
           0.9864650740809321,
           0.9864225926049928,
           0.9863876452360851,
           0.9863688559149582,
           0.986359001122115,
           0.9863343595388143,
           0.9862724939984284,
           0.9861503025237829,
           0.985971546445925,
           0.9857420182042976,
           0.9854767216626211,
           0.9851887400136896,
           0.9848894790185497,
           0.9845932951215142,
           0.9843175816124075,
           0.9840810376493314,
           0.9838864861302474,
           0.983713158940002
          ],
          [
           1.002498985076701,
           1.0026527637633549,
           1.0027911456617147,
           1.0029161962928785,
           1.0030324198239482,
           1.0031444742266078,
           1.003256580354249,
           1.0033712958785903,
           1.0034914825428831,
           1.0036178333283092,
           1.0037511074671601,
           1.0038954156792117,
           1.0040552209349218,
           1.0042341501867007,
           1.0044324932048212,
           1.0046462796560134,
           1.004870353836931,
           1.0051009236498487,
           1.0053315528858928,
           1.0055516911633813,
           1.0057471818843307,
           1.0059059089643918,
           1.0060239948075531,
           1.0061065779667622,
           1.0061637407176625,
           1.0062051387677202,
           1.0062358441672674,
           1.0062500000000003,
           1.0062264191614874,
           1.0061321822375164,
           1.0059362016404634,
           1.0056292200010652,
           1.0052307709857247,
           1.0047717183625844,
           1.0042647874356858,
           1.0036930796683703,
           1.0030360571739485,
           1.0023207250640545,
           1.0016273161206917,
           1.0010813217855468,
           1.0008251565314876,
           1.0009633899507933,
           1.0014910061523363,
           1.002266978608837,
           1.003056696031656,
           1.0036282740806048,
           1.003842983239192,
           1.003669027790744,
           1.0031566431660648,
           1.002350919717461,
           1.0012688633748204,
           0.9999221044078719,
           0.9983435568842005,
           0.9966290761318826,
           0.9949314406278549,
           0.9934047760283926,
           0.9921359856037303,
           0.9911341757665408,
           0.9903293184366112,
           0.9896565945951089,
           0.9890659019054715,
           0.988520634100515,
           0.9880387094144392,
           0.9876142108301394,
           0.987252552857842,
           0.9869558374381777,
           0.9867169804726645,
           0.9865283674038935,
           0.9863935771760393,
           0.9863091668098755,
           0.9862676312666724,
           0.9862655310197787,
           0.9862961633132699,
           0.9863475248169679,
           0.986417169634035,
           0.9864962995634672,
           0.9865865750884493,
           0.9866715782331401,
           0.9867398605845976,
           0.9867898903295649,
           0.9868284573528929,
           0.9868436794608917,
           0.9868357152099899,
           0.9868109390721067,
           0.9867913105539435,
           0.9867846569483801,
           0.9867841513830288,
           0.9867675206113099,
           0.9867140760842834,
           0.9866021127858233,
           0.9864356178967122,
           0.9862196457348914,
           0.9859679353880655,
           0.9856924440797199,
           0.9854037373871022,
           0.9851154606167294,
           0.9848441100436935,
           0.9846075213970936,
           0.9844083788931759,
           0.984226932916015
          ],
          [
           1.0020116398746213,
           1.0021599393056266,
           1.0022936602699144,
           1.002414839887394,
           1.002528264590479,
           1.0026389044641186,
           1.0027512575805717,
           1.0028679948980848,
           1.0029920777528918,
           1.0031242663634385,
           1.003265269776058,
           1.003419582442591,
           1.0035921768250755,
           1.0037872239333059,
           1.0040053177277657,
           1.0042424010294606,
           1.0044932372460529,
           1.0047542616246368,
           1.0050190257576914,
           1.0052763279178887,
           1.0055102687402548,
           1.0057061469840585,
           1.0058576994787896,
           1.0059690567072415,
           1.0060513427863418,
           1.0061170807096325,
           1.0061758532000036,
           1.0062264191614874,
           1.0062500000000003,
           1.006213958996862,
           1.0060843482793531,
           1.0058468456093528,
           1.005515896678543,
           1.0051195852726842,
           1.0046713229404949,
           1.0041571406736784,
           1.003558303580955,
           1.0028991881698184,
           1.002254497621178,
           1.0017425425597306,
           1.0014981385505128,
           1.001619624303352,
           1.0020997409458428,
           1.0028006597145438,
           1.0034963616719472,
           1.003967324707361,
           1.0040877425854648,
           1.0038369142724013,
           1.0032689367801282,
           1.0024290858056266,
           1.001332638349642,
           0.9999876134390169,
           0.9984224149564551,
           0.9967277894257865,
           0.9950516401598126,
           0.9935444701929662,
           0.9922913628090634,
           0.9913012675120962,
           0.9905051622304575,
           0.9898391512420706,
           0.9892546676039088,
           0.9887154464865056,
           0.9882397284614136,
           0.9878214483077454,
           0.9874659143097468,
           0.987175112004951,
           0.9869418598899442,
           0.9867591835522321,
           0.9866312677076874,
           0.9865549483856118,
           0.9865226189935492,
           0.9865307851142587,
           0.9865731256979757,
           0.9866375717345838,
           0.9867208933333071,
           0.9868139984663422,
           0.986919327741103,
           0.9870208590243108,
           0.9871078814302234,
           0.9871790493199347,
           0.9872404418646097,
           0.9872794200217285,
           0.9872949972830711,
           0.9872923075285498,
           0.9872916051476097,
           0.9872996662095764,
           0.987310191181059,
           0.9873028281599782,
           0.987259203462537,
           0.9871594713763319,
           0.9870079138104167,
           0.9868086240037942,
           0.9865736790533339,
           0.9863135605038931,
           0.9860377356019581,
           0.9857589163080638,
           0.9854924114791577,
           0.9852549078765798,
           0.9850488931531592,
           0.9848559689656926
          ],
          [
           1.0013652088170664,
           1.0015052571014782,
           1.0016317840794846,
           1.001746784255342,
           1.0018553940762482,
           1.0019629783412902,
           1.0020743860403152,
           1.0021924346652742,
           1.0023202032418788,
           1.0024585427059403,
           1.0026080984141996,
           1.0027738384165612,
           1.0029613757319644,
           1.0031755628840306,
           1.0034173771692863,
           1.003682642716995,
           1.0039660187273725,
           1.004264231602626,
           1.0045708082572633,
           1.0048737262694438,
           1.0051549160381696,
           1.0053964396908652,
           1.005589041249684,
           1.005735580833031,
           1.005848484463528,
           1.0059438471573265,
           1.0060369001781875,
           1.0061321822375164,
           1.006213958996862,
           1.0062500000000003,
           1.0062027995905871,
           1.0060516816304514,
           1.0058046988052574,
           1.0054864409606636,
           1.005111192099834,
           1.004668682333255,
           1.0041424662061607,
           1.0035536804644958,
           1.0029701470277785,
           1.002501198949811,
           1.0022721227344358,
           1.002373396351242,
           1.0027948754692046,
           1.0034026682773018,
           1.0039814899268105,
           1.0043273084433204,
           1.0043305253150567,
           1.0039843733736304,
           1.0033478201988035,
           1.0024664515759596,
           1.0013534481722188,
           1.000012326314284,
           0.9984657986624074,
           0.9967980500438719,
           0.9951506654330778,
           0.9936694444520304,
           0.9924371491959598,
           0.9914626082489191,
           0.9906781237000927,
           0.9900210259782067,
           0.9894447249962955,
           0.988913426865127,
           0.9884457767122211,
           0.9880355064895078,
           0.9876877894197295,
           0.9874044674707494,
           0.9871782229600493,
           0.9870028798917162,
           0.9868833880906842,
           0.9868169363141024,
           0.9867957866498727,
           0.9868163769090854,
           0.986872871158554,
           0.9869531295273388,
           0.98705294482114,
           0.9871628565690372,
           0.9872862678445709,
           0.9874076615213986,
           0.9875172763858105,
           0.9876139977983291,
           0.9877030111923745,
           0.9877707457049317,
           0.9878148110121044,
           0.9878388005263812,
           0.9878608088444015,
           0.9878862877142599,
           0.987909589781467,
           0.9879127782918241,
           0.9878803913061693,
           0.9877949301165151,
           0.9876610484701436,
           0.9874816505049394,
           0.9872667393532062,
           0.9870249611869927,
           0.9867644143823494,
           0.9864966470365024,
           0.9862354736821382,
           0.9859961324060018,
           0.9857808473871702,
           0.9855729145115886
          ],
          [
           1.0005528636643042,
           1.0006824736869238,
           1.000799799844433,
           1.000906785578671,
           1.0010089643699995,
           1.0011121568074086,
           1.001221619476581,
           1.0013403434212638,
           1.0014715416174267,
           1.0016161725150075,
           1.0017748061082508,
           1.00195294648445,
           1.0021569493378137,
           1.0023924502314312,
           1.0026608711182063,
           1.0029578942769934,
           1.0032780546105513,
           1.003618422561036,
           1.0039724909245318,
           1.0043272893301642,
           1.0046622733551576,
           1.0049557826819853,
           1.0051951084503234,
           1.0053816284395733,
           1.005529248222208,
           1.005658151487508,
           1.005790070793108,
           1.0059362016404634,
           1.0060843482793531,
           1.0062027995905871,
           1.0062500000000005,
           1.0061979556043639,
           1.0060473240646397,
           1.0058186319846025,
           1.0055271546289957,
           1.0051669104655052,
           1.0047241510350409,
           1.0042163426381778,
           1.0037034326482515,
           1.0032844337732365,
           1.0030736463215915,
           1.0031524296060168,
           1.0035072066338253,
           1.0040085161778887,
           1.004453378610689,
           1.004655593711522,
           1.00452426815641,
           1.0040687481664485,
           1.0033536707074457,
           1.0024250598134223,
           1.0012937655493857,
           0.9999581855619907,
           0.9984345086453582,
           0.9967992976292385,
           0.9951867089922373,
           0.9937369228447399,
           0.9925298808105678,
           0.9915742436674538,
           0.9908038620451327,
           0.9901575424348099,
           0.9895910500786176,
           0.9890691972156089,
           0.9886111096539834,
           0.9882102807210158,
           0.987871731481312,
           0.9875971373561871,
           0.9873790083920279,
           0.987212077231785,
           0.987102178482045,
           0.9870469163490618,
           0.9870384012596543,
           0.9870729934020441,
           0.9871454222096725,
           0.9872434696525532,
           0.9873618148331901,
           0.9874905678322525,
           0.9876342244705681,
           0.9877778553726153,
           0.9879128236119199,
           0.9880382826206837,
           0.9881583865287576,
           0.9882585141881686,
           0.9883346831222181,
           0.9883887226323202,
           0.9884362084103501,
           0.9884810462273145,
           0.9885183249515944,
           0.9885328855909242,
           0.9885126364007109,
           0.9884428083520821,
           0.9883285001392249,
           0.9881712649537434,
           0.9879787188769396,
           0.9877574032442985,
           0.9875138408266984,
           0.9872582438246096,
           0.9870027004348032,
           0.9867607690062677,
           0.9865343458561852,
           0.9863086677380578
          ],
          [
           0.9996087097532341,
           0.9997267615776869,
           0.9998338443986179,
           0.9999318500014548,
           1.0000267244414585,
           1.0001247652766838,
           1.0002316590736446,
           1.0003505845239904,
           1.0004848965951423,
           1.000635671688336,
           1.000803396657882,
           1.0009941299526117,
           1.001215011272103,
           1.0014724991808925,
           1.001768486164068,
           1.0020985032495011,
           1.002456953985285,
           1.0028412824759418,
           1.003244937126071,
           1.0036539490017733,
           1.0040451893120586,
           1.004393092207114,
           1.0046813125301826,
           1.0049096478172934,
           1.0050935360452151,
           1.0052574406510517,
           1.0054299344377664,
           1.0056292200010652,
           1.0058468456093528,
           1.0060516816304514,
           1.0061979556043639,
           1.0062499999999999,
           1.0062006692177443,
           1.0060661595351152,
           1.0058627444220702,
           1.0055889641351055,
           1.0052339783255189,
           1.004811447722996,
           1.0043730592036828,
           1.004006982303095,
           1.003815945731994,
           1.0038716706818056,
           1.0041568797426275,
           1.0045466840758548,
           1.004850986513527,
           1.0049023357191789,
           1.004629552424096,
           1.0040590281628394,
           1.0032614249163052,
           1.002283280832089,
           1.0011330492861055,
           0.9998038144224595,
           0.9983049606124302,
           0.9967050442785341,
           0.9951303334587378,
           0.9937149151352465,
           0.9925355621430875,
           0.9916006658400813,
           0.9908456997642011,
           0.9902110721309486,
           0.9896551146600991,
           0.9891433390899165,
           0.9886954214463737,
           0.988304603832156,
           0.9879757503753013,
           0.9877103552123488,
           0.9875007382293216,
           0.987342565882311,
           0.9872426129835902,
           0.9871989381316824,
           0.9872034973263656,
           0.987252569654463,
           0.9873414821405458,
           0.9874579334189719,
           0.9875954522150207,
           0.9877436819013868,
           0.9879082538242806,
           0.9880748596019485,
           0.9882360655388607,
           0.9883913223693734,
           0.9885437147775419,
           0.9886775148658208,
           0.9887870766656818,
           0.9888723758822128,
           0.9889463321408842,
           0.9890112036207468,
           0.9890628199951712,
           0.9890889279099154,
           0.9890810031792981,
           0.989027171325899,
           0.9889330339322673,
           0.9887987335916574,
           0.9886293735128113,
           0.9884292763749238,
           0.9882033006987904,
           0.9879602569537701,
           0.9877104159474174,
           0.9874655658240625,
           0.9872272366209929,
           0.9869826876121138
          ],
          [
           0.9985965280235226,
           0.9987029569527528,
           0.9987997055886982,
           0.9988886180366537,
           0.9989760396345919,
           0.9990687301964378,
           0.9991727950792207,
           0.9992915993043502,
           0.999428633743098,
           0.9995850981316103,
           0.9997613954186924,
           0.9999641164251794,
           1.00020116423682,
           1.000479798240965,
           1.000802370793233,
           1.0011642635608,
           1.0015597546242483,
           1.0019866597252631,
           1.0024383767070182,
           1.0028999620835373,
           1.0033457787204643,
           1.0037464688246491,
           1.0040821503405668,
           1.0043510739612298,
           1.0045701566376253,
           1.004768013123844,
           1.0049798756897204,
           1.0052307709857247,
           1.005515896678543,
           1.0058046988052574,
           1.0060473240646397,
           1.0062006692177443,
           1.006250000000001,
           1.0062072686322034,
           1.0060896790913392,
           1.005900172403458,
           1.0056307830436526,
           1.0052915092288053,
           1.0049259924269849,
           1.0046118536092297,
           1.004440557275817,
           1.004474436087891,
           1.0046925759141938,
           1.0049744969091439,
           1.005142597605649,
           1.0050476715618857,
           1.004637741818131,
           1.0039558607658903,
           1.0030785867312049,
           1.0020529700398113,
           1.000885145807869,
           0.9995630544529783,
           0.9980894696856938,
           0.9965251441459038,
           0.9949886062951188,
           0.9936078850965265,
           0.992456527022179,
           0.9915426003875368,
           0.9908031803034716,
           0.9901802954605229,
           0.9896348394471058,
           0.9891330382623729,
           0.9886951478194252,
           0.9883141681723663,
           0.9879948076459814,
           0.9877383739291075,
           0.9875370071265789,
           0.9873872769631289,
           0.987296875051007,
           0.987264305164916,
           0.9872813863621256,
           0.987344321895524,
           0.987449029241187,
           0.9875831271950077,
           0.9877390288410575,
           0.9879059221987196,
           0.988090537363473,
           0.988279172594422,
           0.9884655559950766,
           0.9886494582329397,
           0.9888329450562081,
           0.9889991905892505,
           0.9891409328541103,
           0.9892563475319014,
           0.9893557939105595,
           0.9894399152918236,
           0.9895052245117377,
           0.9895422794002786,
           0.9895460415285463,
           0.9895074664565331,
           0.9894326783661556,
           0.9893204511948159,
           0.9891734428743514,
           0.9889938052669018,
           0.9887847763859995,
           0.9885538070873134,
           0.9883094048831153,
           0.9880616367469526,
           0.9878116649205337,
           0.9875487018002689
          ],
          [
           0.9975721944499143,
           0.9976674789390976,
           0.9977542880105981,
           0.9978344226393567,
           0.9979146014493419,
           0.9980020150110285,
           0.9981031592817473,
           0.9982215763324889,
           0.9983608747193193,
           0.998522375553037,
           0.9987064069074848,
           0.9989200524634287,
           0.9991719221997797,
           0.9994700205278886,
           0.9998171287666635,
           1.0002084855166806,
           1.0006382543600632,
           1.0011045947383632,
           1.0016008572689934,
           1.0021111857959948,
           1.0026076016820427,
           1.0030572222446232,
           1.003436885294006,
           1.0037434159515881,
           1.0039951176148338,
           1.0042244635782538,
           1.0044728741290958,
           1.0047717183625844,
           1.0051195852726842,
           1.0054864409606636,
           1.0058186319846025,
           1.0060661595351152,
           1.0062072686322034,
           1.0062500000000005,
           1.0062124315719012,
           1.0061016005015149,
           1.0059122116334305,
           1.0056508637067796,
           1.0053536893014978,
           1.0050884963122686,
           1.0049362886930766,
           1.0049506974822227,
           1.0051074595309566,
           1.0052902189309871,
           1.0053330077453233,
           1.0051035990085875,
           1.0045678588529199,
           1.003784340662414,
           1.002835082983711,
           1.001767588341898,
           1.0005858020284,
           0.9992728205169508,
           0.9978251641855267,
           0.9962961856694769,
           0.9947970779691471,
           0.9934501659925928,
           0.9923260117104777,
           0.9914324509326109,
           0.9907081560245878,
           0.9900967616675005,
           0.9895615570105847,
           0.9890694447958105,
           0.9886412099206435,
           0.9882696314649503,
           0.9879592647040809,
           0.9877112420529924,
           0.9875175617978785,
           0.9873756496393821,
           0.9872940299443306,
           0.9872716066893255,
           0.9873000949171781,
           0.9873756353871006,
           0.9874946992957764,
           0.9876448404794833,
           0.9878174301625633,
           0.9880012600653247,
           0.9882040668989133,
           0.98841272526536,
           0.9886220136242664,
           0.9888320249152417,
           0.9890438802525967,
           0.9892397231407742,
           0.9894107933327357,
           0.9895536038368514,
           0.9896761672716962,
           0.9897776370547455,
           0.9898551526948882,
           0.9899018826101091,
           0.9899160216599271,
           0.9898911528663015,
           0.9898338880803476,
           0.9897417347422904,
           0.9896150845513536,
           0.9894540705763148,
           0.9892604368994307,
           0.9890403746313465,
           0.9888007619272199,
           0.9885500641860144,
           0.988289106123625,
           0.9880089172245328
          ],
          [
           0.9965452518712763,
           0.9966295517912892,
           0.9967065129251482,
           0.9967778945755417,
           0.9968507719382367,
           0.9969327449747258,
           0.9970306780695687,
           0.9971482828002506,
           0.9972892645833096,
           0.9974550602713665,
           0.9976459359057736,
           0.9978694408856379,
           0.9981348429234376,
           0.9984508433624243,
           0.9988206257072921,
           0.9992392892399311,
           0.999700888665052,
           1.0002038976055212,
           1.0007416272755592,
           1.0012973560734124,
           1.0018408917919226,
           1.0023360397525038,
           1.0027565781530638,
           1.0030980283260165,
           1.003380026781455,
           1.0036386686273724,
           1.0039211596991267,
           1.0042647874356858,
           1.0046713229404949,
           1.005111192099834,
           1.0055271546289957,
           1.0058627444220702,
           1.0060896790913392,
           1.0062124315719012,
           1.0062499999999994,
           1.006213284463122,
           1.0060994569220534,
           1.0059118815119485,
           1.005679641422146,
           1.0054613467119127,
           1.0053282229255478,
           1.0053257902060657,
           1.0054267264332768,
           1.0055186222310775,
           1.0054464956576241,
           1.00509405600844,
           1.0044438589236113,
           1.0035689218694843,
           1.0025563676035432,
           1.001454091783824,
           1.0002639222646972,
           0.9989642500408966,
           0.9975454745664308,
           0.9960536747085966,
           0.9945928897505717,
           0.9932800443934738,
           0.9921830968433043,
           0.9913099107536371,
           0.9906008849622232,
           0.9900012861368275,
           0.9894766409496987,
           0.9889945082960406,
           0.9885760751023615,
           0.9882139107628198,
           0.9879124188034663,
           0.9876725787481937,
           0.9874862844467274,
           0.9873517908150984,
           0.9872783746910063,
           0.9872653002857406,
           0.9873041992779064,
           0.9873911623233664,
           0.9875231791999763,
           0.9876877583136365,
           0.9878753034194642,
           0.9880742741836777,
           0.9882933321145896,
           0.9885199142884681,
           0.9887497668931954,
           0.9889832644273586,
           0.9892206204634649,
           0.989443044312766,
           0.9896403915660325,
           0.9898076343747264,
           0.9899505913690527,
           0.9900670635699206,
           0.9901548208856714,
           0.9902095021878013,
           0.9902323020746855,
           0.990219243750198,
           0.9901773439717685,
           0.9901029357574725,
           0.989994311848821,
           0.9898497490321164,
           0.9896696188115524,
           0.9894589330432098,
           0.9892230517533934,
           0.9889689355068495,
           0.9886971114721146,
           0.9884003351933555
          ],
          [
           0.995476945386306,
           0.9955495300461822,
           0.9956159093945385,
           0.9956778023716331,
           0.9957426428749727,
           0.9958184412366674,
           0.9959124290680933,
           0.9960284903350799,
           0.9961704095339977,
           0.9963397448591214,
           0.9965367035894435,
           0.9967692990487228,
           0.9970474424701271,
           0.9973805208674085,
           0.9977721163263307,
           0.998217182904744,
           0.9987096633528101,
           0.9992483329978548,
           0.9998264687004209,
           1.00042648668311,
           1.0010160038175495,
           1.0015555464105539,
           1.002015885151712,
           1.002391284538798,
           1.0027027286948156,
           1.0029898830559365,
           1.0033056363247015,
           1.0036930796683703,
           1.0041571406736784,
           1.004668682333255,
           1.0051669104655052,
           1.0055889641351055,
           1.005900172403458,
           1.0061016005015149,
           1.006213284463122,
           1.00625,
           1.0062113314333312,
           1.0060974007332788,
           1.0059303485572357,
           1.0057597170824484,
           1.0056471140389942,
           1.0056300820556794,
           1.0056783294561566,
           1.0056833950890072,
           1.0055012126708658,
           1.0050312399943877,
           1.0042724808366283,
           1.0033121843420671,
           1.002242421137184,
           1.001111480878184,
           0.9999190658293318,
           0.9986387500267929,
           0.9972545906687336,
           0.9958050450217961,
           0.9943866782380113,
           0.9931109250210443,
           0.9920433486551649,
           0.9911921337718884,
           0.9904997051030673,
           0.9899131272877396,
           0.9894001694868129,
           0.9889290836030679,
           0.9885213235020451,
           0.988169252303432,
           0.9878771163380118,
           0.987645752955605,
           0.9874669832278391,
           0.9873399109130996,
           0.9872745198842872,
           0.9872704131133523,
           0.9873191529978093,
           0.9874167846320033,
           0.9875608156774434,
           0.9877387266744014,
           0.9879399861318197,
           0.9881527621901995,
           0.9883866082034114,
           0.988629551575531,
           0.988878286443402,
           0.9891334299298773,
           0.9893942689164172,
           0.9896411472068865,
           0.9898625816403153,
           0.9900520491119412,
           0.9902131906467743,
           0.9903425194774211,
           0.9904384807924173,
           0.9904991857069771,
           0.9905287580683173,
           0.9905256137413189,
           0.990497104536332,
           0.990438427426517,
           0.9903458341823289,
           0.9902158193619264,
           0.9900474422045197,
           0.9898445537365328,
           0.9896110230019372,
           0.9893523153977972,
           0.9890686794644836,
           0.9887545998575201
          ],
          [
           0.9943333886379675,
           0.9943929344111431,
           0.994447441785156,
           0.9944985963291009,
           0.9945542006237835,
           0.9946226879131779,
           0.9947116720154467,
           0.9948252247978646,
           0.9949672001907282,
           0.9951392841750606,
           0.9953416135128883,
           0.9955826829689421,
           0.9958730578968205,
           0.99622281909713,
           0.9966359594678599,
           0.9971072815445331,
           0.9976306084370915,
           0.9982050244864823,
           0.9988237672975476,
           0.9994683615887958,
           1.0001042036749785,
           1.0006884710423918,
           1.0011888722059838,
           1.0015983955359482,
           1.001939405687082,
           1.0022551894365084,
           1.0026044113998003,
           1.0030360571739485,
           1.003558303580955,
           1.0041424662061607,
           1.0047241510350409,
           1.0052339783255189,
           1.0056307830436526,
           1.0059122116334305,
           1.0060994569220534,
           1.0062113314333312,
           1.00625,
           1.006212226147596,
           1.0061130843625055,
           1.0059928779371072,
           1.0059034214331064,
           1.0058741208536024,
           1.0058716190861112,
           1.0057914300188775,
           1.0055006286414114,
           1.0049147611935383,
           1.004049623217932,
           1.0030071287272448,
           1.0018843231957286,
           1.0007299669323277,
           0.9995416025434477,
           0.9982877951698607,
           0.9969459019580068,
           0.9955461749136149,
           0.9941770413574624,
           0.9929439575808369,
           0.99191001269482,
           0.9910839023941898,
           0.990410447977274,
           0.9898388307997043,
           0.9893392482939517,
           0.9888807615022227,
           0.988484959705343,
           0.9881440020797246,
           0.987861996264282,
           0.9876396598627308,
           0.9874687707948833,
           0.9873492872117536,
           0.9872918498121049,
           0.9872964213421285,
           0.9873545541724136,
           0.9874622356794447,
           0.9876174674639687,
           0.9878077192266915,
           0.9880215814984794,
           0.9882469738259805,
           0.988494279721921,
           0.9887521742288309,
           0.9890183410719694,
           0.9892936193286893,
           0.9895763055879844,
           0.9898459492372877,
           0.9900897159042894,
           0.9902995790264321,
           0.990476937057111,
           0.9906170254372948,
           0.9907190282699343,
           0.9907835724094582,
           0.9908177498355913,
           0.9908224382245141,
           0.9908052923775634,
           0.9907603956769897,
           0.9906819328622003,
           0.9905646294455279,
           0.9904062458965245,
           0.9902094522138678,
           0.9899766138772176,
           0.9897116451058987,
           0.989414506565614,
           0.9890814344831915
          ],
          [
           0.9931637574782871,
           0.9932094084913272,
           0.9932511668869051,
           0.9932907009315001,
           0.9933361699318516,
           0.9933964256945187,
           0.9934794629407588,
           0.9935895556042456,
           0.9937306119098637,
           0.9939044530223022,
           0.9941111440731941,
           0.9943596376380768,
           0.9946611371493668,
           0.9950264038458368,
           0.9954598424082699,
           0.9959560946132987,
           0.9965088532735609,
           0.9971175091661371,
           0.9977752752452771,
           0.9984628031972135,
           0.9991433356183954,
           0.9997707805204977,
           1.0003098512263167,
           1.0007522794521158,
           1.001121768603933,
           1.001465085320937,
           1.0018464950943002,
           1.0023207250640545,
           1.0028991881698184,
           1.0035536804644958,
           1.0042163426381778,
           1.004811447722996,
           1.0052915092288053,
           1.0056508637067796,
           1.0059118815119485,
           1.0060974007332788,
           1.006212226147596,
           1.0062499999999994,
           1.0062188947479296,
           1.0061502430218114,
           1.0060863231558432,
           1.0060485656947642,
           1.0060005112654011,
           1.0058413966287734,
           1.0054490631056507,
           1.0047547575963713,
           1.0037906543109816,
           1.0026731109016656,
           1.0015041718532984,
           1.0003331605787875,
           0.9991556208876435,
           0.9979352422698853,
           0.9966426881559152,
           0.9952997409619329,
           0.9939862492881251,
           0.9928012777981565,
           0.9918052794808008,
           0.9910075296275661,
           0.9903555285787826,
           0.9898008881097127,
           0.9893163583733234,
           0.9888719080503755,
           0.9884892090527126,
           0.9881602603436335,
           0.9878890305036706,
           0.987676121544536,
           0.987513315801436,
           0.9874014094443275,
           0.9873516117374743,
           0.9873642142000763,
           0.9874308356456454,
           0.9875474060787082,
           0.9877123998444337,
           0.9879133177801592,
           0.9881379184854829,
           0.9883739450827727,
           0.9886324958319405,
           0.98890292779731,
           0.9891839064661488,
           0.9894765108352973,
           0.9897780593414516,
           0.9900673785623226,
           0.9903303345986316,
           0.9905574624942436,
           0.9907479909877868,
           0.9908959186679583,
           0.9910011202018412,
           0.9910666597914709,
           0.9911025301721893,
           0.9911120734783163,
           0.9911032353854371,
           0.9910690603200938,
           0.9910017375221942,
           0.9908942938989714,
           0.9907432789141555,
           0.9905502259469557,
           0.9903160629512828,
           0.9900431520731688,
           0.9897311586158559,
           0.9893779924403762
          ],
          [
           0.992094435183457,
           0.9921265026278365,
           0.9921556926629,
           0.9921836756428934,
           0.9922189218849452,
           0.9922706590185234,
           0.992347225130091,
           0.9924530892090332,
           0.9925922008381488,
           0.9927665129076584,
           0.9929760229740341,
           0.9932300706205095,
           0.9935404211089438,
           0.9939184330853208,
           0.9943688889984472,
           0.9948862791783942,
           0.9954641641962578,
           0.9961022161176682,
           0.9967936275979888,
           0.9975182818214439,
           0.9982375534505767,
           0.998902466512538,
           0.9994750890760131,
           0.9999460228390027,
           1.0003401275976995,
           1.000707177247944,
           1.0011163243755046,
           1.0016273161206917,
           1.002254497621178,
           1.0029701470277785,
           1.0037034326482515,
           1.0043730592036828,
           1.0049259924269849,
           1.0053536893014978,
           1.005679641422146,
           1.0059303485572357,
           1.0061130843625055,
           1.0062188947479296,
           1.0062499999999999,
           1.0062299224561373,
           1.0061925978665405,
           1.0061523792340072,
           1.006069918334076,
           1.0058475279747003,
           1.0053723812385247,
           1.0045894673188671,
           1.0035453886219765,
           1.002369312159289,
           1.0011678108660085,
           0.9999908684553251,
           0.9988324462746685,
           0.9976519428984507,
           0.9964139154973712,
           0.995132101566367,
           0.9938779750323031,
           0.9927442296139217,
           0.9917886768398264,
           0.9910212044801048,
           0.990392158151893,
           0.9898557144455641,
           0.9893871577576004,
           0.9889574540858862,
           0.9885883046704262,
           0.988271607083759,
           0.9880111827837148,
           0.9878075028394928,
           0.9876523837812421,
           0.9875473910528328,
           0.9875041920291064,
           0.9875233503379252,
           0.9875965688107926,
           0.9877197316982708,
           0.9878917736536468,
           0.9881002572456318,
           0.9883322288779084,
           0.9885753082293013,
           0.9888411868623156,
           0.9891198745371197,
           0.98941092291509,
           0.9897156175866937,
           0.9900304076815257,
           0.9903335723036131,
           0.9906098876441414,
           0.9908486691608362,
           0.9910472102658074,
           0.9911984257812683,
           0.9913027812137983,
           0.9913654951213847,
           0.991399111587244,
           0.9914091909142919,
           0.9914039186558239,
           0.9913754857903115,
           0.9913143723356118,
           0.9912121673622378,
           0.9910644265323318,
           0.990871707900423,
           0.9906337017681679,
           0.9903513775463133,
           0.9900241149130047,
           0.9896512675053244
          ],
          [
           0.9913104959084953,
           0.9913308972377355,
           0.9913491524271049,
           0.9913669649457145,
           0.9913930246285997,
           0.9914368410072245,
           0.9915070138977857,
           0.9916081796309556,
           0.9917443020570516,
           0.9919174553293356,
           0.9921275861743223,
           0.9923842889890852,
           0.9926997241989364,
           0.9930856821255228,
           0.9935472428146147,
           0.9940787696037678,
           0.9946737055626985,
           0.9953319410590643,
           0.9960466545529063,
           0.9967971718735531,
           0.9975435501364832,
           0.998234731569964,
           0.9988308710750847,
           0.9993217321831009,
           0.9997329857831494,
           1.0001164841014196,
           1.000544831438795,
           1.0010813217855468,
           1.0017425425597306,
           1.002501198949811,
           1.0032844337732365,
           1.004006982303095,
           1.0046118536092297,
           1.0050884963122686,
           1.0054613467119127,
           1.0057597170824484,
           1.0059928779371072,
           1.0061502430218114,
           1.0062299224561373,
           1.0062499999999996,
           1.0062385113906045,
           1.0062046581020727,
           1.0061067929059748,
           1.0058491359915218,
           1.0053253447402586,
           1.0044901351701094,
           1.0034004517729975,
           1.0021947941876064,
           1.0009832247172956,
           0.9998164488615677,
           0.9986875357771636,
           0.9975527902578508,
           0.9963720425446905,
           0.9951523299921621,
           0.9939578168857084,
           0.9928754227488632,
           0.9919605207588099,
           0.9912235882487777,
           0.9906177922081844,
           0.990099803620275,
           0.9896471990101745,
           0.9892320298466324,
           0.9888759147947677,
           0.988570761967242,
           0.988320252556494,
           0.98812473170414,
           0.9879761050435901,
           0.9878764978279646,
           0.9878378404154534,
           0.9878608936323329,
           0.987937463489751,
           0.9880634145398466,
           0.9882380576270938,
           0.988449048082488,
           0.988683014654045,
           0.9889275152081458,
           0.9891945672903101,
           0.9894747555661036,
           0.9897683401724615,
           0.9900767060871486,
           0.9903956679624182,
           0.9907032588980006,
           0.9909835690303539,
           0.9912251063245603,
           0.9914237298542914,
           0.9915716081378305,
           0.9916695986051652,
           0.9917244742051964,
           0.9917506078847309,
           0.9917552234938442,
           0.9917466403282446,
           0.9917165359607237,
           0.991654243678709,
           0.9915504285540626,
           0.9914000385011932,
           0.9912029633464089,
           0.9909580475022232,
           0.9906652230747297,
           0.9903236453838264,
           0.9899336585367954
          ],
          [
           0.991017755409059,
           0.9910301194574794,
           0.991040622456524,
           0.9910510409419673,
           0.9910701472977061,
           0.9911075863321372,
           0.9911720909560761,
           0.9912684168295762,
           0.9914004968803014,
           0.9915705034177096,
           0.9917783652526602,
           0.9920337361613328,
           0.9923489161131149,
           0.9927358682948864,
           0.9931998391220795,
           0.9937351079415617,
           0.9943350308560945,
           0.9949996095255893,
           0.9957220176681626,
           0.9964813369422997,
           0.997237135720858,
           0.9979375112426606,
           0.998541851351885,
           0.9990395595777978,
           0.9994566104307441,
           0.9998455358384879,
           1.0002801910877794,
           1.0008251565314876,
           1.0014981385505128,
           1.0022721227344358,
           1.0030736463215915,
           1.003815945731994,
           1.004440557275817,
           1.0049362886930766,
           1.0053282229255478,
           1.0056471140389942,
           1.0059034214331064,
           1.0060863231558432,
           1.0061925978665405,
           1.0062385113906045,
           1.0062499999999994,
           1.0062341724038404,
           1.0061481067789042,
           1.0058962354331804,
           1.005374362684801,
           1.0045407500842622,
           1.0034563282132545,
           1.0022634976553637,
           1.001074091564071,
           0.9999395271466631,
           0.9988529406177818,
           0.9977693548919343,
           0.9966460461070477,
           0.9954856451290438,
           0.9943469952240961,
           0.9933125109519992,
           0.9924356374572185,
           0.9917274018409854,
           0.9911435837280778,
           0.9906431127433086,
           0.9902053237895357,
           0.9898033827523771,
           0.9894586544838628,
           0.9891632163064918,
           0.9889206297219112,
           0.9887311413179417,
           0.9885868341135515,
           0.9884900802393232,
           0.988452762057981,
           0.9884757080561033,
           0.9885508720258506,
           0.9886741405399907,
           0.988845046187109,
           0.9890513823628141,
           0.9892797844855423,
           0.9895178691557787,
           0.989777570895943,
           0.9900499087305219,
           0.9903355325820196,
           0.9906357856464926,
           0.9909462043302926,
           0.9912450015365346,
           0.9915161767188018,
           0.9917480602902335,
           0.9919358877059719,
           0.9920716059594282,
           0.9921561772420975,
           0.9921969879046147,
           0.9922091021165015,
           0.9922005228839856,
           0.9921795413836716,
           0.992137828692722,
           0.9920644209462266,
           0.9919498254622883,
           0.9917889564530337,
           0.9915815035572207,
           0.9913260729436971,
           0.991022119767496,
           0.9906686816886447,
           0.9902664020554623
          ],
          [
           0.9913726543031919,
           0.9913820806864424,
           0.9913893518620004,
           0.9913963638640513,
           0.9914117977486884,
           0.9914452417033295,
           0.9915053927300943,
           0.9915970617031281,
           0.9917240889409715,
           0.9918887083717509,
           0.9920908764470018,
           0.992340066840834,
           0.9926483851026069,
           0.993027629174671,
           0.993483035168627,
           0.9940088579349201,
           0.9945984173345069,
           0.9952516783718833,
           0.9959618209827337,
           0.996708078722167,
           0.9974505737806147,
           0.9981381604346359,
           0.998730960055117,
           0.9992186646152567,
           0.9996269232413848,
           1.0000071697629607,
           1.0004316752252693,
           1.0009633899507933,
           1.001619624303352,
           1.002373396351242,
           1.0031524296060168,
           1.0038716706818056,
           1.004474436087891,
           1.0049506974822227,
           1.0053257902060657,
           1.0056300820556794,
           1.0058741208536024,
           1.0060485656947642,
           1.0061523792340072,
           1.0062046581020727,
           1.0062341724038404,
           1.0062499999999996,
           1.0062094175398293,
           1.0060150056439938,
           1.0055591783995268,
           1.0047957682081916,
           1.0037813957665906,
           1.0026552796787775,
           1.0015286745651937,
           1.0004535954119287,
           0.9994243690349347,
           0.9983970073811808,
           0.9973290162517534,
           0.9962216859627392,
           0.9951313326836589,
           0.9941377942367794,
           0.9932934568053965,
           0.99260989916736,
           0.9920451473026217,
           0.991560009414949,
           0.991134773813858,
           0.9907436577859233,
           0.990407539000835,
           0.9901188535620762,
           0.9898810877997545,
           0.9896944524252973,
           0.9895513289497079,
           0.9894539293028667,
           0.9894136695163186,
           0.9894312789293136,
           0.9894989467568105,
           0.9896126305092156,
           0.9897718437241985,
           0.9899645806887749,
           0.9901780305603666,
           0.9904000566286341,
           0.9906419671623532,
           0.9908950181470966,
           0.9911597992221698,
           0.9914374505226056,
           0.991723678496557,
           0.9919974009401993,
           0.9922432607185089,
           0.992450216964416,
           0.9926139819091374,
           0.9927269866462087,
           0.9927899581700225,
           0.9928096528411443,
           0.9928003220486845,
           0.9927695756479032,
           0.9927254628744784,
           0.992660290922073,
           0.9925638838435161,
           0.9924275639252298,
           0.9922469417841685,
           0.9920221077330157,
           0.9917522246502406,
           0.9914370109822056,
           0.9910755431137691,
           0.9906678716089057
          ],
          [
           0.9923885006245708,
           0.992400731732868,
           0.9924098890343714,
           0.9924180284864532,
           0.9924335584841271,
           0.9924658008831493,
           0.9925232292842816,
           0.9926106364683707,
           0.9927317014340444,
           0.9928886739653816,
           0.9930815919559891,
           0.9933195035160276,
           0.9936139490849378,
           0.993976193272273,
           0.9944112634364489,
           0.9949134537451659,
           0.9954761146734914,
           0.9960990043981127,
           0.9967753165456801,
           0.9974848682853663,
           0.9981894258865683,
           0.9988403376234912,
           0.999400102425134,
           0.9998594406335564,
           1.000243035153113,
           1.0005993288704804,
           1.0009959385209095,
           1.0014910061523363,
           1.0020997409458428,
           1.0027948754692046,
           1.0035072066338253,
           1.0041568797426275,
           1.0046925759141938,
           1.0051074595309566,
           1.0054267264332768,
           1.0056783294561566,
           1.0058716190861112,
           1.0060005112654011,
           1.006069918334076,
           1.0061067929059748,
           1.0061481067789042,
           1.0062094175398293,
           1.0062499999999999,
           1.0061685368055195,
           1.005848161924116,
           1.0052296357850257,
           1.004356156310559,
           1.0033559286064702,
           1.0023369162082978,
           1.001351512159619,
           1.000396340882358,
           0.999430739370665,
           0.9984153404785426,
           0.9973533697302737,
           0.9963017374022496,
           0.9953400580613204,
           0.9945208956226314,
           0.9938565459456377,
           0.9933068948627846,
           0.9928341504257864,
           0.9924185947519701,
           0.9920353344369488,
           0.991704481418797,
           0.9914190149094934,
           0.9911824002335804,
           0.9909948940176614,
           0.990849304503022,
           0.9907472608007556,
           0.9906992686664626,
           0.9907057722559099,
           0.9907592861729674,
           0.9908558888805484,
           0.9909948032208151,
           0.9911643043835977,
           0.9913527076063455,
           0.9915483458189596,
           0.9917613360829046,
           0.9919829434370389,
           0.992213173253627,
           0.9924527820307442,
           0.9926981238331287,
           0.9929293687570828,
           0.9931325806933125,
           0.9932982209024342,
           0.9934237188198912,
           0.9935028064778569,
           0.993535648980556,
           0.9935270244245958,
           0.9934886942717874,
           0.9934265593467535,
           0.9933481620008886,
           0.9932471244948986,
           0.9931152423334692,
           0.9929457051014083,
           0.9927356137032342,
           0.9924861097407919,
           0.9921977831263233,
           0.9918714457678481,
           0.9915064157301812,
           0.9911012056670636
          ],
          [
           0.9938975386068395,
           0.9939177166190793,
           0.9939333495139817,
           0.9939466814295271,
           0.9939656934850503,
           0.9939992528868244,
           0.9940554355424664,
           0.9941389432400198,
           0.994253232234184,
           0.9944005245852774,
           0.994580993957343,
           0.9948030549664074,
           0.9950773387724854,
           0.9954142443578189,
           0.9958184073163434,
           0.9962842167052397,
           0.9968051251140135,
           0.9973805258252102,
           0.9980036213092159,
           0.9986551971627051,
           0.99929960010455,
           0.999892226450157,
           1.0003994466184813,
           1.0008137123057288,
           1.0011582129423375,
           1.0014767421934396,
           1.0018295129221693,
           1.002266978608837,
           1.0028006597145438,
           1.0034026682773018,
           1.0040085161778887,
           1.0045466840758548,
           1.0049744969091439,
           1.0052902189309871,
           1.0055186222310775,
           1.0056833950890072,
           1.0057914300188775,
           1.0058413966287734,
           1.0058475279747003,
           1.0058491359915218,
           1.0058962354331804,
           1.0060150056439938,
           1.0061685368055195,
           1.0062500000000003,
           1.0061281101142125,
           1.0057227965493534,
           1.0050555459485115,
           1.004236334976256,
           1.0033672200672012,
           1.0025006846403812,
           1.0016365378831389,
           1.0007393671952787,
           0.9997753326958746,
           0.9987523802995695,
           0.9977308099559878,
           0.9967923331828971,
           0.9959911173767717,
           0.9953405523818726,
           0.9948021323469263,
           0.9943389780446434,
           0.9939304568019991,
           0.9935523585845787,
           0.9932237489321779,
           0.9929382860275086,
           0.9926994544951511,
           0.9925076298096936,
           0.9923561501330243,
           0.992245711180671,
           0.9921855453201704,
           0.9921756455184503,
           0.9922088921125977,
           0.9922815267157449,
           0.9923922585917349,
           0.992529720752068,
           0.9926838492404898,
           0.9928436396295215,
           0.9930175670886501,
           0.9931966958255591,
           0.9933799501328168,
           0.9935675061738053,
           0.9937567912139955,
           0.9939297057971486,
           0.9940744374591752,
           0.9941837374015958,
           0.9942578873013377,
           0.9942927114494241,
           0.994287571254231,
           0.9942440845929428,
           0.9941699749177849,
           0.9940681954585018,
           0.9939454935363703,
           0.9937973946161736,
           0.993618751177717,
           0.9934055791549018,
           0.9931571907842601,
           0.9928763655240993,
           0.9925659025076305,
           0.9922284856097919,
           0.9918638925955797,
           0.9914682887715096
          ],
          [
           0.9955937099764292,
           0.9956251084504605,
           0.9956501208353224,
           0.9956711934783788,
           0.9956957819006972,
           0.9957321725112808,
           0.9957879217818217,
           0.9958675860335436,
           0.9959743509938763,
           0.9961103774995301,
           0.9962760224387065,
           0.9964789404628442,
           0.9967286023760892,
           0.9970343107208155,
           0.9974001817611946,
           0.9978207345436548,
           0.9982895833604055,
           0.9988056366905659,
           0.9993620920697724,
           0.999940957424821,
           1.0005097475976819,
           1.0010289571476125,
           1.0014698731162286,
           1.0018272134616426,
           1.002122379010824,
           1.0023934269664523,
           1.0026912835221564,
           1.003056696031656,
           1.0034963616719472,
           1.0039814899268105,
           1.004453378610689,
           1.004850986513527,
           1.005142597605649,
           1.0053330077453233,
           1.0054464956576241,
           1.0055012126708658,
           1.0055006286414114,
           1.0054490631056507,
           1.0053723812385247,
           1.0053253447402586,
           1.005374362684801,
           1.0055591783995268,
           1.005848161924116,
           1.0061281101142125,
           1.0062499999999994,
           1.0061076161509634,
           1.005694925286379,
           1.0050985096840843,
           1.0044125274874107,
           1.003689277926392,
           1.0029322425937093,
           1.0021123468664517,
           1.0012026165160748,
           1.0002172961095217,
           0.9992218066734495,
           0.9983016664893534,
           0.997513989639289,
           0.996873860205127,
           0.9963444252851122,
           0.9958893961635115,
           0.9954865697408096,
           0.9951122746521718,
           0.9947842272502604,
           0.9944968374941109,
           0.9942536325724716,
           0.9940551755042462,
           0.9938954071966143,
           0.9937738630917514,
           0.9936982684633376,
           0.9936680707302618,
           0.9936765116231637,
           0.9937200239633764,
           0.9937966435891978,
           0.9938954293516796,
           0.9940083128888789,
           0.9941250834401334,
           0.9942522755537712,
           0.99438063142341,
           0.9945076579965155,
           0.9946327388218574,
           0.994754630746683,
           0.9948573325490773,
           0.9949316589120099,
           0.9949732014026854,
           0.9949858631050955,
           0.9949681869232881,
           0.9949186608912767,
           0.9948349675121126,
           0.9947196719894497,
           0.9945718669203635,
           0.994397215148365,
           0.9941935479730448,
           0.9939595540297635,
           0.9936947845520374,
           0.9934012740048941,
           0.9930838377847984,
           0.9927480233642818,
           0.9923989482972296,
           0.9920370463018987,
           0.9916556221924231
          ],
          [
           0.9971433713246963,
           0.9971864177293315,
           0.9972211263775046,
           0.997250146563062,
           0.9972803882118072,
           0.9973195209282331,
           0.9973745389990422,
           0.9974498366208417,
           0.9975482978964485,
           0.9976720053384304,
           0.997821534218934,
           0.9980037529764001,
           0.9982268692782461,
           0.9984990085358776,
           0.9988237244550474,
           0.9991956714181985,
           0.9996086589636115,
           1.0000610496111242,
           1.0005460182441412,
           1.0010468661595384,
           1.0015343960023746,
           1.0019745253126042,
           1.0023438350848757,
           1.002639565947207,
           1.0028813318970073,
           1.0031011477257818,
           1.0033400239199746,
           1.0036282740806048,
           1.003967324707361,
           1.0043273084433204,
           1.004655593711522,
           1.0049023357191789,
           1.0050476715618857,
           1.0051035990085875,
           1.00509405600844,
           1.0050312399943877,
           1.0049147611935383,
           1.0047547575963713,
           1.0045894673188671,
           1.0044901351701094,
           1.0045407500842622,
           1.0047957682081916,
           1.0052296357850257,
           1.0057227965493534,
           1.0061076161509634,
           1.0062499999999996,
           1.0061142538252204,
           1.0057615934569606,
           1.0052773022193675,
           1.0047133063841773,
           1.0040767777413737,
           1.0033450147827754,
           1.0024978665355835,
           1.0015557978645349,
           1.000589501900862,
           0.9996889377159942,
           0.9989151163390638,
           0.9982855567105648,
           0.9977654807268563,
           0.9973192410596087,
           0.996922796160151,
           0.996552929704392,
           0.9962257446407456,
           0.9959364091461151,
           0.9956884943362191,
           0.9954828009799453,
           0.9953139195013695,
           0.9951802038843511,
           0.9950877687450114,
           0.9950354648735975,
           0.995016904738098,
           0.9950287206903798,
           0.9950682112953786,
           0.9951249350506464,
           0.9951929366820119,
           0.9952629177794361,
           0.9953393597226278,
           0.9954126699856598,
           0.9954787860461318,
           0.9955361850417994,
           0.9955849950236346,
           0.9956114714417477,
           0.9956092358889734,
           0.9955769379282059,
           0.9955224072008679,
           0.9954472306142904,
           0.9953491056429803,
           0.9952215453911463,
           0.9950614885886404,
           0.994863804801216,
           0.9946328655497342,
           0.9943689522993847,
           0.994074897463684,
           0.993754076924714,
           0.9934114675030321,
           0.9930540625428844,
           0.9926903660103399,
           0.9923281396315053,
           0.991968594705888,
           0.9916020445864118
          ],
          [
           0.9983004972982711,
           0.9983526262750422,
           0.9983946350207518,
           0.9984293565685594,
           0.9984632148566093,
           0.9985033197826203,
           0.9985561420630635,
           0.9986259320403404,
           0.9987152678000539,
           0.9988261640457359,
           0.9989594228883398,
           0.9991212029506139,
           0.9993185061705573,
           0.9995583509633102,
           0.9998437739961548,
           1.0001695461318032,
           1.0005296714750258,
           1.0009219833563208,
           1.0013396055956236,
           1.0017670137312926,
           1.0021779659433814,
           1.00254337642442,
           1.0028447943549605,
           1.0030819127367254,
           1.003272825355524,
           1.0034440046720003,
           1.0036272218214923,
           1.003842983239192,
           1.0040877425854648,
           1.0043305253150567,
           1.00452426815641,
           1.004629552424096,
           1.004637741818131,
           1.0045678588529199,
           1.0044438589236113,
           1.0042724808366283,
           1.004049623217932,
           1.0037906543109816,
           1.0035453886219765,
           1.0034004517729975,
           1.0034563282132545,
           1.0037813957665906,
           1.004356156310559,
           1.0050555459485115,
           1.005694925286379,
           1.0061142538252204,
           1.00625,
           1.0061394219019886,
           1.0058590968961603,
           1.0054605342021854,
           1.0049541857433473,
           1.0043227092049525,
           1.0035513631429793,
           1.002665133780695,
           1.0017385433788797,
           1.0008654154141727,
           1.0001110160105404,
           0.9994960498169102,
           0.998988583182076,
           0.998554011322403,
           0.99816669333208,
           0.9978038825623987,
           0.9974799350788562,
           0.9971906930377484,
           0.9969397362012551,
           0.9967280932296273,
           0.9965509862427635,
           0.9964057939942729,
           0.9962971106772868,
           0.9962232028435358,
           0.9961780094543571,
           0.9961583489095033,
           0.9961608859148777,
           0.9961757181429871,
           0.996198844424297,
           0.9962219018906627,
           0.9962475086049944,
           0.9962658130857678,
           0.9962712324657107,
           0.9962613123954059,
           0.9962373922886303,
           0.9961879302559716,
           0.9961092167776701,
           0.996002825570502,
           0.9958802765813882,
           0.9957461663053606,
           0.9955976310518149,
           0.9954243746733195,
           0.995217952301874,
           0.9949692134705876,
           0.9946811512840917,
           0.9943563654076482,
           0.9940016485878955,
           0.9936240529415461,
           0.9932314034047451,
           0.9928327526142295,
           0.9924394020081835,
           0.992061613953175,
           0.9917013922453161,
           0.9913463329621571
          ],
          [
           0.9989465648461963,
           0.9990022050809029,
           0.99904635267142,
           0.9990819992959576,
           0.9991152176007625,
           0.9991526895689282,
           0.9992004730387665,
           0.9992627335146456,
           0.999341761482067,
           0.9994395459881231,
           0.9995570810581742,
           0.9996999877415282,
           0.9998742570630675,
           1.0000860018290585,
           1.0003378646926202,
           1.0006246941603198,
           1.0009406669790823,
           1.0012831859502578,
           1.0016452529038202,
           1.0020122295761322,
           1.0023601116586376,
           1.002663745330559,
           1.0029087059323627,
           1.0030967744363892,
           1.0032450152823242,
           1.0033755417601928,
           1.0035127072568284,
           1.003669027790744,
           1.0038369142724013,
           1.0039843733736304,
           1.0040687481664485,
           1.0040590281628394,
           1.0039558607658903,
           1.003784340662414,
           1.0035689218694843,
           1.0033121843420671,
           1.0030071287272448,
           1.0026731109016656,
           1.002369312159289,
           1.0021947941876064,
           1.0022634976553637,
           1.0026552796787775,
           1.0033559286064702,
           1.004236334976256,
           1.0050985096840843,
           1.0057615934569606,
           1.0061394219019886,
           1.00625,
           1.0061622494021836,
           1.0059273890367493,
           1.0055583623568018,
           1.005041332397477,
           1.0043644086540222,
           1.0035539770539355,
           1.0026854400407215,
           1.0018546106171546,
           1.001130671413098,
           1.0005381660856076,
           1.0000491252848291,
           0.9996308792553908,
           0.9992569571113649,
           0.9989052512997914,
           0.9985883135242709,
           0.9983025031712867,
           0.9980513767690402,
           0.9978361515884375,
           0.9976526487180637,
           0.997497621952549,
           0.9973743459303015,
           0.9972805891776174,
           0.9972106213760829,
           0.9971614056451185,
           0.9971291582127366,
           0.9971045397236422,
           0.997085156271401,
           0.9970635773257088,
           0.9970408944918253,
           0.9970071769381814,
           0.9969555470923404,
           0.9968827165979397,
           0.9967909143705725,
           0.9966705278151345,
           0.9965200741708973,
           0.9963436102231897,
           0.9961557090317577,
           0.9959636376361376,
           0.995764278868235,
           0.9955443373788561,
           0.9952908619097505,
           0.9949914244360136,
           0.9946477037339563,
           0.9942642553285661,
           0.9938511987334675,
           0.9934187049474121,
           0.9929770851859661,
           0.9925371101954256,
           0.9921124316769263,
           0.991715338373489,
           0.9913485382717199,
           0.9909974898331959
          ],
          [
           0.999099315239554,
           0.9991518930254801,
           0.9991920913985759,
           0.9992230540329488,
           0.9992506390642357,
           0.9992812672568274,
           0.9993207265707016,
           0.9993731699415975,
           0.9994406206342655,
           0.9995250980798117,
           0.9996277594894212,
           0.9997538669395187,
           0.9999086414591007,
           1.0000975498664506,
           1.000322999045436,
           1.0005798531297931,
           1.0008624108747746,
           1.0011677730394142,
           1.001488800199565,
           1.0018113830666031,
           1.0021129005095986,
           1.0023708554831212,
           1.0025736960360936,
           1.0027248211246957,
           1.0028408030086602,
           1.0029407518998634,
           1.00304378171471,
           1.0031566431660648,
           1.0032689367801282,
           1.0033478201988035,
           1.0033536707074457,
           1.0032614249163052,
           1.0030785867312049,
           1.002835082983711,
           1.0025563676035432,
           1.002242421137184,
           1.0018843231957286,
           1.0015041718532984,
           1.0011678108660085,
           1.0009832247172956,
           1.001074091564071,
           1.0015286745651937,
           1.0023369162082978,
           1.0033672200672012,
           1.0044125274874107,
           1.0052773022193675,
           1.0058590968961603,
           1.0061622494021836,
           1.0062499999999996,
           1.006173451400351,
           1.0059471819377173,
           1.0055588025365867,
           1.004996439818382,
           1.0042843274266893,
           1.003495277205573,
           1.0027247042248415,
           1.0020449668598326,
           1.0014849332759475,
           1.0010217451822851,
           1.0006256116744383,
           1.0002702306884574,
           0.9999344166632534,
           0.99962895735817,
           0.9993506009827015,
           0.9991028241679679,
           0.99888699152907,
           0.998699508320751,
           0.9985368184164947,
           0.9984011362237356,
           0.9982898864190519,
           0.9981976614438406,
           0.9981215322040745,
           0.9980574580685115,
           0.9979966554475649,
           0.9979380483030506,
           0.9978750441629458,
           0.9978075090699093,
           0.9977257037323615,
           0.9976218423726281,
           0.9974918771495557,
           0.9973385322881759,
           0.9971538346373129,
           0.9969380208772644,
           0.9966970614821671,
           0.9964477357084169,
           0.9961995181699449,
           0.9959493475815038,
           0.9956819121090246,
           0.9953808969156885,
           0.9950315237994319,
           0.9946342484741799,
           0.9941951609681781,
           0.9937269389060804,
           0.9932422162621908,
           0.9927533245229871,
           0.9922723149334687,
           0.991814616446794,
           0.991393949998691,
           0.9910136175948125,
           0.9906576127006462
          ],
          [
           0.9988061926044841,
           0.9988486895310307,
           0.9988784224912636,
           0.9988986836635325,
           0.9989152527394145,
           0.9989344561733777,
           0.9989619599467434,
           0.9990019825604297,
           0.9990563044240443,
           0.9991270357670174,
           0.999215463756242,
           0.9993266673821056,
           0.9994653408850035,
           0.9996365716788246,
           0.9998426969183735,
           1.0000785346406043,
           1.0003384493374525,
           1.0006193764908258,
           1.0009140052203134,
           1.0012084039125753,
           1.0014804790560772,
           1.0017090882325212,
           1.0018843611224082,
           1.0020108133648584,
           1.002105054562588,
           1.0021845644337621,
           1.0022654355441676,
           1.002350919717461,
           1.0024290858056266,
           1.0024664515759596,
           1.0024250598134223,
           1.002283280832089,
           1.0020529700398113,
           1.001767588341898,
           1.001454091783824,
           1.001111480878184,
           1.0007299669323277,
           1.0003331605787875,
           0.9999908684553251,
           0.9998164488615677,
           0.9999395271466631,
           1.0004535954119287,
           1.001351512159619,
           1.0025006846403812,
           1.003689277926392,
           1.0047133063841773,
           1.0054605342021854,
           1.0059273890367493,
           1.006173451400351,
           1.0062499999999999,
           1.006172473030557,
           1.0059279249231334,
           1.0055016735475817,
           1.0049121489947772,
           1.0042258921193905,
           1.003535261010611,
           1.0029148266391175,
           1.0023982223350958,
           1.0019689140114052,
           1.0016010244159437,
           1.0012695265929983,
           1.0009545237713817,
           1.0006650915990887,
           1.0003982469378407,
           1.0001573322992405,
           0.9999438101054867,
           0.9997546442007996,
           0.9995862713248835,
           0.9994401149182748,
           0.999313431284512,
           0.9992011265127619,
           0.99910034046694,
           0.9990069711585869,
           0.9989127838445486,
           0.9988177540725914,
           0.9987160093774126,
           0.9986064888649397,
           0.9984799271368354,
           0.9983280578335179,
           0.9981461391043833,
           0.9979369967006232,
           0.9976940162158399,
           0.9974186444079008,
           0.9971181879761146,
           0.9968107469654328,
           0.9965075216578969,
           0.9962058057624672,
           0.9958892626665921,
           0.9955393900490952,
           0.9951400298739723,
           0.9946905247898669,
           0.9941980838165492,
           0.9936771586084234,
           0.9931421865242497,
           0.9926070452756112,
           0.9920846251445712,
           0.9915915484016122,
           0.9911423532249789,
           0.9907408105898826,
           0.9903701186907279
          ],
          [
           0.9980996000258395,
           0.9981252132620683,
           0.998138146812099,
           0.9981418426145817,
           0.998142125557402,
           0.9981453827124842,
           0.9981572952209382,
           0.9981822239229962,
           0.9982217335759844,
           0.9982780902111668,
           0.9983526754688565,
           0.9984505350224797,
           0.9985760627118982,
           0.998734218600127,
           0.998927433617161,
           0.9991504208915549,
           0.999397547675917,
           0.9996657204592305,
           0.9999474310441642,
           1.000228609618617,
           1.0004869115133086,
           1.0007013343340445,
           1.0008625614923756,
           1.0009757284652536,
           1.0010579496114898,
           1.0011263334874052,
           1.0011960135922002,
           1.0012688633748204,
           1.001332638349642,
           1.0013534481722188,
           1.0012937655493857,
           1.0011330492861055,
           1.000885145807869,
           1.0005858020284,
           1.0002639222646972,
           0.9999190658293318,
           0.9995416025434477,
           0.9991556208876435,
           0.9988324462746685,
           0.9986875357771636,
           0.9988529406177818,
           0.9994243690349347,
           1.000396340882358,
           1.0016365378831389,
           1.0029322425937093,
           1.0040767777413737,
           1.0049541857433473,
           1.0055583623568018,
           1.0059471819377173,
           1.006172473030557,
           1.0062500000000003,
           1.006164536067076,
           1.0058960605098484,
           1.0054537594595392,
           1.0048942757952277,
           1.00430413118658,
           1.0037589246921994,
           1.003297343906587,
           1.002910381224861,
           1.0025771392359222,
           1.002275003889666,
           1.0019857768213585,
           1.0017169337346388,
           1.0014656779205697,
           1.0012351386526717,
           1.0010268030250515,
           1.0008381580048988,
           1.0006659426681692,
           1.0005110466759117,
           1.0003706972680255,
           1.0002401007054986,
           1.0001164367923072,
           0.9999957625967243,
           0.9998703978452768,
           0.9997410727916913,
           0.9996025374014048,
           0.9994531017842129,
           0.9992842371486929,
           0.9990875898423651,
           0.9988578228859485,
           0.9985975158290101,
           0.9983011472387512,
           0.9979709053324607,
           0.99761490599258,
           0.9972517440517739,
           0.9968938655626367,
           0.9965391552313387,
           0.996171171868541,
           0.9957703365743115,
           0.9953200526869914,
           0.9948186809733248,
           0.994274172601493,
           0.9937020268755069,
           0.9931178585660663,
           0.9925366686722902,
           0.9919717903760136,
           0.9914405061876006,
           0.9909575919383053,
           0.9905271427262557,
           0.9901321642078342
          ],
          [
           0.9970159071092124,
           0.9970190222310674,
           0.9970099143665906,
           0.996992190753057,
           0.9969718122668194,
           0.9969553500631714,
           0.996948616682174,
           0.9969561887191649,
           0.9969794426081174,
           0.9970208615927872,
           0.9970818807443458,
           0.9971676274376083,
           0.9972823802630644,
           0.997431186017731,
           0.9976167113059162,
           0.9978335141407542,
           0.9980759069700511,
           0.9983408898658521,
           0.998620742576104,
           0.9989010021463959,
           0.9991584640099032,
           0.9993712790719714,
           0.9995297331639321,
           0.9996391310412778,
           0.999717436592788,
           0.9997823870171874,
           0.9998498571467886,
           0.9999221044078719,
           0.9999876134390169,
           1.000012326314284,
           0.9999581855619907,
           0.9998038144224595,
           0.9995630544529783,
           0.9992728205169508,
           0.9989642500408966,
           0.9986387500267929,
           0.9982877951698607,
           0.9979352422698853,
           0.9976519428984507,
           0.9975527902578508,
           0.9977693548919343,
           0.9983970073811808,
           0.999430739370665,
           1.0007393671952787,
           1.0021123468664517,
           1.0033450147827754,
           1.0043227092049525,
           1.005041332397477,
           1.0055588025365867,
           1.0059279249231334,
           1.006164536067076,
           1.00625,
           1.0061571720123237,
           1.0058833317457656,
           1.00547214177896,
           1.005001591126052,
           1.0045468056316307,
           1.0041514388717523,
           1.003814899680793,
           1.0035222643272823,
           1.003254403486687,
           1.0029952899889691,
           1.0027509750281032,
           1.0025188301459023,
           1.002301714830019,
           1.002101075022029,
           1.0019148866538516,
           1.0017404081050596,
           1.0015781872939407,
           1.0014255456714596,
           1.0012780213076515,
           1.0011328172018477,
           1.000986315453722,
           1.0008314020686222,
           1.000669328223396,
           1.00049539764791,
           1.0003074870420163,
           1.000098029350377,
           0.9998589448662291,
           0.9995844140365672,
           0.9992764999091236,
           0.9989305559734576,
           0.9985491312082918,
           0.9981407177322744,
           0.9977237193739579,
           0.9973113855889495,
           0.9969023227839051,
           0.996480703186707,
           0.9960268179738281,
           0.9955244650940032,
           0.99497118850176,
           0.994375388997478,
           0.9937529986999073,
           0.993120277222332,
           0.9924929953605681,
           0.9918846119855499,
           0.9913126434332983,
           0.9907916088591509,
           0.9903257802661101,
           0.9898984207833248
          ],
          [
           0.9956112630021807,
           0.9955883942756514,
           0.9955539947661354,
           0.9955118653538273,
           0.9954681496068454,
           0.9954296873805148,
           0.9954025120869346,
           0.9953914761942981,
           0.9953977957457325,
           0.995424222174881,
           0.9954721996647538,
           0.9955470096566318,
           0.9956529495790378,
           0.9957953174407662,
           0.9959771236452835,
           0.9961927342940542,
           0.9964363601269007,
           0.9967051980778081,
           0.9969913128655286,
           0.9972796787590064,
           0.9975458447520458,
           0.9977664325409109,
           0.9979306194763065,
           0.9980434993636035,
           0.9981240680847949,
           0.9981913565998893,
           0.9982632096698206,
           0.9983435568842005,
           0.9984224149564551,
           0.9984657986624074,
           0.9984345086453582,
           0.9983049606124302,
           0.9980894696856938,
           0.9978251641855267,
           0.9975454745664308,
           0.9972545906687336,
           0.9969459019580068,
           0.9966426881559152,
           0.9964139154973712,
           0.9963720425446905,
           0.9966460461070477,
           0.9973290162517534,
           0.9984153404785426,
           0.9997753326958746,
           1.0012026165160748,
           1.0024978665355835,
           1.0035513631429793,
           1.0043644086540222,
           1.004996439818382,
           1.0055016735475817,
           1.0058960605098484,
           1.0061571720123237,
           1.0062500000000003,
           1.0061584720935066,
           1.005911164716793,
           1.0055751838474796,
           1.0052233594786943,
           1.0049036764562131,
           1.0046243294901687,
           1.0043770973441786,
           1.0041472625890138,
           1.003921469752806,
           1.0037045825628121,
           1.0034942129468947,
           1.003292927555168,
           1.0031020833986442,
           1.0029201168152868,
           1.0027448764904652,
           1.0025766848775015,
           1.0024130761756231,
           1.0022499894694503,
           1.002084650578136,
           1.0019138439701076,
           1.0017310237636552,
           1.0015378393967531,
           1.0013300875877655,
           1.0011052710899948,
           1.0008569572071042,
           1.0005776672765239,
           1.000261207707392,
           0.9999089489317371,
           0.9995169709515445,
           0.9990879114333583,
           0.9986303162294915,
           0.9981618799655121,
           0.997696265400394,
           0.9972328060749162,
           0.9967567444124482,
           0.9962489728715669,
           0.9956943505623009,
           0.9950898048271708,
           0.9944439988288546,
           0.9937728223314622,
           0.9930927678025047,
           0.9924200960748811,
           0.9917681641357858,
           0.9911544204206083,
           0.9905927558258636,
           0.9900874801961692,
           0.9896223765099514
          ],
          [
           0.9940011891108012,
           0.9939518877261323,
           0.9938918234221674,
           0.9938250183493095,
           0.9937577997774025,
           0.9936973093652809,
           0.9936498523514756,
           0.9936205922617157,
           0.9936106186390048,
           0.9936229830320298,
           0.9936590925887983,
           0.9937244125186198,
           0.9938233358724263,
           0.9939615097057241,
           0.9941423461969763,
           0.9943600066246691,
           0.9946085760659069,
           0.994885525130192,
           0.995182707174624,
           0.995484457261222,
           0.9957649574412939,
           0.9959989910740039,
           0.9961742235631024,
           0.9962952578710541,
           0.9963821153042535,
           0.9964554082935694,
           0.9965356233037387,
           0.9966290761318826,
           0.9967277894257865,
           0.9967980500438719,
           0.9967992976292385,
           0.9967050442785341,
           0.9965251441459038,
           0.9962961856694769,
           0.9960536747085966,
           0.9958050450217961,
           0.9955461749136149,
           0.9952997409619329,
           0.995132101566367,
           0.9951523299921621,
           0.9954856451290438,
           0.9962216859627392,
           0.9973533697302737,
           0.9987523802995695,
           1.0002172961095217,
           1.0015557978645349,
           1.002665133780695,
           1.0035539770539355,
           1.0042843274266893,
           1.0049121489947772,
           1.0054537594595392,
           1.0058833317457656,
           1.0061584720935066,
           1.0062500000000008,
           1.0061708953566348,
           1.0059758612320964,
           1.0057334735278938,
           1.0054947769598488,
           1.0052763254992367,
           1.005076795261973,
           1.0048865020126694,
           1.0046952035341254,
           1.0045069047248945,
           1.0043195926930728,
           1.0041355616072587,
           1.0039560455441332,
           1.0037798945145404,
           1.003605457333857,
           1.0034329026762066,
           1.0032600938509304,
           1.0030834363271557,
           1.0029001923178618,
           1.0027075422419813,
           1.002499467933634,
           1.0022780017776924,
           1.0020393424798808,
           1.0017805966380557,
           1.0014965353952916,
           1.0011805349478828,
           1.0008261223863923,
           1.0004339341173367,
           1.0000006741558047,
           0.9995289202133719,
           0.9990270687887611,
           0.9985117864215809,
           0.9979968220127209,
           0.9974821097039144,
           0.9969541249841476,
           0.9963948289171193,
           0.9957905595735683,
           0.9951378726369269,
           0.994445598077567,
           0.9937292729604507,
           0.993005345780942,
           0.9922903484157569,
           0.9915974118066617,
           0.9909437450086529,
           0.9903424078036207,
           0.9897976273263485,
           0.9892937760080316
          ],
          [
           0.9923545983453382,
           0.9922816191223366,
           0.9921985703527906,
           0.9921097064010186,
           0.9920215056209417,
           0.9919413945585067,
           0.9918759575682542,
           0.9918306714408838,
           0.9918065374428888,
           0.9918069109135694,
           0.9918331243084121,
           0.9918908195642081,
           0.9919845135181771,
           0.992120230384691,
           0.9923017849717676,
           0.992523144193142,
           0.9927782684306014,
           0.9930649446424513,
           0.9933748315535988,
           0.9936916344186401,
           0.9939882816925887,
           0.9942377657698277,
           0.9944261557747677,
           0.9945574129394477,
           0.994652424227292,
           0.9947333310558852,
           0.9948233853538275,
           0.9949314406278549,
           0.9950516401598126,
           0.9951506654330778,
           0.9951867089922373,
           0.9951303334587378,
           0.9949886062951188,
           0.9947970779691471,
           0.9945928897505717,
           0.9943866782380113,
           0.9941770413574624,
           0.9939862492881251,
           0.9938779750323031,
           0.9939578168857084,
           0.9943469952240961,
           0.9951313326836589,
           0.9963017374022496,
           0.9977308099559878,
           0.9992218066734495,
           1.000589501900862,
           1.0017385433788797,
           1.0026854400407215,
           1.003495277205573,
           1.0042258921193905,
           1.0048942757952277,
           1.00547214177896,
           1.005911164716793,
           1.0061708953566348,
           1.0062500000000003,
           1.0061905573755927,
           1.006055308979998,
           1.0058967319323846,
           1.0057385015693658,
           1.0055856831881054,
           1.0054337479837092,
           1.0052757968915413,
           1.0051153647536497,
           1.004950952386019,
           1.0047846297441958,
           1.0046174871618094,
           1.004448712294369,
           1.0042769504573206,
           1.0041022763874845,
           1.0039229743294578,
           1.0037359306366278,
           1.0035384612061393,
           1.0033280760832575,
           1.0030992038216784,
           1.0028542986087299,
           1.002589825038411,
           1.0023024565426653,
           1.001988111253217,
           1.0016411575268205,
           1.0012549183673807,
           1.000829391168608,
           1.000361813456424,
           0.9998546650874944,
           0.9993160982598213,
           0.998761644188525,
           0.9982048998528894,
           0.997646181885791,
           0.9970731062394216,
           0.9964688902861742,
           0.9958214785384817,
           0.9951273055731158,
           0.9943953322609199,
           0.9936406076125746,
           0.9928793941403372,
           0.9921283300131898,
           0.9914002897775065,
           0.9907121857287008,
           0.9900762259732604,
           0.9894964682325562,
           0.9889577928584912
          ],
          [
           0.9908384752896258,
           0.9907469831887866,
           0.9906459346000377,
           0.9905397992824286,
           0.9904351596066342,
           0.9903396836398768,
           0.9902602074837031,
           0.9902024910259778,
           0.9901674802756179,
           0.9901587967601272,
           0.9901776874139845,
           0.9902299437280352,
           0.9903202035662787,
           0.9904548419044543,
           0.9906380297478912,
           0.9908635654898563,
           0.9911252997260895,
           0.9914213304768641,
           0.991743168161089,
           0.9920739686285658,
           0.9923856511195638,
           0.9926497001182146,
           0.992850756444328,
           0.992992129564677,
           0.9930953499198196,
           0.9931838176026431,
           0.9932832524879139,
           0.9934047760283926,
           0.9935444701929662,
           0.9936694444520304,
           0.9937369228447399,
           0.9937149151352465,
           0.9936078850965265,
           0.9934501659925928,
           0.9932800443934738,
           0.9931109250210443,
           0.9929439575808369,
           0.9928012777981565,
           0.9927442296139217,
           0.9928754227488632,
           0.9933125109519992,
           0.9941377942367794,
           0.9953400580613204,
           0.9967923331828971,
           0.9983016664893534,
           0.9996889377159942,
           1.0008654154141727,
           1.0018546106171546,
           1.0027247042248415,
           1.003535261010611,
           1.00430413118658,
           1.005001591126052,
           1.0055751838474796,
           1.0059758612320964,
           1.0061905573755927,
           1.0062499999999999,
           1.0062105631757121,
           1.0061247664193684,
           1.0060217012364652,
           1.0059116974860831,
           1.0057948792953377,
           1.0056675241719073,
           1.0055330267165248,
           1.0053904899410964,
           1.0052418067362163,
           1.0050879264271289,
           1.0049282896702918,
           1.004761634299599,
           1.004587975537842,
           1.004406036884017,
           1.0042131438706678,
           1.0040066815425428,
           1.0037843876069805,
           1.0035410473982898,
           1.0032795360133262,
           1.0029964683630725,
           1.002688079175456,
           1.0023512597800779,
           1.001981346608861,
           1.001571531774847,
           1.001121329939528,
           1.0006284289824705,
           1.000095234787693,
           0.9995296430533893,
           0.9989461353114104,
           0.9983580339631042,
           0.9977658315041836,
           0.9971580462774505,
           0.99651908562543,
           0.9958383611651824,
           0.9951123610208881,
           0.9943501676759402,
           0.9935663545890329,
           0.9927769704293583,
           0.9919986602599838,
           0.9912440745167639,
           0.9905298527152393,
           0.9898674703863279,
           0.9892607815477424,
           0.988695026578087
          ],
          [
           0.989552618543823,
           0.9894485527003232,
           0.9893352259384154,
           0.9892172788573851,
           0.9891013600084588,
           0.9889953341717516,
           0.9889062467644121,
           0.9888400918148474,
           0.9887977782015329,
           0.988783118646558,
           0.9887972937670061,
           0.9888462203035667,
           0.9889346451133973,
           0.9890692342605839,
           0.9892544434355701,
           0.9894839330542258,
           0.9897514601928432,
           0.9900553835276592,
           0.9903871384404237,
           0.9907294365153018,
           0.9910534507980693,
           0.9913295182265132,
           0.9915411501232015,
           0.9916911064258381,
           0.9918013775284793,
           0.9918962879376487,
           0.9920035202140804,
           0.9921359856037303,
           0.9922913628090634,
           0.9924371491959598,
           0.9925298808105678,
           0.9925355621430875,
           0.992456527022179,
           0.9923260117104777,
           0.9921830968433043,
           0.9920433486551649,
           0.99191001269482,
           0.9918052794808008,
           0.9917886768398264,
           0.9919605207588099,
           0.9924356374572185,
           0.9932934568053965,
           0.9945208956226314,
           0.9959911173767717,
           0.997513989639289,
           0.9989151163390638,
           1.0001110160105404,
           1.001130671413098,
           1.0020449668598326,
           1.0029148266391175,
           1.0037589246921994,
           1.0045468056316307,
           1.0052233594786943,
           1.0057334735278938,
           1.006055308979998,
           1.0062105631757121,
           1.0062499999999999,
           1.006225465193741,
           1.0061697848728082,
           1.006097182120718,
           1.0060114385373444,
           1.0059114934860465,
           1.0058007313163393,
           1.0056788537748762,
           1.0055476176000748,
           1.0054078661853274,
           1.0052592219724652,
           1.0051004011160602,
           1.0049313544380991,
           1.0047511734735637,
           1.004557545042613,
           1.004347930291429,
           1.0041201873474719,
           1.0038693896262385,
           1.0035987469557077,
           1.0033049942861336,
           1.0029839600391766,
           1.0026332729524252,
           1.0022490887528632,
           1.0018245169193178,
           1.0013587196794753,
           1.0008497788352562,
           1.000300082291151,
           0.9997173082772544,
           0.9991150689310087,
           0.9985064066042982,
           0.9978918894779376,
           0.997260693239875,
           0.996598182337513,
           0.99589493549173,
           0.9951475269606664,
           0.994365154113112,
           0.9935620180665574,
           0.9927540107064303,
           0.9919577507143169,
           0.9911857214455546,
           0.990454353121007,
           0.9897745563517539,
           0.9891500019263353,
           0.9885661647616962
          ],
          [
           0.9885176835466858,
           0.9884062591411032,
           0.9882856761985105,
           0.9881606911773378,
           0.9880379979495427,
           0.9879256237838079,
           0.9878307792240513,
           0.9877596439698579,
           0.98771309664372,
           0.9876950469736029,
           0.9877066497681226,
           0.9877539332524958,
           0.9878417390073507,
           0.987976966202049,
           0.988164281981679,
           0.9883972278702347,
           0.988669484824073,
           0.9889796018133963,
           0.989319020654069,
           0.9896701044938304,
           0.9900034831144349,
           0.9902886609495101,
           0.99050832281181,
           0.9906648298583733,
           0.9907805241653114,
           0.990880371030618,
           0.9909935151980079,
           0.9911341757665408,
           0.9913012675120962,
           0.9914626082489191,
           0.9915742436674538,
           0.9916006658400813,
           0.9915426003875368,
           0.9914324509326109,
           0.9913099107536371,
           0.9911921337718884,
           0.9910839023941898,
           0.9910075296275661,
           0.9910212044801048,
           0.9912235882487777,
           0.9917274018409854,
           0.99260989916736,
           0.9938565459456377,
           0.9953405523818726,
           0.996873860205127,
           0.9982855567105648,
           0.9994960498169102,
           1.0005381660856076,
           1.0014849332759475,
           1.0023982223350958,
           1.003297343906587,
           1.0041514388717523,
           1.0049036764562131,
           1.0054947769598488,
           1.0058967319323846,
           1.0061247664193684,
           1.006225465193741,
           1.0062500000000008,
           1.0062335833758393,
           1.0061930274791988,
           1.0061346149318366,
           1.0060593116254528,
           1.00597046995502,
           1.0058683008924845,
           1.0057544649698351,
           1.0056297541310382,
           1.0054939029527168,
           1.0053455549248058,
           1.0051845816380072,
           1.0050103454517891,
           1.0048208052433372,
           1.0046134957749653,
           1.0043862972958635,
           1.0041345242320643,
           1.003861606292942,
           1.003564407432828,
           1.003238405273061,
           1.002881732858611,
           1.0024911868998072,
           1.0020598104957315,
           1.001586495019098,
           1.0010696805810066,
           1.0005117978977414,
           0.9999203616863688,
           0.9993082981224,
           0.998688435027053,
           0.9980614082154843,
           0.9974168583102042,
           0.9967408256688653,
           0.9960247207407025,
           0.9952651491570856,
           0.9944714122655942,
           0.993657470436729,
           0.9928391573514048,
           0.9920330576647409,
           0.9912515451208779,
           0.990510902127395,
           0.9898216337442552,
           0.9891872787083646,
           0.9885934723932147
          ],
          [
           0.9876674920145766,
           0.9875525832178588,
           0.987428481364788,
           0.9873000094966442,
           0.9871739016706726,
           0.987058327893342,
           0.9869606293185254,
           0.9868871270985858,
           0.9868386638412918,
           0.9868191819490124,
           0.9868298479821983,
           0.9868767870636778,
           0.986964924741145,
           0.9871013519682021,
           0.9872908929906645,
           0.9875269822814,
           0.9878032350702481,
           0.988118329664718,
           0.9884637713738567,
           0.9888216643074795,
           0.9891622172002235,
           0.9894543106757206,
           0.9896800316362498,
           0.9898414822339746,
           0.9899613044381269,
           0.9900649121071949,
           0.990182528856593,
           0.9903293184366112,
           0.9905051622304575,
           0.9906781237000927,
           0.9908038620451327,
           0.9908456997642011,
           0.9908031803034716,
           0.9907081560245878,
           0.9906008849622232,
           0.9904997051030673,
           0.990410447977274,
           0.9903555285787826,
           0.990392158151893,
           0.9906177922081844,
           0.9911435837280778,
           0.9920451473026217,
           0.9933068948627846,
           0.9948021323469263,
           0.9963444252851122,
           0.9977654807268563,
           0.998988583182076,
           1.0000491252848291,
           1.0010217451822851,
           1.0019689140114052,
           1.002910381224861,
           1.003814899680793,
           1.0046243294901687,
           1.0052763254992367,
           1.0057385015693658,
           1.0060217012364652,
           1.0061697848728082,
           1.0062335833758393,
           1.0062499999999994,
           1.0062374447920737,
           1.0062037381116746,
           1.0061512852786025,
           1.0060832910366173,
           1.0060004078107772,
           1.00590417237041,
           1.0057953518975005,
           1.0056737713005763,
           1.005538022149453,
           1.0053878864003944,
           1.0052228837818358,
           1.0050411428922055,
           1.004840264294455,
           1.0046181051945127,
           1.0043702073671568,
           1.0041000921388121,
           1.0038047572619084,
           1.0034794018318356,
           1.0031225111718791,
           1.002731339034607,
           1.0022988711554601,
           1.0018237835396682,
           1.0013048439726449,
           1.0007445578901155,
           1.0001503243134104,
           0.999534540608763,
           0.9989099026112922,
           0.9982771343990374,
           0.9976262402812726,
           0.9969437072655568,
           0.9962215089260232,
           0.9954561890262879,
           0.9946571396982464,
           0.9938381998373584,
           0.9930152264116008,
           0.9922048033360205,
           0.9914192265503262,
           0.9906746730359384,
           0.9899813652859688,
           0.9893427645730496,
           0.9887446414225196
          ],
          [
           0.9869411031651052,
           0.9868253600118939,
           0.986700295318204,
           0.9865707601488142,
           0.9864435324947437,
           0.9863269126722383,
           0.9862283509476447,
           0.9861542898836165,
           0.9861055195418486,
           0.9860859570933602,
           0.9860968220120763,
           0.9861443233257727,
           0.9862334717860304,
           0.9863715156886113,
           0.9865633990517204,
           0.9868024625325357,
           0.9870822623413507,
           0.9874015380987438,
           0.98775190735851,
           0.9881152746960962,
           0.9884615106225367,
           0.9887589943120276,
           0.9889893671827766,
           0.9891545789434825,
           0.9892775630990693,
           0.989384066046312,
           0.9895051163386439,
           0.9896565945951089,
           0.9898391512420706,
           0.9900210259782067,
           0.9901575424348099,
           0.9902110721309486,
           0.9901802954605229,
           0.9900967616675005,
           0.9900012861368275,
           0.9899131272877396,
           0.9898388307997043,
           0.9898008881097127,
           0.9898557144455641,
           0.990099803620275,
           0.9906431127433086,
           0.991560009414949,
           0.9928341504257864,
           0.9943389780446434,
           0.9958893961635115,
           0.9973192410596087,
           0.998554011322403,
           0.9996308792553908,
           1.0006256116744383,
           1.0016010244159437,
           1.0025771392359222,
           1.0035222643272823,
           1.0043770973441786,
           1.005076795261973,
           1.0055856831881054,
           1.0059116974860831,
           1.006097182120718,
           1.0061930274791988,
           1.0062374447920737,
           1.0062500000000003,
           1.0062392245249128,
           1.006208457142502,
           1.0061606035977089,
           1.0060967036660544,
           1.006018158927757,
           1.0059257381977722,
           1.0058193743300776,
           1.0056977064770916,
           1.005560325896885,
           1.0054067438663201,
           1.0052352777906615,
           1.0050435952746055,
           1.0048294766851198,
           1.0045887213745441,
           1.0043247422692045,
           1.0040348225759324,
           1.0037139019152252,
           1.0033606825566261,
           1.0029726633828204,
           1.002542873899841,
           1.0020697876820317,
           1.001552453690971,
           1.000993442496985,
           1.0004000969021603,
           0.9997844584618081,
           0.9991591367966137,
           0.9985249683135855,
           0.997872237954495,
           0.9971876959461071,
           0.9964637234178341,
           0.9956967470086966,
           0.9948962462943405,
           0.9940759996066314,
           0.993251911581738,
           0.9924406166985966,
           0.9916543715822382,
           0.9909093053738625,
           0.9902154002801883,
           0.9895760677291071,
           0.9889771899892001
          ],
          [
           0.9862865858768726,
           0.9861713318145438,
           0.9860465975371904,
           0.98591723867209,
           0.9857900814448218,
           0.9856735541851747,
           0.9855752076355524,
           0.9855015831828662,
           0.985453417458886,
           0.9854345771158896,
           0.9854463391872633,
           0.9854950070519403,
           0.9855856842446693,
           0.9857257592695311,
           0.9859202721067318,
           0.9861624793600164,
           0.9864458846677211,
           0.986769258458319,
           0.9871243476550593,
           0.9874928974111117,
           0.9878444773159143,
           0.9881470036304496,
           0.9883817236207346,
           0.9885504688895956,
           0.9886764572733591,
           0.9887857353789924,
           0.9889100383805195,
           0.9890659019054715,
           0.9892546676039088,
           0.9894447249962955,
           0.9895910500786176,
           0.9896551146600991,
           0.9896348394471058,
           0.9895615570105847,
           0.9894766409496987,
           0.9894001694868129,
           0.9893392482939517,
           0.9893163583733234,
           0.9893871577576004,
           0.9896471990101745,
           0.9902053237895357,
           0.991134773813858,
           0.9924185947519701,
           0.9939304568019991,
           0.9954865697408096,
           0.996922796160151,
           0.99816669333208,
           0.9992569571113649,
           1.0002702306884574,
           1.0012695265929983,
           1.002275003889666,
           1.003254403486687,
           1.0041472625890138,
           1.0048865020126694,
           1.0054337479837092,
           1.0057948792953377,
           1.0060114385373444,
           1.0061346149318366,
           1.0062037381116746,
           1.0062392245249128,
           1.0062499999999994,
           1.0062399256283516,
           1.006211556460278,
           1.0061662488907106,
           1.006105280518839,
           1.006029418935025,
           1.005938689472994,
           1.0058318468078569,
           1.0057082803990312,
           1.0055674205848057,
           1.005407745602299,
           1.0052269676045886,
           1.0050228058144894,
           1.0047912918866737,
           1.0045356198312898,
           1.004253367655209,
           1.0039393191910355,
           1.0035923179540251,
           1.003210008178883,
           1.0027854834140708,
           1.00231701305865,
           1.0018039042797853,
           1.0012487580482519,
           1.000658871507314,
           1.0000459824503645,
           0.9994226223098206,
           0.9987897685000937,
           0.9981379805682693,
           0.9974542118142081,
           0.9967311826152964,
           0.9959651836519884,
           0.9951657525549266,
           0.9943466055378632,
           0.9935236787719854,
           0.9927136797535754,
           0.9919288317801117,
           0.9911852087551843,
           0.9904925715058885,
           0.989854303311374,
           0.9892564183567911
          ],
          [
           0.9856677656625741,
           0.98555396338237,
           0.9854304929117466,
           0.985302205348628,
           0.9851759806489592,
           0.9850603735245658,
           0.984963029713113,
           0.9848905758484288,
           0.9848436983069707,
           0.9848261970947955,
           0.9848394093281714,
           0.9848897414660791,
           0.9849823907472373,
           0.985124879606547,
           0.9853223323927649,
           0.9855679265752907,
           0.9858551175805126,
           0.9861826950008621,
           0.9865425408399168,
           0.9869162541281125,
           0.9872731224686101,
           0.9875806197465924,
           0.9878196227327861,
           0.9879918645368311,
           0.988120848093299,
           0.9882329120240771,
           0.9883604568303515,
           0.988520634100515,
           0.9887154464865056,
           0.988913426865127,
           0.9890691972156089,
           0.9891433390899165,
           0.9891330382623729,
           0.9890694447958105,
           0.9889945082960406,
           0.9889290836030679,
           0.9888807615022227,
           0.9888719080503755,
           0.9889574540858862,
           0.9892320298466324,
           0.9898033827523771,
           0.9907436577859233,
           0.9920353344369488,
           0.9935523585845787,
           0.9951122746521718,
           0.996552929704392,
           0.9978038825623987,
           0.9989052512997914,
           0.9999344166632534,
           1.0009545237713817,
           1.0019857768213585,
           1.0029952899889691,
           1.003921469752806,
           1.0046952035341254,
           1.0052757968915413,
           1.0056675241719073,
           1.0059114934860465,
           1.0060593116254528,
           1.0061512852786025,
           1.006208457142502,
           1.0062399256283516,
           1.0062499999999999,
           1.0062407668115818,
           1.0062138697856642,
           1.006170469158463,
           1.0061113450230523,
           1.0060366148189257,
           1.005945137841891,
           1.0058361019141857,
           1.0057088509719594,
           1.0055619900244677,
           1.005393273116495,
           1.005200341926527,
           1.0049794299652646,
           1.0047335213618682,
           1.0044604678837405,
           1.0041549058848445,
           1.0038157989211134,
           1.0034409279338588,
           1.003023415525387,
           1.0025613192240568,
           1.0020542092080291,
           1.001504719014348,
           1.000920090604674,
           1.0003117364222833,
           0.9996921261637853,
           0.999062408719166,
           0.9984134269885421,
           0.9977323164830789,
           0.9970120908874291,
           0.9962488693153402,
           0.9954522327184047,
           0.9946358404715743,
           0.9938156790263966,
           0.9930085125018089,
           0.9922265185609693,
           0.9914857046299421,
           0.9907956181061934,
           0.9901596266054835,
           0.9895638989119653
          ],
          [
           0.9851018773502167,
           0.984990210796158,
           0.9848686856581154,
           0.9847421328193715,
           0.9846174921958669,
           0.9845034387029896,
           0.9844077014726187,
           0.9843369807345393,
           0.9842919278281358,
           0.9842762716704704,
           0.9842913989642361,
           0.9843438244641975,
           0.984438846939029,
           0.9845841212799553,
           0.9847848450021321,
           0.9850341199661256,
           0.985325353997347,
           0.9856573727031259,
           0.9860221882543887,
           0.9864012672871546,
           0.9867636291941806,
           0.9870763178691324,
           0.9873198415830441,
           0.9874958187024447,
           0.9876280136168529,
           0.9877430647130958,
           0.9878740332921107,
           0.9880387094144392,
           0.9882397284614136,
           0.9884457767122211,
           0.9886111096539834,
           0.9886954214463737,
           0.9886951478194252,
           0.9886412099206435,
           0.9885760751023615,
           0.9885213235020451,
           0.988484959705343,
           0.9884892090527126,
           0.9885883046704262,
           0.9888759147947677,
           0.9894586544838628,
           0.990407539000835,
           0.991704481418797,
           0.9932237489321779,
           0.9947842272502604,
           0.9962257446407456,
           0.9974799350788562,
           0.9985883135242709,
           0.99962895735817,
           1.0006650915990887,
           1.0017169337346388,
           1.0027509750281032,
           1.0037045825628121,
           1.0045069047248945,
           1.0051153647536497,
           1.0055330267165248,
           1.0058007313163393,
           1.00597046995502,
           1.0060832910366173,
           1.0061606035977089,
           1.006211556460278,
           1.0062407668115818,
           1.0062499999999999,
           1.0062411034342227,
           1.0062150942697425,
           1.0061727197819699,
           1.0061141366854913,
           1.0060383494027523,
           1.0059444307056917,
           1.0058316214326077,
           1.0056985636823625,
           1.0055430421844826,
           1.0053626964845117,
           1.0051539275946135,
           1.004919412115651,
           1.0046571942484044,
           1.0043619228511058,
           1.0040326208573815,
           1.0036671522046343,
           1.003258697880489,
           1.0028051529840636,
           1.002306265085787,
           1.0017646908149815,
           1.0011875945626147,
           1.000586064861233,
           0.9999724689618499,
           0.9993480960748328,
           0.9987041077511937,
           0.9980278503475186,
           0.997312593436607,
           0.9965543210630424,
           0.9957625986982891,
           0.9949510220568938,
           0.9941355868661437,
           0.9933330867332439,
           0.9925556569711755,
           0.9918192131961224,
           0.9911331182459553,
           0.9905007112832552,
           0.9899083423641232
          ],
          [
           0.9845816180366574,
           0.9844729989787111,
           0.9843543123389321,
           0.9842303596431585,
           0.9841081421218482,
           0.9839964500993785,
           0.9839030854229345,
           0.9838348097705792,
           0.9837922483014376,
           0.9837790606927451,
           0.983796679957076,
           0.9838517206668863,
           0.9839495866868463,
           0.9840980669382691,
           0.9843024250350647,
           0.9845556896467607,
           0.984851221439307,
           0.9851878871745763,
           0.9855578355302183,
           0.9859424192956081,
           0.9863104095465236,
           0.9866284436972365,
           0.9868766732760964,
           0.9870565935911504,
           0.9871922030896079,
           0.9873104224414837,
           0.9874449501113882,
           0.9876142108301394,
           0.9878214483077454,
           0.9880355064895078,
           0.9882102807210158,
           0.988304603832156,
           0.9883141681723663,
           0.9882696314649503,
           0.9882139107628198,
           0.988169252303432,
           0.9881440020797246,
           0.9881602603436335,
           0.988271607083759,
           0.988570761967242,
           0.9891632163064918,
           0.9901188535620762,
           0.9914190149094934,
           0.9929382860275086,
           0.9944968374941109,
           0.9959364091461151,
           0.9971906930377484,
           0.9983025031712867,
           0.9993506009827015,
           1.0003982469378407,
           1.0014656779205697,
           1.0025188301459023,
           1.0034942129468947,
           1.0043195926930728,
           1.004950952386019,
           1.0053904899410964,
           1.0056788537748762,
           1.0058683008924845,
           1.0060004078107772,
           1.0060967036660544,
           1.0061662488907106,
           1.0062138697856642,
           1.0062411034342227,
           1.0062499999999996,
           1.006241386237414,
           1.0062159395458756,
           1.006173828700921,
           1.00611422472561,
           1.0060361427681532,
           1.0059386948370226,
           1.0058204924226197,
           1.005679353266908,
           1.0055129528717233,
           1.0053178440516388,
           1.0050963229352388,
           1.004846575235931,
           1.0045633415847361,
           1.0042456691574664,
           1.0038914615184469,
           1.0034939904595346,
           1.0030510320935286,
           1.0025624455627993,
           1.002030905684535,
           1.0014634836269072,
           1.0008709581648318,
           1.0002655624522623,
           0.9996486810250537,
           0.9990118042476152,
           0.998342505561292,
           0.9976342796489185,
           0.9968830013501864,
           0.9960981833306599,
           0.9952933603390547,
           0.9944845095994996,
           0.9936884389208052,
           0.992917240171808,
           0.9921867243607727,
           0.9915060991067133,
           0.9908786657882221,
           0.9902909627690124
          ],
          [
           0.9841135966117092,
           0.9840089582743042,
           0.9838940192406893,
           0.9837735476124032,
           0.9836546017392559,
           0.9835460811482739,
           0.9834558538140638,
           0.9833907329843274,
           0.9833513271856348,
           0.983341216902808,
           0.9833618761883604,
           0.9834200239917728,
           0.9835211707365454,
           0.9836732344323513,
           0.9838815339611195,
           0.9841390291815713,
           0.9844390394400595,
           0.9847804709346888,
           0.9851556153833303,
           0.9855457308042331,
           0.985919371881624,
           0.9862428032975752,
           0.9864958372405361,
           0.9866798381297794,
           0.9868190087979661,
           0.986940527534285,
           0.9870786959868059,
           0.987252552857842,
           0.9874659143097468,
           0.9876877894197295,
           0.987871731481312,
           0.9879757503753013,
           0.9879948076459814,
           0.9879592647040809,
           0.9879124188034663,
           0.9878771163380118,
           0.987861996264282,
           0.9878890305036706,
           0.9880111827837148,
           0.988320252556494,
           0.9889206297219112,
           0.9898810877997545,
           0.9911824002335804,
           0.9926994544951511,
           0.9942536325724716,
           0.9956884943362191,
           0.9969397362012551,
           0.9980513767690402,
           0.9991028241679679,
           1.0001573322992405,
           1.0012351386526717,
           1.002301714830019,
           1.003292927555168,
           1.0041355616072587,
           1.0047846297441958,
           1.0052418067362163,
           1.0055476176000748,
           1.0057544649698351,
           1.00590417237041,
           1.006018158927757,
           1.006105280518839,
           1.006170469158463,
           1.0062150942697425,
           1.006241386237414,
           1.0062499999999994,
           1.0062415232052138,
           1.0062161004823211,
           1.0061730576339258,
           1.006111386983332,
           1.0060300758582756,
           1.005927666143987,
           1.0058019981436634,
           1.005650793033255,
           1.0054707247966932,
           1.0052636865664815,
           1.0050279605609436,
           1.004758432679446,
           1.004454130537355,
           1.0041129817162326,
           1.0037283560831989,
           1.003297932767586,
           1.0028216530026193,
           1.0023022011511293,
           1.0017465416285036,
           1.0011651471796532,
           1.0005700971648144,
           0.9999628521698916,
           0.999335213375154,
           0.9986749779234906,
           0.9979758355958284,
           0.997233578914797,
           0.9964576468117669,
           0.9956615062354257,
           0.9948610972698033,
           0.9940732185017316,
           0.9933099212584063,
           0.9925869030907098,
           0.9919132375231201,
           0.9912921838379767,
           0.9907104663142485
          ],
          [
           0.9837009317353541,
           0.9836012669382725,
           0.9834910365190468,
           0.9833749726969301,
           0.9832601849889552,
           0.9831556761359418,
           0.9830693763888516,
           0.9830081443117576,
           0.9829725764490226,
           0.982966156745969,
           0.9829904006862155,
           0.983052138160325,
           0.9831569860391925,
           0.9833129844721835,
           0.9835254948942096,
           0.9837874136404839,
           0.9840920265150399,
           0.9844382682984092,
           0.9848185897266387,
           0.985214163633054,
           0.9855933588624295,
           0.9859221085077495,
           0.9861799150733361,
           0.9863680185682825,
           0.9865108005650843,
           0.9866356640934534,
           0.9867774711395433,
           0.9869558374381777,
           0.987175112004951,
           0.9874044674707494,
           0.9875971373561871,
           0.9877103552123488,
           0.9877383739291075,
           0.9877112420529924,
           0.9876725787481937,
           0.987645752955605,
           0.9876396598627308,
           0.987676121544536,
           0.9878075028394928,
           0.98812473170414,
           0.9887311413179417,
           0.9896944524252973,
           0.9909948940176614,
           0.9925076298096936,
           0.9940551755042462,
           0.9954828009799453,
           0.9967280932296273,
           0.9978361515884375,
           0.99888699152907,
           0.9999438101054867,
           1.0010268030250515,
           1.002101075022029,
           1.0031020833986442,
           1.0039560455441332,
           1.0046174871618094,
           1.0050879264271289,
           1.0054078661853274,
           1.0056297541310382,
           1.0057953518975005,
           1.0059257381977722,
           1.006029418935025,
           1.0061113450230523,
           1.0061727197819699,
           1.0062159395458756,
           1.0062415232052138,
           1.0062500000000003,
           1.0062414660193861,
           1.0062153447740012,
           1.0061706037767013,
           1.0061061265534386,
           1.0060203909026486,
           1.005911254173469,
           1.005776426155133,
           1.005612677934959,
           1.0054215328793041,
           1.0052013542608966,
           1.0049471522437619,
           1.0046578986775285,
           1.004331556214476,
           1.0039615850373176,
           1.0035455615495736,
           1.003083514303096,
           1.0025781262463274,
           1.0020362432165006,
           1.0014680330541996,
           1.0008854178347795,
           1.0002899411447277,
           0.9996736702624768,
           0.9990246036379871,
           0.998336596512824,
           0.9976053686296247,
           0.9968402830448542,
           0.9960547290458973,
           0.9952646111709962,
           0.994486690869337,
           0.9937329767324349,
           0.9930190483139235,
           0.9923538619679144,
           0.9917406389142084,
           0.9911662723540697
          ],
          [
           0.9833362775344799,
           0.9832426799453743,
           0.9831382118100432,
           0.9830275709424514,
           0.9829179098622733,
           0.9828183284971979,
           0.9827368179172673,
           0.9826802769126554,
           0.98264928868765,
           0.9826472238679259,
           0.9826756437040471,
           0.9827414919910477,
           0.9828504880426469,
           0.9830107889055406,
           0.9832277878900062,
           0.9834943224366847,
           0.9838036504213927,
           0.9841547191099471,
           0.9845401559954805,
           0.9849410621081944,
           0.9853256495281688,
           0.9856595656637102,
           0.9859220419657403,
           0.9861142151419907,
           0.9862606256803483,
           0.9863888554364227,
           0.9865342607370817,
           0.9867169804726645,
           0.9869418598899442,
           0.9871782229600493,
           0.9873790083920279,
           0.9875007382293216,
           0.9875370071265789,
           0.9875175617978785,
           0.9874862844467274,
           0.9874669832278391,
           0.9874687707948833,
           0.987513315801436,
           0.9876523837812421,
           0.9879761050435901,
           0.9885868341135515,
           0.9895513289497079,
           0.990849304503022,
           0.9923561501330243,
           0.9938954071966143,
           0.9953139195013695,
           0.9965509862427635,
           0.9976526487180637,
           0.998699508320751,
           0.9997546442007996,
           1.0008381580048988,
           1.0019148866538516,
           1.0029201168152868,
           1.0037798945145404,
           1.004448712294369,
           1.0049282896702918,
           1.0052592219724652,
           1.0054939029527168,
           1.0056737713005763,
           1.0058193743300776,
           1.005938689472994,
           1.0060366148189257,
           1.0061141366854913,
           1.006173828700921,
           1.0062161004823211,
           1.0062414660193861,
           1.00625,
           1.006241148005518,
           1.0062138045525981,
           1.0061667667423853,
           1.0060984903967547,
           1.0060068476340545,
           1.0058894492393553,
           1.0057431452693721,
           1.005569160359135,
           1.0053659410374596,
           1.005128533471609,
           1.0048558484037844,
           1.004545889987629,
           1.004192199976586,
           1.0037922442494651,
           1.003346150824559,
           1.002856589867107,
           1.0023302810421402,
           1.001777110767679,
           1.0012088500304732,
           1.0006271209593858,
           1.0000241984803466,
           0.9993882569172299,
           0.9987132872609431,
           0.997994936491204,
           0.9972425013359265,
           0.9964692861122837,
           0.9956911697367693,
           0.9949248610954288,
           0.9941823178948209,
           0.9934790077818925,
           0.9928237749228512,
           0.9922198173834094,
           0.9916541692341797
          ],
          [
           0.9830073755655191,
           0.9829207364609976,
           0.9828229037836089,
           0.9827185295941767,
           0.9826148142101183,
           0.9825209549247937,
           0.9824450015052015,
           0.9823938891482746,
           0.9823681886536125,
           0.982371141945964,
           0.9824043612843909,
           0.9824749047183238,
           0.9825886086176505,
           0.982753745515538,
           0.9829757340275809,
           0.9832473571920199,
           0.9835618425344713,
           0.9839181369373734,
           0.984309061849391,
           0.984715654543344,
           0.9851059810910029,
           0.9854453996580187,
           0.9857128695946451,
           0.985909426197376,
           0.9860597685099034,
           0.9861916662698431,
           0.9863409697454142,
           0.9865283674038935,
           0.9867591835522321,
           0.9870028798917162,
           0.987212077231785,
           0.987342565882311,
           0.9873872769631289,
           0.9873756496393821,
           0.9873517908150984,
           0.9873399109130996,
           0.9873492872117536,
           0.9874014094443275,
           0.9875473910528328,
           0.9878764978279646,
           0.9884900802393232,
           0.9894539293028667,
           0.9907472608007556,
           0.992245711180671,
           0.9937738630917514,
           0.9951802038843511,
           0.9964057939942729,
           0.997497621952549,
           0.9985368184164947,
           0.9995862713248835,
           1.0006659426681692,
           1.0017404081050596,
           1.0027448764904652,
           1.003605457333857,
           1.0042769504573206,
           1.004761634299599,
           1.0051004011160602,
           1.0053455549248058,
           1.005538022149453,
           1.0056977064770916,
           1.0058318468078569,
           1.005945137841891,
           1.0060383494027523,
           1.00611422472561,
           1.0061730576339258,
           1.0062153447740012,
           1.006241148005518,
           1.0062500000000003,
           1.0062406875819931,
           1.00621184709526,
           1.006161933598586,
           1.0060888388625855,
           1.0059900824048968,
           1.0058625968599777,
           1.0057071884295101,
           1.0055224513706453,
           1.0053034948660289,
           1.0050491254222462,
           1.0047573108233745,
           1.004421749952731,
           1.0040397951759557,
           1.00361162536691,
           1.0031398616913172,
           1.0026310945824162,
           1.0020949673113735,
           1.001543066629366,
           1.0009770804293399,
           1.0003894883958173,
           0.9997686355828876,
           0.9991086533455289,
           0.998405133732219,
           0.9976672854256325,
           0.9969083010073819,
           0.9961439857725791,
           0.9953909881689618,
           0.9946612093314556,
           0.993970008892659,
           0.9933261062830943,
           0.9927326687939104,
           0.9921768797828373
          ],
          [
           0.9827143478370548,
           0.9826352780906428,
           0.982544698232481,
           0.9824471999106902,
           0.9823500431148284,
           0.9822625237664655,
           0.9821927452608983,
           0.982147669492276,
           0.9821278641869482,
           0.9821364419222628,
           0.9821750628447241,
           0.9822509015677146,
           0.9823699305635911,
           0.9825405452241379,
           0.982768185421177,
           0.9830455811344797,
           0.9833659273840438,
           0.9837281791468526,
           0.9841253540360037,
           0.9845384282757911,
           0.9849353056899224,
           0.9852810218598036,
           0.9855542291298836,
           0.985755839718737,
           0.9859107165186002,
           0.986046870769441,
           0.9862007157916328,
           0.9863935771760393,
           0.9866312677076874,
           0.9868833880906842,
           0.987102178482045,
           0.9872426129835902,
           0.987296875051007,
           0.9872940299443306,
           0.9872783746910063,
           0.9872745198842872,
           0.9872918498121049,
           0.9873516117374743,
           0.9875041920291064,
           0.9878378404154534,
           0.988452762057981,
           0.9894136695163186,
           0.9906992686664626,
           0.9921855453201704,
           0.9936982684633376,
           0.9950877687450114,
           0.9962971106772868,
           0.9973743459303015,
           0.9984011362237356,
           0.9994401149182748,
           1.0005110466759117,
           1.0015781872939407,
           1.0025766848775015,
           1.0034329026762066,
           1.0041022763874845,
           1.004587975537842,
           1.0049313544380991,
           1.0051845816380072,
           1.0053878864003944,
           1.005560325896885,
           1.0057082803990312,
           1.0058361019141857,
           1.0059444307056917,
           1.0060361427681532,
           1.006111386983332,
           1.0061706037767013,
           1.0062138045525981,
           1.0062406875819931,
           1.006250000000001,
           1.0062401683922022,
           1.0062095759732603,
           1.0061561351949266,
           1.0060773479596588,
           1.0059702165744693,
           1.0058349908267266,
           1.0056703825326743,
           1.0054716942722723,
           1.0052375812396517,
           1.0049659234678339,
           1.0046506240542739,
           1.0042889437137572,
           1.0038810246048224,
           1.003429404779874,
           1.0029405155362614,
           1.0024237472574542,
           1.0018904550526262,
           1.001342372558399,
           1.00077224206763,
           1.0001686243499692,
           0.9995257967812532,
           0.9988393212359088,
           0.9981182602546657,
           0.9973756623113975,
           0.9966271907848765,
           0.9958894001077052,
           0.9951741183317883,
           0.9944965652646514,
           0.9938653387356224,
           0.9932835621347764,
           0.9927386154124941
          ],
          [
           0.9824518329659178,
           0.9823808329603724,
           0.9822980193789473,
           0.982207917651061,
           0.9821178518813591,
           0.9820372174460785,
           0.9819741718182355,
           0.9819356931707266,
           0.9819223593197868,
           0.9819371536272975,
           0.9819817729148727,
           0.9820635269822255,
           0.9821885360687657,
           0.9823653283323927,
           0.9825993626316687,
           0.9828833177341152,
           0.9832103606968228,
           0.9835794684835846,
           0.9839838497525749,
           0.9844044157478505,
           0.984808876610884,
           0.9851619035688748,
           0.9854417953033853,
           0.9856493110727783,
           0.9858094825734963,
           0.9859506337858024,
           0.9861098388237066,
           0.9863091668098755,
           0.9865549483856118,
           0.9868169363141024,
           0.9870469163490618,
           0.9871989381316824,
           0.987264305164916,
           0.9872716066893255,
           0.9872653002857406,
           0.9872704131133523,
           0.9872964213421285,
           0.9873642142000763,
           0.9875233503379252,
           0.9878608936323329,
           0.9884757080561033,
           0.9894312789293136,
           0.9907057722559099,
           0.9921756455184503,
           0.9936680707302618,
           0.9950354648735975,
           0.9962232028435358,
           0.9972805891776174,
           0.9982898864190519,
           0.999313431284512,
           1.0003706972680255,
           1.0014255456714596,
           1.0024130761756231,
           1.0032600938509304,
           1.0039229743294578,
           1.004406036884017,
           1.0047511734735637,
           1.0050103454517891,
           1.0052228837818358,
           1.0054067438663201,
           1.0055674205848057,
           1.0057088509719594,
           1.0058316214326077,
           1.0059386948370226,
           1.0060300758582756,
           1.0061061265534386,
           1.0061667667423853,
           1.00621184709526,
           1.0062401683922022,
           1.0062499999999999,
           1.0062395669951945,
           1.0062067847536431,
           1.0061491680584815,
           1.0060637461790043,
           1.0059502231025943,
           1.0058073064110136,
           1.0056305900454656,
           1.0054185680277012,
           1.005169061761267,
           1.0048761427818207,
           1.0045369821936692,
           1.0041516447971797,
           1.003722557154471,
           1.003255934041578,
           1.0027608417537173,
           1.0022483704598772,
           1.0017203149199057,
           1.0011697396068067,
           1.000585489284554,
           0.9999619849592657,
           0.9992947720415638,
           0.9985927131225957,
           0.9978686676925774,
           0.9971381143264507,
           0.996417453165201,
           0.9957184074219871,
           0.9950559986848836,
           0.9944387074316344,
           0.9938696125281364,
           0.9933363416707629
          ],
          [
           0.9822137301749505,
           0.982151312320532,
           0.9820767824440573,
           0.9819945967730743,
           0.9819121444626312,
           0.9818389215892636,
           0.9817831450379153,
           0.9817518094085452,
           0.9817455091278631,
           0.9817670856173258,
           0.9818182672447695,
           0.9819065188064416,
           0.9820381203140605,
           0.9822217415196857,
           0.9824628585932248,
           0.9827541016208768,
           0.9830886158153543,
           0.9834653970975492,
           0.9838778536744842,
           0.9843068217623387,
           0.9847197910880207,
           0.9850810320289629,
           0.9853684499466944,
           0.9855826316046713,
           0.9857487866190898,
           0.9858956088197339,
           0.9860609189725866,
           0.9862676312666724,
           0.9865226189935492,
           0.9867957866498727,
           0.9870384012596543,
           0.9872034973263656,
           0.9872813863621256,
           0.9873000949171781,
           0.9873041992779064,
           0.9873191529978093,
           0.9873545541724136,
           0.9874308356456454,
           0.9875965688107926,
           0.987937463489751,
           0.9885508720258506,
           0.9894989467568105,
           0.9907592861729674,
           0.9922088921125977,
           0.9936765116231637,
           0.995016904738098,
           0.9961780094543571,
           0.9972106213760829,
           0.9981976614438406,
           0.9992011265127619,
           1.0002401007054986,
           1.0012780213076515,
           1.0022499894694503,
           1.0030834363271557,
           1.0037359306366278,
           1.0042131438706678,
           1.004557545042613,
           1.0048208052433372,
           1.0050411428922055,
           1.0052352777906615,
           1.005407745602299,
           1.0055619900244677,
           1.0056985636823625,
           1.0058204924226197,
           1.005927666143987,
           1.0060203909026486,
           1.0060984903967547,
           1.006161933598586,
           1.0062095759732603,
           1.0062395669951945,
           1.00625,
           1.0062387746375532,
           1.0062033710673615,
           1.0061408222434565,
           1.006050315456723,
           1.0059305316539366,
           1.0057773460491966,
           1.00558908669542,
           1.0053635309806397,
           1.0050949249416656,
           1.0047803266575221,
           1.0044197007604747,
           1.0040153125335365,
           1.0035731126446281,
           1.0031018150120663,
           1.0026122139697875,
           1.0021061838072445,
           1.0015771182752826,
           1.001014194491041,
           1.0004120016035392,
           0.9997660935670498,
           0.9990851020826854,
           0.9983816349085519,
           0.9976709404736142,
           0.9969692131032268,
           0.9962880432319727,
           0.9956422191275345,
           0.9950400801320319,
           0.9944846614997568,
           0.9939638577243222
          ],
          [
           0.9819966631327794,
           0.9819434003261936,
           0.981877726775879,
           0.9818040251697049,
           0.9817297540349856,
           0.9816645124648945,
           0.9816165797167227,
           0.9815929653695292,
           0.9815942858164233,
           0.9816232295365133,
           0.9816815577082562,
           0.981776902624035,
           0.9819157169148607,
           0.9821068202090519,
           0.9823557043235551,
           0.9826549541230829,
           0.9829976987806062,
           0.9833829484907732,
           0.983804320807172,
           0.9842425629188933,
           0.9846649206773626,
           0.9850352298697533,
           0.9853309666795094,
           0.9855525300285767,
           0.9857253171093139,
           0.9858784438521481,
           0.9860505644409758,
           0.9862655310197787,
           0.9865307851142587,
           0.9868163769090854,
           0.9870729934020441,
           0.987252569654463,
           0.987344321895524,
           0.9873756353871006,
           0.9873911623233664,
           0.9874167846320033,
           0.9874622356794447,
           0.9875474060787082,
           0.9877197316982708,
           0.9880634145398466,
           0.9886741405399907,
           0.9896126305092156,
           0.9908558888805484,
           0.9922815267157449,
           0.9937200239633764,
           0.9950287206903798,
           0.9961583489095033,
           0.9971614056451185,
           0.9981215322040745,
           0.99910034046694,
           1.0001164367923072,
           1.0011328172018477,
           1.002084650578136,
           1.0029001923178618,
           1.0035384612061393,
           1.0040066815425428,
           1.004347930291429,
           1.0046134957749653,
           1.004840264294455,
           1.0050435952746055,
           1.0052269676045886,
           1.005393273116495,
           1.0055430421844826,
           1.005679353266908,
           1.0058019981436634,
           1.005911254173469,
           1.0060068476340545,
           1.0060888388625855,
           1.0061561351949266,
           1.0062067847536431,
           1.0062387746375532,
           1.0062499999999996,
           1.0062378518556638,
           1.006199345060256,
           1.0061331550331898,
           1.0060379408168212,
           1.005909846562109,
           1.0057470160876179,
           1.0055471918127596,
           1.0053048160714029,
           1.0050168123876613,
           1.0046830106328406,
           1.0043054730042162,
           1.0038898468158644,
           1.0034444721037745,
           1.0029798125639606,
           1.0024978324580582,
           1.0019922618151351,
           1.0014526545226228,
           1.0008737894602697,
           1.0002512577330653,
           0.9995934294987325,
           0.9989126016734187,
           0.998223745285989,
           0.9975427978312587,
           0.9968811920095133,
           0.9962534524368571,
           0.9956677572139839,
           0.9951270954484133,
           0.9946196487619903
          ],
          [
           0.9817929598357458,
           0.981749129533244,
           0.981692610107293,
           0.9816277021470283,
           0.9815619455773986,
           0.9815050467019539,
           0.9814653471294712,
           0.9814498645733858,
           0.981459250145229,
           0.9814960395357222,
           0.9815620203712566,
           0.9816650026070897,
           0.9818116315815294,
           0.9820108899995939,
           0.9822682860859365,
           0.9825763600721947,
           0.9829282251421484,
           0.9833229188122847,
           0.9837542644443801,
           0.9842029111638463,
           0.9846358315197584,
           0.9850163679374208,
           0.9853215022770494,
           0.9855514058473928,
           0.9857316741677415,
           0.9858919280719918,
           0.9860717806172679,
           0.9862961633132699,
           0.9865731256979757,
           0.986872871158554,
           0.9871454222096725,
           0.9873414821405458,
           0.987449029241187,
           0.9874946992957764,
           0.9875231791999763,
           0.9875608156774434,
           0.9876174674639687,
           0.9877123998444337,
           0.9878917736536468,
           0.9882380576270938,
           0.988845046187109,
           0.9897718437241985,
           0.9909948032208151,
           0.9923922585917349,
           0.9937966435891978,
           0.9950682112953786,
           0.9961608859148777,
           0.9971291582127366,
           0.9980574580685115,
           0.9990069711585869,
           0.9999957625967243,
           1.000986315453722,
           1.0019138439701076,
           1.0027075422419813,
           1.0033280760832575,
           1.0037843876069805,
           1.0041201873474719,
           1.0043862972958635,
           1.0046181051945127,
           1.0048294766851198,
           1.0050228058144894,
           1.005200341926527,
           1.0053626964845117,
           1.0055129528717233,
           1.005650793033255,
           1.005776426155133,
           1.0058894492393553,
           1.0059900824048968,
           1.0060773479596588,
           1.0061491680584815,
           1.0062033710673615,
           1.0062378518556638,
           1.0062500000000003,
           1.0062367686898923,
           1.0061962009471224,
           1.006126901100849,
           1.006025423249427,
           1.0058896881403694,
           1.0057173642473207,
           1.0055031384108566,
           1.0052438148367422,
           1.0049389950310332,
           1.0045904971272681,
           1.0042036231660547,
           1.0037863097190283,
           1.0033486237016573,
           1.002892597152457,
           1.0024123662986706,
           1.0018979422686642,
           1.0013443260974353,
           1.0007471963306307,
           1.0001145929403847,
           0.9994584416439427,
           0.9987933504858294,
           0.9981349506091638,
           0.9974944947481573,
           0.9968861995730068,
           0.996318065994575,
           0.9957930196993667,
           0.9952995897808471
          ],
          [
           0.9815910985871066,
           0.9815570004781755,
           0.9815099541999613,
           0.9814541632908276,
           0.9813972649694771,
           0.9813490771445226,
           0.9813180035172092,
           0.9813110692626847,
           0.9813289670469839,
           0.9813740789110112,
           0.981448217816748,
           0.9815593758226211,
           0.9817144149006598,
           0.9819224948109865,
           0.982189142334239,
           0.9825068515235579,
           0.9828687165701766,
           0.9832738148390954,
           0.9837161734038656,
           0.9841763361341971,
           0.9846209621255148,
           0.9850128374209359,
           0.9853283855755814,
           0.9855675166577236,
           0.9857560452490027,
           0.9859241842354198,
           0.9861126261835681,
           0.9863475248169679,
           0.9866375717345838,
           0.9869531295273388,
           0.9872434696525532,
           0.9874579334189719,
           0.9875831271950077,
           0.9876448404794833,
           0.9876877583136365,
           0.9877387266744014,
           0.9878077192266915,
           0.9879133177801592,
           0.9881002572456318,
           0.988449048082488,
           0.9890513823628141,
           0.9899645806887749,
           0.9911643043835977,
           0.992529720752068,
           0.9938954293516796,
           0.9951249350506464,
           0.9961757181429871,
           0.9971045397236422,
           0.9979966554475649,
           0.9989127838445486,
           0.9998703978452768,
           1.0008314020686222,
           1.0017310237636552,
           1.002499467933634,
           1.0030992038216784,
           1.0035410473982898,
           1.0038693896262385,
           1.0041345242320643,
           1.0043702073671568,
           1.0045887213745441,
           1.0047912918866737,
           1.0049794299652646,
           1.0051539275946135,
           1.0053178440516388,
           1.0054707247966932,
           1.005612677934959,
           1.0057431452693721,
           1.0058625968599777,
           1.0059702165744693,
           1.0060637461790043,
           1.0061408222434565,
           1.006199345060256,
           1.0062367686898923,
           1.0062500000000003,
           1.0062362806484655,
           1.0061941721975936,
           1.006120744714227,
           1.0060136596648543,
           1.0058704564365264,
           1.0056861459038657,
           1.0054574289589067,
           1.0051835718121505,
           1.0048661010050075,
           1.0045099395953252,
           1.004122621399012,
           1.0037137569573806,
           1.003285416013535,
           1.0028322004990764,
           1.0023446428171743,
           1.0018180107754087,
           1.0012481132918487,
           1.000642601756814,
           1.0000129782349605,
           0.9993733949865922,
           0.9987391369239312,
           0.9981212570682336,
           0.9975336355515059,
           0.9969840785908004,
           0.9964754257818655,
           0.9959966000136824
          ],
          [
           0.9813964918826935,
           0.9813724667681397,
           0.9813352337826953,
           0.9812889091306055,
           0.9812412223749112,
           0.9812020990531855,
           0.9811800078476316,
           0.9811819779616203,
           0.9812087449934808,
           0.9812625426377398,
           0.9813451997312868,
           0.9814649037076875,
           0.9816287296424188,
           0.9818460216200022,
           0.982122324409435,
           0.9824500860135438,
           0.9828223888104107,
           0.9832383534019551,
           0.983692210381152,
           0.9841643921071054,
           0.9846212247348767,
           0.9850249276165306,
           0.9853513535811426,
           0.9856001483157156,
           0.9857973457506228,
           0.9859737763732671,
           0.986171247073534,
           0.986417169634035,
           0.9867208933333071,
           0.98705294482114,
           0.9873618148331901,
           0.9875954522150207,
           0.9877390288410575,
           0.9878174301625633,
           0.9878753034194642,
           0.9879399861318197,
           0.9880215814984794,
           0.9881379184854829,
           0.9883322288779084,
           0.988683014654045,
           0.9892797844855423,
           0.9901780305603666,
           0.9913527076063455,
           0.9926838492404898,
           0.9940083128888789,
           0.9951929366820119,
           0.996198844424297,
           0.997085156271401,
           0.9979380483030506,
           0.9988177540725914,
           0.9997410727916913,
           1.000669328223396,
           1.0015378393967531,
           1.0022780017776924,
           1.0028542986087299,
           1.0032795360133262,
           1.0035987469557077,
           1.003861606292942,
           1.0041000921388121,
           1.0043247422692045,
           1.0045356198312898,
           1.0047335213618682,
           1.004919412115651,
           1.0050963229352388,
           1.0052636865664815,
           1.0054215328793041,
           1.005569160359135,
           1.0057071884295101,
           1.0058349908267266,
           1.0059502231025943,
           1.006050315456723,
           1.0061331550331898,
           1.0061962009471224,
           1.0062362806484655,
           1.006250000000001,
           1.0062357601739884,
           1.006191087974009,
           1.006113431444559,
           1.0060002800230412,
           1.005846893798455,
           1.0056498540467806,
           1.0054081106233106,
           1.00512288598309,
           1.0047986792186607,
           1.00444256878845,
           1.0040637138951112,
           1.003664238481997,
           1.003239208773959,
           1.0027797169913923,
           1.0022812877237017,
           1.001739852433113,
           1.0011626677768675,
           1.0005607871739415,
           0.9999479127017303,
           0.9993389351521604,
           0.9987446726472697,
           0.9981786331891627,
           0.9976484291563894,
           0.9971568326262876,
           0.9966931649997014
          ],
          [
           0.9812034611668463,
           0.9811899377722068,
           0.9811629306061111,
           0.9811264726824698,
           0.9810883845687418,
           0.9810587009316749,
           0.9810459593014749,
           0.9810571969740677,
           0.9810931885568165,
           0.9811560040943648,
           0.9812474993509158,
           0.9813760568154593,
           0.9815489669320178,
           0.9817757616948412,
           0.9820620043572981,
           0.982400099401509,
           0.9827831210887544,
           0.9832102159772886,
           0.9836758346296082,
           0.9841602874480556,
           0.9846295563797999,
           0.9850452937934938,
           0.9853827828988149,
           0.9856414167481988,
           0.9858474601263787,
           0.9860323707415093,
           0.9862390881075411,
           0.9864962995634672,
           0.9868139984663422,
           0.9871628565690372,
           0.9874905678322525,
           0.9877436819013868,
           0.9879059221987196,
           0.9880012600653247,
           0.9880742741836777,
           0.9881527621901995,
           0.9882469738259805,
           0.9883739450827727,
           0.9885753082293013,
           0.9889275152081458,
           0.9895178691557787,
           0.9904000566286341,
           0.9915483458189596,
           0.9928436396295215,
           0.9941250834401334,
           0.9952629177794361,
           0.9962219018906627,
           0.9970635773257088,
           0.9978750441629458,
           0.9987160093774126,
           0.9996025374014048,
           1.00049539764791,
           1.0013300875877655,
           1.0020393424798808,
           1.002589825038411,
           1.0029964683630725,
           1.0033049942861336,
           1.003564407432828,
           1.0038047572619084,
           1.0040348225759324,
           1.004253367655209,
           1.0044604678837405,
           1.0046571942484044,
           1.004846575235931,
           1.0050279605609436,
           1.0052013542608966,
           1.0053659410374596,
           1.0055224513706453,
           1.0056703825326743,
           1.0058073064110136,
           1.0059305316539366,
           1.0060379408168212,
           1.006126901100849,
           1.0061941721975936,
           1.0062357601739884,
           1.0062499999999992,
           1.0062347363380615,
           1.0061872094482547,
           1.0061048558276555,
           1.0059832254740437,
           1.0058187447925782,
           1.0056100459567898,
           1.0053580171856014,
           1.0050667202537593,
           1.0047428039525526,
           1.0043949776625747,
           1.004025431279957,
           1.0036296499370845,
           1.0031992789630686,
           1.0027301135674276,
           1.0022182104618427,
           1.0016704421476212,
           1.001097384657977,
           1.0005122746830926,
           0.9999295820716809,
           0.9993598766153302,
           0.9988163068188183,
           0.9983062680955508,
           0.9978324653482652,
           0.997384598930556
          ],
          [
           0.9810072252121818,
           0.9810044316336661,
           0.9809878995083441,
           0.9809615628003585,
           0.9809333439806412,
           0.980913390103201,
           0.9809103063380076,
           0.98093113468564,
           0.9809767013398262,
           0.9810489018332277,
           0.9811496169596329,
           0.9812874365110377,
           0.9814698852038823,
           0.9817066846200124,
           0.9820034132727058,
           0.9823524389141096,
           0.9827468312968203,
           0.9831857697193762,
           0.9836639183960272,
           0.9841614569807003,
           0.9846440052106735,
           0.9850726045415874,
           0.9854219243267036,
           0.9856910775158929,
           0.985906567873054,
           0.9861005522376936,
           0.9863171992566215,
           0.9865865750884493,
           0.986919327741103,
           0.9872862678445709,
           0.9876342244705681,
           0.9879082538242806,
           0.988090537363473,
           0.9882040668989133,
           0.9882933321145896,
           0.9883866082034114,
           0.988494279721921,
           0.9886324958319405,
           0.9888411868623156,
           0.9891945672903101,
           0.989777570895943,
           0.9906419671623532,
           0.9917613360829046,
           0.9930175670886501,
           0.9942522755537712,
           0.9953393597226278,
           0.9962475086049944,
           0.9970408944918253,
           0.9978075090699093,
           0.9986064888649397,
           0.9994531017842129,
           1.0003074870420163,
           1.0011052710899948,
           1.0017805966380557,
           1.0023024565426653,
           1.002688079175456,
           1.0029839600391766,
           1.003238405273061,
           1.0034794018318356,
           1.0037139019152252,
           1.0039393191910355,
           1.0041549058848445,
           1.0043619228511058,
           1.0045633415847361,
           1.004758432679446,
           1.0049471522437619,
           1.005128533471609,
           1.0053034948660289,
           1.0054716942722723,
           1.0056305900454656,
           1.0057773460491966,
           1.005909846562109,
           1.006025423249427,
           1.006120744714227,
           1.006191087974009,
           1.0062347363380615,
           1.0062500000000005,
           1.006233836003507,
           1.0061835685287865,
           1.006095102928773,
           1.005964715971987,
           1.0057906515299633,
           1.0055734160220384,
           1.0053166089789403,
           1.0050264453639741,
           1.0047111361156622,
           1.0043729465484978,
           1.0040078246672324,
           1.003608004916434,
           1.00316957174559,
           1.0026887515903091,
           1.0021719799116313,
           1.0016293027981746,
           1.0010734179007057,
           1.000518339525583,
           0.9999743840776241,
           0.9994543142941243,
           0.9989652994831624,
           0.9985099555994483,
           0.9980784098680915
          ],
          [
           0.9807894237238465,
           0.9807973651388796,
           0.9807913410635862,
           0.9807751811415545,
           0.9807569193169514,
           0.9807468204024952,
           0.9807535629566714,
           0.9807841919534583,
           0.980839592752427,
           0.9809214866159555,
           0.981031769297485,
           0.9811792579753356,
           0.9813717269374003,
           0.9816191006563049,
           0.9819269763907115,
           0.9822876844986985,
           0.9826942909809748,
           0.9831460168225654,
           0.9836377372036799,
           0.9841494858236332,
           0.9846464732839224,
           0.9850890611392705,
           0.9854512386798894,
           0.9857318098506154,
           0.9859575424809557,
           0.986161386875485,
           0.9863888705307604,
           0.9866715782331401,
           0.9870208590243108,
           0.9874076615213986,
           0.9877778553726153,
           0.9880748596019485,
           0.988279172594422,
           0.98841272526536,
           0.9885199142884681,
           0.988629551575531,
           0.9887521742288309,
           0.98890292779731,
           0.9891198745371197,
           0.9894747555661036,
           0.9900499087305219,
           0.9908950181470966,
           0.9919829434370389,
           0.9931966958255591,
           0.99438063142341,
           0.9954126699856598,
           0.9962658130857678,
           0.9970071769381814,
           0.9977257037323615,
           0.9984799271368354,
           0.9992842371486929,
           1.000098029350377,
           1.0008569572071042,
           1.0014965353952916,
           1.001988111253217,
           1.0023512597800779,
           1.0026332729524252,
           1.002881732858611,
           1.0031225111718791,
           1.0033606825566261,
           1.0035923179540251,
           1.0038157989211134,
           1.0040326208573815,
           1.0042456691574664,
           1.004454130537355,
           1.0046578986775285,
           1.0048558484037844,
           1.0050491254222462,
           1.0052375812396517,
           1.0054185680277012,
           1.00558908669542,
           1.0057470160876179,
           1.0058896881403694,
           1.0060136596648543,
           1.006113431444559,
           1.0061872094482547,
           1.006233836003507,
           1.00625,
           1.0062328905708964,
           1.0061787859822608,
           1.0060837967799927,
           1.0059457300112458,
           1.0057646683661883,
           1.005543704807257,
           1.0052885801124336,
           1.005006966641519,
           1.004701221432553,
           1.0043678183365394,
           1.0039996492475831,
           1.0035931232011819,
           1.0031446567992812,
           1.0026602014592052,
           1.0021492118449453,
           1.0016237831444132,
           1.001097432276531,
           1.000580191177736,
           1.0000843955809195,
           0.9996169633939891,
           0.999180415282425,
           0.9987653573127123
          ],
          [
           0.9805325416219999,
           0.9805510096309844,
           0.9805553250171659,
           0.9805492185236535,
           0.9805408435062953,
           0.9805405925860007,
           0.9805572303554586,
           0.9805978045373703,
           0.9806632682139595,
           0.9807551738112272,
           0.9808754218185302,
           0.981033084512572,
           0.9812362019498573,
           0.9814949271805681,
           0.9818148885023412,
           0.9821883740104916,
           0.9826084463697384,
           0.9830743809067786,
           0.98358126259307,
           0.9841089468649129,
           0.9846221558950081,
           0.9850804607631892,
           0.9854570630279389,
           0.985750411466157,
           0.9859875803775622,
           0.9862024475290231,
           0.9864421051534951,
           0.9867398605845976,
           0.9871078814302234,
           0.9875172763858105,
           0.9879128236119199,
           0.9882360655388607,
           0.9884655559950766,
           0.9886220136242664,
           0.9887497668931954,
           0.988878286443402,
           0.9890183410719694,
           0.9891839064661488,
           0.98941092291509,
           0.9897683401724615,
           0.9903355325820196,
           0.9911597992221698,
           0.992213173253627,
           0.9933799501328168,
           0.9945076579965155,
           0.9954787860461318,
           0.9962712324657107,
           0.9969555470923404,
           0.9976218423726281,
           0.9983280578335179,
           0.9990875898423651,
           0.9998589448662291,
           1.0005776672765239,
           1.0011805349478828,
           1.0016411575268205,
           1.001981346608861,
           1.0022490887528632,
           1.0024911868998072,
           1.002731339034607,
           1.0029726633828204,
           1.003210008178883,
           1.0034409279338588,
           1.0036671522046343,
           1.0038914615184469,
           1.0041129817162326,
           1.004331556214476,
           1.004545889987629,
           1.0047573108233745,
           1.0049659234678339,
           1.005169061761267,
           1.0053635309806397,
           1.0055471918127596,
           1.0057173642473207,
           1.0058704564365264,
           1.0060002800230412,
           1.0061048558276555,
           1.0061835685287865,
           1.0062328905708964,
           1.0062500000000005,
           1.0062314513043953,
           1.0061731373565825,
           1.0060724339325808,
           1.005928966387137,
           1.0057452437649992,
           1.0055263865419295,
           1.0052794917161862,
           1.0050070581094326,
           1.004706181293223,
           1.004370532393644,
           1.0039969124207493,
           1.0035819194799929,
           1.0031309753039264,
           1.0026528585525427,
           1.0021590214394935,
           1.0016624052646488,
           1.0011726924960866,
           1.0007017084219414,
           1.0002560719498013,
           0.999838221959474,
           0.9994393143114716
          ],
          [
           0.9802342515549439,
           0.9802629721244085,
           0.980277396569206,
           0.9802811554874952,
           0.980282536383215,
           0.9802920709051817,
           0.9803186211704147,
           0.9803692451062148,
           0.9804449695001454,
           0.9805471816947229,
           0.9806777806192969,
           0.9808461081112831,
           0.9810605016197388,
           0.981331369659949,
           0.9816643846429198,
           0.9820517904623227,
           0.9824866430316898,
           0.9829682855245043,
           0.9834920154755,
           0.9840374745656407,
           0.9845688177701986,
           0.9850447022741737,
           0.9854374209656467,
           0.9857450078592491,
           0.9859948816602894,
           0.9862219938565748,
           0.986475235152952,
           0.9867898903295649,
           0.9871790493199347,
           0.9876139977983291,
           0.9880382826206837,
           0.9883913223693734,
           0.9886494582329397,
           0.9888320249152417,
           0.9889832644273586,
           0.9891334299298773,
           0.9892936193286893,
           0.9894765108352973,
           0.9897156175866937,
           0.9900767060871486,
           0.9906357856464926,
           0.9914374505226056,
           0.9924527820307442,
           0.9935675061738053,
           0.9946327388218574,
           0.9955361850417994,
           0.9962613123954059,
           0.9968827165979397,
           0.9974918771495557,
           0.9981461391043833,
           0.9988578228859485,
           0.9995844140365672,
           1.000261207707392,
           1.0008261223863923,
           1.0012549183673807,
           1.001571531774847,
           1.0018245169193178,
           1.0020598104957315,
           1.0022988711554601,
           1.002542873899841,
           1.0027854834140708,
           1.003023415525387,
           1.003258697880489,
           1.0034939904595346,
           1.0037283560831989,
           1.0039615850373176,
           1.004192199976586,
           1.004421749952731,
           1.0046506240542739,
           1.0048761427818207,
           1.0050949249416656,
           1.0053048160714029,
           1.0055031384108566,
           1.0056861459038657,
           1.005846893798455,
           1.0059832254740437,
           1.006095102928773,
           1.0061787859822608,
           1.0062314513043953,
           1.0062499999999994,
           1.0062300663777155,
           1.0061685220361893,
           1.0060644554376168,
           1.0059197225586014,
           1.0057387621940952,
           1.0055280194728202,
           1.005290144744323,
           1.005022933727891,
           1.0047209623697615,
           1.0043815255416542,
           1.0040014501046959,
           1.0035855726462377,
           1.0031418925178073,
           1.0026811091236634,
           1.0022155166192117,
           1.001754401499692,
           1.001309021141425,
           1.000885636213815,
           1.0004865752236125,
           1.0001036058814428
          ],
          [
           0.9799082957185867,
           0.9799470620500904,
           0.9799714286993171,
           0.9799849177822786,
           0.9799959651041066,
           0.9800152455091352,
           0.9800517212610743,
           0.9801124629970694,
           0.9801985784611165,
           0.9803113008938008,
           0.9804525218684272,
           0.9806318535844055,
           0.9808579513452333,
           0.9811415014741643,
           0.9814882290219806,
           0.981890331872762,
           0.9823408583583119,
           0.9828392418828685,
           0.9833809786508362,
           0.9839454841176813,
           0.9844962927323367,
           0.9849910706217684,
           0.9854011156175182,
           0.9857239979847092,
           0.9859874998511258,
           0.9862277432301542,
           0.9864955827576916,
           0.9868284573528929,
           0.9872404418646097,
           0.9877030111923745,
           0.9881583865287576,
           0.9885437147775419,
           0.9888329450562081,
           0.9890438802525967,
           0.9892206204634649,
           0.9893942689164172,
           0.9895763055879844,
           0.9897780593414516,
           0.9900304076815257,
           0.9903956679624182,
           0.9909462043302926,
           0.991723678496557,
           0.9926981238331287,
           0.9937567912139955,
           0.994754630746683,
           0.9955849950236346,
           0.9962373922886303,
           0.9967909143705725,
           0.9973385322881759,
           0.9979369967006232,
           0.9985975158290101,
           0.9992764999091236,
           0.9999089489317371,
           1.0004339341173367,
           1.000829391168608,
           1.001121329939528,
           1.0013587196794753,
           1.001586495019098,
           1.0018237835396682,
           1.0020697876820317,
           1.00231701305865,
           1.0025613192240568,
           1.0028051529840636,
           1.0030510320935286,
           1.003297932767586,
           1.0035455615495736,
           1.0037922442494651,
           1.0040397951759557,
           1.0042889437137572,
           1.0045369821936692,
           1.0047803266575221,
           1.0050168123876613,
           1.0052438148367422,
           1.0054574289589067,
           1.0056498540467806,
           1.0058187447925782,
           1.005964715971987,
           1.0060837967799927,
           1.0061731373565825,
           1.0062300663777155,
           1.0062500000000003,
           1.0062291760275115,
           1.006166085105806,
           1.006061876248743,
           1.0059203058903123,
           1.0057471010179297,
           1.005545006687304,
           1.005312577196661,
           1.005045402064107,
           1.00474134240931,
           1.0043975253108701,
           1.0040181373731836,
           1.0036103309176847,
           1.003183946869506,
           1.002750577819934,
           1.0023190882522568,
           1.0019001290627612,
           1.0014995725899778,
           1.0011196085529022,
           1.0007526595508505
          ],
          [
           0.979548050234357,
           0.9795968961146365,
           0.9796312530000301,
           0.9796545372356882,
           0.9796753326732692,
           0.9797044601975696,
           0.9797509869040101,
           0.9798219963637484,
           0.9799186851408441,
           0.980042131430066,
           0.9801942122669601,
           0.9803848196606829,
           0.9806229368694789,
           0.9809195358318242,
           0.9812803988123564,
           0.9816976798101582,
           0.982164418172048,
           0.9826801462085655,
           0.9832405595148281,
           0.9838248359588615,
           0.9843958710993681,
           0.9849103022939731,
           0.985338389105084,
           0.9856772096089194,
           0.9859549064515442,
           0.986208817566581,
           0.9864918466598516,
           0.9868436794608917,
           0.9872794200217285,
           0.9877707457049317,
           0.9882585141881686,
           0.9886775148658208,
           0.9889991905892505,
           0.9892397231407742,
           0.989443044312766,
           0.9896411472068865,
           0.9898459492372877,
           0.9900673785623226,
           0.9903335723036131,
           0.9907032588980006,
           0.9912450015365346,
           0.9919974009401993,
           0.9929293687570828,
           0.9939297057971486,
           0.9948573325490773,
           0.9956114714417477,
           0.9961879302559716,
           0.9966705278151345,
           0.9971538346373129,
           0.9976940162158399,
           0.9983011472387512,
           0.9989305559734576,
           0.9995169709515445,
           1.0000006741558047,
           1.000361813456424,
           1.0006284289824705,
           1.0008497788352562,
           1.0010696805810066,
           1.0013048439726449,
           1.001552453690971,
           1.0018039042797853,
           1.0020542092080291,
           1.002306265085787,
           1.0025624455627993,
           1.0028216530026193,
           1.003083514303096,
           1.003346150824559,
           1.00361162536691,
           1.0038810246048224,
           1.0041516447971797,
           1.0044197007604747,
           1.0046830106328406,
           1.0049389950310332,
           1.0051835718121505,
           1.0054081106233106,
           1.0056100459567898,
           1.0057906515299633,
           1.0059457300112458,
           1.0060724339325808,
           1.0061685220361893,
           1.0062291760275115,
           1.00625,
           1.0062288500307646,
           1.0061661315872756,
           1.0060648732529074,
           1.005930051183698,
           1.005764514518264,
           1.0055675931856185,
           1.0053359432069229,
           1.0050680308411502,
           1.004761305684881,
           1.0044192883373197,
           1.0040482386045808,
           1.0036571057502777,
           1.0032567421316365,
           1.0028555655424725,
           1.0024635906822592,
           1.0020862809792321,
           1.0017256733323727,
           1.0013748613409275
          ],
          [
           0.979164425445325,
           0.9792235537395299,
           0.9792680938664531,
           0.9793013599091869,
           0.9793320778962882,
           0.9793712124129144,
           0.9794279338306229,
           0.9795093332552836,
           0.9796167019376816,
           0.9797509615528108,
           0.9799139731761018,
           0.9801159070469435,
           0.9803660701795656,
           0.9806757179554402,
           0.9810506880495723,
           0.9814830909546027,
           0.9819659580736007,
           0.9824989233893238,
           0.9830778853912993,
           0.9836817817921235,
           0.98427288905655,
           0.9848068413369524,
           0.9852528752239347,
           0.9856075743233634,
           0.985899419865123,
           0.9861669437014,
           0.9864650740809321,
           0.9868357152099899,
           0.9872949972830711,
           0.9878148110121044,
           0.9883346831222181,
           0.9887870766656818,
           0.9891409328541103,
           0.9894107933327357,
           0.9896403915660325,
           0.9898625816403153,
           0.9900897159042894,
           0.9903303345986316,
           0.9906098876441414,
           0.9909835690303539,
           0.9915161767188018,
           0.9922432607185089,
           0.9931325806933125,
           0.9940744374591752,
           0.9949316589120099,
           0.9956092358889734,
           0.9961092167776701,
           0.9965200741708973,
           0.9969380208772644,
           0.9974186444079008,
           0.9979709053324607,
           0.9985491312082918,
           0.9990879114333583,
           0.9995289202133719,
           0.9998546650874944,
           1.000095234787693,
           1.000300082291151,
           1.0005117978977414,
           1.0007445578901155,
           1.000993442496985,
           1.0012487580482519,
           1.001504719014348,
           1.0017646908149815,
           1.002030905684535,
           1.0023022011511293,
           1.0025781262463274,
           1.002856589867107,
           1.0031398616913172,
           1.003429404779874,
           1.003722557154471,
           1.0040153125335365,
           1.0043054730042162,
           1.0045904971272681,
           1.0048661010050075,
           1.00512288598309,
           1.0053580171856014,
           1.0055734160220384,
           1.0057646683661883,
           1.005928966387137,
           1.0060644554376168,
           1.006166085105806,
           1.0062288500307646,
           1.00625,
           1.0062291903626686,
           1.0061686851968947,
           1.0060727043316755,
           1.0059441973734629,
           1.0057832608583301,
           1.0055876212398465,
           1.0053563311756448,
           1.0050871631714304,
           1.004782976688176,
           1.0044491446015529,
           1.0040937457535781,
           1.0037268755962083,
           1.0033565013872907,
           1.002991992537527,
           1.0026384133573403,
           1.0022976492924307,
           1.0019634571980485
          ],
          [
           0.9787748477446541,
           0.9788446866964409,
           0.9788998032961453,
           0.9789434128166971,
           0.9789843718324107,
           0.9790337776479646,
           0.9791008953276829,
           0.9791928172369858,
           0.9793109305501324,
           0.9794559953401625,
           0.9796298610415791,
           0.9798429624278828,
           0.98010491434401,
           0.9804272378268296,
           0.9808158165165608,
           0.9812627206477054,
           0.9817609777471923,
           0.9823103149769973,
           0.9829068374933003,
           0.9835292563303848,
           0.9841392953910382,
           0.9846916753258834,
           0.9851546883787599,
           0.985524450319481,
           0.985829737744449,
           0.9861101824706172,
           0.9864225926049928,
           0.9868109390721067,
           0.9872923075285498,
           0.9878388005263812,
           0.9883887226323202,
           0.9888723758822128,
           0.9892563475319014,
           0.9895536038368514,
           0.9898076343747264,
           0.9900520491119412,
           0.9902995790264321,
           0.9905574624942436,
           0.9908486691608362,
           0.9912251063245603,
           0.9917480602902335,
           0.992450216964416,
           0.9932982209024342,
           0.9941837374015958,
           0.9949732014026854,
           0.9955769379282059,
           0.996002825570502,
           0.9963436102231897,
           0.9966970614821671,
           0.9971181879761146,
           0.99761490599258,
           0.9981407177322744,
           0.9986303162294915,
           0.9990270687887611,
           0.9993160982598213,
           0.9995296430533893,
           0.9997173082772544,
           0.9999203616863688,
           1.0001503243134104,
           1.0004000969021603,
           1.000658871507314,
           1.000920090604674,
           1.0011875945626147,
           1.0014634836269072,
           1.0017465416285036,
           1.0020362432165006,
           1.0023302810421402,
           1.0026310945824162,
           1.0029405155362614,
           1.003255934041578,
           1.0035731126446281,
           1.0038898468158644,
           1.0042036231660547,
           1.0045099395953252,
           1.0047986792186607,
           1.0050667202537593,
           1.0053166089789403,
           1.005543704807257,
           1.0057452437649992,
           1.0059197225586014,
           1.006061876248743,
           1.0061661315872756,
           1.0062291903626686,
           1.0062500000000005,
           1.0062300767514125,
           1.006172901814736,
           1.0060815055863597,
           1.0059566906743915,
           1.0057971859759218,
           1.005602566042671,
           1.005370921310602,
           1.0051044843927996,
           1.0048077906524286,
           1.0044881039461215,
           1.0041547828753405,
           1.0038153710008395,
           1.0034786211402984,
           1.0031492366209862,
           1.0028289570361213,
           1.002512159531905
          ],
          [
           0.9784165352837436,
           0.9784978533670933,
           0.9785642467771762,
           0.9786188334170174,
           0.9786705824963747,
           0.9787306986139472,
           0.978808520179107,
           0.9789111345772465,
           0.9790400165525354,
           0.9791957614649853,
           0.9793802142440605,
           0.9796040408268092,
           0.9798771282071643,
           0.9802112263512417,
           0.980612242869009,
           0.9810722153315367,
           0.9815841782326459,
           0.982147932687894,
           0.9827597898411874,
           0.9833982829058778,
           0.9840247047442099,
           0.9845930544212866,
           0.9850708513366713,
           0.9854538147539813,
           0.9857709416099129,
           0.9860627612935184,
           0.9863876452360851,
           0.9867913105539435,
           0.9872916051476097,
           0.9878608088444015,
           0.9884362084103501,
           0.9889463321408842,
           0.9893557939105595,
           0.9896761672716962,
           0.9899505913690527,
           0.9902131906467743,
           0.990476937057111,
           0.9907479909877868,
           0.9910472102658074,
           0.9914237298542914,
           0.9919358877059719,
           0.9926139819091374,
           0.9934237188198912,
           0.9942578873013377,
           0.9949858631050955,
           0.9955224072008679,
           0.9958802765813882,
           0.9961557090317577,
           0.9964477357084169,
           0.9968107469654328,
           0.9972517440517739,
           0.9977237193739579,
           0.9981618799655121,
           0.9985117864215809,
           0.998761644188525,
           0.9989461353114104,
           0.9991150689310087,
           0.9993082981224,
           0.999534540608763,
           0.9997844584618081,
           1.0000459824503645,
           1.0003117364222833,
           1.000586064861233,
           1.0008709581648318,
           1.0011651471796532,
           1.0014680330541996,
           1.001777110767679,
           1.0020949673113735,
           1.0024237472574542,
           1.0027608417537173,
           1.0031018150120663,
           1.0034444721037745,
           1.0037863097190283,
           1.004122621399012,
           1.00444256878845,
           1.0047428039525526,
           1.0050264453639741,
           1.0052885801124336,
           1.0055263865419295,
           1.0057387621940952,
           1.0059203058903123,
           1.0060648732529074,
           1.0061686851968947,
           1.0062300767514125,
           1.00625,
           1.006231254205384,
           1.0061768622949505,
           1.0060881714038101,
           1.0059647445394126,
           1.0058065541490155,
           1.0056120272958526,
           1.0053828301634165,
           1.0051227704327297,
           1.0048383659030824,
           1.0045383138102186,
           1.0042298083403576,
           1.0039210871674509,
           1.0036165767464835,
           1.0033178799087326,
           1.0030198841083957
          ],
          [
           0.9781075297517638,
           0.9782012527061152,
           0.9782797603849954,
           0.9783460757994598,
           0.9784092575122442,
           0.9784805850603201,
           0.9785694432697357,
           0.9786829051019457,
           0.9788225192246801,
           0.9789887109066466,
           0.9791833307810056,
           0.9794172395988266,
           0.9797005421240774,
           0.9800451690190691,
           0.9804570217331028,
           0.9809281114457417,
           0.9814514958600224,
           0.9820270255802868,
           0.982651215789001,
           0.9833024877849446,
           0.9839418488577213,
           0.9845228300405838,
           0.9850124116066298,
           0.98540602584665,
           0.9857328055484532,
           0.9860339124559978,
           0.9863688559149582,
           0.9867846569483801,
           0.9872996662095764,
           0.9878862877142599,
           0.9884810462273145,
           0.9890112036207468,
           0.9894399152918236,
           0.9897776370547455,
           0.9900670635699206,
           0.9903425194774211,
           0.9906170254372948,
           0.9908959186679583,
           0.9911984257812683,
           0.9915716081378305,
           0.9920716059594282,
           0.9927269866462087,
           0.9935028064778569,
           0.9942927114494241,
           0.9949681869232881,
           0.9954472306142904,
           0.9957461663053606,
           0.9959636376361376,
           0.9961995181699449,
           0.9965075216578969,
           0.9968938655626367,
           0.9973113855889495,
           0.997696265400394,
           0.9979968220127209,
           0.9982048998528894,
           0.9983580339631042,
           0.9985064066042982,
           0.998688435027053,
           0.9989099026112922,
           0.9991591367966137,
           0.9994226223098206,
           0.9996921261637853,
           0.9999724689618499,
           1.0002655624522623,
           1.0005700971648144,
           1.0008854178347795,
           1.0012088500304732,
           1.001543066629366,
           1.0018904550526262,
           1.0022483704598772,
           1.0026122139697875,
           1.0029798125639606,
           1.0033486237016573,
           1.0037137569573806,
           1.0040637138951112,
           1.0043949776625747,
           1.0047111361156622,
           1.005006966641519,
           1.0052794917161862,
           1.0055280194728202,
           1.0057471010179297,
           1.005930051183698,
           1.0060727043316755,
           1.006172901814736,
           1.006231254205384,
           1.0062500000000003,
           1.0062320735159536,
           1.0061791533815543,
           1.006091397344418,
           1.0059689956373494,
           1.0058106967102576,
           1.0056176873664926,
           1.005393206279255,
           1.0051431484992006,
           1.00487564997288,
           1.0045976452155587,
           1.0043169879678169,
           1.0040379474737178,
           1.0037620204032616,
           1.0034844663909483
          ],
          [
           0.9778360140772762,
           0.9779430190192202,
           0.9780344385104391,
           0.9781132022004716,
           0.9781884354155583,
           0.9782714657884033,
           0.9783717036544289,
           0.9784962007738021,
           0.9786465693608414,
           0.9788230459246997,
           0.9790274957443531,
           0.9792709579869779,
           0.9795637089625995,
           0.979917809197967,
           0.9803391248310718,
           0.9808196504082964,
           0.9813524820689121,
           0.9819374901377507,
           0.9825713987783753,
           0.9832325638540915,
           0.9838818302720229,
           0.9844724774663602,
           0.9849711599389913,
           0.9853731308144383,
           0.9857075928931393,
           0.9860161248568402,
           0.986359001122115,
           0.9867841513830288,
           0.987310191181059,
           0.987909589781467,
           0.9885183249515944,
           0.9890628199951712,
           0.9895052245117377,
           0.9898551526948882,
           0.9901548208856714,
           0.9904384807924173,
           0.9907190282699343,
           0.9910011202018412,
           0.9913027812137983,
           0.9916695986051652,
           0.9921561772420975,
           0.9927899581700225,
           0.993535648980556,
           0.994287571254231,
           0.9949186608912767,
           0.9953491056429803,
           0.9955976310518149,
           0.995764278868235,
           0.9959493475815038,
           0.9962058057624672,
           0.9965391552313387,
           0.9969023227839051,
           0.9972328060749162,
           0.9974821097039144,
           0.997646181885791,
           0.9977658315041836,
           0.9978918894779376,
           0.9980614082154843,
           0.9982771343990374,
           0.9985249683135855,
           0.9987897685000937,
           0.999062408719166,
           0.9993480960748328,
           0.9996486810250537,
           0.9999628521698916,
           1.0002899411447277,
           1.0006271209593858,
           1.0009770804293399,
           1.001342372558399,
           1.0017203149199057,
           1.0021061838072445,
           1.0024978324580582,
           1.002892597152457,
           1.003285416013535,
           1.003664238481997,
           1.004025431279957,
           1.0043729465484978,
           1.004701221432553,
           1.0050070581094326,
           1.005290144744323,
           1.005545006687304,
           1.005764514518264,
           1.0059441973734629,
           1.0060815055863597,
           1.0061768622949505,
           1.0062320735159536,
           1.0062500000000003,
           1.0062324616015865,
           1.0061799687258333,
           1.0060927499500794,
           1.0059698226034925,
           1.0058119874465126,
           1.0056220507028817,
           1.0054054223648192,
           1.0051697608566887,
           1.0049218138700071,
           1.004669161891567,
           1.0044160238995534,
           1.0041638243077144,
           1.0039080816964796
          ],
          [
           0.9775647509867306,
           0.977685387695307,
           0.9777900361072707,
           0.9778815284807761,
           0.977969049954592,
           0.9780639645089387,
           0.9781756958198624,
           0.9783112674173412,
           0.9784723509388121,
           0.9786589854144948,
           0.9788730550822887,
           0.9791257750008477,
           0.9794275685967473,
           0.9797906007763912,
           0.9802206866140661,
           0.9807098076411851,
           0.9812511056379392,
           0.9818444550723003,
           0.9824867898646015,
           0.9831564200664586,
           0.9838140786705818,
           0.9844128938111958,
           0.9849193016733043,
           0.9853284404521276,
           0.9856695658782274,
           0.985984586492927,
           0.9863343595388143,
           0.9867675206113099,
           0.9873028281599782,
           0.9879127782918241,
           0.9885328855909242,
           0.9890889279099154,
           0.9895422794002786,
           0.9899018826101091,
           0.9902095021878013,
           0.9904991857069771,
           0.9907835724094582,
           0.9910666597914709,
           0.9913654951213847,
           0.9917244742051964,
           0.9921969879046147,
           0.9928096528411443,
           0.9935270244245958,
           0.9942440845929428,
           0.9948349675121126,
           0.9952215453911463,
           0.9954243746733195,
           0.9955443373788561,
           0.9956819121090246,
           0.9958892626665921,
           0.996171171868541,
           0.996480703186707,
           0.9967567444124482,
           0.9969541249841476,
           0.9970731062394216,
           0.9971580462774505,
           0.997260693239875,
           0.9974168583102042,
           0.9976262402812726,
           0.997872237954495,
           0.9981379805682693,
           0.9984134269885421,
           0.9987041077511937,
           0.9990118042476152,
           0.999335213375154,
           0.9996736702624768,
           1.0000241984803466,
           1.0003894883958173,
           1.00077224206763,
           1.0011697396068067,
           1.0015771182752826,
           1.0019922618151351,
           1.0024123662986706,
           1.0028322004990764,
           1.003239208773959,
           1.0036296499370845,
           1.0040078246672324,
           1.0043678183365394,
           1.004706181293223,
           1.005022933727891,
           1.005312577196661,
           1.0055675931856185,
           1.0057832608583301,
           1.0059566906743915,
           1.0060881714038101,
           1.0061791533815543,
           1.0062324616015865,
           1.0062499999999999,
           1.0062325048636982,
           1.0061801281278882,
           1.0060920983773627,
           1.0059688668335027,
           1.0058128847228465,
           1.005629158848285,
           1.005424911613257,
           1.00520673551099,
           1.0049819826176507,
           1.0047548819494356,
           1.0045268146667916,
           1.0042935296224764
          ],
          [
           0.977254947064155,
           0.9773889099215236,
           0.9775065029352424,
           0.9776104582681807,
           0.9777100268956995,
           0.9778166135604982,
           0.9779396561944765,
           0.9780861456054035,
           0.9782578151100302,
           0.9784545126202833,
           0.978678138040136,
           0.9789400919686456,
           0.9792509450869451,
           0.9796229737011992,
           0.9800619446581911,
           0.9805598240011723,
           0.981109798668255,
           0.9817117508013885,
           0.982362818800516,
           0.9830412536154359,
           0.9837076443691155,
           0.9843149368073512,
           0.9848293269113088,
           0.9852458406704901,
           0.9855938139802289,
           0.9859155341412102,
           0.9862724939984284,
           0.9867140760842834,
           0.987259203462537,
           0.9878803913061693,
           0.9885126364007109,
           0.9890810031792981,
           0.9895460415285463,
           0.9899160216599271,
           0.9902323020746855,
           0.9905287580683173,
           0.9908177498355913,
           0.9911025301721893,
           0.991399111587244,
           0.9917506078847309,
           0.9922091021165015,
           0.9928003220486845,
           0.9934886942717874,
           0.9941699749177849,
           0.9947196719894497,
           0.9950614885886404,
           0.995217952301874,
           0.9952908619097505,
           0.9953808969156885,
           0.9955393900490952,
           0.9957703365743115,
           0.9960268179738281,
           0.9962489728715669,
           0.9963948289171193,
           0.9964688902861742,
           0.99651908562543,
           0.996598182337513,
           0.9967408256688653,
           0.9969437072655568,
           0.9971876959461071,
           0.9974542118142081,
           0.9977323164830789,
           0.9980278503475186,
           0.998342505561292,
           0.9986749779234906,
           0.9990246036379871,
           0.9993882569172299,
           0.9997686355828876,
           1.0001686243499692,
           1.000585489284554,
           1.001014194491041,
           1.0014526545226228,
           1.0018979422686642,
           1.0023446428171743,
           1.0027797169913923,
           1.0031992789630686,
           1.003608004916434,
           1.0039996492475831,
           1.004370532393644,
           1.0047209623697615,
           1.005045402064107,
           1.0053359432069229,
           1.0055876212398465,
           1.0057971859759218,
           1.0059647445394126,
           1.006091397344418,
           1.0061799687258333,
           1.0062325048636982,
           1.00625,
           1.0062325174510598,
           1.006179466000609,
           1.0060909230550112,
           1.0059689757444679,
           1.005818231128776,
           1.0056454577223466,
           1.0054570725383092,
           1.0052601710629887,
           1.0050589884510828,
           1.0048548766806122,
           1.0046438576111352
          ],
          [
           0.9768702376390493,
           0.9770166928106889,
           0.9771464587191142,
           0.9772621658902727,
           0.9773731472194218,
           0.9774908658807706,
           0.9776247892409065,
           0.9777818807078842,
           0.9779639377707053,
           0.9781706277846798,
           0.9784038622448747,
           0.9786752453713524,
           0.9789955208962505,
           0.9793771067010022,
           0.9798257398027165,
           0.9803333635184576,
           0.9808932033905924,
           0.9815051604490524,
           0.9821665737336854,
           0.9828555958139316,
           0.9835325739347692,
           0.9841501284165437,
           0.9846740846408558,
           0.9850993066441858,
           0.9854552754361429,
           0.9857848160092039,
           0.9861503025237829,
           0.9866021127858233,
           0.9871594713763319,
           0.9877949301165151,
           0.9884428083520821,
           0.989027171325899,
           0.9895074664565331,
           0.9898911528663015,
           0.990219243750198,
           0.9905256137413189,
           0.9908224382245141,
           0.9911120734783163,
           0.9914091909142919,
           0.9917552234938442,
           0.9922005228839856,
           0.9927695756479032,
           0.9934265593467535,
           0.9940681954585018,
           0.9945718669203635,
           0.994863804801216,
           0.9949692134705876,
           0.9949914244360136,
           0.9950315237994319,
           0.9951400298739723,
           0.9953200526869914,
           0.9955244650940032,
           0.9956943505623009,
           0.9957905595735683,
           0.9958214785384817,
           0.9958383611651824,
           0.99589493549173,
           0.9960247207407025,
           0.9962215089260232,
           0.9964637234178341,
           0.9967311826152964,
           0.9970120908874291,
           0.997312593436607,
           0.9976342796489185,
           0.9979758355958284,
           0.998336596512824,
           0.9987132872609431,
           0.9991086533455289,
           0.9995257967812532,
           0.9999619849592657,
           1.0004120016035392,
           1.0008737894602697,
           1.0013443260974353,
           1.0018180107754087,
           1.0022812877237017,
           1.0027301135674276,
           1.00316957174559,
           1.0035931232011819,
           1.0039969124207493,
           1.0043815255416542,
           1.00474134240931,
           1.0050680308411502,
           1.0053563311756448,
           1.005602566042671,
           1.0058065541490155,
           1.0059689956373494,
           1.0060927499500794,
           1.0061801281278882,
           1.0062325174510598,
           1.0062499999999999,
           1.0062321607894704,
           1.0061786484587845,
           1.006091098078289,
           1.0059736459394089,
           1.0058325503758097,
           1.0056739943574564,
           1.0055047471316434,
           1.0053289793888494,
           1.0051480077918757,
           1.0049582117414289
          ],
          [
           0.97641276035561,
           0.976570742972702,
           0.9767117918402205,
           0.9768384317946803,
           0.9769600941211719,
           0.9770883172624614,
           0.9772326142400347,
           0.9773999289126962,
           0.9775921286011999,
           0.9778087131346336,
           0.9780515980369024,
           0.9783326079139236,
           0.9786626917788572,
           0.979054441180079,
           0.9795135823451405,
           0.9800320307786898,
           0.9806030479179836,
           0.9812265713605852,
           0.9819001274447035,
           0.9826017308017172,
           0.9832913906871185,
           0.9839212477397811,
           0.9844566047226042,
           0.9848920905428988,
           0.9852573859213056,
           0.9855960247459893,
           0.985971546445925,
           0.9864356178967122,
           0.9870079138104167,
           0.9876610484701436,
           0.9883285001392249,
           0.9889330339322673,
           0.9894326783661556,
           0.9898338880803476,
           0.9901773439717685,
           0.990497104536332,
           0.9908052923775634,
           0.9911032353854371,
           0.9914039186558239,
           0.9917466403282446,
           0.9921795413836716,
           0.9927254628744784,
           0.9933481620008886,
           0.9939454935363703,
           0.994397215148365,
           0.9946328655497342,
           0.9946811512840917,
           0.9946477037339563,
           0.9946342484741799,
           0.9946905247898669,
           0.9948186809733248,
           0.99497118850176,
           0.9950898048271708,
           0.9951378726369269,
           0.9951273055731158,
           0.9951123610208881,
           0.9951475269606664,
           0.9952651491570856,
           0.9954561890262879,
           0.9956967470086966,
           0.9959651836519884,
           0.9962488693153402,
           0.9965543210630424,
           0.9968830013501864,
           0.997233578914797,
           0.9976053686296247,
           0.997994936491204,
           0.998405133732219,
           0.9988393212359088,
           0.9992947720415638,
           0.9997660935670498,
           1.0002512577330653,
           1.0007471963306307,
           1.0012481132918487,
           1.001739852433113,
           1.0022182104618427,
           1.0026887515903091,
           1.0031446567992812,
           1.0035819194799929,
           1.0040014501046959,
           1.0043975253108701,
           1.004761305684881,
           1.0050871631714304,
           1.005370921310602,
           1.0056120272958526,
           1.0058106967102576,
           1.0059698226034925,
           1.0060920983773627,
           1.006179466000609,
           1.0062321607894704,
           1.0062499999999994,
           1.0062321326871995,
           1.0061796280635327,
           1.0060960358720235,
           1.0059870384855367,
           1.005858535365183,
           1.0057168963008067,
           1.0055661485888863,
           1.0054075468836619,
           1.005237911737397
          ],
          [
           0.9758958424945403,
           0.9760645743430303,
           0.9762161796062915,
           0.9763530778023105,
           0.97648480628571,
           0.9766229900405776,
           0.9767772028520284,
           0.9769543777175743,
           0.9771564519414566,
           0.9773827648997817,
           0.9776352330703919,
           0.9779259115361493,
           0.978265977526211,
           0.9786682158098237,
           0.9791383561147966,
           0.9796682828678428,
           0.9802512911730776,
           0.9808873640807049,
           0.9815742080687073,
           0.9822896694821,
           0.9829933588641216,
           0.983636832584365,
           0.9841847692118164,
           0.9846315124271471,
           0.9850069756090521,
           0.9853555123375122,
           0.9857420182042976,
           0.9862196457348914,
           0.9868086240037942,
           0.9874816505049394,
           0.9881712649537434,
           0.9887987335916574,
           0.9893204511948159,
           0.9897417347422904,
           0.9901029357574725,
           0.990438427426517,
           0.9907603956769897,
           0.9910690603200938,
           0.9913754857903115,
           0.9917165359607237,
           0.992137828692722,
           0.992660290922073,
           0.9932471244948986,
           0.9937973946161736,
           0.9941935479730448,
           0.9943689522993847,
           0.9943563654076482,
           0.9942642553285661,
           0.9941951609681781,
           0.9941980838165492,
           0.994274172601493,
           0.994375388997478,
           0.9944439988288546,
           0.994445598077567,
           0.9943953322609199,
           0.9943501676759402,
           0.994365154113112,
           0.9944714122655942,
           0.9946571396982464,
           0.9948962462943405,
           0.9951657525549266,
           0.9954522327184047,
           0.9957625986982891,
           0.9960981833306599,
           0.9964576468117669,
           0.9968402830448542,
           0.9972425013359265,
           0.9976672854256325,
           0.9981182602546657,
           0.9985927131225957,
           0.9990851020826854,
           0.9995934294987325,
           1.0001145929403847,
           1.000642601756814,
           1.0011626677768675,
           1.0016704421476212,
           1.0021719799116313,
           1.0026602014592052,
           1.0031309753039264,
           1.0035855726462377,
           1.0040181373731836,
           1.0044192883373197,
           1.004782976688176,
           1.0051044843927996,
           1.0053828301634165,
           1.0056176873664926,
           1.0058119874465126,
           1.0059688668335027,
           1.0060909230550112,
           1.0061786484587845,
           1.0062321326871995,
           1.0062499999999994,
           1.006232671924157,
           1.0061830346153346,
           1.0061061511790088,
           1.00600760435859,
           1.0058933215627046,
           1.0057671242592825,
           1.0056301820133275,
           1.0054797997359166
          ],
          [
           0.9753478283389484,
           0.9755268494516631,
           0.9756885680042867,
           0.97583529919738,
           0.97597668789454,
           0.9761244465306609,
           0.9762882118459153,
           0.9764749090245552,
           0.976686542284639,
           0.9769222988283203,
           0.9771840958260578,
           0.9774842126656076,
           0.9778340573009777,
           0.97824661029972,
           0.9787276089086184,
           0.9792689039126196,
           0.9798638236410926,
           0.9805124005054,
           0.9812125153926523,
           0.9819418389296417,
           0.9826595763111525,
           0.9833166888509789,
           0.9838772190080157,
           0.984335216904542,
           0.9847208297004424,
           0.9850792396624183,
           0.9854767216626211,
           0.9859679353880655,
           0.9865736790533339,
           0.9872667393532062,
           0.9879787188769396,
           0.9886293735128113,
           0.9891734428743514,
           0.9896150845513536,
           0.989994311848821,
           0.9903458341823289,
           0.9906819328622003,
           0.9910017375221942,
           0.9913143723356118,
           0.991654243678709,
           0.9920644209462266,
           0.9925638838435161,
           0.9931152423334692,
           0.993618751177717,
           0.9939595540297635,
           0.994074897463684,
           0.9940016485878955,
           0.9938511987334675,
           0.9937269389060804,
           0.9936771586084234,
           0.9937020268755069,
           0.9937529986999073,
           0.9937728223314622,
           0.9937292729604507,
           0.9936406076125746,
           0.9935663545890329,
           0.9935620180665574,
           0.993657470436729,
           0.9938381998373584,
           0.9940759996066314,
           0.9943466055378632,
           0.9946358404715743,
           0.9949510220568938,
           0.9952933603390547,
           0.9956615062354257,
           0.9960547290458973,
           0.9964692861122837,
           0.9969083010073819,
           0.9973756623113975,
           0.9978686676925774,
           0.9983816349085519,
           0.9989126016734187,
           0.9994584416439427,
           1.0000129782349605,
           1.0005607871739415,
           1.001097384657977,
           1.0016293027981746,
           1.0021492118449453,
           1.0026528585525427,
           1.0031418925178073,
           1.0036103309176847,
           1.0040482386045808,
           1.0044491446015529,
           1.0048077906524286,
           1.0051227704327297,
           1.005393206279255,
           1.0056220507028817,
           1.0058128847228465,
           1.0059689757444679,
           1.006091098078289,
           1.0061796280635327,
           1.006232671924157,
           1.0062499999999996,
           1.0062338204005732,
           1.00618857371035,
           1.0061195241264307,
           1.0060321587692191,
           1.0059300833158273,
           1.005814370953414,
           1.0056828077778137
          ],
          [
           0.974793315524358,
           0.9749824755494771,
           0.9751541386371096,
           0.9753105239402118,
           0.975461373142969,
           0.9756184790008521,
           0.9757915355366426,
           0.9759874580982656,
           0.9762083134800884,
           0.976453138839199,
           0.9767238556799864,
           0.9770329543138572,
           0.9773920546297648,
           0.9778143187921575,
           0.9783054870964426,
           0.9788573764286328,
           0.9794633480236965,
           0.9801234786756379,
           0.980835823942962,
           0.9815778878835861,
           0.9823085139897842,
           0.9829781403224289,
           0.9835502426301089,
           0.9840186103515696,
           0.9844135980434618,
           0.9847811328008241,
           0.9851887400136896,
           0.9856924440797199,
           0.9863135605038931,
           0.9870249611869927,
           0.9877574032442985,
           0.9884292763749238,
           0.9889938052669018,
           0.9894540705763148,
           0.9898497490321164,
           0.9902158193619264,
           0.9905646294455279,
           0.9908942938989714,
           0.9912121673622378,
           0.9915504285540626,
           0.9919498254622883,
           0.9924275639252298,
           0.9929457051014083,
           0.9934055791549018,
           0.9936947845520374,
           0.993754076924714,
           0.9936240529415461,
           0.9934187049474121,
           0.9932422162621908,
           0.9931421865242497,
           0.9931178585660663,
           0.993120277222332,
           0.9930927678025047,
           0.993005345780942,
           0.9928793941403372,
           0.9927769704293583,
           0.9927540107064303,
           0.9928391573514048,
           0.9930152264116008,
           0.993251911581738,
           0.9935236787719854,
           0.9938156790263966,
           0.9941355868661437,
           0.9944845095994996,
           0.9948610972698033,
           0.9952646111709962,
           0.9956911697367693,
           0.9961439857725791,
           0.9966271907848765,
           0.9971381143264507,
           0.9976709404736142,
           0.998223745285989,
           0.9987933504858294,
           0.9993733949865922,
           0.9999479127017303,
           1.0005122746830926,
           1.0010734179007057,
           1.0016237831444132,
           1.0021590214394935,
           1.0026811091236634,
           1.003183946869506,
           1.0036571057502777,
           1.0040937457535781,
           1.0044881039461215,
           1.0048383659030824,
           1.0051431484992006,
           1.0054054223648192,
           1.005629158848285,
           1.005818231128776,
           1.0059736459394089,
           1.0060960358720235,
           1.0061830346153346,
           1.0062338204005732,
           1.0062499999999999,
           1.0062354168818837,
           1.006195032406978,
           1.0061339241989347,
           1.0060555122205657,
           1.0059607862488384,
           1.0058479684136963
          ],
          [
           0.9742529525080988,
           0.9744522645352837,
           0.9746338461185987,
           0.974799829336284,
           0.9749600363039876,
           0.9751263260976922,
           0.9753084383888929,
           0.9755132747364819,
           0.9757429555011838,
           0.9759963698858556,
           0.976275448961652,
           0.9765928700756368,
           0.9769604344787741,
           0.9773914595602531,
           0.9778916783223757,
           0.9784528748815708,
           0.9790684443361437,
           0.9797384928367885,
           0.9804612538567472,
           0.9812140936284662,
           0.9819555780807936,
           0.9826357499391604,
           0.9832176429646786,
           0.9836948446442746,
           0.9840978692213973,
           0.9844732354844865,
           0.9848894790185497,
           0.9854037373871022,
           0.9860377356019581,
           0.9867644143823494,
           0.9875138408266984,
           0.9882033006987904,
           0.9887847763859995,
           0.9892604368994307,
           0.9896696188115524,
           0.9900474422045197,
           0.9904062458965245,
           0.9907432789141555,
           0.9910644265323318,
           0.9914000385011932,
           0.9917889564530337,
           0.9922469417841685,
           0.9927356137032342,
           0.9931571907842601,
           0.9934012740048941,
           0.9934114675030321,
           0.9932314034047451,
           0.9929770851859661,
           0.9927533245229871,
           0.9926070452756112,
           0.9925366686722902,
           0.9924929953605681,
           0.9924200960748811,
           0.9922903484157569,
           0.9921283300131898,
           0.9919986602599838,
           0.9919577507143169,
           0.9920330576647409,
           0.9922048033360205,
           0.9924406166985966,
           0.9927136797535754,
           0.9930085125018089,
           0.9933330867332439,
           0.9936884389208052,
           0.9940732185017316,
           0.994486690869337,
           0.9949248610954288,
           0.9953909881689618,
           0.9958894001077052,
           0.996417453165201,
           0.9969692131032268,
           0.9975427978312587,
           0.9981349506091638,
           0.9987391369239312,
           0.9993389351521604,
           0.9999295820716809,
           1.000518339525583,
           1.001097432276531,
           1.0016624052646488,
           1.0022155166192117,
           1.002750577819934,
           1.0032567421316365,
           1.0037268755962083,
           1.0041547828753405,
           1.0045383138102186,
           1.00487564997288,
           1.0051697608566887,
           1.005424911613257,
           1.0056454577223466,
           1.0058325503758097,
           1.0059870384855367,
           1.0061061511790088,
           1.00618857371035,
           1.0062354168818837,
           1.0062499999999999,
           1.0062370208013591,
           1.0062012112409018,
           1.0061458594470234,
           1.0060718918239493,
           1.0059778909212482
          ],
          [
           0.9737485326949212,
           0.973958194940701,
           0.974149836014486,
           0.9743255081989055,
           0.9744950927649987,
           0.9746704946213509,
           0.9748614818487943,
           0.9750749365517918,
           0.9753130223107283,
           0.9755744786194998,
           0.9758612550251269,
           0.9761861853073776,
           0.9765612112540647,
           0.9769997657052631,
           0.9775075568514323,
           0.9780763412812029,
           0.978699553835869,
           0.9793773094745769,
           0.9801080204935394,
           0.9808689567510325,
           0.9816185277236187,
           0.9823065617915477,
           0.9828958226353633,
           0.9833797710493516,
           0.9837890123259294,
           0.9841704484123334,
           0.9845932951215142,
           0.9851154606167294,
           0.9857589163080638,
           0.9864966470365024,
           0.9872582438246096,
           0.9879602569537701,
           0.9885538070873134,
           0.9890403746313465,
           0.9894589330432098,
           0.9898445537365328,
           0.9902094522138678,
           0.9905502259469557,
           0.990871707900423,
           0.9912029633464089,
           0.9915815035572207,
           0.9920221077330157,
           0.9924861097407919,
           0.9928763655240993,
           0.9930838377847984,
           0.9930540625428844,
           0.9928327526142295,
           0.9925371101954256,
           0.9922723149334687,
           0.9920846251445712,
           0.9919717903760136,
           0.9918846119855499,
           0.9917681641357858,
           0.9915974118066617,
           0.9914002897775065,
           0.9912440745167639,
           0.9911857214455546,
           0.9912515451208779,
           0.9914192265503262,
           0.9916543715822382,
           0.9919288317801117,
           0.9922265185609693,
           0.9925556569711755,
           0.992917240171808,
           0.9933099212584063,
           0.9937329767324349,
           0.9941823178948209,
           0.9946612093314556,
           0.9951741183317883,
           0.9957184074219871,
           0.9962880432319727,
           0.9968811920095133,
           0.9974944947481573,
           0.9981212570682336,
           0.9987446726472697,
           0.9993598766153302,
           0.9999743840776241,
           1.000580191177736,
           1.0011726924960866,
           1.001754401499692,
           1.0023190882522568,
           1.0028555655424725,
           1.0033565013872907,
           1.0038153710008395,
           1.0042298083403576,
           1.0045976452155587,
           1.0049218138700071,
           1.00520673551099,
           1.0054570725383092,
           1.0056739943574564,
           1.005858535365183,
           1.00600760435859,
           1.0061195241264307,
           1.006195032406978,
           1.0062370208013591,
           1.0062500000000003,
           1.006238447407717,
           1.0062055954116387,
           1.006152324291579,
           1.00607747545051
          ],
          [
           0.9733061547429124,
           0.9735266642970339,
           0.9737287763062255,
           0.9739144698363568,
           0.9740936597477865,
           0.9742782680423652,
           0.9744780665767001,
           0.9746999140032271,
           0.9749460020657312,
           0.9752149141093732,
           0.9755086303896592,
           0.9758400985073363,
           0.976221348535262,
           0.9766658748009859,
           0.9771793359633011,
           0.9777534695925856,
           0.9783817564790152,
           0.97906429340913,
           0.9797996747165746,
           0.9805651316937092,
           0.9813190784546446,
           0.9820113776790343,
           0.9826047587590561,
           0.9830926604132624,
           0.9835056880813732,
           0.983890845938975,
           0.9843175816124075,
           0.9848441100436935,
           0.9854924114791577,
           0.9862354736821382,
           0.9870027004348032,
           0.9877104159474174,
           0.9883094048831153,
           0.9888007619272199,
           0.9892230517533934,
           0.9896110230019372,
           0.9899766138772176,
           0.9903160629512828,
           0.9906337017681679,
           0.9909580475022232,
           0.9913260729436971,
           0.9917522246502406,
           0.9921977831263233,
           0.9925659025076305,
           0.9927480233642818,
           0.9926903660103399,
           0.9924394020081835,
           0.9921124316769263,
           0.991814616446794,
           0.9915915484016122,
           0.9914405061876006,
           0.9913126434332983,
           0.9911544204206083,
           0.9909437450086529,
           0.9907121857287008,
           0.9905298527152393,
           0.990454353121007,
           0.990510902127395,
           0.9906746730359384,
           0.9909093053738625,
           0.9911852087551843,
           0.9914857046299421,
           0.9918192131961224,
           0.9921867243607727,
           0.9925869030907098,
           0.9930190483139235,
           0.9934790077818925,
           0.993970008892659,
           0.9944965652646514,
           0.9950559986848836,
           0.9956422191275345,
           0.9962534524368571,
           0.9968861995730068,
           0.9975336355515059,
           0.9981786331891627,
           0.9988163068188183,
           0.9994543142941243,
           1.0000843955809195,
           1.0007017084219414,
           1.001309021141425,
           1.0019001290627612,
           1.0024635906822592,
           1.002991992537527,
           1.0034786211402984,
           1.0039210871674509,
           1.0043169879678169,
           1.004669161891567,
           1.0049819826176507,
           1.0052601710629887,
           1.0055047471316434,
           1.0057168963008067,
           1.0058933215627046,
           1.0060321587692191,
           1.0061339241989347,
           1.0062012112409018,
           1.006238447407717,
           1.0062499999999999,
           1.0062391471668553,
           1.006206741417962,
           1.006151735444733
          ],
          [
           0.9729532566505136,
           0.9731853840686968,
           0.9733986281939884,
           0.9735949022348646,
           0.9737841229891174,
           0.9739781924817983,
           0.9741868516542612,
           0.9744169236206975,
           0.9746706140868513,
           0.9749463488817048,
           0.9752461465518554,
           0.975583019396685,
           0.9759690173120914,
           0.9764176281840297,
           0.9769344268071617,
           0.9775111417977853,
           0.9781413111665105,
           0.9788249880361445,
           0.9795609470039051,
           0.9803264562803946,
           0.9810801342985201,
           0.9817721975272966,
           0.982365642976419,
           0.9828540195926918,
           0.9832678135371353,
           0.9836537808969523,
           0.9840810376493314,
           0.9846075213970936,
           0.9852549078765798,
           0.9859961324060018,
           0.9867607690062677,
           0.9874655658240625,
           0.9880616367469526,
           0.9885500641860144,
           0.9889689355068495,
           0.9893523153977972,
           0.9897116451058987,
           0.9900431520731688,
           0.9903513775463133,
           0.9906652230747297,
           0.991022119767496,
           0.9914370109822056,
           0.9918714457678481,
           0.9922284856097919,
           0.9923989482972296,
           0.9923281396315053,
           0.992061613953175,
           0.991715338373489,
           0.991393949998691,
           0.9911423532249789,
           0.9909575919383053,
           0.9907916088591509,
           0.9905927558258636,
           0.9903424078036207,
           0.9900762259732604,
           0.9898674703863279,
           0.9897745563517539,
           0.9898216337442552,
           0.9899813652859688,
           0.9902154002801883,
           0.9904925715058885,
           0.9907956181061934,
           0.9911331182459553,
           0.9915060991067133,
           0.9919132375231201,
           0.9923538619679144,
           0.9928237749228512,
           0.9933261062830943,
           0.9938653387356224,
           0.9944387074316344,
           0.9950400801320319,
           0.9956677572139839,
           0.996318065994575,
           0.9969840785908004,
           0.9976484291563894,
           0.9983062680955508,
           0.9989652994831624,
           0.9996169633939891,
           1.0002560719498013,
           1.000885636213815,
           1.0014995725899778,
           1.0020862809792321,
           1.0026384133573403,
           1.0031492366209862,
           1.0036165767464835,
           1.0040379474737178,
           1.0044160238995534,
           1.0047548819494356,
           1.0050589884510828,
           1.0053289793888494,
           1.0055661485888863,
           1.0057671242592825,
           1.0059300833158273,
           1.0060555122205657,
           1.0061458594470234,
           1.0062055954116387,
           1.0062391471668553,
           1.0062499999999999,
           1.006239000925499,
           1.0062050344492126
          ],
          [
           0.9726932946220872,
           0.9729379324905691,
           0.9731630844853578,
           0.9733706081649086,
           0.9735703884586618,
           0.9737742677449597,
           0.9739919205656848,
           0.974230120848686,
           0.9744910726895055,
           0.9747730411316509,
           0.9750780935195341,
           0.9754192595523539,
           0.975808531873727,
           0.9762593241271624,
           0.9767770910917613,
           0.9773535604216147,
           0.9779823418876484,
           0.9786634130754188,
           0.9793957273055011,
           0.9801566724910897,
           0.9809052705392125,
           0.9815924246579201,
           0.9821817161428088,
           0.9826669528536152,
           0.9830783885349812,
           0.9834621686047105,
           0.9838864861302474,
           0.9844083788931759,
           0.9850488931531592,
           0.9857808473871702,
           0.9865343458561852,
           0.9872272366209929,
           0.9878116649205337,
           0.988289106123625,
           0.9886971114721146,
           0.9890686794644836,
           0.989414506565614,
           0.9897311586158559,
           0.9900241149130047,
           0.9903236453838264,
           0.9906686816886447,
           0.9910755431137691,
           0.9915064157301812,
           0.9918638925955797,
           0.9920370463018987,
           0.991968594705888,
           0.9917013922453161,
           0.9913485382717199,
           0.9910136175948125,
           0.9907408105898826,
           0.9905271427262557,
           0.9903257802661101,
           0.9900874801961692,
           0.9897976273263485,
           0.9894964682325562,
           0.9892607815477424,
           0.9891500019263353,
           0.9891872787083646,
           0.9893427645730496,
           0.9895760677291071,
           0.989854303311374,
           0.9901596266054835,
           0.9905007112832552,
           0.9908786657882221,
           0.9912921838379767,
           0.9917406389142084,
           0.9922198173834094,
           0.9927326687939104,
           0.9932835621347764,
           0.9938696125281364,
           0.9944846614997568,
           0.9951270954484133,
           0.9957930196993667,
           0.9964754257818655,
           0.9971568326262876,
           0.9978324653482652,
           0.9985099555994483,
           0.999180415282425,
           0.999838221959474,
           1.0004865752236125,
           1.0011196085529022,
           1.0017256733323727,
           1.0022976492924307,
           1.0028289570361213,
           1.0033178799087326,
           1.0037620204032616,
           1.0041638243077144,
           1.0045268146667916,
           1.0048548766806122,
           1.0051480077918757,
           1.0054075468836619,
           1.0056301820133275,
           1.005814370953414,
           1.0059607862488384,
           1.0060718918239493,
           1.006152324291579,
           1.006206741417962,
           1.006239000925499,
           1.0062499999999999,
           1.0062383684273981
          ],
          [
           0.972496203837923,
           0.972753894348199,
           0.9729914128796087,
           0.9732105657264492,
           0.9734211826072438,
           0.9736350166905731,
           0.9738616472856748,
           0.9741077859129741,
           0.9743756231372354,
           0.974663263595611,
           0.9749728324922187,
           0.9753173420543766,
           0.9757086657816734,
           0.976160091314016,
           0.9766769241832034,
           0.9772508955109643,
           0.9778757004284686,
           0.9785512146644134,
           0.9792765649491941,
           0.9800293236650447,
           0.9807690642102248,
           0.9814476303384243,
           0.9820294325505081,
           0.9825086589963828,
           0.9829152549872081,
           0.9832944825272988,
           0.983713158940002,
           0.984226932916015,
           0.9848559689656926,
           0.9855729145115886,
           0.9863086677380578,
           0.9869826876121138,
           0.9875487018002689,
           0.9880089172245328,
           0.9884003351933555,
           0.9887545998575201,
           0.9890814344831915,
           0.9893779924403762,
           0.9896512675053244,
           0.9899336585367954,
           0.9902664020554623,
           0.9906678716089057,
           0.9911012056670636,
           0.9914682887715096,
           0.9916556221924231,
           0.9916020445864118,
           0.9913463329621571,
           0.9909974898331959,
           0.9906576127006462,
           0.9903701186907279,
           0.9901321642078342,
           0.9898984207833248,
           0.9896223765099514,
           0.9892937760080316,
           0.9889577928584912,
           0.988695026578087,
           0.9885661647616962,
           0.9885934723932147,
           0.9887446414225196,
           0.9889771899892001,
           0.9892564183567911,
           0.9895638989119653,
           0.9899083423641232,
           0.9902909627690124,
           0.9907104663142485,
           0.9911662723540697,
           0.9916541692341797,
           0.9921768797828373,
           0.9927386154124941,
           0.9933363416707629,
           0.9939638577243222,
           0.9946196487619903,
           0.9952995897808471,
           0.9959966000136824,
           0.9966931649997014,
           0.997384598930556,
           0.9980784098680915,
           0.9987653573127123,
           0.9994393143114716,
           1.0001036058814428,
           1.0007526595508505,
           1.0013748613409275,
           1.0019634571980485,
           1.002512159531905,
           1.0030198841083957,
           1.0034844663909483,
           1.0039080816964796,
           1.0042935296224764,
           1.0046438576111352,
           1.0049582117414289,
           1.005237911737397,
           1.0054797997359166,
           1.0056828077778137,
           1.0058479684136963,
           1.0059778909212482,
           1.00607747545051,
           1.006151735444733,
           1.0062050344492126,
           1.0062383684273981,
           1.0062499999999999
          ]
         ]
        }
       ],
       "layout": {
        "coloraxis": {
         "colorscale": [
          [
           0,
           "#0d0887"
          ],
          [
           0.1111111111111111,
           "#46039f"
          ],
          [
           0.2222222222222222,
           "#7201a8"
          ],
          [
           0.3333333333333333,
           "#9c179e"
          ],
          [
           0.4444444444444444,
           "#bd3786"
          ],
          [
           0.5555555555555556,
           "#d8576b"
          ],
          [
           0.6666666666666666,
           "#ed7953"
          ],
          [
           0.7777777777777778,
           "#fb9f3a"
          ],
          [
           0.8888888888888888,
           "#fdca26"
          ],
          [
           1,
           "#f0f921"
          ]
         ]
        },
        "margin": {
         "t": 60
        },
        "template": {
         "data": {
          "bar": [
           {
            "error_x": {
             "color": "#2a3f5f"
            },
            "error_y": {
             "color": "#2a3f5f"
            },
            "marker": {
             "line": {
              "color": "#E5ECF6",
              "width": 0.5
             },
             "pattern": {
              "fillmode": "overlay",
              "size": 10,
              "solidity": 0.2
             }
            },
            "type": "bar"
           }
          ],
          "barpolar": [
           {
            "marker": {
             "line": {
              "color": "#E5ECF6",
              "width": 0.5
             },
             "pattern": {
              "fillmode": "overlay",
              "size": 10,
              "solidity": 0.2
             }
            },
            "type": "barpolar"
           }
          ],
          "carpet": [
           {
            "aaxis": {
             "endlinecolor": "#2a3f5f",
             "gridcolor": "white",
             "linecolor": "white",
             "minorgridcolor": "white",
             "startlinecolor": "#2a3f5f"
            },
            "baxis": {
             "endlinecolor": "#2a3f5f",
             "gridcolor": "white",
             "linecolor": "white",
             "minorgridcolor": "white",
             "startlinecolor": "#2a3f5f"
            },
            "type": "carpet"
           }
          ],
          "choropleth": [
           {
            "colorbar": {
             "outlinewidth": 0,
             "ticks": ""
            },
            "type": "choropleth"
           }
          ],
          "contour": [
           {
            "colorbar": {
             "outlinewidth": 0,
             "ticks": ""
            },
            "colorscale": [
             [
              0,
              "#0d0887"
             ],
             [
              0.1111111111111111,
              "#46039f"
             ],
             [
              0.2222222222222222,
              "#7201a8"
             ],
             [
              0.3333333333333333,
              "#9c179e"
             ],
             [
              0.4444444444444444,
              "#bd3786"
             ],
             [
              0.5555555555555556,
              "#d8576b"
             ],
             [
              0.6666666666666666,
              "#ed7953"
             ],
             [
              0.7777777777777778,
              "#fb9f3a"
             ],
             [
              0.8888888888888888,
              "#fdca26"
             ],
             [
              1,
              "#f0f921"
             ]
            ],
            "type": "contour"
           }
          ],
          "contourcarpet": [
           {
            "colorbar": {
             "outlinewidth": 0,
             "ticks": ""
            },
            "type": "contourcarpet"
           }
          ],
          "heatmap": [
           {
            "colorbar": {
             "outlinewidth": 0,
             "ticks": ""
            },
            "colorscale": [
             [
              0,
              "#0d0887"
             ],
             [
              0.1111111111111111,
              "#46039f"
             ],
             [
              0.2222222222222222,
              "#7201a8"
             ],
             [
              0.3333333333333333,
              "#9c179e"
             ],
             [
              0.4444444444444444,
              "#bd3786"
             ],
             [
              0.5555555555555556,
              "#d8576b"
             ],
             [
              0.6666666666666666,
              "#ed7953"
             ],
             [
              0.7777777777777778,
              "#fb9f3a"
             ],
             [
              0.8888888888888888,
              "#fdca26"
             ],
             [
              1,
              "#f0f921"
             ]
            ],
            "type": "heatmap"
           }
          ],
          "heatmapgl": [
           {
            "colorbar": {
             "outlinewidth": 0,
             "ticks": ""
            },
            "colorscale": [
             [
              0,
              "#0d0887"
             ],
             [
              0.1111111111111111,
              "#46039f"
             ],
             [
              0.2222222222222222,
              "#7201a8"
             ],
             [
              0.3333333333333333,
              "#9c179e"
             ],
             [
              0.4444444444444444,
              "#bd3786"
             ],
             [
              0.5555555555555556,
              "#d8576b"
             ],
             [
              0.6666666666666666,
              "#ed7953"
             ],
             [
              0.7777777777777778,
              "#fb9f3a"
             ],
             [
              0.8888888888888888,
              "#fdca26"
             ],
             [
              1,
              "#f0f921"
             ]
            ],
            "type": "heatmapgl"
           }
          ],
          "histogram": [
           {
            "marker": {
             "pattern": {
              "fillmode": "overlay",
              "size": 10,
              "solidity": 0.2
             }
            },
            "type": "histogram"
           }
          ],
          "histogram2d": [
           {
            "colorbar": {
             "outlinewidth": 0,
             "ticks": ""
            },
            "colorscale": [
             [
              0,
              "#0d0887"
             ],
             [
              0.1111111111111111,
              "#46039f"
             ],
             [
              0.2222222222222222,
              "#7201a8"
             ],
             [
              0.3333333333333333,
              "#9c179e"
             ],
             [
              0.4444444444444444,
              "#bd3786"
             ],
             [
              0.5555555555555556,
              "#d8576b"
             ],
             [
              0.6666666666666666,
              "#ed7953"
             ],
             [
              0.7777777777777778,
              "#fb9f3a"
             ],
             [
              0.8888888888888888,
              "#fdca26"
             ],
             [
              1,
              "#f0f921"
             ]
            ],
            "type": "histogram2d"
           }
          ],
          "histogram2dcontour": [
           {
            "colorbar": {
             "outlinewidth": 0,
             "ticks": ""
            },
            "colorscale": [
             [
              0,
              "#0d0887"
             ],
             [
              0.1111111111111111,
              "#46039f"
             ],
             [
              0.2222222222222222,
              "#7201a8"
             ],
             [
              0.3333333333333333,
              "#9c179e"
             ],
             [
              0.4444444444444444,
              "#bd3786"
             ],
             [
              0.5555555555555556,
              "#d8576b"
             ],
             [
              0.6666666666666666,
              "#ed7953"
             ],
             [
              0.7777777777777778,
              "#fb9f3a"
             ],
             [
              0.8888888888888888,
              "#fdca26"
             ],
             [
              1,
              "#f0f921"
             ]
            ],
            "type": "histogram2dcontour"
           }
          ],
          "mesh3d": [
           {
            "colorbar": {
             "outlinewidth": 0,
             "ticks": ""
            },
            "type": "mesh3d"
           }
          ],
          "parcoords": [
           {
            "line": {
             "colorbar": {
              "outlinewidth": 0,
              "ticks": ""
             }
            },
            "type": "parcoords"
           }
          ],
          "pie": [
           {
            "automargin": true,
            "type": "pie"
           }
          ],
          "scatter": [
           {
            "marker": {
             "colorbar": {
              "outlinewidth": 0,
              "ticks": ""
             }
            },
            "type": "scatter"
           }
          ],
          "scatter3d": [
           {
            "line": {
             "colorbar": {
              "outlinewidth": 0,
              "ticks": ""
             }
            },
            "marker": {
             "colorbar": {
              "outlinewidth": 0,
              "ticks": ""
             }
            },
            "type": "scatter3d"
           }
          ],
          "scattercarpet": [
           {
            "marker": {
             "colorbar": {
              "outlinewidth": 0,
              "ticks": ""
             }
            },
            "type": "scattercarpet"
           }
          ],
          "scattergeo": [
           {
            "marker": {
             "colorbar": {
              "outlinewidth": 0,
              "ticks": ""
             }
            },
            "type": "scattergeo"
           }
          ],
          "scattergl": [
           {
            "marker": {
             "colorbar": {
              "outlinewidth": 0,
              "ticks": ""
             }
            },
            "type": "scattergl"
           }
          ],
          "scattermapbox": [
           {
            "marker": {
             "colorbar": {
              "outlinewidth": 0,
              "ticks": ""
             }
            },
            "type": "scattermapbox"
           }
          ],
          "scatterpolar": [
           {
            "marker": {
             "colorbar": {
              "outlinewidth": 0,
              "ticks": ""
             }
            },
            "type": "scatterpolar"
           }
          ],
          "scatterpolargl": [
           {
            "marker": {
             "colorbar": {
              "outlinewidth": 0,
              "ticks": ""
             }
            },
            "type": "scatterpolargl"
           }
          ],
          "scatterternary": [
           {
            "marker": {
             "colorbar": {
              "outlinewidth": 0,
              "ticks": ""
             }
            },
            "type": "scatterternary"
           }
          ],
          "surface": [
           {
            "colorbar": {
             "outlinewidth": 0,
             "ticks": ""
            },
            "colorscale": [
             [
              0,
              "#0d0887"
             ],
             [
              0.1111111111111111,
              "#46039f"
             ],
             [
              0.2222222222222222,
              "#7201a8"
             ],
             [
              0.3333333333333333,
              "#9c179e"
             ],
             [
              0.4444444444444444,
              "#bd3786"
             ],
             [
              0.5555555555555556,
              "#d8576b"
             ],
             [
              0.6666666666666666,
              "#ed7953"
             ],
             [
              0.7777777777777778,
              "#fb9f3a"
             ],
             [
              0.8888888888888888,
              "#fdca26"
             ],
             [
              1,
              "#f0f921"
             ]
            ],
            "type": "surface"
           }
          ],
          "table": [
           {
            "cells": {
             "fill": {
              "color": "#EBF0F8"
             },
             "line": {
              "color": "white"
             }
            },
            "header": {
             "fill": {
              "color": "#C8D4E3"
             },
             "line": {
              "color": "white"
             }
            },
            "type": "table"
           }
          ]
         },
         "layout": {
          "annotationdefaults": {
           "arrowcolor": "#2a3f5f",
           "arrowhead": 0,
           "arrowwidth": 1
          },
          "autotypenumbers": "strict",
          "coloraxis": {
           "colorbar": {
            "outlinewidth": 0,
            "ticks": ""
           }
          },
          "colorscale": {
           "diverging": [
            [
             0,
             "#8e0152"
            ],
            [
             0.1,
             "#c51b7d"
            ],
            [
             0.2,
             "#de77ae"
            ],
            [
             0.3,
             "#f1b6da"
            ],
            [
             0.4,
             "#fde0ef"
            ],
            [
             0.5,
             "#f7f7f7"
            ],
            [
             0.6,
             "#e6f5d0"
            ],
            [
             0.7,
             "#b8e186"
            ],
            [
             0.8,
             "#7fbc41"
            ],
            [
             0.9,
             "#4d9221"
            ],
            [
             1,
             "#276419"
            ]
           ],
           "sequential": [
            [
             0,
             "#0d0887"
            ],
            [
             0.1111111111111111,
             "#46039f"
            ],
            [
             0.2222222222222222,
             "#7201a8"
            ],
            [
             0.3333333333333333,
             "#9c179e"
            ],
            [
             0.4444444444444444,
             "#bd3786"
            ],
            [
             0.5555555555555556,
             "#d8576b"
            ],
            [
             0.6666666666666666,
             "#ed7953"
            ],
            [
             0.7777777777777778,
             "#fb9f3a"
            ],
            [
             0.8888888888888888,
             "#fdca26"
            ],
            [
             1,
             "#f0f921"
            ]
           ],
           "sequentialminus": [
            [
             0,
             "#0d0887"
            ],
            [
             0.1111111111111111,
             "#46039f"
            ],
            [
             0.2222222222222222,
             "#7201a8"
            ],
            [
             0.3333333333333333,
             "#9c179e"
            ],
            [
             0.4444444444444444,
             "#bd3786"
            ],
            [
             0.5555555555555556,
             "#d8576b"
            ],
            [
             0.6666666666666666,
             "#ed7953"
            ],
            [
             0.7777777777777778,
             "#fb9f3a"
            ],
            [
             0.8888888888888888,
             "#fdca26"
            ],
            [
             1,
             "#f0f921"
            ]
           ]
          },
          "colorway": [
           "#636efa",
           "#EF553B",
           "#00cc96",
           "#ab63fa",
           "#FFA15A",
           "#19d3f3",
           "#FF6692",
           "#B6E880",
           "#FF97FF",
           "#FECB52"
          ],
          "font": {
           "color": "#2a3f5f"
          },
          "geo": {
           "bgcolor": "white",
           "lakecolor": "white",
           "landcolor": "#E5ECF6",
           "showlakes": true,
           "showland": true,
           "subunitcolor": "white"
          },
          "hoverlabel": {
           "align": "left"
          },
          "hovermode": "closest",
          "mapbox": {
           "style": "light"
          },
          "paper_bgcolor": "white",
          "plot_bgcolor": "#E5ECF6",
          "polar": {
           "angularaxis": {
            "gridcolor": "white",
            "linecolor": "white",
            "ticks": ""
           },
           "bgcolor": "#E5ECF6",
           "radialaxis": {
            "gridcolor": "white",
            "linecolor": "white",
            "ticks": ""
           }
          },
          "scene": {
           "xaxis": {
            "backgroundcolor": "#E5ECF6",
            "gridcolor": "white",
            "gridwidth": 2,
            "linecolor": "white",
            "showbackground": true,
            "ticks": "",
            "zerolinecolor": "white"
           },
           "yaxis": {
            "backgroundcolor": "#E5ECF6",
            "gridcolor": "white",
            "gridwidth": 2,
            "linecolor": "white",
            "showbackground": true,
            "ticks": "",
            "zerolinecolor": "white"
           },
           "zaxis": {
            "backgroundcolor": "#E5ECF6",
            "gridcolor": "white",
            "gridwidth": 2,
            "linecolor": "white",
            "showbackground": true,
            "ticks": "",
            "zerolinecolor": "white"
           }
          },
          "shapedefaults": {
           "line": {
            "color": "#2a3f5f"
           }
          },
          "ternary": {
           "aaxis": {
            "gridcolor": "white",
            "linecolor": "white",
            "ticks": ""
           },
           "baxis": {
            "gridcolor": "white",
            "linecolor": "white",
            "ticks": ""
           },
           "bgcolor": "#E5ECF6",
           "caxis": {
            "gridcolor": "white",
            "linecolor": "white",
            "ticks": ""
           }
          },
          "title": {
           "x": 0.05
          },
          "xaxis": {
           "automargin": true,
           "gridcolor": "white",
           "linecolor": "white",
           "ticks": "",
           "title": {
            "standoff": 15
           },
           "zerolinecolor": "white",
           "zerolinewidth": 2
          },
          "yaxis": {
           "automargin": true,
           "gridcolor": "white",
           "linecolor": "white",
           "ticks": "",
           "title": {
            "standoff": 15
           },
           "zerolinecolor": "white",
           "zerolinewidth": 2
          }
         }
        },
        "title": {
         "text": "figure 8 : <b>Covariance matrix heatmap</b><br>(<i>used on the standardized Data - train subset</i>)"
        },
        "xaxis": {
         "anchor": "y",
         "constrain": "domain",
         "domain": [
          0,
          1
         ],
         "scaleanchor": "y"
        },
        "yaxis": {
         "anchor": "x",
         "autorange": "reversed",
         "constrain": "domain",
         "domain": [
          0,
          1
         ]
        }
       }
      }
     },
     "metadata": {},
     "output_type": "display_data"
    }
   ],
   "source": [
    "# Displaying figure\n",
    "fig_8 = px.imshow(cov_matrix)\n",
    "fig_8.update_layout(title='figure 8 : <b>Covariance matrix heatmap</b><br>(<i>used on the standardized Data - train subset</i>)')\n",
    "fig_8.show()"
   ]
  },
  {
   "attachments": {},
   "cell_type": "markdown",
   "metadata": {},
   "source": [
    "### 9.b PCA Data transformation <a class=\"anchor\" id=\"section_9_b\"></a>"
   ]
  },
  {
   "attachments": {},
   "cell_type": "markdown",
   "metadata": {},
   "source": [
    "The principal components are obtained using the vector $U$ containing the eigenvectors of the covariant matrix. Consider the formula:\n",
    "$$ X_{\\text{p.c.}} = X.U$$"
   ]
  },
  {
   "cell_type": "code",
   "execution_count": 108,
   "metadata": {},
   "outputs": [],
   "source": [
    "# Principal components\n",
    "x_train_pc = x_training_data_std@U\n",
    "x_test_pc = x_test_data_std@U"
   ]
  },
  {
   "attachments": {},
   "cell_type": "markdown",
   "metadata": {},
   "source": [
    "### 9.c Plot the amount of variance explained by the first $k$ components <a class=\"anchor\" id=\"section_9_c\"></a>"
   ]
  },
  {
   "cell_type": "code",
   "execution_count": 109,
   "metadata": {},
   "outputs": [
    {
     "data": {
      "application/vnd.plotly.v1+json": {
       "config": {
        "plotlyServerURL": "https://plot.ly"
       },
       "data": [
        {
         "alignmentgroup": "True",
         "hovertemplate": "components=%{x}<br>var explained=%{y}<extra></extra>",
         "legendgroup": "",
         "marker": {
          "color": "#636efa",
          "pattern": {
           "shape": ""
          }
         },
         "name": "",
         "offsetgroup": "",
         "orientation": "v",
         "showlegend": false,
         "textposition": "auto",
         "type": "bar",
         "x": [
          "0-0",
          "0-1",
          "0-2",
          "0-3",
          "0-4",
          "0-5",
          "0-6",
          "0-7",
          "0-8",
          "0-9",
          "0-10",
          "0-11",
          "0-12",
          "0-13",
          "0-14",
          "0-15",
          "0-16",
          "0-17",
          "0-18",
          "0-19",
          "0-20",
          "0-21",
          "0-22",
          "0-23",
          "0-24",
          "0-25",
          "0-26",
          "0-27",
          "0-28",
          "0-29",
          "0-30",
          "0-31",
          "0-32",
          "0-33",
          "0-34",
          "0-35",
          "0-36",
          "0-37",
          "0-38",
          "0-39",
          "0-40",
          "0-41",
          "0-42",
          "0-43",
          "0-44",
          "0-45",
          "0-46",
          "0-47",
          "0-48",
          "0-49",
          "0-50",
          "0-51",
          "0-52",
          "0-53",
          "0-54",
          "0-55",
          "0-56",
          "0-57",
          "0-58",
          "0-59",
          "0-60",
          "0-61",
          "0-62",
          "0-63",
          "0-64",
          "0-65",
          "0-66",
          "0-67",
          "0-68",
          "0-69",
          "0-70",
          "0-71",
          "0-72",
          "0-73",
          "0-74",
          "0-75",
          "0-76",
          "0-77",
          "0-78",
          "0-79",
          "0-80",
          "0-81",
          "0-82",
          "0-83",
          "0-84",
          "0-85",
          "0-86",
          "0-87",
          "0-88",
          "0-89",
          "0-90",
          "0-91",
          "0-92",
          "0-93",
          "0-94",
          "0-95",
          "0-96",
          "0-97",
          "0-98",
          "0-99"
         ],
         "xaxis": "x",
         "y": [
          0.9885912998202931,
          0.996598708446941,
          0.9989171181301819,
          0.9998972448535418,
          0.9999622593829638,
          0.9999886386813617,
          0.999995264068875,
          0.9999985021293096,
          0.9999991946557674,
          0.9999996680434675,
          0.9999998254377785,
          0.9999999130709918,
          0.9999999441716224,
          0.9999999621124146,
          0.9999999711885426,
          0.9999999773119272,
          0.9999999821291584,
          0.9999999866445571,
          0.9999999896447697,
          0.9999999920520805,
          0.9999999935094893,
          0.999999994666055,
          0.9999999954520106,
          0.9999999960993303,
          0.9999999966196254,
          0.9999999970865862,
          0.9999999974440061,
          0.9999999977891538,
          0.9999999980261323,
          0.9999999982398958,
          0.9999999984383497,
          0.9999999986086785,
          0.9999999987694901,
          0.9999999989193245,
          0.9999999990566171,
          0.9999999991619115,
          0.9999999992535773,
          0.9999999993387847,
          0.9999999994127362,
          0.9999999994701667,
          0.9999999995237873,
          0.9999999995700851,
          0.9999999996158324,
          0.9999999996552337,
          0.9999999996886301,
          0.9999999997162891,
          0.9999999997434996,
          0.9999999997672985,
          0.9999999997878916,
          0.9999999998075122,
          0.9999999998245215,
          0.999999999839853,
          0.9999999998532296,
          0.9999999998655065,
          0.9999999998770239,
          0.9999999998871948,
          0.9999999998965018,
          0.9999999999054677,
          0.9999999999133687,
          0.9999999999202306,
          0.9999999999266195,
          0.9999999999322873,
          0.9999999999377485,
          0.999999999943142,
          0.9999999999483093,
          0.9999999999529448,
          0.9999999999569947,
          0.9999999999609266,
          0.9999999999643853,
          0.9999999999676669,
          0.9999999999706828,
          0.9999999999732644,
          0.9999999999756689,
          0.9999999999780217,
          0.9999999999801688,
          0.9999999999822617,
          0.9999999999842023,
          0.9999999999860404,
          0.9999999999876763,
          0.9999999999892722,
          0.9999999999907342,
          0.9999999999919993,
          0.999999999993154,
          0.9999999999941325,
          0.9999999999949817,
          0.9999999999957069,
          0.9999999999963736,
          0.9999999999969547,
          0.999999999997475,
          0.9999999999979069,
          0.9999999999982874,
          0.9999999999986102,
          0.9999999999989025,
          0.9999999999991583,
          0.9999999999993655,
          0.9999999999995508,
          0.9999999999997056,
          0.9999999999998284,
          0.9999999999999235,
          1.0000000000000002
         ],
         "yaxis": "y"
        }
       ],
       "layout": {
        "barmode": "relative",
        "legend": {
         "tracegroupgap": 0
        },
        "template": {
         "data": {
          "bar": [
           {
            "error_x": {
             "color": "#2a3f5f"
            },
            "error_y": {
             "color": "#2a3f5f"
            },
            "marker": {
             "line": {
              "color": "#E5ECF6",
              "width": 0.5
             },
             "pattern": {
              "fillmode": "overlay",
              "size": 10,
              "solidity": 0.2
             }
            },
            "type": "bar"
           }
          ],
          "barpolar": [
           {
            "marker": {
             "line": {
              "color": "#E5ECF6",
              "width": 0.5
             },
             "pattern": {
              "fillmode": "overlay",
              "size": 10,
              "solidity": 0.2
             }
            },
            "type": "barpolar"
           }
          ],
          "carpet": [
           {
            "aaxis": {
             "endlinecolor": "#2a3f5f",
             "gridcolor": "white",
             "linecolor": "white",
             "minorgridcolor": "white",
             "startlinecolor": "#2a3f5f"
            },
            "baxis": {
             "endlinecolor": "#2a3f5f",
             "gridcolor": "white",
             "linecolor": "white",
             "minorgridcolor": "white",
             "startlinecolor": "#2a3f5f"
            },
            "type": "carpet"
           }
          ],
          "choropleth": [
           {
            "colorbar": {
             "outlinewidth": 0,
             "ticks": ""
            },
            "type": "choropleth"
           }
          ],
          "contour": [
           {
            "colorbar": {
             "outlinewidth": 0,
             "ticks": ""
            },
            "colorscale": [
             [
              0,
              "#0d0887"
             ],
             [
              0.1111111111111111,
              "#46039f"
             ],
             [
              0.2222222222222222,
              "#7201a8"
             ],
             [
              0.3333333333333333,
              "#9c179e"
             ],
             [
              0.4444444444444444,
              "#bd3786"
             ],
             [
              0.5555555555555556,
              "#d8576b"
             ],
             [
              0.6666666666666666,
              "#ed7953"
             ],
             [
              0.7777777777777778,
              "#fb9f3a"
             ],
             [
              0.8888888888888888,
              "#fdca26"
             ],
             [
              1,
              "#f0f921"
             ]
            ],
            "type": "contour"
           }
          ],
          "contourcarpet": [
           {
            "colorbar": {
             "outlinewidth": 0,
             "ticks": ""
            },
            "type": "contourcarpet"
           }
          ],
          "heatmap": [
           {
            "colorbar": {
             "outlinewidth": 0,
             "ticks": ""
            },
            "colorscale": [
             [
              0,
              "#0d0887"
             ],
             [
              0.1111111111111111,
              "#46039f"
             ],
             [
              0.2222222222222222,
              "#7201a8"
             ],
             [
              0.3333333333333333,
              "#9c179e"
             ],
             [
              0.4444444444444444,
              "#bd3786"
             ],
             [
              0.5555555555555556,
              "#d8576b"
             ],
             [
              0.6666666666666666,
              "#ed7953"
             ],
             [
              0.7777777777777778,
              "#fb9f3a"
             ],
             [
              0.8888888888888888,
              "#fdca26"
             ],
             [
              1,
              "#f0f921"
             ]
            ],
            "type": "heatmap"
           }
          ],
          "heatmapgl": [
           {
            "colorbar": {
             "outlinewidth": 0,
             "ticks": ""
            },
            "colorscale": [
             [
              0,
              "#0d0887"
             ],
             [
              0.1111111111111111,
              "#46039f"
             ],
             [
              0.2222222222222222,
              "#7201a8"
             ],
             [
              0.3333333333333333,
              "#9c179e"
             ],
             [
              0.4444444444444444,
              "#bd3786"
             ],
             [
              0.5555555555555556,
              "#d8576b"
             ],
             [
              0.6666666666666666,
              "#ed7953"
             ],
             [
              0.7777777777777778,
              "#fb9f3a"
             ],
             [
              0.8888888888888888,
              "#fdca26"
             ],
             [
              1,
              "#f0f921"
             ]
            ],
            "type": "heatmapgl"
           }
          ],
          "histogram": [
           {
            "marker": {
             "pattern": {
              "fillmode": "overlay",
              "size": 10,
              "solidity": 0.2
             }
            },
            "type": "histogram"
           }
          ],
          "histogram2d": [
           {
            "colorbar": {
             "outlinewidth": 0,
             "ticks": ""
            },
            "colorscale": [
             [
              0,
              "#0d0887"
             ],
             [
              0.1111111111111111,
              "#46039f"
             ],
             [
              0.2222222222222222,
              "#7201a8"
             ],
             [
              0.3333333333333333,
              "#9c179e"
             ],
             [
              0.4444444444444444,
              "#bd3786"
             ],
             [
              0.5555555555555556,
              "#d8576b"
             ],
             [
              0.6666666666666666,
              "#ed7953"
             ],
             [
              0.7777777777777778,
              "#fb9f3a"
             ],
             [
              0.8888888888888888,
              "#fdca26"
             ],
             [
              1,
              "#f0f921"
             ]
            ],
            "type": "histogram2d"
           }
          ],
          "histogram2dcontour": [
           {
            "colorbar": {
             "outlinewidth": 0,
             "ticks": ""
            },
            "colorscale": [
             [
              0,
              "#0d0887"
             ],
             [
              0.1111111111111111,
              "#46039f"
             ],
             [
              0.2222222222222222,
              "#7201a8"
             ],
             [
              0.3333333333333333,
              "#9c179e"
             ],
             [
              0.4444444444444444,
              "#bd3786"
             ],
             [
              0.5555555555555556,
              "#d8576b"
             ],
             [
              0.6666666666666666,
              "#ed7953"
             ],
             [
              0.7777777777777778,
              "#fb9f3a"
             ],
             [
              0.8888888888888888,
              "#fdca26"
             ],
             [
              1,
              "#f0f921"
             ]
            ],
            "type": "histogram2dcontour"
           }
          ],
          "mesh3d": [
           {
            "colorbar": {
             "outlinewidth": 0,
             "ticks": ""
            },
            "type": "mesh3d"
           }
          ],
          "parcoords": [
           {
            "line": {
             "colorbar": {
              "outlinewidth": 0,
              "ticks": ""
             }
            },
            "type": "parcoords"
           }
          ],
          "pie": [
           {
            "automargin": true,
            "type": "pie"
           }
          ],
          "scatter": [
           {
            "marker": {
             "colorbar": {
              "outlinewidth": 0,
              "ticks": ""
             }
            },
            "type": "scatter"
           }
          ],
          "scatter3d": [
           {
            "line": {
             "colorbar": {
              "outlinewidth": 0,
              "ticks": ""
             }
            },
            "marker": {
             "colorbar": {
              "outlinewidth": 0,
              "ticks": ""
             }
            },
            "type": "scatter3d"
           }
          ],
          "scattercarpet": [
           {
            "marker": {
             "colorbar": {
              "outlinewidth": 0,
              "ticks": ""
             }
            },
            "type": "scattercarpet"
           }
          ],
          "scattergeo": [
           {
            "marker": {
             "colorbar": {
              "outlinewidth": 0,
              "ticks": ""
             }
            },
            "type": "scattergeo"
           }
          ],
          "scattergl": [
           {
            "marker": {
             "colorbar": {
              "outlinewidth": 0,
              "ticks": ""
             }
            },
            "type": "scattergl"
           }
          ],
          "scattermapbox": [
           {
            "marker": {
             "colorbar": {
              "outlinewidth": 0,
              "ticks": ""
             }
            },
            "type": "scattermapbox"
           }
          ],
          "scatterpolar": [
           {
            "marker": {
             "colorbar": {
              "outlinewidth": 0,
              "ticks": ""
             }
            },
            "type": "scatterpolar"
           }
          ],
          "scatterpolargl": [
           {
            "marker": {
             "colorbar": {
              "outlinewidth": 0,
              "ticks": ""
             }
            },
            "type": "scatterpolargl"
           }
          ],
          "scatterternary": [
           {
            "marker": {
             "colorbar": {
              "outlinewidth": 0,
              "ticks": ""
             }
            },
            "type": "scatterternary"
           }
          ],
          "surface": [
           {
            "colorbar": {
             "outlinewidth": 0,
             "ticks": ""
            },
            "colorscale": [
             [
              0,
              "#0d0887"
             ],
             [
              0.1111111111111111,
              "#46039f"
             ],
             [
              0.2222222222222222,
              "#7201a8"
             ],
             [
              0.3333333333333333,
              "#9c179e"
             ],
             [
              0.4444444444444444,
              "#bd3786"
             ],
             [
              0.5555555555555556,
              "#d8576b"
             ],
             [
              0.6666666666666666,
              "#ed7953"
             ],
             [
              0.7777777777777778,
              "#fb9f3a"
             ],
             [
              0.8888888888888888,
              "#fdca26"
             ],
             [
              1,
              "#f0f921"
             ]
            ],
            "type": "surface"
           }
          ],
          "table": [
           {
            "cells": {
             "fill": {
              "color": "#EBF0F8"
             },
             "line": {
              "color": "white"
             }
            },
            "header": {
             "fill": {
              "color": "#C8D4E3"
             },
             "line": {
              "color": "white"
             }
            },
            "type": "table"
           }
          ]
         },
         "layout": {
          "annotationdefaults": {
           "arrowcolor": "#2a3f5f",
           "arrowhead": 0,
           "arrowwidth": 1
          },
          "autotypenumbers": "strict",
          "coloraxis": {
           "colorbar": {
            "outlinewidth": 0,
            "ticks": ""
           }
          },
          "colorscale": {
           "diverging": [
            [
             0,
             "#8e0152"
            ],
            [
             0.1,
             "#c51b7d"
            ],
            [
             0.2,
             "#de77ae"
            ],
            [
             0.3,
             "#f1b6da"
            ],
            [
             0.4,
             "#fde0ef"
            ],
            [
             0.5,
             "#f7f7f7"
            ],
            [
             0.6,
             "#e6f5d0"
            ],
            [
             0.7,
             "#b8e186"
            ],
            [
             0.8,
             "#7fbc41"
            ],
            [
             0.9,
             "#4d9221"
            ],
            [
             1,
             "#276419"
            ]
           ],
           "sequential": [
            [
             0,
             "#0d0887"
            ],
            [
             0.1111111111111111,
             "#46039f"
            ],
            [
             0.2222222222222222,
             "#7201a8"
            ],
            [
             0.3333333333333333,
             "#9c179e"
            ],
            [
             0.4444444444444444,
             "#bd3786"
            ],
            [
             0.5555555555555556,
             "#d8576b"
            ],
            [
             0.6666666666666666,
             "#ed7953"
            ],
            [
             0.7777777777777778,
             "#fb9f3a"
            ],
            [
             0.8888888888888888,
             "#fdca26"
            ],
            [
             1,
             "#f0f921"
            ]
           ],
           "sequentialminus": [
            [
             0,
             "#0d0887"
            ],
            [
             0.1111111111111111,
             "#46039f"
            ],
            [
             0.2222222222222222,
             "#7201a8"
            ],
            [
             0.3333333333333333,
             "#9c179e"
            ],
            [
             0.4444444444444444,
             "#bd3786"
            ],
            [
             0.5555555555555556,
             "#d8576b"
            ],
            [
             0.6666666666666666,
             "#ed7953"
            ],
            [
             0.7777777777777778,
             "#fb9f3a"
            ],
            [
             0.8888888888888888,
             "#fdca26"
            ],
            [
             1,
             "#f0f921"
            ]
           ]
          },
          "colorway": [
           "#636efa",
           "#EF553B",
           "#00cc96",
           "#ab63fa",
           "#FFA15A",
           "#19d3f3",
           "#FF6692",
           "#B6E880",
           "#FF97FF",
           "#FECB52"
          ],
          "font": {
           "color": "#2a3f5f"
          },
          "geo": {
           "bgcolor": "white",
           "lakecolor": "white",
           "landcolor": "#E5ECF6",
           "showlakes": true,
           "showland": true,
           "subunitcolor": "white"
          },
          "hoverlabel": {
           "align": "left"
          },
          "hovermode": "closest",
          "mapbox": {
           "style": "light"
          },
          "paper_bgcolor": "white",
          "plot_bgcolor": "#E5ECF6",
          "polar": {
           "angularaxis": {
            "gridcolor": "white",
            "linecolor": "white",
            "ticks": ""
           },
           "bgcolor": "#E5ECF6",
           "radialaxis": {
            "gridcolor": "white",
            "linecolor": "white",
            "ticks": ""
           }
          },
          "scene": {
           "xaxis": {
            "backgroundcolor": "#E5ECF6",
            "gridcolor": "white",
            "gridwidth": 2,
            "linecolor": "white",
            "showbackground": true,
            "ticks": "",
            "zerolinecolor": "white"
           },
           "yaxis": {
            "backgroundcolor": "#E5ECF6",
            "gridcolor": "white",
            "gridwidth": 2,
            "linecolor": "white",
            "showbackground": true,
            "ticks": "",
            "zerolinecolor": "white"
           },
           "zaxis": {
            "backgroundcolor": "#E5ECF6",
            "gridcolor": "white",
            "gridwidth": 2,
            "linecolor": "white",
            "showbackground": true,
            "ticks": "",
            "zerolinecolor": "white"
           }
          },
          "shapedefaults": {
           "line": {
            "color": "#2a3f5f"
           }
          },
          "ternary": {
           "aaxis": {
            "gridcolor": "white",
            "linecolor": "white",
            "ticks": ""
           },
           "baxis": {
            "gridcolor": "white",
            "linecolor": "white",
            "ticks": ""
           },
           "bgcolor": "#E5ECF6",
           "caxis": {
            "gridcolor": "white",
            "linecolor": "white",
            "ticks": ""
           }
          },
          "title": {
           "x": 0.05
          },
          "xaxis": {
           "automargin": true,
           "gridcolor": "white",
           "linecolor": "white",
           "ticks": "",
           "title": {
            "standoff": 15
           },
           "zerolinecolor": "white",
           "zerolinewidth": 2
          },
          "yaxis": {
           "automargin": true,
           "gridcolor": "white",
           "linecolor": "white",
           "ticks": "",
           "title": {
            "standoff": 15
           },
           "zerolinecolor": "white",
           "zerolinewidth": 2
          }
         }
        },
        "title": {
         "text": "<b>figure 9: Cumulative variance explained by the first k components as a percentage</b><br><i>(Note that the first component already explains more than 98% of the variance)</i>"
        },
        "xaxis": {
         "anchor": "y",
         "domain": [
          0,
          1
         ],
         "title": {
          "text": "components"
         }
        },
        "yaxis": {
         "anchor": "x",
         "domain": [
          0,
          1
         ],
         "title": {
          "text": "var explained"
         }
        }
       }
      }
     },
     "metadata": {},
     "output_type": "display_data"
    }
   ],
   "source": [
    "# Calculating the amount of variance explained by the first k components\n",
    "total_var, var_cumulative = np.sum(s), 0\n",
    "var_explained, k = [], 0\n",
    "for var in s:\n",
    "    var_cumulative += var\n",
    "    var_explained.append([\"0-\" + str(k), var_cumulative / total_var])\n",
    "    k += 1\n",
    "\n",
    "# Conversion to DataFrame for plotting\n",
    "df_9 = pd.DataFrame(var_explained, columns=[\"components\", \"var explained\"])\n",
    "\n",
    "# Displaying figure\n",
    "fig_9 = px.bar(\n",
    "    df_9,\n",
    "    x=\"components\",\n",
    "    y=\"var explained\",\n",
    "    title=\"<b>figure 9: Cumulative variance explained by the first k components as a percentage</b><br><i>(Note that the first component already explains more than 98% of the variance)</i>\",\n",
    ")\n",
    "fig_9.show()"
   ]
  },
  {
   "attachments": {},
   "cell_type": "markdown",
   "metadata": {},
   "source": [
    "### 9.d First 2 PC approximation <a class=\"anchor\" id=\"section_9_d\"></a>"
   ]
  },
  {
   "cell_type": "code",
   "execution_count": 110,
   "metadata": {},
   "outputs": [
    {
     "data": {
      "application/vnd.plotly.v1+json": {
       "config": {
        "plotlyServerURL": "https://plot.ly"
       },
       "data": [
        {
         "hovertemplate": "PCA component 0=%{x}<br>PCA component 1=%{y}<br>fat=%{marker.color}<extra></extra>",
         "legendgroup": "",
         "marker": {
          "color": [
           22.5,
           40.1,
           8.4,
           5.9,
           25.5,
           42.7,
           42.7,
           10.6,
           19.9,
           19.9,
           46,
           0.9,
           2.9,
           3.5,
           4,
           5.2,
           5.6,
           6.3,
           7.2,
           7.8,
           7.9,
           9.2,
           9.3,
           10.2,
           12.5,
           13.5,
           13.5,
           14.6,
           14.6,
           16.3,
           18.6,
           20.9,
           21.2,
           25.1,
           26.5,
           27.8,
           29.7,
           30.4,
           31.5,
           35.2,
           35.8,
           43.8,
           48.2,
           48.5,
           49.1,
           8.2,
           11,
           0.9,
           3.6,
           3.9,
           4,
           5.1,
           5.2,
           5.2,
           5.6,
           5.6,
           6,
           6.4,
           6.4,
           6.4,
           6.6,
           6.6,
           6.7,
           6.8,
           6.9,
           7,
           7.2,
           7.2,
           7.2,
           7.7,
           7.7,
           7.7,
           8.1,
           8.4,
           8.5,
           9.6,
           9.7,
           9.7,
           10.1,
           10.1,
           10.1,
           10.9,
           10.9,
           11,
           11.2,
           11.2,
           11.7,
           12.7,
           13.8,
           14,
           15.4,
           15.5,
           15.7,
           16.4,
           16.4,
           16.4,
           17.2,
           17.4,
           17.6,
           18.2,
           18.3,
           18.8,
           20.6,
           21.5,
           23,
           24.9,
           26,
           26.1,
           27.3,
           27.8,
           28.1,
           28.7,
           28.8,
           28.9,
           29.2,
           29.7,
           30.4,
           31.5,
           32,
           32.2,
           34.2,
           35.1,
           35.2,
           36.2,
           36.5,
           37.8,
           44.7,
           45,
           45.7,
           29.8,
           5.9,
           46,
           1.4,
           4.6,
           6.4,
           8.5,
           11,
           13.5,
           17,
           22.4,
           27.9,
           31.5,
           46.5,
           6.1,
           2,
           4.7,
           5.3,
           6,
           6.4,
           6.8,
           7.1,
           7.3,
           7.8,
           9,
           10,
           10.5,
           11,
           12.2,
           14,
           15.9,
           16.5,
           17.7,
           18.8,
           23.4,
           26.7,
           28.3,
           28.9,
           31.1,
           33.7,
           35.2,
           38.5,
           46.3,
           47.7,
           25.5,
           10.6,
           2,
           4.7,
           6.8,
           8.6,
           11.2,
           13.8,
           17.7,
           23.3,
           29,
           34.8,
           47.8,
           11.1,
           2.9,
           4.8,
           5.6,
           6.2,
           6.4,
           6.8,
           7.1,
           7.3,
           7.9,
           9.2,
           10.1,
           10.7,
           11.2,
           12.5,
           14.3,
           16,
           17,
           18.1,
           19.4,
           24.8,
           27.2,
           28.4,
           29.2,
           31.3,
           33.8,
           35.5,
           42.5,
           47.8
          ],
          "coloraxis": "coloraxis",
          "symbol": "circle"
         },
         "mode": "markers",
         "name": "",
         "orientation": "v",
         "showlegend": false,
         "type": "scatter",
         "x": [
          -21.38979529508889,
          11.232985472689963,
          13.289603026127736,
          5.682582137449648,
          4.573396983767084,
          -9.688218378338751,
          10.24342271352819,
          -11.644332498851126,
          -16.660547103112613,
          -3.1132060923003904,
          -4.597964712317858,
          3.1601203012368777,
          -9.021843837536444,
          -0.6847876082847723,
          3.072744374988429,
          4.573396983767084,
          5.885460862573318,
          1.4820566603188898,
          1.3040380358153818,
          2.2796927760082837,
          6.0721090886173785,
          -1.3097289519161823,
          6.568554406179597,
          -1.2177892195738063,
          8.180000156722043,
          6.456346663637332,
          8.698917102768311,
          5.380267812968721,
          -0.046848461290927616,
          -2.036550105758266,
          -3.6985265103296747,
          -5.85411861266784,
          -20.846415072481932,
          -8.003599921417324,
          13.086797180559708,
          -14.740318631610698,
          7.4120702936330165,
          1.1701698538179082,
          -3.2040708676888507,
          8.956713627031707,
          -7.97769699432799,
          11.060891797189976,
          2.4342600452210115,
          1.1244405742089303,
          6.630619819095157,
          -2.436211453366047,
          2.380514020676296,
          4.329240374238934,
          -34.72579722986597,
          -5.7320299840335345,
          -18.39446788629333,
          11.310454664475396,
          -11.377827221918999,
          1.8018216996254959,
          11.464170188410627,
          12.407118817206753,
          -29.241259825250534,
          1.4298001230530482,
          8.45711368775335,
          12.49912037320996,
          -4.799201671235436,
          -2.247981233948227,
          -8.003599921417324,
          7.223774409505046,
          3.861611090605966,
          0.9412165946047464,
          0.8608204774162077,
          -0.12359052852853848,
          9.77245896952831,
          4.286725176429023,
          -2.7995184928390637,
          12.084216279201907,
          6.045139435112368,
          13.419876538080418,
          8.698917102768311,
          4.4207974932438745,
          -12.660120710423714,
          -15.03667326534763,
          -3.1362090797122164,
          -6.211832990604,
          -4.507747111698777,
          2.482741738700912,
          -5.163727631607122,
          4.499870947698372,
          5.873971801176564,
          -16.451715984314163,
          1.3469800180067433,
          -12.242042898376504,
          -7.966759878126574,
          0.3172111161476754,
          -15.457703593860012,
          -5.854557308978549,
          -33.55080300800699,
          14.153844724306332,
          -3.2988120885622183,
          8.790960250196548,
          1.4820566603188898,
          12.49912037320996,
          -0.5494360576141697,
          -1.3039799276435036,
          -4.829910175456945,
          -4.533168305620835,
          -27.367264717021445,
          7.100070191266625,
          16.06434427475159,
          -20.003520611673625,
          1.411487913590083,
          -13.41125440896582,
          6.490806869886775,
          8.760528693192674,
          -7.340439767829514,
          8.112141715670223,
          -1.2224668213799272,
          -20.55982471620723,
          13.086797180559708,
          7.375860041091497,
          1.2870590610214168,
          7.330825721180607,
          3.2392158000149935,
          4.367930647292529,
          -0.7221622524490569,
          5.25617295305827,
          -17.67900424606896,
          -9.718890285944978,
          2.5082493121263933,
          10.025766722483478,
          1.683581503690938,
          1.3788241978351716,
          6.332995982329919,
          2.0812392349892748,
          0.1660182525165975,
          13.051216493656352,
          -7.755331480998075,
          1.1119005930009125,
          1.8526309502428293,
          2.4684461279702155,
          10.911309331734977,
          4.722977823964841,
          8.561255469000686,
          -12.211700120801918,
          0.4225967817679974,
          -12.30196035568309,
          5.069112914991103,
          6.80580482961686,
          -7.589324351457038,
          13.053336632589332,
          11.464170188410627,
          -13.072691868118044,
          10.025766722483478,
          11.879533275141794,
          11.368638315260803,
          1.1119005930009125,
          4.489755010816212,
          -14.617483094393462,
          2.1950655145815077,
          8.614787786361287,
          5.558571745956739,
          8.207928901175341,
          -15.075580512092094,
          14.153844724306332,
          -1.291846938780128,
          null,
          null,
          null,
          null,
          null,
          null,
          null,
          null,
          null,
          null,
          null,
          null,
          null,
          null,
          null,
          null,
          null,
          null,
          null,
          null,
          null,
          null,
          null,
          null,
          null,
          null,
          null,
          null,
          null,
          null,
          null,
          null,
          null,
          null,
          null,
          null,
          null,
          null,
          null,
          null,
          null,
          null,
          null,
          null,
          null,
          null,
          null,
          null,
          null,
          null,
          null,
          null,
          null,
          null
         ],
         "xaxis": "x",
         "y": [
          -2.521302516232874,
          -0.7619839824342348,
          -0.18679977233810008,
          1.3085449095530786,
          -1.1574246857933794,
          -0.7027796674246867,
          1.1441334054633234,
          0.37102098884305407,
          -0.21524413830791325,
          -1.4916206033650385,
          -0.24899242609542385,
          0.920885095454034,
          0.42432401025412364,
          0.6006751513568699,
          1.7450365375396666,
          -1.1574246857933794,
          -0.6624677710698028,
          1.01280151965419,
          0.8547411491572791,
          -1.316594653658575,
          1.0528137061014138,
          -0.7436705837267934,
          -0.8695515755975917,
          0.8132892528650666,
          -0.21065597572684872,
          0.4364873640638487,
          0.362127126727251,
          -0.05944303281643368,
          1.3801778780083398,
          -0.4299170258864557,
          -0.802033631169176,
          -0.5212807594626193,
          0.6570978026092958,
          -0.11547098916607709,
          0.10883876589257176,
          -1.0258197225258971,
          -0.4528655786911644,
          -0.9820976869249046,
          -0.9975840354652618,
          -1.4094459113753495,
          -0.3917877946549584,
          0.8173981798680867,
          0.07557754050487513,
          -1.414493377182208,
          -1.3905921273507251,
          -0.009628812626228028,
          -1.6430323902858492,
          0.1612627334626738,
          -0.1406620634097966,
          -0.43939376716303175,
          0.10118402952316732,
          -1.271775489581784,
          -0.6083725482495976,
          0.9601832561371201,
          0.38428956398698766,
          0.6789884820698029,
          -0.17641178738540492,
          -1.147572622846802,
          0.448697273554605,
          0.49297828617583084,
          1.4691343927160765,
          0.13892845478582375,
          -0.11547098916607709,
          0.38397422222351063,
          0.4079383990860355,
          0.39059347691791707,
          0.7459211924188603,
          0.6918720296946608,
          0.5754912309557513,
          0.3263630859919846,
          -0.7085732216033633,
          0.34243129848056614,
          -1.4907756317371965,
          -0.7346981014002694,
          0.362127126727251,
          0.17457297599147167,
          0.21133142930624216,
          0.07238537788064779,
          0.11863561143073462,
          -0.23113290094270753,
          -1.31743940114035,
          -0.14085732638531945,
          -0.49111200125280774,
          -1.0588797993267538,
          0.8582700085741436,
          0.4342738682356859,
          0.18912421050629732,
          1.1542042272585218,
          0.5435331890489445,
          -0.7138861417651788,
          0.03611973346273839,
          -0.3014354160604333,
          0.10305332344277267,
          0.8700160715685157,
          0.4690850945283516,
          0.42271515290081074,
          1.01280151965419,
          0.49297828617583084,
          0.7351538189495118,
          -0.3892429320774052,
          0.8720278419009364,
          0.6538325720260584,
          -0.1969609395952921,
          0.13435911383699384,
          0.8589213679681591,
          0.2574406338037857,
          -2.7897464212823073,
          0.5455169694021169,
          -1.474826605697792,
          -1.6399592576817983,
          0.9838380842708394,
          0.240610902343105,
          0.8355120737392868,
          4.195344502660313,
          0.10883876589257176,
          0.10730862465490454,
          0.7752222881586889,
          -0.7480590004222641,
          0.5378940658153559,
          -0.04664162152350453,
          -0.11549303791673066,
          -0.8406680717613079,
          -1.189706358364846,
          0.7996249531084274,
          0.0006046747515801444,
          0.3563119623396248,
          -0.7188206175499156,
          -0.7448267255631378,
          0.03278623257740475,
          0.5264342465312837,
          -0.749791405187909,
          1.035368162958579,
          -0.5081648520863887,
          -0.157902694294637,
          -0.8064280622580992,
          -0.5937257297936637,
          0.22657706101124211,
          -0.3596338583321172,
          1.2872668742593165,
          0.18578602258144458,
          0.5159827619143633,
          -0.39031235433377376,
          0.38794648702325385,
          0.9082993004016615,
          -0.06480629601108746,
          1.1558584646155974,
          0.38428956398698766,
          1.255556557812106,
          0.3563119623396248,
          0.31609330452762213,
          -0.02891505626773163,
          -0.157902694294637,
          -2.740586688742615,
          0.2739385053010958,
          1.0941016556029048,
          0.3073265451668014,
          -0.6302221993795178,
          -1.448955961766514,
          0.7026756266191491,
          0.8700160715685157,
          -0.6196530564622528,
          null,
          null,
          null,
          null,
          null,
          null,
          null,
          null,
          null,
          null,
          null,
          null,
          null,
          null,
          null,
          null,
          null,
          null,
          null,
          null,
          null,
          null,
          null,
          null,
          null,
          null,
          null,
          null,
          null,
          null,
          null,
          null,
          null,
          null,
          null,
          null,
          null,
          null,
          null,
          null,
          null,
          null,
          null,
          null,
          null,
          null,
          null,
          null,
          null,
          null,
          null,
          null,
          null,
          null
         ],
         "yaxis": "y"
        }
       ],
       "layout": {
        "coloraxis": {
         "colorbar": {
          "title": {
           "text": "fat"
          }
         },
         "colorscale": [
          [
           0,
           "#0d0887"
          ],
          [
           0.1111111111111111,
           "#46039f"
          ],
          [
           0.2222222222222222,
           "#7201a8"
          ],
          [
           0.3333333333333333,
           "#9c179e"
          ],
          [
           0.4444444444444444,
           "#bd3786"
          ],
          [
           0.5555555555555556,
           "#d8576b"
          ],
          [
           0.6666666666666666,
           "#ed7953"
          ],
          [
           0.7777777777777778,
           "#fb9f3a"
          ],
          [
           0.8888888888888888,
           "#fdca26"
          ],
          [
           1,
           "#f0f921"
          ]
         ]
        },
        "height": 700,
        "legend": {
         "tracegroupgap": 0
        },
        "template": {
         "data": {
          "bar": [
           {
            "error_x": {
             "color": "#2a3f5f"
            },
            "error_y": {
             "color": "#2a3f5f"
            },
            "marker": {
             "line": {
              "color": "#E5ECF6",
              "width": 0.5
             },
             "pattern": {
              "fillmode": "overlay",
              "size": 10,
              "solidity": 0.2
             }
            },
            "type": "bar"
           }
          ],
          "barpolar": [
           {
            "marker": {
             "line": {
              "color": "#E5ECF6",
              "width": 0.5
             },
             "pattern": {
              "fillmode": "overlay",
              "size": 10,
              "solidity": 0.2
             }
            },
            "type": "barpolar"
           }
          ],
          "carpet": [
           {
            "aaxis": {
             "endlinecolor": "#2a3f5f",
             "gridcolor": "white",
             "linecolor": "white",
             "minorgridcolor": "white",
             "startlinecolor": "#2a3f5f"
            },
            "baxis": {
             "endlinecolor": "#2a3f5f",
             "gridcolor": "white",
             "linecolor": "white",
             "minorgridcolor": "white",
             "startlinecolor": "#2a3f5f"
            },
            "type": "carpet"
           }
          ],
          "choropleth": [
           {
            "colorbar": {
             "outlinewidth": 0,
             "ticks": ""
            },
            "type": "choropleth"
           }
          ],
          "contour": [
           {
            "colorbar": {
             "outlinewidth": 0,
             "ticks": ""
            },
            "colorscale": [
             [
              0,
              "#0d0887"
             ],
             [
              0.1111111111111111,
              "#46039f"
             ],
             [
              0.2222222222222222,
              "#7201a8"
             ],
             [
              0.3333333333333333,
              "#9c179e"
             ],
             [
              0.4444444444444444,
              "#bd3786"
             ],
             [
              0.5555555555555556,
              "#d8576b"
             ],
             [
              0.6666666666666666,
              "#ed7953"
             ],
             [
              0.7777777777777778,
              "#fb9f3a"
             ],
             [
              0.8888888888888888,
              "#fdca26"
             ],
             [
              1,
              "#f0f921"
             ]
            ],
            "type": "contour"
           }
          ],
          "contourcarpet": [
           {
            "colorbar": {
             "outlinewidth": 0,
             "ticks": ""
            },
            "type": "contourcarpet"
           }
          ],
          "heatmap": [
           {
            "colorbar": {
             "outlinewidth": 0,
             "ticks": ""
            },
            "colorscale": [
             [
              0,
              "#0d0887"
             ],
             [
              0.1111111111111111,
              "#46039f"
             ],
             [
              0.2222222222222222,
              "#7201a8"
             ],
             [
              0.3333333333333333,
              "#9c179e"
             ],
             [
              0.4444444444444444,
              "#bd3786"
             ],
             [
              0.5555555555555556,
              "#d8576b"
             ],
             [
              0.6666666666666666,
              "#ed7953"
             ],
             [
              0.7777777777777778,
              "#fb9f3a"
             ],
             [
              0.8888888888888888,
              "#fdca26"
             ],
             [
              1,
              "#f0f921"
             ]
            ],
            "type": "heatmap"
           }
          ],
          "heatmapgl": [
           {
            "colorbar": {
             "outlinewidth": 0,
             "ticks": ""
            },
            "colorscale": [
             [
              0,
              "#0d0887"
             ],
             [
              0.1111111111111111,
              "#46039f"
             ],
             [
              0.2222222222222222,
              "#7201a8"
             ],
             [
              0.3333333333333333,
              "#9c179e"
             ],
             [
              0.4444444444444444,
              "#bd3786"
             ],
             [
              0.5555555555555556,
              "#d8576b"
             ],
             [
              0.6666666666666666,
              "#ed7953"
             ],
             [
              0.7777777777777778,
              "#fb9f3a"
             ],
             [
              0.8888888888888888,
              "#fdca26"
             ],
             [
              1,
              "#f0f921"
             ]
            ],
            "type": "heatmapgl"
           }
          ],
          "histogram": [
           {
            "marker": {
             "pattern": {
              "fillmode": "overlay",
              "size": 10,
              "solidity": 0.2
             }
            },
            "type": "histogram"
           }
          ],
          "histogram2d": [
           {
            "colorbar": {
             "outlinewidth": 0,
             "ticks": ""
            },
            "colorscale": [
             [
              0,
              "#0d0887"
             ],
             [
              0.1111111111111111,
              "#46039f"
             ],
             [
              0.2222222222222222,
              "#7201a8"
             ],
             [
              0.3333333333333333,
              "#9c179e"
             ],
             [
              0.4444444444444444,
              "#bd3786"
             ],
             [
              0.5555555555555556,
              "#d8576b"
             ],
             [
              0.6666666666666666,
              "#ed7953"
             ],
             [
              0.7777777777777778,
              "#fb9f3a"
             ],
             [
              0.8888888888888888,
              "#fdca26"
             ],
             [
              1,
              "#f0f921"
             ]
            ],
            "type": "histogram2d"
           }
          ],
          "histogram2dcontour": [
           {
            "colorbar": {
             "outlinewidth": 0,
             "ticks": ""
            },
            "colorscale": [
             [
              0,
              "#0d0887"
             ],
             [
              0.1111111111111111,
              "#46039f"
             ],
             [
              0.2222222222222222,
              "#7201a8"
             ],
             [
              0.3333333333333333,
              "#9c179e"
             ],
             [
              0.4444444444444444,
              "#bd3786"
             ],
             [
              0.5555555555555556,
              "#d8576b"
             ],
             [
              0.6666666666666666,
              "#ed7953"
             ],
             [
              0.7777777777777778,
              "#fb9f3a"
             ],
             [
              0.8888888888888888,
              "#fdca26"
             ],
             [
              1,
              "#f0f921"
             ]
            ],
            "type": "histogram2dcontour"
           }
          ],
          "mesh3d": [
           {
            "colorbar": {
             "outlinewidth": 0,
             "ticks": ""
            },
            "type": "mesh3d"
           }
          ],
          "parcoords": [
           {
            "line": {
             "colorbar": {
              "outlinewidth": 0,
              "ticks": ""
             }
            },
            "type": "parcoords"
           }
          ],
          "pie": [
           {
            "automargin": true,
            "type": "pie"
           }
          ],
          "scatter": [
           {
            "marker": {
             "colorbar": {
              "outlinewidth": 0,
              "ticks": ""
             }
            },
            "type": "scatter"
           }
          ],
          "scatter3d": [
           {
            "line": {
             "colorbar": {
              "outlinewidth": 0,
              "ticks": ""
             }
            },
            "marker": {
             "colorbar": {
              "outlinewidth": 0,
              "ticks": ""
             }
            },
            "type": "scatter3d"
           }
          ],
          "scattercarpet": [
           {
            "marker": {
             "colorbar": {
              "outlinewidth": 0,
              "ticks": ""
             }
            },
            "type": "scattercarpet"
           }
          ],
          "scattergeo": [
           {
            "marker": {
             "colorbar": {
              "outlinewidth": 0,
              "ticks": ""
             }
            },
            "type": "scattergeo"
           }
          ],
          "scattergl": [
           {
            "marker": {
             "colorbar": {
              "outlinewidth": 0,
              "ticks": ""
             }
            },
            "type": "scattergl"
           }
          ],
          "scattermapbox": [
           {
            "marker": {
             "colorbar": {
              "outlinewidth": 0,
              "ticks": ""
             }
            },
            "type": "scattermapbox"
           }
          ],
          "scatterpolar": [
           {
            "marker": {
             "colorbar": {
              "outlinewidth": 0,
              "ticks": ""
             }
            },
            "type": "scatterpolar"
           }
          ],
          "scatterpolargl": [
           {
            "marker": {
             "colorbar": {
              "outlinewidth": 0,
              "ticks": ""
             }
            },
            "type": "scatterpolargl"
           }
          ],
          "scatterternary": [
           {
            "marker": {
             "colorbar": {
              "outlinewidth": 0,
              "ticks": ""
             }
            },
            "type": "scatterternary"
           }
          ],
          "surface": [
           {
            "colorbar": {
             "outlinewidth": 0,
             "ticks": ""
            },
            "colorscale": [
             [
              0,
              "#0d0887"
             ],
             [
              0.1111111111111111,
              "#46039f"
             ],
             [
              0.2222222222222222,
              "#7201a8"
             ],
             [
              0.3333333333333333,
              "#9c179e"
             ],
             [
              0.4444444444444444,
              "#bd3786"
             ],
             [
              0.5555555555555556,
              "#d8576b"
             ],
             [
              0.6666666666666666,
              "#ed7953"
             ],
             [
              0.7777777777777778,
              "#fb9f3a"
             ],
             [
              0.8888888888888888,
              "#fdca26"
             ],
             [
              1,
              "#f0f921"
             ]
            ],
            "type": "surface"
           }
          ],
          "table": [
           {
            "cells": {
             "fill": {
              "color": "#EBF0F8"
             },
             "line": {
              "color": "white"
             }
            },
            "header": {
             "fill": {
              "color": "#C8D4E3"
             },
             "line": {
              "color": "white"
             }
            },
            "type": "table"
           }
          ]
         },
         "layout": {
          "annotationdefaults": {
           "arrowcolor": "#2a3f5f",
           "arrowhead": 0,
           "arrowwidth": 1
          },
          "autotypenumbers": "strict",
          "coloraxis": {
           "colorbar": {
            "outlinewidth": 0,
            "ticks": ""
           }
          },
          "colorscale": {
           "diverging": [
            [
             0,
             "#8e0152"
            ],
            [
             0.1,
             "#c51b7d"
            ],
            [
             0.2,
             "#de77ae"
            ],
            [
             0.3,
             "#f1b6da"
            ],
            [
             0.4,
             "#fde0ef"
            ],
            [
             0.5,
             "#f7f7f7"
            ],
            [
             0.6,
             "#e6f5d0"
            ],
            [
             0.7,
             "#b8e186"
            ],
            [
             0.8,
             "#7fbc41"
            ],
            [
             0.9,
             "#4d9221"
            ],
            [
             1,
             "#276419"
            ]
           ],
           "sequential": [
            [
             0,
             "#0d0887"
            ],
            [
             0.1111111111111111,
             "#46039f"
            ],
            [
             0.2222222222222222,
             "#7201a8"
            ],
            [
             0.3333333333333333,
             "#9c179e"
            ],
            [
             0.4444444444444444,
             "#bd3786"
            ],
            [
             0.5555555555555556,
             "#d8576b"
            ],
            [
             0.6666666666666666,
             "#ed7953"
            ],
            [
             0.7777777777777778,
             "#fb9f3a"
            ],
            [
             0.8888888888888888,
             "#fdca26"
            ],
            [
             1,
             "#f0f921"
            ]
           ],
           "sequentialminus": [
            [
             0,
             "#0d0887"
            ],
            [
             0.1111111111111111,
             "#46039f"
            ],
            [
             0.2222222222222222,
             "#7201a8"
            ],
            [
             0.3333333333333333,
             "#9c179e"
            ],
            [
             0.4444444444444444,
             "#bd3786"
            ],
            [
             0.5555555555555556,
             "#d8576b"
            ],
            [
             0.6666666666666666,
             "#ed7953"
            ],
            [
             0.7777777777777778,
             "#fb9f3a"
            ],
            [
             0.8888888888888888,
             "#fdca26"
            ],
            [
             1,
             "#f0f921"
            ]
           ]
          },
          "colorway": [
           "#636efa",
           "#EF553B",
           "#00cc96",
           "#ab63fa",
           "#FFA15A",
           "#19d3f3",
           "#FF6692",
           "#B6E880",
           "#FF97FF",
           "#FECB52"
          ],
          "font": {
           "color": "#2a3f5f"
          },
          "geo": {
           "bgcolor": "white",
           "lakecolor": "white",
           "landcolor": "#E5ECF6",
           "showlakes": true,
           "showland": true,
           "subunitcolor": "white"
          },
          "hoverlabel": {
           "align": "left"
          },
          "hovermode": "closest",
          "mapbox": {
           "style": "light"
          },
          "paper_bgcolor": "white",
          "plot_bgcolor": "#E5ECF6",
          "polar": {
           "angularaxis": {
            "gridcolor": "white",
            "linecolor": "white",
            "ticks": ""
           },
           "bgcolor": "#E5ECF6",
           "radialaxis": {
            "gridcolor": "white",
            "linecolor": "white",
            "ticks": ""
           }
          },
          "scene": {
           "xaxis": {
            "backgroundcolor": "#E5ECF6",
            "gridcolor": "white",
            "gridwidth": 2,
            "linecolor": "white",
            "showbackground": true,
            "ticks": "",
            "zerolinecolor": "white"
           },
           "yaxis": {
            "backgroundcolor": "#E5ECF6",
            "gridcolor": "white",
            "gridwidth": 2,
            "linecolor": "white",
            "showbackground": true,
            "ticks": "",
            "zerolinecolor": "white"
           },
           "zaxis": {
            "backgroundcolor": "#E5ECF6",
            "gridcolor": "white",
            "gridwidth": 2,
            "linecolor": "white",
            "showbackground": true,
            "ticks": "",
            "zerolinecolor": "white"
           }
          },
          "shapedefaults": {
           "line": {
            "color": "#2a3f5f"
           }
          },
          "ternary": {
           "aaxis": {
            "gridcolor": "white",
            "linecolor": "white",
            "ticks": ""
           },
           "baxis": {
            "gridcolor": "white",
            "linecolor": "white",
            "ticks": ""
           },
           "bgcolor": "#E5ECF6",
           "caxis": {
            "gridcolor": "white",
            "linecolor": "white",
            "ticks": ""
           }
          },
          "title": {
           "x": 0.05
          },
          "xaxis": {
           "automargin": true,
           "gridcolor": "white",
           "linecolor": "white",
           "ticks": "",
           "title": {
            "standoff": 15
           },
           "zerolinecolor": "white",
           "zerolinewidth": 2
          },
          "yaxis": {
           "automargin": true,
           "gridcolor": "white",
           "linecolor": "white",
           "ticks": "",
           "title": {
            "standoff": 15
           },
           "zerolinecolor": "white",
           "zerolinewidth": 2
          }
         }
        },
        "title": {
         "text": "figure 10: <b>Scatter plot, two first PCA components - training subset</b><br><i>(Components were computed using the SVD decomposition on the covariance matrix)</i>"
        },
        "xaxis": {
         "anchor": "y",
         "domain": [
          0,
          1
         ],
         "title": {
          "text": "PCA component 0"
         }
        },
        "yaxis": {
         "anchor": "x",
         "domain": [
          0,
          1
         ],
         "title": {
          "text": "PCA component 1"
         }
        }
       }
      }
     },
     "metadata": {},
     "output_type": "display_data"
    }
   ],
   "source": [
    "# Extracting the two first PC\n",
    "df_PCA = pd.DataFrame(x_train_pc)\n",
    "df_PCA_sub = df_PCA[[0, 1]]\n",
    "df_PCA_sub = pd.concat((df_PCA_sub, df[\"fat\"]), axis=1)\n",
    "\n",
    "# Displaying figure\n",
    "fig_10 = px.scatter(\n",
    "    df_PCA_sub,\n",
    "    x=0,\n",
    "    y=1,\n",
    "    labels={\"0\": \"PCA component 0\", \"1\": \"PCA component 1\"},\n",
    "    title=\"figure 10: <b>Scatter plot, two first PCA components - training subset</b><br><i>(Components were computed using the SVD decomposition on the covariance matrix)</i>\",\n",
    "    color=\"fat\",\n",
    "    height=700,\n",
    ")\n",
    "fig_10.show()"
   ]
  },
  {
   "attachments": {},
   "cell_type": "markdown",
   "metadata": {},
   "source": [
    "**Comments :** Unfortunately, the 2D graph of the first two components does not allow to find groups or patterns regarding the fat index of the meat pieces."
   ]
  },
  {
   "attachments": {},
   "cell_type": "markdown",
   "metadata": {},
   "source": [
    "### 9.e Run OLS on the projected Data <a class=\"anchor\" id=\"section_9_e\"></a>"
   ]
  },
  {
   "cell_type": "code",
   "execution_count": 111,
   "metadata": {},
   "outputs": [
    {
     "data": {
      "application/vnd.plotly.v1+json": {
       "config": {
        "plotlyServerURL": "https://plot.ly"
       },
       "data": [
        {
         "hovertemplate": "components=%{x}<br>r2=%{y}<extra></extra>",
         "legendgroup": "",
         "line": {
          "color": "#636efa",
          "dash": "solid"
         },
         "marker": {
          "symbol": "circle"
         },
         "mode": "markers+lines",
         "name": "",
         "orientation": "v",
         "showlegend": false,
         "type": "scatter",
         "x": [
          "0-1",
          "0-2",
          "0-3",
          "0-4",
          "0-5",
          "0-6",
          "0-7",
          "0-8",
          "0-9",
          "0-10",
          "0-11",
          "0-12",
          "0-13",
          "0-14",
          "0-15",
          "0-16",
          "0-17",
          "0-18",
          "0-19",
          "0-20",
          "0-21",
          "0-22",
          "0-23",
          "0-24",
          "0-25",
          "0-26",
          "0-27",
          "0-28",
          "0-29",
          "0-30",
          "0-31",
          "0-32",
          "0-33",
          "0-34",
          "0-35",
          "0-36",
          "0-37",
          "0-38",
          "0-39",
          "0-40",
          "0-41",
          "0-42",
          "0-43",
          "0-44",
          "0-45",
          "0-46",
          "0-47",
          "0-48",
          "0-49",
          "0-50",
          "0-51",
          "0-52",
          "0-53",
          "0-54",
          "0-55",
          "0-56",
          "0-57",
          "0-58",
          "0-59",
          "0-60",
          "0-61",
          "0-62",
          "0-63",
          "0-64",
          "0-65",
          "0-66",
          "0-67",
          "0-68",
          "0-69",
          "0-70",
          "0-71",
          "0-72",
          "0-73",
          "0-74",
          "0-75",
          "0-76",
          "0-77",
          "0-78",
          "0-79",
          "0-80",
          "0-81",
          "0-82",
          "0-83",
          "0-84",
          "0-85",
          "0-86",
          "0-87",
          "0-88",
          "0-89",
          "0-90",
          "0-91",
          "0-92",
          "0-93",
          "0-94",
          "0-95",
          "0-96",
          "0-97",
          "0-98",
          "0-99"
         ],
         "xaxis": "x",
         "y": [
          0.018784160862753807,
          0.06180821687621596,
          0.5398055925713701,
          0.8046830875868355,
          0.8298153757317187,
          0.8338674665102085,
          0.8421611285790698,
          0.8520650813134116,
          0.859940829831464,
          0.8597811080410118,
          0.8846109404932437,
          0.8927602827790063,
          0.8928174683576192,
          0.8847091352056412,
          0.8935267364368513,
          0.9061678453383579,
          0.90640333439008,
          0.9163992076828514,
          0.8962174956307244,
          0.893797113773305,
          0.9020794481258693,
          0.9048491044221272,
          0.9078438777584235,
          0.9157918263303301,
          0.9048818204799253,
          0.9005198279293869,
          0.9004972674467481,
          0.8923329716547269,
          0.8941171451333749,
          0.8939367270695433,
          0.9108707378814767,
          0.9095615416090996,
          0.9144397980257692,
          0.9147477454946864,
          0.9033252466335508,
          0.9013344301680298,
          0.9073735725004105,
          0.9168598374804704,
          0.9163045126510905,
          0.908392168380845,
          0.9054980993801358,
          0.9032830659417604,
          0.9024166050918511,
          0.8991816511050292,
          0.8990463520270716,
          0.875171534403339,
          0.877309456704541,
          0.8734474137488495,
          0.8839218104095301,
          0.8907183785616258,
          0.8922936353783484,
          0.8897874960117824,
          0.8813573518505711,
          0.8810917022366735,
          0.8810006208458813,
          0.881153653390765,
          0.8794683268410233,
          0.8779726627695705,
          0.8801527672802453,
          0.8777518051934295,
          0.8872471531104413,
          0.8753007187014632,
          0.8714488343218236,
          0.873362272153038,
          0.8711218246427578,
          0.8696226081527296,
          0.8644029290284863,
          0.8638083247077517,
          0.8590240823790956,
          0.8594031820820356,
          0.8521933031440788,
          0.8763677119812853,
          0.8634344727000817,
          0.8695648848137081,
          0.8716832394475209,
          0.8743274711498079,
          0.8739964265900807,
          0.8733885173774787,
          0.8575138069763987,
          0.8682374323566686,
          0.8657116501404101,
          0.8807250965909703,
          0.879308192541258,
          0.8789428002243077,
          0.8717350167790892,
          0.8658620931289891,
          0.8655437849238913,
          0.8707843297689977,
          0.8791627277853743,
          0.8717975571771717,
          0.8749907359110232,
          0.8772012933623601,
          0.8750949966379964,
          0.8761162163805882,
          0.8688092494859725,
          0.8719401581998181,
          0.864456973664233,
          0.8667760003143107,
          0.8763858572797107
         ],
         "yaxis": "y"
        }
       ],
       "layout": {
        "legend": {
         "tracegroupgap": 0
        },
        "template": {
         "data": {
          "bar": [
           {
            "error_x": {
             "color": "#2a3f5f"
            },
            "error_y": {
             "color": "#2a3f5f"
            },
            "marker": {
             "line": {
              "color": "#E5ECF6",
              "width": 0.5
             },
             "pattern": {
              "fillmode": "overlay",
              "size": 10,
              "solidity": 0.2
             }
            },
            "type": "bar"
           }
          ],
          "barpolar": [
           {
            "marker": {
             "line": {
              "color": "#E5ECF6",
              "width": 0.5
             },
             "pattern": {
              "fillmode": "overlay",
              "size": 10,
              "solidity": 0.2
             }
            },
            "type": "barpolar"
           }
          ],
          "carpet": [
           {
            "aaxis": {
             "endlinecolor": "#2a3f5f",
             "gridcolor": "white",
             "linecolor": "white",
             "minorgridcolor": "white",
             "startlinecolor": "#2a3f5f"
            },
            "baxis": {
             "endlinecolor": "#2a3f5f",
             "gridcolor": "white",
             "linecolor": "white",
             "minorgridcolor": "white",
             "startlinecolor": "#2a3f5f"
            },
            "type": "carpet"
           }
          ],
          "choropleth": [
           {
            "colorbar": {
             "outlinewidth": 0,
             "ticks": ""
            },
            "type": "choropleth"
           }
          ],
          "contour": [
           {
            "colorbar": {
             "outlinewidth": 0,
             "ticks": ""
            },
            "colorscale": [
             [
              0,
              "#0d0887"
             ],
             [
              0.1111111111111111,
              "#46039f"
             ],
             [
              0.2222222222222222,
              "#7201a8"
             ],
             [
              0.3333333333333333,
              "#9c179e"
             ],
             [
              0.4444444444444444,
              "#bd3786"
             ],
             [
              0.5555555555555556,
              "#d8576b"
             ],
             [
              0.6666666666666666,
              "#ed7953"
             ],
             [
              0.7777777777777778,
              "#fb9f3a"
             ],
             [
              0.8888888888888888,
              "#fdca26"
             ],
             [
              1,
              "#f0f921"
             ]
            ],
            "type": "contour"
           }
          ],
          "contourcarpet": [
           {
            "colorbar": {
             "outlinewidth": 0,
             "ticks": ""
            },
            "type": "contourcarpet"
           }
          ],
          "heatmap": [
           {
            "colorbar": {
             "outlinewidth": 0,
             "ticks": ""
            },
            "colorscale": [
             [
              0,
              "#0d0887"
             ],
             [
              0.1111111111111111,
              "#46039f"
             ],
             [
              0.2222222222222222,
              "#7201a8"
             ],
             [
              0.3333333333333333,
              "#9c179e"
             ],
             [
              0.4444444444444444,
              "#bd3786"
             ],
             [
              0.5555555555555556,
              "#d8576b"
             ],
             [
              0.6666666666666666,
              "#ed7953"
             ],
             [
              0.7777777777777778,
              "#fb9f3a"
             ],
             [
              0.8888888888888888,
              "#fdca26"
             ],
             [
              1,
              "#f0f921"
             ]
            ],
            "type": "heatmap"
           }
          ],
          "heatmapgl": [
           {
            "colorbar": {
             "outlinewidth": 0,
             "ticks": ""
            },
            "colorscale": [
             [
              0,
              "#0d0887"
             ],
             [
              0.1111111111111111,
              "#46039f"
             ],
             [
              0.2222222222222222,
              "#7201a8"
             ],
             [
              0.3333333333333333,
              "#9c179e"
             ],
             [
              0.4444444444444444,
              "#bd3786"
             ],
             [
              0.5555555555555556,
              "#d8576b"
             ],
             [
              0.6666666666666666,
              "#ed7953"
             ],
             [
              0.7777777777777778,
              "#fb9f3a"
             ],
             [
              0.8888888888888888,
              "#fdca26"
             ],
             [
              1,
              "#f0f921"
             ]
            ],
            "type": "heatmapgl"
           }
          ],
          "histogram": [
           {
            "marker": {
             "pattern": {
              "fillmode": "overlay",
              "size": 10,
              "solidity": 0.2
             }
            },
            "type": "histogram"
           }
          ],
          "histogram2d": [
           {
            "colorbar": {
             "outlinewidth": 0,
             "ticks": ""
            },
            "colorscale": [
             [
              0,
              "#0d0887"
             ],
             [
              0.1111111111111111,
              "#46039f"
             ],
             [
              0.2222222222222222,
              "#7201a8"
             ],
             [
              0.3333333333333333,
              "#9c179e"
             ],
             [
              0.4444444444444444,
              "#bd3786"
             ],
             [
              0.5555555555555556,
              "#d8576b"
             ],
             [
              0.6666666666666666,
              "#ed7953"
             ],
             [
              0.7777777777777778,
              "#fb9f3a"
             ],
             [
              0.8888888888888888,
              "#fdca26"
             ],
             [
              1,
              "#f0f921"
             ]
            ],
            "type": "histogram2d"
           }
          ],
          "histogram2dcontour": [
           {
            "colorbar": {
             "outlinewidth": 0,
             "ticks": ""
            },
            "colorscale": [
             [
              0,
              "#0d0887"
             ],
             [
              0.1111111111111111,
              "#46039f"
             ],
             [
              0.2222222222222222,
              "#7201a8"
             ],
             [
              0.3333333333333333,
              "#9c179e"
             ],
             [
              0.4444444444444444,
              "#bd3786"
             ],
             [
              0.5555555555555556,
              "#d8576b"
             ],
             [
              0.6666666666666666,
              "#ed7953"
             ],
             [
              0.7777777777777778,
              "#fb9f3a"
             ],
             [
              0.8888888888888888,
              "#fdca26"
             ],
             [
              1,
              "#f0f921"
             ]
            ],
            "type": "histogram2dcontour"
           }
          ],
          "mesh3d": [
           {
            "colorbar": {
             "outlinewidth": 0,
             "ticks": ""
            },
            "type": "mesh3d"
           }
          ],
          "parcoords": [
           {
            "line": {
             "colorbar": {
              "outlinewidth": 0,
              "ticks": ""
             }
            },
            "type": "parcoords"
           }
          ],
          "pie": [
           {
            "automargin": true,
            "type": "pie"
           }
          ],
          "scatter": [
           {
            "marker": {
             "colorbar": {
              "outlinewidth": 0,
              "ticks": ""
             }
            },
            "type": "scatter"
           }
          ],
          "scatter3d": [
           {
            "line": {
             "colorbar": {
              "outlinewidth": 0,
              "ticks": ""
             }
            },
            "marker": {
             "colorbar": {
              "outlinewidth": 0,
              "ticks": ""
             }
            },
            "type": "scatter3d"
           }
          ],
          "scattercarpet": [
           {
            "marker": {
             "colorbar": {
              "outlinewidth": 0,
              "ticks": ""
             }
            },
            "type": "scattercarpet"
           }
          ],
          "scattergeo": [
           {
            "marker": {
             "colorbar": {
              "outlinewidth": 0,
              "ticks": ""
             }
            },
            "type": "scattergeo"
           }
          ],
          "scattergl": [
           {
            "marker": {
             "colorbar": {
              "outlinewidth": 0,
              "ticks": ""
             }
            },
            "type": "scattergl"
           }
          ],
          "scattermapbox": [
           {
            "marker": {
             "colorbar": {
              "outlinewidth": 0,
              "ticks": ""
             }
            },
            "type": "scattermapbox"
           }
          ],
          "scatterpolar": [
           {
            "marker": {
             "colorbar": {
              "outlinewidth": 0,
              "ticks": ""
             }
            },
            "type": "scatterpolar"
           }
          ],
          "scatterpolargl": [
           {
            "marker": {
             "colorbar": {
              "outlinewidth": 0,
              "ticks": ""
             }
            },
            "type": "scatterpolargl"
           }
          ],
          "scatterternary": [
           {
            "marker": {
             "colorbar": {
              "outlinewidth": 0,
              "ticks": ""
             }
            },
            "type": "scatterternary"
           }
          ],
          "surface": [
           {
            "colorbar": {
             "outlinewidth": 0,
             "ticks": ""
            },
            "colorscale": [
             [
              0,
              "#0d0887"
             ],
             [
              0.1111111111111111,
              "#46039f"
             ],
             [
              0.2222222222222222,
              "#7201a8"
             ],
             [
              0.3333333333333333,
              "#9c179e"
             ],
             [
              0.4444444444444444,
              "#bd3786"
             ],
             [
              0.5555555555555556,
              "#d8576b"
             ],
             [
              0.6666666666666666,
              "#ed7953"
             ],
             [
              0.7777777777777778,
              "#fb9f3a"
             ],
             [
              0.8888888888888888,
              "#fdca26"
             ],
             [
              1,
              "#f0f921"
             ]
            ],
            "type": "surface"
           }
          ],
          "table": [
           {
            "cells": {
             "fill": {
              "color": "#EBF0F8"
             },
             "line": {
              "color": "white"
             }
            },
            "header": {
             "fill": {
              "color": "#C8D4E3"
             },
             "line": {
              "color": "white"
             }
            },
            "type": "table"
           }
          ]
         },
         "layout": {
          "annotationdefaults": {
           "arrowcolor": "#2a3f5f",
           "arrowhead": 0,
           "arrowwidth": 1
          },
          "autotypenumbers": "strict",
          "coloraxis": {
           "colorbar": {
            "outlinewidth": 0,
            "ticks": ""
           }
          },
          "colorscale": {
           "diverging": [
            [
             0,
             "#8e0152"
            ],
            [
             0.1,
             "#c51b7d"
            ],
            [
             0.2,
             "#de77ae"
            ],
            [
             0.3,
             "#f1b6da"
            ],
            [
             0.4,
             "#fde0ef"
            ],
            [
             0.5,
             "#f7f7f7"
            ],
            [
             0.6,
             "#e6f5d0"
            ],
            [
             0.7,
             "#b8e186"
            ],
            [
             0.8,
             "#7fbc41"
            ],
            [
             0.9,
             "#4d9221"
            ],
            [
             1,
             "#276419"
            ]
           ],
           "sequential": [
            [
             0,
             "#0d0887"
            ],
            [
             0.1111111111111111,
             "#46039f"
            ],
            [
             0.2222222222222222,
             "#7201a8"
            ],
            [
             0.3333333333333333,
             "#9c179e"
            ],
            [
             0.4444444444444444,
             "#bd3786"
            ],
            [
             0.5555555555555556,
             "#d8576b"
            ],
            [
             0.6666666666666666,
             "#ed7953"
            ],
            [
             0.7777777777777778,
             "#fb9f3a"
            ],
            [
             0.8888888888888888,
             "#fdca26"
            ],
            [
             1,
             "#f0f921"
            ]
           ],
           "sequentialminus": [
            [
             0,
             "#0d0887"
            ],
            [
             0.1111111111111111,
             "#46039f"
            ],
            [
             0.2222222222222222,
             "#7201a8"
            ],
            [
             0.3333333333333333,
             "#9c179e"
            ],
            [
             0.4444444444444444,
             "#bd3786"
            ],
            [
             0.5555555555555556,
             "#d8576b"
            ],
            [
             0.6666666666666666,
             "#ed7953"
            ],
            [
             0.7777777777777778,
             "#fb9f3a"
            ],
            [
             0.8888888888888888,
             "#fdca26"
            ],
            [
             1,
             "#f0f921"
            ]
           ]
          },
          "colorway": [
           "#636efa",
           "#EF553B",
           "#00cc96",
           "#ab63fa",
           "#FFA15A",
           "#19d3f3",
           "#FF6692",
           "#B6E880",
           "#FF97FF",
           "#FECB52"
          ],
          "font": {
           "color": "#2a3f5f"
          },
          "geo": {
           "bgcolor": "white",
           "lakecolor": "white",
           "landcolor": "#E5ECF6",
           "showlakes": true,
           "showland": true,
           "subunitcolor": "white"
          },
          "hoverlabel": {
           "align": "left"
          },
          "hovermode": "closest",
          "mapbox": {
           "style": "light"
          },
          "paper_bgcolor": "white",
          "plot_bgcolor": "#E5ECF6",
          "polar": {
           "angularaxis": {
            "gridcolor": "white",
            "linecolor": "white",
            "ticks": ""
           },
           "bgcolor": "#E5ECF6",
           "radialaxis": {
            "gridcolor": "white",
            "linecolor": "white",
            "ticks": ""
           }
          },
          "scene": {
           "xaxis": {
            "backgroundcolor": "#E5ECF6",
            "gridcolor": "white",
            "gridwidth": 2,
            "linecolor": "white",
            "showbackground": true,
            "ticks": "",
            "zerolinecolor": "white"
           },
           "yaxis": {
            "backgroundcolor": "#E5ECF6",
            "gridcolor": "white",
            "gridwidth": 2,
            "linecolor": "white",
            "showbackground": true,
            "ticks": "",
            "zerolinecolor": "white"
           },
           "zaxis": {
            "backgroundcolor": "#E5ECF6",
            "gridcolor": "white",
            "gridwidth": 2,
            "linecolor": "white",
            "showbackground": true,
            "ticks": "",
            "zerolinecolor": "white"
           }
          },
          "shapedefaults": {
           "line": {
            "color": "#2a3f5f"
           }
          },
          "ternary": {
           "aaxis": {
            "gridcolor": "white",
            "linecolor": "white",
            "ticks": ""
           },
           "baxis": {
            "gridcolor": "white",
            "linecolor": "white",
            "ticks": ""
           },
           "bgcolor": "#E5ECF6",
           "caxis": {
            "gridcolor": "white",
            "linecolor": "white",
            "ticks": ""
           }
          },
          "title": {
           "x": 0.05
          },
          "xaxis": {
           "automargin": true,
           "gridcolor": "white",
           "linecolor": "white",
           "ticks": "",
           "title": {
            "standoff": 15
           },
           "zerolinecolor": "white",
           "zerolinewidth": 2
          },
          "yaxis": {
           "automargin": true,
           "gridcolor": "white",
           "linecolor": "white",
           "ticks": "",
           "title": {
            "standoff": 15
           },
           "zerolinecolor": "white",
           "zerolinewidth": 2
          }
         }
        },
        "title": {
         "text": "figure 11: <b>LinearRegression using PCA - r2 score as a function of the number of p.c. taken into account </b><br><i>(Components were computed using the SVD decomposition on the covariance matrix - train subset)</i>"
        },
        "xaxis": {
         "anchor": "y",
         "domain": [
          0,
          1
         ],
         "title": {
          "text": "components"
         }
        },
        "yaxis": {
         "anchor": "x",
         "domain": [
          0,
          1
         ],
         "title": {
          "text": "r2"
         }
        }
       }
      }
     },
     "metadata": {},
     "output_type": "display_data"
    },
    {
     "data": {
      "application/vnd.plotly.v1+json": {
       "config": {
        "plotlyServerURL": "https://plot.ly"
       },
       "data": [
        {
         "hovertemplate": "components=%{x}<br>r2=%{y}<extra></extra>",
         "legendgroup": "",
         "line": {
          "color": "#636efa",
          "dash": "solid"
         },
         "marker": {
          "symbol": "circle"
         },
         "mode": "markers+lines",
         "name": "",
         "orientation": "v",
         "showlegend": false,
         "type": "scatter",
         "x": [
          "0-4",
          "0-5",
          "0-6",
          "0-7",
          "0-8",
          "0-9",
          "0-10",
          "0-11",
          "0-12",
          "0-13",
          "0-14",
          "0-15",
          "0-16",
          "0-17",
          "0-18",
          "0-19",
          "0-20",
          "0-21",
          "0-22",
          "0-23",
          "0-24",
          "0-25",
          "0-26",
          "0-27",
          "0-28",
          "0-29",
          "0-30",
          "0-31",
          "0-32",
          "0-33",
          "0-34",
          "0-35",
          "0-36",
          "0-37",
          "0-38",
          "0-39",
          "0-40",
          "0-41",
          "0-42",
          "0-43",
          "0-44",
          "0-45",
          "0-46",
          "0-47",
          "0-48",
          "0-49",
          "0-50",
          "0-51",
          "0-52",
          "0-53",
          "0-54",
          "0-55",
          "0-56",
          "0-57",
          "0-58",
          "0-59",
          "0-60",
          "0-61",
          "0-62",
          "0-63",
          "0-64",
          "0-65",
          "0-66",
          "0-67",
          "0-68",
          "0-69",
          "0-70",
          "0-71",
          "0-72",
          "0-73",
          "0-74",
          "0-75",
          "0-76",
          "0-77",
          "0-78",
          "0-79",
          "0-80",
          "0-81",
          "0-82",
          "0-83",
          "0-84",
          "0-85",
          "0-86",
          "0-87",
          "0-88",
          "0-89",
          "0-90",
          "0-91",
          "0-92",
          "0-93",
          "0-94",
          "0-95",
          "0-96",
          "0-97",
          "0-98",
          "0-99"
         ],
         "xaxis": "x",
         "y": [
          0.8046830875868355,
          0.8298153757317187,
          0.8338674665102085,
          0.8421611285790698,
          0.8520650813134116,
          0.859940829831464,
          0.8597811080410118,
          0.8846109404932437,
          0.8927602827790063,
          0.8928174683576192,
          0.8847091352056412,
          0.8935267364368513,
          0.9061678453383579,
          0.90640333439008,
          0.9163992076828514,
          0.8962174956307244,
          0.893797113773305,
          0.9020794481258693,
          0.9048491044221272,
          0.9078438777584235,
          0.9157918263303301,
          0.9048818204799253,
          0.9005198279293869,
          0.9004972674467481,
          0.8923329716547269,
          0.8941171451333749,
          0.8939367270695433,
          0.9108707378814767,
          0.9095615416090996,
          0.9144397980257692,
          0.9147477454946864,
          0.9033252466335508,
          0.9013344301680298,
          0.9073735725004105,
          0.9168598374804704,
          0.9163045126510905,
          0.908392168380845,
          0.9054980993801358,
          0.9032830659417604,
          0.9024166050918511,
          0.8991816511050292,
          0.8990463520270716,
          0.875171534403339,
          0.877309456704541,
          0.8734474137488495,
          0.8839218104095301,
          0.8907183785616258,
          0.8922936353783484,
          0.8897874960117824,
          0.8813573518505711,
          0.8810917022366735,
          0.8810006208458813,
          0.881153653390765,
          0.8794683268410233,
          0.8779726627695705,
          0.8801527672802453,
          0.8777518051934295,
          0.8872471531104413,
          0.8753007187014632,
          0.8714488343218236,
          0.873362272153038,
          0.8711218246427578,
          0.8696226081527296,
          0.8644029290284863,
          0.8638083247077517,
          0.8590240823790956,
          0.8594031820820356,
          0.8521933031440788,
          0.8763677119812853,
          0.8634344727000817,
          0.8695648848137081,
          0.8716832394475209,
          0.8743274711498079,
          0.8739964265900807,
          0.8733885173774787,
          0.8575138069763987,
          0.8682374323566686,
          0.8657116501404101,
          0.8807250965909703,
          0.879308192541258,
          0.8789428002243077,
          0.8717350167790892,
          0.8658620931289891,
          0.8655437849238913,
          0.8707843297689977,
          0.8791627277853743,
          0.8717975571771717,
          0.8749907359110232,
          0.8772012933623601,
          0.8750949966379964,
          0.8761162163805882,
          0.8688092494859725,
          0.8719401581998181,
          0.864456973664233,
          0.8667760003143107,
          0.8763858572797107
         ],
         "yaxis": "y"
        }
       ],
       "layout": {
        "legend": {
         "tracegroupgap": 0
        },
        "shapes": [
         {
          "line": {
           "color": "gray",
           "dash": "dash",
           "width": 2
          },
          "type": "line",
          "x0": "0-38",
          "x1": "0-38",
          "xref": "x",
          "y0": 0,
          "y1": 1,
          "yref": "y domain"
         },
         {
          "line": {
           "color": "gray",
           "dash": "dash",
           "width": 2
          },
          "type": "line",
          "x0": 0,
          "x1": 1,
          "xref": "x domain",
          "y0": 0.9168598374804704,
          "y1": 0.9168598374804704,
          "yref": "y"
         }
        ],
        "template": {
         "data": {
          "bar": [
           {
            "error_x": {
             "color": "#2a3f5f"
            },
            "error_y": {
             "color": "#2a3f5f"
            },
            "marker": {
             "line": {
              "color": "#E5ECF6",
              "width": 0.5
             },
             "pattern": {
              "fillmode": "overlay",
              "size": 10,
              "solidity": 0.2
             }
            },
            "type": "bar"
           }
          ],
          "barpolar": [
           {
            "marker": {
             "line": {
              "color": "#E5ECF6",
              "width": 0.5
             },
             "pattern": {
              "fillmode": "overlay",
              "size": 10,
              "solidity": 0.2
             }
            },
            "type": "barpolar"
           }
          ],
          "carpet": [
           {
            "aaxis": {
             "endlinecolor": "#2a3f5f",
             "gridcolor": "white",
             "linecolor": "white",
             "minorgridcolor": "white",
             "startlinecolor": "#2a3f5f"
            },
            "baxis": {
             "endlinecolor": "#2a3f5f",
             "gridcolor": "white",
             "linecolor": "white",
             "minorgridcolor": "white",
             "startlinecolor": "#2a3f5f"
            },
            "type": "carpet"
           }
          ],
          "choropleth": [
           {
            "colorbar": {
             "outlinewidth": 0,
             "ticks": ""
            },
            "type": "choropleth"
           }
          ],
          "contour": [
           {
            "colorbar": {
             "outlinewidth": 0,
             "ticks": ""
            },
            "colorscale": [
             [
              0,
              "#0d0887"
             ],
             [
              0.1111111111111111,
              "#46039f"
             ],
             [
              0.2222222222222222,
              "#7201a8"
             ],
             [
              0.3333333333333333,
              "#9c179e"
             ],
             [
              0.4444444444444444,
              "#bd3786"
             ],
             [
              0.5555555555555556,
              "#d8576b"
             ],
             [
              0.6666666666666666,
              "#ed7953"
             ],
             [
              0.7777777777777778,
              "#fb9f3a"
             ],
             [
              0.8888888888888888,
              "#fdca26"
             ],
             [
              1,
              "#f0f921"
             ]
            ],
            "type": "contour"
           }
          ],
          "contourcarpet": [
           {
            "colorbar": {
             "outlinewidth": 0,
             "ticks": ""
            },
            "type": "contourcarpet"
           }
          ],
          "heatmap": [
           {
            "colorbar": {
             "outlinewidth": 0,
             "ticks": ""
            },
            "colorscale": [
             [
              0,
              "#0d0887"
             ],
             [
              0.1111111111111111,
              "#46039f"
             ],
             [
              0.2222222222222222,
              "#7201a8"
             ],
             [
              0.3333333333333333,
              "#9c179e"
             ],
             [
              0.4444444444444444,
              "#bd3786"
             ],
             [
              0.5555555555555556,
              "#d8576b"
             ],
             [
              0.6666666666666666,
              "#ed7953"
             ],
             [
              0.7777777777777778,
              "#fb9f3a"
             ],
             [
              0.8888888888888888,
              "#fdca26"
             ],
             [
              1,
              "#f0f921"
             ]
            ],
            "type": "heatmap"
           }
          ],
          "heatmapgl": [
           {
            "colorbar": {
             "outlinewidth": 0,
             "ticks": ""
            },
            "colorscale": [
             [
              0,
              "#0d0887"
             ],
             [
              0.1111111111111111,
              "#46039f"
             ],
             [
              0.2222222222222222,
              "#7201a8"
             ],
             [
              0.3333333333333333,
              "#9c179e"
             ],
             [
              0.4444444444444444,
              "#bd3786"
             ],
             [
              0.5555555555555556,
              "#d8576b"
             ],
             [
              0.6666666666666666,
              "#ed7953"
             ],
             [
              0.7777777777777778,
              "#fb9f3a"
             ],
             [
              0.8888888888888888,
              "#fdca26"
             ],
             [
              1,
              "#f0f921"
             ]
            ],
            "type": "heatmapgl"
           }
          ],
          "histogram": [
           {
            "marker": {
             "pattern": {
              "fillmode": "overlay",
              "size": 10,
              "solidity": 0.2
             }
            },
            "type": "histogram"
           }
          ],
          "histogram2d": [
           {
            "colorbar": {
             "outlinewidth": 0,
             "ticks": ""
            },
            "colorscale": [
             [
              0,
              "#0d0887"
             ],
             [
              0.1111111111111111,
              "#46039f"
             ],
             [
              0.2222222222222222,
              "#7201a8"
             ],
             [
              0.3333333333333333,
              "#9c179e"
             ],
             [
              0.4444444444444444,
              "#bd3786"
             ],
             [
              0.5555555555555556,
              "#d8576b"
             ],
             [
              0.6666666666666666,
              "#ed7953"
             ],
             [
              0.7777777777777778,
              "#fb9f3a"
             ],
             [
              0.8888888888888888,
              "#fdca26"
             ],
             [
              1,
              "#f0f921"
             ]
            ],
            "type": "histogram2d"
           }
          ],
          "histogram2dcontour": [
           {
            "colorbar": {
             "outlinewidth": 0,
             "ticks": ""
            },
            "colorscale": [
             [
              0,
              "#0d0887"
             ],
             [
              0.1111111111111111,
              "#46039f"
             ],
             [
              0.2222222222222222,
              "#7201a8"
             ],
             [
              0.3333333333333333,
              "#9c179e"
             ],
             [
              0.4444444444444444,
              "#bd3786"
             ],
             [
              0.5555555555555556,
              "#d8576b"
             ],
             [
              0.6666666666666666,
              "#ed7953"
             ],
             [
              0.7777777777777778,
              "#fb9f3a"
             ],
             [
              0.8888888888888888,
              "#fdca26"
             ],
             [
              1,
              "#f0f921"
             ]
            ],
            "type": "histogram2dcontour"
           }
          ],
          "mesh3d": [
           {
            "colorbar": {
             "outlinewidth": 0,
             "ticks": ""
            },
            "type": "mesh3d"
           }
          ],
          "parcoords": [
           {
            "line": {
             "colorbar": {
              "outlinewidth": 0,
              "ticks": ""
             }
            },
            "type": "parcoords"
           }
          ],
          "pie": [
           {
            "automargin": true,
            "type": "pie"
           }
          ],
          "scatter": [
           {
            "marker": {
             "colorbar": {
              "outlinewidth": 0,
              "ticks": ""
             }
            },
            "type": "scatter"
           }
          ],
          "scatter3d": [
           {
            "line": {
             "colorbar": {
              "outlinewidth": 0,
              "ticks": ""
             }
            },
            "marker": {
             "colorbar": {
              "outlinewidth": 0,
              "ticks": ""
             }
            },
            "type": "scatter3d"
           }
          ],
          "scattercarpet": [
           {
            "marker": {
             "colorbar": {
              "outlinewidth": 0,
              "ticks": ""
             }
            },
            "type": "scattercarpet"
           }
          ],
          "scattergeo": [
           {
            "marker": {
             "colorbar": {
              "outlinewidth": 0,
              "ticks": ""
             }
            },
            "type": "scattergeo"
           }
          ],
          "scattergl": [
           {
            "marker": {
             "colorbar": {
              "outlinewidth": 0,
              "ticks": ""
             }
            },
            "type": "scattergl"
           }
          ],
          "scattermapbox": [
           {
            "marker": {
             "colorbar": {
              "outlinewidth": 0,
              "ticks": ""
             }
            },
            "type": "scattermapbox"
           }
          ],
          "scatterpolar": [
           {
            "marker": {
             "colorbar": {
              "outlinewidth": 0,
              "ticks": ""
             }
            },
            "type": "scatterpolar"
           }
          ],
          "scatterpolargl": [
           {
            "marker": {
             "colorbar": {
              "outlinewidth": 0,
              "ticks": ""
             }
            },
            "type": "scatterpolargl"
           }
          ],
          "scatterternary": [
           {
            "marker": {
             "colorbar": {
              "outlinewidth": 0,
              "ticks": ""
             }
            },
            "type": "scatterternary"
           }
          ],
          "surface": [
           {
            "colorbar": {
             "outlinewidth": 0,
             "ticks": ""
            },
            "colorscale": [
             [
              0,
              "#0d0887"
             ],
             [
              0.1111111111111111,
              "#46039f"
             ],
             [
              0.2222222222222222,
              "#7201a8"
             ],
             [
              0.3333333333333333,
              "#9c179e"
             ],
             [
              0.4444444444444444,
              "#bd3786"
             ],
             [
              0.5555555555555556,
              "#d8576b"
             ],
             [
              0.6666666666666666,
              "#ed7953"
             ],
             [
              0.7777777777777778,
              "#fb9f3a"
             ],
             [
              0.8888888888888888,
              "#fdca26"
             ],
             [
              1,
              "#f0f921"
             ]
            ],
            "type": "surface"
           }
          ],
          "table": [
           {
            "cells": {
             "fill": {
              "color": "#EBF0F8"
             },
             "line": {
              "color": "white"
             }
            },
            "header": {
             "fill": {
              "color": "#C8D4E3"
             },
             "line": {
              "color": "white"
             }
            },
            "type": "table"
           }
          ]
         },
         "layout": {
          "annotationdefaults": {
           "arrowcolor": "#2a3f5f",
           "arrowhead": 0,
           "arrowwidth": 1
          },
          "autotypenumbers": "strict",
          "coloraxis": {
           "colorbar": {
            "outlinewidth": 0,
            "ticks": ""
           }
          },
          "colorscale": {
           "diverging": [
            [
             0,
             "#8e0152"
            ],
            [
             0.1,
             "#c51b7d"
            ],
            [
             0.2,
             "#de77ae"
            ],
            [
             0.3,
             "#f1b6da"
            ],
            [
             0.4,
             "#fde0ef"
            ],
            [
             0.5,
             "#f7f7f7"
            ],
            [
             0.6,
             "#e6f5d0"
            ],
            [
             0.7,
             "#b8e186"
            ],
            [
             0.8,
             "#7fbc41"
            ],
            [
             0.9,
             "#4d9221"
            ],
            [
             1,
             "#276419"
            ]
           ],
           "sequential": [
            [
             0,
             "#0d0887"
            ],
            [
             0.1111111111111111,
             "#46039f"
            ],
            [
             0.2222222222222222,
             "#7201a8"
            ],
            [
             0.3333333333333333,
             "#9c179e"
            ],
            [
             0.4444444444444444,
             "#bd3786"
            ],
            [
             0.5555555555555556,
             "#d8576b"
            ],
            [
             0.6666666666666666,
             "#ed7953"
            ],
            [
             0.7777777777777778,
             "#fb9f3a"
            ],
            [
             0.8888888888888888,
             "#fdca26"
            ],
            [
             1,
             "#f0f921"
            ]
           ],
           "sequentialminus": [
            [
             0,
             "#0d0887"
            ],
            [
             0.1111111111111111,
             "#46039f"
            ],
            [
             0.2222222222222222,
             "#7201a8"
            ],
            [
             0.3333333333333333,
             "#9c179e"
            ],
            [
             0.4444444444444444,
             "#bd3786"
            ],
            [
             0.5555555555555556,
             "#d8576b"
            ],
            [
             0.6666666666666666,
             "#ed7953"
            ],
            [
             0.7777777777777778,
             "#fb9f3a"
            ],
            [
             0.8888888888888888,
             "#fdca26"
            ],
            [
             1,
             "#f0f921"
            ]
           ]
          },
          "colorway": [
           "#636efa",
           "#EF553B",
           "#00cc96",
           "#ab63fa",
           "#FFA15A",
           "#19d3f3",
           "#FF6692",
           "#B6E880",
           "#FF97FF",
           "#FECB52"
          ],
          "font": {
           "color": "#2a3f5f"
          },
          "geo": {
           "bgcolor": "white",
           "lakecolor": "white",
           "landcolor": "#E5ECF6",
           "showlakes": true,
           "showland": true,
           "subunitcolor": "white"
          },
          "hoverlabel": {
           "align": "left"
          },
          "hovermode": "closest",
          "mapbox": {
           "style": "light"
          },
          "paper_bgcolor": "white",
          "plot_bgcolor": "#E5ECF6",
          "polar": {
           "angularaxis": {
            "gridcolor": "white",
            "linecolor": "white",
            "ticks": ""
           },
           "bgcolor": "#E5ECF6",
           "radialaxis": {
            "gridcolor": "white",
            "linecolor": "white",
            "ticks": ""
           }
          },
          "scene": {
           "xaxis": {
            "backgroundcolor": "#E5ECF6",
            "gridcolor": "white",
            "gridwidth": 2,
            "linecolor": "white",
            "showbackground": true,
            "ticks": "",
            "zerolinecolor": "white"
           },
           "yaxis": {
            "backgroundcolor": "#E5ECF6",
            "gridcolor": "white",
            "gridwidth": 2,
            "linecolor": "white",
            "showbackground": true,
            "ticks": "",
            "zerolinecolor": "white"
           },
           "zaxis": {
            "backgroundcolor": "#E5ECF6",
            "gridcolor": "white",
            "gridwidth": 2,
            "linecolor": "white",
            "showbackground": true,
            "ticks": "",
            "zerolinecolor": "white"
           }
          },
          "shapedefaults": {
           "line": {
            "color": "#2a3f5f"
           }
          },
          "ternary": {
           "aaxis": {
            "gridcolor": "white",
            "linecolor": "white",
            "ticks": ""
           },
           "baxis": {
            "gridcolor": "white",
            "linecolor": "white",
            "ticks": ""
           },
           "bgcolor": "#E5ECF6",
           "caxis": {
            "gridcolor": "white",
            "linecolor": "white",
            "ticks": ""
           }
          },
          "title": {
           "x": 0.05
          },
          "xaxis": {
           "automargin": true,
           "gridcolor": "white",
           "linecolor": "white",
           "ticks": "",
           "title": {
            "standoff": 15
           },
           "zerolinecolor": "white",
           "zerolinewidth": 2
          },
          "yaxis": {
           "automargin": true,
           "gridcolor": "white",
           "linecolor": "white",
           "ticks": "",
           "title": {
            "standoff": 15
           },
           "zerolinecolor": "white",
           "zerolinewidth": 2
          }
         }
        },
        "title": {
         "text": "figure 12 : <b>LinearRegression using PCA - r2 score as a function of the number of p.c. taken into account </b><br><i>(We removed outliers r2 for better visualization : k<5)</i>"
        },
        "xaxis": {
         "anchor": "y",
         "domain": [
          0,
          1
         ],
         "title": {
          "text": "components"
         }
        },
        "yaxis": {
         "anchor": "x",
         "domain": [
          0,
          1
         ],
         "title": {
          "text": "r2"
         }
        }
       }
      }
     },
     "metadata": {},
     "output_type": "display_data"
    }
   ],
   "source": [
    "# Computing r2 scores\n",
    "r2_pca_test = []\n",
    "for i in range(1, x_train_pc.shape[1]):\n",
    "    model = LinearRegression(fit_intercept=True).fit(x_train_pc[:, :i], y_training_data)\n",
    "    r2 = r2_score(y_test_data, model.predict(x_test_pc[:, :i]))\n",
    "    r2_pca_test.append([\"0-\" + str(i), r2, \"test\"])\n",
    "\n",
    "# Converting to DataFrame for plotting\n",
    "df_11 = pd.DataFrame(r2_pca_test, columns=[\"components\", \"r2\", \"subset\"])\n",
    "\n",
    "# Displaying r2 scores\n",
    "fig_11 = px.line(\n",
    "    df_11,\n",
    "    x=\"components\",\n",
    "    y=\"r2\",\n",
    "    markers=True,\n",
    "    title=\"figure 11: <b>LinearRegression using PCA - r2 score as a function of the number of p.c. taken into account </b><br><i>(Components were computed using the SVD decomposition on the covariance matrix - train subset)</i>\",\n",
    ")\n",
    "fig_11.show()\n",
    "\n",
    "## Removing beginning outliers for a better visualization of the maximum\n",
    "df_12 = df_11.tail(df_11.shape[0] - 3)\n",
    "fig_12 = px.line(\n",
    "    df_12,\n",
    "    x=\"components\",\n",
    "    y=\"r2\",\n",
    "    markers=True,\n",
    "    title=\"figure 12 : <b>LinearRegression using PCA - r2 score as a function of the number of p.c. taken into account </b><br><i>(We removed outliers r2 for better visualization : k<5)</i>\",\n",
    ")\n",
    "# Signaling the maximum\n",
    "fig_12.add_vline(x=\"0-38\", line_width=2, line_dash=\"dash\", line_color=\"gray\")\n",
    "fig_12.add_hline(\n",
    "    y=r2_pca_test[37][1], line_width=2, line_dash=\"dash\", line_color=\"gray\"\n",
    ")\n",
    "\n",
    "fig_12.show()"
   ]
  },
  {
   "attachments": {},
   "cell_type": "markdown",
   "metadata": {},
   "source": [
    "We then store the best result in the DataFrame `df_coef`."
   ]
  },
  {
   "cell_type": "code",
   "execution_count": 112,
   "metadata": {},
   "outputs": [
    {
     "data": {
      "text/html": [
       "<div>\n",
       "<style scoped>\n",
       "    .dataframe tbody tr th:only-of-type {\n",
       "        vertical-align: middle;\n",
       "    }\n",
       "\n",
       "    .dataframe tbody tr th {\n",
       "        vertical-align: top;\n",
       "    }\n",
       "\n",
       "    .dataframe thead th {\n",
       "        text-align: right;\n",
       "    }\n",
       "</style>\n",
       "<table border=\"1\" class=\"dataframe\">\n",
       "  <thead>\n",
       "    <tr style=\"text-align: right;\">\n",
       "      <th></th>\n",
       "      <th>model</th>\n",
       "      <th>subset</th>\n",
       "      <th>r2 value</th>\n",
       "    </tr>\n",
       "  </thead>\n",
       "  <tbody>\n",
       "    <tr>\n",
       "      <th>0</th>\n",
       "      <td>Baseline OLS regression</td>\n",
       "      <td>train</td>\n",
       "      <td>0.995789</td>\n",
       "    </tr>\n",
       "    <tr>\n",
       "      <th>1</th>\n",
       "      <td>Baseline OLS regression</td>\n",
       "      <td>test</td>\n",
       "      <td>0.86658</td>\n",
       "    </tr>\n",
       "    <tr>\n",
       "      <th>2</th>\n",
       "      <td>OLS - Forward Variable Selection</td>\n",
       "      <td>train</td>\n",
       "      <td>0.986968</td>\n",
       "    </tr>\n",
       "    <tr>\n",
       "      <th>3</th>\n",
       "      <td>OLS - Forward Variable Selection</td>\n",
       "      <td>test</td>\n",
       "      <td>0.844328</td>\n",
       "    </tr>\n",
       "    <tr>\n",
       "      <th>4</th>\n",
       "      <td>OLS - Sequential Feature Selector</td>\n",
       "      <td>train</td>\n",
       "      <td>0.98803</td>\n",
       "    </tr>\n",
       "    <tr>\n",
       "      <th>5</th>\n",
       "      <td>OLS - Sequential Feature Selector</td>\n",
       "      <td>test</td>\n",
       "      <td>0.86311</td>\n",
       "    </tr>\n",
       "    <tr>\n",
       "      <th>6</th>\n",
       "      <td>Ridge regression</td>\n",
       "      <td>train</td>\n",
       "      <td>0.995741</td>\n",
       "    </tr>\n",
       "    <tr>\n",
       "      <th>7</th>\n",
       "      <td>Ridge regression</td>\n",
       "      <td>test</td>\n",
       "      <td>0.876367</td>\n",
       "    </tr>\n",
       "    <tr>\n",
       "      <th>8</th>\n",
       "      <td>Lasso regression</td>\n",
       "      <td>train</td>\n",
       "      <td>0.882924</td>\n",
       "    </tr>\n",
       "    <tr>\n",
       "      <th>9</th>\n",
       "      <td>Lasso regression</td>\n",
       "      <td>test</td>\n",
       "      <td>0.849252</td>\n",
       "    </tr>\n",
       "    <tr>\n",
       "      <th>10</th>\n",
       "      <td>LinearRegression - PCA</td>\n",
       "      <td>test</td>\n",
       "      <td>0.91686</td>\n",
       "    </tr>\n",
       "  </tbody>\n",
       "</table>\n",
       "</div>"
      ],
      "text/plain": [
       "                                model subset  r2 value\n",
       "0             Baseline OLS regression  train  0.995789\n",
       "1             Baseline OLS regression   test   0.86658\n",
       "2    OLS - Forward Variable Selection  train  0.986968\n",
       "3    OLS - Forward Variable Selection   test  0.844328\n",
       "4   OLS - Sequential Feature Selector  train   0.98803\n",
       "5   OLS - Sequential Feature Selector   test   0.86311\n",
       "6                    Ridge regression  train  0.995741\n",
       "7                    Ridge regression   test  0.876367\n",
       "8                    Lasso regression  train  0.882924\n",
       "9                    Lasso regression   test  0.849252\n",
       "10             LinearRegression - PCA   test   0.91686"
      ]
     },
     "execution_count": 112,
     "metadata": {},
     "output_type": "execute_result"
    }
   ],
   "source": [
    "# Storing the scores in a DataFrame\n",
    "df_coef = df_coef.append(\n",
    "    {\n",
    "        \"r2 value\": r2_pca_test[37][1],\n",
    "        \"model\": \"LinearRegression - PCA\",\n",
    "        \"subset\": \"test\",\n",
    "    },\n",
    "    ignore_index=True,\n",
    ").drop_duplicates()\n",
    "\n",
    "# Printing DataFrame\n",
    "df_coef"
   ]
  },
  {
   "attachments": {},
   "cell_type": "markdown",
   "metadata": {},
   "source": [
    "***\n",
    "## Part 7. Comparison of the models <a class=\"anchor\" id=\"chapter7\"></a>"
   ]
  },
  {
   "attachments": {},
   "cell_type": "markdown",
   "metadata": {},
   "source": [
    "### **Model comparison table - Benefits and Drawbacks**"
   ]
  },
  {
   "attachments": {},
   "cell_type": "markdown",
   "metadata": {},
   "source": [
    "|Model|R2 Test Subset|R2 Train Subset|Benefits|Drawbacks|\n",
    "|---    |:-:    |:-:   |---   |---   |\n",
    "|Baseline OLS regression|<span style=\"color:red\">0.86658</span>|<span style=\"color:green\">0.995789</span>|- Best Unbiased Linear Estimator<br>- Best results on train subset|- Sensitive to outliers<br>- Prone to underfitting<br>- Assumes that the Data is independant|\n",
    "|OLS - Forward Variable Selection|0.986968|<span style=\"color:red\">0.844328</span>|- Eliminates irrelevant variables<br>- Reduces computation time|- Worst results on train subset<br>- Information loss|\n",
    "|OLS - Sequential Feature Selector|0.98803|0.86311|- Eliminates irrelevant variables<br>- Reduces computation time|- Information loss|\n",
    "|Ridge regression|<span style=\"color:green\">0.995741</span>|0.876367|- Tends to avoid over-fitting<br>- Best results on test subset|- Tends to give small but well distributed weights<br>- Increasing overfitting risk when the number of observations is insufficient|\n",
    "|Lasso regression|0.882924|0.849252|- Tends to avoid over-fitting|- Tends to give sparse weights<br>- Increasing overfitting risk when the number of observations is insufficient|\n",
    "|PCA|91.68598|<i>Not calculated</i>|- Removes Correlated Features<br>- Reduces overfitting<br>- 2D visualization|- Information Loss<br>- Variables less interpretable|\n",
    "\n",
    "<span style=\"color:green\">Green</span> : Best r2 score for [train/test] subset ; <span style=\"color:red\">Red</span> : Worst r2 score for [train/test] subset"
   ]
  },
  {
   "attachments": {},
   "cell_type": "markdown",
   "metadata": {},
   "source": [
    "```\n",
    "\n",
    "\n",
    "\n",
    "\n",
    "\n",
    "\n",
    "\n",
    "\n",
    "                          _______\n",
    "                         | ___  o|\n",
    "                         |[_-_]_ |\n",
    "      ______________     |[_____]|\n",
    "     |.------------.|    |[_____]|\n",
    "     || >THE END   ||    |[====o]|\n",
    "     ||            ||    |[_.--_]|\n",
    "     || >THX 4.    ||    |[_____]|\n",
    "     || READING :) ||    |      :|\n",
    "     ||____________||    |      :|\n",
    " .==.|\"\"  ......    |.==.|      :|\n",
    " |::| '-.________.-' |::||      :|\n",
    " |''|  (__________)-.|''||______:|\n",
    " `\"\"`_.............._\\\"\"`______\n",
    "    /:::::::::::'':::\\`;'-.-.  `\\\n",
    "   /::=========.:.-::\"\\ \\ \\--\\   \\\n",
    "   \\`\"\"\"\"\"\"\"\"\"\"\"\"\"\"\"\"`/  \\ \\__)   \\\n",
    "    `\"\"\"\"\"\"\"\"\"\"\"\"\"\"\"\"`    '========'\n",
    "\n",
    "```"
   ]
  }
 ],
 "metadata": {
  "kernelspec": {
   "display_name": "base",
   "language": "python",
   "name": "python3"
  },
  "language_info": {
   "codemirror_mode": {
    "name": "ipython",
    "version": 3
   },
   "file_extension": ".py",
   "mimetype": "text/x-python",
   "name": "python",
   "nbconvert_exporter": "python",
   "pygments_lexer": "ipython3",
   "version": "3.9.12"
  },
  "orig_nbformat": 4,
  "vscode": {
   "interpreter": {
    "hash": "277d713a2869ad522e0f58de96fa3cb2620734b34dd3b3afd7f1966d69d2580f"
   }
  }
 },
 "nbformat": 4,
 "nbformat_minor": 2
}
